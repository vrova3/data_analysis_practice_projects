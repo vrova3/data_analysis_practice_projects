{
 "cells": [
  {
   "cell_type": "markdown",
   "metadata": {},
   "source": [
    "<div style=\"border:solid green 2px; padding: 20px\"> <h1 style=\"color:green; margin-bottom:20px\">Reviewer's comment v1</h1>\n",
    "\n",
    "Hello Roman, my name is Dmitrii. Happy to review your project! 🙌\n",
    "\n",
    "You can find my comments under the heading **«Review»**. I will categorize my comments in green, blue or red boxes like this:\n",
    "\n",
    "<div class=\"alert alert-success\">\n",
    "    <b>Success:</b> if everything is done successfully\n",
    "</div>\n",
    "<div class=\"alert alert-warning\">\n",
    "    <b>Remarks:</b> if I can give some recommendations or ways to improve the project\n",
    "</div>\n",
    "<div class=\"alert alert-danger\">\n",
    "    <b>Needs fixing:</b> if the block requires some corrections. Work can't be accepted with the red comments\n",
    "</div>\n",
    "\n",
    "Please don't remove my comments :) If you have any questions don't hesitate to respond to my comments in a different section. \n",
    "<div class=\"alert alert-info\"> <b>Student comments:</b> For example like this</div>    \n"
   ]
  },
  {
   "cell_type": "markdown",
   "metadata": {},
   "source": [
    "<div style=\"border:solid green 2px; padding: 20px\">\n",
    "<b>Reviewer's comment v1:</b>\n",
    "    \n",
    "<b>Overall Feedback</b> \n",
    "    \n",
    "- Overall you did an outstanding job! I can see that a lot of effort and I really like your reasoning and detailed conclusions on each step. Your project already looks really good and you accomplished impressive results.\n",
    "- No critical issues are left, so your project has been accepted. Congratulations! However, I want to send it back to you in case you have any questions along the way or you want to make additional changes to the project.\n",
    "  \n",
    "And of course, if you have any questions along the way, remember that you can always reach out to your tutor for any clarification.\n",
    "\n",
    "I will wait for you to send me a new version of the project :)\n",
    "\n",
    "    \n",
    "</div>"
   ]
  },
  {
   "cell_type": "markdown",
   "metadata": {},
   "source": [
    "<div class=\"alert alert-info\"> <b>Student comments:</b> Hi Dmitrii! Thank you so much for your feedback and for taking the time to review my project. I really appreciate that! And thanks a lot for all the good tips, indeed I realised I've missed out on a few opportunities to improve some charts, so I've added that to the notebook now. If I may ask, can you please provide an example of an interactive scatter plot with plotly? I was wondering if it could plot many values at once. I've left some comments in the notebook where I made changes. Thanks again! </div>"
   ]
  },
  {
   "cell_type": "markdown",
   "metadata": {},
   "source": [
    "<div style=\"border:solid green 2px; padding: 20px\">\n",
    "<b>Reviewer's comment v2:</b>\n",
    "    \n",
    "<b>Overall Feedback</b> \n",
    "    \n",
    "- Hello Roman!  Thank you for making corrections and improvements in your project.\n",
    "- Now no critical issues left, so your project has been accepted! And I left some examples of interactive scatter plots in plotly below.\n",
    "- To learn further about A/B testing, I can recommend the following articles:\n",
    "  - https://towardsdatascience.com/a-collection-of-a-b-testing-learning-resources-newbie-to-master-6bab1e0d7845 or this cool book \"Trustworthy Online Controlled Experiments: A Practical Guide to A/B Testing\"\n",
    "\n",
    "Please keep up the great work and good luck on the next project! \n",
    "  \n",
    "</div>"
   ]
  },
  {
   "cell_type": "markdown",
   "metadata": {},
   "source": [
    "# Analysing A/B test results"
   ]
  },
  {
   "cell_type": "markdown",
   "metadata": {},
   "source": [
    "For this project, I am an analyst at a big online store. Together with my brilliant colleagues from the marketing department, we've compiled a list of 9 hypotheses that may or may not help us boost revenue. I will prioritise these hypotheses using two frameworks – ICE and RICE – to get a full picture, and try to explain how each list works so my colleagues can understand why the proposed changes should be tested in that order. \n",
    "\n",
    "Finally, after we've picked one and run the A/B test for some time, I'll analyse the available data to see how it's going, which group is doing better, and whether it could finally be a good time to stop the test and determine the winner group and, by extension, to decide which change for our UI or some other feature that we are testing is preferable for the business – or if we can't say for sure because there isn't a meaningful difference between the groups. \n",
    "\n",
    "To do that, I'll need to study the differences in the conversion rate as well as the average order size between the two groups. To aid in my analysis, I'll visualise these metrics in different ways (including displaying the data cumulatively and by way of relative difference) and apply statistical tests to see if the differences (if there are any) are significant.\n",
    "\n",
    "\n",
    "***Description of the data***\n",
    "\n",
    "\n",
    "**Data used in the first part of the project**\n",
    "\n",
    "**The `hypotheses` table:**\n",
    "\n",
    "`Hypotheses` — descriptions of the hypotheses\\\n",
    "`Reach` — user reach, on a scale of one to ten\\\n",
    "`Impact` — impact on users, on a scale of one to ten\\\n",
    "`Confidence` — confidence in the hypothesis, on a scale of one to ten\\\n",
    "`Effort` — the resources required to test a hypothesis, on a scale of one to ten\n",
    "\n",
    "**Data used in the second part of the project**\n",
    "\n",
    "**The `orders` table:**\n",
    "\n",
    "`transactionId` — order identifier\\\n",
    "`visitorId` — user identifier\\\n",
    "`date` — date of the order\\\n",
    "`revenue` — revenue from the order, or order size\\\n",
    "`group` — the A/B test group that the user belongs to\n",
    "\n",
    "**The `visitors` table:**\n",
    "\n",
    "`date` — date (YYYY-MM-DD)\\\n",
    "`group` — A/B test group\\\n",
    "`visits` — the number of visits on a given date in the A/B test group specified"
   ]
  },
  {
   "cell_type": "markdown",
   "metadata": {},
   "source": [
    "<div class=\"alert alert-success\">\n",
    "<b>Reviewer's comment v1:</b>\n",
    "    \n",
    "Great that you added additional information about project tasks. It gives an overview of what you are going to achieve in this project.\n",
    "</div>"
   ]
  },
  {
   "cell_type": "markdown",
   "metadata": {},
   "source": [
    "# Libraries"
   ]
  },
  {
   "cell_type": "code",
   "execution_count": 1,
   "metadata": {},
   "outputs": [],
   "source": [
    "import pandas as pd\n",
    "import numpy as np\n",
    "import matplotlib.pyplot as plt\n",
    "from scipy import stats as st\n",
    "from datetime import datetime"
   ]
  },
  {
   "cell_type": "markdown",
   "metadata": {},
   "source": [
    "I'm also going to use my favourite library for viz 🤺and use the cool command that my last reviewer has shown to me to hide the output"
   ]
  },
  {
   "cell_type": "code",
   "execution_count": 2,
   "metadata": {},
   "outputs": [
    {
     "name": "stdout",
     "output_type": "stream",
     "text": [
      "\r\n",
      "\u001b[1m[\u001b[0m\u001b[34;49mnotice\u001b[0m\u001b[1;39;49m]\u001b[0m\u001b[39;49m A new release of pip available: \u001b[0m\u001b[31;49m22.2.1\u001b[0m\u001b[39;49m -> \u001b[0m\u001b[32;49m22.2.2\u001b[0m\r\n",
      "\u001b[1m[\u001b[0m\u001b[34;49mnotice\u001b[0m\u001b[1;39;49m]\u001b[0m\u001b[39;49m To update, run: \u001b[0m\u001b[32;49mpip install --upgrade pip\u001b[0m\r\n"
     ]
    }
   ],
   "source": [
    "!pip install -qU seaborn=='0.11.0'"
   ]
  },
  {
   "cell_type": "code",
   "execution_count": 3,
   "metadata": {},
   "outputs": [],
   "source": [
    "import seaborn as sns"
   ]
  },
  {
   "cell_type": "code",
   "execution_count": 4,
   "metadata": {},
   "outputs": [
    {
     "data": {
      "text/plain": [
       "'0.12.0'"
      ]
     },
     "execution_count": 4,
     "metadata": {},
     "output_type": "execute_result"
    }
   ],
   "source": [
    "sns.__version__"
   ]
  },
  {
   "cell_type": "markdown",
   "metadata": {},
   "source": [
    "<div class=\"alert alert-success\">\n",
    "<b>Reviewer's comment v1:</b>\n",
    "    \n",
    "Thanks for updating required library. "
   ]
  },
  {
   "cell_type": "markdown",
   "metadata": {},
   "source": [
    "## Prioritising Hypotheses"
   ]
  },
  {
   "cell_type": "markdown",
   "metadata": {},
   "source": [
    "For the first part we don't really need to clean anything as it's a small table which we need to study first:"
   ]
  },
  {
   "cell_type": "code",
   "execution_count": 5,
   "metadata": {},
   "outputs": [],
   "source": [
    "hh = pd.read_csv('/Users/rv/Desktop/practice_datasets/business_decisions_datasets/hypotheses_us.csv', sep = ';')"
   ]
  },
  {
   "cell_type": "code",
   "execution_count": 6,
   "metadata": {},
   "outputs": [
    {
     "data": {
      "text/html": [
       "<div>\n",
       "<style scoped>\n",
       "    .dataframe tbody tr th:only-of-type {\n",
       "        vertical-align: middle;\n",
       "    }\n",
       "\n",
       "    .dataframe tbody tr th {\n",
       "        vertical-align: top;\n",
       "    }\n",
       "\n",
       "    .dataframe thead th {\n",
       "        text-align: right;\n",
       "    }\n",
       "</style>\n",
       "<table border=\"1\" class=\"dataframe\">\n",
       "  <thead>\n",
       "    <tr style=\"text-align: right;\">\n",
       "      <th></th>\n",
       "      <th>Hypothesis</th>\n",
       "      <th>Reach</th>\n",
       "      <th>Impact</th>\n",
       "      <th>Confidence</th>\n",
       "      <th>Effort</th>\n",
       "    </tr>\n",
       "  </thead>\n",
       "  <tbody>\n",
       "    <tr>\n",
       "      <th>0</th>\n",
       "      <td>Add two new channels for attracting traffic. T...</td>\n",
       "      <td>3</td>\n",
       "      <td>10</td>\n",
       "      <td>8</td>\n",
       "      <td>6</td>\n",
       "    </tr>\n",
       "    <tr>\n",
       "      <th>1</th>\n",
       "      <td>Launch your own delivery service. This will sh...</td>\n",
       "      <td>2</td>\n",
       "      <td>5</td>\n",
       "      <td>4</td>\n",
       "      <td>10</td>\n",
       "    </tr>\n",
       "    <tr>\n",
       "      <th>2</th>\n",
       "      <td>Add product recommendation blocks to the store...</td>\n",
       "      <td>8</td>\n",
       "      <td>3</td>\n",
       "      <td>7</td>\n",
       "      <td>3</td>\n",
       "    </tr>\n",
       "    <tr>\n",
       "      <th>3</th>\n",
       "      <td>Change the category structure. This will incre...</td>\n",
       "      <td>8</td>\n",
       "      <td>3</td>\n",
       "      <td>3</td>\n",
       "      <td>8</td>\n",
       "    </tr>\n",
       "    <tr>\n",
       "      <th>4</th>\n",
       "      <td>Change the background color on the main page. ...</td>\n",
       "      <td>3</td>\n",
       "      <td>1</td>\n",
       "      <td>1</td>\n",
       "      <td>1</td>\n",
       "    </tr>\n",
       "    <tr>\n",
       "      <th>5</th>\n",
       "      <td>Add a customer review page. This will increase...</td>\n",
       "      <td>3</td>\n",
       "      <td>2</td>\n",
       "      <td>2</td>\n",
       "      <td>3</td>\n",
       "    </tr>\n",
       "    <tr>\n",
       "      <th>6</th>\n",
       "      <td>Show banners with current offers and sales on ...</td>\n",
       "      <td>5</td>\n",
       "      <td>3</td>\n",
       "      <td>8</td>\n",
       "      <td>3</td>\n",
       "    </tr>\n",
       "    <tr>\n",
       "      <th>7</th>\n",
       "      <td>Add a subscription form to all the main pages....</td>\n",
       "      <td>10</td>\n",
       "      <td>7</td>\n",
       "      <td>8</td>\n",
       "      <td>5</td>\n",
       "    </tr>\n",
       "    <tr>\n",
       "      <th>8</th>\n",
       "      <td>Launch a promotion that gives users discounts ...</td>\n",
       "      <td>1</td>\n",
       "      <td>9</td>\n",
       "      <td>9</td>\n",
       "      <td>5</td>\n",
       "    </tr>\n",
       "  </tbody>\n",
       "</table>\n",
       "</div>"
      ],
      "text/plain": [
       "                                          Hypothesis  Reach  Impact  \\\n",
       "0  Add two new channels for attracting traffic. T...      3      10   \n",
       "1  Launch your own delivery service. This will sh...      2       5   \n",
       "2  Add product recommendation blocks to the store...      8       3   \n",
       "3  Change the category structure. This will incre...      8       3   \n",
       "4  Change the background color on the main page. ...      3       1   \n",
       "5  Add a customer review page. This will increase...      3       2   \n",
       "6  Show banners with current offers and sales on ...      5       3   \n",
       "7  Add a subscription form to all the main pages....     10       7   \n",
       "8  Launch a promotion that gives users discounts ...      1       9   \n",
       "\n",
       "   Confidence  Effort  \n",
       "0           8       6  \n",
       "1           4      10  \n",
       "2           7       3  \n",
       "3           3       8  \n",
       "4           1       1  \n",
       "5           2       3  \n",
       "6           8       3  \n",
       "7           8       5  \n",
       "8           9       5  "
      ]
     },
     "execution_count": 6,
     "metadata": {},
     "output_type": "execute_result"
    }
   ],
   "source": [
    "hh"
   ]
  },
  {
   "cell_type": "markdown",
   "metadata": {},
   "source": [
    "There are our nine beautifully formulated, brilliant hypotheses which we can't read, so let's get a better look:"
   ]
  },
  {
   "cell_type": "code",
   "execution_count": 7,
   "metadata": {},
   "outputs": [
    {
     "name": "stdout",
     "output_type": "stream",
     "text": [
      "1 Add two new channels for attracting traffic. This will bring 30% more users\n",
      "2 Launch your own delivery service. This will shorten delivery time\n",
      "3 Add product recommendation blocks to the store's site. This will increase conversion and average purchase size\n",
      "4 Change the category structure. This will increase conversion since users will find the products they want more quickly\n",
      "5 Change the background color on the main page. This will increase user engagement\n",
      "6 Add a customer review page. This will increase the number of orders\n",
      "7 Show banners with current offers and sales on the main page. This will boost conversion\n",
      "8 Add a subscription form to all the main pages. This will help you compile a mailing list\n",
      "9 Launch a promotion that gives users discounts on their birthdays\n"
     ]
    }
   ],
   "source": [
    "a = 1\n",
    "for x in hh['Hypothesis']:\n",
    "    print(a, x)\n",
    "    a += 1"
   ]
  },
  {
   "cell_type": "markdown",
   "metadata": {},
   "source": [
    "A feast of ideas!"
   ]
  },
  {
   "cell_type": "markdown",
   "metadata": {},
   "source": [
    "### Prioritising by ICE"
   ]
  },
  {
   "cell_type": "markdown",
   "metadata": {},
   "source": [
    "Let's start by prioritising our hypothesis using the ICE framework. This means that we only consider the level of user impact (I), our confidence in the outcomes for the hypothesis (C), and the amount of resources or effort it requires to implement (E).\n",
    "\n",
    "It's simple enough to do, given that these parameters were calculated for each hypothesis in advance, so let's just add a column with ICE score and print out the sorted results."
   ]
  },
  {
   "cell_type": "code",
   "execution_count": 8,
   "metadata": {},
   "outputs": [
    {
     "data": {
      "text/html": [
       "<style type=\"text/css\">\n",
       "#T_02e79 th {\n",
       "  text-align: left;\n",
       "}\n",
       "#T_02e79_row0_col0, #T_02e79_row0_col1, #T_02e79_row1_col0, #T_02e79_row1_col1, #T_02e79_row2_col0, #T_02e79_row2_col1, #T_02e79_row3_col0, #T_02e79_row3_col1, #T_02e79_row4_col0, #T_02e79_row4_col1, #T_02e79_row5_col0, #T_02e79_row5_col1, #T_02e79_row6_col0, #T_02e79_row6_col1, #T_02e79_row7_col0, #T_02e79_row7_col1, #T_02e79_row8_col0, #T_02e79_row8_col1 {\n",
       "  text-align: left;\n",
       "}\n",
       "</style>\n",
       "<table id=\"T_02e79\">\n",
       "  <thead>\n",
       "    <tr>\n",
       "      <th class=\"blank level0\" >&nbsp;</th>\n",
       "      <th id=\"T_02e79_level0_col0\" class=\"col_heading level0 col0\" >Hypothesis</th>\n",
       "      <th id=\"T_02e79_level0_col1\" class=\"col_heading level0 col1\" >ICE</th>\n",
       "    </tr>\n",
       "  </thead>\n",
       "  <tbody>\n",
       "    <tr>\n",
       "      <th id=\"T_02e79_level0_row0\" class=\"row_heading level0 row0\" >8</th>\n",
       "      <td id=\"T_02e79_row0_col0\" class=\"data row0 col0\" >Launch a promotion that gives users discounts on their birthdays</td>\n",
       "      <td id=\"T_02e79_row0_col1\" class=\"data row0 col1\" >16.000000</td>\n",
       "    </tr>\n",
       "    <tr>\n",
       "      <th id=\"T_02e79_level0_row1\" class=\"row_heading level0 row1\" >0</th>\n",
       "      <td id=\"T_02e79_row1_col0\" class=\"data row1 col0\" >Add two new channels for attracting traffic. This will bring 30% more users</td>\n",
       "      <td id=\"T_02e79_row1_col1\" class=\"data row1 col1\" >13.000000</td>\n",
       "    </tr>\n",
       "    <tr>\n",
       "      <th id=\"T_02e79_level0_row2\" class=\"row_heading level0 row2\" >7</th>\n",
       "      <td id=\"T_02e79_row2_col0\" class=\"data row2 col0\" >Add a subscription form to all the main pages. This will help you compile a mailing list</td>\n",
       "      <td id=\"T_02e79_row2_col1\" class=\"data row2 col1\" >11.000000</td>\n",
       "    </tr>\n",
       "    <tr>\n",
       "      <th id=\"T_02e79_level0_row3\" class=\"row_heading level0 row3\" >6</th>\n",
       "      <td id=\"T_02e79_row3_col0\" class=\"data row3 col0\" >Show banners with current offers and sales on the main page. This will boost conversion</td>\n",
       "      <td id=\"T_02e79_row3_col1\" class=\"data row3 col1\" >8.000000</td>\n",
       "    </tr>\n",
       "    <tr>\n",
       "      <th id=\"T_02e79_level0_row4\" class=\"row_heading level0 row4\" >2</th>\n",
       "      <td id=\"T_02e79_row4_col0\" class=\"data row4 col0\" >Add product recommendation blocks to the store's site. This will increase conversion and average purchase size</td>\n",
       "      <td id=\"T_02e79_row4_col1\" class=\"data row4 col1\" >7.000000</td>\n",
       "    </tr>\n",
       "    <tr>\n",
       "      <th id=\"T_02e79_level0_row5\" class=\"row_heading level0 row5\" >1</th>\n",
       "      <td id=\"T_02e79_row5_col0\" class=\"data row5 col0\" >Launch your own delivery service. This will shorten delivery time</td>\n",
       "      <td id=\"T_02e79_row5_col1\" class=\"data row5 col1\" >2.000000</td>\n",
       "    </tr>\n",
       "    <tr>\n",
       "      <th id=\"T_02e79_level0_row6\" class=\"row_heading level0 row6\" >3</th>\n",
       "      <td id=\"T_02e79_row6_col0\" class=\"data row6 col0\" >Change the category structure. This will increase conversion since users will find the products they want more quickly</td>\n",
       "      <td id=\"T_02e79_row6_col1\" class=\"data row6 col1\" >1.000000</td>\n",
       "    </tr>\n",
       "    <tr>\n",
       "      <th id=\"T_02e79_level0_row7\" class=\"row_heading level0 row7\" >4</th>\n",
       "      <td id=\"T_02e79_row7_col0\" class=\"data row7 col0\" >Change the background color on the main page. This will increase user engagement</td>\n",
       "      <td id=\"T_02e79_row7_col1\" class=\"data row7 col1\" >1.000000</td>\n",
       "    </tr>\n",
       "    <tr>\n",
       "      <th id=\"T_02e79_level0_row8\" class=\"row_heading level0 row8\" >5</th>\n",
       "      <td id=\"T_02e79_row8_col0\" class=\"data row8 col0\" >Add a customer review page. This will increase the number of orders</td>\n",
       "      <td id=\"T_02e79_row8_col1\" class=\"data row8 col1\" >1.000000</td>\n",
       "    </tr>\n",
       "  </tbody>\n",
       "</table>\n"
      ],
      "text/plain": [
       "<pandas.io.formats.style.Styler at 0x7fbdb0251df0>"
      ]
     },
     "execution_count": 8,
     "metadata": {},
     "output_type": "execute_result"
    }
   ],
   "source": [
    "hh['ICE'] = round((hh['Impact'] * hh['Confidence']) / hh['Effort'])\n",
    "\n",
    "h_by_ICE = hh[['Hypothesis', 'ICE']].sort_values(by = 'ICE', ascending = False)\n",
    "\n",
    "pd.options.display.max_colwidth = 210\n",
    "\n",
    "h_by_ICE.style.set_properties(**{'text-align': 'left'}).set_table_styles([dict(selector='th', props=[('text-align', 'left')])])"
   ]
  },
  {
   "cell_type": "markdown",
   "metadata": {},
   "source": [
    "<div class=\"alert alert-block alert-warning\">\n",
    "<b>Reviewer's comment v1:</b>\n",
    "    \n",
    "You can drop print() method, as Jupyter Notebook shows correct output by default.\n",
    "    \n",
    "Also you can add the following code to show all data in the table above: \n",
    "    \n",
    "    pd.options.display.max_colwidth = 210"
   ]
  },
  {
   "cell_type": "markdown",
   "metadata": {},
   "source": [
    "<div class=\"alert alert-info\"> <b>Student comments:</b> Of course 👌 </div>   "
   ]
  },
  {
   "cell_type": "markdown",
   "metadata": {},
   "source": [
    "<div class=\"alert alert-success\">\n",
    "<b>Reviewer's comment v2:</b>\n",
    "    \n",
    "Looks nice and we can read the full hypothesis name. \n",
    "</div>"
   ]
  },
  {
   "cell_type": "markdown",
   "metadata": {},
   "source": [
    "So we see that we should attempt to test the hypothesis that was last on the original list, first! That's because, according to our prior measurements, launching this promotion is definitely going to impact our users and therefore our revenue positively, and we have a high degree of confidence in that. On top of that, it's not the most difficult thing to implement (5 on a scale of 10). The other two front-runners are adding new traffic channels and adding a subscription form to collect users' email addresses. "
   ]
  },
  {
   "cell_type": "markdown",
   "metadata": {},
   "source": [
    "Let's see if our order of priority changes when we take into account the Reach factor (R): everything else stays the same, but in addition to the level of impact on our users, we also take into account how many users will be affected by the change:"
   ]
  },
  {
   "cell_type": "markdown",
   "metadata": {},
   "source": [
    "### Prioritising by RICE"
   ]
  },
  {
   "cell_type": "code",
   "execution_count": 9,
   "metadata": {
    "scrolled": true
   },
   "outputs": [
    {
     "name": "stderr",
     "output_type": "stream",
     "text": [
      "/var/folders/1g/s3zdmnjx7gsfvmjbw229rc7w0000gn/T/ipykernel_30334/3864864802.py:5: SettingWithCopyWarning: \n",
      "A value is trying to be set on a copy of a slice from a DataFrame.\n",
      "Try using .loc[row_indexer,col_indexer] = value instead\n",
      "\n",
      "See the caveats in the documentation: https://pandas.pydata.org/pandas-docs/stable/user_guide/indexing.html#returning-a-view-versus-a-copy\n",
      "  h_by_RICE['H_n'] = pd.Series(['H1', 'H2', 'H3', 'H4', 'H5', 'H6', 'H7', 'H8', 'H9'])\n"
     ]
    },
    {
     "data": {
      "text/html": [
       "<style type=\"text/css\">\n",
       "#T_2a1da th {\n",
       "  text-align: left;\n",
       "}\n",
       "#T_2a1da_row0_col0, #T_2a1da_row0_col1, #T_2a1da_row0_col2, #T_2a1da_row1_col0, #T_2a1da_row1_col1, #T_2a1da_row1_col2, #T_2a1da_row2_col0, #T_2a1da_row2_col1, #T_2a1da_row2_col2, #T_2a1da_row3_col0, #T_2a1da_row3_col1, #T_2a1da_row3_col2, #T_2a1da_row4_col0, #T_2a1da_row4_col1, #T_2a1da_row4_col2, #T_2a1da_row5_col0, #T_2a1da_row5_col1, #T_2a1da_row5_col2, #T_2a1da_row6_col0, #T_2a1da_row6_col1, #T_2a1da_row6_col2, #T_2a1da_row7_col0, #T_2a1da_row7_col1, #T_2a1da_row7_col2, #T_2a1da_row8_col0, #T_2a1da_row8_col1, #T_2a1da_row8_col2 {\n",
       "  text-align: left;\n",
       "}\n",
       "</style>\n",
       "<table id=\"T_2a1da\">\n",
       "  <thead>\n",
       "    <tr>\n",
       "      <th class=\"blank level0\" >&nbsp;</th>\n",
       "      <th id=\"T_2a1da_level0_col0\" class=\"col_heading level0 col0\" >Hypothesis</th>\n",
       "      <th id=\"T_2a1da_level0_col1\" class=\"col_heading level0 col1\" >RICE</th>\n",
       "      <th id=\"T_2a1da_level0_col2\" class=\"col_heading level0 col2\" >H_n</th>\n",
       "    </tr>\n",
       "  </thead>\n",
       "  <tbody>\n",
       "    <tr>\n",
       "      <th id=\"T_2a1da_level0_row0\" class=\"row_heading level0 row0\" >7</th>\n",
       "      <td id=\"T_2a1da_row0_col0\" class=\"data row0 col0\" >Add a subscription form to all the main pages. This will help you compile a mailing list</td>\n",
       "      <td id=\"T_2a1da_row0_col1\" class=\"data row0 col1\" >112.000000</td>\n",
       "      <td id=\"T_2a1da_row0_col2\" class=\"data row0 col2\" >H8</td>\n",
       "    </tr>\n",
       "    <tr>\n",
       "      <th id=\"T_2a1da_level0_row1\" class=\"row_heading level0 row1\" >2</th>\n",
       "      <td id=\"T_2a1da_row1_col0\" class=\"data row1 col0\" >Add product recommendation blocks to the store's site. This will increase conversion and average purchase size</td>\n",
       "      <td id=\"T_2a1da_row1_col1\" class=\"data row1 col1\" >56.000000</td>\n",
       "      <td id=\"T_2a1da_row1_col2\" class=\"data row1 col2\" >H3</td>\n",
       "    </tr>\n",
       "    <tr>\n",
       "      <th id=\"T_2a1da_level0_row2\" class=\"row_heading level0 row2\" >0</th>\n",
       "      <td id=\"T_2a1da_row2_col0\" class=\"data row2 col0\" >Add two new channels for attracting traffic. This will bring 30% more users</td>\n",
       "      <td id=\"T_2a1da_row2_col1\" class=\"data row2 col1\" >40.000000</td>\n",
       "      <td id=\"T_2a1da_row2_col2\" class=\"data row2 col2\" >H1</td>\n",
       "    </tr>\n",
       "    <tr>\n",
       "      <th id=\"T_2a1da_level0_row3\" class=\"row_heading level0 row3\" >6</th>\n",
       "      <td id=\"T_2a1da_row3_col0\" class=\"data row3 col0\" >Show banners with current offers and sales on the main page. This will boost conversion</td>\n",
       "      <td id=\"T_2a1da_row3_col1\" class=\"data row3 col1\" >40.000000</td>\n",
       "      <td id=\"T_2a1da_row3_col2\" class=\"data row3 col2\" >H7</td>\n",
       "    </tr>\n",
       "    <tr>\n",
       "      <th id=\"T_2a1da_level0_row4\" class=\"row_heading level0 row4\" >8</th>\n",
       "      <td id=\"T_2a1da_row4_col0\" class=\"data row4 col0\" >Launch a promotion that gives users discounts on their birthdays</td>\n",
       "      <td id=\"T_2a1da_row4_col1\" class=\"data row4 col1\" >16.200000</td>\n",
       "      <td id=\"T_2a1da_row4_col2\" class=\"data row4 col2\" >H9</td>\n",
       "    </tr>\n",
       "    <tr>\n",
       "      <th id=\"T_2a1da_level0_row5\" class=\"row_heading level0 row5\" >3</th>\n",
       "      <td id=\"T_2a1da_row5_col0\" class=\"data row5 col0\" >Change the category structure. This will increase conversion since users will find the products they want more quickly</td>\n",
       "      <td id=\"T_2a1da_row5_col1\" class=\"data row5 col1\" >9.000000</td>\n",
       "      <td id=\"T_2a1da_row5_col2\" class=\"data row5 col2\" >H4</td>\n",
       "    </tr>\n",
       "    <tr>\n",
       "      <th id=\"T_2a1da_level0_row6\" class=\"row_heading level0 row6\" >1</th>\n",
       "      <td id=\"T_2a1da_row6_col0\" class=\"data row6 col0\" >Launch your own delivery service. This will shorten delivery time</td>\n",
       "      <td id=\"T_2a1da_row6_col1\" class=\"data row6 col1\" >4.000000</td>\n",
       "      <td id=\"T_2a1da_row6_col2\" class=\"data row6 col2\" >H2</td>\n",
       "    </tr>\n",
       "    <tr>\n",
       "      <th id=\"T_2a1da_level0_row7\" class=\"row_heading level0 row7\" >5</th>\n",
       "      <td id=\"T_2a1da_row7_col0\" class=\"data row7 col0\" >Add a customer review page. This will increase the number of orders</td>\n",
       "      <td id=\"T_2a1da_row7_col1\" class=\"data row7 col1\" >4.000000</td>\n",
       "      <td id=\"T_2a1da_row7_col2\" class=\"data row7 col2\" >H6</td>\n",
       "    </tr>\n",
       "    <tr>\n",
       "      <th id=\"T_2a1da_level0_row8\" class=\"row_heading level0 row8\" >4</th>\n",
       "      <td id=\"T_2a1da_row8_col0\" class=\"data row8 col0\" >Change the background color on the main page. This will increase user engagement</td>\n",
       "      <td id=\"T_2a1da_row8_col1\" class=\"data row8 col1\" >3.000000</td>\n",
       "      <td id=\"T_2a1da_row8_col2\" class=\"data row8 col2\" >H5</td>\n",
       "    </tr>\n",
       "  </tbody>\n",
       "</table>\n"
      ],
      "text/plain": [
       "<pandas.io.formats.style.Styler at 0x7fbdc352ef70>"
      ]
     },
     "execution_count": 9,
     "metadata": {},
     "output_type": "execute_result"
    }
   ],
   "source": [
    "hh['RICE'] = (hh['Reach'] * hh['Impact'] * hh['Confidence']) / hh['Effort']\n",
    "\n",
    "#h_by_RICE = hh[['Hypothesis', 'RICE']].sort_values(by = 'RICE', ascending = False)\n",
    "h_by_RICE = hh[['Hypothesis', 'RICE']]\n",
    "h_by_RICE['H_n'] = pd.Series(['H1', 'H2', 'H3', 'H4', 'H5', 'H6', 'H7', 'H8', 'H9'])\n",
    "h_by_RICE = h_by_RICE.sort_values(by = 'RICE', ascending = False)\n",
    "\n",
    "pd.options.display.max_colwidth = 210\n",
    "\n",
    "h_by_RICE.style.set_properties(**{'text-align': 'left'}).set_table_styles([dict(selector='th', props=[('text-align', 'left')])])"
   ]
  },
  {
   "cell_type": "code",
   "execution_count": 10,
   "metadata": {},
   "outputs": [
    {
     "data": {
      "image/png": "[encoded data removed]",
      "text/plain": [
       "<Figure size 432x288 with 1 Axes>"
      ]
     },
     "metadata": {
      "needs_background": "light"
     },
     "output_type": "display_data"
    }
   ],
   "source": [
    "fig, ax = plt.subplots()\n",
    "\n",
    "sns.scatterplot(x = 'H_n', y = 'RICE', data = h_by_RICE, color = 'black')\n",
    "plt.rcParams[\"figure.figsize\"] = (10,5)\n",
    "ax.vlines(x = h_by_RICE['H_n'], ymin = 0, ymax = h_by_RICE['RICE'], color = 'grey', alpha = 0.6, linewidth = 1)\n",
    "ax.spines['right'].set_visible(False)\n",
    "ax.spines['top'].set_visible(False)\n",
    "ax.set_xlabel('Hypothesis')\n",
    "ax.set_ylabel('RICE score')\n",
    "ax.set_title('Hypotheses ranked by RICE score')\n",
    "    \n",
    "plt.show()"
   ]
  },
  {
   "cell_type": "markdown",
   "metadata": {},
   "source": [
    "Using the RICE framework, we can account for the number of users that a proposed change is likely to affect, when prioritising our hypotheses. Indeed we can see how this shifts the order of priority quite significantly: even though the birthday discount will likely affect quite a few of our users – everyone has a birthday at some point during the year – it won't affect a lot of users AT ONCE, and, for example, if we have high churn rates and low retention, a lot of users might be gone before they're even enticed by the prospect of getting a discount on their birthday. \n",
    "\n",
    "On the other hand, adding a subscription form to all of our main pages will definitely reach a lot of users while also having a nice impact perhaps in the way of us being to reach these users again and again if we need to (while also being a low-effort feature to put up). And so is adding a product recommendation block: if it's high up there on the store page, which is the most popular destination on our website presumably, it will surely reach a lot of people – and so this too changes our priority order."
   ]
  },
  {
   "cell_type": "markdown",
   "metadata": {},
   "source": [
    "<div class=\"alert alert-block alert-success\">\n",
    "<b>Reviewer's comment v1:</b>\n",
    "    \n",
    "Everything is correct here. You correctly applied both `ICE` & `RICE` frameworks. And based on the results, it is clear now what is the impact of the reach factor on overall value.\n",
    "    \n",
    "Additionally, you can use an interactive scatter plot (using plotly for example) to map all numbers per hypothesis to compare them."
   ]
  },
  {
   "cell_type": "markdown",
   "metadata": {},
   "source": [
    "<div class=\"alert alert-info\"> <b>Student comments:</b> Thank you, I didn't think of that! I've made a simple scatter-turn lollipop chart. But I was wondering, what do you mean by interactive scatter plot, like plotting all the values that make up each RICE score (impact, reach, etc..) and then 'hueing' it by hypothesis? Could you please share an example, if you have one in mind? Thanks again!</div> "
   ]
  },
  {
   "attachments": {
    "image.png": {
     "image/png": "[encoded data removed]"
    }
   },
   "cell_type": "markdown",
   "metadata": {},
   "source": [
    "<div class=\"alert alert-success\">\n",
    "<b>Reviewer's comment v2:</b>\n",
    "    \n",
    "I was referring to smth like this (this example unfortunately in Seaborn): \n",
    "    \n",
    "![image.png](attachment:image.png) \n",
    "    \n",
    "But you can check examples with interactive scatter plots here:\n",
    "https://towardsdatascience.com/using-plotly-express-to-create-interactive-scatter-plots-3699d8279b9e\n",
    "https://plotly.com/python/line-and-scatter/\n",
    "    \n",
    "</div>"
   ]
  },
  {
   "cell_type": "markdown",
   "metadata": {},
   "source": [
    "## A/B Test Analysis"
   ]
  },
  {
   "cell_type": "markdown",
   "metadata": {},
   "source": [
    "Let us first clean the data and make sure it's properly preprocessed before we analyse it."
   ]
  },
  {
   "cell_type": "markdown",
   "metadata": {},
   "source": [
    "### Data Preprocessing"
   ]
  },
  {
   "cell_type": "markdown",
   "metadata": {},
   "source": [
    "#### General prep"
   ]
  },
  {
   "cell_type": "code",
   "execution_count": 11,
   "metadata": {},
   "outputs": [],
   "source": [
    "orders = pd.read_csv('/Users/rv/Desktop/practice_datasets/business_decisions_datasets/orders_us.csv')\n",
    "visits = pd.read_csv('/Users/rv/Desktop/practice_datasets/business_decisions_datasets/visits_us.csv')"
   ]
  },
  {
   "cell_type": "code",
   "execution_count": 12,
   "metadata": {},
   "outputs": [
    {
     "data": {
      "text/html": [
       "<div>\n",
       "<style scoped>\n",
       "    .dataframe tbody tr th:only-of-type {\n",
       "        vertical-align: middle;\n",
       "    }\n",
       "\n",
       "    .dataframe tbody tr th {\n",
       "        vertical-align: top;\n",
       "    }\n",
       "\n",
       "    .dataframe thead th {\n",
       "        text-align: right;\n",
       "    }\n",
       "</style>\n",
       "<table border=\"1\" class=\"dataframe\">\n",
       "  <thead>\n",
       "    <tr style=\"text-align: right;\">\n",
       "      <th></th>\n",
       "      <th>transactionId</th>\n",
       "      <th>visitorId</th>\n",
       "      <th>date</th>\n",
       "      <th>revenue</th>\n",
       "      <th>group</th>\n",
       "    </tr>\n",
       "  </thead>\n",
       "  <tbody>\n",
       "    <tr>\n",
       "      <th>0</th>\n",
       "      <td>3667963787</td>\n",
       "      <td>3312258926</td>\n",
       "      <td>2019-08-15</td>\n",
       "      <td>30.4</td>\n",
       "      <td>B</td>\n",
       "    </tr>\n",
       "    <tr>\n",
       "      <th>1</th>\n",
       "      <td>2804400009</td>\n",
       "      <td>3642806036</td>\n",
       "      <td>2019-08-15</td>\n",
       "      <td>15.2</td>\n",
       "      <td>B</td>\n",
       "    </tr>\n",
       "    <tr>\n",
       "      <th>2</th>\n",
       "      <td>2961555356</td>\n",
       "      <td>4069496402</td>\n",
       "      <td>2019-08-15</td>\n",
       "      <td>10.2</td>\n",
       "      <td>A</td>\n",
       "    </tr>\n",
       "    <tr>\n",
       "      <th>3</th>\n",
       "      <td>3797467345</td>\n",
       "      <td>1196621759</td>\n",
       "      <td>2019-08-15</td>\n",
       "      <td>155.1</td>\n",
       "      <td>B</td>\n",
       "    </tr>\n",
       "    <tr>\n",
       "      <th>4</th>\n",
       "      <td>2282983706</td>\n",
       "      <td>2322279887</td>\n",
       "      <td>2019-08-15</td>\n",
       "      <td>40.5</td>\n",
       "      <td>B</td>\n",
       "    </tr>\n",
       "  </tbody>\n",
       "</table>\n",
       "</div>"
      ],
      "text/plain": [
       "   transactionId   visitorId        date  revenue group\n",
       "0     3667963787  3312258926  2019-08-15     30.4     B\n",
       "1     2804400009  3642806036  2019-08-15     15.2     B\n",
       "2     2961555356  4069496402  2019-08-15     10.2     A\n",
       "3     3797467345  1196621759  2019-08-15    155.1     B\n",
       "4     2282983706  2322279887  2019-08-15     40.5     B"
      ]
     },
     "execution_count": 12,
     "metadata": {},
     "output_type": "execute_result"
    }
   ],
   "source": [
    "orders.head()"
   ]
  },
  {
   "cell_type": "code",
   "execution_count": 13,
   "metadata": {},
   "outputs": [
    {
     "data": {
      "text/html": [
       "<div>\n",
       "<style scoped>\n",
       "    .dataframe tbody tr th:only-of-type {\n",
       "        vertical-align: middle;\n",
       "    }\n",
       "\n",
       "    .dataframe tbody tr th {\n",
       "        vertical-align: top;\n",
       "    }\n",
       "\n",
       "    .dataframe thead th {\n",
       "        text-align: right;\n",
       "    }\n",
       "</style>\n",
       "<table border=\"1\" class=\"dataframe\">\n",
       "  <thead>\n",
       "    <tr style=\"text-align: right;\">\n",
       "      <th></th>\n",
       "      <th>date</th>\n",
       "      <th>group</th>\n",
       "      <th>visits</th>\n",
       "    </tr>\n",
       "  </thead>\n",
       "  <tbody>\n",
       "    <tr>\n",
       "      <th>0</th>\n",
       "      <td>2019-08-01</td>\n",
       "      <td>A</td>\n",
       "      <td>719</td>\n",
       "    </tr>\n",
       "    <tr>\n",
       "      <th>1</th>\n",
       "      <td>2019-08-02</td>\n",
       "      <td>A</td>\n",
       "      <td>619</td>\n",
       "    </tr>\n",
       "    <tr>\n",
       "      <th>2</th>\n",
       "      <td>2019-08-03</td>\n",
       "      <td>A</td>\n",
       "      <td>507</td>\n",
       "    </tr>\n",
       "    <tr>\n",
       "      <th>3</th>\n",
       "      <td>2019-08-04</td>\n",
       "      <td>A</td>\n",
       "      <td>717</td>\n",
       "    </tr>\n",
       "    <tr>\n",
       "      <th>4</th>\n",
       "      <td>2019-08-05</td>\n",
       "      <td>A</td>\n",
       "      <td>756</td>\n",
       "    </tr>\n",
       "  </tbody>\n",
       "</table>\n",
       "</div>"
      ],
      "text/plain": [
       "         date group  visits\n",
       "0  2019-08-01     A     719\n",
       "1  2019-08-02     A     619\n",
       "2  2019-08-03     A     507\n",
       "3  2019-08-04     A     717\n",
       "4  2019-08-05     A     756"
      ]
     },
     "execution_count": 13,
     "metadata": {},
     "output_type": "execute_result"
    }
   ],
   "source": [
    "visits.head()"
   ]
  },
  {
   "cell_type": "markdown",
   "metadata": {},
   "source": [
    "Let's just check the timespan for our test:"
   ]
  },
  {
   "cell_type": "code",
   "execution_count": 14,
   "metadata": {},
   "outputs": [
    {
     "data": {
      "text/plain": [
       "'2019-08-01'"
      ]
     },
     "execution_count": 14,
     "metadata": {},
     "output_type": "execute_result"
    }
   ],
   "source": [
    "orders['date'].min()"
   ]
  },
  {
   "cell_type": "code",
   "execution_count": 15,
   "metadata": {},
   "outputs": [
    {
     "data": {
      "text/plain": [
       "'2019-08-31'"
      ]
     },
     "execution_count": 15,
     "metadata": {},
     "output_type": "execute_result"
    }
   ],
   "source": [
    "orders['date'].max()"
   ]
  },
  {
   "cell_type": "markdown",
   "metadata": {},
   "source": [
    "Now we know our test was running for one month, so that's over how many days we'll be studying the changes in user behaviour and purchases. We can format our time values appropriately by changing them from object type to datetime (in both tables):"
   ]
  },
  {
   "cell_type": "code",
   "execution_count": 16,
   "metadata": {},
   "outputs": [
    {
     "name": "stdout",
     "output_type": "stream",
     "text": [
      "<class 'pandas.core.frame.DataFrame'>\n",
      "RangeIndex: 1197 entries, 0 to 1196\n",
      "Data columns (total 5 columns):\n",
      " #   Column         Non-Null Count  Dtype  \n",
      "---  ------         --------------  -----  \n",
      " 0   transactionId  1197 non-null   int64  \n",
      " 1   visitorId      1197 non-null   int64  \n",
      " 2   date           1197 non-null   object \n",
      " 3   revenue        1197 non-null   float64\n",
      " 4   group          1197 non-null   object \n",
      "dtypes: float64(1), int64(2), object(2)\n",
      "memory usage: 46.9+ KB\n"
     ]
    }
   ],
   "source": [
    "orders.info()"
   ]
  },
  {
   "cell_type": "code",
   "execution_count": 17,
   "metadata": {},
   "outputs": [],
   "source": [
    "orders['date'] = pd.to_datetime(orders['date'], format = '%Y-%m-%d')"
   ]
  },
  {
   "cell_type": "code",
   "execution_count": 18,
   "metadata": {},
   "outputs": [
    {
     "name": "stdout",
     "output_type": "stream",
     "text": [
      "<class 'pandas.core.frame.DataFrame'>\n",
      "RangeIndex: 1197 entries, 0 to 1196\n",
      "Data columns (total 5 columns):\n",
      " #   Column         Non-Null Count  Dtype         \n",
      "---  ------         --------------  -----         \n",
      " 0   transactionId  1197 non-null   int64         \n",
      " 1   visitorId      1197 non-null   int64         \n",
      " 2   date           1197 non-null   datetime64[ns]\n",
      " 3   revenue        1197 non-null   float64       \n",
      " 4   group          1197 non-null   object        \n",
      "dtypes: datetime64[ns](1), float64(1), int64(2), object(1)\n",
      "memory usage: 46.9+ KB\n"
     ]
    }
   ],
   "source": [
    "orders.info()"
   ]
  },
  {
   "cell_type": "code",
   "execution_count": 19,
   "metadata": {},
   "outputs": [
    {
     "data": {
      "text/html": [
       "<div>\n",
       "<style scoped>\n",
       "    .dataframe tbody tr th:only-of-type {\n",
       "        vertical-align: middle;\n",
       "    }\n",
       "\n",
       "    .dataframe tbody tr th {\n",
       "        vertical-align: top;\n",
       "    }\n",
       "\n",
       "    .dataframe thead th {\n",
       "        text-align: right;\n",
       "    }\n",
       "</style>\n",
       "<table border=\"1\" class=\"dataframe\">\n",
       "  <thead>\n",
       "    <tr style=\"text-align: right;\">\n",
       "      <th></th>\n",
       "      <th>transactionId</th>\n",
       "      <th>visitorId</th>\n",
       "      <th>date</th>\n",
       "      <th>revenue</th>\n",
       "      <th>group</th>\n",
       "    </tr>\n",
       "  </thead>\n",
       "  <tbody>\n",
       "    <tr>\n",
       "      <th>0</th>\n",
       "      <td>3667963787</td>\n",
       "      <td>3312258926</td>\n",
       "      <td>2019-08-15</td>\n",
       "      <td>30.4</td>\n",
       "      <td>B</td>\n",
       "    </tr>\n",
       "    <tr>\n",
       "      <th>1</th>\n",
       "      <td>2804400009</td>\n",
       "      <td>3642806036</td>\n",
       "      <td>2019-08-15</td>\n",
       "      <td>15.2</td>\n",
       "      <td>B</td>\n",
       "    </tr>\n",
       "    <tr>\n",
       "      <th>2</th>\n",
       "      <td>2961555356</td>\n",
       "      <td>4069496402</td>\n",
       "      <td>2019-08-15</td>\n",
       "      <td>10.2</td>\n",
       "      <td>A</td>\n",
       "    </tr>\n",
       "    <tr>\n",
       "      <th>3</th>\n",
       "      <td>3797467345</td>\n",
       "      <td>1196621759</td>\n",
       "      <td>2019-08-15</td>\n",
       "      <td>155.1</td>\n",
       "      <td>B</td>\n",
       "    </tr>\n",
       "    <tr>\n",
       "      <th>4</th>\n",
       "      <td>2282983706</td>\n",
       "      <td>2322279887</td>\n",
       "      <td>2019-08-15</td>\n",
       "      <td>40.5</td>\n",
       "      <td>B</td>\n",
       "    </tr>\n",
       "  </tbody>\n",
       "</table>\n",
       "</div>"
      ],
      "text/plain": [
       "   transactionId   visitorId       date  revenue group\n",
       "0     3667963787  3312258926 2019-08-15     30.4     B\n",
       "1     2804400009  3642806036 2019-08-15     15.2     B\n",
       "2     2961555356  4069496402 2019-08-15     10.2     A\n",
       "3     3797467345  1196621759 2019-08-15    155.1     B\n",
       "4     2282983706  2322279887 2019-08-15     40.5     B"
      ]
     },
     "execution_count": 19,
     "metadata": {},
     "output_type": "execute_result"
    }
   ],
   "source": [
    "orders.head()"
   ]
  },
  {
   "cell_type": "code",
   "execution_count": 20,
   "metadata": {},
   "outputs": [
    {
     "name": "stdout",
     "output_type": "stream",
     "text": [
      "<class 'pandas.core.frame.DataFrame'>\n",
      "RangeIndex: 62 entries, 0 to 61\n",
      "Data columns (total 3 columns):\n",
      " #   Column  Non-Null Count  Dtype \n",
      "---  ------  --------------  ----- \n",
      " 0   date    62 non-null     object\n",
      " 1   group   62 non-null     object\n",
      " 2   visits  62 non-null     int64 \n",
      "dtypes: int64(1), object(2)\n",
      "memory usage: 1.6+ KB\n"
     ]
    }
   ],
   "source": [
    "visits.info()"
   ]
  },
  {
   "cell_type": "code",
   "execution_count": 21,
   "metadata": {},
   "outputs": [],
   "source": [
    "visits['date'] = pd.to_datetime(visits['date'], format = '%Y-%m-%d')"
   ]
  },
  {
   "cell_type": "code",
   "execution_count": 22,
   "metadata": {},
   "outputs": [
    {
     "name": "stdout",
     "output_type": "stream",
     "text": [
      "<class 'pandas.core.frame.DataFrame'>\n",
      "RangeIndex: 62 entries, 0 to 61\n",
      "Data columns (total 3 columns):\n",
      " #   Column  Non-Null Count  Dtype         \n",
      "---  ------  --------------  -----         \n",
      " 0   date    62 non-null     datetime64[ns]\n",
      " 1   group   62 non-null     object        \n",
      " 2   visits  62 non-null     int64         \n",
      "dtypes: datetime64[ns](1), int64(1), object(1)\n",
      "memory usage: 1.6+ KB\n"
     ]
    }
   ],
   "source": [
    "visits.info()"
   ]
  },
  {
   "cell_type": "markdown",
   "metadata": {},
   "source": [
    "All other values look good, the only other thing we can do is change the values under group columns to category since they can be either A or B. Memory isn't so much of a concern to us with tables as light as these, but we might as well follow good practice."
   ]
  },
  {
   "cell_type": "code",
   "execution_count": 23,
   "metadata": {},
   "outputs": [],
   "source": [
    "orders['group'] = orders['group'].astype('category')\n",
    "visits['group'] = visits['group'].astype('category')"
   ]
  },
  {
   "cell_type": "markdown",
   "metadata": {},
   "source": [
    "Let's check that we don't have any missing values in our dataset:"
   ]
  },
  {
   "cell_type": "code",
   "execution_count": 24,
   "metadata": {},
   "outputs": [
    {
     "data": {
      "text/plain": [
       "transactionId    0\n",
       "visitorId        0\n",
       "date             0\n",
       "revenue          0\n",
       "group            0\n",
       "dtype: int64"
      ]
     },
     "execution_count": 24,
     "metadata": {},
     "output_type": "execute_result"
    }
   ],
   "source": [
    "orders.isnull().sum()"
   ]
  },
  {
   "cell_type": "code",
   "execution_count": 25,
   "metadata": {},
   "outputs": [
    {
     "data": {
      "text/plain": [
       "date      0\n",
       "group     0\n",
       "visits    0\n",
       "dtype: int64"
      ]
     },
     "execution_count": 25,
     "metadata": {},
     "output_type": "execute_result"
    }
   ],
   "source": [
    "visits.isnull().sum()"
   ]
  },
  {
   "cell_type": "markdown",
   "metadata": {},
   "source": [
    "Zero is my favourite number... of missing values 🥁"
   ]
  },
  {
   "cell_type": "markdown",
   "metadata": {},
   "source": [
    "Checking that we don't have any duplicate rows:"
   ]
  },
  {
   "cell_type": "code",
   "execution_count": 26,
   "metadata": {},
   "outputs": [
    {
     "data": {
      "text/plain": [
       "0"
      ]
     },
     "execution_count": 26,
     "metadata": {},
     "output_type": "execute_result"
    }
   ],
   "source": [
    "orders.duplicated(subset = ['visitorId', 'transactionId']).sum()"
   ]
  },
  {
   "cell_type": "code",
   "execution_count": 27,
   "metadata": {},
   "outputs": [
    {
     "data": {
      "text/plain": [
       "0"
      ]
     },
     "execution_count": 27,
     "metadata": {},
     "output_type": "execute_result"
    }
   ],
   "source": [
    "visits.duplicated().sum()"
   ]
  },
  {
   "cell_type": "markdown",
   "metadata": {},
   "source": [
    "Great! Now let's find out how big our overall sample is!"
   ]
  },
  {
   "cell_type": "code",
   "execution_count": 28,
   "metadata": {},
   "outputs": [
    {
     "data": {
      "text/plain": [
       "1031"
      ]
     },
     "execution_count": 28,
     "metadata": {},
     "output_type": "execute_result"
    }
   ],
   "source": [
    "orders['visitorId'].nunique()"
   ]
  },
  {
   "cell_type": "markdown",
   "metadata": {},
   "source": [
    "We have just over a thousand of users recruited for the test. Let's see how many in each group:"
   ]
  },
  {
   "cell_type": "code",
   "execution_count": 29,
   "metadata": {},
   "outputs": [
    {
     "data": {
      "text/plain": [
       "503"
      ]
     },
     "execution_count": 29,
     "metadata": {},
     "output_type": "execute_result"
    }
   ],
   "source": [
    "orders.query('group == \"A\"')['visitorId'].nunique()"
   ]
  },
  {
   "cell_type": "code",
   "execution_count": 30,
   "metadata": {},
   "outputs": [
    {
     "data": {
      "text/plain": [
       "586"
      ]
     },
     "execution_count": 30,
     "metadata": {},
     "output_type": "execute_result"
    }
   ],
   "source": [
    "orders.query('group == \"B\"')['visitorId'].nunique()"
   ]
  },
  {
   "cell_type": "markdown",
   "metadata": {},
   "source": [
    "OK so the samples are not equal in size, which isn't ideal but this is what we have. Given the opportunity, I would rather have taken this data to my colleagues and enquired as to why exactly this is the case.\n",
    "\n",
    "However, here we might have a more serious issues that needs to be taken care of:"
   ]
  },
  {
   "cell_type": "markdown",
   "metadata": {},
   "source": [
    "#### Resolving the mixed up A/B groups"
   ]
  },
  {
   "cell_type": "code",
   "execution_count": 31,
   "metadata": {},
   "outputs": [
    {
     "data": {
      "text/html": [
       "<div>\n",
       "<style scoped>\n",
       "    .dataframe tbody tr th:only-of-type {\n",
       "        vertical-align: middle;\n",
       "    }\n",
       "\n",
       "    .dataframe tbody tr th {\n",
       "        vertical-align: top;\n",
       "    }\n",
       "\n",
       "    .dataframe thead th {\n",
       "        text-align: right;\n",
       "    }\n",
       "</style>\n",
       "<table border=\"1\" class=\"dataframe\">\n",
       "  <thead>\n",
       "    <tr style=\"text-align: right;\">\n",
       "      <th></th>\n",
       "      <th>visitorId</th>\n",
       "      <th>group</th>\n",
       "    </tr>\n",
       "  </thead>\n",
       "  <tbody>\n",
       "    <tr>\n",
       "      <th>639</th>\n",
       "      <td>2654030115</td>\n",
       "      <td>2</td>\n",
       "    </tr>\n",
       "    <tr>\n",
       "      <th>932</th>\n",
       "      <td>3891541246</td>\n",
       "      <td>2</td>\n",
       "    </tr>\n",
       "    <tr>\n",
       "      <th>950</th>\n",
       "      <td>3941795274</td>\n",
       "      <td>2</td>\n",
       "    </tr>\n",
       "    <tr>\n",
       "      <th>340</th>\n",
       "      <td>1404934699</td>\n",
       "      <td>2</td>\n",
       "    </tr>\n",
       "    <tr>\n",
       "      <th>84</th>\n",
       "      <td>351125977</td>\n",
       "      <td>2</td>\n",
       "    </tr>\n",
       "    <tr>\n",
       "      <th>...</th>\n",
       "      <td>...</td>\n",
       "      <td>...</td>\n",
       "    </tr>\n",
       "    <tr>\n",
       "      <th>357</th>\n",
       "      <td>1476256851</td>\n",
       "      <td>1</td>\n",
       "    </tr>\n",
       "    <tr>\n",
       "      <th>358</th>\n",
       "      <td>1476741193</td>\n",
       "      <td>1</td>\n",
       "    </tr>\n",
       "    <tr>\n",
       "      <th>359</th>\n",
       "      <td>1484903144</td>\n",
       "      <td>1</td>\n",
       "    </tr>\n",
       "    <tr>\n",
       "      <th>360</th>\n",
       "      <td>1485964287</td>\n",
       "      <td>1</td>\n",
       "    </tr>\n",
       "    <tr>\n",
       "      <th>1030</th>\n",
       "      <td>4283872382</td>\n",
       "      <td>1</td>\n",
       "    </tr>\n",
       "  </tbody>\n",
       "</table>\n",
       "<p>1031 rows × 2 columns</p>\n",
       "</div>"
      ],
      "text/plain": [
       "       visitorId  group\n",
       "639   2654030115      2\n",
       "932   3891541246      2\n",
       "950   3941795274      2\n",
       "340   1404934699      2\n",
       "84     351125977      2\n",
       "...          ...    ...\n",
       "357   1476256851      1\n",
       "358   1476741193      1\n",
       "359   1484903144      1\n",
       "360   1485964287      1\n",
       "1030  4283872382      1\n",
       "\n",
       "[1031 rows x 2 columns]"
      ]
     },
     "execution_count": 31,
     "metadata": {},
     "output_type": "execute_result"
    }
   ],
   "source": [
    "orders.groupby('visitorId')['group'].nunique().reset_index().sort_values(by = 'group', ascending = False)"
   ]
  },
  {
   "cell_type": "markdown",
   "metadata": {},
   "source": [
    "Namely, we have on our hands some users who appear to be in both groups which is weird (and might indeed be the source of the seeming size discrepancy between samples). We definitely don't want to mix up our test groups, so this needs to be dealth with. Let's double check our first user from the table above:"
   ]
  },
  {
   "cell_type": "code",
   "execution_count": 32,
   "metadata": {},
   "outputs": [
    {
     "data": {
      "text/html": [
       "<div>\n",
       "<style scoped>\n",
       "    .dataframe tbody tr th:only-of-type {\n",
       "        vertical-align: middle;\n",
       "    }\n",
       "\n",
       "    .dataframe tbody tr th {\n",
       "        vertical-align: top;\n",
       "    }\n",
       "\n",
       "    .dataframe thead th {\n",
       "        text-align: right;\n",
       "    }\n",
       "</style>\n",
       "<table border=\"1\" class=\"dataframe\">\n",
       "  <thead>\n",
       "    <tr style=\"text-align: right;\">\n",
       "      <th></th>\n",
       "      <th>transactionId</th>\n",
       "      <th>visitorId</th>\n",
       "      <th>date</th>\n",
       "      <th>revenue</th>\n",
       "      <th>group</th>\n",
       "    </tr>\n",
       "  </thead>\n",
       "  <tbody>\n",
       "    <tr>\n",
       "      <th>1122</th>\n",
       "      <td>3620682463</td>\n",
       "      <td>2654030115</td>\n",
       "      <td>2019-08-13</td>\n",
       "      <td>35.5</td>\n",
       "      <td>B</td>\n",
       "    </tr>\n",
       "    <tr>\n",
       "      <th>1156</th>\n",
       "      <td>1254962016</td>\n",
       "      <td>2654030115</td>\n",
       "      <td>2019-08-14</td>\n",
       "      <td>35.5</td>\n",
       "      <td>A</td>\n",
       "    </tr>\n",
       "  </tbody>\n",
       "</table>\n",
       "</div>"
      ],
      "text/plain": [
       "      transactionId   visitorId       date  revenue group\n",
       "1122     3620682463  2654030115 2019-08-13     35.5     B\n",
       "1156     1254962016  2654030115 2019-08-14     35.5     A"
      ]
     },
     "execution_count": 32,
     "metadata": {},
     "output_type": "execute_result"
    }
   ],
   "source": [
    "orders[orders['visitorId'] == 2654030115]"
   ]
  },
  {
   "cell_type": "markdown",
   "metadata": {},
   "source": [
    "So there we have the same user who has completed two purchases under different group aliases 🕵️. This must not play. This is likely due to a fault in the technical implementation of the recording system that probably hasn't checked whether the user had already been assigned to a group, so they were assigned a new group again, resulting in this. It's a problem, as it contaminates our data. We cannot rely on the data that we record on a user who'd seen both versions that we're testing because we have no way of isolating their behaviour now (we literally cannot isolate the users themselves since they are in both groups). So the best course of action is to lose these users completely. Let's see how many such cases we have:"
   ]
  },
  {
   "cell_type": "markdown",
   "metadata": {},
   "source": [
    "Finding the number of rows (purchases) where users are in both A and B groups"
   ]
  },
  {
   "cell_type": "code",
   "execution_count": 33,
   "metadata": {},
   "outputs": [
    {
     "data": {
      "text/plain": [
       "181"
      ]
     },
     "execution_count": 33,
     "metadata": {},
     "output_type": "execute_result"
    }
   ],
   "source": [
    "len(orders[np.logical_and(orders['visitorId'].isin(orders[orders['group'] == \"A\"]['visitorId']), orders['visitorId'].isin(orders[orders['group'] == \"B\"]['visitorId']))])\n",
    "           "
   ]
  },
  {
   "cell_type": "markdown",
   "metadata": {},
   "source": [
    "Finding how many users are in both A and B groups"
   ]
  },
  {
   "cell_type": "code",
   "execution_count": 34,
   "metadata": {},
   "outputs": [
    {
     "data": {
      "text/plain": [
       "58"
      ]
     },
     "execution_count": 34,
     "metadata": {},
     "output_type": "execute_result"
    }
   ],
   "source": [
    "orders[np.logical_and(orders['visitorId'].isin(orders[orders['group'] == \"A\"]['visitorId']), orders['visitorId'].isin(orders[orders['group'] == \"B\"]['visitorId']))]['visitorId'].nunique()\n"
   ]
  },
  {
   "cell_type": "markdown",
   "metadata": {},
   "source": [
    "That's 58 users, roughly 5% of users who made about 15% of all purchases (181 transactions). I want to say 'Not great, not terrible', in reverse order, because dropping 5% is not terrible when they're contaminated, but then losing 15% of all purchases made during the experiment is kind of a lot. \n",
    "\n",
    "Still, it seems to me that this is the best course of action because this sample is essentially contaminated, and analysing our data as it is will simply give unreliable results. One possible half-solution I can think of is to assign all these mixed up users the group to which they were first assigned to: based on our conjecture as to the reason behind this bug, the fault is likely with the reassignment, therefore the initial group separation must have been correct. However this is still a bad solution, as it doesn't address the more fundamental problem, namely that the users who've accidentally been exposed to more than their test version of the product contaminate the experiment. So I say, we drop them. "
   ]
  },
  {
   "cell_type": "markdown",
   "metadata": {},
   "source": [
    "<div class=\"alert alert-block alert-success\">\n",
    "<b>Reviewer's comment v1:</b>\n",
    "    \n",
    "Well done! Great, that you identified these users. Indeed, having the same users in both groups contradicts the whole idea of A/B test."
   ]
  },
  {
   "cell_type": "code",
   "execution_count": 35,
   "metadata": {},
   "outputs": [],
   "source": [
    "contaminated = orders[np.logical_and(orders['visitorId'].isin(orders[orders['group'] == \"A\"]['visitorId']), orders['visitorId'].isin(orders[orders['group'] == \"B\"]['visitorId']))]['visitorId']"
   ]
  },
  {
   "cell_type": "code",
   "execution_count": 36,
   "metadata": {},
   "outputs": [],
   "source": [
    "clean_orders = orders.query('visitorId not in(@contaminated)')"
   ]
  },
  {
   "cell_type": "code",
   "execution_count": 37,
   "metadata": {},
   "outputs": [
    {
     "data": {
      "text/plain": [
       "0"
      ]
     },
     "execution_count": 37,
     "metadata": {},
     "output_type": "execute_result"
    }
   ],
   "source": [
    "len(clean_orders[np.logical_and(clean_orders['visitorId'].isin(clean_orders[clean_orders['group'] == \"A\"]['visitorId']), clean_orders['visitorId'].isin(clean_orders[clean_orders['group'] == \"B\"]['visitorId']))])"
   ]
  },
  {
   "cell_type": "code",
   "execution_count": 38,
   "metadata": {},
   "outputs": [
    {
     "data": {
      "text/plain": [
       "445"
      ]
     },
     "execution_count": 38,
     "metadata": {},
     "output_type": "execute_result"
    }
   ],
   "source": [
    "clean_orders.query('group == \"A\"')['visitorId'].nunique()"
   ]
  },
  {
   "cell_type": "code",
   "execution_count": 39,
   "metadata": {},
   "outputs": [
    {
     "data": {
      "text/plain": [
       "528"
      ]
     },
     "execution_count": 39,
     "metadata": {},
     "output_type": "execute_result"
    }
   ],
   "source": [
    "clean_orders.query('group == \"B\"')['visitorId'].nunique()"
   ]
  },
  {
   "cell_type": "code",
   "execution_count": 40,
   "metadata": {},
   "outputs": [
    {
     "data": {
      "text/plain": [
       "973"
      ]
     },
     "execution_count": 40,
     "metadata": {},
     "output_type": "execute_result"
    }
   ],
   "source": [
    "clean_orders['visitorId'].nunique()"
   ]
  },
  {
   "cell_type": "markdown",
   "metadata": {},
   "source": [
    "We've shed those 58 users who were mixed up, but we still have that unequal size, so we'll have to stick with that. \n",
    "\n",
    "By way of experiment, I've explored the option of reassigning the groups for my colleagues to see how it would look, and also to show that that doesn't mend the situation with different sizes of the test groups:"
   ]
  },
  {
   "cell_type": "markdown",
   "metadata": {},
   "source": [
    "#### (Optional: reassigning users / purchases to their initial groups)"
   ]
  },
  {
   "cell_type": "markdown",
   "metadata": {},
   "source": [
    "I'll create arbitrarily named tables in order to get a new column with the right groups for all the users, so that those who were assigned to different groups will have only one group – the one they were assigned to first. We can achieve that by grouping and doing some ✨ mergic ✨"
   ]
  },
  {
   "cell_type": "code",
   "execution_count": 41,
   "metadata": {},
   "outputs": [],
   "source": [
    "n_orders = orders.groupby('visitorId').agg({'date': 'min', 'group': 'first'}).reset_index()"
   ]
  },
  {
   "cell_type": "code",
   "execution_count": 42,
   "metadata": {},
   "outputs": [
    {
     "data": {
      "text/plain": [
       "1031"
      ]
     },
     "execution_count": 42,
     "metadata": {},
     "output_type": "execute_result"
    }
   ],
   "source": [
    "len(n_orders)"
   ]
  },
  {
   "cell_type": "code",
   "execution_count": 43,
   "metadata": {},
   "outputs": [
    {
     "data": {
      "text/html": [
       "<div>\n",
       "<style scoped>\n",
       "    .dataframe tbody tr th:only-of-type {\n",
       "        vertical-align: middle;\n",
       "    }\n",
       "\n",
       "    .dataframe tbody tr th {\n",
       "        vertical-align: top;\n",
       "    }\n",
       "\n",
       "    .dataframe thead th {\n",
       "        text-align: right;\n",
       "    }\n",
       "</style>\n",
       "<table border=\"1\" class=\"dataframe\">\n",
       "  <thead>\n",
       "    <tr style=\"text-align: right;\">\n",
       "      <th></th>\n",
       "      <th>visitorId</th>\n",
       "      <th>date</th>\n",
       "      <th>group</th>\n",
       "    </tr>\n",
       "  </thead>\n",
       "  <tbody>\n",
       "    <tr>\n",
       "      <th>0</th>\n",
       "      <td>5114589</td>\n",
       "      <td>2019-08-16</td>\n",
       "      <td>B</td>\n",
       "    </tr>\n",
       "    <tr>\n",
       "      <th>1</th>\n",
       "      <td>6958315</td>\n",
       "      <td>2019-08-04</td>\n",
       "      <td>B</td>\n",
       "    </tr>\n",
       "    <tr>\n",
       "      <th>2</th>\n",
       "      <td>8300375</td>\n",
       "      <td>2019-08-01</td>\n",
       "      <td>B</td>\n",
       "    </tr>\n",
       "    <tr>\n",
       "      <th>3</th>\n",
       "      <td>11685486</td>\n",
       "      <td>2019-08-23</td>\n",
       "      <td>A</td>\n",
       "    </tr>\n",
       "    <tr>\n",
       "      <th>4</th>\n",
       "      <td>39475350</td>\n",
       "      <td>2019-08-08</td>\n",
       "      <td>B</td>\n",
       "    </tr>\n",
       "  </tbody>\n",
       "</table>\n",
       "</div>"
      ],
      "text/plain": [
       "   visitorId       date group\n",
       "0    5114589 2019-08-16     B\n",
       "1    6958315 2019-08-04     B\n",
       "2    8300375 2019-08-01     B\n",
       "3   11685486 2019-08-23     A\n",
       "4   39475350 2019-08-08     B"
      ]
     },
     "execution_count": 43,
     "metadata": {},
     "output_type": "execute_result"
    }
   ],
   "source": [
    "n_orders.head()"
   ]
  },
  {
   "cell_type": "markdown",
   "metadata": {},
   "source": [
    "Now we'll add the group values for all the users from the original orders table, but we will only have those that happend on the users' first purchase date:"
   ]
  },
  {
   "cell_type": "markdown",
   "metadata": {},
   "source": [
    "We can get rid of some columns in this table:"
   ]
  },
  {
   "cell_type": "code",
   "execution_count": 44,
   "metadata": {},
   "outputs": [],
   "source": [
    "n_orders = n_orders.drop(columns = 'date')"
   ]
  },
  {
   "cell_type": "markdown",
   "metadata": {},
   "source": [
    "And rename the new group column, to separate it from the column 'group' in the original table, as we'll be merging these two:"
   ]
  },
  {
   "cell_type": "code",
   "execution_count": 45,
   "metadata": {},
   "outputs": [],
   "source": [
    "n_orders.columns = ['visitorId', 'n_group']"
   ]
  },
  {
   "cell_type": "code",
   "execution_count": 46,
   "metadata": {},
   "outputs": [],
   "source": [
    "new_orders = orders.merge(n_orders, on = 'visitorId', how = 'left')"
   ]
  },
  {
   "cell_type": "code",
   "execution_count": 47,
   "metadata": {},
   "outputs": [
    {
     "data": {
      "text/html": [
       "<div>\n",
       "<style scoped>\n",
       "    .dataframe tbody tr th:only-of-type {\n",
       "        vertical-align: middle;\n",
       "    }\n",
       "\n",
       "    .dataframe tbody tr th {\n",
       "        vertical-align: top;\n",
       "    }\n",
       "\n",
       "    .dataframe thead th {\n",
       "        text-align: right;\n",
       "    }\n",
       "</style>\n",
       "<table border=\"1\" class=\"dataframe\">\n",
       "  <thead>\n",
       "    <tr style=\"text-align: right;\">\n",
       "      <th></th>\n",
       "      <th>transactionId</th>\n",
       "      <th>visitorId</th>\n",
       "      <th>date</th>\n",
       "      <th>revenue</th>\n",
       "      <th>group</th>\n",
       "      <th>n_group</th>\n",
       "    </tr>\n",
       "  </thead>\n",
       "  <tbody>\n",
       "    <tr>\n",
       "      <th>0</th>\n",
       "      <td>3667963787</td>\n",
       "      <td>3312258926</td>\n",
       "      <td>2019-08-15</td>\n",
       "      <td>30.4</td>\n",
       "      <td>B</td>\n",
       "      <td>B</td>\n",
       "    </tr>\n",
       "    <tr>\n",
       "      <th>1</th>\n",
       "      <td>2804400009</td>\n",
       "      <td>3642806036</td>\n",
       "      <td>2019-08-15</td>\n",
       "      <td>15.2</td>\n",
       "      <td>B</td>\n",
       "      <td>B</td>\n",
       "    </tr>\n",
       "    <tr>\n",
       "      <th>2</th>\n",
       "      <td>2961555356</td>\n",
       "      <td>4069496402</td>\n",
       "      <td>2019-08-15</td>\n",
       "      <td>10.2</td>\n",
       "      <td>A</td>\n",
       "      <td>A</td>\n",
       "    </tr>\n",
       "    <tr>\n",
       "      <th>3</th>\n",
       "      <td>3797467345</td>\n",
       "      <td>1196621759</td>\n",
       "      <td>2019-08-15</td>\n",
       "      <td>155.1</td>\n",
       "      <td>B</td>\n",
       "      <td>B</td>\n",
       "    </tr>\n",
       "    <tr>\n",
       "      <th>4</th>\n",
       "      <td>2282983706</td>\n",
       "      <td>2322279887</td>\n",
       "      <td>2019-08-15</td>\n",
       "      <td>40.5</td>\n",
       "      <td>B</td>\n",
       "      <td>B</td>\n",
       "    </tr>\n",
       "    <tr>\n",
       "      <th>5</th>\n",
       "      <td>182168103</td>\n",
       "      <td>935554773</td>\n",
       "      <td>2019-08-15</td>\n",
       "      <td>35.0</td>\n",
       "      <td>B</td>\n",
       "      <td>B</td>\n",
       "    </tr>\n",
       "    <tr>\n",
       "      <th>6</th>\n",
       "      <td>398296753</td>\n",
       "      <td>2900797465</td>\n",
       "      <td>2019-08-15</td>\n",
       "      <td>30.6</td>\n",
       "      <td>B</td>\n",
       "      <td>B</td>\n",
       "    </tr>\n",
       "    <tr>\n",
       "      <th>7</th>\n",
       "      <td>2626614568</td>\n",
       "      <td>78758296</td>\n",
       "      <td>2019-08-15</td>\n",
       "      <td>20.1</td>\n",
       "      <td>A</td>\n",
       "      <td>A</td>\n",
       "    </tr>\n",
       "    <tr>\n",
       "      <th>8</th>\n",
       "      <td>1576988021</td>\n",
       "      <td>295230930</td>\n",
       "      <td>2019-08-15</td>\n",
       "      <td>215.9</td>\n",
       "      <td>A</td>\n",
       "      <td>A</td>\n",
       "    </tr>\n",
       "    <tr>\n",
       "      <th>9</th>\n",
       "      <td>1506739906</td>\n",
       "      <td>1882260405</td>\n",
       "      <td>2019-08-15</td>\n",
       "      <td>30.5</td>\n",
       "      <td>B</td>\n",
       "      <td>B</td>\n",
       "    </tr>\n",
       "    <tr>\n",
       "      <th>10</th>\n",
       "      <td>3649131742</td>\n",
       "      <td>879864040</td>\n",
       "      <td>2019-08-15</td>\n",
       "      <td>65.7</td>\n",
       "      <td>A</td>\n",
       "      <td>A</td>\n",
       "    </tr>\n",
       "    <tr>\n",
       "      <th>11</th>\n",
       "      <td>1919444843</td>\n",
       "      <td>927791387</td>\n",
       "      <td>2019-08-15</td>\n",
       "      <td>70.2</td>\n",
       "      <td>B</td>\n",
       "      <td>B</td>\n",
       "    </tr>\n",
       "    <tr>\n",
       "      <th>12</th>\n",
       "      <td>2809384911</td>\n",
       "      <td>3213223594</td>\n",
       "      <td>2019-08-15</td>\n",
       "      <td>115.4</td>\n",
       "      <td>A</td>\n",
       "      <td>A</td>\n",
       "    </tr>\n",
       "    <tr>\n",
       "      <th>13</th>\n",
       "      <td>3044797713</td>\n",
       "      <td>728063420</td>\n",
       "      <td>2019-08-15</td>\n",
       "      <td>185.4</td>\n",
       "      <td>B</td>\n",
       "      <td>B</td>\n",
       "    </tr>\n",
       "    <tr>\n",
       "      <th>14</th>\n",
       "      <td>3859315276</td>\n",
       "      <td>1565034404</td>\n",
       "      <td>2019-08-15</td>\n",
       "      <td>170.9</td>\n",
       "      <td>A</td>\n",
       "      <td>A</td>\n",
       "    </tr>\n",
       "    <tr>\n",
       "      <th>15</th>\n",
       "      <td>2550768810</td>\n",
       "      <td>2742574263</td>\n",
       "      <td>2019-08-15</td>\n",
       "      <td>235.0</td>\n",
       "      <td>B</td>\n",
       "      <td>B</td>\n",
       "    </tr>\n",
       "    <tr>\n",
       "      <th>16</th>\n",
       "      <td>1820531107</td>\n",
       "      <td>2973109265</td>\n",
       "      <td>2019-08-15</td>\n",
       "      <td>20.3</td>\n",
       "      <td>B</td>\n",
       "      <td>B</td>\n",
       "    </tr>\n",
       "    <tr>\n",
       "      <th>17</th>\n",
       "      <td>1108180333</td>\n",
       "      <td>222718357</td>\n",
       "      <td>2019-08-15</td>\n",
       "      <td>20.2</td>\n",
       "      <td>B</td>\n",
       "      <td>B</td>\n",
       "    </tr>\n",
       "    <tr>\n",
       "      <th>18</th>\n",
       "      <td>1822256754</td>\n",
       "      <td>4227830084</td>\n",
       "      <td>2019-08-15</td>\n",
       "      <td>255.7</td>\n",
       "      <td>A</td>\n",
       "      <td>A</td>\n",
       "    </tr>\n",
       "    <tr>\n",
       "      <th>19</th>\n",
       "      <td>674584210</td>\n",
       "      <td>3207734412</td>\n",
       "      <td>2019-08-15</td>\n",
       "      <td>20.3</td>\n",
       "      <td>A</td>\n",
       "      <td>A</td>\n",
       "    </tr>\n",
       "    <tr>\n",
       "      <th>20</th>\n",
       "      <td>2904772834</td>\n",
       "      <td>963407295</td>\n",
       "      <td>2019-08-15</td>\n",
       "      <td>5.6</td>\n",
       "      <td>B</td>\n",
       "      <td>B</td>\n",
       "    </tr>\n",
       "    <tr>\n",
       "      <th>21</th>\n",
       "      <td>1240630928</td>\n",
       "      <td>1379151787</td>\n",
       "      <td>2019-08-15</td>\n",
       "      <td>20.2</td>\n",
       "      <td>B</td>\n",
       "      <td>B</td>\n",
       "    </tr>\n",
       "    <tr>\n",
       "      <th>22</th>\n",
       "      <td>235474681</td>\n",
       "      <td>1638583360</td>\n",
       "      <td>2019-08-15</td>\n",
       "      <td>10.7</td>\n",
       "      <td>B</td>\n",
       "      <td>B</td>\n",
       "    </tr>\n",
       "    <tr>\n",
       "      <th>23</th>\n",
       "      <td>4252514150</td>\n",
       "      <td>351125977</td>\n",
       "      <td>2019-08-15</td>\n",
       "      <td>235.6</td>\n",
       "      <td>B</td>\n",
       "      <td>B</td>\n",
       "    </tr>\n",
       "    <tr>\n",
       "      <th>24</th>\n",
       "      <td>1162046357</td>\n",
       "      <td>3234906277</td>\n",
       "      <td>2019-08-15</td>\n",
       "      <td>120.2</td>\n",
       "      <td>B</td>\n",
       "      <td>B</td>\n",
       "    </tr>\n",
       "    <tr>\n",
       "      <th>25</th>\n",
       "      <td>324018163</td>\n",
       "      <td>87885904</td>\n",
       "      <td>2019-08-15</td>\n",
       "      <td>5.6</td>\n",
       "      <td>A</td>\n",
       "      <td>A</td>\n",
       "    </tr>\n",
       "    <tr>\n",
       "      <th>26</th>\n",
       "      <td>2223239646</td>\n",
       "      <td>199603092</td>\n",
       "      <td>2019-08-15</td>\n",
       "      <td>55.7</td>\n",
       "      <td>A</td>\n",
       "      <td>A</td>\n",
       "    </tr>\n",
       "    <tr>\n",
       "      <th>27</th>\n",
       "      <td>1630050528</td>\n",
       "      <td>237748145</td>\n",
       "      <td>2019-08-15</td>\n",
       "      <td>120.2</td>\n",
       "      <td>B</td>\n",
       "      <td>B</td>\n",
       "    </tr>\n",
       "    <tr>\n",
       "      <th>28</th>\n",
       "      <td>2632372083</td>\n",
       "      <td>3591136796</td>\n",
       "      <td>2019-08-15</td>\n",
       "      <td>85.2</td>\n",
       "      <td>B</td>\n",
       "      <td>B</td>\n",
       "    </tr>\n",
       "    <tr>\n",
       "      <th>29</th>\n",
       "      <td>2220299125</td>\n",
       "      <td>3803269165</td>\n",
       "      <td>2019-08-15</td>\n",
       "      <td>15.8</td>\n",
       "      <td>A</td>\n",
       "      <td>A</td>\n",
       "    </tr>\n",
       "    <tr>\n",
       "      <th>30</th>\n",
       "      <td>1678838030</td>\n",
       "      <td>4027395615</td>\n",
       "      <td>2019-08-15</td>\n",
       "      <td>5.9</td>\n",
       "      <td>B</td>\n",
       "      <td>B</td>\n",
       "    </tr>\n",
       "    <tr>\n",
       "      <th>31</th>\n",
       "      <td>2552245563</td>\n",
       "      <td>3024988998</td>\n",
       "      <td>2019-08-15</td>\n",
       "      <td>10.9</td>\n",
       "      <td>B</td>\n",
       "      <td>B</td>\n",
       "    </tr>\n",
       "    <tr>\n",
       "      <th>32</th>\n",
       "      <td>3666913472</td>\n",
       "      <td>2038680547</td>\n",
       "      <td>2019-08-15</td>\n",
       "      <td>30.8</td>\n",
       "      <td>B</td>\n",
       "      <td>B</td>\n",
       "    </tr>\n",
       "    <tr>\n",
       "      <th>33</th>\n",
       "      <td>486237576</td>\n",
       "      <td>2378935119</td>\n",
       "      <td>2019-08-15</td>\n",
       "      <td>30.4</td>\n",
       "      <td>A</td>\n",
       "      <td>A</td>\n",
       "    </tr>\n",
       "    <tr>\n",
       "      <th>34</th>\n",
       "      <td>2153010762</td>\n",
       "      <td>834683205</td>\n",
       "      <td>2019-08-15</td>\n",
       "      <td>355.5</td>\n",
       "      <td>A</td>\n",
       "      <td>A</td>\n",
       "    </tr>\n",
       "    <tr>\n",
       "      <th>35</th>\n",
       "      <td>2258664213</td>\n",
       "      <td>258610743</td>\n",
       "      <td>2019-08-15</td>\n",
       "      <td>40.2</td>\n",
       "      <td>B</td>\n",
       "      <td>B</td>\n",
       "    </tr>\n",
       "    <tr>\n",
       "      <th>36</th>\n",
       "      <td>2165344951</td>\n",
       "      <td>2805132315</td>\n",
       "      <td>2019-08-15</td>\n",
       "      <td>40.0</td>\n",
       "      <td>B</td>\n",
       "      <td>B</td>\n",
       "    </tr>\n",
       "    <tr>\n",
       "      <th>37</th>\n",
       "      <td>3601774485</td>\n",
       "      <td>2231389472</td>\n",
       "      <td>2019-08-15</td>\n",
       "      <td>100.2</td>\n",
       "      <td>B</td>\n",
       "      <td>B</td>\n",
       "    </tr>\n",
       "    <tr>\n",
       "      <th>38</th>\n",
       "      <td>3276214732</td>\n",
       "      <td>1110007955</td>\n",
       "      <td>2019-08-15</td>\n",
       "      <td>300.3</td>\n",
       "      <td>B</td>\n",
       "      <td>B</td>\n",
       "    </tr>\n",
       "    <tr>\n",
       "      <th>39</th>\n",
       "      <td>1950404403</td>\n",
       "      <td>114507418</td>\n",
       "      <td>2019-08-15</td>\n",
       "      <td>10.4</td>\n",
       "      <td>B</td>\n",
       "      <td>B</td>\n",
       "    </tr>\n",
       "  </tbody>\n",
       "</table>\n",
       "</div>"
      ],
      "text/plain": [
       "    transactionId   visitorId       date  revenue group n_group\n",
       "0      3667963787  3312258926 2019-08-15     30.4     B       B\n",
       "1      2804400009  3642806036 2019-08-15     15.2     B       B\n",
       "2      2961555356  4069496402 2019-08-15     10.2     A       A\n",
       "3      3797467345  1196621759 2019-08-15    155.1     B       B\n",
       "4      2282983706  2322279887 2019-08-15     40.5     B       B\n",
       "5       182168103   935554773 2019-08-15     35.0     B       B\n",
       "6       398296753  2900797465 2019-08-15     30.6     B       B\n",
       "7      2626614568    78758296 2019-08-15     20.1     A       A\n",
       "8      1576988021   295230930 2019-08-15    215.9     A       A\n",
       "9      1506739906  1882260405 2019-08-15     30.5     B       B\n",
       "10     3649131742   879864040 2019-08-15     65.7     A       A\n",
       "11     1919444843   927791387 2019-08-15     70.2     B       B\n",
       "12     2809384911  3213223594 2019-08-15    115.4     A       A\n",
       "13     3044797713   728063420 2019-08-15    185.4     B       B\n",
       "14     3859315276  1565034404 2019-08-15    170.9     A       A\n",
       "15     2550768810  2742574263 2019-08-15    235.0     B       B\n",
       "16     1820531107  2973109265 2019-08-15     20.3     B       B\n",
       "17     1108180333   222718357 2019-08-15     20.2     B       B\n",
       "18     1822256754  4227830084 2019-08-15    255.7     A       A\n",
       "19      674584210  3207734412 2019-08-15     20.3     A       A\n",
       "20     2904772834   963407295 2019-08-15      5.6     B       B\n",
       "21     1240630928  1379151787 2019-08-15     20.2     B       B\n",
       "22      235474681  1638583360 2019-08-15     10.7     B       B\n",
       "23     4252514150   351125977 2019-08-15    235.6     B       B\n",
       "24     1162046357  3234906277 2019-08-15    120.2     B       B\n",
       "25      324018163    87885904 2019-08-15      5.6     A       A\n",
       "26     2223239646   199603092 2019-08-15     55.7     A       A\n",
       "27     1630050528   237748145 2019-08-15    120.2     B       B\n",
       "28     2632372083  3591136796 2019-08-15     85.2     B       B\n",
       "29     2220299125  3803269165 2019-08-15     15.8     A       A\n",
       "30     1678838030  4027395615 2019-08-15      5.9     B       B\n",
       "31     2552245563  3024988998 2019-08-15     10.9     B       B\n",
       "32     3666913472  2038680547 2019-08-15     30.8     B       B\n",
       "33      486237576  2378935119 2019-08-15     30.4     A       A\n",
       "34     2153010762   834683205 2019-08-15    355.5     A       A\n",
       "35     2258664213   258610743 2019-08-15     40.2     B       B\n",
       "36     2165344951  2805132315 2019-08-15     40.0     B       B\n",
       "37     3601774485  2231389472 2019-08-15    100.2     B       B\n",
       "38     3276214732  1110007955 2019-08-15    300.3     B       B\n",
       "39     1950404403   114507418 2019-08-15     10.4     B       B"
      ]
     },
     "execution_count": 47,
     "metadata": {},
     "output_type": "execute_result"
    }
   ],
   "source": [
    "new_orders.head(40)"
   ]
  },
  {
   "cell_type": "markdown",
   "metadata": {},
   "source": [
    "We can already see some changes if we scan the old and the new group columns together"
   ]
  },
  {
   "cell_type": "markdown",
   "metadata": {},
   "source": [
    "Let's pick someone with a lot of orders to check:"
   ]
  },
  {
   "cell_type": "code",
   "execution_count": 48,
   "metadata": {},
   "outputs": [
    {
     "data": {
      "text/html": [
       "<div>\n",
       "<style scoped>\n",
       "    .dataframe tbody tr th:only-of-type {\n",
       "        vertical-align: middle;\n",
       "    }\n",
       "\n",
       "    .dataframe tbody tr th {\n",
       "        vertical-align: top;\n",
       "    }\n",
       "\n",
       "    .dataframe thead th {\n",
       "        text-align: right;\n",
       "    }\n",
       "</style>\n",
       "<table border=\"1\" class=\"dataframe\">\n",
       "  <thead>\n",
       "    <tr style=\"text-align: right;\">\n",
       "      <th></th>\n",
       "      <th>transactionId</th>\n",
       "      <th>visitorId</th>\n",
       "      <th>date</th>\n",
       "      <th>revenue</th>\n",
       "      <th>group</th>\n",
       "      <th>n_group</th>\n",
       "    </tr>\n",
       "  </thead>\n",
       "  <tbody>\n",
       "    <tr>\n",
       "      <th>32</th>\n",
       "      <td>3666913472</td>\n",
       "      <td>2038680547</td>\n",
       "      <td>2019-08-15</td>\n",
       "      <td>30.8</td>\n",
       "      <td>B</td>\n",
       "      <td>B</td>\n",
       "    </tr>\n",
       "    <tr>\n",
       "      <th>117</th>\n",
       "      <td>722060263</td>\n",
       "      <td>2038680547</td>\n",
       "      <td>2019-08-22</td>\n",
       "      <td>15.7</td>\n",
       "      <td>A</td>\n",
       "      <td>B</td>\n",
       "    </tr>\n",
       "    <tr>\n",
       "      <th>227</th>\n",
       "      <td>4267573899</td>\n",
       "      <td>2038680547</td>\n",
       "      <td>2019-08-17</td>\n",
       "      <td>55.4</td>\n",
       "      <td>A</td>\n",
       "      <td>B</td>\n",
       "    </tr>\n",
       "    <tr>\n",
       "      <th>390</th>\n",
       "      <td>2415738512</td>\n",
       "      <td>2038680547</td>\n",
       "      <td>2019-08-25</td>\n",
       "      <td>5.2</td>\n",
       "      <td>A</td>\n",
       "      <td>B</td>\n",
       "    </tr>\n",
       "    <tr>\n",
       "      <th>577</th>\n",
       "      <td>3932236947</td>\n",
       "      <td>2038680547</td>\n",
       "      <td>2019-08-04</td>\n",
       "      <td>45.1</td>\n",
       "      <td>B</td>\n",
       "      <td>B</td>\n",
       "    </tr>\n",
       "    <tr>\n",
       "      <th>578</th>\n",
       "      <td>1570911533</td>\n",
       "      <td>2038680547</td>\n",
       "      <td>2019-08-04</td>\n",
       "      <td>25.5</td>\n",
       "      <td>A</td>\n",
       "      <td>B</td>\n",
       "    </tr>\n",
       "    <tr>\n",
       "      <th>605</th>\n",
       "      <td>1215730747</td>\n",
       "      <td>2038680547</td>\n",
       "      <td>2019-08-04</td>\n",
       "      <td>40.1</td>\n",
       "      <td>A</td>\n",
       "      <td>B</td>\n",
       "    </tr>\n",
       "    <tr>\n",
       "      <th>624</th>\n",
       "      <td>1666104258</td>\n",
       "      <td>2038680547</td>\n",
       "      <td>2019-08-29</td>\n",
       "      <td>40.2</td>\n",
       "      <td>B</td>\n",
       "      <td>B</td>\n",
       "    </tr>\n",
       "  </tbody>\n",
       "</table>\n",
       "</div>"
      ],
      "text/plain": [
       "     transactionId   visitorId       date  revenue group n_group\n",
       "32      3666913472  2038680547 2019-08-15     30.8     B       B\n",
       "117      722060263  2038680547 2019-08-22     15.7     A       B\n",
       "227     4267573899  2038680547 2019-08-17     55.4     A       B\n",
       "390     2415738512  2038680547 2019-08-25      5.2     A       B\n",
       "577     3932236947  2038680547 2019-08-04     45.1     B       B\n",
       "578     1570911533  2038680547 2019-08-04     25.5     A       B\n",
       "605     1215730747  2038680547 2019-08-04     40.1     A       B\n",
       "624     1666104258  2038680547 2019-08-29     40.2     B       B"
      ]
     },
     "execution_count": 48,
     "metadata": {},
     "output_type": "execute_result"
    }
   ],
   "source": [
    "new_orders[new_orders['visitorId'] == 2038680547]"
   ]
  },
  {
   "cell_type": "markdown",
   "metadata": {},
   "source": [
    "Excellent!"
   ]
  },
  {
   "cell_type": "markdown",
   "metadata": {},
   "source": [
    "However, we can see that this exercise in reassigning the correct groups doesn't solve the difference in sizes:"
   ]
  },
  {
   "cell_type": "markdown",
   "metadata": {},
   "source": [
    "This is what we have after we got rid of the contaminated users altogether (and what we'll be working with):"
   ]
  },
  {
   "cell_type": "code",
   "execution_count": 49,
   "metadata": {},
   "outputs": [
    {
     "data": {
      "text/plain": [
       "445"
      ]
     },
     "execution_count": 49,
     "metadata": {},
     "output_type": "execute_result"
    }
   ],
   "source": [
    "clean_orders.query('group == \"A\"')['visitorId'].nunique()"
   ]
  },
  {
   "cell_type": "code",
   "execution_count": 50,
   "metadata": {},
   "outputs": [
    {
     "data": {
      "text/plain": [
       "528"
      ]
     },
     "execution_count": 50,
     "metadata": {},
     "output_type": "execute_result"
    }
   ],
   "source": [
    "clean_orders.query('group == \"B\"')['visitorId'].nunique()"
   ]
  },
  {
   "cell_type": "markdown",
   "metadata": {},
   "source": [
    "And we still have difference more or less like that now:"
   ]
  },
  {
   "cell_type": "code",
   "execution_count": 51,
   "metadata": {},
   "outputs": [
    {
     "data": {
      "text/plain": [
       "475"
      ]
     },
     "execution_count": 51,
     "metadata": {},
     "output_type": "execute_result"
    }
   ],
   "source": [
    "new_orders.query('n_group == \"A\"')['visitorId'].nunique()"
   ]
  },
  {
   "cell_type": "code",
   "execution_count": 52,
   "metadata": {},
   "outputs": [
    {
     "data": {
      "text/plain": [
       "556"
      ]
     },
     "execution_count": 52,
     "metadata": {},
     "output_type": "execute_result"
    }
   ],
   "source": [
    "new_orders.query('n_group == \"B\"')['visitorId'].nunique()"
   ]
  },
  {
   "cell_type": "markdown",
   "metadata": {},
   "source": [
    "But again, reassigning the correct groups retrospectively is wrong, because, given that we know – at least until it is proved otherwise – that these users, like that one with a lot of purchases throughout the month, have viewed different versions of the products, sometimes even multiple times, it simply defeats the purpose of the test. Reassigning them after the fact for the purpose of analysis definitely isn't the way to go, as it completely glosses over the fact thair behaviour could've been influenced in a way we can never know.\n",
    "\n",
    "Therefore, let's proceed with the table clean_orders."
   ]
  },
  {
   "cell_type": "markdown",
   "metadata": {},
   "source": [
    "<div class=\"alert alert-block alert-success\">\n",
    "<b>Reviewer's comment v1:</b>\n",
    "    \n",
    "Outstanding data preprocessing section. You covered all possible data issues."
   ]
  },
  {
   "cell_type": "markdown",
   "metadata": {},
   "source": [
    "### Analysis"
   ]
  },
  {
   "cell_type": "markdown",
   "metadata": {},
   "source": [
    "First let me just rename the clean_orders into orders so it's easier to work with..."
   ]
  },
  {
   "cell_type": "code",
   "execution_count": 53,
   "metadata": {},
   "outputs": [],
   "source": [
    "orders = clean_orders"
   ]
  },
  {
   "cell_type": "markdown",
   "metadata": {},
   "source": [
    "Another tiny change I wanted to make just to be more comfortable with the column names..."
   ]
  },
  {
   "cell_type": "code",
   "execution_count": 54,
   "metadata": {},
   "outputs": [],
   "source": [
    "orders.columns = ['order_id', 'user_id', 'date', 'revenue', 'group']"
   ]
  },
  {
   "cell_type": "markdown",
   "metadata": {},
   "source": [
    "Let me put a checklist here so it's easier to keep track of the steps needed to complete the analysis:"
   ]
  },
  {
   "cell_type": "markdown",
   "metadata": {},
   "source": [
    "- [x]  Graph cumulative revenue by group. Make conclusions and conjectures.\n",
    "- [x]  Graph cumulative average order size by group. Make conclusions and conjectures.\n",
    "- [x]  Graph the relative difference in cumulative average order size for group B compared with group A. Make conclusions and conjectures.\n",
    "- [x]  Calculate each group's conversion rate as the ratio of orders to the number of visits for each day. Plot the daily conversion rates of the two groups and describe the difference. Draw conclusions and make conjectures.\n",
    "- [x]  Plot a scatter chart of the number of orders per user. Make conclusions and conjectures.\n",
    "- [x]  Calculate the 95th and 99th percentiles for the number of orders per user. Define the point at which a data point becomes an anomaly.\n",
    "- [x]  Plot a scatter chart of order prices. Make conclusions and conjectures.\n",
    "- [x]  Calculate the 95th and 99th percentiles of order prices. Define the point at which a data point becomes an anomaly.\n",
    "- [x]  Find the statistical significance of the difference in conversion between the groups using the raw data. Make conclusions and conjectures.\n",
    "- [x]  Find the statistical significance of the difference in average order size between the groups using the raw data. Make conclusions and conjectures.\n",
    "- [x]  Find the statistical significance of the difference in conversion between the groups using the filtered data. Make conclusions and conjectures.\n",
    "- [x]  Find the statistical significance of the difference in average order size between the groups using the filtered data. Make conclusions and conjectures.\n",
    "- [x]  Make a decision based on the test results. The possible decisions are: 1. Stop the test, consider one of the groups the leader. 2. Stop the test, conclude that there is no difference between the groups. 3. Continue the test."
   ]
  },
  {
   "cell_type": "markdown",
   "metadata": {},
   "source": [
    "#### Cumulative Revenue"
   ]
  },
  {
   "cell_type": "markdown",
   "metadata": {},
   "source": [
    "In order to calculate cumulative revenue per group / date that we can plot, let's aggregate the data by date and group first:"
   ]
  },
  {
   "cell_type": "code",
   "execution_count": 55,
   "metadata": {},
   "outputs": [],
   "source": [
    "orders_agg_1 = orders.groupby(['date', 'group'], as_index = False).agg({'order_id': 'nunique', 'user_id': 'nunique', 'revenue': 'sum'})\n"
   ]
  },
  {
   "cell_type": "markdown",
   "metadata": {},
   "source": [
    "And no we can split this data by groups:"
   ]
  },
  {
   "cell_type": "code",
   "execution_count": 56,
   "metadata": {},
   "outputs": [],
   "source": [
    "c_A = orders_agg_1.query('group == \"A\"')[['date', 'revenue']]\n",
    "c_B = orders_agg_1.query('group == \"B\"')[['date', 'revenue']]"
   ]
  },
  {
   "cell_type": "markdown",
   "metadata": {},
   "source": [
    "And finally, add a column that will track accumulated revenue by adding on top of the revenue from the previous cells in 'revenue':"
   ]
  },
  {
   "cell_type": "code",
   "execution_count": 57,
   "metadata": {},
   "outputs": [],
   "source": [
    "c_A['cum_rev'] = c_A['revenue'].cumsum()\n",
    "c_B['cum_rev'] = c_B['revenue'].cumsum()"
   ]
  },
  {
   "cell_type": "markdown",
   "metadata": {},
   "source": [
    "Let's check how it looks:"
   ]
  },
  {
   "cell_type": "code",
   "execution_count": 58,
   "metadata": {},
   "outputs": [
    {
     "data": {
      "text/html": [
       "<div>\n",
       "<style scoped>\n",
       "    .dataframe tbody tr th:only-of-type {\n",
       "        vertical-align: middle;\n",
       "    }\n",
       "\n",
       "    .dataframe tbody tr th {\n",
       "        vertical-align: top;\n",
       "    }\n",
       "\n",
       "    .dataframe thead th {\n",
       "        text-align: right;\n",
       "    }\n",
       "</style>\n",
       "<table border=\"1\" class=\"dataframe\">\n",
       "  <thead>\n",
       "    <tr style=\"text-align: right;\">\n",
       "      <th></th>\n",
       "      <th>date</th>\n",
       "      <th>revenue</th>\n",
       "      <th>cum_rev</th>\n",
       "    </tr>\n",
       "  </thead>\n",
       "  <tbody>\n",
       "    <tr>\n",
       "      <th>0</th>\n",
       "      <td>2019-08-01</td>\n",
       "      <td>2266.6</td>\n",
       "      <td>2266.6</td>\n",
       "    </tr>\n",
       "    <tr>\n",
       "      <th>2</th>\n",
       "      <td>2019-08-02</td>\n",
       "      <td>1468.3</td>\n",
       "      <td>3734.9</td>\n",
       "    </tr>\n",
       "    <tr>\n",
       "      <th>4</th>\n",
       "      <td>2019-08-03</td>\n",
       "      <td>1815.2</td>\n",
       "      <td>5550.1</td>\n",
       "    </tr>\n",
       "    <tr>\n",
       "      <th>6</th>\n",
       "      <td>2019-08-04</td>\n",
       "      <td>675.5</td>\n",
       "      <td>6225.6</td>\n",
       "    </tr>\n",
       "    <tr>\n",
       "      <th>8</th>\n",
       "      <td>2019-08-05</td>\n",
       "      <td>1398.0</td>\n",
       "      <td>7623.6</td>\n",
       "    </tr>\n",
       "  </tbody>\n",
       "</table>\n",
       "</div>"
      ],
      "text/plain": [
       "        date  revenue  cum_rev\n",
       "0 2019-08-01   2266.6   2266.6\n",
       "2 2019-08-02   1468.3   3734.9\n",
       "4 2019-08-03   1815.2   5550.1\n",
       "6 2019-08-04    675.5   6225.6\n",
       "8 2019-08-05   1398.0   7623.6"
      ]
     },
     "execution_count": 58,
     "metadata": {},
     "output_type": "execute_result"
    }
   ],
   "source": [
    "c_A.head()"
   ]
  },
  {
   "cell_type": "markdown",
   "metadata": {},
   "source": [
    "The values in the cumulative revenue column look right 👌 Now let's plot cumulative revenue for both groups:"
   ]
  },
  {
   "cell_type": "code",
   "execution_count": 59,
   "metadata": {},
   "outputs": [
    {
     "data": {
      "image/png": "[encoded data removed]",
      "text/plain": [
       "<Figure size 720x360 with 1 Axes>"
      ]
     },
     "metadata": {
      "needs_background": "light"
     },
     "output_type": "display_data"
    }
   ],
   "source": [
    "fig, ax = plt.subplots()\n",
    "\n",
    "ax.plot(c_A['date'], c_A['cum_rev'], linewidth = 3, label = 'A')\n",
    "ax.plot(c_B['date'], c_B['cum_rev'], linewidth = 3, label = 'B')\n",
    "plt.legend()\n",
    "plt.title('Cumulative revenue by group')\n",
    "plt.rcParams[\"figure.figsize\"] = (8,5)\n",
    "ax.spines['left'].set_position(('outward', 10))\n",
    "ax.spines['bottom'].set_position(('outward', 10))\n",
    "plt.tight_layout()\n",
    "ax.spines['right'].set_visible(False)\n",
    "ax.spines['top'].set_visible(False)\n",
    "plt.xticks(rotation=30)\n",
    "plt.xlim(c_A['date'].min(), c_A['date'].max())\n",
    "plt.show()"
   ]
  },
  {
   "cell_type": "markdown",
   "metadata": {},
   "source": [
    "<div class=\"alert alert-block alert-success\">\n",
    "<b>Reviewer's comment v1:</b>\n",
    "    \n",
    "Very nice data visualization.\n",
    "\n",
    "It is a matter of taste, but you can also use `plt.grid()` to add grid to your graph and rotate x-axis ticks."
   ]
  },
  {
   "cell_type": "code",
   "execution_count": 60,
   "metadata": {},
   "outputs": [
    {
     "data": {
      "text/plain": [
       "53212"
      ]
     },
     "execution_count": 60,
     "metadata": {},
     "output_type": "execute_result"
    }
   ],
   "source": [
    "round(orders.query('group == \"A\"')['revenue'].sum())"
   ]
  },
  {
   "cell_type": "code",
   "execution_count": 61,
   "metadata": {},
   "outputs": [
    {
     "data": {
      "text/plain": [
       "79651"
      ]
     },
     "execution_count": 61,
     "metadata": {},
     "output_type": "execute_result"
    }
   ],
   "source": [
    "round(orders.query('group == \"B\"')['revenue'].sum())"
   ]
  },
  {
   "cell_type": "markdown",
   "metadata": {},
   "source": [
    "We can see that users from group B have definitely raked in more revenue, accounting for about 60% of total sales brought by both groups under the experiment. And while there was a point around the 13th of August when group A caught up for a moment, cumulative revenue brought by group B has grown again since then and had one power jump during the third week of August, when its cumulative revenue nearly doubled. This was likely because of a huge purchase made by some customer. We can see that this is irregular because it's a very abrupt hike with the growth continuing on a more normal trajectory before and after. So it would be wrong to consider this somehow related to the version of the product. To be more sure that one group consistently performs better, we must investigate average orders size as well as conversion from visitors to buyers."
   ]
  },
  {
   "cell_type": "markdown",
   "metadata": {},
   "source": [
    "🎃**SIDENOTE** 🎃\n",
    "\n",
    "During the sprint, there was a different solution for aggregating data which seemed very clunky to me, it looked like this:\n",
    "\n"
   ]
  },
  {
   "cell_type": "code",
   "execution_count": 62,
   "metadata": {},
   "outputs": [],
   "source": [
    "#datesGroups = orders[['date', 'group']].drop_duplicates()\n",
    "\n",
    "# ordersAggregated = datesGroups.apply(\n",
    "#     lambda x: orders[\n",
    "#         np.logical_and(\n",
    "#             orders['date'] <= x['date'], orders['group'] == x['group']\n",
    "#         )\n",
    "#     ].agg(\n",
    "#         {\n",
    "#             'date': 'max',\n",
    "#             'group': 'max',\n",
    "#             'orderId': pd.Series.nunique,\n",
    "#             'userId': pd.Series.nunique,\n",
    "#             'revenue': 'sum',\n",
    "#         }\n",
    "#     ),\n",
    "#     axis=1,\n",
    "# ).sort_values(by=['date', 'group'])"
   ]
  },
  {
   "cell_type": "markdown",
   "metadata": {},
   "source": [
    "This is the aggregating solution for data on orders. I wanted to do it my own way from the start because, unlike this above, it allows me to just plot average and not cumulative data all the time, in case I need to. And it just makes more sense that we group data by date and group itself if we need to, instead of jumping all over the place with a lambda function applied to the skeleton of [['date', 'group']]. \n",
    "\n",
    "Anyway, the point is that I wanted to practice this solution from the exerciser too, just so I could wrap my head around it better and also double check my own solution. But it didn't work, and it took me 2 hours to find out that it was breaking down because I've previously turned values in the group columns to 'category' data type instead of the standard object that it was. So this is just a heads-up :) It was really tricky to pinpoint, because the error system told me there was some sort of a recursion problem or that it had trouble indexing the date column. So it turns out that some part of the lambda or the apply function doesn't work with category data type, but after changing the group values back to string object type it works perfectly. I was too tired to find out why, but in case you know – I'd appreciate if you share! ^^\n",
    "\n",
    "🎃**END OF SIDENOTE** 🎃"
   ]
  },
  {
   "cell_type": "markdown",
   "metadata": {},
   "source": [
    "<div class=\"alert alert-block alert-success\">\n",
    "<b>Reviewer's comment v1:</b>\n",
    "    \n",
    "Working with categorical type is indeed quite tricky in pandas and I think some strange things have been fixed in latest releases but still it is quite fragile. \n",
    "    \n",
    "Some examples and tips you can check here: https://towardsdatascience.com/staying-sane-while-adopting-pandas-categorical-datatypes-78dbd19dcd8a    "
   ]
  },
  {
   "cell_type": "markdown",
   "metadata": {},
   "source": [
    "<div class=\"alert alert-info\"> <b>Student comments:</b> Thanks, that's an excellent article!</div>  "
   ]
  },
  {
   "cell_type": "markdown",
   "metadata": {},
   "source": [
    "<div class=\"alert alert-block alert-success\">\n",
    "<b>Reviewer's comment v2:</b>\n",
    "    \n",
    "🙌 "
   ]
  },
  {
   "cell_type": "markdown",
   "metadata": {},
   "source": [
    "#### Cumulative Average Order Size"
   ]
  },
  {
   "cell_type": "markdown",
   "metadata": {},
   "source": [
    "In order to calculate this we just need an extra column of orders (order_id) in our data by group, which we can get from the aggregated orders table (the number of orders):"
   ]
  },
  {
   "cell_type": "code",
   "execution_count": 63,
   "metadata": {},
   "outputs": [
    {
     "data": {
      "text/html": [
       "<div>\n",
       "<style scoped>\n",
       "    .dataframe tbody tr th:only-of-type {\n",
       "        vertical-align: middle;\n",
       "    }\n",
       "\n",
       "    .dataframe tbody tr th {\n",
       "        vertical-align: top;\n",
       "    }\n",
       "\n",
       "    .dataframe thead th {\n",
       "        text-align: right;\n",
       "    }\n",
       "</style>\n",
       "<table border=\"1\" class=\"dataframe\">\n",
       "  <thead>\n",
       "    <tr style=\"text-align: right;\">\n",
       "      <th></th>\n",
       "      <th>date</th>\n",
       "      <th>group</th>\n",
       "      <th>order_id</th>\n",
       "      <th>user_id</th>\n",
       "      <th>revenue</th>\n",
       "    </tr>\n",
       "  </thead>\n",
       "  <tbody>\n",
       "    <tr>\n",
       "      <th>0</th>\n",
       "      <td>2019-08-01</td>\n",
       "      <td>A</td>\n",
       "      <td>23</td>\n",
       "      <td>19</td>\n",
       "      <td>2266.6</td>\n",
       "    </tr>\n",
       "    <tr>\n",
       "      <th>1</th>\n",
       "      <td>2019-08-01</td>\n",
       "      <td>B</td>\n",
       "      <td>17</td>\n",
       "      <td>17</td>\n",
       "      <td>967.2</td>\n",
       "    </tr>\n",
       "    <tr>\n",
       "      <th>2</th>\n",
       "      <td>2019-08-02</td>\n",
       "      <td>A</td>\n",
       "      <td>19</td>\n",
       "      <td>18</td>\n",
       "      <td>1468.3</td>\n",
       "    </tr>\n",
       "    <tr>\n",
       "      <th>3</th>\n",
       "      <td>2019-08-02</td>\n",
       "      <td>B</td>\n",
       "      <td>23</td>\n",
       "      <td>22</td>\n",
       "      <td>2568.1</td>\n",
       "    </tr>\n",
       "    <tr>\n",
       "      <th>4</th>\n",
       "      <td>2019-08-03</td>\n",
       "      <td>A</td>\n",
       "      <td>24</td>\n",
       "      <td>24</td>\n",
       "      <td>1815.2</td>\n",
       "    </tr>\n",
       "  </tbody>\n",
       "</table>\n",
       "</div>"
      ],
      "text/plain": [
       "        date group  order_id  user_id  revenue\n",
       "0 2019-08-01     A        23       19   2266.6\n",
       "1 2019-08-01     B        17       17    967.2\n",
       "2 2019-08-02     A        19       18   1468.3\n",
       "3 2019-08-02     B        23       22   2568.1\n",
       "4 2019-08-03     A        24       24   1815.2"
      ]
     },
     "execution_count": 63,
     "metadata": {},
     "output_type": "execute_result"
    }
   ],
   "source": [
    "orders_agg_1.head()"
   ]
  },
  {
   "cell_type": "markdown",
   "metadata": {},
   "source": [
    "We'll do similar separation into groups, but with the added column of orders. I'll call the variable os_A and os_B for order size:"
   ]
  },
  {
   "cell_type": "code",
   "execution_count": 64,
   "metadata": {},
   "outputs": [],
   "source": [
    "os_A = orders_agg_1.query('group == \"A\"')[['date', 'order_id', 'revenue']]\n",
    "os_B = orders_agg_1.query('group == \"B\"')[['date', 'order_id', 'revenue']]"
   ]
  },
  {
   "cell_type": "markdown",
   "metadata": {},
   "source": [
    "And add the column with cumulative average order size, which we'll find by dividing the cumulative revenue by the cumulative number of orders (order_id). (First we'll add those columns):"
   ]
  },
  {
   "cell_type": "code",
   "execution_count": 65,
   "metadata": {},
   "outputs": [],
   "source": [
    "os_A['cum_rev'] = os_A['revenue'].cumsum()\n",
    "os_B['cum_rev'] = os_B['revenue'].cumsum()\n",
    "\n",
    "os_A['cum_orders'] = os_A['order_id'].cumsum()\n",
    "os_B['cum_orders'] = os_B['order_id'].cumsum()\n",
    "\n",
    "os_A['cum_avg_os'] = os_A['cum_rev'] / os_A['cum_orders']\n",
    "os_B['cum_avg_os'] = os_B['cum_rev'] / os_B['cum_orders']"
   ]
  },
  {
   "cell_type": "markdown",
   "metadata": {},
   "source": [
    "Now let's see how the average order size changed for each group:"
   ]
  },
  {
   "cell_type": "code",
   "execution_count": 66,
   "metadata": {},
   "outputs": [
    {
     "data": {
      "image/png": "[encoded data removed]",
      "text/plain": [
       "<Figure size 576x360 with 1 Axes>"
      ]
     },
     "metadata": {
      "needs_background": "light"
     },
     "output_type": "display_data"
    }
   ],
   "source": [
    "fig, ax = plt.subplots()\n",
    "\n",
    "ax.plot(os_A['date'], os_A['cum_avg_os'], linewidth = 3, label = 'A')\n",
    "ax.plot(os_B['date'], os_B['cum_avg_os'], linewidth = 3, label = 'B')\n",
    "plt.legend()\n",
    "plt.title('Cumulative average order size by group')\n",
    "ax.spines['left'].set_position(('outward', 10))\n",
    "ax.spines['bottom'].set_position(('outward', 10))\n",
    "plt.tight_layout()\n",
    "ax.spines['right'].set_visible(False)\n",
    "ax.spines['top'].set_visible(False)\n",
    "plt.xticks(rotation=30)\n",
    "plt.xlim(os_A['date'].min(), os_A['date'].max())\n",
    "plt.show()"
   ]
  },
  {
   "cell_type": "markdown",
   "metadata": {},
   "source": [
    "Well here we can see that the cumulative average order size remains higher for group B, which is probably due – the value being cumulative – to the irregularly expensive orders made between the 2nd and 3rd week. We can also double check this against simply the average order sizes (not cumulative values):"
   ]
  },
  {
   "cell_type": "markdown",
   "metadata": {},
   "source": [
    "<div class=\"alert alert-block alert-success\">\n",
    "<b>Reviewer's comment v1:</b>\n",
    "    \n",
    "Once again everything is correct here."
   ]
  },
  {
   "cell_type": "code",
   "execution_count": 67,
   "metadata": {},
   "outputs": [
    {
     "data": {
      "image/png": "[encoded data removed]",
      "text/plain": [
       "<Figure size 576x360 with 1 Axes>"
      ]
     },
     "metadata": {
      "needs_background": "light"
     },
     "output_type": "display_data"
    }
   ],
   "source": [
    "fig, ax = plt.subplots()\n",
    "\n",
    "ax.plot(os_A['date'], (os_A['revenue'] / os_A['order_id']), linewidth = 3, label = 'A')\n",
    "ax.plot(os_B['date'], (os_B['revenue'] / os_B['order_id']), linewidth = 3, label = 'B')\n",
    "plt.legend()\n",
    "plt.title('Average daily order size by group')\n",
    "ax.spines['left'].set_position(('outward', 10))\n",
    "ax.spines['bottom'].set_position(('outward', 10))\n",
    "plt.tight_layout()\n",
    "ax.spines['right'].set_visible(False)\n",
    "ax.spines['top'].set_visible(False)\n",
    "plt.xticks(rotation=30)\n",
    "plt.xlim(os_A['date'].min(), os_A['date'].max())\n",
    "plt.show()"
   ]
  },
  {
   "cell_type": "markdown",
   "metadata": {},
   "source": [
    "We can see the spike on this graph being isolated from the rest of the days in terms of the average order size. It was clearly an anomalous order."
   ]
  },
  {
   "cell_type": "markdown",
   "metadata": {},
   "source": [
    "#### Relative Difference in Cumulative Average Order Size"
   ]
  },
  {
   "cell_type": "markdown",
   "metadata": {},
   "source": [
    "We can also plot the relative difference between the two groups to try and gauge the dynamic between them. In order to do that, we'll need to merge the tables by date"
   ]
  },
  {
   "cell_type": "code",
   "execution_count": 68,
   "metadata": {},
   "outputs": [],
   "source": [
    "merged_cum_data = os_A.merge(os_B, left_on = 'date', right_on = 'date', suffixes = ['A', 'B'])"
   ]
  },
  {
   "cell_type": "code",
   "execution_count": 69,
   "metadata": {},
   "outputs": [
    {
     "data": {
      "image/png": "[encoded data removed]",
      "text/plain": [
       "<Figure size 576x360 with 1 Axes>"
      ]
     },
     "metadata": {
      "needs_background": "light"
     },
     "output_type": "display_data"
    }
   ],
   "source": [
    "fig, ax = plt.subplots()\n",
    "\n",
    "ax.plot(merged_cum_data['date'], (merged_cum_data['cum_avg_osB'] / merged_cum_data['cum_avg_osA'] - 1), linewidth = 3)\n",
    "ax.spines['left'].set_position(('outward', 10))\n",
    "ax.spines['bottom'].set_position(('outward', 10))\n",
    "plt.tight_layout()\n",
    "plt.title('Relative difference in cumulative average order size by group')\n",
    "ax.spines['right'].set_visible(False)\n",
    "ax.spines['top'].set_visible(False)\n",
    "plt.xticks(rotation=30)\n",
    "plt.xlim(merged_cum_data['date'].min(), merged_cum_data['date'].max())\n",
    "plt.axhline(y = 0, color = 'black', linestyle = '--')\n",
    "plt.axhline(y = 0.3, color = 'grey', linestyle = '--')\n",
    "plt.show()"
   ]
  },
  {
   "cell_type": "markdown",
   "metadata": {},
   "source": [
    "Here we can see the difference by which the cumulative avg order size of group B exceeds group A. At the very start, during the launch of the experiment, the cumulative average order size was in fact 40% lower for group B, but as of the end of the month, it's 30% higher. \n",
    "\n",
    "We can see somewhat more clearly how for about a week this difference was not only not clear-cut, but wasn't even in group B's favour. And right after the large order was made some time after the 17th of August, we can see how the dynamic again began to shift slowly in group A's favour. This, again, suggests that the dynamic between them is still unclear and it doesn't look definitive that after some time, the cumulative average check won't be higher for group A."
   ]
  },
  {
   "cell_type": "markdown",
   "metadata": {},
   "source": [
    "<div class=\"alert alert-block alert-success\">\n",
    "<b>Reviewer's comment v1:</b>\n",
    "    \n",
    "Indeed, it could be helpful to study data without outliers. Also, interesting to note that difference has been stabilized in the last couple of days."
   ]
  },
  {
   "cell_type": "markdown",
   "metadata": {},
   "source": [
    "#### Conversion Rates"
   ]
  },
  {
   "cell_type": "markdown",
   "metadata": {},
   "source": [
    "To calculate and study daily conversion rates, we'll merge our aggregated orders with visits tables:"
   ]
  },
  {
   "cell_type": "code",
   "execution_count": 70,
   "metadata": {},
   "outputs": [],
   "source": [
    "table_for_cr = orders_agg_1.merge(visits, left_on = ['date', 'group'], right_on = ['date', 'group'])"
   ]
  },
  {
   "cell_type": "code",
   "execution_count": 71,
   "metadata": {},
   "outputs": [
    {
     "data": {
      "text/html": [
       "<div>\n",
       "<style scoped>\n",
       "    .dataframe tbody tr th:only-of-type {\n",
       "        vertical-align: middle;\n",
       "    }\n",
       "\n",
       "    .dataframe tbody tr th {\n",
       "        vertical-align: top;\n",
       "    }\n",
       "\n",
       "    .dataframe thead th {\n",
       "        text-align: right;\n",
       "    }\n",
       "</style>\n",
       "<table border=\"1\" class=\"dataframe\">\n",
       "  <thead>\n",
       "    <tr style=\"text-align: right;\">\n",
       "      <th></th>\n",
       "      <th>date</th>\n",
       "      <th>group</th>\n",
       "      <th>order_id</th>\n",
       "      <th>user_id</th>\n",
       "      <th>revenue</th>\n",
       "      <th>visits</th>\n",
       "    </tr>\n",
       "  </thead>\n",
       "  <tbody>\n",
       "    <tr>\n",
       "      <th>0</th>\n",
       "      <td>2019-08-01</td>\n",
       "      <td>A</td>\n",
       "      <td>23</td>\n",
       "      <td>19</td>\n",
       "      <td>2266.6</td>\n",
       "      <td>719</td>\n",
       "    </tr>\n",
       "    <tr>\n",
       "      <th>1</th>\n",
       "      <td>2019-08-01</td>\n",
       "      <td>B</td>\n",
       "      <td>17</td>\n",
       "      <td>17</td>\n",
       "      <td>967.2</td>\n",
       "      <td>713</td>\n",
       "    </tr>\n",
       "    <tr>\n",
       "      <th>2</th>\n",
       "      <td>2019-08-02</td>\n",
       "      <td>A</td>\n",
       "      <td>19</td>\n",
       "      <td>18</td>\n",
       "      <td>1468.3</td>\n",
       "      <td>619</td>\n",
       "    </tr>\n",
       "    <tr>\n",
       "      <th>3</th>\n",
       "      <td>2019-08-02</td>\n",
       "      <td>B</td>\n",
       "      <td>23</td>\n",
       "      <td>22</td>\n",
       "      <td>2568.1</td>\n",
       "      <td>581</td>\n",
       "    </tr>\n",
       "    <tr>\n",
       "      <th>4</th>\n",
       "      <td>2019-08-03</td>\n",
       "      <td>A</td>\n",
       "      <td>24</td>\n",
       "      <td>24</td>\n",
       "      <td>1815.2</td>\n",
       "      <td>507</td>\n",
       "    </tr>\n",
       "  </tbody>\n",
       "</table>\n",
       "</div>"
      ],
      "text/plain": [
       "        date group  order_id  user_id  revenue  visits\n",
       "0 2019-08-01     A        23       19   2266.6     719\n",
       "1 2019-08-01     B        17       17    967.2     713\n",
       "2 2019-08-02     A        19       18   1468.3     619\n",
       "3 2019-08-02     B        23       22   2568.1     581\n",
       "4 2019-08-03     A        24       24   1815.2     507"
      ]
     },
     "execution_count": 71,
     "metadata": {},
     "output_type": "execute_result"
    }
   ],
   "source": [
    "table_for_cr.head()"
   ]
  },
  {
   "cell_type": "markdown",
   "metadata": {},
   "source": [
    "Now we can add daily cr rate:"
   ]
  },
  {
   "cell_type": "code",
   "execution_count": 72,
   "metadata": {},
   "outputs": [],
   "source": [
    "table_for_cr['cr'] = table_for_cr['order_id'] / table_for_cr['visits']"
   ]
  },
  {
   "cell_type": "markdown",
   "metadata": {},
   "source": [
    "Finally, let's plot them:"
   ]
  },
  {
   "cell_type": "code",
   "execution_count": 73,
   "metadata": {},
   "outputs": [
    {
     "data": {
      "image/png": "[encoded data removed]",
      "text/plain": [
       "<Figure size 576x360 with 1 Axes>"
      ]
     },
     "metadata": {
      "needs_background": "light"
     },
     "output_type": "display_data"
    }
   ],
   "source": [
    "fig, ax = plt.subplots()\n",
    "\n",
    "ax.plot(table_for_cr.query('group == \"A\"')['date'], table_for_cr.query('group == \"A\"')['cr'], linewidth = 3, label = 'A')\n",
    "ax.plot(table_for_cr.query('group == \"A\"')['date'], table_for_cr.query('group == \"B\"')['cr'], linewidth = 3, label = 'B')\n",
    "plt.legend()\n",
    "plt.title('Daily conversion rate by group')\n",
    "ax.spines['left'].set_position(('outward', 10))\n",
    "ax.spines['bottom'].set_position(('outward', 10))\n",
    "plt.tight_layout()\n",
    "ax.spines['right'].set_visible(False)\n",
    "ax.spines['top'].set_visible(False)\n",
    "plt.xticks(rotation=30)\n",
    "plt.xlim(table_for_cr['date'].min(), table_for_cr['date'].max())\n",
    "plt.axhline(y = table_for_cr.query('group == \"A\"')['cr'].mean(), color = 'tab:blue', linestyle = '--')\n",
    "plt.axhline(y = table_for_cr.query('group == \"B\"')['cr'].mean(), color = 'orange', linestyle = '--')\n",
    "plt.show()"
   ]
  },
  {
   "cell_type": "markdown",
   "metadata": {},
   "source": [
    "They are jumping all over the place from day to day, which makes it hard to say exactly what's going on. However we see that on average the conversion rate seems to be higher for group B. Let's plot the cumulative values to find out.\n",
    "\n",
    "To do that, we'll need to disaggregate the table a little bit and count the cumulative values for each group."
   ]
  },
  {
   "cell_type": "markdown",
   "metadata": {},
   "source": [
    "<div class=\"alert alert-success\">\n",
    "<b>Reviewer's comment v1:</b>\n",
    "    \n",
    "Totally agree with your reasoning. Daily values are indeed quite messy. "
   ]
  },
  {
   "cell_type": "code",
   "execution_count": 74,
   "metadata": {},
   "outputs": [],
   "source": [
    "cr_A = table_for_cr.query('group == \"A\"')[['date', 'order_id', 'visits']]\n",
    "cr_B = table_for_cr.query('group == \"B\"')[['date', 'order_id', 'visits']]"
   ]
  },
  {
   "cell_type": "code",
   "execution_count": 75,
   "metadata": {},
   "outputs": [],
   "source": [
    "cr_A['cum_orders'] = cr_A['order_id'].cumsum()\n",
    "cr_A['cum_vis'] = cr_A['visits'].cumsum()\n",
    "\n",
    "cr_B['cum_orders'] = cr_B['order_id'].cumsum()\n",
    "cr_B['cum_vis'] = cr_B['visits'].cumsum()"
   ]
  },
  {
   "cell_type": "code",
   "execution_count": 76,
   "metadata": {},
   "outputs": [],
   "source": [
    "cr_A['cum_cr'] = cr_A['cum_orders'] / cr_A['cum_vis']\n",
    "cr_B['cum_cr'] = cr_B['cum_orders'] / cr_B['cum_vis']"
   ]
  },
  {
   "cell_type": "markdown",
   "metadata": {},
   "source": [
    "Now we see the difference in conversion rates based on accrued values over the month:"
   ]
  },
  {
   "cell_type": "code",
   "execution_count": 77,
   "metadata": {},
   "outputs": [
    {
     "data": {
      "image/png": "[encoded data removed]",
      "text/plain": [
       "<Figure size 576x360 with 1 Axes>"
      ]
     },
     "metadata": {
      "needs_background": "light"
     },
     "output_type": "display_data"
    }
   ],
   "source": [
    "fig, ax = plt.subplots()\n",
    "\n",
    "ax.plot(cr_A['date'], cr_A['cum_cr'], linewidth = 3, label = 'A')\n",
    "ax.plot(cr_B['date'], cr_B['cum_cr'], linewidth = 3, label = 'B')\n",
    "plt.legend()\n",
    "plt.title('Cumulative conversion rate by group')\n",
    "ax.spines['left'].set_position(('outward', 10))\n",
    "ax.spines['bottom'].set_position(('outward', 10))\n",
    "plt.tight_layout()\n",
    "ax.spines['right'].set_visible(False)\n",
    "ax.spines['top'].set_visible(False)\n",
    "plt.xticks(rotation=30)\n",
    "plt.xlim(cr_A['date'].min(), cr_A['date'].max())\n",
    "plt.axhline(y = table_for_cr.query('group == \"A\"')['cr'].mean(), color = 'tab:blue', linestyle = '--')\n",
    "plt.axhline(y = table_for_cr.query('group == \"B\"')['cr'].mean(), color = 'orange', linestyle = '--')\n",
    "plt.show()"
   ]
  },
  {
   "cell_type": "markdown",
   "metadata": {},
   "source": [
    "We can see how the values appear to have stabilised after about a week when the cumulative cr rates diverged in opposite directions for the two groups. However, we should be mindful of the previous graph. We saw that there was a low period for group A during the first two weeks which was visible even on that chainsaw of a plot, and we see that it's the same period over which the cumulative rate has diverged. \n",
    "\n",
    "We can observe peak distance between them right about the middle of the month on this graph here, but then the distance appears to be shrinking somewhat with the rate for group B trailing downward, while group A's rate appears to be holding ground and even starting to gain a little bit (even though on the very last days of observation both groups' rates start to go down). "
   ]
  },
  {
   "cell_type": "markdown",
   "metadata": {},
   "source": [
    "We can see this trend more clearly if we plot the relative difference between the CR rates:"
   ]
  },
  {
   "cell_type": "code",
   "execution_count": 78,
   "metadata": {},
   "outputs": [],
   "source": [
    "merged_cr = cr_A.merge(cr_B, left_on = 'date', right_on = 'date', suffixes = ['A', 'B'])"
   ]
  },
  {
   "cell_type": "code",
   "execution_count": 79,
   "metadata": {},
   "outputs": [
    {
     "data": {
      "image/png": "[encoded data removed]",
      "text/plain": [
       "<Figure size 576x360 with 2 Axes>"
      ]
     },
     "metadata": {
      "needs_background": "light"
     },
     "output_type": "display_data"
    }
   ],
   "source": [
    "f, (ax1, ax2) = plt.subplots(2, 1, figsize=(8, 5))\n",
    "\n",
    "sns.lineplot(data = merged_cr, x=merged_cr['date'], y=(merged_cr['cum_crB'] / merged_cr['cum_crA'] - 1), color=\"orange\", linewidth = 3, ax=ax1)\n",
    "ax1.axhline(0, color=\"grey\", linestyle = '--', clip_on=False)\n",
    "ax1.set_ylabel(\"Group B\")\n",
    "ax1.set(xticklabels=[])\n",
    "ax1.set(xlabel=None)\n",
    "ax1.tick_params(bottom=False)\n",
    "plt.title('Relative difference in conversion rates by group')\n",
    "\n",
    "sns.lineplot(data = merged_cr, x=merged_cr['date'], y=(merged_cr['cum_crA'] / merged_cr['cum_crB'] - 1), color=\"tab:blue\", linewidth = 3, ax=ax2)\n",
    "ax2.axhline(0, color=\"grey\", linestyle = '--', clip_on=False)\n",
    "ax2.set_ylabel(\"Group A\")\n",
    "ax2.set(xlabel=None)\n",
    "\n",
    "sns.despine(bottom=True)\n",
    "plt.xticks(rotation=30)\n",
    "plt.xlim(merged_cr['date'].min(), merged_cr['date'].max())\n",
    "#plt.tight_layout()\n",
    "plt.show()"
   ]
  },
  {
   "cell_type": "markdown",
   "metadata": {},
   "source": [
    "At a second glance though, I'd rather say that the rate is still somewhat fluctuating for both groups. But for B perhaps it's early to speak of a downward trend."
   ]
  },
  {
   "cell_type": "markdown",
   "metadata": {},
   "source": [
    "<div class=\"alert alert-success\">\n",
    "<b>Reviewer's comment v1:</b>\n",
    "    \n",
    "Thanks for adding also difference graph for the cumulative conversion rates. I think with this it is more easier to say that Group B is indeed doing better."
   ]
  },
  {
   "cell_type": "markdown",
   "metadata": {},
   "source": [
    "#### Orders per User"
   ]
  },
  {
   "cell_type": "markdown",
   "metadata": {},
   "source": [
    "Next we need to check the number of orders per user to see if we can spot outliers that can influence our analysis. For this, it's best to build a scatterplot of nunique orders per user, using the number of unique users for the x axis."
   ]
  },
  {
   "cell_type": "markdown",
   "metadata": {},
   "source": [
    "First, let's group our orders data by users:"
   ]
  },
  {
   "cell_type": "code",
   "execution_count": 80,
   "metadata": {},
   "outputs": [
    {
     "data": {
      "text/html": [
       "<div>\n",
       "<style scoped>\n",
       "    .dataframe tbody tr th:only-of-type {\n",
       "        vertical-align: middle;\n",
       "    }\n",
       "\n",
       "    .dataframe tbody tr th {\n",
       "        vertical-align: top;\n",
       "    }\n",
       "\n",
       "    .dataframe thead th {\n",
       "        text-align: right;\n",
       "    }\n",
       "</style>\n",
       "<table border=\"1\" class=\"dataframe\">\n",
       "  <thead>\n",
       "    <tr style=\"text-align: right;\">\n",
       "      <th></th>\n",
       "      <th>order_id</th>\n",
       "      <th>user_id</th>\n",
       "      <th>date</th>\n",
       "      <th>revenue</th>\n",
       "      <th>group</th>\n",
       "    </tr>\n",
       "  </thead>\n",
       "  <tbody>\n",
       "    <tr>\n",
       "      <th>0</th>\n",
       "      <td>3667963787</td>\n",
       "      <td>3312258926</td>\n",
       "      <td>2019-08-15</td>\n",
       "      <td>30.4</td>\n",
       "      <td>B</td>\n",
       "    </tr>\n",
       "    <tr>\n",
       "      <th>1</th>\n",
       "      <td>2804400009</td>\n",
       "      <td>3642806036</td>\n",
       "      <td>2019-08-15</td>\n",
       "      <td>15.2</td>\n",
       "      <td>B</td>\n",
       "    </tr>\n",
       "    <tr>\n",
       "      <th>3</th>\n",
       "      <td>3797467345</td>\n",
       "      <td>1196621759</td>\n",
       "      <td>2019-08-15</td>\n",
       "      <td>155.1</td>\n",
       "      <td>B</td>\n",
       "    </tr>\n",
       "    <tr>\n",
       "      <th>4</th>\n",
       "      <td>2282983706</td>\n",
       "      <td>2322279887</td>\n",
       "      <td>2019-08-15</td>\n",
       "      <td>40.5</td>\n",
       "      <td>B</td>\n",
       "    </tr>\n",
       "    <tr>\n",
       "      <th>5</th>\n",
       "      <td>182168103</td>\n",
       "      <td>935554773</td>\n",
       "      <td>2019-08-15</td>\n",
       "      <td>35.0</td>\n",
       "      <td>B</td>\n",
       "    </tr>\n",
       "  </tbody>\n",
       "</table>\n",
       "</div>"
      ],
      "text/plain": [
       "     order_id     user_id       date  revenue group\n",
       "0  3667963787  3312258926 2019-08-15     30.4     B\n",
       "1  2804400009  3642806036 2019-08-15     15.2     B\n",
       "3  3797467345  1196621759 2019-08-15    155.1     B\n",
       "4  2282983706  2322279887 2019-08-15     40.5     B\n",
       "5   182168103   935554773 2019-08-15     35.0     B"
      ]
     },
     "execution_count": 80,
     "metadata": {},
     "output_type": "execute_result"
    }
   ],
   "source": [
    "orders.head()"
   ]
  },
  {
   "cell_type": "code",
   "execution_count": 81,
   "metadata": {},
   "outputs": [],
   "source": [
    "o_by_u = orders.drop(['date', 'revenue'], axis = 1).groupby(['user_id', 'group'], as_index = False, observed = True).agg({'order_id': 'nunique'})\n",
    "o_by_u.columns = ['user_id', 'group', 'orders']"
   ]
  },
  {
   "cell_type": "code",
   "execution_count": 82,
   "metadata": {},
   "outputs": [],
   "source": [
    "x_values = pd.Series(range(0, len(o_by_u)))"
   ]
  },
  {
   "cell_type": "code",
   "execution_count": 83,
   "metadata": {},
   "outputs": [
    {
     "data": {
      "image/png": "[encoded data removed]",
      "text/plain": [
       "<Figure size 576x360 with 1 Axes>"
      ]
     },
     "metadata": {
      "needs_background": "light"
     },
     "output_type": "display_data"
    }
   ],
   "source": [
    "fig, ax = plt.subplots()\n",
    "\n",
    "sns.scatterplot(x = x_values, y = 'orders', data = o_by_u, hue = 'group')\n",
    "ax.legend(title = 'group', loc = 'center left', bbox_to_anchor = (1, 0.5))\n",
    "\n",
    "#ax.scatterplot(x_values, o_by_u['orders'], alpha = 0.5)\n",
    "ax.spines['right'].set_visible(False)\n",
    "ax.spines['top'].set_visible(False)"
   ]
  },
  {
   "cell_type": "markdown",
   "metadata": {},
   "source": [
    "We can see that the vast majority of users made one order: something like 20 users out of one thousand made more than one purchase, and about 7 users made 3. So it would make sense for us to try to filter our data to see what will change if we remove outliers. But first, let's check the percentile just to be sure."
   ]
  },
  {
   "cell_type": "markdown",
   "metadata": {},
   "source": [
    "#### Orders per User: Percentiles"
   ]
  },
  {
   "cell_type": "code",
   "execution_count": 84,
   "metadata": {},
   "outputs": [
    {
     "name": "stdout",
     "output_type": "stream",
     "text": [
      "[1. 2.]\n"
     ]
    }
   ],
   "source": [
    "print(np.percentile(o_by_u['orders'], [95, 99]))"
   ]
  },
  {
   "cell_type": "markdown",
   "metadata": {},
   "source": [
    "It looks like between 5% and 1% of users, but more likely 2% to 3% (roughly 20+/1000) purchased more than once. With distribution like this, we can safely set 1 as the limit and filter anomalies on that basis. Ordering more than once appears to be extremely rare for our users."
   ]
  },
  {
   "cell_type": "markdown",
   "metadata": {},
   "source": [
    "#### Order Prices"
   ]
  },
  {
   "cell_type": "markdown",
   "metadata": {},
   "source": [
    "We've seen that we have some users whose number of purchases might be considered anomalous in the context of our test groups. Now let's perform a similar check for the order sizes – or prices of orders. For this we don't need to group our data by users since it initially comes grouped by transactions:"
   ]
  },
  {
   "cell_type": "code",
   "execution_count": 85,
   "metadata": {},
   "outputs": [],
   "source": [
    "x_values = pd.Series(range(0, len(orders)))"
   ]
  },
  {
   "cell_type": "code",
   "execution_count": 86,
   "metadata": {},
   "outputs": [],
   "source": [
    "# fig, ax = plt.subplots()\n",
    "\n",
    "# ax.scatter(x_values, orders['revenue'], alpha = 0.5)\n",
    "# ax.spines['right'].set_visible(False)\n",
    "# ax.spines['top'].set_visible(False)"
   ]
  },
  {
   "cell_type": "code",
   "execution_count": 87,
   "metadata": {},
   "outputs": [
    {
     "data": {
      "image/png": "[encoded data removed]",
      "text/plain": [
       "<Figure size 576x360 with 1 Axes>"
      ]
     },
     "metadata": {
      "needs_background": "light"
     },
     "output_type": "display_data"
    }
   ],
   "source": [
    "fig, ax = plt.subplots()\n",
    "\n",
    "sns.scatterplot(x = x_values, y = 'revenue', data = orders, hue = 'group')\n",
    "ax.legend(title = 'group', loc = 'center left', bbox_to_anchor = (1, 0.5))\n",
    "\n",
    "ax.spines['right'].set_visible(False)\n",
    "ax.spines['top'].set_visible(False)\n",
    "plt.show()"
   ]
  },
  {
   "cell_type": "markdown",
   "metadata": {},
   "source": [
    "🧐I think we may have just found the one purchase responsible for group B's flying success. This is clearly a stray bullet in terms of how much we should take it into account for the results. We shouldn't. Let's zoom in before we check the percentiles:"
   ]
  },
  {
   "cell_type": "code",
   "execution_count": 88,
   "metadata": {},
   "outputs": [],
   "source": [
    "# fig, ax = plt.subplots()\n",
    "\n",
    "# ax.scatter(x_values, orders['revenue'], alpha = 0.5)\n",
    "# ax.spines['right'].set_visible(False)\n",
    "# ax.spines['top'].set_visible(False)\n",
    "# plt.ylim(0, 3500)\n",
    "# plt.show()"
   ]
  },
  {
   "cell_type": "code",
   "execution_count": 89,
   "metadata": {},
   "outputs": [
    {
     "data": {
      "image/png": "[encoded data removed]",
      "text/plain": [
       "<Figure size 576x360 with 1 Axes>"
      ]
     },
     "metadata": {
      "needs_background": "light"
     },
     "output_type": "display_data"
    }
   ],
   "source": [
    "fig, ax = plt.subplots()\n",
    "\n",
    "sns.scatterplot(x = x_values, y = 'revenue', data = orders, hue = 'group')\n",
    "ax.legend(title = 'group', loc = 'center left', bbox_to_anchor = (1, 0.5))\n",
    "\n",
    "ax.spines['right'].set_visible(False)\n",
    "ax.spines['top'].set_visible(False)\n",
    "plt.ylim(0, 3500)\n",
    "plt.show()"
   ]
  },
  {
   "cell_type": "markdown",
   "metadata": {},
   "source": [
    "It's likely even that anything above 500 may be considered quite outlying in relation to most of the values."
   ]
  },
  {
   "cell_type": "code",
   "execution_count": 90,
   "metadata": {},
   "outputs": [],
   "source": [
    "# fig, ax = plt.subplots()\n",
    "\n",
    "# ax.scatter(x_values, orders['revenue'], alpha = 0.5)\n",
    "# ax.spines['right'].set_visible(False)\n",
    "# ax.spines['top'].set_visible(False)\n",
    "# plt.ylim(0, 1000)"
   ]
  },
  {
   "cell_type": "code",
   "execution_count": 91,
   "metadata": {},
   "outputs": [
    {
     "data": {
      "image/png": "[encoded data removed]",
      "text/plain": [
       "<Figure size 576x360 with 1 Axes>"
      ]
     },
     "metadata": {
      "needs_background": "light"
     },
     "output_type": "display_data"
    }
   ],
   "source": [
    "fig, ax = plt.subplots()\n",
    "\n",
    "sns.scatterplot(x = x_values, y = 'revenue', data = orders, hue = 'group', alpha = 1)\n",
    "ax.legend(title = 'group', loc = 'center left', bbox_to_anchor = (1, 0.5))\n",
    "\n",
    "ax.spines['right'].set_visible(False)\n",
    "ax.spines['top'].set_visible(False)\n",
    "plt.ylim(0, 1000)\n",
    "plt.show()"
   ]
  },
  {
   "cell_type": "markdown",
   "metadata": {},
   "source": [
    "Let's check the percentiles to be sure."
   ]
  },
  {
   "cell_type": "markdown",
   "metadata": {},
   "source": [
    "<div class=\"alert alert-block alert-success\">\n",
    "<b>Reviewer's comment v1:</b>\n",
    "    \n",
    "Great scaterplots. Additionally you can color two groups on this graph using other 'hue' parameter (https://seaborn.pydata.org/generated/seaborn.scatterplot.html) or different data sources (https://moonbooks.org/Articles/How-to-create-a-scatter-plot-with-several-colors-in-matplotlib-/)"
   ]
  },
  {
   "cell_type": "markdown",
   "metadata": {},
   "source": [
    "<div class=\"alert alert-info\"> <b>Student comments:</b> Thanks Dmitrii, that's a great idea! </div>"
   ]
  },
  {
   "cell_type": "markdown",
   "metadata": {},
   "source": [
    "#### Order Prices: Percentiles"
   ]
  },
  {
   "cell_type": "code",
   "execution_count": 92,
   "metadata": {},
   "outputs": [
    {
     "name": "stdout",
     "output_type": "stream",
     "text": [
      "[414.275 830.3  ]\n"
     ]
    }
   ],
   "source": [
    "print(np.percentile(orders['revenue'], [95, 99]))"
   ]
  },
  {
   "cell_type": "markdown",
   "metadata": {},
   "source": [
    "Indeed we see that less than 5% go above 500 per order, so it will be reasonable to limit it at that. "
   ]
  },
  {
   "cell_type": "markdown",
   "metadata": {},
   "source": [
    "<div class=\"alert alert-block alert-success\">\n",
    "<b>Reviewer's comment v1:</b>\n",
    "    \n",
    "You correctly identified 95th and 99th percentiles of order prices. Now you have a threshold and data could be filtered."
   ]
  },
  {
   "cell_type": "markdown",
   "metadata": {},
   "source": [
    "#### Validating the Difference in Conversion Rates (Raw Data)"
   ]
  },
  {
   "cell_type": "markdown",
   "metadata": {},
   "source": [
    "We've seen the perceived differences in conversion rate when we plotted the cumulative values for it. We used the table table_for_cr to calculate average daily conversion rates. To be more precise in our estimates, let's use these values and perform a Mann-Whitney statistical test, since we know already that their distribution is not normal."
   ]
  },
  {
   "cell_type": "code",
   "execution_count": 93,
   "metadata": {},
   "outputs": [],
   "source": [
    "A_cr = table_for_cr.query('group == \"A\"')['cr']\n",
    "B_cr = table_for_cr.query('group == \"B\"')['cr']"
   ]
  },
  {
   "cell_type": "markdown",
   "metadata": {},
   "source": [
    "We can use A_cr and B_cr as our two samples, respectively. Just to be sure, let's check for normality with a Shapiro test. The second value is the p_value. If it turns out greater than alpha of 0.05, then we need to consider the distribution normal and we're better off performing a t-test instead of Mann Whitney."
   ]
  },
  {
   "cell_type": "code",
   "execution_count": 94,
   "metadata": {},
   "outputs": [
    {
     "data": {
      "text/plain": [
       "ShapiroResult(statistic=0.9338854551315308, pvalue=0.05598486214876175)"
      ]
     },
     "execution_count": 94,
     "metadata": {},
     "output_type": "execute_result"
    }
   ],
   "source": [
    "st.shapiro(A_cr)"
   ]
  },
  {
   "cell_type": "code",
   "execution_count": 95,
   "metadata": {},
   "outputs": [
    {
     "data": {
      "text/plain": [
       "ShapiroResult(statistic=0.9762541055679321, pvalue=0.7027069926261902)"
      ]
     },
     "execution_count": 95,
     "metadata": {},
     "output_type": "execute_result"
    }
   ],
   "source": [
    "st.shapiro(B_cr)"
   ]
  },
  {
   "cell_type": "markdown",
   "metadata": {},
   "source": [
    "Well what do I know! Turns out the distribution of average daily conversion rates is indeed normal. This means we need to go for the t-test. But to perform that properly, we have to control for variance of our data, which we then specify inside the t-test. So let's perform a levene-test check first."
   ]
  },
  {
   "cell_type": "code",
   "execution_count": 96,
   "metadata": {},
   "outputs": [
    {
     "data": {
      "text/plain": [
       "LeveneResult(statistic=0.0003349179434919493, pvalue=0.985459640402054)"
      ]
     },
     "execution_count": 96,
     "metadata": {},
     "output_type": "execute_result"
    }
   ],
   "source": [
    "st.levene(A_cr, B_cr)"
   ]
  },
  {
   "cell_type": "markdown",
   "metadata": {},
   "source": [
    "Turns out the variances are equal. So before we perform the test, let's be clear about the hypothesis:\n",
    "\n",
    "**Null hypothesis**:\n",
    "The average daily conversion rate is equal for group A and group B: there is no statistically significant difference between them\n",
    "\n",
    "**Alternative hypothesis**:\n",
    "The difference in average daily conversion rate between group A and group B is statistically significant, so we must reject the Null Hypothesis"
   ]
  },
  {
   "cell_type": "code",
   "execution_count": 97,
   "metadata": {},
   "outputs": [
    {
     "data": {
      "text/plain": [
       "Ttest_indResult(statistic=-1.6925038513866528, pvalue=0.09573715593918651)"
      ]
     },
     "execution_count": 97,
     "metadata": {},
     "output_type": "execute_result"
    }
   ],
   "source": [
    "st.ttest_ind(A_cr, B_cr, equal_var=True)"
   ]
  },
  {
   "cell_type": "markdown",
   "metadata": {},
   "source": [
    "The p value is greater than our level of statistical significance (alpha) of 0.05, there we CANNOT reject the Null Hypothesis: there is indeed no statistically significant difference between the two groups' average daily conversion rates. This confirms my initial scepticism about groub B's success. But personal vindication aside, this simply tells us not to jump to conclusions about which version of the product brings better conversion. At least not until we perform another statistical check with data filtered from outliers a bit later."
   ]
  },
  {
   "cell_type": "markdown",
   "metadata": {},
   "source": [
    "####  Validating the Difference in Average Order Size (Raw Data)"
   ]
  },
  {
   "cell_type": "markdown",
   "metadata": {},
   "source": [
    "Let's see if there is a difference in average order size, or a price of purchase. We can about it the same way. But first, let us turn all those steps that we need to perform into a single function so we won't have to write everything out in the future:"
   ]
  },
  {
   "cell_type": "code",
   "execution_count": 98,
   "metadata": {},
   "outputs": [],
   "source": [
    "def stat_test(sample1, sample2, alpha = 0.05):\n",
    "\n",
    "    shapiro_stat1, shapiro_p1 = st.shapiro(sample1)\n",
    "    shapiro_stat2, shapiro_p2 = st.shapiro(sample2)\n",
    "    \n",
    "    if shapiro_p1 > alpha and shapiro_p2 > alpha:\n",
    "        levene_stat, levene_p = st.levene(sample1, sample2)\n",
    "        \n",
    "        if levene_p < alpha:\n",
    "            stat, p_value = st.ttest_ind(sample1, sample2, equal_var = False)\n",
    "        else:\n",
    "            stat, p_value = st.ttest_ind(sample1, sample2, equal_var = True) \n",
    "            \n",
    "    else:\n",
    "        stat, p_value = st.mannwhitneyu(sample1, sample2)\n",
    "        \n",
    "    print('p_value: {:.3f}'.format(p_value))\n",
    "    \n",
    "    if p_value < alpha:\n",
    "        print('Reject the Null Hypothesis')\n",
    "    else:\n",
    "        print('Fail to reject the Null Hypothesis')"
   ]
  },
  {
   "cell_type": "markdown",
   "metadata": {},
   "source": [
    "With this we won't need to know which test is actually performed, but that shouldn't matter as long as the ones defined in our function's logic satisfy the necessary requirements. Let's test the difference in average order size now!"
   ]
  },
  {
   "cell_type": "markdown",
   "metadata": {},
   "source": [
    "We already have os_A and os_B which are the group subsets of aggregated orders table. To create our samples with order sizes, we just need to add a column to each of them, and get rid of all the other columns:"
   ]
  },
  {
   "cell_type": "code",
   "execution_count": 99,
   "metadata": {},
   "outputs": [],
   "source": [
    "avg_order_sizes_A = os_A['revenue'] / os_A['order_id']\n",
    "avg_order_sizes_B = os_B['revenue'] / os_B['order_id']"
   ]
  },
  {
   "cell_type": "markdown",
   "metadata": {},
   "source": [
    "Once again, the Null Hypothesis is that there is no difference between the groups' average order sizes."
   ]
  },
  {
   "cell_type": "code",
   "execution_count": 100,
   "metadata": {},
   "outputs": [
    {
     "name": "stdout",
     "output_type": "stream",
     "text": [
      "p_value: 0.955\n",
      "Fail to reject the Null Hypothesis\n"
     ]
    }
   ],
   "source": [
    "stat_test(avg_order_sizes_A, avg_order_sizes_B)"
   ]
  },
  {
   "cell_type": "markdown",
   "metadata": {},
   "source": [
    "And again, we cannot reject the Null Hypothesis, since – as the test proves – there is no statistically significant difference between the groups' average order sizes. Based on this, there is no clear winner among the two version of the product so far. As we remember from the two graphs in section 2.2.2, the story is indeed not straightforward, and the cumulative graph was distorted by some high-flying outliers."
   ]
  },
  {
   "cell_type": "markdown",
   "metadata": {},
   "source": [
    "#### Validating the Difference in Conversion Rates (Filtered Data)"
   ]
  },
  {
   "cell_type": "markdown",
   "metadata": {},
   "source": [
    "##### Filtering the Data"
   ]
  },
  {
   "cell_type": "markdown",
   "metadata": {},
   "source": [
    "Earlier we found that any user who made more than one order, as well as any order more expensive than 500 should be considered an anomaly. We want to re-run our statistical tests to see if anything changes if we use filtered data. Let's start re-creating our main calculations by filtering the main orders table:"
   ]
  },
  {
   "cell_type": "code",
   "execution_count": 101,
   "metadata": {},
   "outputs": [
    {
     "data": {
      "text/html": [
       "<div>\n",
       "<style scoped>\n",
       "    .dataframe tbody tr th:only-of-type {\n",
       "        vertical-align: middle;\n",
       "    }\n",
       "\n",
       "    .dataframe tbody tr th {\n",
       "        vertical-align: top;\n",
       "    }\n",
       "\n",
       "    .dataframe thead th {\n",
       "        text-align: right;\n",
       "    }\n",
       "</style>\n",
       "<table border=\"1\" class=\"dataframe\">\n",
       "  <thead>\n",
       "    <tr style=\"text-align: right;\">\n",
       "      <th></th>\n",
       "      <th>order_id</th>\n",
       "      <th>user_id</th>\n",
       "      <th>date</th>\n",
       "      <th>revenue</th>\n",
       "      <th>group</th>\n",
       "    </tr>\n",
       "  </thead>\n",
       "  <tbody>\n",
       "    <tr>\n",
       "      <th>0</th>\n",
       "      <td>3667963787</td>\n",
       "      <td>3312258926</td>\n",
       "      <td>2019-08-15</td>\n",
       "      <td>30.4</td>\n",
       "      <td>B</td>\n",
       "    </tr>\n",
       "    <tr>\n",
       "      <th>1</th>\n",
       "      <td>2804400009</td>\n",
       "      <td>3642806036</td>\n",
       "      <td>2019-08-15</td>\n",
       "      <td>15.2</td>\n",
       "      <td>B</td>\n",
       "    </tr>\n",
       "    <tr>\n",
       "      <th>3</th>\n",
       "      <td>3797467345</td>\n",
       "      <td>1196621759</td>\n",
       "      <td>2019-08-15</td>\n",
       "      <td>155.1</td>\n",
       "      <td>B</td>\n",
       "    </tr>\n",
       "    <tr>\n",
       "      <th>4</th>\n",
       "      <td>2282983706</td>\n",
       "      <td>2322279887</td>\n",
       "      <td>2019-08-15</td>\n",
       "      <td>40.5</td>\n",
       "      <td>B</td>\n",
       "    </tr>\n",
       "    <tr>\n",
       "      <th>5</th>\n",
       "      <td>182168103</td>\n",
       "      <td>935554773</td>\n",
       "      <td>2019-08-15</td>\n",
       "      <td>35.0</td>\n",
       "      <td>B</td>\n",
       "    </tr>\n",
       "  </tbody>\n",
       "</table>\n",
       "</div>"
      ],
      "text/plain": [
       "     order_id     user_id       date  revenue group\n",
       "0  3667963787  3312258926 2019-08-15     30.4     B\n",
       "1  2804400009  3642806036 2019-08-15     15.2     B\n",
       "3  3797467345  1196621759 2019-08-15    155.1     B\n",
       "4  2282983706  2322279887 2019-08-15     40.5     B\n",
       "5   182168103   935554773 2019-08-15     35.0     B"
      ]
     },
     "execution_count": 101,
     "metadata": {},
     "output_type": "execute_result"
    }
   ],
   "source": [
    "orders.head()"
   ]
  },
  {
   "cell_type": "markdown",
   "metadata": {},
   "source": [
    "Recall that it's the same one that's already been cleared of the compromised users who were present in both testing groups. We can filter our data using an 'external' slice of anomalous orders and users. "
   ]
  },
  {
   "cell_type": "code",
   "execution_count": 102,
   "metadata": {},
   "outputs": [],
   "source": [
    "a_orders = orders[orders['revenue'] > 500]['order_id']"
   ]
  },
  {
   "cell_type": "code",
   "execution_count": 103,
   "metadata": {},
   "outputs": [
    {
     "data": {
      "text/plain": [
       "37"
      ]
     },
     "execution_count": 103,
     "metadata": {},
     "output_type": "execute_result"
    }
   ],
   "source": [
    "len(a_orders)"
   ]
  },
  {
   "cell_type": "markdown",
   "metadata": {},
   "source": [
    "So we'll have to get rid of 37 anomalous purchases (which includes a mammoth 20+ thousand one)"
   ]
  },
  {
   "cell_type": "markdown",
   "metadata": {},
   "source": [
    "We already have a handy o_by_u (orders by users) table from previous calculations that we can use for finding anomalous users:"
   ]
  },
  {
   "cell_type": "code",
   "execution_count": 104,
   "metadata": {},
   "outputs": [],
   "source": [
    "a_users = o_by_u[o_by_u['orders'] > 1]['user_id']"
   ]
  },
  {
   "cell_type": "code",
   "execution_count": 105,
   "metadata": {},
   "outputs": [
    {
     "data": {
      "text/plain": [
       "36"
      ]
     },
     "execution_count": 105,
     "metadata": {},
     "output_type": "execute_result"
    }
   ],
   "source": [
    "len(a_users)"
   ]
  },
  {
   "cell_type": "markdown",
   "metadata": {},
   "source": [
    "And a total of 36 users who made more than 1 purchase. Let us keep in mind that this might mean trimming more rows than just 36+37, since the original orders table records purchases."
   ]
  },
  {
   "cell_type": "markdown",
   "metadata": {},
   "source": [
    "Now we can get the orders table without the anomalous users and purchases, and from there on we can recreate the calculations of conversion rates and average order sizes."
   ]
  },
  {
   "cell_type": "code",
   "execution_count": 106,
   "metadata": {},
   "outputs": [],
   "source": [
    "new_orders = orders[np.logical_and(~orders['user_id'].isin(a_users), ~orders['order_id'].isin(a_orders))]"
   ]
  },
  {
   "cell_type": "code",
   "execution_count": 107,
   "metadata": {},
   "outputs": [
    {
     "data": {
      "text/plain": [
       "901"
      ]
     },
     "execution_count": 107,
     "metadata": {},
     "output_type": "execute_result"
    }
   ],
   "source": [
    "len(new_orders)"
   ]
  },
  {
   "cell_type": "markdown",
   "metadata": {},
   "source": [
    "##### Performing the Test"
   ]
  },
  {
   "cell_type": "markdown",
   "metadata": {},
   "source": [
    "Let's first recreate the necessary calculations using filtered data:"
   ]
  },
  {
   "cell_type": "code",
   "execution_count": 108,
   "metadata": {},
   "outputs": [],
   "source": [
    "new_orders_agg_1 = new_orders.groupby(['date', 'group'], as_index = False).agg({'order_id': 'nunique', 'user_id': 'nunique', 'revenue': 'sum'})\n",
    "new_table_for_cr = new_orders_agg_1.merge(visits, left_on = ['date', 'group'], right_on = ['date', 'group'])\n",
    "new_table_for_cr['cr'] = new_table_for_cr['order_id'] / new_table_for_cr['visits']\n",
    "new_A_cr = new_table_for_cr.query('group == \"A\"')['cr']\n",
    "new_B_cr = new_table_for_cr.query('group == \"B\"')['cr']"
   ]
  },
  {
   "cell_type": "markdown",
   "metadata": {},
   "source": [
    "Alright! We can perform the test now:"
   ]
  },
  {
   "cell_type": "code",
   "execution_count": 109,
   "metadata": {},
   "outputs": [
    {
     "name": "stdout",
     "output_type": "stream",
     "text": [
      "p_value: 0.029\n",
      "Reject the Null Hypothesis\n"
     ]
    }
   ],
   "source": [
    "stat_test(new_A_cr, new_B_cr)"
   ]
  },
  {
   "cell_type": "markdown",
   "metadata": {},
   "source": [
    "Interesting! So the test using filtered data says that we must reject the Null Hypothesis which is that there is not statistically significant difference between the two groups' conversion rate."
   ]
  },
  {
   "cell_type": "code",
   "execution_count": 110,
   "metadata": {},
   "outputs": [
    {
     "name": "stdout",
     "output_type": "stream",
     "text": [
      "0.193\n"
     ]
    }
   ],
   "source": [
    "print('{:.3}'.format(new_B_cr.mean()/new_A_cr.mean() - 1))"
   ]
  },
  {
   "cell_type": "markdown",
   "metadata": {},
   "source": [
    "Looks like the relative gain in conversion rate for group B is indeed almost 20% compared to group A. This means that the graph that we saw for average cr as well as for the cumulative rates wouldn't change much if we plotted these values again using the filtered data. But something tells me that we can expect to see a change for the average order size as well as the cumulative revenue."
   ]
  },
  {
   "cell_type": "markdown",
   "metadata": {},
   "source": [
    "####  Validating the Difference in Average Order Size (Filtered Data)"
   ]
  },
  {
   "cell_type": "markdown",
   "metadata": {},
   "source": [
    "Let's quickly recreate our calculations:"
   ]
  },
  {
   "cell_type": "code",
   "execution_count": 111,
   "metadata": {},
   "outputs": [],
   "source": [
    "new_os_A = new_orders_agg_1.query('group == \"A\"')[['date', 'order_id', 'revenue']]\n",
    "new_os_B = new_orders_agg_1.query('group == \"B\"')[['date', 'order_id', 'revenue']]"
   ]
  },
  {
   "cell_type": "code",
   "execution_count": 112,
   "metadata": {},
   "outputs": [],
   "source": [
    "new_avg_order_sizes_A = new_os_A['revenue'] / os_A['order_id']\n",
    "new_avg_order_sizes_B = new_os_B['revenue'] / os_B['order_id']"
   ]
  },
  {
   "cell_type": "markdown",
   "metadata": {},
   "source": [
    "And run the test!"
   ]
  },
  {
   "cell_type": "code",
   "execution_count": 113,
   "metadata": {},
   "outputs": [
    {
     "name": "stdout",
     "output_type": "stream",
     "text": [
      "p_value: 0.823\n",
      "Fail to reject the Null Hypothesis\n"
     ]
    }
   ],
   "source": [
    "stat_test(new_avg_order_sizes_A, new_avg_order_sizes_B)"
   ]
  },
  {
   "cell_type": "markdown",
   "metadata": {},
   "source": [
    "Once again, as before, we cannot reject the Null Hypothesis: the test proves that there is no statistically significant difference between the groups' average order sizes, even when we discard the outliers."
   ]
  },
  {
   "cell_type": "markdown",
   "metadata": {},
   "source": [
    "Let's see what happens then if we plot the average order sizes and our cumulative revenue with filtered values:"
   ]
  },
  {
   "cell_type": "code",
   "execution_count": 114,
   "metadata": {},
   "outputs": [
    {
     "data": {
      "image/png": "[encoded data removed]",
      "text/plain": [
       "<Figure size 576x360 with 1 Axes>"
      ]
     },
     "metadata": {
      "needs_background": "light"
     },
     "output_type": "display_data"
    }
   ],
   "source": [
    "fig, ax = plt.subplots()\n",
    "\n",
    "ax.plot(os_A['date'], (new_os_A['revenue'] / new_os_A['order_id']), linewidth = 3, label = 'A')\n",
    "ax.plot(os_B['date'], (new_os_B['revenue'] / new_os_B['order_id']), linewidth = 3, label = 'B')\n",
    "plt.legend()\n",
    "ax.set_title('Average order size by group (filtered)')\n",
    "ax.spines['left'].set_position(('outward', 10))\n",
    "ax.spines['bottom'].set_position(('outward', 10))\n",
    "plt.tight_layout()\n",
    "ax.spines['right'].set_visible(False)\n",
    "ax.spines['top'].set_visible(False)\n",
    "plt.xticks(rotation=30)\n",
    "plt.xlim(new_os_A['date'].min(), new_os_A['date'].max())\n",
    "plt.show()"
   ]
  },
  {
   "cell_type": "markdown",
   "metadata": {},
   "source": [
    "Well, there is a spike, but heed the scale of the Y axis compared to the same graph using raw data in section 2.2.2. Let's check the cumulative values:"
   ]
  },
  {
   "cell_type": "code",
   "execution_count": 115,
   "metadata": {},
   "outputs": [],
   "source": [
    "new_os_A['cum_rev'] = new_os_A['revenue'].cumsum()\n",
    "new_os_B['cum_rev'] = new_os_B['revenue'].cumsum()\n",
    "\n",
    "new_os_A['cum_orders'] = new_os_A['order_id'].cumsum()\n",
    "new_os_B['cum_orders'] = new_os_B['order_id'].cumsum()\n",
    "\n",
    "new_os_A['cum_avg_os'] = new_os_A['cum_rev'] / os_A['cum_orders']\n",
    "new_os_B['cum_avg_os'] = new_os_B['cum_rev'] / os_B['cum_orders']"
   ]
  },
  {
   "cell_type": "code",
   "execution_count": 116,
   "metadata": {},
   "outputs": [
    {
     "data": {
      "image/png": "[encoded data removed]",
      "text/plain": [
       "<Figure size 576x360 with 1 Axes>"
      ]
     },
     "metadata": {
      "needs_background": "light"
     },
     "output_type": "display_data"
    }
   ],
   "source": [
    "fig, ax = plt.subplots()\n",
    "\n",
    "ax.plot(new_os_A['date'], new_os_A['cum_avg_os'], linewidth = 3, label = 'A')\n",
    "ax.plot(new_os_B['date'], new_os_B['cum_avg_os'], linewidth = 3, label = 'B')\n",
    "plt.legend()\n",
    "ax.set_title('Cumulative average order size by group (filtered)')\n",
    "ax.spines['left'].set_position(('outward', 10))\n",
    "ax.spines['bottom'].set_position(('outward', 10))\n",
    "plt.tight_layout()\n",
    "ax.spines['right'].set_visible(False)\n",
    "ax.spines['top'].set_visible(False)\n",
    "plt.xticks(rotation=30)\n",
    "plt.xlim(new_os_A['date'].min(), new_os_A['date'].max())\n",
    "plt.show()"
   ]
  },
  {
   "cell_type": "markdown",
   "metadata": {},
   "source": [
    "Interesting: as the test goes on, we see how the values stabilise and group A is in fact catching up with B starting from about the half of the month. In fact, we can see that depsite B having a great start, its average cumulative order size is trending downwards starting after the first 7 or 10 days – although it too, is still not a clear trend, but somewhat fluctuating. For group A, however, the trajectory is that of continuous growth after the first week."
   ]
  },
  {
   "cell_type": "code",
   "execution_count": 117,
   "metadata": {},
   "outputs": [
    {
     "data": {
      "image/png": "[encoded data removed]",
      "text/plain": [
       "<Figure size 576x360 with 1 Axes>"
      ]
     },
     "metadata": {
      "needs_background": "light"
     },
     "output_type": "display_data"
    }
   ],
   "source": [
    "fig, ax = plt.subplots()\n",
    "\n",
    "ax.plot(new_os_A['date'], new_os_A['cum_rev'], linewidth = 3, label = 'A')\n",
    "ax.plot(new_os_B['date'], new_os_B['cum_rev'], linewidth = 3, label = 'B')\n",
    "plt.legend()\n",
    "ax.set_title('Cumulative revenue by group (filtered)')\n",
    "plt.rcParams[\"figure.figsize\"] = (8,5)\n",
    "ax.spines['left'].set_position(('outward', 10))\n",
    "ax.spines['bottom'].set_position(('outward', 10))\n",
    "plt.tight_layout()\n",
    "ax.spines['right'].set_visible(False)\n",
    "ax.spines['top'].set_visible(False)\n",
    "plt.xticks(rotation=30)\n",
    "plt.xlim(new_os_A['date'].min(), new_os_A['date'].max())\n",
    "plt.show()"
   ]
  },
  {
   "cell_type": "markdown",
   "metadata": {},
   "source": [
    "We can see here how B wins on cumulative revenue, however this still looks like it's based on some early gains, as the gap doesn't grow by much as time goes on."
   ]
  },
  {
   "cell_type": "markdown",
   "metadata": {},
   "source": [
    "<div class=\"alert alert-block alert-success\">\n",
    "<b>Reviewer's comment v1:</b>\n",
    "    \n",
    "Great job! Hypotheses have been formulated and tested correctly. Very good and detailed conclusions and data check before the test."
   ]
  },
  {
   "cell_type": "markdown",
   "metadata": {},
   "source": [
    "## Conclusion: should we stop the test and declare one of the groups a winner? Conclude there is no difference? Or continue running the test?"
   ]
  },
  {
   "cell_type": "markdown",
   "metadata": {},
   "source": [
    "We've studied the data, filtering it for the faulty users who got into both groups, and then filtering it again from anomalies that we detected in order sizes with one particularly large purchase worth over 20000. We performed statistical tests to try and validate the perceived differences or indeed reject the differences in conversion rate and average order size between the groups. Now it's time to make some conclusions and recommendations.\n",
    "\n",
    "First of all, it is necessary to point out a couple of problem with our data that we should keep in mind. The first problem is that the mixed up users who were in both groups at once contributed to a large part of the overall purchases. And this is a problem. If we had the resources, the ideal way would be to communicate this issue to our colleagues and relaunch the test by recruiting new users while, hopefully, not repeating the same mistake. The second issue is that our visits, unlike our orders data, were pre-aggregated, meaning that we as the analysts were unable to clean the data ***properly*** when we decided to filter according to order size or number of purchases. So when we performed the calculations of conversion rates again with the filtered data, the number of visits didn't account for this change. It would be ideal to be able to get the same users out of the visits table too.\n",
    "\n",
    "Finally, let's consider the results that we got. We saw that there is indeed a statistically significant difference in conversion rates for the groups: users from group B converted more often than thouse from group A. However, it is not enough to make conclusions in favour of version B. Recall – and this is also the final caveat regarding our data, particularly against relying on cumulative revenue – that our samples were of unequal sizes, because more users from group B converted. So we cannot make judgements based on the cumulative revenue, because it could simply reflect the difference in the amount of buyers:"
   ]
  },
  {
   "cell_type": "code",
   "execution_count": 118,
   "metadata": {},
   "outputs": [
    {
     "data": {
      "text/plain": [
       "410"
      ]
     },
     "execution_count": 118,
     "metadata": {},
     "output_type": "execute_result"
    }
   ],
   "source": [
    "new_orders.query('group == \"A\"')['user_id'].nunique()"
   ]
  },
  {
   "cell_type": "code",
   "execution_count": 119,
   "metadata": {},
   "outputs": [
    {
     "data": {
      "text/plain": [
       "491"
      ]
     },
     "execution_count": 119,
     "metadata": {},
     "output_type": "execute_result"
    }
   ],
   "source": [
    "new_orders.query('group == \"B\"')['user_id'].nunique()"
   ]
  },
  {
   "cell_type": "markdown",
   "metadata": {},
   "source": [
    "When we look at the average order sizes, however, this helps account for this difference, and it shows that indeed Group A is on an upward trend of increasing this value, while the same value stagnates or even declines for group B. If consult the graph for cumulative average order size by group, we can see that a bumpy and uneven start for both groups, but starting after first week group A has grown from roughly 55 to somewhere below 75, whereas group has decreased over the same period from 85 to just above 75:"
   ]
  },
  {
   "cell_type": "code",
   "execution_count": 120,
   "metadata": {},
   "outputs": [
    {
     "data": {
      "text/html": [
       "<div>\n",
       "<style scoped>\n",
       "    .dataframe tbody tr th:only-of-type {\n",
       "        vertical-align: middle;\n",
       "    }\n",
       "\n",
       "    .dataframe tbody tr th {\n",
       "        vertical-align: top;\n",
       "    }\n",
       "\n",
       "    .dataframe thead th {\n",
       "        text-align: right;\n",
       "    }\n",
       "</style>\n",
       "<table border=\"1\" class=\"dataframe\">\n",
       "  <thead>\n",
       "    <tr style=\"text-align: right;\">\n",
       "      <th></th>\n",
       "      <th>date</th>\n",
       "      <th>cum_avg_os</th>\n",
       "    </tr>\n",
       "  </thead>\n",
       "  <tbody>\n",
       "    <tr>\n",
       "      <th>53</th>\n",
       "      <td>2019-08-27</td>\n",
       "      <td>76.493658</td>\n",
       "    </tr>\n",
       "    <tr>\n",
       "      <th>55</th>\n",
       "      <td>2019-08-28</td>\n",
       "      <td>75.013131</td>\n",
       "    </tr>\n",
       "    <tr>\n",
       "      <th>57</th>\n",
       "      <td>2019-08-29</td>\n",
       "      <td>76.044314</td>\n",
       "    </tr>\n",
       "    <tr>\n",
       "      <th>59</th>\n",
       "      <td>2019-08-30</td>\n",
       "      <td>75.891525</td>\n",
       "    </tr>\n",
       "    <tr>\n",
       "      <th>61</th>\n",
       "      <td>2019-08-31</td>\n",
       "      <td>76.799453</td>\n",
       "    </tr>\n",
       "  </tbody>\n",
       "</table>\n",
       "</div>"
      ],
      "text/plain": [
       "         date  cum_avg_os\n",
       "53 2019-08-27   76.493658\n",
       "55 2019-08-28   75.013131\n",
       "57 2019-08-29   76.044314\n",
       "59 2019-08-30   75.891525\n",
       "61 2019-08-31   76.799453"
      ]
     },
     "execution_count": 120,
     "metadata": {},
     "output_type": "execute_result"
    }
   ],
   "source": [
    "new_os_B[['date','cum_avg_os']].tail()"
   ]
  },
  {
   "cell_type": "code",
   "execution_count": 121,
   "metadata": {},
   "outputs": [
    {
     "data": {
      "text/html": [
       "<div>\n",
       "<style scoped>\n",
       "    .dataframe tbody tr th:only-of-type {\n",
       "        vertical-align: middle;\n",
       "    }\n",
       "\n",
       "    .dataframe tbody tr th {\n",
       "        vertical-align: top;\n",
       "    }\n",
       "\n",
       "    .dataframe thead th {\n",
       "        text-align: right;\n",
       "    }\n",
       "</style>\n",
       "<table border=\"1\" class=\"dataframe\">\n",
       "  <thead>\n",
       "    <tr style=\"text-align: right;\">\n",
       "      <th></th>\n",
       "      <th>date</th>\n",
       "      <th>cum_avg_os</th>\n",
       "    </tr>\n",
       "  </thead>\n",
       "  <tbody>\n",
       "    <tr>\n",
       "      <th>52</th>\n",
       "      <td>2019-08-27</td>\n",
       "      <td>71.980907</td>\n",
       "    </tr>\n",
       "    <tr>\n",
       "      <th>54</th>\n",
       "      <td>2019-08-28</td>\n",
       "      <td>72.284332</td>\n",
       "    </tr>\n",
       "    <tr>\n",
       "      <th>56</th>\n",
       "      <td>2019-08-29</td>\n",
       "      <td>73.678271</td>\n",
       "    </tr>\n",
       "    <tr>\n",
       "      <th>58</th>\n",
       "      <td>2019-08-30</td>\n",
       "      <td>73.385000</td>\n",
       "    </tr>\n",
       "    <tr>\n",
       "      <th>60</th>\n",
       "      <td>2019-08-31</td>\n",
       "      <td>73.943162</td>\n",
       "    </tr>\n",
       "  </tbody>\n",
       "</table>\n",
       "</div>"
      ],
      "text/plain": [
       "         date  cum_avg_os\n",
       "52 2019-08-27   71.980907\n",
       "54 2019-08-28   72.284332\n",
       "56 2019-08-29   73.678271\n",
       "58 2019-08-30   73.385000\n",
       "60 2019-08-31   73.943162"
      ]
     },
     "execution_count": 121,
     "metadata": {},
     "output_type": "execute_result"
    }
   ],
   "source": [
    "new_os_A[['date','cum_avg_os']].tail()"
   ]
  },
  {
   "cell_type": "markdown",
   "metadata": {},
   "source": [
    "Finally, the statistical check tells us there is likely no differnce in average order size between the two groups. Based on all this evidence, we can say that the results are inconclusive. And even though some show better results for group B, it could very well be the case after another couple of weeks that group A will start showing higher average order size. Based on this, the best course of action would be to let the test run for a couple more weeks or even a month. When we have more data, we will be able to tell with more certainty which group performs better."
   ]
  },
  {
   "cell_type": "markdown",
   "metadata": {},
   "source": [
    "<div class=\"alert alert-block alert-success\">\n",
    "<b>Reviewer's comment v1</b> \n",
    "\n",
    "Great that you wrote about all important steps and findings in your project. \n",
    " \n",
    "And overall, you conducted great research with correct interim findings, clean code and nice visualization.\n",
    "    \n",
    "One comment about running the test is that we can mistakenly wait till the moment we get correct results (to face a peeking problem). \n",
    "    \n",
    "You can check an article about it here: https://gopractice.io/blog/peeking-problem/#:~:text=by%20Oleg%20Yakubenkov-,Peeking%20problem%20%E2%80%93%20the%20fatal%20mistake%20in%20A%2FB%20testing%20and,A%2FB%20test%20is%20over\n",
    "    \n",
    "</div>"
   ]
  },
  {
   "cell_type": "markdown",
   "metadata": {},
   "source": [
    "<div class=\"alert alert-info\"> <b>Student comments:</b> Thanks again Dmitrii, I appreaciate your checking my project and leaving helpful tips. I'll make sure to check out all the articles!</div>  "
   ]
  },
  {
   "cell_type": "markdown",
   "metadata": {},
   "source": [
    "<div class=\"alert alert-block alert-success\">\n",
    "<b>Reviewer's comment v2:</b>\n",
    "    \n",
    "Very glad that smth was helpful! "
   ]
  }
 ],
 "metadata": {
  "ExecuteTimeLog": [
   {
    "duration": 1111,
    "start_time": "2022-02-04T15:24:18.823Z"
   },
   {
    "duration": 53665,
    "start_time": "2022-02-04T15:28:30.004Z"
   },
   {
    "duration": 60,
    "start_time": "2022-02-04T15:30:34.838Z"
   },
   {
    "duration": 6,
    "start_time": "2022-02-04T15:30:42.874Z"
   },
   {
    "duration": 1026,
    "start_time": "2022-02-04T15:30:47.963Z"
   },
   {
    "duration": 1094,
    "start_time": "2022-02-04T15:31:24.988Z"
   },
   {
    "duration": 99509,
    "start_time": "2022-02-04T15:31:26.084Z"
   },
   {
    "duration": 68,
    "start_time": "2022-02-04T15:33:05.597Z"
   },
   {
    "duration": 5,
    "start_time": "2022-02-04T15:33:05.667Z"
   },
   {
    "duration": 63,
    "start_time": "2022-02-04T15:37:48.765Z"
   },
   {
    "duration": 69,
    "start_time": "2022-02-04T15:38:04.156Z"
   },
   {
    "duration": 65,
    "start_time": "2022-02-04T15:38:08.776Z"
   },
   {
    "duration": 1018,
    "start_time": "2022-02-04T15:38:57.508Z"
   },
   {
    "duration": 2605,
    "start_time": "2022-02-04T15:38:58.528Z"
   },
   {
    "duration": 66,
    "start_time": "2022-02-04T15:39:01.135Z"
   },
   {
    "duration": 5,
    "start_time": "2022-02-04T15:39:01.203Z"
   },
   {
    "duration": 2576,
    "start_time": "2022-02-04T15:39:10.664Z"
   },
   {
    "duration": 1062,
    "start_time": "2022-02-04T15:39:17.623Z"
   },
   {
    "duration": 1073,
    "start_time": "2022-02-04T15:39:59.394Z"
   },
   {
    "duration": 66295,
    "start_time": "2022-02-04T15:40:00.469Z"
   },
   {
    "duration": 61,
    "start_time": "2022-02-04T15:41:06.767Z"
   },
   {
    "duration": 7,
    "start_time": "2022-02-04T15:41:06.829Z"
   },
   {
    "duration": 1075,
    "start_time": "2022-02-04T15:41:50.417Z"
   },
   {
    "duration": 99925,
    "start_time": "2022-02-04T15:41:51.494Z"
   },
   {
    "duration": 62,
    "start_time": "2022-02-04T15:43:31.422Z"
   },
   {
    "duration": 5,
    "start_time": "2022-02-04T15:43:31.486Z"
   },
   {
    "duration": 2241,
    "start_time": "2022-02-04T15:43:55.159Z"
   },
   {
    "duration": 3,
    "start_time": "2022-02-04T15:44:02.726Z"
   },
   {
    "duration": 4,
    "start_time": "2022-02-04T15:44:03.197Z"
   },
   {
    "duration": 17,
    "start_time": "2022-02-04T15:46:08.008Z"
   },
   {
    "duration": 9,
    "start_time": "2022-02-04T15:46:16.757Z"
   },
   {
    "duration": 7,
    "start_time": "2022-02-04T15:46:28.344Z"
   },
   {
    "duration": 16,
    "start_time": "2022-02-04T15:46:42.611Z"
   },
   {
    "duration": 9,
    "start_time": "2022-02-04T15:46:46.304Z"
   },
   {
    "duration": 7,
    "start_time": "2022-02-04T15:46:55.409Z"
   },
   {
    "duration": 6952,
    "start_time": "2022-02-04T15:48:13.017Z"
   },
   {
    "duration": 6,
    "start_time": "2022-02-04T15:48:21.167Z"
   },
   {
    "duration": 5,
    "start_time": "2022-02-04T15:48:44.049Z"
   },
   {
    "duration": 6,
    "start_time": "2022-02-04T15:50:18.129Z"
   },
   {
    "duration": 5813,
    "start_time": "2022-02-04T16:07:27.144Z"
   },
   {
    "duration": 208,
    "start_time": "2022-02-04T16:07:50.879Z"
   },
   {
    "duration": 208,
    "start_time": "2022-02-04T16:08:33.690Z"
   },
   {
    "duration": 218,
    "start_time": "2022-02-04T16:08:51.536Z"
   },
   {
    "duration": 6,
    "start_time": "2022-02-04T16:08:57.628Z"
   },
   {
    "duration": 6,
    "start_time": "2022-02-04T16:09:10.363Z"
   },
   {
    "duration": 216,
    "start_time": "2022-02-04T16:09:22.566Z"
   },
   {
    "duration": 193,
    "start_time": "2022-02-04T16:09:42.750Z"
   },
   {
    "duration": 205,
    "start_time": "2022-02-04T16:09:59.133Z"
   },
   {
    "duration": 232,
    "start_time": "2022-02-04T16:10:08.847Z"
   },
   {
    "duration": 7,
    "start_time": "2022-02-04T16:10:43.344Z"
   },
   {
    "duration": 9,
    "start_time": "2022-02-04T16:24:44.750Z"
   },
   {
    "duration": 89,
    "start_time": "2022-02-04T18:21:35.203Z"
   },
   {
    "duration": 9,
    "start_time": "2022-02-04T18:21:40.560Z"
   },
   {
    "duration": 7,
    "start_time": "2022-02-04T18:21:51.188Z"
   },
   {
    "duration": 8,
    "start_time": "2022-02-04T18:22:11.995Z"
   },
   {
    "duration": 5,
    "start_time": "2022-02-04T18:22:28.919Z"
   },
   {
    "duration": 5,
    "start_time": "2022-02-04T18:22:35.176Z"
   },
   {
    "duration": 12,
    "start_time": "2022-02-04T18:22:59.217Z"
   },
   {
    "duration": 9,
    "start_time": "2022-02-04T18:23:03.592Z"
   },
   {
    "duration": 9,
    "start_time": "2022-02-04T18:23:13.358Z"
   },
   {
    "duration": 5,
    "start_time": "2022-02-04T18:28:45.445Z"
   },
   {
    "duration": 9,
    "start_time": "2022-02-04T18:28:53.954Z"
   },
   {
    "duration": 10,
    "start_time": "2022-02-04T18:29:03.371Z"
   },
   {
    "duration": 6,
    "start_time": "2022-02-04T18:29:38.467Z"
   },
   {
    "duration": 5,
    "start_time": "2022-02-04T18:30:00.796Z"
   },
   {
    "duration": 6,
    "start_time": "2022-02-04T18:30:07.800Z"
   },
   {
    "duration": 6,
    "start_time": "2022-02-04T18:30:59.725Z"
   },
   {
    "duration": 6,
    "start_time": "2022-02-04T18:31:07.251Z"
   },
   {
    "duration": 7,
    "start_time": "2022-02-04T18:31:28.712Z"
   },
   {
    "duration": 6,
    "start_time": "2022-02-04T18:31:35.115Z"
   },
   {
    "duration": 5,
    "start_time": "2022-02-04T18:55:45.094Z"
   },
   {
    "duration": 8,
    "start_time": "2022-02-04T19:09:09.847Z"
   },
   {
    "duration": 210,
    "start_time": "2022-02-04T19:10:00.124Z"
   },
   {
    "duration": 236,
    "start_time": "2022-02-04T19:10:14.709Z"
   },
   {
    "duration": 403,
    "start_time": "2022-02-04T19:10:22.977Z"
   },
   {
    "duration": 223,
    "start_time": "2022-02-04T19:10:34.306Z"
   },
   {
    "duration": 7,
    "start_time": "2022-02-04T19:10:52.782Z"
   },
   {
    "duration": 10,
    "start_time": "2022-02-04T19:11:29.632Z"
   },
   {
    "duration": 7,
    "start_time": "2022-02-04T19:13:03.987Z"
   },
   {
    "duration": 6,
    "start_time": "2022-02-04T19:13:09.450Z"
   },
   {
    "duration": 72,
    "start_time": "2022-02-04T19:17:00.173Z"
   },
   {
    "duration": 15,
    "start_time": "2022-02-04T19:17:12.071Z"
   },
   {
    "duration": 8,
    "start_time": "2022-02-04T19:17:17.909Z"
   },
   {
    "duration": 75,
    "start_time": "2022-02-04T19:20:56.579Z"
   },
   {
    "duration": 225,
    "start_time": "2022-02-04T19:21:50.743Z"
   },
   {
    "duration": 8,
    "start_time": "2022-02-04T19:22:12.207Z"
   },
   {
    "duration": 10,
    "start_time": "2022-02-04T19:23:20.451Z"
   },
   {
    "duration": 1043,
    "start_time": "2022-02-05T08:08:09.652Z"
   },
   {
    "duration": 23328,
    "start_time": "2022-02-05T08:08:10.698Z"
   },
   {
    "duration": 70,
    "start_time": "2022-02-05T08:08:34.029Z"
   },
   {
    "duration": 7,
    "start_time": "2022-02-05T08:08:34.102Z"
   },
   {
    "duration": 41,
    "start_time": "2022-02-05T08:08:34.111Z"
   },
   {
    "duration": 31,
    "start_time": "2022-02-05T08:08:34.154Z"
   },
   {
    "duration": 27,
    "start_time": "2022-02-05T08:08:34.187Z"
   },
   {
    "duration": 26,
    "start_time": "2022-02-05T08:08:34.218Z"
   },
   {
    "duration": 22,
    "start_time": "2022-02-05T08:08:34.248Z"
   },
   {
    "duration": 91,
    "start_time": "2022-02-05T08:08:34.273Z"
   },
   {
    "duration": 14,
    "start_time": "2022-02-05T08:08:34.366Z"
   },
   {
    "duration": 22,
    "start_time": "2022-02-05T08:08:34.383Z"
   },
   {
    "duration": 24,
    "start_time": "2022-02-05T08:08:34.407Z"
   },
   {
    "duration": 19,
    "start_time": "2022-02-05T08:08:34.434Z"
   },
   {
    "duration": 22,
    "start_time": "2022-02-05T08:08:34.455Z"
   },
   {
    "duration": 32,
    "start_time": "2022-02-05T08:08:34.479Z"
   },
   {
    "duration": 30,
    "start_time": "2022-02-05T08:08:34.513Z"
   },
   {
    "duration": 32,
    "start_time": "2022-02-05T08:08:34.544Z"
   },
   {
    "duration": 21,
    "start_time": "2022-02-05T08:08:34.578Z"
   },
   {
    "duration": 21,
    "start_time": "2022-02-05T08:08:34.601Z"
   },
   {
    "duration": 37,
    "start_time": "2022-02-05T08:08:34.623Z"
   },
   {
    "duration": 14,
    "start_time": "2022-02-05T08:08:34.662Z"
   },
   {
    "duration": 30,
    "start_time": "2022-02-05T08:08:34.680Z"
   },
   {
    "duration": 18,
    "start_time": "2022-02-05T08:08:34.712Z"
   },
   {
    "duration": 25,
    "start_time": "2022-02-05T08:08:34.732Z"
   },
   {
    "duration": 35,
    "start_time": "2022-02-05T08:08:34.759Z"
   },
   {
    "duration": 22,
    "start_time": "2022-02-05T08:08:34.796Z"
   },
   {
    "duration": 35,
    "start_time": "2022-02-05T08:08:34.820Z"
   },
   {
    "duration": 28,
    "start_time": "2022-02-05T08:08:34.857Z"
   },
   {
    "duration": 39,
    "start_time": "2022-02-05T08:08:34.887Z"
   },
   {
    "duration": 23,
    "start_time": "2022-02-05T08:08:34.928Z"
   },
   {
    "duration": 16,
    "start_time": "2022-02-05T08:09:08.909Z"
   },
   {
    "duration": 365,
    "start_time": "2022-02-05T08:09:49.444Z"
   },
   {
    "duration": 10,
    "start_time": "2022-02-05T08:09:57.125Z"
   },
   {
    "duration": 12,
    "start_time": "2022-02-05T08:10:38.179Z"
   },
   {
    "duration": 10,
    "start_time": "2022-02-05T08:10:58.170Z"
   },
   {
    "duration": 21,
    "start_time": "2022-02-05T08:11:12.781Z"
   },
   {
    "duration": 265,
    "start_time": "2022-02-05T08:12:18.431Z"
   },
   {
    "duration": 20,
    "start_time": "2022-02-05T08:12:59.244Z"
   },
   {
    "duration": 19,
    "start_time": "2022-02-05T08:13:52.682Z"
   },
   {
    "duration": 9,
    "start_time": "2022-02-05T08:15:33.909Z"
   },
   {
    "duration": 278,
    "start_time": "2022-02-05T08:16:15.373Z"
   },
   {
    "duration": 6,
    "start_time": "2022-02-05T08:16:28.870Z"
   },
   {
    "duration": 4,
    "start_time": "2022-02-05T08:16:39.120Z"
   },
   {
    "duration": 10,
    "start_time": "2022-02-05T08:17:27.311Z"
   },
   {
    "duration": 9,
    "start_time": "2022-02-05T08:17:32.298Z"
   },
   {
    "duration": 7,
    "start_time": "2022-02-05T08:17:52.729Z"
   },
   {
    "duration": 7,
    "start_time": "2022-02-05T08:17:59.273Z"
   },
   {
    "duration": 305,
    "start_time": "2022-02-05T11:58:17.321Z"
   },
   {
    "duration": 262,
    "start_time": "2022-02-05T11:58:27.400Z"
   },
   {
    "duration": 267,
    "start_time": "2022-02-05T11:58:34.375Z"
   },
   {
    "duration": 257,
    "start_time": "2022-02-05T11:58:38.477Z"
   },
   {
    "duration": 256,
    "start_time": "2022-02-05T11:58:41.200Z"
   },
   {
    "duration": 282,
    "start_time": "2022-02-05T11:58:44.077Z"
   },
   {
    "duration": 282,
    "start_time": "2022-02-05T11:58:48.822Z"
   },
   {
    "duration": 261,
    "start_time": "2022-02-05T11:58:59.153Z"
   },
   {
    "duration": 95,
    "start_time": "2022-02-05T11:59:08.301Z"
   },
   {
    "duration": 4,
    "start_time": "2022-02-05T11:59:16.531Z"
   },
   {
    "duration": 272,
    "start_time": "2022-02-05T11:59:51.960Z"
   },
   {
    "duration": 303,
    "start_time": "2022-02-05T12:00:00.998Z"
   },
   {
    "duration": 262,
    "start_time": "2022-02-05T12:00:32.202Z"
   },
   {
    "duration": 294,
    "start_time": "2022-02-05T12:00:38.222Z"
   },
   {
    "duration": 274,
    "start_time": "2022-02-05T12:00:51.433Z"
   },
   {
    "duration": 282,
    "start_time": "2022-02-05T12:01:38.979Z"
   },
   {
    "duration": 268,
    "start_time": "2022-02-05T12:01:58.170Z"
   },
   {
    "duration": 5,
    "start_time": "2022-02-05T12:03:30.717Z"
   },
   {
    "duration": 6,
    "start_time": "2022-02-05T12:03:31.889Z"
   },
   {
    "duration": 2,
    "start_time": "2022-02-05T12:25:29.453Z"
   },
   {
    "duration": 6,
    "start_time": "2022-02-05T12:26:21.709Z"
   },
   {
    "duration": 7,
    "start_time": "2022-02-05T12:26:29.298Z"
   },
   {
    "duration": 5,
    "start_time": "2022-02-05T12:26:46.669Z"
   },
   {
    "duration": 2,
    "start_time": "2022-02-05T12:26:48.162Z"
   },
   {
    "duration": 7,
    "start_time": "2022-02-05T12:26:48.491Z"
   },
   {
    "duration": 7,
    "start_time": "2022-02-05T12:26:58.813Z"
   },
   {
    "duration": 6,
    "start_time": "2022-02-05T12:27:06.037Z"
   },
   {
    "duration": 1095,
    "start_time": "2022-02-05T12:27:11.821Z"
   },
   {
    "duration": 66732,
    "start_time": "2022-02-05T12:27:12.918Z"
   },
   {
    "duration": 56,
    "start_time": "2022-02-05T12:28:19.653Z"
   },
   {
    "duration": 6,
    "start_time": "2022-02-05T12:28:19.711Z"
   },
   {
    "duration": 21,
    "start_time": "2022-02-05T12:28:19.718Z"
   },
   {
    "duration": 15,
    "start_time": "2022-02-05T12:28:19.741Z"
   },
   {
    "duration": 6,
    "start_time": "2022-02-05T12:28:19.757Z"
   },
   {
    "duration": 10,
    "start_time": "2022-02-05T12:28:19.765Z"
   },
   {
    "duration": 26,
    "start_time": "2022-02-05T12:28:19.778Z"
   },
   {
    "duration": 55,
    "start_time": "2022-02-05T12:28:19.806Z"
   },
   {
    "duration": 9,
    "start_time": "2022-02-05T12:28:19.862Z"
   },
   {
    "duration": 13,
    "start_time": "2022-02-05T12:28:19.872Z"
   },
   {
    "duration": 10,
    "start_time": "2022-02-05T12:28:19.886Z"
   },
   {
    "duration": 9,
    "start_time": "2022-02-05T12:28:19.897Z"
   },
   {
    "duration": 8,
    "start_time": "2022-02-05T12:28:19.908Z"
   },
   {
    "duration": 7,
    "start_time": "2022-02-05T12:28:19.918Z"
   },
   {
    "duration": 10,
    "start_time": "2022-02-05T12:28:19.927Z"
   },
   {
    "duration": 12,
    "start_time": "2022-02-05T12:28:19.939Z"
   },
   {
    "duration": 10,
    "start_time": "2022-02-05T12:28:19.953Z"
   },
   {
    "duration": 6,
    "start_time": "2022-02-05T12:28:19.964Z"
   },
   {
    "duration": 30,
    "start_time": "2022-02-05T12:28:19.972Z"
   },
   {
    "duration": 14,
    "start_time": "2022-02-05T12:28:20.004Z"
   },
   {
    "duration": 10,
    "start_time": "2022-02-05T12:28:20.022Z"
   },
   {
    "duration": 14,
    "start_time": "2022-02-05T12:28:20.034Z"
   },
   {
    "duration": 8,
    "start_time": "2022-02-05T12:28:20.050Z"
   },
   {
    "duration": 13,
    "start_time": "2022-02-05T12:28:20.060Z"
   },
   {
    "duration": 10,
    "start_time": "2022-02-05T12:28:20.074Z"
   },
   {
    "duration": 6,
    "start_time": "2022-02-05T12:28:20.099Z"
   },
   {
    "duration": 8,
    "start_time": "2022-02-05T12:28:20.107Z"
   },
   {
    "duration": 7,
    "start_time": "2022-02-05T12:28:20.116Z"
   },
   {
    "duration": 10,
    "start_time": "2022-02-05T12:28:20.124Z"
   },
   {
    "duration": 15,
    "start_time": "2022-02-05T12:28:20.136Z"
   },
   {
    "duration": 15,
    "start_time": "2022-02-05T12:28:20.153Z"
   },
   {
    "duration": 32,
    "start_time": "2022-02-05T12:28:20.169Z"
   },
   {
    "duration": 9,
    "start_time": "2022-02-05T12:28:20.203Z"
   },
   {
    "duration": 12,
    "start_time": "2022-02-05T12:28:20.214Z"
   },
   {
    "duration": 11,
    "start_time": "2022-02-05T12:28:20.228Z"
   },
   {
    "duration": 12,
    "start_time": "2022-02-05T12:28:20.241Z"
   },
   {
    "duration": 7,
    "start_time": "2022-02-05T12:28:20.255Z"
   },
   {
    "duration": 41,
    "start_time": "2022-02-05T12:28:20.264Z"
   },
   {
    "duration": 7,
    "start_time": "2022-02-05T12:28:20.306Z"
   },
   {
    "duration": 9,
    "start_time": "2022-02-05T12:28:20.314Z"
   },
   {
    "duration": 6,
    "start_time": "2022-02-05T13:45:47.830Z"
   },
   {
    "duration": 7,
    "start_time": "2022-02-05T13:48:13.802Z"
   },
   {
    "duration": 6,
    "start_time": "2022-02-05T13:48:15.142Z"
   },
   {
    "duration": 7,
    "start_time": "2022-02-05T13:50:08.115Z"
   },
   {
    "duration": 8,
    "start_time": "2022-02-05T13:50:08.902Z"
   },
   {
    "duration": 372,
    "start_time": "2022-02-05T13:53:48.955Z"
   },
   {
    "duration": 16,
    "start_time": "2022-02-05T13:54:02.082Z"
   },
   {
    "duration": 287,
    "start_time": "2022-02-05T13:54:11.144Z"
   },
   {
    "duration": 9,
    "start_time": "2022-02-05T13:54:18.532Z"
   },
   {
    "duration": 13,
    "start_time": "2022-02-05T13:54:37.944Z"
   },
   {
    "duration": 11,
    "start_time": "2022-02-05T14:08:15.962Z"
   },
   {
    "duration": 9,
    "start_time": "2022-02-05T14:14:48.191Z"
   },
   {
    "duration": 5,
    "start_time": "2022-02-05T14:16:08.697Z"
   },
   {
    "duration": 11,
    "start_time": "2022-02-05T14:17:29.193Z"
   },
   {
    "duration": 4,
    "start_time": "2022-02-05T14:18:13.728Z"
   },
   {
    "duration": 5,
    "start_time": "2022-02-05T14:18:53.280Z"
   },
   {
    "duration": 8,
    "start_time": "2022-02-05T14:38:41.550Z"
   },
   {
    "duration": 8,
    "start_time": "2022-02-05T14:38:46.184Z"
   },
   {
    "duration": 8,
    "start_time": "2022-02-05T14:48:37.230Z"
   },
   {
    "duration": 8,
    "start_time": "2022-02-05T14:48:37.848Z"
   },
   {
    "duration": 7,
    "start_time": "2022-02-05T15:52:25.689Z"
   },
   {
    "duration": 8,
    "start_time": "2022-02-05T15:52:33.282Z"
   },
   {
    "duration": 3,
    "start_time": "2022-02-05T15:53:44.535Z"
   },
   {
    "duration": 7,
    "start_time": "2022-02-05T15:54:16.944Z"
   },
   {
    "duration": 16,
    "start_time": "2022-02-05T15:54:32.611Z"
   },
   {
    "duration": 292,
    "start_time": "2022-02-05T15:55:20.670Z"
   },
   {
    "duration": 13,
    "start_time": "2022-02-05T15:55:26.170Z"
   },
   {
    "duration": 255,
    "start_time": "2022-02-05T16:17:11.388Z"
   },
   {
    "duration": 272,
    "start_time": "2022-02-05T16:17:25.911Z"
   },
   {
    "duration": 1117,
    "start_time": "2022-02-05T16:18:01.994Z"
   },
   {
    "duration": 85343,
    "start_time": "2022-02-05T16:18:03.113Z"
   },
   {
    "duration": 58,
    "start_time": "2022-02-05T16:19:28.461Z"
   },
   {
    "duration": 5,
    "start_time": "2022-02-05T16:19:28.521Z"
   },
   {
    "duration": 20,
    "start_time": "2022-02-05T16:19:28.528Z"
   },
   {
    "duration": 12,
    "start_time": "2022-02-05T16:19:28.550Z"
   },
   {
    "duration": 7,
    "start_time": "2022-02-05T16:19:28.564Z"
   },
   {
    "duration": 12,
    "start_time": "2022-02-05T16:19:28.573Z"
   },
   {
    "duration": 19,
    "start_time": "2022-02-05T16:19:28.586Z"
   },
   {
    "duration": 54,
    "start_time": "2022-02-05T16:19:28.607Z"
   },
   {
    "duration": 9,
    "start_time": "2022-02-05T16:19:28.662Z"
   },
   {
    "duration": 8,
    "start_time": "2022-02-05T16:19:28.673Z"
   },
   {
    "duration": 9,
    "start_time": "2022-02-05T16:19:28.683Z"
   },
   {
    "duration": 6,
    "start_time": "2022-02-05T16:19:28.694Z"
   },
   {
    "duration": 9,
    "start_time": "2022-02-05T16:19:28.702Z"
   },
   {
    "duration": 9,
    "start_time": "2022-02-05T16:19:28.713Z"
   },
   {
    "duration": 13,
    "start_time": "2022-02-05T16:19:28.724Z"
   },
   {
    "duration": 9,
    "start_time": "2022-02-05T16:19:28.739Z"
   },
   {
    "duration": 12,
    "start_time": "2022-02-05T16:19:28.750Z"
   },
   {
    "duration": 9,
    "start_time": "2022-02-05T16:19:28.764Z"
   },
   {
    "duration": 26,
    "start_time": "2022-02-05T16:19:28.775Z"
   },
   {
    "duration": 7,
    "start_time": "2022-02-05T16:19:28.803Z"
   },
   {
    "duration": 4,
    "start_time": "2022-02-05T16:19:28.814Z"
   },
   {
    "duration": 11,
    "start_time": "2022-02-05T16:19:28.820Z"
   },
   {
    "duration": 8,
    "start_time": "2022-02-05T16:19:28.833Z"
   },
   {
    "duration": 7,
    "start_time": "2022-02-05T16:19:28.843Z"
   },
   {
    "duration": 5,
    "start_time": "2022-02-05T16:19:28.852Z"
   },
   {
    "duration": 8,
    "start_time": "2022-02-05T16:19:28.859Z"
   },
   {
    "duration": 37,
    "start_time": "2022-02-05T16:19:28.869Z"
   },
   {
    "duration": 9,
    "start_time": "2022-02-05T16:19:28.908Z"
   },
   {
    "duration": 12,
    "start_time": "2022-02-05T16:19:28.919Z"
   },
   {
    "duration": 10,
    "start_time": "2022-02-05T16:19:28.933Z"
   },
   {
    "duration": 11,
    "start_time": "2022-02-05T16:19:28.944Z"
   },
   {
    "duration": 46,
    "start_time": "2022-02-05T16:19:28.956Z"
   },
   {
    "duration": 8,
    "start_time": "2022-02-05T16:19:29.004Z"
   },
   {
    "duration": 10,
    "start_time": "2022-02-05T16:19:29.013Z"
   },
   {
    "duration": 6,
    "start_time": "2022-02-05T16:19:29.025Z"
   },
   {
    "duration": 9,
    "start_time": "2022-02-05T16:19:29.032Z"
   },
   {
    "duration": 7,
    "start_time": "2022-02-05T16:19:29.043Z"
   },
   {
    "duration": 12,
    "start_time": "2022-02-05T16:19:29.051Z"
   },
   {
    "duration": 35,
    "start_time": "2022-02-05T16:19:29.064Z"
   },
   {
    "duration": 6,
    "start_time": "2022-02-05T16:19:29.101Z"
   },
   {
    "duration": 9,
    "start_time": "2022-02-05T16:19:29.108Z"
   },
   {
    "duration": 8,
    "start_time": "2022-02-05T16:20:37.767Z"
   },
   {
    "duration": 15,
    "start_time": "2022-02-05T16:20:48.510Z"
   },
   {
    "duration": 3,
    "start_time": "2022-02-05T16:22:09.538Z"
   },
   {
    "duration": 4,
    "start_time": "2022-02-05T16:22:47.977Z"
   },
   {
    "duration": 9,
    "start_time": "2022-02-05T16:22:53.037Z"
   },
   {
    "duration": 8,
    "start_time": "2022-02-05T16:25:11.715Z"
   },
   {
    "duration": 12,
    "start_time": "2022-02-05T16:25:20.294Z"
   },
   {
    "duration": 16,
    "start_time": "2022-02-05T16:25:24.599Z"
   },
   {
    "duration": 12,
    "start_time": "2022-02-05T16:25:58.741Z"
   },
   {
    "duration": 12,
    "start_time": "2022-02-05T16:26:16.149Z"
   },
   {
    "duration": 8,
    "start_time": "2022-02-05T17:01:43.051Z"
   },
   {
    "duration": 9,
    "start_time": "2022-02-05T17:01:47.162Z"
   },
   {
    "duration": 8,
    "start_time": "2022-02-05T17:01:59.788Z"
   },
   {
    "duration": 8,
    "start_time": "2022-02-05T17:02:10.437Z"
   },
   {
    "duration": 9,
    "start_time": "2022-02-05T17:02:17.927Z"
   },
   {
    "duration": 9,
    "start_time": "2022-02-05T17:02:19.645Z"
   },
   {
    "duration": 7,
    "start_time": "2022-02-05T17:17:18.953Z"
   },
   {
    "duration": 96,
    "start_time": "2022-02-05T17:18:13.568Z"
   },
   {
    "duration": 10,
    "start_time": "2022-02-05T17:19:10.911Z"
   },
   {
    "duration": 14,
    "start_time": "2022-02-05T17:20:08.004Z"
   },
   {
    "duration": 11,
    "start_time": "2022-02-05T17:20:48.182Z"
   },
   {
    "duration": 1123,
    "start_time": "2022-02-05T17:21:05.889Z"
   },
   {
    "duration": 2713,
    "start_time": "2022-02-05T17:21:07.014Z"
   },
   {
    "duration": 58,
    "start_time": "2022-02-05T17:21:09.730Z"
   },
   {
    "duration": 6,
    "start_time": "2022-02-05T17:21:09.790Z"
   },
   {
    "duration": 25,
    "start_time": "2022-02-05T17:21:09.797Z"
   },
   {
    "duration": 14,
    "start_time": "2022-02-05T17:21:09.824Z"
   },
   {
    "duration": 5,
    "start_time": "2022-02-05T17:21:09.839Z"
   },
   {
    "duration": 13,
    "start_time": "2022-02-05T17:21:09.847Z"
   },
   {
    "duration": 9,
    "start_time": "2022-02-05T17:21:09.862Z"
   },
   {
    "duration": 58,
    "start_time": "2022-02-05T17:21:09.873Z"
   },
   {
    "duration": 9,
    "start_time": "2022-02-05T17:21:09.933Z"
   },
   {
    "duration": 9,
    "start_time": "2022-02-05T17:21:09.943Z"
   },
   {
    "duration": 6,
    "start_time": "2022-02-05T17:21:09.954Z"
   },
   {
    "duration": 6,
    "start_time": "2022-02-05T17:21:09.962Z"
   },
   {
    "duration": 9,
    "start_time": "2022-02-05T17:21:09.969Z"
   },
   {
    "duration": 7,
    "start_time": "2022-02-05T17:21:09.980Z"
   },
   {
    "duration": 11,
    "start_time": "2022-02-05T17:21:09.989Z"
   },
   {
    "duration": 18,
    "start_time": "2022-02-05T17:21:10.002Z"
   },
   {
    "duration": 10,
    "start_time": "2022-02-05T17:21:10.022Z"
   },
   {
    "duration": 7,
    "start_time": "2022-02-05T17:21:10.034Z"
   },
   {
    "duration": 12,
    "start_time": "2022-02-05T17:21:10.043Z"
   },
   {
    "duration": 11,
    "start_time": "2022-02-05T17:21:10.057Z"
   },
   {
    "duration": 4,
    "start_time": "2022-02-05T17:21:10.072Z"
   },
   {
    "duration": 6,
    "start_time": "2022-02-05T17:21:10.100Z"
   },
   {
    "duration": 11,
    "start_time": "2022-02-05T17:21:10.108Z"
   },
   {
    "duration": 7,
    "start_time": "2022-02-05T17:21:10.121Z"
   },
   {
    "duration": 7,
    "start_time": "2022-02-05T17:21:10.130Z"
   },
   {
    "duration": 6,
    "start_time": "2022-02-05T17:21:10.138Z"
   },
   {
    "duration": 16,
    "start_time": "2022-02-05T17:21:10.146Z"
   },
   {
    "duration": 37,
    "start_time": "2022-02-05T17:21:10.164Z"
   },
   {
    "duration": 12,
    "start_time": "2022-02-05T17:21:10.203Z"
   },
   {
    "duration": 13,
    "start_time": "2022-02-05T17:21:10.217Z"
   },
   {
    "duration": 14,
    "start_time": "2022-02-05T17:21:10.233Z"
   },
   {
    "duration": 11,
    "start_time": "2022-02-05T17:21:10.250Z"
   },
   {
    "duration": 41,
    "start_time": "2022-02-05T17:21:10.263Z"
   },
   {
    "duration": 7,
    "start_time": "2022-02-05T17:21:10.306Z"
   },
   {
    "duration": 10,
    "start_time": "2022-02-05T17:21:10.315Z"
   },
   {
    "duration": 11,
    "start_time": "2022-02-05T17:21:10.327Z"
   },
   {
    "duration": 9,
    "start_time": "2022-02-05T17:21:10.340Z"
   },
   {
    "duration": 6,
    "start_time": "2022-02-05T17:21:10.351Z"
   },
   {
    "duration": 7,
    "start_time": "2022-02-05T17:21:10.359Z"
   },
   {
    "duration": 33,
    "start_time": "2022-02-05T17:21:10.368Z"
   },
   {
    "duration": 13,
    "start_time": "2022-02-05T17:21:10.403Z"
   },
   {
    "duration": 7,
    "start_time": "2022-02-05T17:21:10.418Z"
   },
   {
    "duration": 7,
    "start_time": "2022-02-05T17:21:10.426Z"
   },
   {
    "duration": 10,
    "start_time": "2022-02-05T17:21:10.434Z"
   },
   {
    "duration": 16,
    "start_time": "2022-02-05T17:21:10.445Z"
   },
   {
    "duration": 40,
    "start_time": "2022-02-05T17:21:10.463Z"
   },
   {
    "duration": 10,
    "start_time": "2022-02-05T17:21:10.505Z"
   },
   {
    "duration": 14,
    "start_time": "2022-02-05T17:21:10.517Z"
   },
   {
    "duration": 8,
    "start_time": "2022-02-05T17:21:10.533Z"
   },
   {
    "duration": 8,
    "start_time": "2022-02-05T17:21:10.543Z"
   },
   {
    "duration": 7,
    "start_time": "2022-02-05T17:21:10.553Z"
   },
   {
    "duration": 47,
    "start_time": "2022-02-05T17:21:10.562Z"
   },
   {
    "duration": 11,
    "start_time": "2022-02-05T17:21:10.611Z"
   },
   {
    "duration": 5,
    "start_time": "2022-02-05T17:22:57.007Z"
   },
   {
    "duration": 4,
    "start_time": "2022-02-05T17:24:38.836Z"
   },
   {
    "duration": 4,
    "start_time": "2022-02-05T17:24:48.160Z"
   },
   {
    "duration": 8,
    "start_time": "2022-02-05T17:24:56.341Z"
   },
   {
    "duration": 4,
    "start_time": "2022-02-05T17:25:05.025Z"
   },
   {
    "duration": 10,
    "start_time": "2022-02-05T17:25:38.628Z"
   },
   {
    "duration": 4,
    "start_time": "2022-02-05T17:25:39.392Z"
   },
   {
    "duration": 7,
    "start_time": "2022-02-05T17:25:50.156Z"
   },
   {
    "duration": 5,
    "start_time": "2022-02-05T17:25:50.590Z"
   },
   {
    "duration": 9,
    "start_time": "2022-02-05T17:25:58.045Z"
   },
   {
    "duration": 4,
    "start_time": "2022-02-05T17:25:58.342Z"
   },
   {
    "duration": 8,
    "start_time": "2022-02-05T17:26:04.583Z"
   },
   {
    "duration": 4,
    "start_time": "2022-02-05T17:26:05.032Z"
   },
   {
    "duration": 10,
    "start_time": "2022-02-05T17:26:31.656Z"
   },
   {
    "duration": 4,
    "start_time": "2022-02-05T17:26:31.936Z"
   },
   {
    "duration": 8,
    "start_time": "2022-02-05T17:26:35.035Z"
   },
   {
    "duration": 8,
    "start_time": "2022-02-05T17:26:38.084Z"
   },
   {
    "duration": 4,
    "start_time": "2022-02-05T17:26:38.282Z"
   },
   {
    "duration": 8,
    "start_time": "2022-02-05T17:26:43.392Z"
   },
   {
    "duration": 4,
    "start_time": "2022-02-05T17:26:44.270Z"
   },
   {
    "duration": 360,
    "start_time": "2022-02-05T17:26:48.606Z"
   },
   {
    "duration": 4,
    "start_time": "2022-02-05T17:26:49.036Z"
   },
   {
    "duration": 331,
    "start_time": "2022-02-05T17:27:14.506Z"
   },
   {
    "duration": 278,
    "start_time": "2022-02-05T17:28:18.933Z"
   },
   {
    "duration": 256,
    "start_time": "2022-02-05T17:28:37.858Z"
   },
   {
    "duration": 9,
    "start_time": "2022-02-05T17:28:42.752Z"
   },
   {
    "duration": 4,
    "start_time": "2022-02-05T17:28:45.428Z"
   },
   {
    "duration": 8,
    "start_time": "2022-02-05T17:30:17.474Z"
   },
   {
    "duration": 5,
    "start_time": "2022-02-05T17:30:18.141Z"
   },
   {
    "duration": 5,
    "start_time": "2022-02-05T17:30:21.386Z"
   },
   {
    "duration": 8,
    "start_time": "2022-02-05T17:30:23.205Z"
   },
   {
    "duration": 5,
    "start_time": "2022-02-05T17:30:23.215Z"
   },
   {
    "duration": 208,
    "start_time": "2022-02-05T17:31:37.561Z"
   },
   {
    "duration": 4,
    "start_time": "2022-02-05T17:31:38.776Z"
   },
   {
    "duration": 8,
    "start_time": "2022-02-05T17:31:50.969Z"
   },
   {
    "duration": 1047,
    "start_time": "2022-02-05T17:32:31.756Z"
   },
   {
    "duration": 263,
    "start_time": "2022-02-05T17:32:53.754Z"
   },
   {
    "duration": 4,
    "start_time": "2022-02-05T17:33:24.877Z"
   },
   {
    "duration": 3,
    "start_time": "2022-02-05T17:33:26.403Z"
   },
   {
    "duration": 8,
    "start_time": "2022-02-05T17:33:27.631Z"
   },
   {
    "duration": 17,
    "start_time": "2022-02-05T17:33:29.042Z"
   },
   {
    "duration": 12,
    "start_time": "2022-02-05T17:33:36.343Z"
   },
   {
    "duration": 10,
    "start_time": "2022-02-05T17:33:38.609Z"
   },
   {
    "duration": 9,
    "start_time": "2022-02-05T17:33:45.166Z"
   },
   {
    "duration": 9,
    "start_time": "2022-02-05T17:33:46.738Z"
   },
   {
    "duration": 14,
    "start_time": "2022-02-05T17:33:51.666Z"
   },
   {
    "duration": 12,
    "start_time": "2022-02-05T17:34:11.243Z"
   },
   {
    "duration": 9,
    "start_time": "2022-02-05T17:34:21.231Z"
   },
   {
    "duration": 8,
    "start_time": "2022-02-05T17:34:21.547Z"
   },
   {
    "duration": 13,
    "start_time": "2022-02-05T17:36:52.065Z"
   },
   {
    "duration": 3,
    "start_time": "2022-02-05T17:46:28.491Z"
   },
   {
    "duration": 4,
    "start_time": "2022-02-05T17:46:39.322Z"
   },
   {
    "duration": 4,
    "start_time": "2022-02-05T17:46:46.192Z"
   },
   {
    "duration": 10,
    "start_time": "2022-02-05T17:46:55.465Z"
   },
   {
    "duration": 8,
    "start_time": "2022-02-05T17:47:33.457Z"
   },
   {
    "duration": 328,
    "start_time": "2022-02-06T06:52:39.542Z"
   },
   {
    "duration": 1133,
    "start_time": "2022-02-06T06:52:46.527Z"
   },
   {
    "duration": 3493,
    "start_time": "2022-02-06T06:52:47.663Z"
   },
   {
    "duration": 63,
    "start_time": "2022-02-06T06:52:51.159Z"
   },
   {
    "duration": 6,
    "start_time": "2022-02-06T06:52:51.224Z"
   },
   {
    "duration": 27,
    "start_time": "2022-02-06T06:52:51.232Z"
   },
   {
    "duration": 13,
    "start_time": "2022-02-06T06:52:51.261Z"
   },
   {
    "duration": 17,
    "start_time": "2022-02-06T06:52:51.276Z"
   },
   {
    "duration": 13,
    "start_time": "2022-02-06T06:52:51.295Z"
   },
   {
    "duration": 9,
    "start_time": "2022-02-06T06:52:51.310Z"
   },
   {
    "duration": 60,
    "start_time": "2022-02-06T06:52:51.321Z"
   },
   {
    "duration": 9,
    "start_time": "2022-02-06T06:52:51.382Z"
   },
   {
    "duration": 10,
    "start_time": "2022-02-06T06:52:51.393Z"
   },
   {
    "duration": 7,
    "start_time": "2022-02-06T06:52:51.405Z"
   },
   {
    "duration": 10,
    "start_time": "2022-02-06T06:52:51.414Z"
   },
   {
    "duration": 9,
    "start_time": "2022-02-06T06:52:51.426Z"
   },
   {
    "duration": 11,
    "start_time": "2022-02-06T06:52:51.437Z"
   },
   {
    "duration": 9,
    "start_time": "2022-02-06T06:52:51.451Z"
   },
   {
    "duration": 11,
    "start_time": "2022-02-06T06:52:51.462Z"
   },
   {
    "duration": 8,
    "start_time": "2022-02-06T06:52:51.475Z"
   },
   {
    "duration": 26,
    "start_time": "2022-02-06T06:52:51.485Z"
   },
   {
    "duration": 16,
    "start_time": "2022-02-06T06:52:51.513Z"
   },
   {
    "duration": 20,
    "start_time": "2022-02-06T06:52:51.531Z"
   },
   {
    "duration": 18,
    "start_time": "2022-02-06T06:52:51.555Z"
   },
   {
    "duration": 6,
    "start_time": "2022-02-06T06:52:51.576Z"
   },
   {
    "duration": 14,
    "start_time": "2022-02-06T06:52:51.584Z"
   },
   {
    "duration": 7,
    "start_time": "2022-02-06T06:52:51.608Z"
   },
   {
    "duration": 10,
    "start_time": "2022-02-06T06:52:51.617Z"
   },
   {
    "duration": 13,
    "start_time": "2022-02-06T06:52:51.629Z"
   },
   {
    "duration": 21,
    "start_time": "2022-02-06T06:52:51.645Z"
   },
   {
    "duration": 18,
    "start_time": "2022-02-06T06:52:51.668Z"
   },
   {
    "duration": 29,
    "start_time": "2022-02-06T06:52:51.688Z"
   },
   {
    "duration": 12,
    "start_time": "2022-02-06T06:52:51.719Z"
   },
   {
    "duration": 9,
    "start_time": "2022-02-06T06:52:51.733Z"
   },
   {
    "duration": 10,
    "start_time": "2022-02-06T06:52:51.744Z"
   },
   {
    "duration": 13,
    "start_time": "2022-02-06T06:52:51.756Z"
   },
   {
    "duration": 37,
    "start_time": "2022-02-06T06:52:51.772Z"
   },
   {
    "duration": 8,
    "start_time": "2022-02-06T06:52:51.811Z"
   },
   {
    "duration": 10,
    "start_time": "2022-02-06T06:52:51.821Z"
   },
   {
    "duration": 12,
    "start_time": "2022-02-06T06:52:51.833Z"
   },
   {
    "duration": 223,
    "start_time": "2022-02-06T06:52:51.847Z"
   },
   {
    "duration": 4,
    "start_time": "2022-02-06T06:52:52.072Z"
   },
   {
    "duration": 30,
    "start_time": "2022-02-06T06:52:52.078Z"
   },
   {
    "duration": 6,
    "start_time": "2022-02-06T06:52:52.110Z"
   },
   {
    "duration": 5,
    "start_time": "2022-02-06T06:52:52.118Z"
   },
   {
    "duration": 9,
    "start_time": "2022-02-06T06:52:52.125Z"
   },
   {
    "duration": 16,
    "start_time": "2022-02-06T06:52:52.136Z"
   },
   {
    "duration": 13,
    "start_time": "2022-02-06T06:52:52.154Z"
   },
   {
    "duration": 11,
    "start_time": "2022-02-06T06:52:52.169Z"
   },
   {
    "duration": 9,
    "start_time": "2022-02-06T06:52:52.208Z"
   },
   {
    "duration": 11,
    "start_time": "2022-02-06T06:52:52.219Z"
   },
   {
    "duration": 9,
    "start_time": "2022-02-06T06:52:52.232Z"
   },
   {
    "duration": 6,
    "start_time": "2022-02-06T06:52:52.243Z"
   },
   {
    "duration": 15,
    "start_time": "2022-02-06T06:52:52.251Z"
   },
   {
    "duration": 9,
    "start_time": "2022-02-06T06:54:41.301Z"
   },
   {
    "duration": 3,
    "start_time": "2022-02-06T06:56:24.190Z"
   },
   {
    "duration": 9,
    "start_time": "2022-02-06T06:56:30.959Z"
   },
   {
    "duration": 11,
    "start_time": "2022-02-06T06:57:01.069Z"
   },
   {
    "duration": 9,
    "start_time": "2022-02-06T06:57:22.602Z"
   },
   {
    "duration": 5,
    "start_time": "2022-02-06T06:58:07.137Z"
   },
   {
    "duration": 12,
    "start_time": "2022-02-06T06:58:13.687Z"
   },
   {
    "duration": 817,
    "start_time": "2022-02-06T06:58:44.697Z"
   },
   {
    "duration": 194,
    "start_time": "2022-02-06T06:59:57.483Z"
   },
   {
    "duration": 559,
    "start_time": "2022-02-06T07:01:14.730Z"
   },
   {
    "duration": 436,
    "start_time": "2022-02-06T07:01:25.640Z"
   },
   {
    "duration": 442,
    "start_time": "2022-02-06T07:01:33.357Z"
   },
   {
    "duration": 236,
    "start_time": "2022-02-06T07:01:38.691Z"
   },
   {
    "duration": 3,
    "start_time": "2022-02-06T07:07:30.331Z"
   },
   {
    "duration": 13,
    "start_time": "2022-02-06T07:11:12.867Z"
   },
   {
    "duration": 12,
    "start_time": "2022-02-06T07:11:21.151Z"
   },
   {
    "duration": 278,
    "start_time": "2022-02-06T07:14:03.882Z"
   },
   {
    "duration": 13,
    "start_time": "2022-02-06T07:14:40.723Z"
   },
   {
    "duration": 11,
    "start_time": "2022-02-06T07:14:42.568Z"
   },
   {
    "duration": 12,
    "start_time": "2022-02-06T07:20:23.567Z"
   },
   {
    "duration": 11,
    "start_time": "2022-02-06T07:20:23.996Z"
   },
   {
    "duration": 11,
    "start_time": "2022-02-06T07:21:26.212Z"
   },
   {
    "duration": 11,
    "start_time": "2022-02-06T07:21:41.374Z"
   },
   {
    "duration": 9,
    "start_time": "2022-02-06T07:21:52.495Z"
   },
   {
    "duration": 4,
    "start_time": "2022-02-06T07:22:10.838Z"
   },
   {
    "duration": 3,
    "start_time": "2022-02-06T07:22:14.314Z"
   },
   {
    "duration": 10,
    "start_time": "2022-02-06T07:22:42.652Z"
   },
   {
    "duration": 344,
    "start_time": "2022-02-06T07:25:02.917Z"
   },
   {
    "duration": 6,
    "start_time": "2022-02-06T07:25:08.618Z"
   },
   {
    "duration": 214,
    "start_time": "2022-02-06T07:26:54.611Z"
   },
   {
    "duration": 304,
    "start_time": "2022-02-06T07:36:01.422Z"
   },
   {
    "duration": 7,
    "start_time": "2022-02-06T07:36:07.754Z"
   },
   {
    "duration": 11,
    "start_time": "2022-02-06T07:38:09.419Z"
   },
   {
    "duration": 907,
    "start_time": "2022-02-06T07:38:55.948Z"
   },
   {
    "duration": 965,
    "start_time": "2022-02-06T07:40:22.802Z"
   },
   {
    "duration": 4203,
    "start_time": "2022-02-06T07:41:31.886Z"
   },
   {
    "duration": 795,
    "start_time": "2022-02-06T07:42:13.958Z"
   },
   {
    "duration": 3806,
    "start_time": "2022-02-06T07:44:49.209Z"
   },
   {
    "duration": 10,
    "start_time": "2022-02-06T07:45:44.332Z"
   },
   {
    "duration": 1014,
    "start_time": "2022-02-06T07:48:10.907Z"
   },
   {
    "duration": 3,
    "start_time": "2022-02-06T07:50:12.083Z"
   },
   {
    "duration": 1920,
    "start_time": "2022-02-06T07:50:15.061Z"
   },
   {
    "duration": 4,
    "start_time": "2022-02-06T07:50:27.659Z"
   },
   {
    "duration": 294,
    "start_time": "2022-02-06T07:57:34.289Z"
   },
   {
    "duration": 1044,
    "start_time": "2022-02-06T07:57:42.365Z"
   },
   {
    "duration": 2533,
    "start_time": "2022-02-06T07:57:43.412Z"
   },
   {
    "duration": 79,
    "start_time": "2022-02-06T07:57:45.948Z"
   },
   {
    "duration": 7,
    "start_time": "2022-02-06T07:57:46.030Z"
   },
   {
    "duration": 28,
    "start_time": "2022-02-06T07:57:46.039Z"
   },
   {
    "duration": 29,
    "start_time": "2022-02-06T07:57:46.070Z"
   },
   {
    "duration": 6,
    "start_time": "2022-02-06T07:57:46.102Z"
   },
   {
    "duration": 17,
    "start_time": "2022-02-06T07:57:46.110Z"
   },
   {
    "duration": 10,
    "start_time": "2022-02-06T07:57:46.131Z"
   },
   {
    "duration": 58,
    "start_time": "2022-02-06T07:57:46.143Z"
   },
   {
    "duration": 9,
    "start_time": "2022-02-06T07:57:46.203Z"
   },
   {
    "duration": 16,
    "start_time": "2022-02-06T07:57:46.214Z"
   },
   {
    "duration": 7,
    "start_time": "2022-02-06T07:57:46.232Z"
   },
   {
    "duration": 8,
    "start_time": "2022-02-06T07:57:46.241Z"
   },
   {
    "duration": 8,
    "start_time": "2022-02-06T07:57:46.252Z"
   },
   {
    "duration": 13,
    "start_time": "2022-02-06T07:57:46.262Z"
   },
   {
    "duration": 31,
    "start_time": "2022-02-06T07:57:46.277Z"
   },
   {
    "duration": 10,
    "start_time": "2022-02-06T07:57:46.310Z"
   },
   {
    "duration": 9,
    "start_time": "2022-02-06T07:57:46.322Z"
   },
   {
    "duration": 10,
    "start_time": "2022-02-06T07:57:46.333Z"
   },
   {
    "duration": 12,
    "start_time": "2022-02-06T07:57:46.346Z"
   },
   {
    "duration": 9,
    "start_time": "2022-02-06T07:57:46.360Z"
   },
   {
    "duration": 24,
    "start_time": "2022-02-06T07:57:46.371Z"
   },
   {
    "duration": 18,
    "start_time": "2022-02-06T07:57:46.397Z"
   },
   {
    "duration": 10,
    "start_time": "2022-02-06T07:57:46.417Z"
   },
   {
    "duration": 13,
    "start_time": "2022-02-06T07:57:46.429Z"
   },
   {
    "duration": 7,
    "start_time": "2022-02-06T07:57:46.447Z"
   },
   {
    "duration": 14,
    "start_time": "2022-02-06T07:57:46.457Z"
   },
   {
    "duration": 22,
    "start_time": "2022-02-06T07:57:46.473Z"
   },
   {
    "duration": 21,
    "start_time": "2022-02-06T07:57:46.497Z"
   },
   {
    "duration": 11,
    "start_time": "2022-02-06T07:57:46.520Z"
   },
   {
    "duration": 17,
    "start_time": "2022-02-06T07:57:46.533Z"
   },
   {
    "duration": 10,
    "start_time": "2022-02-06T07:57:46.552Z"
   },
   {
    "duration": 8,
    "start_time": "2022-02-06T07:57:46.564Z"
   },
   {
    "duration": 7,
    "start_time": "2022-02-06T07:57:46.607Z"
   },
   {
    "duration": 23,
    "start_time": "2022-02-06T07:57:46.616Z"
   },
   {
    "duration": 18,
    "start_time": "2022-02-06T07:57:46.641Z"
   },
   {
    "duration": 26,
    "start_time": "2022-02-06T07:57:46.660Z"
   },
   {
    "duration": 20,
    "start_time": "2022-02-06T07:57:46.688Z"
   },
   {
    "duration": 215,
    "start_time": "2022-02-06T07:57:46.710Z"
   },
   {
    "duration": 4,
    "start_time": "2022-02-06T07:57:46.927Z"
   },
   {
    "duration": 12,
    "start_time": "2022-02-06T07:57:46.933Z"
   },
   {
    "duration": 6,
    "start_time": "2022-02-06T07:57:46.947Z"
   },
   {
    "duration": 6,
    "start_time": "2022-02-06T07:57:46.955Z"
   },
   {
    "duration": 14,
    "start_time": "2022-02-06T07:57:46.962Z"
   },
   {
    "duration": 37,
    "start_time": "2022-02-06T07:57:46.978Z"
   },
   {
    "duration": 14,
    "start_time": "2022-02-06T07:57:47.017Z"
   },
   {
    "duration": 11,
    "start_time": "2022-02-06T07:57:47.033Z"
   },
   {
    "duration": 19,
    "start_time": "2022-02-06T07:57:47.046Z"
   },
   {
    "duration": 8,
    "start_time": "2022-02-06T07:57:47.067Z"
   },
   {
    "duration": 35,
    "start_time": "2022-02-06T07:57:47.077Z"
   },
   {
    "duration": 7,
    "start_time": "2022-02-06T07:57:47.115Z"
   },
   {
    "duration": 12,
    "start_time": "2022-02-06T07:57:47.125Z"
   },
   {
    "duration": 25,
    "start_time": "2022-02-06T07:57:47.139Z"
   },
   {
    "duration": 16,
    "start_time": "2022-02-06T07:57:47.166Z"
   },
   {
    "duration": 11,
    "start_time": "2022-02-06T07:57:47.184Z"
   },
   {
    "duration": 14,
    "start_time": "2022-02-06T07:57:47.197Z"
   },
   {
    "duration": 327,
    "start_time": "2022-02-06T07:57:47.213Z"
   },
   {
    "duration": 3,
    "start_time": "2022-02-06T07:57:47.542Z"
   },
   {
    "duration": 976,
    "start_time": "2022-02-06T07:57:47.547Z"
   },
   {
    "duration": 820,
    "start_time": "2022-02-06T08:00:03.690Z"
   },
   {
    "duration": 215,
    "start_time": "2022-02-06T08:31:28.924Z"
   },
   {
    "duration": 4,
    "start_time": "2022-02-06T08:39:19.885Z"
   },
   {
    "duration": 315,
    "start_time": "2022-02-06T08:39:49.246Z"
   },
   {
    "duration": 252,
    "start_time": "2022-02-06T08:40:39.606Z"
   },
   {
    "duration": 5,
    "start_time": "2022-02-06T08:41:21.431Z"
   },
   {
    "duration": 243,
    "start_time": "2022-02-06T08:42:47.784Z"
   },
   {
    "duration": 444,
    "start_time": "2022-02-06T08:43:26.343Z"
   },
   {
    "duration": 292,
    "start_time": "2022-02-06T08:44:22.029Z"
   },
   {
    "duration": 259,
    "start_time": "2022-02-06T08:44:33.310Z"
   },
   {
    "duration": 210,
    "start_time": "2022-02-06T08:44:49.670Z"
   },
   {
    "duration": 443,
    "start_time": "2022-02-06T08:50:31.232Z"
   },
   {
    "duration": 372,
    "start_time": "2022-02-06T08:50:57.443Z"
   },
   {
    "duration": 372,
    "start_time": "2022-02-06T08:51:06.841Z"
   },
   {
    "duration": 365,
    "start_time": "2022-02-06T08:51:13.253Z"
   },
   {
    "duration": 362,
    "start_time": "2022-02-06T08:51:18.466Z"
   },
   {
    "duration": 360,
    "start_time": "2022-02-06T08:51:24.811Z"
   },
   {
    "duration": 372,
    "start_time": "2022-02-06T08:51:29.668Z"
   },
   {
    "duration": 391,
    "start_time": "2022-02-06T08:51:35.329Z"
   },
   {
    "duration": 350,
    "start_time": "2022-02-06T08:51:45.193Z"
   },
   {
    "duration": 431,
    "start_time": "2022-02-06T08:51:50.312Z"
   },
   {
    "duration": 352,
    "start_time": "2022-02-06T08:51:55.407Z"
   },
   {
    "duration": 217,
    "start_time": "2022-02-06T08:52:03.757Z"
   },
   {
    "duration": 492,
    "start_time": "2022-02-06T08:55:03.255Z"
   },
   {
    "duration": 563,
    "start_time": "2022-02-06T08:55:12.468Z"
   },
   {
    "duration": 542,
    "start_time": "2022-02-06T08:56:44.612Z"
   },
   {
    "duration": 711,
    "start_time": "2022-02-06T08:57:05.884Z"
   },
   {
    "duration": 516,
    "start_time": "2022-02-06T08:58:47.176Z"
   },
   {
    "duration": 612,
    "start_time": "2022-02-06T08:58:58.206Z"
   },
   {
    "duration": 370,
    "start_time": "2022-02-06T09:01:12.580Z"
   },
   {
    "duration": 747,
    "start_time": "2022-02-06T09:01:48.127Z"
   },
   {
    "duration": 453,
    "start_time": "2022-02-06T09:03:16.606Z"
   },
   {
    "duration": 386,
    "start_time": "2022-02-06T09:03:30.577Z"
   },
   {
    "duration": 513,
    "start_time": "2022-02-06T09:06:43.616Z"
   },
   {
    "duration": 391,
    "start_time": "2022-02-06T09:07:37.143Z"
   },
   {
    "duration": 359,
    "start_time": "2022-02-06T09:07:54.395Z"
   },
   {
    "duration": 416,
    "start_time": "2022-02-06T09:08:07.033Z"
   },
   {
    "duration": 365,
    "start_time": "2022-02-06T09:08:14.396Z"
   },
   {
    "duration": 604,
    "start_time": "2022-02-06T09:14:03.682Z"
   },
   {
    "duration": 548,
    "start_time": "2022-02-06T09:14:10.816Z"
   },
   {
    "duration": 529,
    "start_time": "2022-02-06T09:14:21.988Z"
   },
   {
    "duration": 397,
    "start_time": "2022-02-06T09:14:29.945Z"
   },
   {
    "duration": 516,
    "start_time": "2022-02-06T09:15:01.849Z"
   },
   {
    "duration": 387,
    "start_time": "2022-02-06T09:15:18.940Z"
   },
   {
    "duration": 387,
    "start_time": "2022-02-06T09:15:25.237Z"
   },
   {
    "duration": 890,
    "start_time": "2022-02-06T10:56:34.699Z"
   },
   {
    "duration": 854,
    "start_time": "2022-02-06T10:57:00.589Z"
   },
   {
    "duration": 1056,
    "start_time": "2022-02-06T10:57:28.434Z"
   },
   {
    "duration": 783,
    "start_time": "2022-02-06T10:57:45.507Z"
   },
   {
    "duration": 985,
    "start_time": "2022-02-06T10:58:05.350Z"
   },
   {
    "duration": 827,
    "start_time": "2022-02-06T10:58:13.603Z"
   },
   {
    "duration": 3,
    "start_time": "2022-02-06T11:13:27.769Z"
   },
   {
    "duration": 11,
    "start_time": "2022-02-06T11:16:38.789Z"
   },
   {
    "duration": 382,
    "start_time": "2022-02-06T11:18:00.142Z"
   },
   {
    "duration": 10,
    "start_time": "2022-02-06T11:20:56.550Z"
   },
   {
    "duration": 9,
    "start_time": "2022-02-06T11:20:57.011Z"
   },
   {
    "duration": 9,
    "start_time": "2022-02-06T11:21:22.424Z"
   },
   {
    "duration": 9,
    "start_time": "2022-02-06T11:21:23.252Z"
   },
   {
    "duration": 9,
    "start_time": "2022-02-06T11:21:47.470Z"
   },
   {
    "duration": 9,
    "start_time": "2022-02-06T11:28:11.633Z"
   },
   {
    "duration": 9,
    "start_time": "2022-02-06T11:28:20.243Z"
   },
   {
    "duration": 12,
    "start_time": "2022-02-06T11:47:07.266Z"
   },
   {
    "duration": 1196,
    "start_time": "2022-02-06T11:47:32.431Z"
   },
   {
    "duration": 2690,
    "start_time": "2022-02-06T11:47:33.629Z"
   },
   {
    "duration": 62,
    "start_time": "2022-02-06T11:47:36.322Z"
   },
   {
    "duration": 7,
    "start_time": "2022-02-06T11:47:36.386Z"
   },
   {
    "duration": 29,
    "start_time": "2022-02-06T11:47:36.394Z"
   },
   {
    "duration": 12,
    "start_time": "2022-02-06T11:47:36.425Z"
   },
   {
    "duration": 22,
    "start_time": "2022-02-06T11:47:36.439Z"
   },
   {
    "duration": 15,
    "start_time": "2022-02-06T11:47:36.465Z"
   },
   {
    "duration": 15,
    "start_time": "2022-02-06T11:47:36.484Z"
   },
   {
    "duration": 61,
    "start_time": "2022-02-06T11:47:36.501Z"
   },
   {
    "duration": 12,
    "start_time": "2022-02-06T11:47:36.564Z"
   },
   {
    "duration": 11,
    "start_time": "2022-02-06T11:47:36.579Z"
   },
   {
    "duration": 18,
    "start_time": "2022-02-06T11:47:36.592Z"
   },
   {
    "duration": 12,
    "start_time": "2022-02-06T11:47:36.612Z"
   },
   {
    "duration": 14,
    "start_time": "2022-02-06T11:47:36.625Z"
   },
   {
    "duration": 9,
    "start_time": "2022-02-06T11:47:36.641Z"
   },
   {
    "duration": 10,
    "start_time": "2022-02-06T11:47:36.653Z"
   },
   {
    "duration": 16,
    "start_time": "2022-02-06T11:47:36.665Z"
   },
   {
    "duration": 28,
    "start_time": "2022-02-06T11:47:36.682Z"
   },
   {
    "duration": 7,
    "start_time": "2022-02-06T11:47:36.712Z"
   },
   {
    "duration": 48,
    "start_time": "2022-02-06T11:47:36.721Z"
   },
   {
    "duration": 12,
    "start_time": "2022-02-06T11:47:36.772Z"
   },
   {
    "duration": 12,
    "start_time": "2022-02-06T11:47:36.788Z"
   },
   {
    "duration": 12,
    "start_time": "2022-02-06T11:47:36.802Z"
   },
   {
    "duration": 11,
    "start_time": "2022-02-06T11:47:36.816Z"
   },
   {
    "duration": 8,
    "start_time": "2022-02-06T11:47:36.829Z"
   },
   {
    "duration": 10,
    "start_time": "2022-02-06T11:47:36.839Z"
   },
   {
    "duration": 20,
    "start_time": "2022-02-06T11:47:36.851Z"
   },
   {
    "duration": 11,
    "start_time": "2022-02-06T11:47:36.873Z"
   },
   {
    "duration": 31,
    "start_time": "2022-02-06T11:47:36.885Z"
   },
   {
    "duration": 14,
    "start_time": "2022-02-06T11:47:36.918Z"
   },
   {
    "duration": 14,
    "start_time": "2022-02-06T11:47:36.933Z"
   },
   {
    "duration": 10,
    "start_time": "2022-02-06T11:47:36.949Z"
   },
   {
    "duration": 10,
    "start_time": "2022-02-06T11:47:36.960Z"
   },
   {
    "duration": 37,
    "start_time": "2022-02-06T11:47:36.972Z"
   },
   {
    "duration": 10,
    "start_time": "2022-02-06T11:47:37.011Z"
   },
   {
    "duration": 7,
    "start_time": "2022-02-06T11:47:37.023Z"
   },
   {
    "duration": 11,
    "start_time": "2022-02-06T11:47:37.032Z"
   },
   {
    "duration": 10,
    "start_time": "2022-02-06T11:47:37.044Z"
   },
   {
    "duration": 211,
    "start_time": "2022-02-06T11:47:37.056Z"
   },
   {
    "duration": 4,
    "start_time": "2022-02-06T11:47:37.270Z"
   },
   {
    "duration": 13,
    "start_time": "2022-02-06T11:47:37.276Z"
   },
   {
    "duration": 18,
    "start_time": "2022-02-06T11:47:37.291Z"
   },
   {
    "duration": 10,
    "start_time": "2022-02-06T11:47:37.312Z"
   },
   {
    "duration": 14,
    "start_time": "2022-02-06T11:47:37.324Z"
   },
   {
    "duration": 16,
    "start_time": "2022-02-06T11:47:37.340Z"
   },
   {
    "duration": 17,
    "start_time": "2022-02-06T11:47:37.358Z"
   },
   {
    "duration": 10,
    "start_time": "2022-02-06T11:47:37.377Z"
   },
   {
    "duration": 9,
    "start_time": "2022-02-06T11:47:37.407Z"
   },
   {
    "duration": 14,
    "start_time": "2022-02-06T11:47:37.417Z"
   },
   {
    "duration": 12,
    "start_time": "2022-02-06T11:47:37.433Z"
   },
   {
    "duration": 6,
    "start_time": "2022-02-06T11:47:37.447Z"
   },
   {
    "duration": 11,
    "start_time": "2022-02-06T11:47:37.455Z"
   },
   {
    "duration": 19,
    "start_time": "2022-02-06T11:47:37.468Z"
   },
   {
    "duration": 12,
    "start_time": "2022-02-06T11:47:37.508Z"
   },
   {
    "duration": 22,
    "start_time": "2022-02-06T11:47:37.521Z"
   },
   {
    "duration": 18,
    "start_time": "2022-02-06T11:47:37.545Z"
   },
   {
    "duration": 422,
    "start_time": "2022-02-06T11:47:37.565Z"
   },
   {
    "duration": 8,
    "start_time": "2022-02-06T11:47:37.989Z"
   },
   {
    "duration": 16,
    "start_time": "2022-02-06T11:47:37.999Z"
   },
   {
    "duration": 6,
    "start_time": "2022-02-06T11:47:38.017Z"
   },
   {
    "duration": 13,
    "start_time": "2022-02-06T11:47:38.025Z"
   },
   {
    "duration": 11,
    "start_time": "2022-02-06T11:54:27.715Z"
   },
   {
    "duration": 6,
    "start_time": "2022-02-06T11:56:49.704Z"
   },
   {
    "duration": 373,
    "start_time": "2022-02-06T11:58:06.363Z"
   },
   {
    "duration": 7,
    "start_time": "2022-02-06T12:03:19.369Z"
   },
   {
    "duration": 5,
    "start_time": "2022-02-06T12:04:05.812Z"
   },
   {
    "duration": 402,
    "start_time": "2022-02-06T12:04:17.084Z"
   },
   {
    "duration": 491,
    "start_time": "2022-02-06T12:05:44.016Z"
   },
   {
    "duration": 363,
    "start_time": "2022-02-06T12:06:58.661Z"
   },
   {
    "duration": 6,
    "start_time": "2022-02-06T12:13:16.481Z"
   },
   {
    "duration": 336,
    "start_time": "2022-02-06T12:13:48.082Z"
   },
   {
    "duration": 427,
    "start_time": "2022-02-06T12:17:40.915Z"
   },
   {
    "duration": 8,
    "start_time": "2022-02-06T12:24:10.988Z"
   },
   {
    "duration": 458,
    "start_time": "2022-02-06T12:24:24.153Z"
   },
   {
    "duration": 9,
    "start_time": "2022-02-06T12:27:00.259Z"
   },
   {
    "duration": 364,
    "start_time": "2022-02-06T12:28:38.524Z"
   },
   {
    "duration": 345,
    "start_time": "2022-02-06T12:29:01.120Z"
   },
   {
    "duration": 432,
    "start_time": "2022-02-06T12:29:32.517Z"
   },
   {
    "duration": 951,
    "start_time": "2022-02-06T13:29:48.199Z"
   },
   {
    "duration": 996,
    "start_time": "2022-02-06T13:30:14.314Z"
   },
   {
    "duration": 118,
    "start_time": "2022-02-06T13:31:11.302Z"
   },
   {
    "duration": 88,
    "start_time": "2022-02-06T13:31:27.684Z"
   },
   {
    "duration": 104,
    "start_time": "2022-02-06T13:31:35.424Z"
   },
   {
    "duration": 90,
    "start_time": "2022-02-06T13:32:07.051Z"
   },
   {
    "duration": 118,
    "start_time": "2022-02-06T13:32:17.828Z"
   },
   {
    "duration": 4083,
    "start_time": "2022-02-06T13:32:30.763Z"
   },
   {
    "duration": 4,
    "start_time": "2022-02-06T13:41:34.245Z"
   },
   {
    "duration": 9,
    "start_time": "2022-02-06T14:07:17.625Z"
   },
   {
    "duration": 4,
    "start_time": "2022-02-06T14:07:24.859Z"
   },
   {
    "duration": 12,
    "start_time": "2022-02-06T14:07:41.212Z"
   },
   {
    "duration": 10,
    "start_time": "2022-02-06T14:15:30.188Z"
   },
   {
    "duration": 16,
    "start_time": "2022-02-06T14:15:36.661Z"
   },
   {
    "duration": 4,
    "start_time": "2022-02-06T14:15:43.494Z"
   },
   {
    "duration": 15,
    "start_time": "2022-02-06T14:23:57.302Z"
   },
   {
    "duration": 455,
    "start_time": "2022-02-06T14:25:39.695Z"
   },
   {
    "duration": 396,
    "start_time": "2022-02-06T14:26:12.858Z"
   },
   {
    "duration": 9,
    "start_time": "2022-02-06T14:28:53.720Z"
   },
   {
    "duration": 12,
    "start_time": "2022-02-06T14:29:00.244Z"
   },
   {
    "duration": 8,
    "start_time": "2022-02-06T14:30:17.378Z"
   },
   {
    "duration": 15,
    "start_time": "2022-02-06T14:32:42.211Z"
   },
   {
    "duration": 12,
    "start_time": "2022-02-06T14:32:42.989Z"
   },
   {
    "duration": 8,
    "start_time": "2022-02-06T14:33:10.798Z"
   },
   {
    "duration": 6,
    "start_time": "2022-02-06T14:33:55.658Z"
   },
   {
    "duration": 401,
    "start_time": "2022-02-06T14:35:10.317Z"
   },
   {
    "duration": 497,
    "start_time": "2022-02-06T14:38:25.574Z"
   },
   {
    "duration": 431,
    "start_time": "2022-02-06T14:39:45.019Z"
   },
   {
    "duration": 451,
    "start_time": "2022-02-06T14:40:27.714Z"
   },
   {
    "duration": 517,
    "start_time": "2022-02-06T14:41:26.516Z"
   },
   {
    "duration": 397,
    "start_time": "2022-02-06T14:42:21.424Z"
   },
   {
    "duration": 1022,
    "start_time": "2022-02-06T14:55:30.194Z"
   },
   {
    "duration": 495,
    "start_time": "2022-02-06T14:56:16.992Z"
   },
   {
    "duration": 491,
    "start_time": "2022-02-06T14:57:05.662Z"
   },
   {
    "duration": 450,
    "start_time": "2022-02-06T14:57:20.958Z"
   },
   {
    "duration": 10,
    "start_time": "2022-02-06T14:57:57.620Z"
   },
   {
    "duration": 8,
    "start_time": "2022-02-06T14:58:46.054Z"
   },
   {
    "duration": 343,
    "start_time": "2022-02-06T14:59:25.005Z"
   },
   {
    "duration": 595,
    "start_time": "2022-02-06T15:00:02.340Z"
   },
   {
    "duration": 737,
    "start_time": "2022-02-06T15:00:37.688Z"
   },
   {
    "duration": 95,
    "start_time": "2022-02-06T15:05:52.058Z"
   },
   {
    "duration": 91,
    "start_time": "2022-02-06T15:06:10.393Z"
   },
   {
    "duration": 89,
    "start_time": "2022-02-06T15:06:23.197Z"
   },
   {
    "duration": 93,
    "start_time": "2022-02-06T15:06:33.447Z"
   },
   {
    "duration": 256,
    "start_time": "2022-02-06T15:07:16.300Z"
   },
   {
    "duration": 994,
    "start_time": "2022-02-06T15:07:26.713Z"
   },
   {
    "duration": 528,
    "start_time": "2022-02-06T15:11:26.318Z"
   },
   {
    "duration": 656,
    "start_time": "2022-02-06T15:11:44.588Z"
   },
   {
    "duration": 610,
    "start_time": "2022-02-06T15:11:59.152Z"
   },
   {
    "duration": 670,
    "start_time": "2022-02-06T15:12:09.348Z"
   },
   {
    "duration": 736,
    "start_time": "2022-02-06T15:12:28.955Z"
   },
   {
    "duration": 594,
    "start_time": "2022-02-06T15:12:55.777Z"
   },
   {
    "duration": 533,
    "start_time": "2022-02-06T15:13:26.030Z"
   },
   {
    "duration": 537,
    "start_time": "2022-02-06T15:14:11.814Z"
   },
   {
    "duration": 614,
    "start_time": "2022-02-06T15:14:25.023Z"
   },
   {
    "duration": 664,
    "start_time": "2022-02-06T15:14:35.685Z"
   },
   {
    "duration": 554,
    "start_time": "2022-02-06T15:15:56.253Z"
   },
   {
    "duration": 549,
    "start_time": "2022-02-06T15:16:19.887Z"
   },
   {
    "duration": 489,
    "start_time": "2022-02-06T15:16:44.644Z"
   },
   {
    "duration": 614,
    "start_time": "2022-02-06T15:17:58.403Z"
   },
   {
    "duration": 589,
    "start_time": "2022-02-06T15:19:12.010Z"
   },
   {
    "duration": 11,
    "start_time": "2022-02-06T16:19:09.941Z"
   },
   {
    "duration": 252,
    "start_time": "2022-02-06T16:22:06.989Z"
   },
   {
    "duration": 8,
    "start_time": "2022-02-06T16:22:18.979Z"
   },
   {
    "duration": 194,
    "start_time": "2022-02-06T16:22:52.404Z"
   },
   {
    "duration": 4,
    "start_time": "2022-02-06T16:23:57.226Z"
   },
   {
    "duration": 303,
    "start_time": "2022-02-06T16:24:25.130Z"
   },
   {
    "duration": 266,
    "start_time": "2022-02-06T16:26:10.575Z"
   },
   {
    "duration": 282,
    "start_time": "2022-02-06T16:26:32.359Z"
   },
   {
    "duration": 324,
    "start_time": "2022-02-06T16:27:03.103Z"
   },
   {
    "duration": 304063,
    "start_time": "2022-02-06T16:29:06.718Z"
   },
   {
    "duration": 1225,
    "start_time": "2022-02-06T16:35:20.800Z"
   },
   {
    "duration": 2598,
    "start_time": "2022-02-06T16:35:22.028Z"
   },
   {
    "duration": 63,
    "start_time": "2022-02-06T16:35:24.629Z"
   },
   {
    "duration": 45,
    "start_time": "2022-02-06T16:35:24.695Z"
   },
   {
    "duration": 47,
    "start_time": "2022-02-06T16:35:24.742Z"
   },
   {
    "duration": 12,
    "start_time": "2022-02-06T16:35:24.791Z"
   },
   {
    "duration": 18,
    "start_time": "2022-02-06T16:35:24.805Z"
   },
   {
    "duration": 25,
    "start_time": "2022-02-06T16:35:24.825Z"
   },
   {
    "duration": 27,
    "start_time": "2022-02-06T16:35:24.854Z"
   },
   {
    "duration": 89,
    "start_time": "2022-02-06T16:35:24.883Z"
   },
   {
    "duration": 12,
    "start_time": "2022-02-06T16:35:24.975Z"
   },
   {
    "duration": 26,
    "start_time": "2022-02-06T16:35:24.988Z"
   },
   {
    "duration": 6,
    "start_time": "2022-02-06T16:35:25.017Z"
   },
   {
    "duration": 13,
    "start_time": "2022-02-06T16:35:25.025Z"
   },
   {
    "duration": 13,
    "start_time": "2022-02-06T16:35:25.040Z"
   },
   {
    "duration": 14,
    "start_time": "2022-02-06T16:35:25.056Z"
   },
   {
    "duration": 19,
    "start_time": "2022-02-06T16:35:25.072Z"
   },
   {
    "duration": 22,
    "start_time": "2022-02-06T16:35:25.093Z"
   },
   {
    "duration": 10,
    "start_time": "2022-02-06T16:35:25.117Z"
   },
   {
    "duration": 13,
    "start_time": "2022-02-06T16:35:25.129Z"
   },
   {
    "duration": 13,
    "start_time": "2022-02-06T16:35:25.144Z"
   },
   {
    "duration": 15,
    "start_time": "2022-02-06T16:35:25.159Z"
   },
   {
    "duration": 13,
    "start_time": "2022-02-06T16:35:25.176Z"
   },
   {
    "duration": 18,
    "start_time": "2022-02-06T16:35:25.192Z"
   },
   {
    "duration": 12,
    "start_time": "2022-02-06T16:35:25.212Z"
   },
   {
    "duration": 8,
    "start_time": "2022-02-06T16:35:25.225Z"
   },
   {
    "duration": 6,
    "start_time": "2022-02-06T16:35:25.238Z"
   },
   {
    "duration": 11,
    "start_time": "2022-02-06T16:35:25.247Z"
   },
   {
    "duration": 11,
    "start_time": "2022-02-06T16:35:25.260Z"
   },
   {
    "duration": 43,
    "start_time": "2022-02-06T16:35:25.273Z"
   },
   {
    "duration": 10,
    "start_time": "2022-02-06T16:35:25.318Z"
   },
   {
    "duration": 12,
    "start_time": "2022-02-06T16:35:25.330Z"
   },
   {
    "duration": 10,
    "start_time": "2022-02-06T16:35:25.344Z"
   },
   {
    "duration": 8,
    "start_time": "2022-02-06T16:35:25.356Z"
   },
   {
    "duration": 44,
    "start_time": "2022-02-06T16:35:25.366Z"
   },
   {
    "duration": 11,
    "start_time": "2022-02-06T16:35:25.412Z"
   },
   {
    "duration": 15,
    "start_time": "2022-02-06T16:35:25.425Z"
   },
   {
    "duration": 12,
    "start_time": "2022-02-06T16:35:25.442Z"
   },
   {
    "duration": 8,
    "start_time": "2022-02-06T16:35:25.456Z"
   },
   {
    "duration": 225,
    "start_time": "2022-02-06T16:35:25.466Z"
   },
   {
    "duration": 5,
    "start_time": "2022-02-06T16:35:25.693Z"
   },
   {
    "duration": 13,
    "start_time": "2022-02-06T16:35:25.708Z"
   },
   {
    "duration": 6,
    "start_time": "2022-02-06T16:35:25.723Z"
   },
   {
    "duration": 9,
    "start_time": "2022-02-06T16:35:25.731Z"
   },
   {
    "duration": 12,
    "start_time": "2022-02-06T16:35:25.742Z"
   },
   {
    "duration": 17,
    "start_time": "2022-02-06T16:35:25.756Z"
   },
   {
    "duration": 40,
    "start_time": "2022-02-06T16:35:25.775Z"
   },
   {
    "duration": 8,
    "start_time": "2022-02-06T16:35:25.817Z"
   },
   {
    "duration": 11,
    "start_time": "2022-02-06T16:35:25.827Z"
   },
   {
    "duration": 10,
    "start_time": "2022-02-06T16:35:25.840Z"
   },
   {
    "duration": 11,
    "start_time": "2022-02-06T16:35:25.851Z"
   },
   {
    "duration": 4,
    "start_time": "2022-02-06T16:35:25.864Z"
   },
   {
    "duration": 5,
    "start_time": "2022-02-06T16:35:25.870Z"
   },
   {
    "duration": 108,
    "start_time": "2022-02-06T16:35:25.877Z"
   },
   {
    "duration": 16,
    "start_time": "2022-02-06T16:35:25.987Z"
   },
   {
    "duration": 9,
    "start_time": "2022-02-06T16:35:26.005Z"
   },
   {
    "duration": 17,
    "start_time": "2022-02-06T16:35:26.016Z"
   },
   {
    "duration": 448,
    "start_time": "2022-02-06T16:35:26.035Z"
   },
   {
    "duration": 8,
    "start_time": "2022-02-06T16:35:26.485Z"
   },
   {
    "duration": 19,
    "start_time": "2022-02-06T16:35:26.495Z"
   },
   {
    "duration": 7,
    "start_time": "2022-02-06T16:35:26.516Z"
   },
   {
    "duration": 16,
    "start_time": "2022-02-06T16:35:26.524Z"
   },
   {
    "duration": 19,
    "start_time": "2022-02-06T16:35:26.542Z"
   },
   {
    "duration": 16,
    "start_time": "2022-02-06T16:35:26.563Z"
   },
   {
    "duration": 354,
    "start_time": "2022-02-06T16:35:26.581Z"
   },
   {
    "duration": 401,
    "start_time": "2022-02-06T16:35:26.937Z"
   },
   {
    "duration": 10,
    "start_time": "2022-02-06T16:35:27.340Z"
   },
   {
    "duration": 362,
    "start_time": "2022-02-06T16:35:27.352Z"
   },
   {
    "duration": 9,
    "start_time": "2022-02-06T16:35:27.716Z"
   },
   {
    "duration": 22,
    "start_time": "2022-02-06T16:35:27.727Z"
   },
   {
    "duration": 10,
    "start_time": "2022-02-06T16:35:27.752Z"
   },
   {
    "duration": 398,
    "start_time": "2022-02-06T16:35:27.764Z"
   },
   {
    "duration": 12,
    "start_time": "2022-02-06T16:35:28.164Z"
   },
   {
    "duration": 11,
    "start_time": "2022-02-06T16:35:28.177Z"
   },
   {
    "duration": 22,
    "start_time": "2022-02-06T16:35:28.190Z"
   },
   {
    "duration": 404,
    "start_time": "2022-02-06T16:35:28.214Z"
   },
   {
    "duration": 7,
    "start_time": "2022-02-06T16:35:28.620Z"
   },
   {
    "duration": 641,
    "start_time": "2022-02-06T16:35:28.629Z"
   },
   {
    "duration": 11,
    "start_time": "2022-02-06T16:35:29.272Z"
   },
   {
    "duration": 24,
    "start_time": "2022-02-06T16:35:29.284Z"
   },
   {
    "duration": 3,
    "start_time": "2022-02-06T16:35:29.314Z"
   },
   {
    "duration": 394,
    "start_time": "2022-02-06T16:35:29.320Z"
   },
   {
    "duration": 274,
    "start_time": "2022-02-06T16:36:16.057Z"
   },
   {
    "duration": 298,
    "start_time": "2022-02-06T16:36:22.030Z"
   },
   {
    "duration": 309,
    "start_time": "2022-02-06T16:43:38.891Z"
   },
   {
    "duration": 593,
    "start_time": "2022-02-06T16:43:49.272Z"
   },
   {
    "duration": 325,
    "start_time": "2022-02-06T16:44:18.505Z"
   },
   {
    "duration": 385,
    "start_time": "2022-02-06T16:44:33.013Z"
   },
   {
    "duration": 292,
    "start_time": "2022-02-06T16:45:00.439Z"
   },
   {
    "duration": 605,
    "start_time": "2022-02-06T16:46:58.475Z"
   },
   {
    "duration": 675,
    "start_time": "2022-02-06T16:47:18.150Z"
   },
   {
    "duration": 651,
    "start_time": "2022-02-06T16:47:37.346Z"
   },
   {
    "duration": 710,
    "start_time": "2022-02-06T16:47:46.527Z"
   },
   {
    "duration": 396,
    "start_time": "2022-02-06T16:48:12.744Z"
   },
   {
    "duration": 376,
    "start_time": "2022-02-06T16:48:24.065Z"
   },
   {
    "duration": 579,
    "start_time": "2022-02-06T16:48:50.810Z"
   },
   {
    "duration": 414,
    "start_time": "2022-02-06T16:49:06.128Z"
   },
   {
    "duration": 345,
    "start_time": "2022-02-06T16:49:22.662Z"
   },
   {
    "duration": 377,
    "start_time": "2022-02-06T16:49:32.742Z"
   },
   {
    "duration": 355,
    "start_time": "2022-02-06T16:49:41.822Z"
   },
   {
    "duration": 365,
    "start_time": "2022-02-06T16:49:59.610Z"
   },
   {
    "duration": 4,
    "start_time": "2022-02-06T16:54:54.390Z"
   },
   {
    "duration": 4,
    "start_time": "2022-02-06T16:56:42.376Z"
   },
   {
    "duration": 5,
    "start_time": "2022-02-06T16:57:06.522Z"
   },
   {
    "duration": 299,
    "start_time": "2022-02-06T17:00:38.828Z"
   },
   {
    "duration": 296,
    "start_time": "2022-02-06T17:00:46.316Z"
   },
   {
    "duration": 5,
    "start_time": "2022-02-06T17:05:32.670Z"
   },
   {
    "duration": 122,
    "start_time": "2022-02-06T17:05:43.376Z"
   },
   {
    "duration": 305,
    "start_time": "2022-02-06T17:06:19.481Z"
   },
   {
    "duration": 5,
    "start_time": "2022-02-06T17:07:38.021Z"
   },
   {
    "duration": 313,
    "start_time": "2022-02-06T17:07:47.588Z"
   },
   {
    "duration": 429,
    "start_time": "2022-02-06T17:11:58.486Z"
   },
   {
    "duration": 440,
    "start_time": "2022-02-06T17:12:04.909Z"
   },
   {
    "duration": 268,
    "start_time": "2022-02-06T17:12:13.541Z"
   },
   {
    "duration": 281,
    "start_time": "2022-02-06T17:12:36.241Z"
   },
   {
    "duration": 260,
    "start_time": "2022-02-06T17:13:03.254Z"
   },
   {
    "duration": 288,
    "start_time": "2022-02-06T17:13:09.732Z"
   },
   {
    "duration": 328,
    "start_time": "2022-02-06T17:13:16.209Z"
   },
   {
    "duration": 313,
    "start_time": "2022-02-06T17:13:23.485Z"
   },
   {
    "duration": 283,
    "start_time": "2022-02-06T17:13:32.951Z"
   },
   {
    "duration": 319,
    "start_time": "2022-02-06T17:14:29.121Z"
   },
   {
    "duration": 5,
    "start_time": "2022-02-06T17:15:54.679Z"
   },
   {
    "duration": 6,
    "start_time": "2022-02-06T17:16:10.990Z"
   },
   {
    "duration": 5,
    "start_time": "2022-02-06T17:16:16.240Z"
   },
   {
    "duration": 4096,
    "start_time": "2022-02-06T19:18:42.046Z"
   },
   {
    "duration": 4684,
    "start_time": "2022-02-06T19:19:53.019Z"
   },
   {
    "duration": 3,
    "start_time": "2022-02-06T19:22:21.433Z"
   },
   {
    "duration": 1078,
    "start_time": "2022-02-07T06:20:28.253Z"
   },
   {
    "duration": 99365,
    "start_time": "2022-02-07T06:20:29.333Z"
   },
   {
    "duration": 83,
    "start_time": "2022-02-07T06:22:08.701Z"
   },
   {
    "duration": 5,
    "start_time": "2022-02-07T06:22:08.786Z"
   },
   {
    "duration": 21,
    "start_time": "2022-02-07T06:22:08.792Z"
   },
   {
    "duration": 13,
    "start_time": "2022-02-07T06:22:08.815Z"
   },
   {
    "duration": 8,
    "start_time": "2022-02-07T06:22:08.830Z"
   },
   {
    "duration": 19,
    "start_time": "2022-02-07T06:22:08.840Z"
   },
   {
    "duration": 9,
    "start_time": "2022-02-07T06:22:08.861Z"
   },
   {
    "duration": 68,
    "start_time": "2022-02-07T06:22:08.872Z"
   },
   {
    "duration": 8,
    "start_time": "2022-02-07T06:22:08.942Z"
   },
   {
    "duration": 13,
    "start_time": "2022-02-07T06:22:08.952Z"
   },
   {
    "duration": 10,
    "start_time": "2022-02-07T06:22:08.967Z"
   },
   {
    "duration": 23,
    "start_time": "2022-02-07T06:22:08.979Z"
   },
   {
    "duration": 16,
    "start_time": "2022-02-07T06:22:09.004Z"
   },
   {
    "duration": 29,
    "start_time": "2022-02-07T06:22:09.021Z"
   },
   {
    "duration": 25,
    "start_time": "2022-02-07T06:22:09.052Z"
   },
   {
    "duration": 18,
    "start_time": "2022-02-07T06:22:09.079Z"
   },
   {
    "duration": 20,
    "start_time": "2022-02-07T06:22:09.099Z"
   },
   {
    "duration": 12,
    "start_time": "2022-02-07T06:22:09.121Z"
   },
   {
    "duration": 36,
    "start_time": "2022-02-07T06:22:09.135Z"
   },
   {
    "duration": 9,
    "start_time": "2022-02-07T06:22:09.173Z"
   },
   {
    "duration": 19,
    "start_time": "2022-02-07T06:22:09.186Z"
   },
   {
    "duration": 9,
    "start_time": "2022-02-07T06:22:09.208Z"
   },
   {
    "duration": 28,
    "start_time": "2022-02-07T06:22:09.219Z"
   },
   {
    "duration": 18,
    "start_time": "2022-02-07T06:22:09.249Z"
   },
   {
    "duration": 16,
    "start_time": "2022-02-07T06:22:09.269Z"
   },
   {
    "duration": 14,
    "start_time": "2022-02-07T06:22:09.287Z"
   },
   {
    "duration": 12,
    "start_time": "2022-02-07T06:22:09.303Z"
   },
   {
    "duration": 14,
    "start_time": "2022-02-07T06:22:09.317Z"
   },
   {
    "duration": 9,
    "start_time": "2022-02-07T06:22:09.333Z"
   },
   {
    "duration": 7,
    "start_time": "2022-02-07T06:22:09.344Z"
   },
   {
    "duration": 8,
    "start_time": "2022-02-07T06:22:09.359Z"
   },
   {
    "duration": 6,
    "start_time": "2022-02-07T06:22:09.369Z"
   },
   {
    "duration": 4,
    "start_time": "2022-02-07T06:22:09.377Z"
   },
   {
    "duration": 8,
    "start_time": "2022-02-07T06:22:09.383Z"
   },
   {
    "duration": 6,
    "start_time": "2022-02-07T06:22:09.393Z"
   },
   {
    "duration": 6,
    "start_time": "2022-02-07T06:22:09.401Z"
   },
   {
    "duration": 5,
    "start_time": "2022-02-07T06:22:09.408Z"
   },
   {
    "duration": 225,
    "start_time": "2022-02-07T06:22:09.414Z"
   },
   {
    "duration": 4,
    "start_time": "2022-02-07T06:22:09.640Z"
   },
   {
    "duration": 20,
    "start_time": "2022-02-07T06:22:09.645Z"
   },
   {
    "duration": 6,
    "start_time": "2022-02-07T06:22:09.667Z"
   },
   {
    "duration": 5,
    "start_time": "2022-02-07T06:22:09.674Z"
   },
   {
    "duration": 8,
    "start_time": "2022-02-07T06:22:09.680Z"
   },
   {
    "duration": 15,
    "start_time": "2022-02-07T06:22:09.690Z"
   },
   {
    "duration": 10,
    "start_time": "2022-02-07T06:22:09.706Z"
   },
   {
    "duration": 6,
    "start_time": "2022-02-07T06:22:09.718Z"
   },
   {
    "duration": 37,
    "start_time": "2022-02-07T06:22:09.725Z"
   },
   {
    "duration": 6,
    "start_time": "2022-02-07T06:22:09.764Z"
   },
   {
    "duration": 9,
    "start_time": "2022-02-07T06:22:09.771Z"
   },
   {
    "duration": 7,
    "start_time": "2022-02-07T06:22:09.781Z"
   },
   {
    "duration": 5,
    "start_time": "2022-02-07T06:22:09.789Z"
   },
   {
    "duration": 14,
    "start_time": "2022-02-07T06:22:09.796Z"
   },
   {
    "duration": 9,
    "start_time": "2022-02-07T06:22:09.812Z"
   },
   {
    "duration": 7,
    "start_time": "2022-02-07T06:22:09.822Z"
   },
   {
    "duration": 34,
    "start_time": "2022-02-07T06:22:09.831Z"
   },
   {
    "duration": 443,
    "start_time": "2022-02-07T06:22:09.866Z"
   },
   {
    "duration": 7,
    "start_time": "2022-02-07T06:22:10.310Z"
   },
   {
    "duration": 8,
    "start_time": "2022-02-07T06:22:10.319Z"
   },
   {
    "duration": 6,
    "start_time": "2022-02-07T06:22:10.329Z"
   },
   {
    "duration": 31,
    "start_time": "2022-02-07T06:22:10.336Z"
   },
   {
    "duration": 11,
    "start_time": "2022-02-07T06:22:10.369Z"
   },
   {
    "duration": 11,
    "start_time": "2022-02-07T06:22:10.382Z"
   },
   {
    "duration": 359,
    "start_time": "2022-02-07T06:22:10.395Z"
   },
   {
    "duration": 307,
    "start_time": "2022-02-07T06:22:10.759Z"
   },
   {
    "duration": 7,
    "start_time": "2022-02-07T06:22:11.068Z"
   },
   {
    "duration": 347,
    "start_time": "2022-02-07T06:22:11.079Z"
   },
   {
    "duration": 7,
    "start_time": "2022-02-07T06:22:11.428Z"
   },
   {
    "duration": 23,
    "start_time": "2022-02-07T06:22:11.437Z"
   },
   {
    "duration": 9,
    "start_time": "2022-02-07T06:22:11.462Z"
   },
   {
    "duration": 380,
    "start_time": "2022-02-07T06:22:11.472Z"
   },
   {
    "duration": 14,
    "start_time": "2022-02-07T06:22:11.853Z"
   },
   {
    "duration": 7,
    "start_time": "2022-02-07T06:22:11.869Z"
   },
   {
    "duration": 7,
    "start_time": "2022-02-07T06:22:11.878Z"
   },
   {
    "duration": 390,
    "start_time": "2022-02-07T06:22:11.886Z"
   },
   {
    "duration": 7,
    "start_time": "2022-02-07T06:22:12.278Z"
   },
   {
    "duration": 626,
    "start_time": "2022-02-07T06:22:12.286Z"
   },
   {
    "duration": 9,
    "start_time": "2022-02-07T06:22:12.913Z"
   },
   {
    "duration": 10,
    "start_time": "2022-02-07T06:22:12.923Z"
   },
   {
    "duration": 4,
    "start_time": "2022-02-07T06:22:12.934Z"
   },
   {
    "duration": 303,
    "start_time": "2022-02-07T06:22:12.939Z"
   },
   {
    "duration": 3,
    "start_time": "2022-02-07T06:22:13.244Z"
   },
   {
    "duration": 11,
    "start_time": "2022-02-07T06:22:13.249Z"
   },
   {
    "duration": 287,
    "start_time": "2022-02-07T06:22:13.261Z"
   },
   {
    "duration": 295,
    "start_time": "2022-02-07T06:22:13.550Z"
   },
   {
    "duration": 292,
    "start_time": "2022-02-07T06:22:13.847Z"
   },
   {
    "duration": 20,
    "start_time": "2022-02-07T06:22:14.141Z"
   },
   {
    "duration": 748,
    "start_time": "2022-02-07T06:28:29.043Z"
   },
   {
    "duration": 634,
    "start_time": "2022-02-07T06:28:54.199Z"
   },
   {
    "duration": 2499,
    "start_time": "2022-02-07T06:29:23.345Z"
   },
   {
    "duration": 313,
    "start_time": "2022-02-07T06:30:40.659Z"
   },
   {
    "duration": 313,
    "start_time": "2022-02-07T06:31:03.563Z"
   },
   {
    "duration": 6,
    "start_time": "2022-02-07T06:31:24.109Z"
   },
   {
    "duration": 56,
    "start_time": "2022-02-07T06:31:35.083Z"
   },
   {
    "duration": 10,
    "start_time": "2022-02-07T06:31:40.492Z"
   },
   {
    "duration": 360,
    "start_time": "2022-02-07T06:32:01.674Z"
   },
   {
    "duration": 304,
    "start_time": "2022-02-07T06:32:34.666Z"
   },
   {
    "duration": 2,
    "start_time": "2022-02-07T06:36:14.920Z"
   },
   {
    "duration": 7,
    "start_time": "2022-02-07T06:46:00.069Z"
   },
   {
    "duration": 6,
    "start_time": "2022-02-07T06:46:07.539Z"
   },
   {
    "duration": 8,
    "start_time": "2022-02-07T06:46:16.553Z"
   },
   {
    "duration": 768,
    "start_time": "2022-02-07T07:02:33.394Z"
   },
   {
    "duration": 6,
    "start_time": "2022-02-07T07:04:59.800Z"
   },
   {
    "duration": 251,
    "start_time": "2022-02-07T07:05:11.169Z"
   },
   {
    "duration": 4,
    "start_time": "2022-02-07T07:05:14.314Z"
   },
   {
    "duration": 15,
    "start_time": "2022-02-07T07:08:10.477Z"
   },
   {
    "duration": 691,
    "start_time": "2022-02-07T07:08:11.659Z"
   },
   {
    "duration": 2548,
    "start_time": "2022-02-07T07:12:58.107Z"
   },
   {
    "duration": 2,
    "start_time": "2022-02-07T07:13:59.575Z"
   },
   {
    "duration": 6,
    "start_time": "2022-02-07T07:14:13.160Z"
   },
   {
    "duration": 7,
    "start_time": "2022-02-07T07:14:21.394Z"
   },
   {
    "duration": 3,
    "start_time": "2022-02-07T07:17:01.249Z"
   },
   {
    "duration": 7,
    "start_time": "2022-02-07T07:17:19.352Z"
   },
   {
    "duration": 975,
    "start_time": "2022-02-07T07:17:26.663Z"
   },
   {
    "duration": 99066,
    "start_time": "2022-02-07T07:17:27.639Z"
   },
   {
    "duration": 81,
    "start_time": "2022-02-07T07:19:06.707Z"
   },
   {
    "duration": 5,
    "start_time": "2022-02-07T07:19:06.790Z"
   },
   {
    "duration": 18,
    "start_time": "2022-02-07T07:19:06.797Z"
   },
   {
    "duration": 12,
    "start_time": "2022-02-07T07:19:06.817Z"
   },
   {
    "duration": 4,
    "start_time": "2022-02-07T07:19:06.831Z"
   },
   {
    "duration": 9,
    "start_time": "2022-02-07T07:19:06.838Z"
   },
   {
    "duration": 8,
    "start_time": "2022-02-07T07:19:06.859Z"
   },
   {
    "duration": 70,
    "start_time": "2022-02-07T07:19:06.869Z"
   },
   {
    "duration": 7,
    "start_time": "2022-02-07T07:19:06.941Z"
   },
   {
    "duration": 10,
    "start_time": "2022-02-07T07:19:06.950Z"
   },
   {
    "duration": 8,
    "start_time": "2022-02-07T07:19:06.962Z"
   },
   {
    "duration": 10,
    "start_time": "2022-02-07T07:19:06.971Z"
   },
   {
    "duration": 9,
    "start_time": "2022-02-07T07:19:06.983Z"
   },
   {
    "duration": 10,
    "start_time": "2022-02-07T07:19:06.993Z"
   },
   {
    "duration": 12,
    "start_time": "2022-02-07T07:19:07.004Z"
   },
   {
    "duration": 10,
    "start_time": "2022-02-07T07:19:07.018Z"
   },
   {
    "duration": 8,
    "start_time": "2022-02-07T07:19:07.030Z"
   },
   {
    "duration": 21,
    "start_time": "2022-02-07T07:19:07.040Z"
   },
   {
    "duration": 10,
    "start_time": "2022-02-07T07:19:07.063Z"
   },
   {
    "duration": 7,
    "start_time": "2022-02-07T07:19:07.074Z"
   },
   {
    "duration": 6,
    "start_time": "2022-02-07T07:19:07.085Z"
   },
   {
    "duration": 5,
    "start_time": "2022-02-07T07:19:07.094Z"
   },
   {
    "duration": 7,
    "start_time": "2022-02-07T07:19:07.101Z"
   },
   {
    "duration": 9,
    "start_time": "2022-02-07T07:19:07.109Z"
   },
   {
    "duration": 5,
    "start_time": "2022-02-07T07:19:07.119Z"
   },
   {
    "duration": 35,
    "start_time": "2022-02-07T07:19:07.125Z"
   },
   {
    "duration": 7,
    "start_time": "2022-02-07T07:19:07.161Z"
   },
   {
    "duration": 15,
    "start_time": "2022-02-07T07:19:07.169Z"
   },
   {
    "duration": 8,
    "start_time": "2022-02-07T07:19:07.185Z"
   },
   {
    "duration": 9,
    "start_time": "2022-02-07T07:19:07.194Z"
   },
   {
    "duration": 7,
    "start_time": "2022-02-07T07:19:07.205Z"
   },
   {
    "duration": 15,
    "start_time": "2022-02-07T07:19:07.213Z"
   },
   {
    "duration": 30,
    "start_time": "2022-02-07T07:19:07.229Z"
   },
   {
    "duration": 11,
    "start_time": "2022-02-07T07:19:07.261Z"
   },
   {
    "duration": 11,
    "start_time": "2022-02-07T07:19:07.274Z"
   },
   {
    "duration": 14,
    "start_time": "2022-02-07T07:19:07.287Z"
   },
   {
    "duration": 13,
    "start_time": "2022-02-07T07:19:07.302Z"
   },
   {
    "duration": 9,
    "start_time": "2022-02-07T07:19:07.317Z"
   },
   {
    "duration": 3,
    "start_time": "2022-02-07T07:19:07.328Z"
   },
   {
    "duration": 11,
    "start_time": "2022-02-07T07:19:07.332Z"
   },
   {
    "duration": 15,
    "start_time": "2022-02-07T07:19:07.344Z"
   },
   {
    "duration": 7,
    "start_time": "2022-02-07T07:19:07.360Z"
   },
   {
    "duration": 8,
    "start_time": "2022-02-07T07:19:07.369Z"
   },
   {
    "duration": 14,
    "start_time": "2022-02-07T07:19:07.378Z"
   },
   {
    "duration": 17,
    "start_time": "2022-02-07T07:19:07.393Z"
   },
   {
    "duration": 6,
    "start_time": "2022-02-07T07:19:07.412Z"
   },
   {
    "duration": 9,
    "start_time": "2022-02-07T07:19:07.419Z"
   },
   {
    "duration": 6,
    "start_time": "2022-02-07T07:19:07.430Z"
   },
   {
    "duration": 24,
    "start_time": "2022-02-07T07:19:07.437Z"
   },
   {
    "duration": 3,
    "start_time": "2022-02-07T07:19:07.462Z"
   },
   {
    "duration": 5,
    "start_time": "2022-02-07T07:19:07.466Z"
   },
   {
    "duration": 11,
    "start_time": "2022-02-07T07:19:07.473Z"
   },
   {
    "duration": 7,
    "start_time": "2022-02-07T07:19:07.486Z"
   },
   {
    "duration": 7,
    "start_time": "2022-02-07T07:19:07.494Z"
   },
   {
    "duration": 10,
    "start_time": "2022-02-07T07:19:07.503Z"
   },
   {
    "duration": 401,
    "start_time": "2022-02-07T07:19:07.515Z"
   },
   {
    "duration": 6,
    "start_time": "2022-02-07T07:19:07.918Z"
   },
   {
    "duration": 9,
    "start_time": "2022-02-07T07:19:07.926Z"
   },
   {
    "duration": 23,
    "start_time": "2022-02-07T07:19:07.936Z"
   },
   {
    "duration": 5,
    "start_time": "2022-02-07T07:19:07.960Z"
   },
   {
    "duration": 6,
    "start_time": "2022-02-07T07:19:07.967Z"
   },
   {
    "duration": 4,
    "start_time": "2022-02-07T07:19:07.975Z"
   },
   {
    "duration": 12,
    "start_time": "2022-02-07T07:19:07.980Z"
   },
   {
    "duration": 10,
    "start_time": "2022-02-07T07:19:07.993Z"
   },
   {
    "duration": 9,
    "start_time": "2022-02-07T07:19:08.005Z"
   },
   {
    "duration": 345,
    "start_time": "2022-02-07T07:19:08.019Z"
   },
   {
    "duration": 319,
    "start_time": "2022-02-07T07:19:08.366Z"
   },
   {
    "duration": 9,
    "start_time": "2022-02-07T07:19:08.686Z"
   },
   {
    "duration": 351,
    "start_time": "2022-02-07T07:19:08.696Z"
   },
   {
    "duration": 15,
    "start_time": "2022-02-07T07:19:09.049Z"
   },
   {
    "duration": 30,
    "start_time": "2022-02-07T07:19:09.066Z"
   },
   {
    "duration": 16,
    "start_time": "2022-02-07T07:19:09.098Z"
   },
   {
    "duration": 363,
    "start_time": "2022-02-07T07:19:09.116Z"
   },
   {
    "duration": 8,
    "start_time": "2022-02-07T07:19:09.481Z"
   },
   {
    "duration": 9,
    "start_time": "2022-02-07T07:19:09.490Z"
   },
   {
    "duration": 8,
    "start_time": "2022-02-07T07:19:09.500Z"
   },
   {
    "duration": 366,
    "start_time": "2022-02-07T07:19:09.509Z"
   },
   {
    "duration": 7,
    "start_time": "2022-02-07T07:19:09.877Z"
   },
   {
    "duration": 646,
    "start_time": "2022-02-07T07:19:09.886Z"
   },
   {
    "duration": 8,
    "start_time": "2022-02-07T07:19:10.534Z"
   },
   {
    "duration": 19,
    "start_time": "2022-02-07T07:19:10.544Z"
   },
   {
    "duration": 2,
    "start_time": "2022-02-07T07:19:10.565Z"
   },
   {
    "duration": 284,
    "start_time": "2022-02-07T07:19:10.569Z"
   },
   {
    "duration": 5,
    "start_time": "2022-02-07T07:19:10.859Z"
   },
   {
    "duration": 6,
    "start_time": "2022-02-07T07:19:10.866Z"
   },
   {
    "duration": 296,
    "start_time": "2022-02-07T07:19:10.874Z"
   },
   {
    "duration": 289,
    "start_time": "2022-02-07T07:19:11.173Z"
   },
   {
    "duration": 312,
    "start_time": "2022-02-07T07:19:11.464Z"
   },
   {
    "duration": 4,
    "start_time": "2022-02-07T07:19:11.778Z"
   },
   {
    "duration": 408,
    "start_time": "2022-02-07T07:20:43.264Z"
   },
   {
    "duration": 210,
    "start_time": "2022-02-07T07:21:42.058Z"
   },
   {
    "duration": 9,
    "start_time": "2022-02-07T07:22:00.243Z"
   },
   {
    "duration": 9,
    "start_time": "2022-02-07T07:23:21.500Z"
   },
   {
    "duration": 151,
    "start_time": "2022-02-07T07:29:00.223Z"
   },
   {
    "duration": 10,
    "start_time": "2022-02-07T07:29:38.521Z"
   },
   {
    "duration": 333,
    "start_time": "2022-02-07T07:29:54.449Z"
   },
   {
    "duration": 330,
    "start_time": "2022-02-07T07:30:35.882Z"
   },
   {
    "duration": 309,
    "start_time": "2022-02-07T07:31:33.469Z"
   },
   {
    "duration": 6,
    "start_time": "2022-02-07T07:33:32.412Z"
   },
   {
    "duration": 7,
    "start_time": "2022-02-07T07:52:40.889Z"
   },
   {
    "duration": 6,
    "start_time": "2022-02-07T07:52:51.532Z"
   },
   {
    "duration": 9,
    "start_time": "2022-02-07T09:33:05.908Z"
   },
   {
    "duration": 356,
    "start_time": "2022-02-07T10:48:25.095Z"
   },
   {
    "duration": 375,
    "start_time": "2022-02-07T10:48:31.855Z"
   },
   {
    "duration": 465,
    "start_time": "2022-02-07T10:48:40.790Z"
   },
   {
    "duration": 509,
    "start_time": "2022-02-07T10:48:50.499Z"
   },
   {
    "duration": 364,
    "start_time": "2022-02-07T10:49:00.465Z"
   },
   {
    "duration": 333,
    "start_time": "2022-02-07T10:49:08.935Z"
   },
   {
    "duration": 313,
    "start_time": "2022-02-07T10:49:17.061Z"
   },
   {
    "duration": 361,
    "start_time": "2022-02-07T10:49:20.050Z"
   },
   {
    "duration": 365,
    "start_time": "2022-02-07T10:49:24.629Z"
   },
   {
    "duration": 8,
    "start_time": "2022-02-07T10:49:26.769Z"
   },
   {
    "duration": 355,
    "start_time": "2022-02-07T10:49:29.882Z"
   },
   {
    "duration": 371,
    "start_time": "2022-02-07T10:49:37.196Z"
   },
   {
    "duration": 339,
    "start_time": "2022-02-07T10:49:43.370Z"
   },
   {
    "duration": 334,
    "start_time": "2022-02-07T10:49:49.543Z"
   },
   {
    "duration": 368,
    "start_time": "2022-02-07T10:49:55.542Z"
   },
   {
    "duration": 472,
    "start_time": "2022-02-07T10:50:00.723Z"
   },
   {
    "duration": 603,
    "start_time": "2022-02-07T10:50:06.038Z"
   },
   {
    "duration": 377,
    "start_time": "2022-02-07T10:51:03.025Z"
   },
   {
    "duration": 8,
    "start_time": "2022-02-07T10:51:13.742Z"
   },
   {
    "duration": 4,
    "start_time": "2022-02-07T10:51:14.166Z"
   },
   {
    "duration": 292,
    "start_time": "2022-02-07T10:51:14.881Z"
   },
   {
    "duration": 603,
    "start_time": "2022-02-07T10:51:19.714Z"
   },
   {
    "duration": 3,
    "start_time": "2022-02-07T10:51:23.891Z"
   },
   {
    "duration": 297,
    "start_time": "2022-02-07T10:51:24.383Z"
   },
   {
    "duration": 287,
    "start_time": "2022-02-07T10:51:27.224Z"
   },
   {
    "duration": 314,
    "start_time": "2022-02-07T10:51:30.485Z"
   },
   {
    "duration": 533,
    "start_time": "2022-02-07T10:52:35.487Z"
   },
   {
    "duration": 15,
    "start_time": "2022-02-07T11:05:09.970Z"
   },
   {
    "duration": 178,
    "start_time": "2022-02-07T11:06:38.311Z"
   },
   {
    "duration": 249,
    "start_time": "2022-02-07T11:06:56.709Z"
   },
   {
    "duration": 7,
    "start_time": "2022-02-07T11:07:54.155Z"
   },
   {
    "duration": 6,
    "start_time": "2022-02-07T11:07:58.930Z"
   },
   {
    "duration": 6,
    "start_time": "2022-02-07T11:08:37.702Z"
   },
   {
    "duration": 457,
    "start_time": "2022-02-07T11:11:17.946Z"
   },
   {
    "duration": 283,
    "start_time": "2022-02-07T11:11:23.039Z"
   },
   {
    "duration": 201,
    "start_time": "2022-02-07T11:11:26.152Z"
   },
   {
    "duration": 4,
    "start_time": "2022-02-07T11:11:29.764Z"
   },
   {
    "duration": 4,
    "start_time": "2022-02-07T11:11:40.100Z"
   },
   {
    "duration": 280,
    "start_time": "2022-02-07T11:14:23.122Z"
   },
   {
    "duration": 5,
    "start_time": "2022-02-07T11:18:24.702Z"
   },
   {
    "duration": 5,
    "start_time": "2022-02-07T11:25:12.042Z"
   },
   {
    "duration": 4,
    "start_time": "2022-02-07T11:37:18.920Z"
   },
   {
    "duration": 7,
    "start_time": "2022-02-07T11:37:30.397Z"
   },
   {
    "duration": 3,
    "start_time": "2022-02-07T11:45:03.952Z"
   },
   {
    "duration": 5,
    "start_time": "2022-02-07T11:45:11.109Z"
   },
   {
    "duration": 3,
    "start_time": "2022-02-07T11:45:34.393Z"
   },
   {
    "duration": 5,
    "start_time": "2022-02-07T11:47:10.933Z"
   },
   {
    "duration": 4,
    "start_time": "2022-02-07T12:17:12.350Z"
   },
   {
    "duration": 3,
    "start_time": "2022-02-07T12:18:09.377Z"
   },
   {
    "duration": 5,
    "start_time": "2022-02-07T12:18:10.243Z"
   },
   {
    "duration": 5,
    "start_time": "2022-02-07T12:18:17.725Z"
   },
   {
    "duration": 10,
    "start_time": "2022-02-07T12:18:28.650Z"
   },
   {
    "duration": 11,
    "start_time": "2022-02-07T12:28:30.234Z"
   },
   {
    "duration": 3,
    "start_time": "2022-02-07T12:28:36.006Z"
   },
   {
    "duration": 5,
    "start_time": "2022-02-07T12:32:11.527Z"
   },
   {
    "duration": 4,
    "start_time": "2022-02-07T12:34:00.139Z"
   },
   {
    "duration": 7,
    "start_time": "2022-02-07T12:34:05.404Z"
   },
   {
    "duration": 4,
    "start_time": "2022-02-07T12:34:13.617Z"
   },
   {
    "duration": 3,
    "start_time": "2022-02-07T12:34:26.350Z"
   },
   {
    "duration": 4,
    "start_time": "2022-02-07T12:36:33.384Z"
   },
   {
    "duration": 4,
    "start_time": "2022-02-07T12:36:34.120Z"
   },
   {
    "duration": 5,
    "start_time": "2022-02-07T12:36:40.866Z"
   },
   {
    "duration": 4,
    "start_time": "2022-02-07T12:44:39.864Z"
   },
   {
    "duration": 6,
    "start_time": "2022-02-07T12:47:15.130Z"
   },
   {
    "duration": 9,
    "start_time": "2022-02-07T12:47:22.527Z"
   },
   {
    "duration": 4,
    "start_time": "2022-02-07T12:47:30.880Z"
   },
   {
    "duration": 7,
    "start_time": "2022-02-07T12:50:40.878Z"
   },
   {
    "duration": 11,
    "start_time": "2022-02-07T12:50:45.431Z"
   },
   {
    "duration": 8,
    "start_time": "2022-02-07T12:50:58.404Z"
   },
   {
    "duration": 5,
    "start_time": "2022-02-07T12:51:38.973Z"
   },
   {
    "duration": 12,
    "start_time": "2022-02-07T12:57:28.591Z"
   },
   {
    "duration": 16,
    "start_time": "2022-02-07T12:58:10.750Z"
   },
   {
    "duration": 4414,
    "start_time": "2022-02-07T12:59:08.120Z"
   },
   {
    "duration": 22,
    "start_time": "2022-02-07T12:59:50.833Z"
   },
   {
    "duration": 5,
    "start_time": "2022-02-07T13:01:03.491Z"
   },
   {
    "duration": 5,
    "start_time": "2022-02-07T13:02:56.045Z"
   },
   {
    "duration": 4,
    "start_time": "2022-02-07T13:05:19.660Z"
   },
   {
    "duration": 385,
    "start_time": "2022-02-07T13:07:57.292Z"
   },
   {
    "duration": 11,
    "start_time": "2022-02-07T13:14:22.325Z"
   },
   {
    "duration": 4,
    "start_time": "2022-02-07T13:27:53.733Z"
   },
   {
    "duration": 5,
    "start_time": "2022-02-07T13:28:21.013Z"
   },
   {
    "duration": 477,
    "start_time": "2022-02-07T13:33:56.346Z"
   },
   {
    "duration": 9,
    "start_time": "2022-02-07T13:36:53.274Z"
   },
   {
    "duration": 349,
    "start_time": "2022-02-07T13:37:22.044Z"
   },
   {
    "duration": 356,
    "start_time": "2022-02-07T13:42:25.179Z"
   },
   {
    "duration": 324,
    "start_time": "2022-02-07T13:42:47.770Z"
   },
   {
    "duration": 383,
    "start_time": "2022-02-07T14:19:07.587Z"
   },
   {
    "duration": 401,
    "start_time": "2022-02-07T14:19:40.407Z"
   },
   {
    "duration": 387,
    "start_time": "2022-02-07T14:20:29.516Z"
   },
   {
    "duration": 351,
    "start_time": "2022-02-07T14:20:45.352Z"
   },
   {
    "duration": 656,
    "start_time": "2022-02-07T14:21:55.913Z"
   },
   {
    "duration": 668,
    "start_time": "2022-02-07T14:22:01.656Z"
   },
   {
    "duration": 541,
    "start_time": "2022-02-07T14:22:33.785Z"
   },
   {
    "duration": 564,
    "start_time": "2022-02-07T14:22:55.351Z"
   },
   {
    "duration": 403,
    "start_time": "2022-02-07T14:24:13.667Z"
   },
   {
    "duration": 388,
    "start_time": "2022-02-07T14:24:53.301Z"
   },
   {
    "duration": 335,
    "start_time": "2022-02-07T14:27:13.455Z"
   },
   {
    "duration": 373,
    "start_time": "2022-02-07T14:27:46.501Z"
   },
   {
    "duration": 351,
    "start_time": "2022-02-07T14:28:00.480Z"
   },
   {
    "duration": 375,
    "start_time": "2022-02-07T14:28:22.205Z"
   },
   {
    "duration": 11,
    "start_time": "2022-02-07T14:33:47.241Z"
   },
   {
    "duration": 9,
    "start_time": "2022-02-07T14:33:55.978Z"
   },
   {
    "duration": 10,
    "start_time": "2022-02-07T14:33:58.917Z"
   },
   {
    "duration": 9,
    "start_time": "2022-02-07T14:34:00.056Z"
   },
   {
    "duration": 8,
    "start_time": "2022-02-07T14:48:10.952Z"
   },
   {
    "duration": 7,
    "start_time": "2022-02-07T14:48:21.025Z"
   },
   {
    "duration": 5,
    "start_time": "2022-02-07T14:55:22.047Z"
   },
   {
    "duration": 5,
    "start_time": "2022-02-07T14:55:37.590Z"
   },
   {
    "duration": 11,
    "start_time": "2022-02-07T14:55:59.998Z"
   },
   {
    "duration": 10,
    "start_time": "2022-02-07T14:56:07.909Z"
   },
   {
    "duration": 1044,
    "start_time": "2022-02-07T15:22:58.931Z"
   },
   {
    "duration": 99074,
    "start_time": "2022-02-07T15:22:59.977Z"
   },
   {
    "duration": 78,
    "start_time": "2022-02-07T15:24:39.053Z"
   },
   {
    "duration": 5,
    "start_time": "2022-02-07T15:24:39.133Z"
   },
   {
    "duration": 33,
    "start_time": "2022-02-07T15:24:39.139Z"
   },
   {
    "duration": 29,
    "start_time": "2022-02-07T15:24:39.174Z"
   },
   {
    "duration": 25,
    "start_time": "2022-02-07T15:24:39.205Z"
   },
   {
    "duration": 13,
    "start_time": "2022-02-07T15:24:39.233Z"
   },
   {
    "duration": 41,
    "start_time": "2022-02-07T15:24:39.248Z"
   },
   {
    "duration": 59,
    "start_time": "2022-02-07T15:24:39.291Z"
   },
   {
    "duration": 9,
    "start_time": "2022-02-07T15:24:39.351Z"
   },
   {
    "duration": 16,
    "start_time": "2022-02-07T15:24:39.362Z"
   },
   {
    "duration": 16,
    "start_time": "2022-02-07T15:24:39.380Z"
   },
   {
    "duration": 14,
    "start_time": "2022-02-07T15:24:39.397Z"
   },
   {
    "duration": 17,
    "start_time": "2022-02-07T15:24:39.412Z"
   },
   {
    "duration": 11,
    "start_time": "2022-02-07T15:24:39.431Z"
   },
   {
    "duration": 21,
    "start_time": "2022-02-07T15:24:39.444Z"
   },
   {
    "duration": 32,
    "start_time": "2022-02-07T15:24:39.467Z"
   },
   {
    "duration": 24,
    "start_time": "2022-02-07T15:24:39.500Z"
   },
   {
    "duration": 13,
    "start_time": "2022-02-07T15:24:39.526Z"
   },
   {
    "duration": 35,
    "start_time": "2022-02-07T15:24:39.541Z"
   },
   {
    "duration": 22,
    "start_time": "2022-02-07T15:24:39.577Z"
   },
   {
    "duration": 14,
    "start_time": "2022-02-07T15:24:39.603Z"
   },
   {
    "duration": 16,
    "start_time": "2022-02-07T15:24:39.619Z"
   },
   {
    "duration": 9,
    "start_time": "2022-02-07T15:24:39.637Z"
   },
   {
    "duration": 14,
    "start_time": "2022-02-07T15:24:39.648Z"
   },
   {
    "duration": 27,
    "start_time": "2022-02-07T15:24:39.663Z"
   },
   {
    "duration": 14,
    "start_time": "2022-02-07T15:24:39.692Z"
   },
   {
    "duration": 18,
    "start_time": "2022-02-07T15:24:39.707Z"
   },
   {
    "duration": 14,
    "start_time": "2022-02-07T15:24:39.726Z"
   },
   {
    "duration": 34,
    "start_time": "2022-02-07T15:24:39.742Z"
   },
   {
    "duration": 26,
    "start_time": "2022-02-07T15:24:39.778Z"
   },
   {
    "duration": 12,
    "start_time": "2022-02-07T15:24:39.806Z"
   },
   {
    "duration": 27,
    "start_time": "2022-02-07T15:24:39.820Z"
   },
   {
    "duration": 8,
    "start_time": "2022-02-07T15:24:39.848Z"
   },
   {
    "duration": 43,
    "start_time": "2022-02-07T15:24:39.857Z"
   },
   {
    "duration": 13,
    "start_time": "2022-02-07T15:24:39.901Z"
   },
   {
    "duration": 15,
    "start_time": "2022-02-07T15:24:39.916Z"
   },
   {
    "duration": 15,
    "start_time": "2022-02-07T15:24:39.933Z"
   },
   {
    "duration": 221,
    "start_time": "2022-02-07T15:24:39.950Z"
   },
   {
    "duration": 5,
    "start_time": "2022-02-07T15:24:40.173Z"
   },
   {
    "duration": 31,
    "start_time": "2022-02-07T15:24:40.180Z"
   },
   {
    "duration": 28,
    "start_time": "2022-02-07T15:24:40.213Z"
   },
   {
    "duration": 32,
    "start_time": "2022-02-07T15:24:40.242Z"
   },
   {
    "duration": 31,
    "start_time": "2022-02-07T15:24:40.276Z"
   },
   {
    "duration": 26,
    "start_time": "2022-02-07T15:24:40.309Z"
   },
   {
    "duration": 34,
    "start_time": "2022-02-07T15:24:40.337Z"
   },
   {
    "duration": 24,
    "start_time": "2022-02-07T15:24:40.373Z"
   },
   {
    "duration": 34,
    "start_time": "2022-02-07T15:24:40.399Z"
   },
   {
    "duration": 25,
    "start_time": "2022-02-07T15:24:40.435Z"
   },
   {
    "duration": 22,
    "start_time": "2022-02-07T15:24:40.462Z"
   },
   {
    "duration": 13,
    "start_time": "2022-02-07T15:24:40.487Z"
   },
   {
    "duration": 23,
    "start_time": "2022-02-07T15:24:40.502Z"
   },
   {
    "duration": 36,
    "start_time": "2022-02-07T15:24:40.526Z"
   },
   {
    "duration": 37,
    "start_time": "2022-02-07T15:24:40.563Z"
   },
   {
    "duration": 24,
    "start_time": "2022-02-07T15:24:40.602Z"
   },
   {
    "duration": 25,
    "start_time": "2022-02-07T15:24:40.628Z"
   },
   {
    "duration": 474,
    "start_time": "2022-02-07T15:24:40.655Z"
   },
   {
    "duration": 6,
    "start_time": "2022-02-07T15:24:41.131Z"
   },
   {
    "duration": 43,
    "start_time": "2022-02-07T15:24:41.139Z"
   },
   {
    "duration": 23,
    "start_time": "2022-02-07T15:24:41.184Z"
   },
   {
    "duration": 15,
    "start_time": "2022-02-07T15:24:41.209Z"
   },
   {
    "duration": 15,
    "start_time": "2022-02-07T15:24:41.225Z"
   },
   {
    "duration": 17,
    "start_time": "2022-02-07T15:24:41.242Z"
   },
   {
    "duration": 407,
    "start_time": "2022-02-07T15:24:41.261Z"
   },
   {
    "duration": 379,
    "start_time": "2022-02-07T15:24:41.671Z"
   },
   {
    "duration": 14,
    "start_time": "2022-02-07T15:24:42.052Z"
   },
   {
    "duration": 378,
    "start_time": "2022-02-07T15:24:42.074Z"
   },
   {
    "duration": 7,
    "start_time": "2022-02-07T15:24:42.454Z"
   },
   {
    "duration": 25,
    "start_time": "2022-02-07T15:24:42.462Z"
   },
   {
    "duration": 29,
    "start_time": "2022-02-07T15:24:42.489Z"
   },
   {
    "duration": 412,
    "start_time": "2022-02-07T15:24:42.520Z"
   },
   {
    "duration": 10,
    "start_time": "2022-02-07T15:24:42.935Z"
   },
   {
    "duration": 16,
    "start_time": "2022-02-07T15:24:42.947Z"
   },
   {
    "duration": 9,
    "start_time": "2022-02-07T15:24:42.965Z"
   },
   {
    "duration": 427,
    "start_time": "2022-02-07T15:24:42.975Z"
   },
   {
    "duration": 7,
    "start_time": "2022-02-07T15:24:43.403Z"
   },
   {
    "duration": 759,
    "start_time": "2022-02-07T15:24:43.412Z"
   },
   {
    "duration": 11,
    "start_time": "2022-02-07T15:24:44.174Z"
   },
   {
    "duration": 11,
    "start_time": "2022-02-07T15:24:44.187Z"
   },
   {
    "duration": 3,
    "start_time": "2022-02-07T15:24:44.200Z"
   },
   {
    "duration": 276,
    "start_time": "2022-02-07T15:24:44.205Z"
   },
   {
    "duration": 6,
    "start_time": "2022-02-07T15:24:44.483Z"
   },
   {
    "duration": 46,
    "start_time": "2022-02-07T15:24:44.491Z"
   },
   {
    "duration": 345,
    "start_time": "2022-02-07T15:24:44.539Z"
   },
   {
    "duration": 324,
    "start_time": "2022-02-07T15:24:44.886Z"
   },
   {
    "duration": 298,
    "start_time": "2022-02-07T15:24:45.211Z"
   },
   {
    "duration": 5,
    "start_time": "2022-02-07T15:24:45.510Z"
   },
   {
    "duration": 10,
    "start_time": "2022-02-07T15:24:45.516Z"
   },
   {
    "duration": 10,
    "start_time": "2022-02-07T15:24:45.527Z"
   },
   {
    "duration": 21,
    "start_time": "2022-02-07T15:24:45.538Z"
   },
   {
    "duration": 6,
    "start_time": "2022-02-07T15:24:45.561Z"
   },
   {
    "duration": 8,
    "start_time": "2022-02-07T15:24:45.568Z"
   },
   {
    "duration": 9,
    "start_time": "2022-02-07T15:24:45.578Z"
   },
   {
    "duration": 9,
    "start_time": "2022-02-07T15:24:45.589Z"
   },
   {
    "duration": 8,
    "start_time": "2022-02-07T15:24:45.599Z"
   },
   {
    "duration": 11,
    "start_time": "2022-02-07T15:24:45.609Z"
   },
   {
    "duration": 5,
    "start_time": "2022-02-07T15:24:45.621Z"
   },
   {
    "duration": 4,
    "start_time": "2022-02-07T15:24:45.659Z"
   },
   {
    "duration": 8,
    "start_time": "2022-02-07T15:24:45.664Z"
   },
   {
    "duration": 5,
    "start_time": "2022-02-07T15:24:45.673Z"
   },
   {
    "duration": 6,
    "start_time": "2022-02-07T15:24:45.680Z"
   },
   {
    "duration": 4,
    "start_time": "2022-02-07T15:24:45.688Z"
   },
   {
    "duration": 21,
    "start_time": "2022-02-07T15:24:45.694Z"
   },
   {
    "duration": 4,
    "start_time": "2022-02-07T15:24:45.717Z"
   },
   {
    "duration": 7,
    "start_time": "2022-02-07T15:24:45.723Z"
   },
   {
    "duration": 35,
    "start_time": "2022-02-07T15:24:45.731Z"
   },
   {
    "duration": 7,
    "start_time": "2022-02-07T15:24:45.768Z"
   },
   {
    "duration": 8,
    "start_time": "2022-02-07T15:24:45.777Z"
   },
   {
    "duration": 415,
    "start_time": "2022-02-07T15:24:45.786Z"
   },
   {
    "duration": 9,
    "start_time": "2022-02-07T15:24:46.203Z"
   },
   {
    "duration": 381,
    "start_time": "2022-02-07T15:24:46.214Z"
   },
   {
    "duration": 400,
    "start_time": "2022-02-07T15:24:46.597Z"
   },
   {
    "duration": 9,
    "start_time": "2022-02-07T15:24:46.999Z"
   },
   {
    "duration": 10,
    "start_time": "2022-02-07T15:24:47.009Z"
   },
   {
    "duration": 9,
    "start_time": "2022-02-07T15:24:47.021Z"
   },
   {
    "duration": 36,
    "start_time": "2022-02-07T15:24:47.032Z"
   },
   {
    "duration": 1023,
    "start_time": "2022-02-07T15:27:57.123Z"
   },
   {
    "duration": 17449,
    "start_time": "2022-02-07T15:27:58.148Z"
   },
   {
    "duration": 56,
    "start_time": "2022-02-07T15:28:15.600Z"
   },
   {
    "duration": 5,
    "start_time": "2022-02-07T15:28:15.659Z"
   },
   {
    "duration": 39,
    "start_time": "2022-02-07T15:28:15.665Z"
   },
   {
    "duration": 17,
    "start_time": "2022-02-07T15:28:15.706Z"
   },
   {
    "duration": 20,
    "start_time": "2022-02-07T15:28:15.725Z"
   },
   {
    "duration": 24,
    "start_time": "2022-02-07T15:28:15.748Z"
   },
   {
    "duration": 9,
    "start_time": "2022-02-07T15:28:15.774Z"
   },
   {
    "duration": 69,
    "start_time": "2022-02-07T15:28:15.784Z"
   },
   {
    "duration": 8,
    "start_time": "2022-02-07T15:28:15.854Z"
   },
   {
    "duration": 19,
    "start_time": "2022-02-07T15:28:15.864Z"
   },
   {
    "duration": 17,
    "start_time": "2022-02-07T15:28:15.885Z"
   },
   {
    "duration": 5,
    "start_time": "2022-02-07T15:28:15.903Z"
   },
   {
    "duration": 7,
    "start_time": "2022-02-07T15:28:15.910Z"
   },
   {
    "duration": 6,
    "start_time": "2022-02-07T15:28:15.918Z"
   },
   {
    "duration": 8,
    "start_time": "2022-02-07T15:28:15.926Z"
   },
   {
    "duration": 13,
    "start_time": "2022-02-07T15:28:15.936Z"
   },
   {
    "duration": 6,
    "start_time": "2022-02-07T15:28:15.958Z"
   },
   {
    "duration": 7,
    "start_time": "2022-02-07T15:28:15.965Z"
   },
   {
    "duration": 8,
    "start_time": "2022-02-07T15:28:15.974Z"
   },
   {
    "duration": 9,
    "start_time": "2022-02-07T15:28:15.983Z"
   },
   {
    "duration": 9,
    "start_time": "2022-02-07T15:28:15.995Z"
   },
   {
    "duration": 5,
    "start_time": "2022-02-07T15:28:16.006Z"
   },
   {
    "duration": 6,
    "start_time": "2022-02-07T15:28:16.013Z"
   },
   {
    "duration": 5,
    "start_time": "2022-02-07T15:28:16.021Z"
   },
   {
    "duration": 4,
    "start_time": "2022-02-07T15:28:16.060Z"
   },
   {
    "duration": 11,
    "start_time": "2022-02-07T15:28:16.065Z"
   },
   {
    "duration": 7,
    "start_time": "2022-02-07T15:28:16.078Z"
   },
   {
    "duration": 11,
    "start_time": "2022-02-07T15:28:16.086Z"
   },
   {
    "duration": 9,
    "start_time": "2022-02-07T15:28:16.098Z"
   },
   {
    "duration": 10,
    "start_time": "2022-02-07T15:28:16.108Z"
   },
   {
    "duration": 40,
    "start_time": "2022-02-07T15:28:16.120Z"
   },
   {
    "duration": 7,
    "start_time": "2022-02-07T15:28:16.162Z"
   },
   {
    "duration": 7,
    "start_time": "2022-02-07T15:28:16.170Z"
   },
   {
    "duration": 9,
    "start_time": "2022-02-07T15:28:16.178Z"
   },
   {
    "duration": 6,
    "start_time": "2022-02-07T15:28:16.189Z"
   },
   {
    "duration": 6,
    "start_time": "2022-02-07T15:28:16.196Z"
   },
   {
    "duration": 6,
    "start_time": "2022-02-07T15:28:16.204Z"
   },
   {
    "duration": 204,
    "start_time": "2022-02-07T15:28:16.212Z"
   },
   {
    "duration": 3,
    "start_time": "2022-02-07T15:28:16.418Z"
   },
   {
    "duration": 9,
    "start_time": "2022-02-07T15:28:16.423Z"
   },
   {
    "duration": 5,
    "start_time": "2022-02-07T15:28:16.433Z"
   },
   {
    "duration": 20,
    "start_time": "2022-02-07T15:28:16.439Z"
   },
   {
    "duration": 7,
    "start_time": "2022-02-07T15:28:16.460Z"
   },
   {
    "duration": 14,
    "start_time": "2022-02-07T15:28:16.468Z"
   },
   {
    "duration": 12,
    "start_time": "2022-02-07T15:28:16.484Z"
   },
   {
    "duration": 8,
    "start_time": "2022-02-07T15:28:16.498Z"
   },
   {
    "duration": 8,
    "start_time": "2022-02-07T15:28:16.508Z"
   },
   {
    "duration": 13,
    "start_time": "2022-02-07T15:28:16.517Z"
   },
   {
    "duration": 31,
    "start_time": "2022-02-07T15:28:16.531Z"
   },
   {
    "duration": 4,
    "start_time": "2022-02-07T15:28:16.563Z"
   },
   {
    "duration": 5,
    "start_time": "2022-02-07T15:28:16.569Z"
   },
   {
    "duration": 15,
    "start_time": "2022-02-07T15:28:16.575Z"
   },
   {
    "duration": 8,
    "start_time": "2022-02-07T15:28:16.592Z"
   },
   {
    "duration": 7,
    "start_time": "2022-02-07T15:28:16.602Z"
   },
   {
    "duration": 12,
    "start_time": "2022-02-07T15:28:16.610Z"
   },
   {
    "duration": 398,
    "start_time": "2022-02-07T15:28:16.624Z"
   },
   {
    "duration": 7,
    "start_time": "2022-02-07T15:28:17.024Z"
   },
   {
    "duration": 10,
    "start_time": "2022-02-07T15:28:17.033Z"
   },
   {
    "duration": 3,
    "start_time": "2022-02-07T15:28:17.059Z"
   },
   {
    "duration": 15,
    "start_time": "2022-02-07T15:28:17.063Z"
   },
   {
    "duration": 18,
    "start_time": "2022-02-07T15:28:17.079Z"
   },
   {
    "duration": 13,
    "start_time": "2022-02-07T15:28:17.098Z"
   },
   {
    "duration": 367,
    "start_time": "2022-02-07T15:28:17.113Z"
   },
   {
    "duration": 354,
    "start_time": "2022-02-07T15:28:17.482Z"
   },
   {
    "duration": 8,
    "start_time": "2022-02-07T15:28:17.838Z"
   },
   {
    "duration": 325,
    "start_time": "2022-02-07T15:28:17.860Z"
   },
   {
    "duration": 7,
    "start_time": "2022-02-07T15:28:18.188Z"
   },
   {
    "duration": 12,
    "start_time": "2022-02-07T15:28:18.197Z"
   },
   {
    "duration": 5,
    "start_time": "2022-02-07T15:28:18.211Z"
   },
   {
    "duration": 386,
    "start_time": "2022-02-07T15:28:18.218Z"
   },
   {
    "duration": 9,
    "start_time": "2022-02-07T15:28:18.606Z"
   },
   {
    "duration": 8,
    "start_time": "2022-02-07T15:28:18.616Z"
   },
   {
    "duration": 8,
    "start_time": "2022-02-07T15:28:18.625Z"
   },
   {
    "duration": 369,
    "start_time": "2022-02-07T15:28:18.634Z"
   },
   {
    "duration": 6,
    "start_time": "2022-02-07T15:28:19.005Z"
   },
   {
    "duration": 581,
    "start_time": "2022-02-07T15:28:19.013Z"
   },
   {
    "duration": 9,
    "start_time": "2022-02-07T15:28:19.596Z"
   },
   {
    "duration": 8,
    "start_time": "2022-02-07T15:28:19.607Z"
   },
   {
    "duration": 2,
    "start_time": "2022-02-07T15:28:19.617Z"
   },
   {
    "duration": 372,
    "start_time": "2022-02-07T15:28:19.621Z"
   },
   {
    "duration": 5,
    "start_time": "2022-02-07T15:28:19.995Z"
   },
   {
    "duration": 10,
    "start_time": "2022-02-07T15:28:20.002Z"
   },
   {
    "duration": 282,
    "start_time": "2022-02-07T15:28:20.014Z"
   },
   {
    "duration": 295,
    "start_time": "2022-02-07T15:28:20.298Z"
   },
   {
    "duration": 286,
    "start_time": "2022-02-07T15:28:20.595Z"
   },
   {
    "duration": 4,
    "start_time": "2022-02-07T15:28:20.882Z"
   },
   {
    "duration": 11,
    "start_time": "2022-02-07T15:28:20.888Z"
   },
   {
    "duration": 7,
    "start_time": "2022-02-07T15:28:20.900Z"
   },
   {
    "duration": 6,
    "start_time": "2022-02-07T15:28:20.909Z"
   },
   {
    "duration": 6,
    "start_time": "2022-02-07T15:28:20.917Z"
   },
   {
    "duration": 7,
    "start_time": "2022-02-07T15:28:20.925Z"
   },
   {
    "duration": 5,
    "start_time": "2022-02-07T15:28:20.959Z"
   },
   {
    "duration": 8,
    "start_time": "2022-02-07T15:28:20.966Z"
   },
   {
    "duration": 9,
    "start_time": "2022-02-07T15:28:20.976Z"
   },
   {
    "duration": 13,
    "start_time": "2022-02-07T15:28:20.987Z"
   },
   {
    "duration": 17,
    "start_time": "2022-02-07T15:28:21.001Z"
   },
   {
    "duration": 17,
    "start_time": "2022-02-07T15:28:21.020Z"
   },
   {
    "duration": 12,
    "start_time": "2022-02-07T15:28:21.038Z"
   },
   {
    "duration": 7,
    "start_time": "2022-02-07T15:28:21.052Z"
   },
   {
    "duration": 6,
    "start_time": "2022-02-07T15:28:21.060Z"
   },
   {
    "duration": 4,
    "start_time": "2022-02-07T15:28:21.068Z"
   },
   {
    "duration": 22,
    "start_time": "2022-02-07T15:28:21.074Z"
   },
   {
    "duration": 4,
    "start_time": "2022-02-07T15:28:21.097Z"
   },
   {
    "duration": 6,
    "start_time": "2022-02-07T15:28:21.103Z"
   },
   {
    "duration": 15,
    "start_time": "2022-02-07T15:28:21.110Z"
   },
   {
    "duration": 6,
    "start_time": "2022-02-07T15:28:21.127Z"
   },
   {
    "duration": 27,
    "start_time": "2022-02-07T15:28:21.134Z"
   },
   {
    "duration": 350,
    "start_time": "2022-02-07T15:28:21.162Z"
   },
   {
    "duration": 8,
    "start_time": "2022-02-07T15:28:21.514Z"
   },
   {
    "duration": 369,
    "start_time": "2022-02-07T15:28:21.524Z"
   },
   {
    "duration": 383,
    "start_time": "2022-02-07T15:28:21.895Z"
   },
   {
    "duration": 7,
    "start_time": "2022-02-07T15:28:22.280Z"
   },
   {
    "duration": 8,
    "start_time": "2022-02-07T15:28:22.289Z"
   },
   {
    "duration": 11,
    "start_time": "2022-02-07T15:28:22.298Z"
   },
   {
    "duration": 9,
    "start_time": "2022-02-07T15:28:22.311Z"
   },
   {
    "duration": 631,
    "start_time": "2022-02-07T15:30:13.286Z"
   },
   {
    "duration": 5,
    "start_time": "2022-02-07T15:43:24.610Z"
   },
   {
    "duration": 7,
    "start_time": "2022-02-07T15:43:31.942Z"
   },
   {
    "duration": 383,
    "start_time": "2022-02-07T15:52:51.197Z"
   },
   {
    "duration": 1526,
    "start_time": "2022-02-08T20:10:22.678Z"
   },
   {
    "duration": 5037,
    "start_time": "2022-02-08T20:10:24.207Z"
   },
   {
    "duration": 87,
    "start_time": "2022-02-08T20:10:29.248Z"
   },
   {
    "duration": 9,
    "start_time": "2022-02-08T20:10:29.337Z"
   },
   {
    "duration": 41,
    "start_time": "2022-02-08T20:10:29.348Z"
   },
   {
    "duration": 13,
    "start_time": "2022-02-08T20:10:29.392Z"
   },
   {
    "duration": 8,
    "start_time": "2022-02-08T20:10:29.408Z"
   },
   {
    "duration": 14,
    "start_time": "2022-02-08T20:10:29.421Z"
   },
   {
    "duration": 37,
    "start_time": "2022-02-08T20:10:29.439Z"
   },
   {
    "duration": 67,
    "start_time": "2022-02-08T20:10:29.479Z"
   },
   {
    "duration": 113,
    "start_time": "2022-02-08T20:10:29.548Z"
   },
   {
    "duration": 140,
    "start_time": "2022-02-08T20:10:29.663Z"
   },
   {
    "duration": 97,
    "start_time": "2022-02-08T20:10:29.806Z"
   },
   {
    "duration": 76,
    "start_time": "2022-02-08T20:10:29.906Z"
   },
   {
    "duration": 181,
    "start_time": "2022-02-08T20:10:29.986Z"
   },
   {
    "duration": 69,
    "start_time": "2022-02-08T20:10:30.170Z"
   },
   {
    "duration": 29,
    "start_time": "2022-02-08T20:10:30.242Z"
   },
   {
    "duration": 54,
    "start_time": "2022-02-08T20:10:30.274Z"
   },
   {
    "duration": 22,
    "start_time": "2022-02-08T20:10:30.331Z"
   },
   {
    "duration": 32,
    "start_time": "2022-02-08T20:10:30.356Z"
   },
   {
    "duration": 60,
    "start_time": "2022-02-08T20:10:30.391Z"
   },
   {
    "duration": 77,
    "start_time": "2022-02-08T20:10:30.453Z"
   },
   {
    "duration": 12,
    "start_time": "2022-02-08T20:10:30.536Z"
   },
   {
    "duration": 22,
    "start_time": "2022-02-08T20:10:30.552Z"
   },
   {
    "duration": 21,
    "start_time": "2022-02-08T20:10:30.577Z"
   },
   {
    "duration": 8,
    "start_time": "2022-02-08T20:10:30.601Z"
   },
   {
    "duration": 19,
    "start_time": "2022-02-08T20:10:30.611Z"
   },
   {
    "duration": 20,
    "start_time": "2022-02-08T20:10:30.632Z"
   },
   {
    "duration": 74,
    "start_time": "2022-02-08T20:10:30.654Z"
   },
   {
    "duration": 40,
    "start_time": "2022-02-08T20:10:30.731Z"
   },
   {
    "duration": 26,
    "start_time": "2022-02-08T20:10:30.773Z"
   },
   {
    "duration": 35,
    "start_time": "2022-02-08T20:10:30.801Z"
   },
   {
    "duration": 25,
    "start_time": "2022-02-08T20:10:30.838Z"
   },
   {
    "duration": 48,
    "start_time": "2022-02-08T20:10:30.866Z"
   },
   {
    "duration": 15,
    "start_time": "2022-02-08T20:10:30.917Z"
   },
   {
    "duration": 110,
    "start_time": "2022-02-08T20:10:30.934Z"
   },
   {
    "duration": 29,
    "start_time": "2022-02-08T20:10:31.047Z"
   },
   {
    "duration": 20,
    "start_time": "2022-02-08T20:10:31.079Z"
   },
   {
    "duration": 14,
    "start_time": "2022-02-08T20:10:31.102Z"
   },
   {
    "duration": 399,
    "start_time": "2022-02-08T20:10:31.119Z"
   },
   {
    "duration": 6,
    "start_time": "2022-02-08T20:10:31.520Z"
   },
   {
    "duration": 120,
    "start_time": "2022-02-08T20:10:31.529Z"
   },
   {
    "duration": 36,
    "start_time": "2022-02-08T20:10:31.652Z"
   },
   {
    "duration": 21,
    "start_time": "2022-02-08T20:10:31.691Z"
   },
   {
    "duration": 35,
    "start_time": "2022-02-08T20:10:31.714Z"
   },
   {
    "duration": 93,
    "start_time": "2022-02-08T20:10:31.752Z"
   },
   {
    "duration": 34,
    "start_time": "2022-02-08T20:10:31.848Z"
   },
   {
    "duration": 47,
    "start_time": "2022-02-08T20:10:31.884Z"
   },
   {
    "duration": 27,
    "start_time": "2022-02-08T20:10:31.934Z"
   },
   {
    "duration": 24,
    "start_time": "2022-02-08T20:10:31.964Z"
   },
   {
    "duration": 24,
    "start_time": "2022-02-08T20:10:31.990Z"
   },
   {
    "duration": 8,
    "start_time": "2022-02-08T20:10:32.017Z"
   },
   {
    "duration": 15,
    "start_time": "2022-02-08T20:10:32.028Z"
   },
   {
    "duration": 37,
    "start_time": "2022-02-08T20:10:32.045Z"
   },
   {
    "duration": 29,
    "start_time": "2022-02-08T20:10:32.084Z"
   },
   {
    "duration": 50,
    "start_time": "2022-02-08T20:10:32.115Z"
   },
   {
    "duration": 39,
    "start_time": "2022-02-08T20:10:32.168Z"
   },
   {
    "duration": 647,
    "start_time": "2022-02-08T20:10:32.210Z"
   },
   {
    "duration": 14,
    "start_time": "2022-02-08T20:10:32.860Z"
   },
   {
    "duration": 12,
    "start_time": "2022-02-08T20:10:32.877Z"
   },
   {
    "duration": 3,
    "start_time": "2022-02-08T20:10:32.892Z"
   },
   {
    "duration": 18,
    "start_time": "2022-02-08T20:10:32.898Z"
   },
   {
    "duration": 51,
    "start_time": "2022-02-08T20:10:32.918Z"
   },
   {
    "duration": 13,
    "start_time": "2022-02-08T20:10:32.972Z"
   },
   {
    "duration": 547,
    "start_time": "2022-02-08T20:10:32.988Z"
   },
   {
    "duration": 562,
    "start_time": "2022-02-08T20:10:33.537Z"
   },
   {
    "duration": 12,
    "start_time": "2022-02-08T20:10:34.102Z"
   },
   {
    "duration": 527,
    "start_time": "2022-02-08T20:10:34.124Z"
   },
   {
    "duration": 20,
    "start_time": "2022-02-08T20:10:34.656Z"
   },
   {
    "duration": 18,
    "start_time": "2022-02-08T20:10:34.679Z"
   },
   {
    "duration": 7,
    "start_time": "2022-02-08T20:10:34.700Z"
   },
   {
    "duration": 613,
    "start_time": "2022-02-08T20:10:34.710Z"
   },
   {
    "duration": 16,
    "start_time": "2022-02-08T20:10:35.326Z"
   },
   {
    "duration": 31,
    "start_time": "2022-02-08T20:10:35.345Z"
   },
   {
    "duration": 9,
    "start_time": "2022-02-08T20:10:35.378Z"
   },
   {
    "duration": 561,
    "start_time": "2022-02-08T20:10:35.389Z"
   },
   {
    "duration": 20,
    "start_time": "2022-02-08T20:10:35.953Z"
   },
   {
    "duration": 954,
    "start_time": "2022-02-08T20:10:35.977Z"
   },
   {
    "duration": 16,
    "start_time": "2022-02-08T20:10:36.933Z"
   },
   {
    "duration": 13,
    "start_time": "2022-02-08T20:10:36.971Z"
   },
   {
    "duration": 5,
    "start_time": "2022-02-08T20:10:36.987Z"
   },
   {
    "duration": 523,
    "start_time": "2022-02-08T20:10:36.996Z"
   },
   {
    "duration": 6,
    "start_time": "2022-02-08T20:10:37.522Z"
   },
   {
    "duration": 10,
    "start_time": "2022-02-08T20:10:37.531Z"
   },
   {
    "duration": 474,
    "start_time": "2022-02-08T20:10:37.544Z"
   },
   {
    "duration": 451,
    "start_time": "2022-02-08T20:10:38.021Z"
   },
   {
    "duration": 450,
    "start_time": "2022-02-08T20:10:38.475Z"
   },
   {
    "duration": 6,
    "start_time": "2022-02-08T20:10:38.927Z"
   },
   {
    "duration": 36,
    "start_time": "2022-02-08T20:10:38.935Z"
   },
   {
    "duration": 11,
    "start_time": "2022-02-08T20:10:38.973Z"
   },
   {
    "duration": 10,
    "start_time": "2022-02-08T20:10:38.986Z"
   },
   {
    "duration": 9,
    "start_time": "2022-02-08T20:10:38.998Z"
   },
   {
    "duration": 12,
    "start_time": "2022-02-08T20:10:39.009Z"
   },
   {
    "duration": 9,
    "start_time": "2022-02-08T20:10:39.024Z"
   },
   {
    "duration": 34,
    "start_time": "2022-02-08T20:10:39.036Z"
   },
   {
    "duration": 12,
    "start_time": "2022-02-08T20:10:39.072Z"
   },
   {
    "duration": 14,
    "start_time": "2022-02-08T20:10:39.087Z"
   },
   {
    "duration": 11,
    "start_time": "2022-02-08T20:10:39.104Z"
   },
   {
    "duration": 15,
    "start_time": "2022-02-08T20:10:39.118Z"
   },
   {
    "duration": 34,
    "start_time": "2022-02-08T20:10:39.136Z"
   },
   {
    "duration": 6,
    "start_time": "2022-02-08T20:10:39.173Z"
   },
   {
    "duration": 9,
    "start_time": "2022-02-08T20:10:39.181Z"
   },
   {
    "duration": 5,
    "start_time": "2022-02-08T20:10:39.192Z"
   },
   {
    "duration": 70,
    "start_time": "2022-02-08T20:10:39.200Z"
   },
   {
    "duration": 6,
    "start_time": "2022-02-08T20:10:39.273Z"
   },
   {
    "duration": 7,
    "start_time": "2022-02-08T20:10:39.281Z"
   },
   {
    "duration": 17,
    "start_time": "2022-02-08T20:10:39.291Z"
   },
   {
    "duration": 11,
    "start_time": "2022-02-08T20:10:39.310Z"
   },
   {
    "duration": 9,
    "start_time": "2022-02-08T20:10:39.323Z"
   },
   {
    "duration": 565,
    "start_time": "2022-02-08T20:10:39.370Z"
   },
   {
    "duration": 14,
    "start_time": "2022-02-08T20:10:39.938Z"
   },
   {
    "duration": 587,
    "start_time": "2022-02-08T20:10:39.954Z"
   },
   {
    "duration": 594,
    "start_time": "2022-02-08T20:10:40.543Z"
   },
   {
    "duration": 10,
    "start_time": "2022-02-08T20:10:41.140Z"
   },
   {
    "duration": 25,
    "start_time": "2022-02-08T20:10:41.153Z"
   },
   {
    "duration": 16,
    "start_time": "2022-02-08T20:10:41.181Z"
   },
   {
    "duration": 15,
    "start_time": "2022-02-08T20:10:41.200Z"
   },
   {
    "duration": 345,
    "start_time": "2022-02-09T04:49:14.160Z"
   },
   {
    "duration": 444,
    "start_time": "2022-02-09T05:11:37.429Z"
   },
   {
    "duration": 1062,
    "start_time": "2022-02-09T05:11:44.082Z"
   },
   {
    "duration": 3199,
    "start_time": "2022-02-09T05:11:45.145Z"
   },
   {
    "duration": 53,
    "start_time": "2022-02-09T05:11:48.347Z"
   },
   {
    "duration": 5,
    "start_time": "2022-02-09T05:11:48.402Z"
   },
   {
    "duration": 32,
    "start_time": "2022-02-09T05:11:48.409Z"
   },
   {
    "duration": 34,
    "start_time": "2022-02-09T05:11:48.443Z"
   },
   {
    "duration": 15,
    "start_time": "2022-02-09T05:11:48.479Z"
   },
   {
    "duration": 425,
    "start_time": "2022-02-09T05:11:48.495Z"
   },
   {
    "duration": -1268,
    "start_time": "2022-02-09T05:11:50.193Z"
   },
   {
    "duration": -1288,
    "start_time": "2022-02-09T05:11:50.214Z"
   },
   {
    "duration": -1307,
    "start_time": "2022-02-09T05:11:50.234Z"
   },
   {
    "duration": -1316,
    "start_time": "2022-02-09T05:11:50.244Z"
   },
   {
    "duration": -1330,
    "start_time": "2022-02-09T05:11:50.259Z"
   },
   {
    "duration": -1336,
    "start_time": "2022-02-09T05:11:50.267Z"
   },
   {
    "duration": -1345,
    "start_time": "2022-02-09T05:11:50.276Z"
   },
   {
    "duration": -1362,
    "start_time": "2022-02-09T05:11:50.294Z"
   },
   {
    "duration": -1368,
    "start_time": "2022-02-09T05:11:50.301Z"
   },
   {
    "duration": -1376,
    "start_time": "2022-02-09T05:11:50.311Z"
   },
   {
    "duration": -1384,
    "start_time": "2022-02-09T05:11:50.320Z"
   },
   {
    "duration": -1393,
    "start_time": "2022-02-09T05:11:50.330Z"
   },
   {
    "duration": -1406,
    "start_time": "2022-02-09T05:11:50.344Z"
   },
   {
    "duration": -1413,
    "start_time": "2022-02-09T05:11:50.352Z"
   },
   {
    "duration": -1422,
    "start_time": "2022-02-09T05:11:50.362Z"
   },
   {
    "duration": -1429,
    "start_time": "2022-02-09T05:11:50.370Z"
   },
   {
    "duration": -1447,
    "start_time": "2022-02-09T05:11:50.388Z"
   },
   {
    "duration": -1472,
    "start_time": "2022-02-09T05:11:50.414Z"
   },
   {
    "duration": -1481,
    "start_time": "2022-02-09T05:11:50.424Z"
   },
   {
    "duration": -1491,
    "start_time": "2022-02-09T05:11:50.435Z"
   },
   {
    "duration": -1498,
    "start_time": "2022-02-09T05:11:50.443Z"
   },
   {
    "duration": -1507,
    "start_time": "2022-02-09T05:11:50.453Z"
   },
   {
    "duration": -1516,
    "start_time": "2022-02-09T05:11:50.463Z"
   },
   {
    "duration": -1524,
    "start_time": "2022-02-09T05:11:50.472Z"
   },
   {
    "duration": -1530,
    "start_time": "2022-02-09T05:11:50.479Z"
   },
   {
    "duration": -1536,
    "start_time": "2022-02-09T05:11:50.486Z"
   },
   {
    "duration": -1542,
    "start_time": "2022-02-09T05:11:50.493Z"
   },
   {
    "duration": -1550,
    "start_time": "2022-02-09T05:11:50.502Z"
   },
   {
    "duration": -1566,
    "start_time": "2022-02-09T05:11:50.518Z"
   },
   {
    "duration": -1574,
    "start_time": "2022-02-09T05:11:50.527Z"
   },
   {
    "duration": -1579,
    "start_time": "2022-02-09T05:11:50.534Z"
   },
   {
    "duration": -1587,
    "start_time": "2022-02-09T05:11:50.542Z"
   },
   {
    "duration": -1594,
    "start_time": "2022-02-09T05:11:50.550Z"
   },
   {
    "duration": -1607,
    "start_time": "2022-02-09T05:11:50.564Z"
   },
   {
    "duration": -1635,
    "start_time": "2022-02-09T05:11:50.593Z"
   },
   {
    "duration": -1655,
    "start_time": "2022-02-09T05:11:50.614Z"
   },
   {
    "duration": -1727,
    "start_time": "2022-02-09T05:11:50.687Z"
   },
   {
    "duration": -1754,
    "start_time": "2022-02-09T05:11:50.715Z"
   },
   {
    "duration": -1763,
    "start_time": "2022-02-09T05:11:50.725Z"
   },
   {
    "duration": -1773,
    "start_time": "2022-02-09T05:11:50.735Z"
   },
   {
    "duration": -1780,
    "start_time": "2022-02-09T05:11:50.743Z"
   },
   {
    "duration": -1788,
    "start_time": "2022-02-09T05:11:50.752Z"
   },
   {
    "duration": -1797,
    "start_time": "2022-02-09T05:11:50.761Z"
   },
   {
    "duration": -1814,
    "start_time": "2022-02-09T05:11:50.779Z"
   },
   {
    "duration": -1823,
    "start_time": "2022-02-09T05:11:50.788Z"
   },
   {
    "duration": -1831,
    "start_time": "2022-02-09T05:11:50.797Z"
   },
   {
    "duration": -1838,
    "start_time": "2022-02-09T05:11:50.804Z"
   },
   {
    "duration": -1842,
    "start_time": "2022-02-09T05:11:50.813Z"
   },
   {
    "duration": -1848,
    "start_time": "2022-02-09T05:11:50.820Z"
   },
   {
    "duration": -1855,
    "start_time": "2022-02-09T05:11:50.828Z"
   },
   {
    "duration": -1862,
    "start_time": "2022-02-09T05:11:50.836Z"
   },
   {
    "duration": -1869,
    "start_time": "2022-02-09T05:11:50.844Z"
   },
   {
    "duration": -1885,
    "start_time": "2022-02-09T05:11:50.860Z"
   },
   {
    "duration": -1908,
    "start_time": "2022-02-09T05:11:50.884Z"
   },
   {
    "duration": -1962,
    "start_time": "2022-02-09T05:11:50.939Z"
   },
   {
    "duration": -1992,
    "start_time": "2022-02-09T05:11:50.970Z"
   },
   {
    "duration": -2005,
    "start_time": "2022-02-09T05:11:50.984Z"
   },
   {
    "duration": -2029,
    "start_time": "2022-02-09T05:11:51.008Z"
   },
   {
    "duration": -2046,
    "start_time": "2022-02-09T05:11:51.026Z"
   },
   {
    "duration": -2092,
    "start_time": "2022-02-09T05:11:51.073Z"
   },
   {
    "duration": -2111,
    "start_time": "2022-02-09T05:11:51.093Z"
   },
   {
    "duration": -2130,
    "start_time": "2022-02-09T05:11:51.113Z"
   },
   {
    "duration": -2146,
    "start_time": "2022-02-09T05:11:51.130Z"
   },
   {
    "duration": -2162,
    "start_time": "2022-02-09T05:11:51.147Z"
   },
   {
    "duration": -2183,
    "start_time": "2022-02-09T05:11:51.169Z"
   },
   {
    "duration": -2193,
    "start_time": "2022-02-09T05:11:51.180Z"
   },
   {
    "duration": -2199,
    "start_time": "2022-02-09T05:11:51.186Z"
   },
   {
    "duration": -2207,
    "start_time": "2022-02-09T05:11:51.195Z"
   },
   {
    "duration": -2214,
    "start_time": "2022-02-09T05:11:51.203Z"
   },
   {
    "duration": -2221,
    "start_time": "2022-02-09T05:11:51.211Z"
   },
   {
    "duration": -2227,
    "start_time": "2022-02-09T05:11:51.218Z"
   },
   {
    "duration": -2236,
    "start_time": "2022-02-09T05:11:51.228Z"
   },
   {
    "duration": -2243,
    "start_time": "2022-02-09T05:11:51.236Z"
   },
   {
    "duration": -2250,
    "start_time": "2022-02-09T05:11:51.245Z"
   },
   {
    "duration": -2258,
    "start_time": "2022-02-09T05:11:51.254Z"
   },
   {
    "duration": -2266,
    "start_time": "2022-02-09T05:11:51.263Z"
   },
   {
    "duration": -2282,
    "start_time": "2022-02-09T05:11:51.282Z"
   },
   {
    "duration": -2291,
    "start_time": "2022-02-09T05:11:51.292Z"
   },
   {
    "duration": -2297,
    "start_time": "2022-02-09T05:11:51.299Z"
   },
   {
    "duration": -2305,
    "start_time": "2022-02-09T05:11:51.308Z"
   },
   {
    "duration": -2312,
    "start_time": "2022-02-09T05:11:51.316Z"
   },
   {
    "duration": -2320,
    "start_time": "2022-02-09T05:11:51.325Z"
   },
   {
    "duration": -2262,
    "start_time": "2022-02-09T05:11:51.333Z"
   },
   {
    "duration": -2270,
    "start_time": "2022-02-09T05:11:51.342Z"
   },
   {
    "duration": -2278,
    "start_time": "2022-02-09T05:11:51.351Z"
   },
   {
    "duration": -2285,
    "start_time": "2022-02-09T05:11:51.359Z"
   },
   {
    "duration": -2294,
    "start_time": "2022-02-09T05:11:51.368Z"
   },
   {
    "duration": -2302,
    "start_time": "2022-02-09T05:11:51.377Z"
   },
   {
    "duration": -2327,
    "start_time": "2022-02-09T05:11:51.403Z"
   },
   {
    "duration": -2339,
    "start_time": "2022-02-09T05:11:51.416Z"
   },
   {
    "duration": -2345,
    "start_time": "2022-02-09T05:11:51.423Z"
   },
   {
    "duration": -2352,
    "start_time": "2022-02-09T05:11:51.431Z"
   },
   {
    "duration": -2359,
    "start_time": "2022-02-09T05:11:51.439Z"
   },
   {
    "duration": -2365,
    "start_time": "2022-02-09T05:11:51.446Z"
   },
   {
    "duration": -2372,
    "start_time": "2022-02-09T05:11:51.454Z"
   },
   {
    "duration": -2379,
    "start_time": "2022-02-09T05:11:51.461Z"
   },
   {
    "duration": -2385,
    "start_time": "2022-02-09T05:11:51.468Z"
   },
   {
    "duration": -2392,
    "start_time": "2022-02-09T05:11:51.476Z"
   },
   {
    "duration": -2398,
    "start_time": "2022-02-09T05:11:51.483Z"
   },
   {
    "duration": -2405,
    "start_time": "2022-02-09T05:11:51.491Z"
   },
   {
    "duration": -2422,
    "start_time": "2022-02-09T05:11:51.509Z"
   },
   {
    "duration": -2429,
    "start_time": "2022-02-09T05:11:51.517Z"
   },
   {
    "duration": -2438,
    "start_time": "2022-02-09T05:11:51.527Z"
   },
   {
    "duration": -2448,
    "start_time": "2022-02-09T05:11:51.538Z"
   },
   {
    "duration": -2457,
    "start_time": "2022-02-09T05:11:51.547Z"
   },
   {
    "duration": -2467,
    "start_time": "2022-02-09T05:11:51.558Z"
   },
   {
    "duration": -2474,
    "start_time": "2022-02-09T05:11:51.566Z"
   },
   {
    "duration": -2482,
    "start_time": "2022-02-09T05:11:51.575Z"
   },
   {
    "duration": -2489,
    "start_time": "2022-02-09T05:11:51.583Z"
   },
   {
    "duration": -2502,
    "start_time": "2022-02-09T05:11:51.597Z"
   },
   {
    "duration": 6,
    "start_time": "2022-02-09T05:12:13.009Z"
   },
   {
    "duration": 5,
    "start_time": "2022-02-09T05:12:17.522Z"
   },
   {
    "duration": 317,
    "start_time": "2022-02-09T05:12:28.702Z"
   },
   {
    "duration": 378,
    "start_time": "2022-02-09T05:12:43.821Z"
   },
   {
    "duration": 10,
    "start_time": "2022-02-09T05:14:24.921Z"
   },
   {
    "duration": 10,
    "start_time": "2022-02-09T05:14:46.361Z"
   },
   {
    "duration": 9,
    "start_time": "2022-02-09T05:14:50.803Z"
   },
   {
    "duration": 9,
    "start_time": "2022-02-09T05:14:56.961Z"
   },
   {
    "duration": 9,
    "start_time": "2022-02-09T05:15:03.702Z"
   },
   {
    "duration": 11,
    "start_time": "2022-02-09T05:15:08.981Z"
   },
   {
    "duration": 9,
    "start_time": "2022-02-09T05:15:13.142Z"
   },
   {
    "duration": 9,
    "start_time": "2022-02-09T05:15:17.573Z"
   },
   {
    "duration": 10,
    "start_time": "2022-02-09T05:15:26.421Z"
   },
   {
    "duration": 9,
    "start_time": "2022-02-09T05:15:33.181Z"
   },
   {
    "duration": 10,
    "start_time": "2022-02-09T05:15:37.549Z"
   },
   {
    "duration": 9,
    "start_time": "2022-02-09T05:15:41.674Z"
   },
   {
    "duration": 10,
    "start_time": "2022-02-09T05:15:49.581Z"
   },
   {
    "duration": 10,
    "start_time": "2022-02-09T05:15:56.421Z"
   },
   {
    "duration": 10,
    "start_time": "2022-02-09T05:17:00.101Z"
   },
   {
    "duration": 9,
    "start_time": "2022-02-09T05:17:08.803Z"
   },
   {
    "duration": 11,
    "start_time": "2022-02-09T05:17:30.741Z"
   },
   {
    "duration": 764,
    "start_time": "2022-02-09T05:21:18.281Z"
   },
   {
    "duration": 10,
    "start_time": "2022-02-09T05:21:25.522Z"
   },
   {
    "duration": 10,
    "start_time": "2022-02-09T05:21:34.881Z"
   },
   {
    "duration": 10,
    "start_time": "2022-02-09T05:21:38.401Z"
   },
   {
    "duration": 370,
    "start_time": "2022-02-09T05:21:44.461Z"
   },
   {
    "duration": 10,
    "start_time": "2022-02-09T05:21:57.702Z"
   },
   {
    "duration": 316,
    "start_time": "2022-02-09T05:22:33.903Z"
   },
   {
    "duration": 29,
    "start_time": "2022-02-09T05:22:41.490Z"
   },
   {
    "duration": 15,
    "start_time": "2022-02-09T05:22:49.302Z"
   },
   {
    "duration": 333,
    "start_time": "2022-02-09T05:24:17.761Z"
   },
   {
    "duration": 14,
    "start_time": "2022-02-09T05:25:33.423Z"
   },
   {
    "duration": 19,
    "start_time": "2022-02-09T05:25:41.114Z"
   },
   {
    "duration": 15,
    "start_time": "2022-02-09T05:25:51.194Z"
   },
   {
    "duration": 17,
    "start_time": "2022-02-09T05:26:34.681Z"
   },
   {
    "duration": 3,
    "start_time": "2022-02-09T05:28:28.254Z"
   },
   {
    "duration": 4,
    "start_time": "2022-02-09T05:28:56.061Z"
   },
   {
    "duration": 8,
    "start_time": "2022-02-09T05:29:02.961Z"
   },
   {
    "duration": 3,
    "start_time": "2022-02-09T05:29:30.853Z"
   },
   {
    "duration": 3,
    "start_time": "2022-02-09T05:29:31.461Z"
   },
   {
    "duration": 7,
    "start_time": "2022-02-09T05:29:32.122Z"
   },
   {
    "duration": 303,
    "start_time": "2022-02-09T05:29:48.253Z"
   },
   {
    "duration": 4,
    "start_time": "2022-02-09T05:29:48.902Z"
   },
   {
    "duration": 3,
    "start_time": "2022-02-09T05:30:02.133Z"
   },
   {
    "duration": 3,
    "start_time": "2022-02-09T05:30:05.622Z"
   },
   {
    "duration": 7,
    "start_time": "2022-02-09T05:30:08.041Z"
   },
   {
    "duration": 18,
    "start_time": "2022-02-09T05:34:25.663Z"
   },
   {
    "duration": 917,
    "start_time": "2022-02-09T05:40:30.382Z"
   },
   {
    "duration": 299,
    "start_time": "2022-02-09T05:40:49.381Z"
   },
   {
    "duration": 446,
    "start_time": "2022-02-09T05:43:41.021Z"
   },
   {
    "duration": 275,
    "start_time": "2022-02-09T05:43:51.861Z"
   },
   {
    "duration": 257,
    "start_time": "2022-02-09T05:44:18.922Z"
   },
   {
    "duration": 230,
    "start_time": "2022-02-09T05:44:31.814Z"
   },
   {
    "duration": 342,
    "start_time": "2022-02-09T05:44:55.403Z"
   },
   {
    "duration": 258,
    "start_time": "2022-02-09T05:50:40.022Z"
   },
   {
    "duration": 217,
    "start_time": "2022-02-09T05:51:04.622Z"
   },
   {
    "duration": 227,
    "start_time": "2022-02-09T05:51:25.401Z"
   },
   {
    "duration": 268,
    "start_time": "2022-02-09T05:51:38.749Z"
   },
   {
    "duration": 233,
    "start_time": "2022-02-09T05:51:48.501Z"
   },
   {
    "duration": 212,
    "start_time": "2022-02-09T05:52:18.022Z"
   },
   {
    "duration": 208,
    "start_time": "2022-02-09T05:53:18.222Z"
   },
   {
    "duration": 285,
    "start_time": "2022-02-09T05:53:22.954Z"
   },
   {
    "duration": 284,
    "start_time": "2022-02-09T05:53:43.262Z"
   },
   {
    "duration": 541,
    "start_time": "2022-02-09T05:54:48.401Z"
   },
   {
    "duration": 509,
    "start_time": "2022-02-09T05:55:09.102Z"
   },
   {
    "duration": 569,
    "start_time": "2022-02-09T05:55:17.262Z"
   },
   {
    "duration": 487,
    "start_time": "2022-02-09T05:55:24.262Z"
   },
   {
    "duration": 320,
    "start_time": "2022-02-09T05:57:55.441Z"
   },
   {
    "duration": 973,
    "start_time": "2022-02-09T06:00:42.075Z"
   },
   {
    "duration": 2304,
    "start_time": "2022-02-09T06:00:43.050Z"
   },
   {
    "duration": 49,
    "start_time": "2022-02-09T06:00:45.356Z"
   },
   {
    "duration": 5,
    "start_time": "2022-02-09T06:00:45.406Z"
   },
   {
    "duration": 41,
    "start_time": "2022-02-09T06:00:45.412Z"
   },
   {
    "duration": 10,
    "start_time": "2022-02-09T06:00:45.455Z"
   },
   {
    "duration": 13,
    "start_time": "2022-02-09T06:00:45.467Z"
   },
   {
    "duration": 463,
    "start_time": "2022-02-09T06:00:45.481Z"
   },
   {
    "duration": 19,
    "start_time": "2022-02-09T06:00:45.946Z"
   },
   {
    "duration": 316,
    "start_time": "2022-02-09T06:00:45.967Z"
   },
   {
    "duration": 58,
    "start_time": "2022-02-09T06:00:46.284Z"
   },
   {
    "duration": 13,
    "start_time": "2022-02-09T06:00:46.344Z"
   },
   {
    "duration": 25,
    "start_time": "2022-02-09T06:00:46.358Z"
   },
   {
    "duration": 14,
    "start_time": "2022-02-09T06:00:46.384Z"
   },
   {
    "duration": 21,
    "start_time": "2022-02-09T06:00:46.400Z"
   },
   {
    "duration": 15,
    "start_time": "2022-02-09T06:00:46.423Z"
   },
   {
    "duration": 23,
    "start_time": "2022-02-09T06:00:46.439Z"
   },
   {
    "duration": 23,
    "start_time": "2022-02-09T06:00:46.463Z"
   },
   {
    "duration": 19,
    "start_time": "2022-02-09T06:00:46.488Z"
   },
   {
    "duration": 13,
    "start_time": "2022-02-09T06:00:46.509Z"
   },
   {
    "duration": 12,
    "start_time": "2022-02-09T06:00:46.524Z"
   },
   {
    "duration": 16,
    "start_time": "2022-02-09T06:00:46.537Z"
   },
   {
    "duration": 10,
    "start_time": "2022-02-09T06:00:46.555Z"
   },
   {
    "duration": 13,
    "start_time": "2022-02-09T06:00:46.566Z"
   },
   {
    "duration": 24,
    "start_time": "2022-02-09T06:00:46.580Z"
   },
   {
    "duration": 12,
    "start_time": "2022-02-09T06:00:46.606Z"
   },
   {
    "duration": 15,
    "start_time": "2022-02-09T06:00:46.622Z"
   },
   {
    "duration": 16,
    "start_time": "2022-02-09T06:00:46.639Z"
   },
   {
    "duration": 18,
    "start_time": "2022-02-09T06:00:46.657Z"
   },
   {
    "duration": 29,
    "start_time": "2022-02-09T06:00:46.677Z"
   },
   {
    "duration": 23,
    "start_time": "2022-02-09T06:00:46.707Z"
   },
   {
    "duration": 14,
    "start_time": "2022-02-09T06:00:46.732Z"
   },
   {
    "duration": 20,
    "start_time": "2022-02-09T06:00:46.747Z"
   },
   {
    "duration": 19,
    "start_time": "2022-02-09T06:00:46.769Z"
   },
   {
    "duration": 19,
    "start_time": "2022-02-09T06:00:46.790Z"
   },
   {
    "duration": 9,
    "start_time": "2022-02-09T06:00:46.811Z"
   },
   {
    "duration": 24,
    "start_time": "2022-02-09T06:00:46.821Z"
   },
   {
    "duration": 21,
    "start_time": "2022-02-09T06:00:46.846Z"
   },
   {
    "duration": 20,
    "start_time": "2022-02-09T06:00:46.868Z"
   },
   {
    "duration": 14,
    "start_time": "2022-02-09T06:00:46.890Z"
   },
   {
    "duration": 193,
    "start_time": "2022-02-09T06:00:46.906Z"
   },
   {
    "duration": 3,
    "start_time": "2022-02-09T06:00:47.101Z"
   },
   {
    "duration": 20,
    "start_time": "2022-02-09T06:00:47.105Z"
   },
   {
    "duration": 23,
    "start_time": "2022-02-09T06:00:47.126Z"
   },
   {
    "duration": 15,
    "start_time": "2022-02-09T06:00:47.151Z"
   },
   {
    "duration": 28,
    "start_time": "2022-02-09T06:00:47.168Z"
   },
   {
    "duration": 15,
    "start_time": "2022-02-09T06:00:47.198Z"
   },
   {
    "duration": 19,
    "start_time": "2022-02-09T06:00:47.214Z"
   },
   {
    "duration": 12,
    "start_time": "2022-02-09T06:00:47.234Z"
   },
   {
    "duration": 21,
    "start_time": "2022-02-09T06:00:47.247Z"
   },
   {
    "duration": 18,
    "start_time": "2022-02-09T06:00:47.270Z"
   },
   {
    "duration": 18,
    "start_time": "2022-02-09T06:00:47.290Z"
   },
   {
    "duration": 25,
    "start_time": "2022-02-09T06:00:47.310Z"
   },
   {
    "duration": 11,
    "start_time": "2022-02-09T06:00:47.336Z"
   },
   {
    "duration": 41,
    "start_time": "2022-02-09T06:00:47.348Z"
   },
   {
    "duration": 9,
    "start_time": "2022-02-09T06:00:47.391Z"
   },
   {
    "duration": 17,
    "start_time": "2022-02-09T06:00:47.402Z"
   },
   {
    "duration": 18,
    "start_time": "2022-02-09T06:00:47.420Z"
   },
   {
    "duration": 388,
    "start_time": "2022-02-09T06:00:47.439Z"
   },
   {
    "duration": 6,
    "start_time": "2022-02-09T06:00:47.829Z"
   },
   {
    "duration": 11,
    "start_time": "2022-02-09T06:00:47.837Z"
   },
   {
    "duration": 4,
    "start_time": "2022-02-09T06:00:47.850Z"
   },
   {
    "duration": 23,
    "start_time": "2022-02-09T06:00:47.855Z"
   },
   {
    "duration": 10,
    "start_time": "2022-02-09T06:00:47.880Z"
   },
   {
    "duration": 10,
    "start_time": "2022-02-09T06:00:47.891Z"
   },
   {
    "duration": 367,
    "start_time": "2022-02-09T06:00:47.902Z"
   },
   {
    "duration": 328,
    "start_time": "2022-02-09T06:00:48.271Z"
   },
   {
    "duration": 7,
    "start_time": "2022-02-09T06:00:48.600Z"
   },
   {
    "duration": 383,
    "start_time": "2022-02-09T06:00:48.609Z"
   },
   {
    "duration": 7,
    "start_time": "2022-02-09T06:00:48.994Z"
   },
   {
    "duration": 10,
    "start_time": "2022-02-09T06:00:49.002Z"
   },
   {
    "duration": 4,
    "start_time": "2022-02-09T06:00:49.013Z"
   },
   {
    "duration": 371,
    "start_time": "2022-02-09T06:00:49.018Z"
   },
   {
    "duration": 9,
    "start_time": "2022-02-09T06:00:49.390Z"
   },
   {
    "duration": 7,
    "start_time": "2022-02-09T06:00:49.401Z"
   },
   {
    "duration": 7,
    "start_time": "2022-02-09T06:00:49.409Z"
   },
   {
    "duration": 375,
    "start_time": "2022-02-09T06:00:49.417Z"
   },
   {
    "duration": 8,
    "start_time": "2022-02-09T06:00:49.793Z"
   },
   {
    "duration": 601,
    "start_time": "2022-02-09T06:00:49.802Z"
   },
   {
    "duration": 8,
    "start_time": "2022-02-09T06:00:50.405Z"
   },
   {
    "duration": 1324,
    "start_time": "2022-02-09T06:00:50.419Z"
   },
   {
    "duration": -7342,
    "start_time": "2022-02-09T06:00:59.087Z"
   },
   {
    "duration": -7445,
    "start_time": "2022-02-09T06:00:59.191Z"
   },
   {
    "duration": -7458,
    "start_time": "2022-02-09T06:00:59.205Z"
   },
   {
    "duration": -7488,
    "start_time": "2022-02-09T06:00:59.236Z"
   },
   {
    "duration": -7506,
    "start_time": "2022-02-09T06:00:59.255Z"
   },
   {
    "duration": -7528,
    "start_time": "2022-02-09T06:00:59.278Z"
   },
   {
    "duration": -7618,
    "start_time": "2022-02-09T06:00:59.369Z"
   },
   {
    "duration": -7642,
    "start_time": "2022-02-09T06:00:59.393Z"
   },
   {
    "duration": -7652,
    "start_time": "2022-02-09T06:00:59.404Z"
   },
   {
    "duration": -7669,
    "start_time": "2022-02-09T06:00:59.422Z"
   },
   {
    "duration": -7702,
    "start_time": "2022-02-09T06:00:59.456Z"
   },
   {
    "duration": -7710,
    "start_time": "2022-02-09T06:00:59.464Z"
   },
   {
    "duration": -7721,
    "start_time": "2022-02-09T06:00:59.477Z"
   },
   {
    "duration": -7737,
    "start_time": "2022-02-09T06:00:59.493Z"
   },
   {
    "duration": -7749,
    "start_time": "2022-02-09T06:00:59.506Z"
   },
   {
    "duration": -7770,
    "start_time": "2022-02-09T06:00:59.529Z"
   },
   {
    "duration": -7784,
    "start_time": "2022-02-09T06:00:59.543Z"
   },
   {
    "duration": -7820,
    "start_time": "2022-02-09T06:00:59.580Z"
   },
   {
    "duration": -7839,
    "start_time": "2022-02-09T06:00:59.600Z"
   },
   {
    "duration": -7846,
    "start_time": "2022-02-09T06:00:59.607Z"
   },
   {
    "duration": -7856,
    "start_time": "2022-02-09T06:00:59.618Z"
   },
   {
    "duration": -7873,
    "start_time": "2022-02-09T06:00:59.636Z"
   },
   {
    "duration": -7884,
    "start_time": "2022-02-09T06:00:59.648Z"
   },
   {
    "duration": -7894,
    "start_time": "2022-02-09T06:00:59.659Z"
   },
   {
    "duration": -7914,
    "start_time": "2022-02-09T06:00:59.680Z"
   },
   {
    "duration": -7955,
    "start_time": "2022-02-09T06:00:59.721Z"
   },
   {
    "duration": -7967,
    "start_time": "2022-02-09T06:00:59.734Z"
   },
   {
    "duration": -7992,
    "start_time": "2022-02-09T06:00:59.760Z"
   },
   {
    "duration": -8011,
    "start_time": "2022-02-09T06:00:59.780Z"
   },
   {
    "duration": -8023,
    "start_time": "2022-02-09T06:00:59.793Z"
   },
   {
    "duration": -8037,
    "start_time": "2022-02-09T06:00:59.807Z"
   },
   {
    "duration": -8067,
    "start_time": "2022-02-09T06:00:59.838Z"
   },
   {
    "duration": -8086,
    "start_time": "2022-02-09T06:00:59.858Z"
   },
   {
    "duration": -8292,
    "start_time": "2022-02-09T06:01:00.065Z"
   },
   {
    "duration": -8321,
    "start_time": "2022-02-09T06:01:00.095Z"
   },
   {
    "duration": -8346,
    "start_time": "2022-02-09T06:01:00.121Z"
   },
   {
    "duration": -8356,
    "start_time": "2022-02-09T06:01:00.131Z"
   },
   {
    "duration": -8370,
    "start_time": "2022-02-09T06:01:00.146Z"
   },
   {
    "duration": 321,
    "start_time": "2022-02-09T06:02:35.179Z"
   },
   {
    "duration": 966,
    "start_time": "2022-02-09T06:03:59.079Z"
   },
   {
    "duration": 110,
    "start_time": "2022-02-09T06:04:47.918Z"
   },
   {
    "duration": 427,
    "start_time": "2022-02-09T06:05:03.639Z"
   },
   {
    "duration": 98,
    "start_time": "2022-02-09T06:08:37.179Z"
   },
   {
    "duration": 112,
    "start_time": "2022-02-09T06:08:57.819Z"
   },
   {
    "duration": 9,
    "start_time": "2022-02-09T06:09:12.499Z"
   },
   {
    "duration": 3,
    "start_time": "2022-02-09T06:09:17.999Z"
   },
   {
    "duration": 515,
    "start_time": "2022-02-09T06:09:18.867Z"
   },
   {
    "duration": 442,
    "start_time": "2022-02-09T06:09:27.046Z"
   },
   {
    "duration": 460,
    "start_time": "2022-02-09T06:09:43.919Z"
   },
   {
    "duration": 444,
    "start_time": "2022-02-09T06:13:55.191Z"
   },
   {
    "duration": 452,
    "start_time": "2022-02-09T06:14:03.111Z"
   },
   {
    "duration": 9,
    "start_time": "2022-02-09T06:16:00.558Z"
   },
   {
    "duration": 470,
    "start_time": "2022-02-09T06:16:07.099Z"
   },
   {
    "duration": 6,
    "start_time": "2022-02-09T06:16:22.979Z"
   },
   {
    "duration": 8,
    "start_time": "2022-02-09T06:16:33.926Z"
   },
   {
    "duration": 10,
    "start_time": "2022-02-09T06:16:48.559Z"
   },
   {
    "duration": 9,
    "start_time": "2022-02-09T06:16:49.599Z"
   },
   {
    "duration": 6,
    "start_time": "2022-02-09T06:17:00.291Z"
   },
   {
    "duration": 3,
    "start_time": "2022-02-09T06:17:13.599Z"
   },
   {
    "duration": 439,
    "start_time": "2022-02-09T06:17:14.487Z"
   },
   {
    "duration": 400,
    "start_time": "2022-02-09T06:18:17.239Z"
   },
   {
    "duration": 349,
    "start_time": "2022-02-09T06:18:49.879Z"
   },
   {
    "duration": 8,
    "start_time": "2022-02-09T06:19:07.419Z"
   },
   {
    "duration": 2,
    "start_time": "2022-02-09T06:19:08.727Z"
   },
   {
    "duration": 3,
    "start_time": "2022-02-09T06:19:09.211Z"
   },
   {
    "duration": 325,
    "start_time": "2022-02-09T06:19:09.799Z"
   },
   {
    "duration": 342,
    "start_time": "2022-02-09T06:22:31.341Z"
   },
   {
    "duration": 480,
    "start_time": "2022-02-09T06:24:35.619Z"
   },
   {
    "duration": 2,
    "start_time": "2022-02-09T06:24:45.019Z"
   },
   {
    "duration": 303,
    "start_time": "2022-02-09T06:24:45.939Z"
   },
   {
    "duration": 336,
    "start_time": "2022-02-09T06:24:52.507Z"
   },
   {
    "duration": 298,
    "start_time": "2022-02-09T06:25:19.687Z"
   },
   {
    "duration": 380,
    "start_time": "2022-02-09T06:25:25.659Z"
   },
   {
    "duration": 346,
    "start_time": "2022-02-09T06:25:47.399Z"
   },
   {
    "duration": 341,
    "start_time": "2022-02-09T06:26:07.679Z"
   },
   {
    "duration": 374,
    "start_time": "2022-02-09T06:26:16.679Z"
   },
   {
    "duration": 369,
    "start_time": "2022-02-09T06:26:24.931Z"
   },
   {
    "duration": 297,
    "start_time": "2022-02-09T06:26:36.639Z"
   },
   {
    "duration": 365,
    "start_time": "2022-02-09T06:27:00.480Z"
   },
   {
    "duration": 389,
    "start_time": "2022-02-09T06:27:19.251Z"
   },
   {
    "duration": 336,
    "start_time": "2022-02-09T06:27:49.699Z"
   },
   {
    "duration": 373,
    "start_time": "2022-02-09T06:27:59.959Z"
   },
   {
    "duration": 344,
    "start_time": "2022-02-09T06:28:18.259Z"
   },
   {
    "duration": 2,
    "start_time": "2022-02-09T06:28:36.139Z"
   },
   {
    "duration": 352,
    "start_time": "2022-02-09T06:28:48.651Z"
   },
   {
    "duration": 327,
    "start_time": "2022-02-09T06:28:53.301Z"
   },
   {
    "duration": 356,
    "start_time": "2022-02-09T06:28:58.879Z"
   },
   {
    "duration": 350,
    "start_time": "2022-02-09T06:29:03.085Z"
   },
   {
    "duration": 2,
    "start_time": "2022-02-09T06:29:12.711Z"
   },
   {
    "duration": 2,
    "start_time": "2022-02-09T06:29:21.411Z"
   },
   {
    "duration": 372,
    "start_time": "2022-02-09T06:29:51.861Z"
   },
   {
    "duration": 403,
    "start_time": "2022-02-09T06:29:57.738Z"
   },
   {
    "duration": 332,
    "start_time": "2022-02-09T06:30:02.199Z"
   },
   {
    "duration": 5,
    "start_time": "2022-02-09T06:31:22.219Z"
   },
   {
    "duration": 8,
    "start_time": "2022-02-09T06:31:23.678Z"
   },
   {
    "duration": 4,
    "start_time": "2022-02-09T06:31:23.999Z"
   },
   {
    "duration": 4,
    "start_time": "2022-02-09T06:31:24.131Z"
   },
   {
    "duration": 5,
    "start_time": "2022-02-09T06:31:24.451Z"
   },
   {
    "duration": 4,
    "start_time": "2022-02-09T06:31:24.739Z"
   },
   {
    "duration": 4,
    "start_time": "2022-02-09T06:31:25.339Z"
   },
   {
    "duration": 3,
    "start_time": "2022-02-09T06:31:25.819Z"
   },
   {
    "duration": 5,
    "start_time": "2022-02-09T06:31:26.119Z"
   },
   {
    "duration": 8,
    "start_time": "2022-02-09T06:31:26.919Z"
   },
   {
    "duration": 4,
    "start_time": "2022-02-09T06:31:27.299Z"
   },
   {
    "duration": 5,
    "start_time": "2022-02-09T06:31:27.450Z"
   },
   {
    "duration": 4,
    "start_time": "2022-02-09T06:31:27.958Z"
   },
   {
    "duration": 4,
    "start_time": "2022-02-09T06:31:28.122Z"
   },
   {
    "duration": 5,
    "start_time": "2022-02-09T06:31:28.639Z"
   },
   {
    "duration": 4,
    "start_time": "2022-02-09T06:31:28.790Z"
   },
   {
    "duration": 20,
    "start_time": "2022-02-09T06:31:29.299Z"
   },
   {
    "duration": 4,
    "start_time": "2022-02-09T06:31:29.638Z"
   },
   {
    "duration": 3,
    "start_time": "2022-02-09T06:31:30.159Z"
   },
   {
    "duration": 10,
    "start_time": "2022-02-09T06:31:30.998Z"
   },
   {
    "duration": 3,
    "start_time": "2022-02-09T06:31:31.139Z"
   },
   {
    "duration": 5,
    "start_time": "2022-02-09T06:31:31.458Z"
   },
   {
    "duration": 350,
    "start_time": "2022-02-09T06:31:32.139Z"
   },
   {
    "duration": 9,
    "start_time": "2022-02-09T06:31:32.491Z"
   },
   {
    "duration": 328,
    "start_time": "2022-02-09T06:31:32.659Z"
   },
   {
    "duration": 337,
    "start_time": "2022-02-09T06:31:32.989Z"
   },
   {
    "duration": 7,
    "start_time": "2022-02-09T06:31:34.851Z"
   },
   {
    "duration": 8,
    "start_time": "2022-02-09T06:31:35.019Z"
   },
   {
    "duration": 9,
    "start_time": "2022-02-09T06:31:35.787Z"
   },
   {
    "duration": 10,
    "start_time": "2022-02-09T06:31:36.066Z"
   },
   {
    "duration": 1050,
    "start_time": "2022-02-09T06:31:46.097Z"
   },
   {
    "duration": 2507,
    "start_time": "2022-02-09T06:31:47.148Z"
   },
   {
    "duration": 48,
    "start_time": "2022-02-09T06:31:49.658Z"
   },
   {
    "duration": 5,
    "start_time": "2022-02-09T06:31:49.707Z"
   },
   {
    "duration": 23,
    "start_time": "2022-02-09T06:31:49.714Z"
   },
   {
    "duration": 28,
    "start_time": "2022-02-09T06:31:49.739Z"
   },
   {
    "duration": 13,
    "start_time": "2022-02-09T06:31:49.769Z"
   },
   {
    "duration": 559,
    "start_time": "2022-02-09T06:31:49.783Z"
   },
   {
    "duration": 19,
    "start_time": "2022-02-09T06:31:50.345Z"
   },
   {
    "duration": 317,
    "start_time": "2022-02-09T06:31:50.366Z"
   },
   {
    "duration": 50,
    "start_time": "2022-02-09T06:31:50.685Z"
   },
   {
    "duration": 7,
    "start_time": "2022-02-09T06:31:50.737Z"
   },
   {
    "duration": 16,
    "start_time": "2022-02-09T06:31:50.745Z"
   },
   {
    "duration": 12,
    "start_time": "2022-02-09T06:31:50.762Z"
   },
   {
    "duration": 15,
    "start_time": "2022-02-09T06:31:50.775Z"
   },
   {
    "duration": 18,
    "start_time": "2022-02-09T06:31:50.791Z"
   },
   {
    "duration": 19,
    "start_time": "2022-02-09T06:31:50.810Z"
   },
   {
    "duration": 21,
    "start_time": "2022-02-09T06:31:50.831Z"
   },
   {
    "duration": 12,
    "start_time": "2022-02-09T06:31:50.853Z"
   },
   {
    "duration": 22,
    "start_time": "2022-02-09T06:31:50.867Z"
   },
   {
    "duration": 7,
    "start_time": "2022-02-09T06:31:50.891Z"
   },
   {
    "duration": 23,
    "start_time": "2022-02-09T06:31:50.899Z"
   },
   {
    "duration": 17,
    "start_time": "2022-02-09T06:31:50.923Z"
   },
   {
    "duration": 13,
    "start_time": "2022-02-09T06:31:50.941Z"
   },
   {
    "duration": 20,
    "start_time": "2022-02-09T06:31:50.955Z"
   },
   {
    "duration": 24,
    "start_time": "2022-02-09T06:31:50.976Z"
   },
   {
    "duration": 16,
    "start_time": "2022-02-09T06:31:51.005Z"
   },
   {
    "duration": 15,
    "start_time": "2022-02-09T06:31:51.023Z"
   },
   {
    "duration": 18,
    "start_time": "2022-02-09T06:31:51.039Z"
   },
   {
    "duration": 25,
    "start_time": "2022-02-09T06:31:51.058Z"
   },
   {
    "duration": 15,
    "start_time": "2022-02-09T06:31:51.084Z"
   },
   {
    "duration": 18,
    "start_time": "2022-02-09T06:31:51.100Z"
   },
   {
    "duration": 24,
    "start_time": "2022-02-09T06:31:51.120Z"
   },
   {
    "duration": 15,
    "start_time": "2022-02-09T06:31:51.146Z"
   },
   {
    "duration": 16,
    "start_time": "2022-02-09T06:31:51.163Z"
   },
   {
    "duration": 19,
    "start_time": "2022-02-09T06:31:51.180Z"
   },
   {
    "duration": 12,
    "start_time": "2022-02-09T06:31:51.200Z"
   },
   {
    "duration": 17,
    "start_time": "2022-02-09T06:31:51.213Z"
   },
   {
    "duration": 20,
    "start_time": "2022-02-09T06:31:51.232Z"
   },
   {
    "duration": 10,
    "start_time": "2022-02-09T06:31:51.254Z"
   },
   {
    "duration": 163,
    "start_time": "2022-02-09T06:31:51.266Z"
   },
   {
    "duration": 4,
    "start_time": "2022-02-09T06:31:51.431Z"
   },
   {
    "duration": 15,
    "start_time": "2022-02-09T06:31:51.437Z"
   },
   {
    "duration": 7,
    "start_time": "2022-02-09T06:31:51.454Z"
   },
   {
    "duration": 12,
    "start_time": "2022-02-09T06:31:51.463Z"
   },
   {
    "duration": 13,
    "start_time": "2022-02-09T06:31:51.476Z"
   },
   {
    "duration": 26,
    "start_time": "2022-02-09T06:31:51.490Z"
   },
   {
    "duration": 15,
    "start_time": "2022-02-09T06:31:51.518Z"
   },
   {
    "duration": 17,
    "start_time": "2022-02-09T06:31:51.534Z"
   },
   {
    "duration": 20,
    "start_time": "2022-02-09T06:31:51.552Z"
   },
   {
    "duration": 7,
    "start_time": "2022-02-09T06:31:51.573Z"
   },
   {
    "duration": 20,
    "start_time": "2022-02-09T06:31:51.582Z"
   },
   {
    "duration": 17,
    "start_time": "2022-02-09T06:31:51.603Z"
   },
   {
    "duration": 17,
    "start_time": "2022-02-09T06:31:51.622Z"
   },
   {
    "duration": 24,
    "start_time": "2022-02-09T06:31:51.641Z"
   },
   {
    "duration": 23,
    "start_time": "2022-02-09T06:31:51.666Z"
   },
   {
    "duration": 26,
    "start_time": "2022-02-09T06:31:51.691Z"
   },
   {
    "duration": 33,
    "start_time": "2022-02-09T06:31:51.719Z"
   },
   {
    "duration": 361,
    "start_time": "2022-02-09T06:31:51.754Z"
   },
   {
    "duration": 7,
    "start_time": "2022-02-09T06:31:52.117Z"
   },
   {
    "duration": 19,
    "start_time": "2022-02-09T06:31:52.126Z"
   },
   {
    "duration": 20,
    "start_time": "2022-02-09T06:31:52.146Z"
   },
   {
    "duration": 29,
    "start_time": "2022-02-09T06:31:52.168Z"
   },
   {
    "duration": 26,
    "start_time": "2022-02-09T06:31:52.198Z"
   },
   {
    "duration": 24,
    "start_time": "2022-02-09T06:31:52.226Z"
   },
   {
    "duration": 330,
    "start_time": "2022-02-09T06:31:52.252Z"
   },
   {
    "duration": 330,
    "start_time": "2022-02-09T06:31:52.583Z"
   },
   {
    "duration": 8,
    "start_time": "2022-02-09T06:31:52.914Z"
   },
   {
    "duration": 403,
    "start_time": "2022-02-09T06:31:52.923Z"
   },
   {
    "duration": 6,
    "start_time": "2022-02-09T06:31:53.328Z"
   },
   {
    "duration": 35,
    "start_time": "2022-02-09T06:31:53.336Z"
   },
   {
    "duration": 17,
    "start_time": "2022-02-09T06:31:53.373Z"
   },
   {
    "duration": 395,
    "start_time": "2022-02-09T06:31:53.392Z"
   },
   {
    "duration": 10,
    "start_time": "2022-02-09T06:31:53.788Z"
   },
   {
    "duration": 33,
    "start_time": "2022-02-09T06:31:53.799Z"
   },
   {
    "duration": 28,
    "start_time": "2022-02-09T06:31:53.833Z"
   },
   {
    "duration": 393,
    "start_time": "2022-02-09T06:31:53.862Z"
   },
   {
    "duration": 6,
    "start_time": "2022-02-09T06:31:54.257Z"
   },
   {
    "duration": 527,
    "start_time": "2022-02-09T06:31:54.271Z"
   },
   {
    "duration": 8,
    "start_time": "2022-02-09T06:31:54.800Z"
   },
   {
    "duration": 20,
    "start_time": "2022-02-09T06:31:54.815Z"
   },
   {
    "duration": 20,
    "start_time": "2022-02-09T06:31:54.837Z"
   },
   {
    "duration": 44,
    "start_time": "2022-02-09T06:31:54.858Z"
   },
   {
    "duration": 326,
    "start_time": "2022-02-09T06:31:54.904Z"
   },
   {
    "duration": 4,
    "start_time": "2022-02-09T06:31:55.232Z"
   },
   {
    "duration": 31,
    "start_time": "2022-02-09T06:31:55.238Z"
   },
   {
    "duration": 23,
    "start_time": "2022-02-09T06:31:55.271Z"
   },
   {
    "duration": 348,
    "start_time": "2022-02-09T06:31:55.295Z"
   },
   {
    "duration": 2,
    "start_time": "2022-02-09T06:31:55.645Z"
   },
   {
    "duration": 379,
    "start_time": "2022-02-09T06:31:55.648Z"
   },
   {
    "duration": 2,
    "start_time": "2022-02-09T06:31:56.028Z"
   },
   {
    "duration": 366,
    "start_time": "2022-02-09T06:31:56.032Z"
   },
   {
    "duration": 4,
    "start_time": "2022-02-09T06:31:56.399Z"
   },
   {
    "duration": 27,
    "start_time": "2022-02-09T06:31:56.404Z"
   },
   {
    "duration": 28,
    "start_time": "2022-02-09T06:31:56.432Z"
   },
   {
    "duration": 11,
    "start_time": "2022-02-09T06:31:56.462Z"
   },
   {
    "duration": 14,
    "start_time": "2022-02-09T06:31:56.475Z"
   },
   {
    "duration": 13,
    "start_time": "2022-02-09T06:31:56.491Z"
   },
   {
    "duration": 29,
    "start_time": "2022-02-09T06:31:56.506Z"
   },
   {
    "duration": 21,
    "start_time": "2022-02-09T06:31:56.536Z"
   },
   {
    "duration": 17,
    "start_time": "2022-02-09T06:31:56.559Z"
   },
   {
    "duration": 22,
    "start_time": "2022-02-09T06:31:56.578Z"
   },
   {
    "duration": 21,
    "start_time": "2022-02-09T06:31:56.602Z"
   },
   {
    "duration": 8,
    "start_time": "2022-02-09T06:31:56.625Z"
   },
   {
    "duration": 13,
    "start_time": "2022-02-09T06:31:56.635Z"
   },
   {
    "duration": 17,
    "start_time": "2022-02-09T06:31:56.650Z"
   },
   {
    "duration": 23,
    "start_time": "2022-02-09T06:31:56.668Z"
   },
   {
    "duration": 19,
    "start_time": "2022-02-09T06:31:56.693Z"
   },
   {
    "duration": 47,
    "start_time": "2022-02-09T06:31:56.714Z"
   },
   {
    "duration": 17,
    "start_time": "2022-02-09T06:31:56.763Z"
   },
   {
    "duration": 15,
    "start_time": "2022-02-09T06:31:56.781Z"
   },
   {
    "duration": 30,
    "start_time": "2022-02-09T06:31:56.797Z"
   },
   {
    "duration": 16,
    "start_time": "2022-02-09T06:31:56.828Z"
   },
   {
    "duration": 13,
    "start_time": "2022-02-09T06:31:56.845Z"
   },
   {
    "duration": 384,
    "start_time": "2022-02-09T06:31:56.859Z"
   },
   {
    "duration": 9,
    "start_time": "2022-02-09T06:31:57.244Z"
   },
   {
    "duration": 347,
    "start_time": "2022-02-09T06:31:57.254Z"
   },
   {
    "duration": 395,
    "start_time": "2022-02-09T06:31:57.603Z"
   },
   {
    "duration": 6,
    "start_time": "2022-02-09T06:31:57.999Z"
   },
   {
    "duration": 14,
    "start_time": "2022-02-09T06:31:58.006Z"
   },
   {
    "duration": 29,
    "start_time": "2022-02-09T06:31:58.021Z"
   },
   {
    "duration": 8,
    "start_time": "2022-02-09T06:31:58.052Z"
   }
  ],
  "kernelspec": {
   "display_name": "Python 3 (ipykernel)",
   "language": "python",
   "name": "python3"
  },
  "language_info": {
   "codemirror_mode": {
    "name": "ipython",
    "version": 3
   },
   "file_extension": ".py",
   "mimetype": "text/x-python",
   "name": "python",
   "nbconvert_exporter": "python",
   "pygments_lexer": "ipython3",
   "version": "3.9.12"
  },
  "toc": {
   "base_numbering": 1,
   "nav_menu": {},
   "number_sections": true,
   "sideBar": true,
   "skip_h1_title": true,
   "title_cell": "Table of Contents",
   "title_sidebar": "Contents",
   "toc_cell": false,
   "toc_position": {},
   "toc_section_display": true,
   "toc_window_display": true
  }
 },
 "nbformat": 4,
 "nbformat_minor": 2
}
