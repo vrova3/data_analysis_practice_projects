{
 "cells": [
  {
   "cell_type": "markdown",
   "metadata": {},
   "source": [
    "<hr style=\"border: 2px solid green;\" />\n",
    "\n",
    "Hello, Roman !🤚 \n",
    "\n",
    "My name is Kseniya Vishnevskaya. I'm going to review your project 😊 \n",
    "\n",
    "✏️You can find my comments in <font color='green'>green</font>, <font color='orange'>yellow</font> or <font color='red'>red</font> boxes like this:\n",
    "\n",
    "<div style=\"border:solid green 2px; padding: 20px\"> <b>Success:</b><br>\n",
    "    I'm using green color if everything is done perfectly.</div>       \n",
    "<br>\n",
    "<div style=\"border:solid orange 2px; padding: 20px\"> <b>Remarks:</b><br>\n",
    "    if I can give some recommendations</div>   \n",
    "<br>\n",
    "<div style=\"border:solid red 2px; padding: 20px\"> <b>Needs fixing:</b><br>\n",
    "    if the block requires some corrections. Work can't be accepted with the red comments</div>\n",
    " \n",
    "Further in the file you can see my comments, try to take them into account when performing the next tasks. **Please, don't delete them.** :)\n",
    "\n",
    "Let's work on the project in dialogue: if you change something in the project or respond to my comments, write about it. It will be easier for me to track the changes if you highlight your comments:\n",
    "\n",
    "<div class=\"alert alert-info\" style=\"border:solid blue 2px; padding: 20px\"> <b>Student comment:</b> In the blue boxes you can leave comments and ask questions.</div>\n",
    "\n",
    "\n",
    "<hr style=\"border: 2px solid green;\" />"
   ]
  },
  {
   "cell_type": "markdown",
   "metadata": {},
   "source": [
    "### <font color='orange'>General feedback</font>"
   ]
  },
  {
   "cell_type": "markdown",
   "metadata": {},
   "source": [
    "<div style=\"border:solid green 2px; padding: 20px\"> <b>Success:</b><br>\n",
    "    Thank you for submitting your project 🙂  Wow! We reviewed your work, and it looks like a true A+. I especially liked the way you analysed the missing values, wrote your own functions and applying out-of-box approach in your research.  I've left some comments which could help you to improve your project and further develop your skills. Your project has been accepted!  Congratulations! 🥳 Good luck on the next sprint! </div>"
   ]
  },
  {
   "cell_type": "markdown",
   "metadata": {},
   "source": [
    "<div style=\"border:solid orange 2px; padding: 20px\"> <b>Remarks:</b><br>\n",
    "    There are some comments for further improvement. They don't mean that you did anything wrong, but they're things we wanted to point out that can help you further develop your skills. \n",
    "\n",
    "And also I leave several links that can help you to make your further projects even better:\n",
    "\n",
    "* Text formatting:\n",
    "<a>https://medium.com/analytics-vidhya/the-ultimate-markdown-guide-for-jupyter-notebook-d5e5abf728fd</a>\n",
    "\n",
    "*  How to deal with missing values:\n",
    "<a>https://towardsdatascience.com/how-to-deal-with-missing-data-in-python-1f74a9112d93</a>\n",
    "\n",
    "*  How to edit text in jupyter notebook using Markdown:\n",
    "<a>https://www.earthdatascience.org/courses/intro-to-earth-data-science/file-formats/use-text-files/format-text-with-markdown-jupyter-notebook/</a> \n",
    "    \n",
    "   "
   ]
  },
  {
   "cell_type": "markdown",
   "metadata": {},
   "source": [
    "<div class=\"alert alert-info\" style=\"border:solid blue 2px; padding: 20px\"> <b>Student comment:</b> Hi Kseniya, it's nice to meet you! Thank you so much for getting back this fast even though I was late on the soft deadline, and for your feedback, it really helped me feel motivated about this work! And thank you for leaving these amazing tips and links to new methods, I'll make sure to set aside some time and try all of them out! Really appreciate you taking the time to review my project. </div>\n",
    "    "
   ]
  },
  {
   "cell_type": "markdown",
   "metadata": {},
   "source": [
    "# Analyzing borrowers’ risk of defaulting\n",
    "\n",
    "Your project is to prepare a report for a bank’s loan division. You’ll need to find out if a customer’s marital status and number of children has an impact on whether they will default on a loan. The bank already has some data on customers’ credit worthiness.\n",
    "\n",
    "Your report will be considered when building a **credit scoring** of a potential customer. A ** credit scoring ** is used to evaluate the ability of a potential borrower to repay their loan."
   ]
  },
  {
   "cell_type": "markdown",
   "metadata": {},
   "source": [
    "<div style=\"border:solid orange 2px; padding: 20px\"> <b>Remarks:</b><br>\n",
    "\n",
    " Well done for adding the title and description of the project task :) But it is also important to include a description of the data to be worked with, like this:\n",
    "\n",
    " **Description of the data**\n",
    "\n",
    "    \n",
    "`children` - the number of children in the family\n",
    "   \n",
    "`days_employed` - how long the customer has been working\n",
    "   \n",
    "`dob_years` -  the customer’s age\n",
    "   \n",
    "`education` - the customer’s education level\n",
    " \n",
    "etc.\n",
    "\n",
    "And it is better to write the description in the form of a task. For example: \"We need to find out if a customer’s marital status and number of children has an impact on whether they will default on a loan. Our report will be considered when building a credit scoring of a potential customer... etc. \". \n",
    "This is necessary because otherwise, the description sounds like you're giving the data to someone else to do the analysis.\n",
    "    </div> "
   ]
  },
  {
   "cell_type": "markdown",
   "metadata": {},
   "source": [
    "## Open the data file and have a look at the general information. "
   ]
  },
  {
   "cell_type": "code",
   "execution_count": 1,
   "metadata": {
    "scrolled": true
   },
   "outputs": [
    {
     "data": {
      "text/html": [
       "<div>\n",
       "<style scoped>\n",
       "    .dataframe tbody tr th:only-of-type {\n",
       "        vertical-align: middle;\n",
       "    }\n",
       "\n",
       "    .dataframe tbody tr th {\n",
       "        vertical-align: top;\n",
       "    }\n",
       "\n",
       "    .dataframe thead th {\n",
       "        text-align: right;\n",
       "    }\n",
       "</style>\n",
       "<table border=\"1\" class=\"dataframe\">\n",
       "  <thead>\n",
       "    <tr style=\"text-align: right;\">\n",
       "      <th></th>\n",
       "      <th>children</th>\n",
       "      <th>days_employed</th>\n",
       "      <th>dob_years</th>\n",
       "      <th>education</th>\n",
       "      <th>education_id</th>\n",
       "      <th>family_status</th>\n",
       "      <th>family_status_id</th>\n",
       "      <th>gender</th>\n",
       "      <th>income_type</th>\n",
       "      <th>debt</th>\n",
       "      <th>total_income</th>\n",
       "      <th>purpose</th>\n",
       "    </tr>\n",
       "  </thead>\n",
       "  <tbody>\n",
       "    <tr>\n",
       "      <th>21515</th>\n",
       "      <td>1</td>\n",
       "      <td>-467.685130</td>\n",
       "      <td>28</td>\n",
       "      <td>secondary education</td>\n",
       "      <td>1</td>\n",
       "      <td>married</td>\n",
       "      <td>0</td>\n",
       "      <td>F</td>\n",
       "      <td>employee</td>\n",
       "      <td>1</td>\n",
       "      <td>17517.812</td>\n",
       "      <td>to become educated</td>\n",
       "    </tr>\n",
       "    <tr>\n",
       "      <th>21516</th>\n",
       "      <td>0</td>\n",
       "      <td>-914.391429</td>\n",
       "      <td>42</td>\n",
       "      <td>bachelor's degree</td>\n",
       "      <td>0</td>\n",
       "      <td>married</td>\n",
       "      <td>0</td>\n",
       "      <td>F</td>\n",
       "      <td>business</td>\n",
       "      <td>0</td>\n",
       "      <td>51649.244</td>\n",
       "      <td>purchase of my own house</td>\n",
       "    </tr>\n",
       "    <tr>\n",
       "      <th>21517</th>\n",
       "      <td>0</td>\n",
       "      <td>-404.679034</td>\n",
       "      <td>42</td>\n",
       "      <td>bachelor's degree</td>\n",
       "      <td>0</td>\n",
       "      <td>civil partnership</td>\n",
       "      <td>1</td>\n",
       "      <td>F</td>\n",
       "      <td>business</td>\n",
       "      <td>0</td>\n",
       "      <td>28489.529</td>\n",
       "      <td>buying my own car</td>\n",
       "    </tr>\n",
       "    <tr>\n",
       "      <th>21518</th>\n",
       "      <td>0</td>\n",
       "      <td>373995.710838</td>\n",
       "      <td>59</td>\n",
       "      <td>SECONDARY EDUCATION</td>\n",
       "      <td>1</td>\n",
       "      <td>married</td>\n",
       "      <td>0</td>\n",
       "      <td>F</td>\n",
       "      <td>retiree</td>\n",
       "      <td>0</td>\n",
       "      <td>24618.344</td>\n",
       "      <td>purchase of a car</td>\n",
       "    </tr>\n",
       "    <tr>\n",
       "      <th>21519</th>\n",
       "      <td>1</td>\n",
       "      <td>-2351.431934</td>\n",
       "      <td>37</td>\n",
       "      <td>graduate degree</td>\n",
       "      <td>4</td>\n",
       "      <td>divorced</td>\n",
       "      <td>3</td>\n",
       "      <td>M</td>\n",
       "      <td>employee</td>\n",
       "      <td>0</td>\n",
       "      <td>18551.846</td>\n",
       "      <td>buy commercial real estate</td>\n",
       "    </tr>\n",
       "    <tr>\n",
       "      <th>21520</th>\n",
       "      <td>1</td>\n",
       "      <td>-4529.316663</td>\n",
       "      <td>43</td>\n",
       "      <td>secondary education</td>\n",
       "      <td>1</td>\n",
       "      <td>civil partnership</td>\n",
       "      <td>1</td>\n",
       "      <td>F</td>\n",
       "      <td>business</td>\n",
       "      <td>0</td>\n",
       "      <td>35966.698</td>\n",
       "      <td>housing transactions</td>\n",
       "    </tr>\n",
       "    <tr>\n",
       "      <th>21521</th>\n",
       "      <td>0</td>\n",
       "      <td>343937.404131</td>\n",
       "      <td>67</td>\n",
       "      <td>secondary education</td>\n",
       "      <td>1</td>\n",
       "      <td>married</td>\n",
       "      <td>0</td>\n",
       "      <td>F</td>\n",
       "      <td>retiree</td>\n",
       "      <td>0</td>\n",
       "      <td>24959.969</td>\n",
       "      <td>purchase of a car</td>\n",
       "    </tr>\n",
       "    <tr>\n",
       "      <th>21522</th>\n",
       "      <td>1</td>\n",
       "      <td>-2113.346888</td>\n",
       "      <td>38</td>\n",
       "      <td>secondary education</td>\n",
       "      <td>1</td>\n",
       "      <td>civil partnership</td>\n",
       "      <td>1</td>\n",
       "      <td>M</td>\n",
       "      <td>employee</td>\n",
       "      <td>1</td>\n",
       "      <td>14347.610</td>\n",
       "      <td>property</td>\n",
       "    </tr>\n",
       "    <tr>\n",
       "      <th>21523</th>\n",
       "      <td>3</td>\n",
       "      <td>-3112.481705</td>\n",
       "      <td>38</td>\n",
       "      <td>secondary education</td>\n",
       "      <td>1</td>\n",
       "      <td>married</td>\n",
       "      <td>0</td>\n",
       "      <td>M</td>\n",
       "      <td>employee</td>\n",
       "      <td>1</td>\n",
       "      <td>39054.888</td>\n",
       "      <td>buying my own car</td>\n",
       "    </tr>\n",
       "    <tr>\n",
       "      <th>21524</th>\n",
       "      <td>2</td>\n",
       "      <td>-1984.507589</td>\n",
       "      <td>40</td>\n",
       "      <td>secondary education</td>\n",
       "      <td>1</td>\n",
       "      <td>married</td>\n",
       "      <td>0</td>\n",
       "      <td>F</td>\n",
       "      <td>employee</td>\n",
       "      <td>0</td>\n",
       "      <td>13127.587</td>\n",
       "      <td>to buy a car</td>\n",
       "    </tr>\n",
       "  </tbody>\n",
       "</table>\n",
       "</div>"
      ],
      "text/plain": [
       "       children  days_employed  dob_years            education  education_id  \\\n",
       "21515         1    -467.685130         28  secondary education             1   \n",
       "21516         0    -914.391429         42    bachelor's degree             0   \n",
       "21517         0    -404.679034         42    bachelor's degree             0   \n",
       "21518         0  373995.710838         59  SECONDARY EDUCATION             1   \n",
       "21519         1   -2351.431934         37      graduate degree             4   \n",
       "21520         1   -4529.316663         43  secondary education             1   \n",
       "21521         0  343937.404131         67  secondary education             1   \n",
       "21522         1   -2113.346888         38  secondary education             1   \n",
       "21523         3   -3112.481705         38  secondary education             1   \n",
       "21524         2   -1984.507589         40  secondary education             1   \n",
       "\n",
       "           family_status  family_status_id gender income_type  debt  \\\n",
       "21515            married                 0      F    employee     1   \n",
       "21516            married                 0      F    business     0   \n",
       "21517  civil partnership                 1      F    business     0   \n",
       "21518            married                 0      F     retiree     0   \n",
       "21519           divorced                 3      M    employee     0   \n",
       "21520  civil partnership                 1      F    business     0   \n",
       "21521            married                 0      F     retiree     0   \n",
       "21522  civil partnership                 1      M    employee     1   \n",
       "21523            married                 0      M    employee     1   \n",
       "21524            married                 0      F    employee     0   \n",
       "\n",
       "       total_income                     purpose  \n",
       "21515     17517.812          to become educated  \n",
       "21516     51649.244    purchase of my own house  \n",
       "21517     28489.529           buying my own car  \n",
       "21518     24618.344           purchase of a car  \n",
       "21519     18551.846  buy commercial real estate  \n",
       "21520     35966.698        housing transactions  \n",
       "21521     24959.969           purchase of a car  \n",
       "21522     14347.610                    property  \n",
       "21523     39054.888           buying my own car  \n",
       "21524     13127.587                to buy a car  "
      ]
     },
     "execution_count": 1,
     "metadata": {},
     "output_type": "execute_result"
    }
   ],
   "source": [
    "import pandas as pd\n",
    "\n",
    "# reading the data and calling it *data* for simplicity\n",
    "data = pd.read_csv('/Users/rv/Desktop/practice_datasets/credit_scoring_eng.csv')\n",
    "\n",
    "# checking what it looks like\n",
    "data.tail(10)\n"
   ]
  },
  {
   "cell_type": "markdown",
   "metadata": {},
   "source": [
    "<div style=\"border:solid orange 2px; padding: 20px\"> <b>Remarks:</b><br>\n",
    "\n",
    "* **Best practice:** for convenience, it is common to keep all libraries used in code in a separate cell.\n",
    "In future projects, the range of used libraries will expand, so it is more convenient if they are collected in one place. Please visit this link, there is a collection of interesting notebooks:\n",
    "\n",
    "https://gist.github.com/ocoyawale/54d92fd4bf92508a2a6e482b5fa480fd\n",
    "    \n",
    "    \n",
    "* The `describe()` function is very useful in getting to know the data. In this case, it looks much more indicative of the output is expanded by `df.describe().T`. In future projects, the `include` argument may come in handy - `df.describe(include = ['object']` is used to analyse categorical values.\n",
    "    \n",
    "</div>   "
   ]
  },
  {
   "cell_type": "code",
   "execution_count": 2,
   "metadata": {},
   "outputs": [
    {
     "name": "stdout",
     "output_type": "stream",
     "text": [
      "<class 'pandas.core.frame.DataFrame'>\n",
      "RangeIndex: 21525 entries, 0 to 21524\n",
      "Data columns (total 12 columns):\n",
      " #   Column            Non-Null Count  Dtype  \n",
      "---  ------            --------------  -----  \n",
      " 0   children          21525 non-null  int64  \n",
      " 1   days_employed     19351 non-null  float64\n",
      " 2   dob_years         21525 non-null  int64  \n",
      " 3   education         21525 non-null  object \n",
      " 4   education_id      21525 non-null  int64  \n",
      " 5   family_status     21525 non-null  object \n",
      " 6   family_status_id  21525 non-null  int64  \n",
      " 7   gender            21525 non-null  object \n",
      " 8   income_type       21525 non-null  object \n",
      " 9   debt              21525 non-null  int64  \n",
      " 10  total_income      19351 non-null  float64\n",
      " 11  purpose           21525 non-null  object \n",
      "dtypes: float64(2), int64(5), object(5)\n",
      "memory usage: 2.0+ MB\n"
     ]
    }
   ],
   "source": [
    "# checking out the general info\n",
    "data.info()"
   ]
  },
  {
   "cell_type": "markdown",
   "metadata": {},
   "source": [
    "Hmm. I think it's safe to change some things right off the bat: I'm going to rename column 'dob_years' to just 'age', since...that's what it tells us."
   ]
  },
  {
   "cell_type": "code",
   "execution_count": 3,
   "metadata": {},
   "outputs": [
    {
     "data": {
      "text/html": [
       "<div>\n",
       "<style scoped>\n",
       "    .dataframe tbody tr th:only-of-type {\n",
       "        vertical-align: middle;\n",
       "    }\n",
       "\n",
       "    .dataframe tbody tr th {\n",
       "        vertical-align: top;\n",
       "    }\n",
       "\n",
       "    .dataframe thead th {\n",
       "        text-align: right;\n",
       "    }\n",
       "</style>\n",
       "<table border=\"1\" class=\"dataframe\">\n",
       "  <thead>\n",
       "    <tr style=\"text-align: right;\">\n",
       "      <th></th>\n",
       "      <th>children</th>\n",
       "      <th>days_employed</th>\n",
       "      <th>age</th>\n",
       "      <th>education</th>\n",
       "      <th>education_id</th>\n",
       "      <th>family_status</th>\n",
       "      <th>family_status_id</th>\n",
       "      <th>gender</th>\n",
       "      <th>income_type</th>\n",
       "      <th>debt</th>\n",
       "      <th>total_income</th>\n",
       "      <th>purpose</th>\n",
       "    </tr>\n",
       "  </thead>\n",
       "  <tbody>\n",
       "    <tr>\n",
       "      <th>0</th>\n",
       "      <td>1</td>\n",
       "      <td>-8437.673028</td>\n",
       "      <td>42</td>\n",
       "      <td>bachelor's degree</td>\n",
       "      <td>0</td>\n",
       "      <td>married</td>\n",
       "      <td>0</td>\n",
       "      <td>F</td>\n",
       "      <td>employee</td>\n",
       "      <td>0</td>\n",
       "      <td>40620.102</td>\n",
       "      <td>purchase of the house</td>\n",
       "    </tr>\n",
       "    <tr>\n",
       "      <th>1</th>\n",
       "      <td>1</td>\n",
       "      <td>-4024.803754</td>\n",
       "      <td>36</td>\n",
       "      <td>secondary education</td>\n",
       "      <td>1</td>\n",
       "      <td>married</td>\n",
       "      <td>0</td>\n",
       "      <td>F</td>\n",
       "      <td>employee</td>\n",
       "      <td>0</td>\n",
       "      <td>17932.802</td>\n",
       "      <td>car purchase</td>\n",
       "    </tr>\n",
       "    <tr>\n",
       "      <th>2</th>\n",
       "      <td>0</td>\n",
       "      <td>-5623.422610</td>\n",
       "      <td>33</td>\n",
       "      <td>Secondary Education</td>\n",
       "      <td>1</td>\n",
       "      <td>married</td>\n",
       "      <td>0</td>\n",
       "      <td>M</td>\n",
       "      <td>employee</td>\n",
       "      <td>0</td>\n",
       "      <td>23341.752</td>\n",
       "      <td>purchase of the house</td>\n",
       "    </tr>\n",
       "    <tr>\n",
       "      <th>3</th>\n",
       "      <td>3</td>\n",
       "      <td>-4124.747207</td>\n",
       "      <td>32</td>\n",
       "      <td>secondary education</td>\n",
       "      <td>1</td>\n",
       "      <td>married</td>\n",
       "      <td>0</td>\n",
       "      <td>M</td>\n",
       "      <td>employee</td>\n",
       "      <td>0</td>\n",
       "      <td>42820.568</td>\n",
       "      <td>supplementary education</td>\n",
       "    </tr>\n",
       "    <tr>\n",
       "      <th>4</th>\n",
       "      <td>0</td>\n",
       "      <td>340266.072047</td>\n",
       "      <td>53</td>\n",
       "      <td>secondary education</td>\n",
       "      <td>1</td>\n",
       "      <td>civil partnership</td>\n",
       "      <td>1</td>\n",
       "      <td>F</td>\n",
       "      <td>retiree</td>\n",
       "      <td>0</td>\n",
       "      <td>25378.572</td>\n",
       "      <td>to have a wedding</td>\n",
       "    </tr>\n",
       "    <tr>\n",
       "      <th>5</th>\n",
       "      <td>0</td>\n",
       "      <td>-926.185831</td>\n",
       "      <td>27</td>\n",
       "      <td>bachelor's degree</td>\n",
       "      <td>0</td>\n",
       "      <td>civil partnership</td>\n",
       "      <td>1</td>\n",
       "      <td>M</td>\n",
       "      <td>business</td>\n",
       "      <td>0</td>\n",
       "      <td>40922.170</td>\n",
       "      <td>purchase of the house</td>\n",
       "    </tr>\n",
       "    <tr>\n",
       "      <th>6</th>\n",
       "      <td>0</td>\n",
       "      <td>-2879.202052</td>\n",
       "      <td>43</td>\n",
       "      <td>bachelor's degree</td>\n",
       "      <td>0</td>\n",
       "      <td>married</td>\n",
       "      <td>0</td>\n",
       "      <td>F</td>\n",
       "      <td>business</td>\n",
       "      <td>0</td>\n",
       "      <td>38484.156</td>\n",
       "      <td>housing transactions</td>\n",
       "    </tr>\n",
       "    <tr>\n",
       "      <th>7</th>\n",
       "      <td>0</td>\n",
       "      <td>-152.779569</td>\n",
       "      <td>50</td>\n",
       "      <td>SECONDARY EDUCATION</td>\n",
       "      <td>1</td>\n",
       "      <td>married</td>\n",
       "      <td>0</td>\n",
       "      <td>M</td>\n",
       "      <td>employee</td>\n",
       "      <td>0</td>\n",
       "      <td>21731.829</td>\n",
       "      <td>education</td>\n",
       "    </tr>\n",
       "    <tr>\n",
       "      <th>8</th>\n",
       "      <td>2</td>\n",
       "      <td>-6929.865299</td>\n",
       "      <td>35</td>\n",
       "      <td>BACHELOR'S DEGREE</td>\n",
       "      <td>0</td>\n",
       "      <td>civil partnership</td>\n",
       "      <td>1</td>\n",
       "      <td>F</td>\n",
       "      <td>employee</td>\n",
       "      <td>0</td>\n",
       "      <td>15337.093</td>\n",
       "      <td>having a wedding</td>\n",
       "    </tr>\n",
       "    <tr>\n",
       "      <th>9</th>\n",
       "      <td>0</td>\n",
       "      <td>-2188.756445</td>\n",
       "      <td>41</td>\n",
       "      <td>secondary education</td>\n",
       "      <td>1</td>\n",
       "      <td>married</td>\n",
       "      <td>0</td>\n",
       "      <td>M</td>\n",
       "      <td>employee</td>\n",
       "      <td>0</td>\n",
       "      <td>23108.150</td>\n",
       "      <td>purchase of the house for my family</td>\n",
       "    </tr>\n",
       "  </tbody>\n",
       "</table>\n",
       "</div>"
      ],
      "text/plain": [
       "   children  days_employed  age            education  education_id  \\\n",
       "0         1   -8437.673028   42    bachelor's degree             0   \n",
       "1         1   -4024.803754   36  secondary education             1   \n",
       "2         0   -5623.422610   33  Secondary Education             1   \n",
       "3         3   -4124.747207   32  secondary education             1   \n",
       "4         0  340266.072047   53  secondary education             1   \n",
       "5         0    -926.185831   27    bachelor's degree             0   \n",
       "6         0   -2879.202052   43    bachelor's degree             0   \n",
       "7         0    -152.779569   50  SECONDARY EDUCATION             1   \n",
       "8         2   -6929.865299   35    BACHELOR'S DEGREE             0   \n",
       "9         0   -2188.756445   41  secondary education             1   \n",
       "\n",
       "       family_status  family_status_id gender income_type  debt  total_income  \\\n",
       "0            married                 0      F    employee     0     40620.102   \n",
       "1            married                 0      F    employee     0     17932.802   \n",
       "2            married                 0      M    employee     0     23341.752   \n",
       "3            married                 0      M    employee     0     42820.568   \n",
       "4  civil partnership                 1      F     retiree     0     25378.572   \n",
       "5  civil partnership                 1      M    business     0     40922.170   \n",
       "6            married                 0      F    business     0     38484.156   \n",
       "7            married                 0      M    employee     0     21731.829   \n",
       "8  civil partnership                 1      F    employee     0     15337.093   \n",
       "9            married                 0      M    employee     0     23108.150   \n",
       "\n",
       "                               purpose  \n",
       "0                purchase of the house  \n",
       "1                         car purchase  \n",
       "2                purchase of the house  \n",
       "3              supplementary education  \n",
       "4                    to have a wedding  \n",
       "5                purchase of the house  \n",
       "6                 housing transactions  \n",
       "7                            education  \n",
       "8                     having a wedding  \n",
       "9  purchase of the house for my family  "
      ]
     },
     "execution_count": 3,
     "metadata": {},
     "output_type": "execute_result"
    }
   ],
   "source": [
    "data = data.rename(columns = {'dob_years': 'age'})\n",
    "\n",
    "#let's see that it works\n",
    "data.head(10)"
   ]
  },
  {
   "cell_type": "markdown",
   "metadata": {},
   "source": [
    "Nice."
   ]
  },
  {
   "cell_type": "markdown",
   "metadata": {},
   "source": [
    "### Looking at categorical values"
   ]
  },
  {
   "cell_type": "markdown",
   "metadata": {},
   "source": [
    "Now, I just want to explore the data a little more to see what kind of different values it holds, and to get a sense of what I'll likely need to deal with in the sections ahead. I'll check the categorical values first, and will go on to check numerical values"
   ]
  },
  {
   "cell_type": "code",
   "execution_count": 4,
   "metadata": {},
   "outputs": [
    {
     "data": {
      "text/plain": [
       "secondary education    13750\n",
       "bachelor's degree       4718\n",
       "SECONDARY EDUCATION      772\n",
       "Secondary Education      711\n",
       "some college             668\n",
       "BACHELOR'S DEGREE        274\n",
       "Bachelor's Degree        268\n",
       "primary education        250\n",
       "Some College              47\n",
       "SOME COLLEGE              29\n",
       "PRIMARY EDUCATION         17\n",
       "Primary Education         15\n",
       "graduate degree            4\n",
       "Graduate Degree            1\n",
       "GRADUATE DEGREE            1\n",
       "Name: education, dtype: int64"
      ]
     },
     "execution_count": 4,
     "metadata": {},
     "output_type": "execute_result"
    }
   ],
   "source": [
    "data['education'].value_counts()"
   ]
  },
  {
   "cell_type": "markdown",
   "metadata": {},
   "source": [
    "OK, lots of renaming to do here later on."
   ]
  },
  {
   "cell_type": "code",
   "execution_count": 5,
   "metadata": {},
   "outputs": [
    {
     "data": {
      "text/plain": [
       "1    15233\n",
       "0     5260\n",
       "2      744\n",
       "3      282\n",
       "4        6\n",
       "Name: education_id, dtype: int64"
      ]
     },
     "execution_count": 5,
     "metadata": {},
     "output_type": "execute_result"
    }
   ],
   "source": [
    "data['education_id'].value_counts()"
   ]
  },
  {
   "cell_type": "markdown",
   "metadata": {},
   "source": [
    "At a glance, this makes sense: most people will have finished secondary education, some less will hold a Bachelor's degree, still less people – only primary school or a master's degree. Afterwards, once I will have dealt with the values in 'education', I should be able to check that the numbers correspond to their correct names in that column."
   ]
  },
  {
   "cell_type": "code",
   "execution_count": 6,
   "metadata": {},
   "outputs": [
    {
     "data": {
      "text/plain": [
       "married              12380\n",
       "civil partnership     4177\n",
       "unmarried             2813\n",
       "divorced              1195\n",
       "widow / widower        960\n",
       "Name: family_status, dtype: int64"
      ]
     },
     "execution_count": 6,
     "metadata": {},
     "output_type": "execute_result"
    }
   ],
   "source": [
    "data['family_status'].value_counts()"
   ]
  },
  {
   "cell_type": "markdown",
   "metadata": {},
   "source": [
    "This one actually looks good, at least there are no hidden duplicates like lower- and uppercase rendering of the same values. Although 'unmarried' doesn't really tell us if the person may be single or not (the pair may just not be into legalizing their relationship either in the form of marriage or civil partnership). So I might have to make a judgement call in the future if I want to categorize the data further by combining 'unmarried', 'divorced' and 'widow(er)' into a single category of singles as opposed to those in a relationship. "
   ]
  },
  {
   "cell_type": "code",
   "execution_count": 7,
   "metadata": {},
   "outputs": [
    {
     "data": {
      "text/plain": [
       "0    12380\n",
       "1     4177\n",
       "4     2813\n",
       "3     1195\n",
       "2      960\n",
       "Name: family_status_id, dtype: int64"
      ]
     },
     "execution_count": 7,
     "metadata": {},
     "output_type": "execute_result"
    }
   ],
   "source": [
    "data['family_status_id'].value_counts()"
   ]
  },
  {
   "cell_type": "markdown",
   "metadata": {},
   "source": [
    "Looks good for now. (will need to do the same kind of work as with 'education_id' and 'education')"
   ]
  },
  {
   "cell_type": "code",
   "execution_count": 8,
   "metadata": {},
   "outputs": [
    {
     "data": {
      "text/plain": [
       "F      14236\n",
       "M       7288\n",
       "XNA        1\n",
       "Name: gender, dtype: int64"
      ]
     },
     "execution_count": 8,
     "metadata": {},
     "output_type": "execute_result"
    }
   ],
   "source": [
    "data['gender'].value_counts()"
   ]
  },
  {
   "cell_type": "markdown",
   "metadata": {},
   "source": [
    "Alright – again, no duplicates, lower and upper case F's and M's. So I googled XNA, and the few relevant search results that came up suggest that someone would fill this in if the value was missing. Indeed it seems like it couldn't be a result of a human/customer choice to, say, not state their gender or 'prefer not to say', because then there would probably be more than one."
   ]
  },
  {
   "cell_type": "code",
   "execution_count": 9,
   "metadata": {},
   "outputs": [
    {
     "data": {
      "text/plain": [
       "employee                       11119\n",
       "business                        5085\n",
       "retiree                         3856\n",
       "civil servant                   1459\n",
       "unemployed                         2\n",
       "entrepreneur                       2\n",
       "student                            1\n",
       "paternity / maternity leave        1\n",
       "Name: income_type, dtype: int64"
      ]
     },
     "execution_count": 9,
     "metadata": {},
     "output_type": "execute_result"
    }
   ],
   "source": [
    "data['income_type'].value_counts()"
   ]
  },
  {
   "cell_type": "markdown",
   "metadata": {},
   "source": [
    "This one raises some questions. For instance, the only 2 daring entrepreneurs suggest that maybe it shouldn't really be a category unto itself, but rather be part of 'business'? Maybe later we can investigate to see if there are any substantial differences between them – say, an entrepreneur could mean a big-shot investor, and business could mean a small business owner?"
   ]
  },
  {
   "cell_type": "code",
   "execution_count": 10,
   "metadata": {},
   "outputs": [
    {
     "data": {
      "text/plain": [
       "0    19784\n",
       "1     1741\n",
       "Name: debt, dtype: int64"
      ]
     },
     "execution_count": 10,
     "metadata": {},
     "output_type": "execute_result"
    }
   ],
   "source": [
    "data['debt'].value_counts()"
   ]
  },
  {
   "cell_type": "markdown",
   "metadata": {},
   "source": [
    "Good, solvent citizens! Most of them."
   ]
  },
  {
   "cell_type": "code",
   "execution_count": 11,
   "metadata": {},
   "outputs": [
    {
     "data": {
      "text/plain": [
       "wedding ceremony                            797\n",
       "having a wedding                            777\n",
       "to have a wedding                           774\n",
       "real estate transactions                    676\n",
       "buy commercial real estate                  664\n",
       "buying property for renting out             653\n",
       "housing transactions                        653\n",
       "transactions with commercial real estate    651\n",
       "purchase of the house                       647\n",
       "housing                                     647\n",
       "purchase of the house for my family         641\n",
       "construction of own property                635\n",
       "property                                    634\n",
       "transactions with my real estate            630\n",
       "building a real estate                      626\n",
       "buy real estate                             624\n",
       "building a property                         620\n",
       "purchase of my own house                    620\n",
       "housing renovation                          612\n",
       "buy residential real estate                 607\n",
       "buying my own car                           505\n",
       "going to university                         496\n",
       "car                                         495\n",
       "second-hand car purchase                    489\n",
       "to own a car                                480\n",
       "buying a second-hand car                    479\n",
       "cars                                        478\n",
       "to buy a car                                472\n",
       "supplementary education                     462\n",
       "car purchase                                462\n",
       "purchase of a car                           455\n",
       "university education                        453\n",
       "education                                   447\n",
       "to get a supplementary education            447\n",
       "getting an education                        443\n",
       "profile education                           436\n",
       "getting higher education                    426\n",
       "to become educated                          412\n",
       "Name: purpose, dtype: int64"
      ]
     },
     "execution_count": 11,
     "metadata": {},
     "output_type": "execute_result"
    }
   ],
   "source": [
    "data['purpose'].value_counts()"
   ]
  },
  {
   "cell_type": "markdown",
   "metadata": {},
   "source": [
    "Lots of renaming and then combining to do here. Some will be tricky if we really need to differentiate between purchasing property for residential or commercial purposes, but we'll deal with that later."
   ]
  },
  {
   "cell_type": "markdown",
   "metadata": {},
   "source": [
    "<div style=\"border:solid green 2px; padding: 20px\"> <b>Success:</b><br>\n",
    "    \n",
    "I really like that you use <code>tail()</code>, `head()` `value_counts()` and <code>info()</code>  methods because they help you to see more information about the data you will work within your project. And thank you a lot for adding detailed conclusions 🙂   </div>"
   ]
  },
  {
   "cell_type": "markdown",
   "metadata": {},
   "source": [
    "### Looking at quantitative values"
   ]
  },
  {
   "cell_type": "code",
   "execution_count": 12,
   "metadata": {},
   "outputs": [
    {
     "data": {
      "text/plain": [
       " 0     14149\n",
       " 1      4818\n",
       " 2      2055\n",
       " 3       330\n",
       " 20       76\n",
       "-1        47\n",
       " 4        41\n",
       " 5         9\n",
       "Name: children, dtype: int64"
      ]
     },
     "execution_count": 12,
     "metadata": {},
     "output_type": "execute_result"
    }
   ],
   "source": [
    "data['children'].value_counts()"
   ]
  },
  {
   "cell_type": "markdown",
   "metadata": {},
   "source": [
    "While having 20 children is not impossible, it's likely result of a typo (hitting that zero by mistake) in this case, especially because there aren't any number between 20 and 5 which is the next highest number of children, and this has to defy some laws of statistics... Also that -1 is probably a result of a technical error or typing in a hyphen for some reason. So maybe we can set it right by changing '20' to '2' and '-1' to '1'."
   ]
  },
  {
   "cell_type": "code",
   "execution_count": 13,
   "metadata": {},
   "outputs": [],
   "source": [
    "data.loc[data['children'] == 20, ['children']] = 2\n",
    "data.loc[data['children'] == -1, ['children']] = 1"
   ]
  },
  {
   "cell_type": "markdown",
   "metadata": {},
   "source": [
    "<div style=\"border:solid green 2px; padding: 20px\"> <b>Success:</b><br>\n",
    "\n",
    "  Yep, I agree with your decision to process the `children` column 👏 </div> "
   ]
  },
  {
   "cell_type": "code",
   "execution_count": 14,
   "metadata": {},
   "outputs": [
    {
     "data": {
      "text/plain": [
       "0    14149\n",
       "1     4865\n",
       "2     2131\n",
       "3      330\n",
       "4       41\n",
       "5        9\n",
       "Name: children, dtype: int64"
      ]
     },
     "execution_count": 14,
     "metadata": {},
     "output_type": "execute_result"
    }
   ],
   "source": [
    "# checking that it worked\n",
    "data['children'].value_counts()"
   ]
  },
  {
   "cell_type": "markdown",
   "metadata": {},
   "source": [
    "Nice."
   ]
  },
  {
   "cell_type": "code",
   "execution_count": 15,
   "metadata": {},
   "outputs": [
    {
     "data": {
      "text/plain": [
       "-8437.673028      1\n",
       "-3507.818775      1\n",
       " 354500.415854    1\n",
       "-769.717438       1\n",
       "-3963.590317      1\n",
       "                 ..\n",
       "-1099.957609      1\n",
       "-209.984794       1\n",
       " 398099.392433    1\n",
       "-1271.038880      1\n",
       "-1984.507589      1\n",
       "Name: days_employed, Length: 19351, dtype: int64"
      ]
     },
     "execution_count": 15,
     "metadata": {},
     "output_type": "execute_result"
    }
   ],
   "source": [
    "data['days_employed'].value_counts()"
   ]
  },
  {
   "cell_type": "markdown",
   "metadata": {},
   "source": [
    "OK, so days_employed is super tricky. Since it's not really pertinent to the project's task, I'm going to try to deal with it right here, and I will create a new column based on it so I can mess around with it. If it works out fine and I manage to fix it, in case there will be any missing values or duplicates, I will come back to those in the relevant section."
   ]
  },
  {
   "cell_type": "markdown",
   "metadata": {},
   "source": [
    "### *Dealing with days_employed*"
   ]
  },
  {
   "cell_type": "markdown",
   "metadata": {},
   "source": [
    "So, first of all, the negative values – what's up with that?"
   ]
  },
  {
   "cell_type": "code",
   "execution_count": 16,
   "metadata": {},
   "outputs": [
    {
     "data": {
      "text/plain": [
       "children            15906\n",
       "days_employed       15906\n",
       "age                 15906\n",
       "education           15906\n",
       "education_id        15906\n",
       "family_status       15906\n",
       "family_status_id    15906\n",
       "gender              15906\n",
       "income_type         15906\n",
       "debt                15906\n",
       "total_income        15906\n",
       "purpose             15906\n",
       "dtype: int64"
      ]
     },
     "execution_count": 16,
     "metadata": {},
     "output_type": "execute_result"
    }
   ],
   "source": [
    "data.loc[data['days_employed'] < 0].count()"
   ]
  },
  {
   "cell_type": "code",
   "execution_count": 17,
   "metadata": {},
   "outputs": [
    {
     "data": {
      "text/plain": [
       "children            0.738955\n",
       "days_employed       0.738955\n",
       "age                 0.738955\n",
       "education           0.738955\n",
       "education_id        0.738955\n",
       "family_status       0.738955\n",
       "family_status_id    0.738955\n",
       "gender              0.738955\n",
       "income_type         0.738955\n",
       "debt                0.738955\n",
       "total_income        0.738955\n",
       "purpose             0.738955\n",
       "dtype: float64"
      ]
     },
     "execution_count": 17,
     "metadata": {},
     "output_type": "execute_result"
    }
   ],
   "source": [
    "data.loc[data['days_employed'] < 0].count() / len(data)"
   ]
  },
  {
   "cell_type": "markdown",
   "metadata": {},
   "source": [
    "OK, so close to 74% of the values in days_employed are negative, for whatever reason. My best bet is that this is a result of a technical error of some kind, maybe when exporting that data from another programme. Let's create a new column and turn these values to absolute"
   ]
  },
  {
   "cell_type": "code",
   "execution_count": 18,
   "metadata": {},
   "outputs": [
    {
     "data": {
      "text/html": [
       "<div>\n",
       "<style scoped>\n",
       "    .dataframe tbody tr th:only-of-type {\n",
       "        vertical-align: middle;\n",
       "    }\n",
       "\n",
       "    .dataframe tbody tr th {\n",
       "        vertical-align: top;\n",
       "    }\n",
       "\n",
       "    .dataframe thead th {\n",
       "        text-align: right;\n",
       "    }\n",
       "</style>\n",
       "<table border=\"1\" class=\"dataframe\">\n",
       "  <thead>\n",
       "    <tr style=\"text-align: right;\">\n",
       "      <th></th>\n",
       "      <th>children</th>\n",
       "      <th>days_employed</th>\n",
       "      <th>age</th>\n",
       "      <th>education</th>\n",
       "      <th>education_id</th>\n",
       "      <th>family_status</th>\n",
       "      <th>family_status_id</th>\n",
       "      <th>gender</th>\n",
       "      <th>income_type</th>\n",
       "      <th>debt</th>\n",
       "      <th>total_income</th>\n",
       "      <th>purpose</th>\n",
       "      <th>abs_days_employed</th>\n",
       "    </tr>\n",
       "  </thead>\n",
       "  <tbody>\n",
       "    <tr>\n",
       "      <th>0</th>\n",
       "      <td>1</td>\n",
       "      <td>-8437.673028</td>\n",
       "      <td>42</td>\n",
       "      <td>bachelor's degree</td>\n",
       "      <td>0</td>\n",
       "      <td>married</td>\n",
       "      <td>0</td>\n",
       "      <td>F</td>\n",
       "      <td>employee</td>\n",
       "      <td>0</td>\n",
       "      <td>40620.102</td>\n",
       "      <td>purchase of the house</td>\n",
       "      <td>8437.673028</td>\n",
       "    </tr>\n",
       "    <tr>\n",
       "      <th>1</th>\n",
       "      <td>1</td>\n",
       "      <td>-4024.803754</td>\n",
       "      <td>36</td>\n",
       "      <td>secondary education</td>\n",
       "      <td>1</td>\n",
       "      <td>married</td>\n",
       "      <td>0</td>\n",
       "      <td>F</td>\n",
       "      <td>employee</td>\n",
       "      <td>0</td>\n",
       "      <td>17932.802</td>\n",
       "      <td>car purchase</td>\n",
       "      <td>4024.803754</td>\n",
       "    </tr>\n",
       "    <tr>\n",
       "      <th>2</th>\n",
       "      <td>0</td>\n",
       "      <td>-5623.422610</td>\n",
       "      <td>33</td>\n",
       "      <td>Secondary Education</td>\n",
       "      <td>1</td>\n",
       "      <td>married</td>\n",
       "      <td>0</td>\n",
       "      <td>M</td>\n",
       "      <td>employee</td>\n",
       "      <td>0</td>\n",
       "      <td>23341.752</td>\n",
       "      <td>purchase of the house</td>\n",
       "      <td>5623.422610</td>\n",
       "    </tr>\n",
       "    <tr>\n",
       "      <th>3</th>\n",
       "      <td>3</td>\n",
       "      <td>-4124.747207</td>\n",
       "      <td>32</td>\n",
       "      <td>secondary education</td>\n",
       "      <td>1</td>\n",
       "      <td>married</td>\n",
       "      <td>0</td>\n",
       "      <td>M</td>\n",
       "      <td>employee</td>\n",
       "      <td>0</td>\n",
       "      <td>42820.568</td>\n",
       "      <td>supplementary education</td>\n",
       "      <td>4124.747207</td>\n",
       "    </tr>\n",
       "    <tr>\n",
       "      <th>4</th>\n",
       "      <td>0</td>\n",
       "      <td>340266.072047</td>\n",
       "      <td>53</td>\n",
       "      <td>secondary education</td>\n",
       "      <td>1</td>\n",
       "      <td>civil partnership</td>\n",
       "      <td>1</td>\n",
       "      <td>F</td>\n",
       "      <td>retiree</td>\n",
       "      <td>0</td>\n",
       "      <td>25378.572</td>\n",
       "      <td>to have a wedding</td>\n",
       "      <td>340266.072047</td>\n",
       "    </tr>\n",
       "    <tr>\n",
       "      <th>5</th>\n",
       "      <td>0</td>\n",
       "      <td>-926.185831</td>\n",
       "      <td>27</td>\n",
       "      <td>bachelor's degree</td>\n",
       "      <td>0</td>\n",
       "      <td>civil partnership</td>\n",
       "      <td>1</td>\n",
       "      <td>M</td>\n",
       "      <td>business</td>\n",
       "      <td>0</td>\n",
       "      <td>40922.170</td>\n",
       "      <td>purchase of the house</td>\n",
       "      <td>926.185831</td>\n",
       "    </tr>\n",
       "    <tr>\n",
       "      <th>6</th>\n",
       "      <td>0</td>\n",
       "      <td>-2879.202052</td>\n",
       "      <td>43</td>\n",
       "      <td>bachelor's degree</td>\n",
       "      <td>0</td>\n",
       "      <td>married</td>\n",
       "      <td>0</td>\n",
       "      <td>F</td>\n",
       "      <td>business</td>\n",
       "      <td>0</td>\n",
       "      <td>38484.156</td>\n",
       "      <td>housing transactions</td>\n",
       "      <td>2879.202052</td>\n",
       "    </tr>\n",
       "    <tr>\n",
       "      <th>7</th>\n",
       "      <td>0</td>\n",
       "      <td>-152.779569</td>\n",
       "      <td>50</td>\n",
       "      <td>SECONDARY EDUCATION</td>\n",
       "      <td>1</td>\n",
       "      <td>married</td>\n",
       "      <td>0</td>\n",
       "      <td>M</td>\n",
       "      <td>employee</td>\n",
       "      <td>0</td>\n",
       "      <td>21731.829</td>\n",
       "      <td>education</td>\n",
       "      <td>152.779569</td>\n",
       "    </tr>\n",
       "    <tr>\n",
       "      <th>8</th>\n",
       "      <td>2</td>\n",
       "      <td>-6929.865299</td>\n",
       "      <td>35</td>\n",
       "      <td>BACHELOR'S DEGREE</td>\n",
       "      <td>0</td>\n",
       "      <td>civil partnership</td>\n",
       "      <td>1</td>\n",
       "      <td>F</td>\n",
       "      <td>employee</td>\n",
       "      <td>0</td>\n",
       "      <td>15337.093</td>\n",
       "      <td>having a wedding</td>\n",
       "      <td>6929.865299</td>\n",
       "    </tr>\n",
       "    <tr>\n",
       "      <th>9</th>\n",
       "      <td>0</td>\n",
       "      <td>-2188.756445</td>\n",
       "      <td>41</td>\n",
       "      <td>secondary education</td>\n",
       "      <td>1</td>\n",
       "      <td>married</td>\n",
       "      <td>0</td>\n",
       "      <td>M</td>\n",
       "      <td>employee</td>\n",
       "      <td>0</td>\n",
       "      <td>23108.150</td>\n",
       "      <td>purchase of the house for my family</td>\n",
       "      <td>2188.756445</td>\n",
       "    </tr>\n",
       "  </tbody>\n",
       "</table>\n",
       "</div>"
      ],
      "text/plain": [
       "   children  days_employed  age            education  education_id  \\\n",
       "0         1   -8437.673028   42    bachelor's degree             0   \n",
       "1         1   -4024.803754   36  secondary education             1   \n",
       "2         0   -5623.422610   33  Secondary Education             1   \n",
       "3         3   -4124.747207   32  secondary education             1   \n",
       "4         0  340266.072047   53  secondary education             1   \n",
       "5         0    -926.185831   27    bachelor's degree             0   \n",
       "6         0   -2879.202052   43    bachelor's degree             0   \n",
       "7         0    -152.779569   50  SECONDARY EDUCATION             1   \n",
       "8         2   -6929.865299   35    BACHELOR'S DEGREE             0   \n",
       "9         0   -2188.756445   41  secondary education             1   \n",
       "\n",
       "       family_status  family_status_id gender income_type  debt  total_income  \\\n",
       "0            married                 0      F    employee     0     40620.102   \n",
       "1            married                 0      F    employee     0     17932.802   \n",
       "2            married                 0      M    employee     0     23341.752   \n",
       "3            married                 0      M    employee     0     42820.568   \n",
       "4  civil partnership                 1      F     retiree     0     25378.572   \n",
       "5  civil partnership                 1      M    business     0     40922.170   \n",
       "6            married                 0      F    business     0     38484.156   \n",
       "7            married                 0      M    employee     0     21731.829   \n",
       "8  civil partnership                 1      F    employee     0     15337.093   \n",
       "9            married                 0      M    employee     0     23108.150   \n",
       "\n",
       "                               purpose  abs_days_employed  \n",
       "0                purchase of the house        8437.673028  \n",
       "1                         car purchase        4024.803754  \n",
       "2                purchase of the house        5623.422610  \n",
       "3              supplementary education        4124.747207  \n",
       "4                    to have a wedding      340266.072047  \n",
       "5                purchase of the house         926.185831  \n",
       "6                 housing transactions        2879.202052  \n",
       "7                            education         152.779569  \n",
       "8                     having a wedding        6929.865299  \n",
       "9  purchase of the house for my family        2188.756445  "
      ]
     },
     "execution_count": 18,
     "metadata": {},
     "output_type": "execute_result"
    }
   ],
   "source": [
    "data['abs_days_employed'] = data['days_employed'].abs()\n",
    "\n",
    "#checking that it worked\n",
    "data.head(10)"
   ]
  },
  {
   "cell_type": "markdown",
   "metadata": {},
   "source": [
    "<div style=\"border:solid green 2px; padding: 20px\"> <b>Success:</b><br>\n",
    "    \n",
    "  Really great that you processed negative values using `abs()` method. And displayed the percentages of negative values before processing them. 🤩 "
   ]
  },
  {
   "cell_type": "markdown",
   "metadata": {},
   "source": [
    "There it is, the good twin. (to the right)"
   ]
  },
  {
   "cell_type": "markdown",
   "metadata": {},
   "source": [
    "Let's get a closer look:"
   ]
  },
  {
   "cell_type": "code",
   "execution_count": 19,
   "metadata": {},
   "outputs": [
    {
     "data": {
      "text/plain": [
       "count     19351.000000\n",
       "mean      66914.728907\n",
       "std      139030.880527\n",
       "min          24.141633\n",
       "25%         927.009265\n",
       "50%        2194.220567\n",
       "75%        5537.882441\n",
       "max      401755.400475\n",
       "Name: abs_days_employed, dtype: float64"
      ]
     },
     "execution_count": 19,
     "metadata": {},
     "output_type": "execute_result"
    }
   ],
   "source": [
    "data['abs_days_employed'].describe()"
   ]
  },
  {
   "cell_type": "markdown",
   "metadata": {},
   "source": [
    "Huh?"
   ]
  },
  {
   "cell_type": "code",
   "execution_count": 20,
   "metadata": {},
   "outputs": [
    {
     "data": {
      "text/plain": [
       "count      53.016438\n",
       "mean      183.328024\n",
       "std       380.906522\n",
       "min         0.066141\n",
       "25%         2.539751\n",
       "50%         6.011563\n",
       "75%        15.172281\n",
       "max      1100.699727\n",
       "Name: abs_days_employed, dtype: float64"
      ]
     },
     "execution_count": 20,
     "metadata": {},
     "output_type": "execute_result"
    }
   ],
   "source": [
    "data['abs_days_employed'].describe()/365"
   ]
  },
  {
   "cell_type": "markdown",
   "metadata": {},
   "source": [
    "And there is the obvious problem that some people literally had to work inhumane hours to get this dataset's average to 183 years of employment. And the problem is not solved by dividing the values further, say, by 24 hours, if we choose to make this assumption about the origin of this data:"
   ]
  },
  {
   "cell_type": "code",
   "execution_count": 21,
   "metadata": {},
   "outputs": [
    {
     "data": {
      "text/plain": [
       "count     2.209018\n",
       "mean      7.638668\n",
       "std      15.871105\n",
       "min       0.002756\n",
       "25%       0.105823\n",
       "50%       0.250482\n",
       "75%       0.632178\n",
       "max      45.862489\n",
       "Name: abs_days_employed, dtype: float64"
      ]
     },
     "execution_count": 21,
     "metadata": {},
     "output_type": "execute_result"
    }
   ],
   "source": [
    "data['abs_days_employed'].describe()/365/24"
   ]
  },
  {
   "cell_type": "markdown",
   "metadata": {},
   "source": [
    "The numbers still don't make any sense, and besides, the huge difference between the mean and the median values tells us that there are indeed a number of values that just have to be abnormally high."
   ]
  },
  {
   "cell_type": "markdown",
   "metadata": {},
   "source": [
    "Looking at the data, I don't see an obvious extra triple zero before the dot, and these values seem to belong to observations of people with different values in other columns, such as income, age and so on. They are spread out across the dataset. But they are associated with one income_type though: retirees. Furthermore, looking once more at the original days_employed column, I can see that all the values in the normal range seem to have that minus sign, whereas the insanely high values are all positive."
   ]
  },
  {
   "cell_type": "code",
   "execution_count": 22,
   "metadata": {
    "scrolled": true
   },
   "outputs": [
    {
     "data": {
      "text/html": [
       "<div>\n",
       "<style scoped>\n",
       "    .dataframe tbody tr th:only-of-type {\n",
       "        vertical-align: middle;\n",
       "    }\n",
       "\n",
       "    .dataframe tbody tr th {\n",
       "        vertical-align: top;\n",
       "    }\n",
       "\n",
       "    .dataframe thead th {\n",
       "        text-align: right;\n",
       "    }\n",
       "</style>\n",
       "<table border=\"1\" class=\"dataframe\">\n",
       "  <thead>\n",
       "    <tr style=\"text-align: right;\">\n",
       "      <th></th>\n",
       "      <th>children</th>\n",
       "      <th>days_employed</th>\n",
       "      <th>age</th>\n",
       "      <th>education</th>\n",
       "      <th>education_id</th>\n",
       "      <th>family_status</th>\n",
       "      <th>family_status_id</th>\n",
       "      <th>gender</th>\n",
       "      <th>income_type</th>\n",
       "      <th>debt</th>\n",
       "      <th>total_income</th>\n",
       "      <th>purpose</th>\n",
       "      <th>abs_days_employed</th>\n",
       "    </tr>\n",
       "  </thead>\n",
       "  <tbody>\n",
       "    <tr>\n",
       "      <th>2750</th>\n",
       "      <td>1</td>\n",
       "      <td>-576.507060</td>\n",
       "      <td>44</td>\n",
       "      <td>secondary education</td>\n",
       "      <td>1</td>\n",
       "      <td>married</td>\n",
       "      <td>0</td>\n",
       "      <td>M</td>\n",
       "      <td>employee</td>\n",
       "      <td>1</td>\n",
       "      <td>31132.697</td>\n",
       "      <td>getting higher education</td>\n",
       "      <td>576.507060</td>\n",
       "    </tr>\n",
       "    <tr>\n",
       "      <th>2751</th>\n",
       "      <td>0</td>\n",
       "      <td>-1265.408556</td>\n",
       "      <td>53</td>\n",
       "      <td>secondary education</td>\n",
       "      <td>1</td>\n",
       "      <td>married</td>\n",
       "      <td>0</td>\n",
       "      <td>F</td>\n",
       "      <td>employee</td>\n",
       "      <td>0</td>\n",
       "      <td>20873.855</td>\n",
       "      <td>to get a supplementary education</td>\n",
       "      <td>1265.408556</td>\n",
       "    </tr>\n",
       "    <tr>\n",
       "      <th>2752</th>\n",
       "      <td>1</td>\n",
       "      <td>-327.014944</td>\n",
       "      <td>25</td>\n",
       "      <td>secondary education</td>\n",
       "      <td>1</td>\n",
       "      <td>married</td>\n",
       "      <td>0</td>\n",
       "      <td>M</td>\n",
       "      <td>employee</td>\n",
       "      <td>0</td>\n",
       "      <td>30063.881</td>\n",
       "      <td>education</td>\n",
       "      <td>327.014944</td>\n",
       "    </tr>\n",
       "    <tr>\n",
       "      <th>2753</th>\n",
       "      <td>0</td>\n",
       "      <td>332207.706723</td>\n",
       "      <td>58</td>\n",
       "      <td>secondary education</td>\n",
       "      <td>1</td>\n",
       "      <td>married</td>\n",
       "      <td>0</td>\n",
       "      <td>F</td>\n",
       "      <td>retiree</td>\n",
       "      <td>1</td>\n",
       "      <td>23327.785</td>\n",
       "      <td>to own a car</td>\n",
       "      <td>332207.706723</td>\n",
       "    </tr>\n",
       "    <tr>\n",
       "      <th>2754</th>\n",
       "      <td>0</td>\n",
       "      <td>-241.900929</td>\n",
       "      <td>36</td>\n",
       "      <td>SECONDARY EDUCATION</td>\n",
       "      <td>1</td>\n",
       "      <td>married</td>\n",
       "      <td>0</td>\n",
       "      <td>M</td>\n",
       "      <td>employee</td>\n",
       "      <td>0</td>\n",
       "      <td>25684.587</td>\n",
       "      <td>housing renovation</td>\n",
       "      <td>241.900929</td>\n",
       "    </tr>\n",
       "    <tr>\n",
       "      <th>2755</th>\n",
       "      <td>0</td>\n",
       "      <td>-3828.034774</td>\n",
       "      <td>46</td>\n",
       "      <td>secondary education</td>\n",
       "      <td>1</td>\n",
       "      <td>married</td>\n",
       "      <td>0</td>\n",
       "      <td>F</td>\n",
       "      <td>business</td>\n",
       "      <td>0</td>\n",
       "      <td>31948.008</td>\n",
       "      <td>building a property</td>\n",
       "      <td>3828.034774</td>\n",
       "    </tr>\n",
       "    <tr>\n",
       "      <th>2756</th>\n",
       "      <td>2</td>\n",
       "      <td>-1277.265112</td>\n",
       "      <td>37</td>\n",
       "      <td>some college</td>\n",
       "      <td>2</td>\n",
       "      <td>married</td>\n",
       "      <td>0</td>\n",
       "      <td>M</td>\n",
       "      <td>employee</td>\n",
       "      <td>0</td>\n",
       "      <td>41335.647</td>\n",
       "      <td>to own a car</td>\n",
       "      <td>1277.265112</td>\n",
       "    </tr>\n",
       "    <tr>\n",
       "      <th>2757</th>\n",
       "      <td>0</td>\n",
       "      <td>-1308.144973</td>\n",
       "      <td>21</td>\n",
       "      <td>bachelor's degree</td>\n",
       "      <td>0</td>\n",
       "      <td>civil partnership</td>\n",
       "      <td>1</td>\n",
       "      <td>F</td>\n",
       "      <td>business</td>\n",
       "      <td>0</td>\n",
       "      <td>12941.123</td>\n",
       "      <td>housing</td>\n",
       "      <td>1308.144973</td>\n",
       "    </tr>\n",
       "    <tr>\n",
       "      <th>2758</th>\n",
       "      <td>0</td>\n",
       "      <td>-2847.503085</td>\n",
       "      <td>44</td>\n",
       "      <td>bachelor's degree</td>\n",
       "      <td>0</td>\n",
       "      <td>married</td>\n",
       "      <td>0</td>\n",
       "      <td>M</td>\n",
       "      <td>employee</td>\n",
       "      <td>0</td>\n",
       "      <td>29780.938</td>\n",
       "      <td>purchase of the house for my family</td>\n",
       "      <td>2847.503085</td>\n",
       "    </tr>\n",
       "    <tr>\n",
       "      <th>2759</th>\n",
       "      <td>1</td>\n",
       "      <td>-1164.233151</td>\n",
       "      <td>39</td>\n",
       "      <td>secondary education</td>\n",
       "      <td>1</td>\n",
       "      <td>civil partnership</td>\n",
       "      <td>1</td>\n",
       "      <td>F</td>\n",
       "      <td>employee</td>\n",
       "      <td>0</td>\n",
       "      <td>27123.095</td>\n",
       "      <td>to have a wedding</td>\n",
       "      <td>1164.233151</td>\n",
       "    </tr>\n",
       "    <tr>\n",
       "      <th>2760</th>\n",
       "      <td>0</td>\n",
       "      <td>374578.065311</td>\n",
       "      <td>55</td>\n",
       "      <td>secondary education</td>\n",
       "      <td>1</td>\n",
       "      <td>civil partnership</td>\n",
       "      <td>1</td>\n",
       "      <td>F</td>\n",
       "      <td>retiree</td>\n",
       "      <td>0</td>\n",
       "      <td>20095.376</td>\n",
       "      <td>second-hand car purchase</td>\n",
       "      <td>374578.065311</td>\n",
       "    </tr>\n",
       "    <tr>\n",
       "      <th>2761</th>\n",
       "      <td>0</td>\n",
       "      <td>-394.340470</td>\n",
       "      <td>48</td>\n",
       "      <td>secondary education</td>\n",
       "      <td>1</td>\n",
       "      <td>civil partnership</td>\n",
       "      <td>1</td>\n",
       "      <td>M</td>\n",
       "      <td>employee</td>\n",
       "      <td>0</td>\n",
       "      <td>21642.797</td>\n",
       "      <td>having a wedding</td>\n",
       "      <td>394.340470</td>\n",
       "    </tr>\n",
       "    <tr>\n",
       "      <th>2762</th>\n",
       "      <td>1</td>\n",
       "      <td>-1190.159840</td>\n",
       "      <td>48</td>\n",
       "      <td>secondary education</td>\n",
       "      <td>1</td>\n",
       "      <td>widow / widower</td>\n",
       "      <td>2</td>\n",
       "      <td>F</td>\n",
       "      <td>employee</td>\n",
       "      <td>0</td>\n",
       "      <td>37535.002</td>\n",
       "      <td>housing transactions</td>\n",
       "      <td>1190.159840</td>\n",
       "    </tr>\n",
       "    <tr>\n",
       "      <th>2763</th>\n",
       "      <td>0</td>\n",
       "      <td>NaN</td>\n",
       "      <td>59</td>\n",
       "      <td>secondary education</td>\n",
       "      <td>1</td>\n",
       "      <td>unmarried</td>\n",
       "      <td>4</td>\n",
       "      <td>F</td>\n",
       "      <td>employee</td>\n",
       "      <td>0</td>\n",
       "      <td>NaN</td>\n",
       "      <td>real estate transactions</td>\n",
       "      <td>NaN</td>\n",
       "    </tr>\n",
       "    <tr>\n",
       "      <th>2764</th>\n",
       "      <td>1</td>\n",
       "      <td>-3421.220659</td>\n",
       "      <td>33</td>\n",
       "      <td>Bachelor's Degree</td>\n",
       "      <td>0</td>\n",
       "      <td>married</td>\n",
       "      <td>0</td>\n",
       "      <td>F</td>\n",
       "      <td>business</td>\n",
       "      <td>0</td>\n",
       "      <td>62410.274</td>\n",
       "      <td>building a real estate</td>\n",
       "      <td>3421.220659</td>\n",
       "    </tr>\n",
       "    <tr>\n",
       "      <th>2765</th>\n",
       "      <td>0</td>\n",
       "      <td>-995.549652</td>\n",
       "      <td>43</td>\n",
       "      <td>secondary education</td>\n",
       "      <td>1</td>\n",
       "      <td>civil partnership</td>\n",
       "      <td>1</td>\n",
       "      <td>M</td>\n",
       "      <td>employee</td>\n",
       "      <td>1</td>\n",
       "      <td>22928.480</td>\n",
       "      <td>housing</td>\n",
       "      <td>995.549652</td>\n",
       "    </tr>\n",
       "    <tr>\n",
       "      <th>2766</th>\n",
       "      <td>1</td>\n",
       "      <td>-3285.726873</td>\n",
       "      <td>27</td>\n",
       "      <td>secondary education</td>\n",
       "      <td>1</td>\n",
       "      <td>married</td>\n",
       "      <td>0</td>\n",
       "      <td>F</td>\n",
       "      <td>employee</td>\n",
       "      <td>0</td>\n",
       "      <td>41554.281</td>\n",
       "      <td>getting an education</td>\n",
       "      <td>3285.726873</td>\n",
       "    </tr>\n",
       "    <tr>\n",
       "      <th>2767</th>\n",
       "      <td>2</td>\n",
       "      <td>-926.394995</td>\n",
       "      <td>35</td>\n",
       "      <td>bachelor's degree</td>\n",
       "      <td>0</td>\n",
       "      <td>civil partnership</td>\n",
       "      <td>1</td>\n",
       "      <td>F</td>\n",
       "      <td>business</td>\n",
       "      <td>0</td>\n",
       "      <td>20731.432</td>\n",
       "      <td>housing</td>\n",
       "      <td>926.394995</td>\n",
       "    </tr>\n",
       "    <tr>\n",
       "      <th>2768</th>\n",
       "      <td>1</td>\n",
       "      <td>NaN</td>\n",
       "      <td>48</td>\n",
       "      <td>Bachelor's Degree</td>\n",
       "      <td>0</td>\n",
       "      <td>unmarried</td>\n",
       "      <td>4</td>\n",
       "      <td>F</td>\n",
       "      <td>civil servant</td>\n",
       "      <td>0</td>\n",
       "      <td>NaN</td>\n",
       "      <td>housing renovation</td>\n",
       "      <td>NaN</td>\n",
       "    </tr>\n",
       "    <tr>\n",
       "      <th>2769</th>\n",
       "      <td>2</td>\n",
       "      <td>-1351.514078</td>\n",
       "      <td>40</td>\n",
       "      <td>secondary education</td>\n",
       "      <td>1</td>\n",
       "      <td>married</td>\n",
       "      <td>0</td>\n",
       "      <td>M</td>\n",
       "      <td>employee</td>\n",
       "      <td>0</td>\n",
       "      <td>67322.662</td>\n",
       "      <td>housing transactions</td>\n",
       "      <td>1351.514078</td>\n",
       "    </tr>\n",
       "    <tr>\n",
       "      <th>2770</th>\n",
       "      <td>0</td>\n",
       "      <td>-2514.545359</td>\n",
       "      <td>28</td>\n",
       "      <td>bachelor's degree</td>\n",
       "      <td>0</td>\n",
       "      <td>civil partnership</td>\n",
       "      <td>1</td>\n",
       "      <td>F</td>\n",
       "      <td>employee</td>\n",
       "      <td>0</td>\n",
       "      <td>36167.739</td>\n",
       "      <td>wedding ceremony</td>\n",
       "      <td>2514.545359</td>\n",
       "    </tr>\n",
       "    <tr>\n",
       "      <th>2771</th>\n",
       "      <td>0</td>\n",
       "      <td>366906.639791</td>\n",
       "      <td>55</td>\n",
       "      <td>secondary education</td>\n",
       "      <td>1</td>\n",
       "      <td>married</td>\n",
       "      <td>0</td>\n",
       "      <td>F</td>\n",
       "      <td>retiree</td>\n",
       "      <td>0</td>\n",
       "      <td>17987.925</td>\n",
       "      <td>car</td>\n",
       "      <td>366906.639791</td>\n",
       "    </tr>\n",
       "    <tr>\n",
       "      <th>2772</th>\n",
       "      <td>0</td>\n",
       "      <td>-1483.177789</td>\n",
       "      <td>42</td>\n",
       "      <td>secondary education</td>\n",
       "      <td>1</td>\n",
       "      <td>married</td>\n",
       "      <td>0</td>\n",
       "      <td>F</td>\n",
       "      <td>employee</td>\n",
       "      <td>0</td>\n",
       "      <td>33948.793</td>\n",
       "      <td>purchase of a car</td>\n",
       "      <td>1483.177789</td>\n",
       "    </tr>\n",
       "    <tr>\n",
       "      <th>2773</th>\n",
       "      <td>0</td>\n",
       "      <td>-5505.152447</td>\n",
       "      <td>60</td>\n",
       "      <td>bachelor's degree</td>\n",
       "      <td>0</td>\n",
       "      <td>unmarried</td>\n",
       "      <td>4</td>\n",
       "      <td>F</td>\n",
       "      <td>business</td>\n",
       "      <td>0</td>\n",
       "      <td>31228.970</td>\n",
       "      <td>buy real estate</td>\n",
       "      <td>5505.152447</td>\n",
       "    </tr>\n",
       "    <tr>\n",
       "      <th>2774</th>\n",
       "      <td>2</td>\n",
       "      <td>-3231.940870</td>\n",
       "      <td>39</td>\n",
       "      <td>SECONDARY EDUCATION</td>\n",
       "      <td>1</td>\n",
       "      <td>civil partnership</td>\n",
       "      <td>1</td>\n",
       "      <td>F</td>\n",
       "      <td>employee</td>\n",
       "      <td>0</td>\n",
       "      <td>11970.799</td>\n",
       "      <td>wedding ceremony</td>\n",
       "      <td>3231.940870</td>\n",
       "    </tr>\n",
       "    <tr>\n",
       "      <th>2775</th>\n",
       "      <td>0</td>\n",
       "      <td>-1453.211233</td>\n",
       "      <td>32</td>\n",
       "      <td>BACHELOR'S DEGREE</td>\n",
       "      <td>0</td>\n",
       "      <td>married</td>\n",
       "      <td>0</td>\n",
       "      <td>F</td>\n",
       "      <td>employee</td>\n",
       "      <td>0</td>\n",
       "      <td>14015.873</td>\n",
       "      <td>housing</td>\n",
       "      <td>1453.211233</td>\n",
       "    </tr>\n",
       "    <tr>\n",
       "      <th>2776</th>\n",
       "      <td>1</td>\n",
       "      <td>-669.396447</td>\n",
       "      <td>27</td>\n",
       "      <td>bachelor's degree</td>\n",
       "      <td>0</td>\n",
       "      <td>unmarried</td>\n",
       "      <td>4</td>\n",
       "      <td>M</td>\n",
       "      <td>business</td>\n",
       "      <td>0</td>\n",
       "      <td>13719.890</td>\n",
       "      <td>going to university</td>\n",
       "      <td>669.396447</td>\n",
       "    </tr>\n",
       "    <tr>\n",
       "      <th>2777</th>\n",
       "      <td>0</td>\n",
       "      <td>343480.870183</td>\n",
       "      <td>53</td>\n",
       "      <td>SECONDARY EDUCATION</td>\n",
       "      <td>1</td>\n",
       "      <td>married</td>\n",
       "      <td>0</td>\n",
       "      <td>F</td>\n",
       "      <td>retiree</td>\n",
       "      <td>0</td>\n",
       "      <td>6744.180</td>\n",
       "      <td>to become educated</td>\n",
       "      <td>343480.870183</td>\n",
       "    </tr>\n",
       "    <tr>\n",
       "      <th>2778</th>\n",
       "      <td>1</td>\n",
       "      <td>-106.155252</td>\n",
       "      <td>47</td>\n",
       "      <td>SECONDARY EDUCATION</td>\n",
       "      <td>1</td>\n",
       "      <td>widow / widower</td>\n",
       "      <td>2</td>\n",
       "      <td>F</td>\n",
       "      <td>employee</td>\n",
       "      <td>0</td>\n",
       "      <td>10883.469</td>\n",
       "      <td>purchase of my own house</td>\n",
       "      <td>106.155252</td>\n",
       "    </tr>\n",
       "    <tr>\n",
       "      <th>2779</th>\n",
       "      <td>0</td>\n",
       "      <td>-2922.866017</td>\n",
       "      <td>27</td>\n",
       "      <td>bachelor's degree</td>\n",
       "      <td>0</td>\n",
       "      <td>married</td>\n",
       "      <td>0</td>\n",
       "      <td>F</td>\n",
       "      <td>employee</td>\n",
       "      <td>0</td>\n",
       "      <td>40445.204</td>\n",
       "      <td>building a property</td>\n",
       "      <td>2922.866017</td>\n",
       "    </tr>\n",
       "    <tr>\n",
       "      <th>2780</th>\n",
       "      <td>0</td>\n",
       "      <td>397336.081456</td>\n",
       "      <td>64</td>\n",
       "      <td>Secondary Education</td>\n",
       "      <td>1</td>\n",
       "      <td>widow / widower</td>\n",
       "      <td>2</td>\n",
       "      <td>F</td>\n",
       "      <td>retiree</td>\n",
       "      <td>0</td>\n",
       "      <td>29268.209</td>\n",
       "      <td>profile education</td>\n",
       "      <td>397336.081456</td>\n",
       "    </tr>\n",
       "    <tr>\n",
       "      <th>2781</th>\n",
       "      <td>0</td>\n",
       "      <td>383300.062576</td>\n",
       "      <td>54</td>\n",
       "      <td>secondary education</td>\n",
       "      <td>1</td>\n",
       "      <td>married</td>\n",
       "      <td>0</td>\n",
       "      <td>F</td>\n",
       "      <td>retiree</td>\n",
       "      <td>0</td>\n",
       "      <td>33685.849</td>\n",
       "      <td>buy real estate</td>\n",
       "      <td>383300.062576</td>\n",
       "    </tr>\n",
       "    <tr>\n",
       "      <th>2782</th>\n",
       "      <td>0</td>\n",
       "      <td>348232.256296</td>\n",
       "      <td>50</td>\n",
       "      <td>secondary education</td>\n",
       "      <td>1</td>\n",
       "      <td>married</td>\n",
       "      <td>0</td>\n",
       "      <td>F</td>\n",
       "      <td>retiree</td>\n",
       "      <td>0</td>\n",
       "      <td>11255.315</td>\n",
       "      <td>building a real estate</td>\n",
       "      <td>348232.256296</td>\n",
       "    </tr>\n",
       "    <tr>\n",
       "      <th>2783</th>\n",
       "      <td>1</td>\n",
       "      <td>-1702.357343</td>\n",
       "      <td>49</td>\n",
       "      <td>secondary education</td>\n",
       "      <td>1</td>\n",
       "      <td>married</td>\n",
       "      <td>0</td>\n",
       "      <td>M</td>\n",
       "      <td>employee</td>\n",
       "      <td>0</td>\n",
       "      <td>49303.676</td>\n",
       "      <td>building a real estate</td>\n",
       "      <td>1702.357343</td>\n",
       "    </tr>\n",
       "    <tr>\n",
       "      <th>2784</th>\n",
       "      <td>1</td>\n",
       "      <td>-2766.243884</td>\n",
       "      <td>34</td>\n",
       "      <td>secondary education</td>\n",
       "      <td>1</td>\n",
       "      <td>civil partnership</td>\n",
       "      <td>1</td>\n",
       "      <td>F</td>\n",
       "      <td>employee</td>\n",
       "      <td>0</td>\n",
       "      <td>23725.425</td>\n",
       "      <td>to have a wedding</td>\n",
       "      <td>2766.243884</td>\n",
       "    </tr>\n",
       "    <tr>\n",
       "      <th>2785</th>\n",
       "      <td>0</td>\n",
       "      <td>-900.044514</td>\n",
       "      <td>30</td>\n",
       "      <td>secondary education</td>\n",
       "      <td>1</td>\n",
       "      <td>unmarried</td>\n",
       "      <td>4</td>\n",
       "      <td>F</td>\n",
       "      <td>civil servant</td>\n",
       "      <td>0</td>\n",
       "      <td>18010.523</td>\n",
       "      <td>real estate transactions</td>\n",
       "      <td>900.044514</td>\n",
       "    </tr>\n",
       "    <tr>\n",
       "      <th>2786</th>\n",
       "      <td>0</td>\n",
       "      <td>NaN</td>\n",
       "      <td>51</td>\n",
       "      <td>secondary education</td>\n",
       "      <td>1</td>\n",
       "      <td>married</td>\n",
       "      <td>0</td>\n",
       "      <td>F</td>\n",
       "      <td>employee</td>\n",
       "      <td>1</td>\n",
       "      <td>NaN</td>\n",
       "      <td>buying property for renting out</td>\n",
       "      <td>NaN</td>\n",
       "    </tr>\n",
       "    <tr>\n",
       "      <th>2787</th>\n",
       "      <td>0</td>\n",
       "      <td>329182.845157</td>\n",
       "      <td>54</td>\n",
       "      <td>bachelor's degree</td>\n",
       "      <td>0</td>\n",
       "      <td>married</td>\n",
       "      <td>0</td>\n",
       "      <td>F</td>\n",
       "      <td>retiree</td>\n",
       "      <td>0</td>\n",
       "      <td>10011.361</td>\n",
       "      <td>buy commercial real estate</td>\n",
       "      <td>329182.845157</td>\n",
       "    </tr>\n",
       "    <tr>\n",
       "      <th>2788</th>\n",
       "      <td>0</td>\n",
       "      <td>375045.287317</td>\n",
       "      <td>57</td>\n",
       "      <td>bachelor's degree</td>\n",
       "      <td>0</td>\n",
       "      <td>married</td>\n",
       "      <td>0</td>\n",
       "      <td>F</td>\n",
       "      <td>retiree</td>\n",
       "      <td>0</td>\n",
       "      <td>94921.872</td>\n",
       "      <td>real estate transactions</td>\n",
       "      <td>375045.287317</td>\n",
       "    </tr>\n",
       "    <tr>\n",
       "      <th>2789</th>\n",
       "      <td>0</td>\n",
       "      <td>376924.294696</td>\n",
       "      <td>61</td>\n",
       "      <td>bachelor's degree</td>\n",
       "      <td>0</td>\n",
       "      <td>married</td>\n",
       "      <td>0</td>\n",
       "      <td>F</td>\n",
       "      <td>retiree</td>\n",
       "      <td>0</td>\n",
       "      <td>45197.748</td>\n",
       "      <td>university education</td>\n",
       "      <td>376924.294696</td>\n",
       "    </tr>\n",
       "    <tr>\n",
       "      <th>2790</th>\n",
       "      <td>0</td>\n",
       "      <td>-2676.977539</td>\n",
       "      <td>45</td>\n",
       "      <td>bachelor's degree</td>\n",
       "      <td>0</td>\n",
       "      <td>married</td>\n",
       "      <td>0</td>\n",
       "      <td>F</td>\n",
       "      <td>employee</td>\n",
       "      <td>0</td>\n",
       "      <td>47751.827</td>\n",
       "      <td>profile education</td>\n",
       "      <td>2676.977539</td>\n",
       "    </tr>\n",
       "    <tr>\n",
       "      <th>2791</th>\n",
       "      <td>0</td>\n",
       "      <td>-679.136080</td>\n",
       "      <td>50</td>\n",
       "      <td>secondary education</td>\n",
       "      <td>1</td>\n",
       "      <td>married</td>\n",
       "      <td>0</td>\n",
       "      <td>F</td>\n",
       "      <td>employee</td>\n",
       "      <td>0</td>\n",
       "      <td>18189.616</td>\n",
       "      <td>university education</td>\n",
       "      <td>679.136080</td>\n",
       "    </tr>\n",
       "    <tr>\n",
       "      <th>2792</th>\n",
       "      <td>3</td>\n",
       "      <td>-1795.252264</td>\n",
       "      <td>39</td>\n",
       "      <td>secondary education</td>\n",
       "      <td>1</td>\n",
       "      <td>civil partnership</td>\n",
       "      <td>1</td>\n",
       "      <td>F</td>\n",
       "      <td>employee</td>\n",
       "      <td>0</td>\n",
       "      <td>30269.694</td>\n",
       "      <td>getting higher education</td>\n",
       "      <td>1795.252264</td>\n",
       "    </tr>\n",
       "    <tr>\n",
       "      <th>2793</th>\n",
       "      <td>0</td>\n",
       "      <td>-1172.188652</td>\n",
       "      <td>24</td>\n",
       "      <td>some college</td>\n",
       "      <td>2</td>\n",
       "      <td>married</td>\n",
       "      <td>0</td>\n",
       "      <td>M</td>\n",
       "      <td>business</td>\n",
       "      <td>0</td>\n",
       "      <td>42965.587</td>\n",
       "      <td>buying a second-hand car</td>\n",
       "      <td>1172.188652</td>\n",
       "    </tr>\n",
       "    <tr>\n",
       "      <th>2794</th>\n",
       "      <td>0</td>\n",
       "      <td>-4164.518916</td>\n",
       "      <td>48</td>\n",
       "      <td>secondary education</td>\n",
       "      <td>1</td>\n",
       "      <td>civil partnership</td>\n",
       "      <td>1</td>\n",
       "      <td>F</td>\n",
       "      <td>employee</td>\n",
       "      <td>0</td>\n",
       "      <td>34017.088</td>\n",
       "      <td>buying my own car</td>\n",
       "      <td>4164.518916</td>\n",
       "    </tr>\n",
       "    <tr>\n",
       "      <th>2795</th>\n",
       "      <td>0</td>\n",
       "      <td>365882.588529</td>\n",
       "      <td>67</td>\n",
       "      <td>secondary education</td>\n",
       "      <td>1</td>\n",
       "      <td>civil partnership</td>\n",
       "      <td>1</td>\n",
       "      <td>F</td>\n",
       "      <td>retiree</td>\n",
       "      <td>0</td>\n",
       "      <td>30705.941</td>\n",
       "      <td>purchase of the house for my family</td>\n",
       "      <td>365882.588529</td>\n",
       "    </tr>\n",
       "    <tr>\n",
       "      <th>2796</th>\n",
       "      <td>0</td>\n",
       "      <td>-754.732096</td>\n",
       "      <td>42</td>\n",
       "      <td>bachelor's degree</td>\n",
       "      <td>0</td>\n",
       "      <td>civil partnership</td>\n",
       "      <td>1</td>\n",
       "      <td>F</td>\n",
       "      <td>business</td>\n",
       "      <td>0</td>\n",
       "      <td>13905.380</td>\n",
       "      <td>to have a wedding</td>\n",
       "      <td>754.732096</td>\n",
       "    </tr>\n",
       "    <tr>\n",
       "      <th>2797</th>\n",
       "      <td>2</td>\n",
       "      <td>-4908.553231</td>\n",
       "      <td>37</td>\n",
       "      <td>bachelor's degree</td>\n",
       "      <td>0</td>\n",
       "      <td>civil partnership</td>\n",
       "      <td>1</td>\n",
       "      <td>M</td>\n",
       "      <td>employee</td>\n",
       "      <td>0</td>\n",
       "      <td>19264.965</td>\n",
       "      <td>wedding ceremony</td>\n",
       "      <td>4908.553231</td>\n",
       "    </tr>\n",
       "    <tr>\n",
       "      <th>2798</th>\n",
       "      <td>0</td>\n",
       "      <td>354704.197608</td>\n",
       "      <td>54</td>\n",
       "      <td>secondary education</td>\n",
       "      <td>1</td>\n",
       "      <td>unmarried</td>\n",
       "      <td>4</td>\n",
       "      <td>F</td>\n",
       "      <td>retiree</td>\n",
       "      <td>0</td>\n",
       "      <td>19535.342</td>\n",
       "      <td>housing</td>\n",
       "      <td>354704.197608</td>\n",
       "    </tr>\n",
       "    <tr>\n",
       "      <th>2799</th>\n",
       "      <td>0</td>\n",
       "      <td>384408.937734</td>\n",
       "      <td>62</td>\n",
       "      <td>secondary education</td>\n",
       "      <td>1</td>\n",
       "      <td>unmarried</td>\n",
       "      <td>4</td>\n",
       "      <td>F</td>\n",
       "      <td>retiree</td>\n",
       "      <td>0</td>\n",
       "      <td>15647.974</td>\n",
       "      <td>housing renovation</td>\n",
       "      <td>384408.937734</td>\n",
       "    </tr>\n",
       "  </tbody>\n",
       "</table>\n",
       "</div>"
      ],
      "text/plain": [
       "      children  days_employed  age            education  education_id  \\\n",
       "2750         1    -576.507060   44  secondary education             1   \n",
       "2751         0   -1265.408556   53  secondary education             1   \n",
       "2752         1    -327.014944   25  secondary education             1   \n",
       "2753         0  332207.706723   58  secondary education             1   \n",
       "2754         0    -241.900929   36  SECONDARY EDUCATION             1   \n",
       "2755         0   -3828.034774   46  secondary education             1   \n",
       "2756         2   -1277.265112   37         some college             2   \n",
       "2757         0   -1308.144973   21    bachelor's degree             0   \n",
       "2758         0   -2847.503085   44    bachelor's degree             0   \n",
       "2759         1   -1164.233151   39  secondary education             1   \n",
       "2760         0  374578.065311   55  secondary education             1   \n",
       "2761         0    -394.340470   48  secondary education             1   \n",
       "2762         1   -1190.159840   48  secondary education             1   \n",
       "2763         0            NaN   59  secondary education             1   \n",
       "2764         1   -3421.220659   33    Bachelor's Degree             0   \n",
       "2765         0    -995.549652   43  secondary education             1   \n",
       "2766         1   -3285.726873   27  secondary education             1   \n",
       "2767         2    -926.394995   35    bachelor's degree             0   \n",
       "2768         1            NaN   48    Bachelor's Degree             0   \n",
       "2769         2   -1351.514078   40  secondary education             1   \n",
       "2770         0   -2514.545359   28    bachelor's degree             0   \n",
       "2771         0  366906.639791   55  secondary education             1   \n",
       "2772         0   -1483.177789   42  secondary education             1   \n",
       "2773         0   -5505.152447   60    bachelor's degree             0   \n",
       "2774         2   -3231.940870   39  SECONDARY EDUCATION             1   \n",
       "2775         0   -1453.211233   32    BACHELOR'S DEGREE             0   \n",
       "2776         1    -669.396447   27    bachelor's degree             0   \n",
       "2777         0  343480.870183   53  SECONDARY EDUCATION             1   \n",
       "2778         1    -106.155252   47  SECONDARY EDUCATION             1   \n",
       "2779         0   -2922.866017   27    bachelor's degree             0   \n",
       "2780         0  397336.081456   64  Secondary Education             1   \n",
       "2781         0  383300.062576   54  secondary education             1   \n",
       "2782         0  348232.256296   50  secondary education             1   \n",
       "2783         1   -1702.357343   49  secondary education             1   \n",
       "2784         1   -2766.243884   34  secondary education             1   \n",
       "2785         0    -900.044514   30  secondary education             1   \n",
       "2786         0            NaN   51  secondary education             1   \n",
       "2787         0  329182.845157   54    bachelor's degree             0   \n",
       "2788         0  375045.287317   57    bachelor's degree             0   \n",
       "2789         0  376924.294696   61    bachelor's degree             0   \n",
       "2790         0   -2676.977539   45    bachelor's degree             0   \n",
       "2791         0    -679.136080   50  secondary education             1   \n",
       "2792         3   -1795.252264   39  secondary education             1   \n",
       "2793         0   -1172.188652   24         some college             2   \n",
       "2794         0   -4164.518916   48  secondary education             1   \n",
       "2795         0  365882.588529   67  secondary education             1   \n",
       "2796         0    -754.732096   42    bachelor's degree             0   \n",
       "2797         2   -4908.553231   37    bachelor's degree             0   \n",
       "2798         0  354704.197608   54  secondary education             1   \n",
       "2799         0  384408.937734   62  secondary education             1   \n",
       "\n",
       "          family_status  family_status_id gender    income_type  debt  \\\n",
       "2750            married                 0      M       employee     1   \n",
       "2751            married                 0      F       employee     0   \n",
       "2752            married                 0      M       employee     0   \n",
       "2753            married                 0      F        retiree     1   \n",
       "2754            married                 0      M       employee     0   \n",
       "2755            married                 0      F       business     0   \n",
       "2756            married                 0      M       employee     0   \n",
       "2757  civil partnership                 1      F       business     0   \n",
       "2758            married                 0      M       employee     0   \n",
       "2759  civil partnership                 1      F       employee     0   \n",
       "2760  civil partnership                 1      F        retiree     0   \n",
       "2761  civil partnership                 1      M       employee     0   \n",
       "2762    widow / widower                 2      F       employee     0   \n",
       "2763          unmarried                 4      F       employee     0   \n",
       "2764            married                 0      F       business     0   \n",
       "2765  civil partnership                 1      M       employee     1   \n",
       "2766            married                 0      F       employee     0   \n",
       "2767  civil partnership                 1      F       business     0   \n",
       "2768          unmarried                 4      F  civil servant     0   \n",
       "2769            married                 0      M       employee     0   \n",
       "2770  civil partnership                 1      F       employee     0   \n",
       "2771            married                 0      F        retiree     0   \n",
       "2772            married                 0      F       employee     0   \n",
       "2773          unmarried                 4      F       business     0   \n",
       "2774  civil partnership                 1      F       employee     0   \n",
       "2775            married                 0      F       employee     0   \n",
       "2776          unmarried                 4      M       business     0   \n",
       "2777            married                 0      F        retiree     0   \n",
       "2778    widow / widower                 2      F       employee     0   \n",
       "2779            married                 0      F       employee     0   \n",
       "2780    widow / widower                 2      F        retiree     0   \n",
       "2781            married                 0      F        retiree     0   \n",
       "2782            married                 0      F        retiree     0   \n",
       "2783            married                 0      M       employee     0   \n",
       "2784  civil partnership                 1      F       employee     0   \n",
       "2785          unmarried                 4      F  civil servant     0   \n",
       "2786            married                 0      F       employee     1   \n",
       "2787            married                 0      F        retiree     0   \n",
       "2788            married                 0      F        retiree     0   \n",
       "2789            married                 0      F        retiree     0   \n",
       "2790            married                 0      F       employee     0   \n",
       "2791            married                 0      F       employee     0   \n",
       "2792  civil partnership                 1      F       employee     0   \n",
       "2793            married                 0      M       business     0   \n",
       "2794  civil partnership                 1      F       employee     0   \n",
       "2795  civil partnership                 1      F        retiree     0   \n",
       "2796  civil partnership                 1      F       business     0   \n",
       "2797  civil partnership                 1      M       employee     0   \n",
       "2798          unmarried                 4      F        retiree     0   \n",
       "2799          unmarried                 4      F        retiree     0   \n",
       "\n",
       "      total_income                              purpose  abs_days_employed  \n",
       "2750     31132.697             getting higher education         576.507060  \n",
       "2751     20873.855     to get a supplementary education        1265.408556  \n",
       "2752     30063.881                            education         327.014944  \n",
       "2753     23327.785                         to own a car      332207.706723  \n",
       "2754     25684.587                   housing renovation         241.900929  \n",
       "2755     31948.008                  building a property        3828.034774  \n",
       "2756     41335.647                         to own a car        1277.265112  \n",
       "2757     12941.123                              housing        1308.144973  \n",
       "2758     29780.938  purchase of the house for my family        2847.503085  \n",
       "2759     27123.095                    to have a wedding        1164.233151  \n",
       "2760     20095.376             second-hand car purchase      374578.065311  \n",
       "2761     21642.797                     having a wedding         394.340470  \n",
       "2762     37535.002                 housing transactions        1190.159840  \n",
       "2763           NaN             real estate transactions                NaN  \n",
       "2764     62410.274               building a real estate        3421.220659  \n",
       "2765     22928.480                              housing         995.549652  \n",
       "2766     41554.281                 getting an education        3285.726873  \n",
       "2767     20731.432                              housing         926.394995  \n",
       "2768           NaN                   housing renovation                NaN  \n",
       "2769     67322.662                 housing transactions        1351.514078  \n",
       "2770     36167.739                     wedding ceremony        2514.545359  \n",
       "2771     17987.925                                  car      366906.639791  \n",
       "2772     33948.793                    purchase of a car        1483.177789  \n",
       "2773     31228.970                      buy real estate        5505.152447  \n",
       "2774     11970.799                     wedding ceremony        3231.940870  \n",
       "2775     14015.873                              housing        1453.211233  \n",
       "2776     13719.890                  going to university         669.396447  \n",
       "2777      6744.180                   to become educated      343480.870183  \n",
       "2778     10883.469             purchase of my own house         106.155252  \n",
       "2779     40445.204                  building a property        2922.866017  \n",
       "2780     29268.209                    profile education      397336.081456  \n",
       "2781     33685.849                      buy real estate      383300.062576  \n",
       "2782     11255.315               building a real estate      348232.256296  \n",
       "2783     49303.676               building a real estate        1702.357343  \n",
       "2784     23725.425                    to have a wedding        2766.243884  \n",
       "2785     18010.523             real estate transactions         900.044514  \n",
       "2786           NaN      buying property for renting out                NaN  \n",
       "2787     10011.361           buy commercial real estate      329182.845157  \n",
       "2788     94921.872             real estate transactions      375045.287317  \n",
       "2789     45197.748                 university education      376924.294696  \n",
       "2790     47751.827                    profile education        2676.977539  \n",
       "2791     18189.616                 university education         679.136080  \n",
       "2792     30269.694             getting higher education        1795.252264  \n",
       "2793     42965.587             buying a second-hand car        1172.188652  \n",
       "2794     34017.088                    buying my own car        4164.518916  \n",
       "2795     30705.941  purchase of the house for my family      365882.588529  \n",
       "2796     13905.380                    to have a wedding         754.732096  \n",
       "2797     19264.965                     wedding ceremony        4908.553231  \n",
       "2798     19535.342                              housing      354704.197608  \n",
       "2799     15647.974                   housing renovation      384408.937734  "
      ]
     },
     "execution_count": 22,
     "metadata": {},
     "output_type": "execute_result"
    }
   ],
   "source": [
    "data[2750:2800]"
   ]
  },
  {
   "cell_type": "markdown",
   "metadata": {},
   "source": [
    "Assuming that these are indeed just insane values that have happened by mistake, what if there is a threshold we could take to isolate them? Let's try 30000, which is approximately 82 years, the highest imaginable number, if we assume (at a stretch) that someone started working at 18 and managed to stay employed into their 100's."
   ]
  },
  {
   "cell_type": "code",
   "execution_count": 23,
   "metadata": {},
   "outputs": [
    {
     "data": {
      "text/html": [
       "<div>\n",
       "<style scoped>\n",
       "    .dataframe tbody tr th:only-of-type {\n",
       "        vertical-align: middle;\n",
       "    }\n",
       "\n",
       "    .dataframe tbody tr th {\n",
       "        vertical-align: top;\n",
       "    }\n",
       "\n",
       "    .dataframe thead th {\n",
       "        text-align: right;\n",
       "    }\n",
       "</style>\n",
       "<table border=\"1\" class=\"dataframe\">\n",
       "  <thead>\n",
       "    <tr style=\"text-align: right;\">\n",
       "      <th></th>\n",
       "      <th>children</th>\n",
       "      <th>days_employed</th>\n",
       "      <th>age</th>\n",
       "      <th>education_id</th>\n",
       "      <th>family_status_id</th>\n",
       "      <th>debt</th>\n",
       "      <th>total_income</th>\n",
       "      <th>abs_days_employed</th>\n",
       "    </tr>\n",
       "  </thead>\n",
       "  <tbody>\n",
       "    <tr>\n",
       "      <th>count</th>\n",
       "      <td>3445.000000</td>\n",
       "      <td>3445.000000</td>\n",
       "      <td>3445.000000</td>\n",
       "      <td>3445.000000</td>\n",
       "      <td>3445.000000</td>\n",
       "      <td>3445.000000</td>\n",
       "      <td>3445.000000</td>\n",
       "      <td>3445.000000</td>\n",
       "    </tr>\n",
       "    <tr>\n",
       "      <th>mean</th>\n",
       "      <td>0.095791</td>\n",
       "      <td>365004.309916</td>\n",
       "      <td>59.124819</td>\n",
       "      <td>0.914659</td>\n",
       "      <td>0.984325</td>\n",
       "      <td>0.052830</td>\n",
       "      <td>21939.856893</td>\n",
       "      <td>365004.309916</td>\n",
       "    </tr>\n",
       "    <tr>\n",
       "      <th>std</th>\n",
       "      <td>0.338400</td>\n",
       "      <td>21075.016396</td>\n",
       "      <td>7.580584</td>\n",
       "      <td>0.517103</td>\n",
       "      <td>1.316071</td>\n",
       "      <td>0.223727</td>\n",
       "      <td>12838.753752</td>\n",
       "      <td>21075.016396</td>\n",
       "    </tr>\n",
       "    <tr>\n",
       "      <th>min</th>\n",
       "      <td>0.000000</td>\n",
       "      <td>328728.720605</td>\n",
       "      <td>0.000000</td>\n",
       "      <td>0.000000</td>\n",
       "      <td>0.000000</td>\n",
       "      <td>0.000000</td>\n",
       "      <td>3306.762000</td>\n",
       "      <td>328728.720605</td>\n",
       "    </tr>\n",
       "    <tr>\n",
       "      <th>25%</th>\n",
       "      <td>0.000000</td>\n",
       "      <td>346639.413916</td>\n",
       "      <td>56.000000</td>\n",
       "      <td>1.000000</td>\n",
       "      <td>0.000000</td>\n",
       "      <td>0.000000</td>\n",
       "      <td>13260.214000</td>\n",
       "      <td>346639.413916</td>\n",
       "    </tr>\n",
       "    <tr>\n",
       "      <th>50%</th>\n",
       "      <td>0.000000</td>\n",
       "      <td>365213.306266</td>\n",
       "      <td>60.000000</td>\n",
       "      <td>1.000000</td>\n",
       "      <td>0.000000</td>\n",
       "      <td>0.000000</td>\n",
       "      <td>18962.318000</td>\n",
       "      <td>365213.306266</td>\n",
       "    </tr>\n",
       "    <tr>\n",
       "      <th>75%</th>\n",
       "      <td>0.000000</td>\n",
       "      <td>383246.444219</td>\n",
       "      <td>64.000000</td>\n",
       "      <td>1.000000</td>\n",
       "      <td>2.000000</td>\n",
       "      <td>0.000000</td>\n",
       "      <td>27159.402000</td>\n",
       "      <td>383246.444219</td>\n",
       "    </tr>\n",
       "    <tr>\n",
       "      <th>max</th>\n",
       "      <td>4.000000</td>\n",
       "      <td>401755.400475</td>\n",
       "      <td>74.000000</td>\n",
       "      <td>4.000000</td>\n",
       "      <td>4.000000</td>\n",
       "      <td>1.000000</td>\n",
       "      <td>117616.523000</td>\n",
       "      <td>401755.400475</td>\n",
       "    </tr>\n",
       "  </tbody>\n",
       "</table>\n",
       "</div>"
      ],
      "text/plain": [
       "          children  days_employed          age  education_id  \\\n",
       "count  3445.000000    3445.000000  3445.000000   3445.000000   \n",
       "mean      0.095791  365004.309916    59.124819      0.914659   \n",
       "std       0.338400   21075.016396     7.580584      0.517103   \n",
       "min       0.000000  328728.720605     0.000000      0.000000   \n",
       "25%       0.000000  346639.413916    56.000000      1.000000   \n",
       "50%       0.000000  365213.306266    60.000000      1.000000   \n",
       "75%       0.000000  383246.444219    64.000000      1.000000   \n",
       "max       4.000000  401755.400475    74.000000      4.000000   \n",
       "\n",
       "       family_status_id         debt   total_income  abs_days_employed  \n",
       "count       3445.000000  3445.000000    3445.000000        3445.000000  \n",
       "mean           0.984325     0.052830   21939.856893      365004.309916  \n",
       "std            1.316071     0.223727   12838.753752       21075.016396  \n",
       "min            0.000000     0.000000    3306.762000      328728.720605  \n",
       "25%            0.000000     0.000000   13260.214000      346639.413916  \n",
       "50%            0.000000     0.000000   18962.318000      365213.306266  \n",
       "75%            2.000000     0.000000   27159.402000      383246.444219  \n",
       "max            4.000000     1.000000  117616.523000      401755.400475  "
      ]
     },
     "execution_count": 23,
     "metadata": {},
     "output_type": "execute_result"
    }
   ],
   "source": [
    "data[data['abs_days_employed'] > 30000].describe()"
   ]
  },
  {
   "cell_type": "markdown",
   "metadata": {},
   "source": [
    "OK, so we can see that this is indeed a kind of a subset with a minimum insane number of days starting at 328728 (or 900 years) and going up to a max of 401755 (or 1100 years). Let's take a look at the 'normal' values:"
   ]
  },
  {
   "cell_type": "code",
   "execution_count": 24,
   "metadata": {},
   "outputs": [
    {
     "data": {
      "text/html": [
       "<div>\n",
       "<style scoped>\n",
       "    .dataframe tbody tr th:only-of-type {\n",
       "        vertical-align: middle;\n",
       "    }\n",
       "\n",
       "    .dataframe tbody tr th {\n",
       "        vertical-align: top;\n",
       "    }\n",
       "\n",
       "    .dataframe thead th {\n",
       "        text-align: right;\n",
       "    }\n",
       "</style>\n",
       "<table border=\"1\" class=\"dataframe\">\n",
       "  <thead>\n",
       "    <tr style=\"text-align: right;\">\n",
       "      <th></th>\n",
       "      <th>children</th>\n",
       "      <th>days_employed</th>\n",
       "      <th>age</th>\n",
       "      <th>education_id</th>\n",
       "      <th>family_status_id</th>\n",
       "      <th>debt</th>\n",
       "      <th>total_income</th>\n",
       "      <th>abs_days_employed</th>\n",
       "    </tr>\n",
       "  </thead>\n",
       "  <tbody>\n",
       "    <tr>\n",
       "      <th>count</th>\n",
       "      <td>15906.000000</td>\n",
       "      <td>15906.000000</td>\n",
       "      <td>15906.000000</td>\n",
       "      <td>15906.000000</td>\n",
       "      <td>15906.000000</td>\n",
       "      <td>15906.000000</td>\n",
       "      <td>15906.000000</td>\n",
       "      <td>15906.000000</td>\n",
       "    </tr>\n",
       "    <tr>\n",
       "      <th>mean</th>\n",
       "      <td>0.562744</td>\n",
       "      <td>-2353.015932</td>\n",
       "      <td>39.818245</td>\n",
       "      <td>0.798378</td>\n",
       "      <td>0.969634</td>\n",
       "      <td>0.087326</td>\n",
       "      <td>27837.509634</td>\n",
       "      <td>2353.015932</td>\n",
       "    </tr>\n",
       "    <tr>\n",
       "      <th>std</th>\n",
       "      <td>0.792367</td>\n",
       "      <td>2304.243851</td>\n",
       "      <td>10.663171</td>\n",
       "      <td>0.554845</td>\n",
       "      <td>1.442263</td>\n",
       "      <td>0.282320</td>\n",
       "      <td>16980.846677</td>\n",
       "      <td>2304.243851</td>\n",
       "    </tr>\n",
       "    <tr>\n",
       "      <th>min</th>\n",
       "      <td>0.000000</td>\n",
       "      <td>-18388.949901</td>\n",
       "      <td>0.000000</td>\n",
       "      <td>0.000000</td>\n",
       "      <td>0.000000</td>\n",
       "      <td>0.000000</td>\n",
       "      <td>3418.824000</td>\n",
       "      <td>24.141633</td>\n",
       "    </tr>\n",
       "    <tr>\n",
       "      <th>25%</th>\n",
       "      <td>0.000000</td>\n",
       "      <td>-3157.480084</td>\n",
       "      <td>32.000000</td>\n",
       "      <td>0.000000</td>\n",
       "      <td>0.000000</td>\n",
       "      <td>0.000000</td>\n",
       "      <td>17323.415000</td>\n",
       "      <td>756.371964</td>\n",
       "    </tr>\n",
       "    <tr>\n",
       "      <th>50%</th>\n",
       "      <td>0.000000</td>\n",
       "      <td>-1630.019381</td>\n",
       "      <td>39.000000</td>\n",
       "      <td>1.000000</td>\n",
       "      <td>0.000000</td>\n",
       "      <td>0.000000</td>\n",
       "      <td>24181.535000</td>\n",
       "      <td>1630.019381</td>\n",
       "    </tr>\n",
       "    <tr>\n",
       "      <th>75%</th>\n",
       "      <td>1.000000</td>\n",
       "      <td>-756.371964</td>\n",
       "      <td>48.000000</td>\n",
       "      <td>1.000000</td>\n",
       "      <td>1.000000</td>\n",
       "      <td>0.000000</td>\n",
       "      <td>33839.106500</td>\n",
       "      <td>3157.480084</td>\n",
       "    </tr>\n",
       "    <tr>\n",
       "      <th>max</th>\n",
       "      <td>5.000000</td>\n",
       "      <td>-24.141633</td>\n",
       "      <td>75.000000</td>\n",
       "      <td>4.000000</td>\n",
       "      <td>4.000000</td>\n",
       "      <td>1.000000</td>\n",
       "      <td>362496.645000</td>\n",
       "      <td>18388.949901</td>\n",
       "    </tr>\n",
       "  </tbody>\n",
       "</table>\n",
       "</div>"
      ],
      "text/plain": [
       "           children  days_employed           age  education_id  \\\n",
       "count  15906.000000   15906.000000  15906.000000  15906.000000   \n",
       "mean       0.562744   -2353.015932     39.818245      0.798378   \n",
       "std        0.792367    2304.243851     10.663171      0.554845   \n",
       "min        0.000000  -18388.949901      0.000000      0.000000   \n",
       "25%        0.000000   -3157.480084     32.000000      0.000000   \n",
       "50%        0.000000   -1630.019381     39.000000      1.000000   \n",
       "75%        1.000000    -756.371964     48.000000      1.000000   \n",
       "max        5.000000     -24.141633     75.000000      4.000000   \n",
       "\n",
       "       family_status_id          debt   total_income  abs_days_employed  \n",
       "count      15906.000000  15906.000000   15906.000000       15906.000000  \n",
       "mean           0.969634      0.087326   27837.509634        2353.015932  \n",
       "std            1.442263      0.282320   16980.846677        2304.243851  \n",
       "min            0.000000      0.000000    3418.824000          24.141633  \n",
       "25%            0.000000      0.000000   17323.415000         756.371964  \n",
       "50%            0.000000      0.000000   24181.535000        1630.019381  \n",
       "75%            1.000000      0.000000   33839.106500        3157.480084  \n",
       "max            4.000000      1.000000  362496.645000       18388.949901  "
      ]
     },
     "execution_count": 24,
     "metadata": {},
     "output_type": "execute_result"
    }
   ],
   "source": [
    "data[data['abs_days_employed'] < 30000].describe()"
   ]
  },
  {
   "cell_type": "markdown",
   "metadata": {},
   "source": [
    "Indeed, now we see that the actual highest number of days in employment is 18388, which is roughly 50 years: an honest (and realistic) life's work. The mean and the median values are not as far apart anymore, too. One more thing: we can see that the number of these 'normal' values is the same as the number of negative values (15906), which we saw before when doing a count of values < 0. So it's confirmed: all the values in the normal range seem to have been exported as negatives, whereas the abnormally high values came positive."
   ]
  },
  {
   "cell_type": "code",
   "execution_count": 25,
   "metadata": {},
   "outputs": [
    {
     "data": {
      "text/plain": [
       "array(['retiree', 'unemployed'], dtype=object)"
      ]
     },
     "execution_count": 25,
     "metadata": {},
     "output_type": "execute_result"
    }
   ],
   "source": [
    "data[data['abs_days_employed'] > 30000]['income_type'].unique()"
   ]
  },
  {
   "cell_type": "code",
   "execution_count": 26,
   "metadata": {},
   "outputs": [
    {
     "data": {
      "text/plain": [
       "340266.072047    1\n",
       "349012.164686    1\n",
       "332278.816712    1\n",
       "361424.440523    1\n",
       "385741.351317    1\n",
       "                ..\n",
       "352708.834270    1\n",
       "378067.765448    1\n",
       "368375.356113    1\n",
       "341888.992230    1\n",
       "343937.404131    1\n",
       "Name: days_employed, Length: 3443, dtype: int64"
      ]
     },
     "execution_count": 26,
     "metadata": {},
     "output_type": "execute_result"
    }
   ],
   "source": [
    "data[data['income_type'] == 'retiree']['days_employed'].value_counts()"
   ]
  },
  {
   "cell_type": "markdown",
   "metadata": {},
   "source": [
    "And indeed, as we saw before these numbers only happen (mostly) to the retirees for some reason. But not to all of them. In the table of insane days_employed numbers we can see that there are 3445 rows with them, whereas the total number of retirees is 3856. So what if that applies to all the retirees, except for those with missing values in days_employed?"
   ]
  },
  {
   "cell_type": "code",
   "execution_count": 27,
   "metadata": {},
   "outputs": [
    {
     "data": {
      "text/plain": [
       "employee         1105\n",
       "business          508\n",
       "retiree           413\n",
       "civil servant     147\n",
       "entrepreneur        1\n",
       "Name: income_type, dtype: int64"
      ]
     },
     "execution_count": 27,
     "metadata": {},
     "output_type": "execute_result"
    }
   ],
   "source": [
    "data.loc[data['days_employed'].isnull()]['income_type'].value_counts()"
   ]
  },
  {
   "cell_type": "markdown",
   "metadata": {},
   "source": [
    "Indeed that seems to be the case. And what if the values for retirees came recorded in hours instead of days? It looks like if we apply that inititial treatment of dividing the values in days_employed by 24 hours ONLY to retirees (and the 2 unemployed), the numbers will actually make sense. Dividing by 365 just to see the value in years"
   ]
  },
  {
   "cell_type": "code",
   "execution_count": 28,
   "metadata": {},
   "outputs": [
    {
     "data": {
      "text/html": [
       "<div>\n",
       "<style scoped>\n",
       "    .dataframe tbody tr th:only-of-type {\n",
       "        vertical-align: middle;\n",
       "    }\n",
       "\n",
       "    .dataframe tbody tr th {\n",
       "        vertical-align: top;\n",
       "    }\n",
       "\n",
       "    .dataframe thead th {\n",
       "        text-align: right;\n",
       "    }\n",
       "</style>\n",
       "<table border=\"1\" class=\"dataframe\">\n",
       "  <thead>\n",
       "    <tr style=\"text-align: right;\">\n",
       "      <th></th>\n",
       "      <th>children</th>\n",
       "      <th>days_employed</th>\n",
       "      <th>age</th>\n",
       "      <th>education_id</th>\n",
       "      <th>family_status_id</th>\n",
       "      <th>debt</th>\n",
       "      <th>total_income</th>\n",
       "      <th>abs_days_employed</th>\n",
       "    </tr>\n",
       "  </thead>\n",
       "  <tbody>\n",
       "    <tr>\n",
       "      <th>count</th>\n",
       "      <td>0.393265</td>\n",
       "      <td>0.393265</td>\n",
       "      <td>0.393265</td>\n",
       "      <td>0.393265</td>\n",
       "      <td>0.393265</td>\n",
       "      <td>0.393265</td>\n",
       "      <td>0.393265</td>\n",
       "      <td>0.393265</td>\n",
       "    </tr>\n",
       "    <tr>\n",
       "      <th>mean</th>\n",
       "      <td>0.000011</td>\n",
       "      <td>41.667159</td>\n",
       "      <td>0.006749</td>\n",
       "      <td>0.000104</td>\n",
       "      <td>0.000112</td>\n",
       "      <td>0.000006</td>\n",
       "      <td>2.504550</td>\n",
       "      <td>41.667159</td>\n",
       "    </tr>\n",
       "    <tr>\n",
       "      <th>std</th>\n",
       "      <td>0.000039</td>\n",
       "      <td>2.405824</td>\n",
       "      <td>0.000865</td>\n",
       "      <td>0.000059</td>\n",
       "      <td>0.000150</td>\n",
       "      <td>0.000026</td>\n",
       "      <td>1.465611</td>\n",
       "      <td>2.405824</td>\n",
       "    </tr>\n",
       "    <tr>\n",
       "      <th>min</th>\n",
       "      <td>0.000000</td>\n",
       "      <td>37.526110</td>\n",
       "      <td>0.000000</td>\n",
       "      <td>0.000000</td>\n",
       "      <td>0.000000</td>\n",
       "      <td>0.000000</td>\n",
       "      <td>0.377484</td>\n",
       "      <td>37.526110</td>\n",
       "    </tr>\n",
       "    <tr>\n",
       "      <th>25%</th>\n",
       "      <td>0.000000</td>\n",
       "      <td>39.570709</td>\n",
       "      <td>0.006393</td>\n",
       "      <td>0.000114</td>\n",
       "      <td>0.000000</td>\n",
       "      <td>0.000000</td>\n",
       "      <td>1.513723</td>\n",
       "      <td>39.570709</td>\n",
       "    </tr>\n",
       "    <tr>\n",
       "      <th>50%</th>\n",
       "      <td>0.000000</td>\n",
       "      <td>41.691017</td>\n",
       "      <td>0.006849</td>\n",
       "      <td>0.000114</td>\n",
       "      <td>0.000000</td>\n",
       "      <td>0.000000</td>\n",
       "      <td>2.164648</td>\n",
       "      <td>41.691017</td>\n",
       "    </tr>\n",
       "    <tr>\n",
       "      <th>75%</th>\n",
       "      <td>0.000000</td>\n",
       "      <td>43.749594</td>\n",
       "      <td>0.007306</td>\n",
       "      <td>0.000114</td>\n",
       "      <td>0.000228</td>\n",
       "      <td>0.000000</td>\n",
       "      <td>3.100388</td>\n",
       "      <td>43.749594</td>\n",
       "    </tr>\n",
       "    <tr>\n",
       "      <th>max</th>\n",
       "      <td>0.000457</td>\n",
       "      <td>45.862489</td>\n",
       "      <td>0.008447</td>\n",
       "      <td>0.000457</td>\n",
       "      <td>0.000457</td>\n",
       "      <td>0.000114</td>\n",
       "      <td>13.426544</td>\n",
       "      <td>45.862489</td>\n",
       "    </tr>\n",
       "  </tbody>\n",
       "</table>\n",
       "</div>"
      ],
      "text/plain": [
       "       children  days_employed       age  education_id  family_status_id  \\\n",
       "count  0.393265       0.393265  0.393265      0.393265          0.393265   \n",
       "mean   0.000011      41.667159  0.006749      0.000104          0.000112   \n",
       "std    0.000039       2.405824  0.000865      0.000059          0.000150   \n",
       "min    0.000000      37.526110  0.000000      0.000000          0.000000   \n",
       "25%    0.000000      39.570709  0.006393      0.000114          0.000000   \n",
       "50%    0.000000      41.691017  0.006849      0.000114          0.000000   \n",
       "75%    0.000000      43.749594  0.007306      0.000114          0.000228   \n",
       "max    0.000457      45.862489  0.008447      0.000457          0.000457   \n",
       "\n",
       "           debt  total_income  abs_days_employed  \n",
       "count  0.393265      0.393265           0.393265  \n",
       "mean   0.000006      2.504550          41.667159  \n",
       "std    0.000026      1.465611           2.405824  \n",
       "min    0.000000      0.377484          37.526110  \n",
       "25%    0.000000      1.513723          39.570709  \n",
       "50%    0.000000      2.164648          41.691017  \n",
       "75%    0.000000      3.100388          43.749594  \n",
       "max    0.000114     13.426544          45.862489  "
      ]
     },
     "execution_count": 28,
     "metadata": {},
     "output_type": "execute_result"
    }
   ],
   "source": [
    "data[data['abs_days_employed'] > 30000].describe()/365/24"
   ]
  },
  {
   "cell_type": "markdown",
   "metadata": {},
   "source": [
    "Indeed, now these values look reasonable especially: a minimum number of days employed expressed in years is 37, and the maximum is 45 years. This seems like the right range of values for 'retiree' category."
   ]
  },
  {
   "cell_type": "markdown",
   "metadata": {},
   "source": [
    "So let's replace the faulty data with the correct values, in the experimental abs_days_employed columns for starters, and look at the resulting stats. If everything looks good, we can fix the original days_employed column."
   ]
  },
  {
   "cell_type": "code",
   "execution_count": 29,
   "metadata": {},
   "outputs": [],
   "source": [
    "new_data = data[data['abs_days_employed'] > 30000]['abs_days_employed']/24\n",
    "data.loc[data['abs_days_employed'] > 30000, ['abs_days_employed']] = new_data"
   ]
  },
  {
   "cell_type": "code",
   "execution_count": 30,
   "metadata": {},
   "outputs": [
    {
     "data": {
      "text/plain": [
       "count     9.432877\n",
       "mean     41.667065\n",
       "std       2.405206\n",
       "min      37.526110\n",
       "25%      39.571843\n",
       "50%      41.691017\n",
       "75%      43.747876\n",
       "max      45.862489\n",
       "Name: abs_days_employed, dtype: float64"
      ]
     },
     "execution_count": 30,
     "metadata": {},
     "output_type": "execute_result"
    }
   ],
   "source": [
    "data[data['income_type'] == 'retiree']['abs_days_employed'].describe()/365"
   ]
  },
  {
   "cell_type": "code",
   "execution_count": 31,
   "metadata": {},
   "outputs": [
    {
     "data": {
      "text/plain": [
       "count    19351.000000\n",
       "mean      4641.641176\n",
       "std       5355.964289\n",
       "min         24.141633\n",
       "25%        927.009265\n",
       "50%       2194.220567\n",
       "75%       5537.882441\n",
       "max      18388.949901\n",
       "Name: abs_days_employed, dtype: float64"
      ]
     },
     "execution_count": 31,
     "metadata": {},
     "output_type": "execute_result"
    }
   ],
   "source": [
    "data['abs_days_employed'].describe()"
   ]
  },
  {
   "cell_type": "markdown",
   "metadata": {},
   "source": [
    "Looks better! I guess we can repair the original days_employed column now, and the simplest way to do so is to assign to it the values in abs_days_employed. Then we can get rid of the abs_days_employed."
   ]
  },
  {
   "cell_type": "code",
   "execution_count": 32,
   "metadata": {},
   "outputs": [],
   "source": [
    "data['days_employed'] = data['abs_days_employed']"
   ]
  },
  {
   "cell_type": "code",
   "execution_count": 33,
   "metadata": {},
   "outputs": [
    {
     "data": {
      "text/plain": [
       "count    19351.000000\n",
       "mean      4641.641176\n",
       "std       5355.964289\n",
       "min         24.141633\n",
       "25%        927.009265\n",
       "50%       2194.220567\n",
       "75%       5537.882441\n",
       "max      18388.949901\n",
       "Name: days_employed, dtype: float64"
      ]
     },
     "execution_count": 33,
     "metadata": {},
     "output_type": "execute_result"
    }
   ],
   "source": [
    "data['days_employed'].describe()"
   ]
  },
  {
   "cell_type": "code",
   "execution_count": 34,
   "metadata": {},
   "outputs": [],
   "source": [
    "data.drop(columns = 'abs_days_employed', inplace = True)"
   ]
  },
  {
   "cell_type": "markdown",
   "metadata": {},
   "source": [
    "<div style=\"border:solid orange 2px; padding: 20px\"> <b>Remarks:</b><br>\n",
    "   \n",
    " When you write this code: `data['days_employed'] = data['abs_days_employed']` you basically make the column  \n",
    "`days_employed` column is referenced to the `abs_days_employed` column. After you delete the `abs_days_employed` column, the `days_employed` column is no longer referenced to it and has the old values with gaps again. The solution to this problem: delete the `days_employed` column and then rename the `abs_days_employed` column to `days_employed` using the `rename()` method\n",
    "\n",
    "</div>\n",
    " "
   ]
  },
  {
   "cell_type": "code",
   "execution_count": 35,
   "metadata": {},
   "outputs": [
    {
     "name": "stdout",
     "output_type": "stream",
     "text": [
      "<class 'pandas.core.frame.DataFrame'>\n",
      "RangeIndex: 21525 entries, 0 to 21524\n",
      "Data columns (total 12 columns):\n",
      " #   Column            Non-Null Count  Dtype  \n",
      "---  ------            --------------  -----  \n",
      " 0   children          21525 non-null  int64  \n",
      " 1   days_employed     19351 non-null  float64\n",
      " 2   age               21525 non-null  int64  \n",
      " 3   education         21525 non-null  object \n",
      " 4   education_id      21525 non-null  int64  \n",
      " 5   family_status     21525 non-null  object \n",
      " 6   family_status_id  21525 non-null  int64  \n",
      " 7   gender            21525 non-null  object \n",
      " 8   income_type       21525 non-null  object \n",
      " 9   debt              21525 non-null  int64  \n",
      " 10  total_income      19351 non-null  float64\n",
      " 11  purpose           21525 non-null  object \n",
      "dtypes: float64(2), int64(5), object(5)\n",
      "memory usage: 2.0+ MB\n"
     ]
    }
   ],
   "source": [
    "#Reviewer's code\n",
    "data.info()"
   ]
  },
  {
   "cell_type": "code",
   "execution_count": 36,
   "metadata": {},
   "outputs": [
    {
     "data": {
      "text/html": [
       "<div>\n",
       "<style scoped>\n",
       "    .dataframe tbody tr th:only-of-type {\n",
       "        vertical-align: middle;\n",
       "    }\n",
       "\n",
       "    .dataframe tbody tr th {\n",
       "        vertical-align: top;\n",
       "    }\n",
       "\n",
       "    .dataframe thead th {\n",
       "        text-align: right;\n",
       "    }\n",
       "</style>\n",
       "<table border=\"1\" class=\"dataframe\">\n",
       "  <thead>\n",
       "    <tr style=\"text-align: right;\">\n",
       "      <th></th>\n",
       "      <th>children</th>\n",
       "      <th>days_employed</th>\n",
       "      <th>age</th>\n",
       "      <th>education</th>\n",
       "      <th>education_id</th>\n",
       "      <th>family_status</th>\n",
       "      <th>family_status_id</th>\n",
       "      <th>gender</th>\n",
       "      <th>income_type</th>\n",
       "      <th>debt</th>\n",
       "      <th>total_income</th>\n",
       "      <th>purpose</th>\n",
       "    </tr>\n",
       "  </thead>\n",
       "  <tbody>\n",
       "    <tr>\n",
       "      <th>0</th>\n",
       "      <td>1</td>\n",
       "      <td>8437.673028</td>\n",
       "      <td>42</td>\n",
       "      <td>bachelor's degree</td>\n",
       "      <td>0</td>\n",
       "      <td>married</td>\n",
       "      <td>0</td>\n",
       "      <td>F</td>\n",
       "      <td>employee</td>\n",
       "      <td>0</td>\n",
       "      <td>40620.102</td>\n",
       "      <td>purchase of the house</td>\n",
       "    </tr>\n",
       "    <tr>\n",
       "      <th>1</th>\n",
       "      <td>1</td>\n",
       "      <td>4024.803754</td>\n",
       "      <td>36</td>\n",
       "      <td>secondary education</td>\n",
       "      <td>1</td>\n",
       "      <td>married</td>\n",
       "      <td>0</td>\n",
       "      <td>F</td>\n",
       "      <td>employee</td>\n",
       "      <td>0</td>\n",
       "      <td>17932.802</td>\n",
       "      <td>car purchase</td>\n",
       "    </tr>\n",
       "    <tr>\n",
       "      <th>2</th>\n",
       "      <td>0</td>\n",
       "      <td>5623.422610</td>\n",
       "      <td>33</td>\n",
       "      <td>Secondary Education</td>\n",
       "      <td>1</td>\n",
       "      <td>married</td>\n",
       "      <td>0</td>\n",
       "      <td>M</td>\n",
       "      <td>employee</td>\n",
       "      <td>0</td>\n",
       "      <td>23341.752</td>\n",
       "      <td>purchase of the house</td>\n",
       "    </tr>\n",
       "    <tr>\n",
       "      <th>3</th>\n",
       "      <td>3</td>\n",
       "      <td>4124.747207</td>\n",
       "      <td>32</td>\n",
       "      <td>secondary education</td>\n",
       "      <td>1</td>\n",
       "      <td>married</td>\n",
       "      <td>0</td>\n",
       "      <td>M</td>\n",
       "      <td>employee</td>\n",
       "      <td>0</td>\n",
       "      <td>42820.568</td>\n",
       "      <td>supplementary education</td>\n",
       "    </tr>\n",
       "    <tr>\n",
       "      <th>4</th>\n",
       "      <td>0</td>\n",
       "      <td>14177.753002</td>\n",
       "      <td>53</td>\n",
       "      <td>secondary education</td>\n",
       "      <td>1</td>\n",
       "      <td>civil partnership</td>\n",
       "      <td>1</td>\n",
       "      <td>F</td>\n",
       "      <td>retiree</td>\n",
       "      <td>0</td>\n",
       "      <td>25378.572</td>\n",
       "      <td>to have a wedding</td>\n",
       "    </tr>\n",
       "    <tr>\n",
       "      <th>5</th>\n",
       "      <td>0</td>\n",
       "      <td>926.185831</td>\n",
       "      <td>27</td>\n",
       "      <td>bachelor's degree</td>\n",
       "      <td>0</td>\n",
       "      <td>civil partnership</td>\n",
       "      <td>1</td>\n",
       "      <td>M</td>\n",
       "      <td>business</td>\n",
       "      <td>0</td>\n",
       "      <td>40922.170</td>\n",
       "      <td>purchase of the house</td>\n",
       "    </tr>\n",
       "    <tr>\n",
       "      <th>6</th>\n",
       "      <td>0</td>\n",
       "      <td>2879.202052</td>\n",
       "      <td>43</td>\n",
       "      <td>bachelor's degree</td>\n",
       "      <td>0</td>\n",
       "      <td>married</td>\n",
       "      <td>0</td>\n",
       "      <td>F</td>\n",
       "      <td>business</td>\n",
       "      <td>0</td>\n",
       "      <td>38484.156</td>\n",
       "      <td>housing transactions</td>\n",
       "    </tr>\n",
       "    <tr>\n",
       "      <th>7</th>\n",
       "      <td>0</td>\n",
       "      <td>152.779569</td>\n",
       "      <td>50</td>\n",
       "      <td>SECONDARY EDUCATION</td>\n",
       "      <td>1</td>\n",
       "      <td>married</td>\n",
       "      <td>0</td>\n",
       "      <td>M</td>\n",
       "      <td>employee</td>\n",
       "      <td>0</td>\n",
       "      <td>21731.829</td>\n",
       "      <td>education</td>\n",
       "    </tr>\n",
       "    <tr>\n",
       "      <th>8</th>\n",
       "      <td>2</td>\n",
       "      <td>6929.865299</td>\n",
       "      <td>35</td>\n",
       "      <td>BACHELOR'S DEGREE</td>\n",
       "      <td>0</td>\n",
       "      <td>civil partnership</td>\n",
       "      <td>1</td>\n",
       "      <td>F</td>\n",
       "      <td>employee</td>\n",
       "      <td>0</td>\n",
       "      <td>15337.093</td>\n",
       "      <td>having a wedding</td>\n",
       "    </tr>\n",
       "    <tr>\n",
       "      <th>9</th>\n",
       "      <td>0</td>\n",
       "      <td>2188.756445</td>\n",
       "      <td>41</td>\n",
       "      <td>secondary education</td>\n",
       "      <td>1</td>\n",
       "      <td>married</td>\n",
       "      <td>0</td>\n",
       "      <td>M</td>\n",
       "      <td>employee</td>\n",
       "      <td>0</td>\n",
       "      <td>23108.150</td>\n",
       "      <td>purchase of the house for my family</td>\n",
       "    </tr>\n",
       "    <tr>\n",
       "      <th>10</th>\n",
       "      <td>2</td>\n",
       "      <td>4171.483647</td>\n",
       "      <td>36</td>\n",
       "      <td>bachelor's degree</td>\n",
       "      <td>0</td>\n",
       "      <td>married</td>\n",
       "      <td>0</td>\n",
       "      <td>M</td>\n",
       "      <td>business</td>\n",
       "      <td>0</td>\n",
       "      <td>18230.959</td>\n",
       "      <td>buy real estate</td>\n",
       "    </tr>\n",
       "    <tr>\n",
       "      <th>11</th>\n",
       "      <td>0</td>\n",
       "      <td>792.701887</td>\n",
       "      <td>40</td>\n",
       "      <td>secondary education</td>\n",
       "      <td>1</td>\n",
       "      <td>married</td>\n",
       "      <td>0</td>\n",
       "      <td>F</td>\n",
       "      <td>employee</td>\n",
       "      <td>0</td>\n",
       "      <td>12331.077</td>\n",
       "      <td>buy commercial real estate</td>\n",
       "    </tr>\n",
       "    <tr>\n",
       "      <th>12</th>\n",
       "      <td>0</td>\n",
       "      <td>NaN</td>\n",
       "      <td>65</td>\n",
       "      <td>secondary education</td>\n",
       "      <td>1</td>\n",
       "      <td>civil partnership</td>\n",
       "      <td>1</td>\n",
       "      <td>M</td>\n",
       "      <td>retiree</td>\n",
       "      <td>0</td>\n",
       "      <td>NaN</td>\n",
       "      <td>to have a wedding</td>\n",
       "    </tr>\n",
       "    <tr>\n",
       "      <th>13</th>\n",
       "      <td>0</td>\n",
       "      <td>1846.641941</td>\n",
       "      <td>54</td>\n",
       "      <td>some college</td>\n",
       "      <td>2</td>\n",
       "      <td>married</td>\n",
       "      <td>0</td>\n",
       "      <td>F</td>\n",
       "      <td>employee</td>\n",
       "      <td>0</td>\n",
       "      <td>20873.317</td>\n",
       "      <td>car purchase</td>\n",
       "    </tr>\n",
       "    <tr>\n",
       "      <th>14</th>\n",
       "      <td>0</td>\n",
       "      <td>1844.956182</td>\n",
       "      <td>56</td>\n",
       "      <td>bachelor's degree</td>\n",
       "      <td>0</td>\n",
       "      <td>civil partnership</td>\n",
       "      <td>1</td>\n",
       "      <td>F</td>\n",
       "      <td>business</td>\n",
       "      <td>1</td>\n",
       "      <td>26420.466</td>\n",
       "      <td>buy residential real estate</td>\n",
       "    </tr>\n",
       "  </tbody>\n",
       "</table>\n",
       "</div>"
      ],
      "text/plain": [
       "    children  days_employed  age            education  education_id  \\\n",
       "0          1    8437.673028   42    bachelor's degree             0   \n",
       "1          1    4024.803754   36  secondary education             1   \n",
       "2          0    5623.422610   33  Secondary Education             1   \n",
       "3          3    4124.747207   32  secondary education             1   \n",
       "4          0   14177.753002   53  secondary education             1   \n",
       "5          0     926.185831   27    bachelor's degree             0   \n",
       "6          0    2879.202052   43    bachelor's degree             0   \n",
       "7          0     152.779569   50  SECONDARY EDUCATION             1   \n",
       "8          2    6929.865299   35    BACHELOR'S DEGREE             0   \n",
       "9          0    2188.756445   41  secondary education             1   \n",
       "10         2    4171.483647   36    bachelor's degree             0   \n",
       "11         0     792.701887   40  secondary education             1   \n",
       "12         0            NaN   65  secondary education             1   \n",
       "13         0    1846.641941   54         some college             2   \n",
       "14         0    1844.956182   56    bachelor's degree             0   \n",
       "\n",
       "        family_status  family_status_id gender income_type  debt  \\\n",
       "0             married                 0      F    employee     0   \n",
       "1             married                 0      F    employee     0   \n",
       "2             married                 0      M    employee     0   \n",
       "3             married                 0      M    employee     0   \n",
       "4   civil partnership                 1      F     retiree     0   \n",
       "5   civil partnership                 1      M    business     0   \n",
       "6             married                 0      F    business     0   \n",
       "7             married                 0      M    employee     0   \n",
       "8   civil partnership                 1      F    employee     0   \n",
       "9             married                 0      M    employee     0   \n",
       "10            married                 0      M    business     0   \n",
       "11            married                 0      F    employee     0   \n",
       "12  civil partnership                 1      M     retiree     0   \n",
       "13            married                 0      F    employee     0   \n",
       "14  civil partnership                 1      F    business     1   \n",
       "\n",
       "    total_income                              purpose  \n",
       "0      40620.102                purchase of the house  \n",
       "1      17932.802                         car purchase  \n",
       "2      23341.752                purchase of the house  \n",
       "3      42820.568              supplementary education  \n",
       "4      25378.572                    to have a wedding  \n",
       "5      40922.170                purchase of the house  \n",
       "6      38484.156                 housing transactions  \n",
       "7      21731.829                            education  \n",
       "8      15337.093                     having a wedding  \n",
       "9      23108.150  purchase of the house for my family  \n",
       "10     18230.959                      buy real estate  \n",
       "11     12331.077           buy commercial real estate  \n",
       "12           NaN                    to have a wedding  \n",
       "13     20873.317                         car purchase  \n",
       "14     26420.466          buy residential real estate  "
      ]
     },
     "execution_count": 36,
     "metadata": {},
     "output_type": "execute_result"
    }
   ],
   "source": [
    "data.head(15) # checking to see that the extra column is gone"
   ]
  },
  {
   "cell_type": "code",
   "execution_count": 37,
   "metadata": {},
   "outputs": [
    {
     "name": "stdout",
     "output_type": "stream",
     "text": [
      "<class 'pandas.core.frame.DataFrame'>\n",
      "RangeIndex: 21525 entries, 0 to 21524\n",
      "Data columns (total 12 columns):\n",
      " #   Column            Non-Null Count  Dtype  \n",
      "---  ------            --------------  -----  \n",
      " 0   children          21525 non-null  int64  \n",
      " 1   days_employed     19351 non-null  float64\n",
      " 2   age               21525 non-null  int64  \n",
      " 3   education         21525 non-null  object \n",
      " 4   education_id      21525 non-null  int64  \n",
      " 5   family_status     21525 non-null  object \n",
      " 6   family_status_id  21525 non-null  int64  \n",
      " 7   gender            21525 non-null  object \n",
      " 8   income_type       21525 non-null  object \n",
      " 9   debt              21525 non-null  int64  \n",
      " 10  total_income      19351 non-null  float64\n",
      " 11  purpose           21525 non-null  object \n",
      "dtypes: float64(2), int64(5), object(5)\n",
      "memory usage: 2.0+ MB\n"
     ]
    }
   ],
   "source": [
    "data.info()"
   ]
  },
  {
   "cell_type": "markdown",
   "metadata": {},
   "source": [
    "Phew! It worked."
   ]
  },
  {
   "cell_type": "markdown",
   "metadata": {},
   "source": [
    "<div style=\"border:solid green 2px; padding: 20px\"> <b>Success:</b><br>\n",
    " It's important to process <code>days_employed</code> column. There are firstly many abnormally high values, and secondly negative values. It's great that you noticed this and used your own methods to process them 🔥  Thank you for your bright idea!</div> "
   ]
  },
  {
   "cell_type": "markdown",
   "metadata": {},
   "source": [
    "<div style=\"border:solid orange 2px; padding: 20px\"> <b>Remarks:</b><br>\n",
    "  \n",
    "How else could this problem still be solved:\n",
    "\n",
    "    \n",
    "* Roughly calculate how many maximum years the person could work to his current age (if he is 60 years old, then 60-18=42 years). The working days are approximately 257. 257*42=10794 days at most could work in his lifetime. Think of a conditional error, let it be 1000 (if let's say he is a workaholic and worked all the time or started working at an earlier age. 10794 + 1000 = 11794. Compare this number with the value in the `days_employed` column. If 11794 < days_employed, fill in NaN. Then fill in the missing values with the median `days_employed`, grouping by `dob_years`.\n",
    "\n",
    "* Assume what the maximum `days_employed`  is possible based on age (by estimating how many days per year a person works) and replace all abnormally high values simply by the maximum possible `days_employed` for each person. Suppose the person is 60 years old. Then he can have a maximum length of service of 60-18=42 years. And for a person 20 years old, the maximum length of service is 2 years. Then we fill in their `days_employed`with these values.\n",
    "\n",
    "</div>"
   ]
  },
  {
   "cell_type": "code",
   "execution_count": 38,
   "metadata": {},
   "outputs": [],
   "source": [
    "#problem_entries = []\n",
    "\n",
    "#for value in data['abs_days_employed']:\n",
    "#    try:\n",
    "#        value = int(value)\n",
    "#    except:\n",
    "#        problem_entries.append(value)\n",
    "\n",
    "#print(problem_entries)"
   ]
  },
  {
   "cell_type": "markdown",
   "metadata": {},
   "source": [
    "<div style=\"border:solid orange 2px; padding: 20px\"> <b>Remarks:</b><br>\n",
    "    If you are not going to use this code in the future, it is better to delete it.</div>  "
   ]
  },
  {
   "cell_type": "markdown",
   "metadata": {},
   "source": [
    "### *MOVING ON*"
   ]
  },
  {
   "cell_type": "code",
   "execution_count": 39,
   "metadata": {},
   "outputs": [
    {
     "data": {
      "text/plain": [
       "count    21525.000000\n",
       "mean        43.293380\n",
       "std         12.574584\n",
       "min          0.000000\n",
       "25%         33.000000\n",
       "50%         42.000000\n",
       "75%         53.000000\n",
       "max         75.000000\n",
       "Name: age, dtype: float64"
      ]
     },
     "execution_count": 39,
     "metadata": {},
     "output_type": "execute_result"
    }
   ],
   "source": [
    "data['age'].describe()"
   ]
  },
  {
   "cell_type": "markdown",
   "metadata": {},
   "source": [
    "Hmmm"
   ]
  },
  {
   "cell_type": "code",
   "execution_count": 40,
   "metadata": {},
   "outputs": [
    {
     "data": {
      "text/html": [
       "<div>\n",
       "<style scoped>\n",
       "    .dataframe tbody tr th:only-of-type {\n",
       "        vertical-align: middle;\n",
       "    }\n",
       "\n",
       "    .dataframe tbody tr th {\n",
       "        vertical-align: top;\n",
       "    }\n",
       "\n",
       "    .dataframe thead th {\n",
       "        text-align: right;\n",
       "    }\n",
       "</style>\n",
       "<table border=\"1\" class=\"dataframe\">\n",
       "  <thead>\n",
       "    <tr style=\"text-align: right;\">\n",
       "      <th></th>\n",
       "      <th>children</th>\n",
       "      <th>days_employed</th>\n",
       "      <th>age</th>\n",
       "      <th>education</th>\n",
       "      <th>education_id</th>\n",
       "      <th>family_status</th>\n",
       "      <th>family_status_id</th>\n",
       "      <th>gender</th>\n",
       "      <th>income_type</th>\n",
       "      <th>debt</th>\n",
       "      <th>total_income</th>\n",
       "      <th>purpose</th>\n",
       "    </tr>\n",
       "  </thead>\n",
       "  <tbody>\n",
       "    <tr>\n",
       "      <th>99</th>\n",
       "      <td>0</td>\n",
       "      <td>14439.234121</td>\n",
       "      <td>0</td>\n",
       "      <td>Secondary Education</td>\n",
       "      <td>1</td>\n",
       "      <td>married</td>\n",
       "      <td>0</td>\n",
       "      <td>F</td>\n",
       "      <td>retiree</td>\n",
       "      <td>0</td>\n",
       "      <td>11406.644</td>\n",
       "      <td>car</td>\n",
       "    </tr>\n",
       "    <tr>\n",
       "      <th>149</th>\n",
       "      <td>0</td>\n",
       "      <td>2664.273168</td>\n",
       "      <td>0</td>\n",
       "      <td>secondary education</td>\n",
       "      <td>1</td>\n",
       "      <td>divorced</td>\n",
       "      <td>3</td>\n",
       "      <td>F</td>\n",
       "      <td>employee</td>\n",
       "      <td>0</td>\n",
       "      <td>11228.230</td>\n",
       "      <td>housing transactions</td>\n",
       "    </tr>\n",
       "    <tr>\n",
       "      <th>270</th>\n",
       "      <td>3</td>\n",
       "      <td>1872.663186</td>\n",
       "      <td>0</td>\n",
       "      <td>secondary education</td>\n",
       "      <td>1</td>\n",
       "      <td>married</td>\n",
       "      <td>0</td>\n",
       "      <td>F</td>\n",
       "      <td>employee</td>\n",
       "      <td>0</td>\n",
       "      <td>16346.633</td>\n",
       "      <td>housing renovation</td>\n",
       "    </tr>\n",
       "    <tr>\n",
       "      <th>578</th>\n",
       "      <td>0</td>\n",
       "      <td>16577.356876</td>\n",
       "      <td>0</td>\n",
       "      <td>secondary education</td>\n",
       "      <td>1</td>\n",
       "      <td>married</td>\n",
       "      <td>0</td>\n",
       "      <td>F</td>\n",
       "      <td>retiree</td>\n",
       "      <td>0</td>\n",
       "      <td>15619.310</td>\n",
       "      <td>construction of own property</td>\n",
       "    </tr>\n",
       "    <tr>\n",
       "      <th>1040</th>\n",
       "      <td>0</td>\n",
       "      <td>1158.029561</td>\n",
       "      <td>0</td>\n",
       "      <td>bachelor's degree</td>\n",
       "      <td>0</td>\n",
       "      <td>divorced</td>\n",
       "      <td>3</td>\n",
       "      <td>F</td>\n",
       "      <td>business</td>\n",
       "      <td>0</td>\n",
       "      <td>48639.062</td>\n",
       "      <td>to own a car</td>\n",
       "    </tr>\n",
       "    <tr>\n",
       "      <th>...</th>\n",
       "      <td>...</td>\n",
       "      <td>...</td>\n",
       "      <td>...</td>\n",
       "      <td>...</td>\n",
       "      <td>...</td>\n",
       "      <td>...</td>\n",
       "      <td>...</td>\n",
       "      <td>...</td>\n",
       "      <td>...</td>\n",
       "      <td>...</td>\n",
       "      <td>...</td>\n",
       "      <td>...</td>\n",
       "    </tr>\n",
       "    <tr>\n",
       "      <th>19829</th>\n",
       "      <td>0</td>\n",
       "      <td>NaN</td>\n",
       "      <td>0</td>\n",
       "      <td>secondary education</td>\n",
       "      <td>1</td>\n",
       "      <td>married</td>\n",
       "      <td>0</td>\n",
       "      <td>F</td>\n",
       "      <td>employee</td>\n",
       "      <td>0</td>\n",
       "      <td>NaN</td>\n",
       "      <td>housing</td>\n",
       "    </tr>\n",
       "    <tr>\n",
       "      <th>20462</th>\n",
       "      <td>0</td>\n",
       "      <td>14113.952856</td>\n",
       "      <td>0</td>\n",
       "      <td>secondary education</td>\n",
       "      <td>1</td>\n",
       "      <td>married</td>\n",
       "      <td>0</td>\n",
       "      <td>F</td>\n",
       "      <td>retiree</td>\n",
       "      <td>0</td>\n",
       "      <td>41471.027</td>\n",
       "      <td>purchase of my own house</td>\n",
       "    </tr>\n",
       "    <tr>\n",
       "      <th>20577</th>\n",
       "      <td>0</td>\n",
       "      <td>13822.552977</td>\n",
       "      <td>0</td>\n",
       "      <td>secondary education</td>\n",
       "      <td>1</td>\n",
       "      <td>unmarried</td>\n",
       "      <td>4</td>\n",
       "      <td>F</td>\n",
       "      <td>retiree</td>\n",
       "      <td>0</td>\n",
       "      <td>20766.202</td>\n",
       "      <td>property</td>\n",
       "    </tr>\n",
       "    <tr>\n",
       "      <th>21179</th>\n",
       "      <td>2</td>\n",
       "      <td>108.967042</td>\n",
       "      <td>0</td>\n",
       "      <td>bachelor's degree</td>\n",
       "      <td>0</td>\n",
       "      <td>married</td>\n",
       "      <td>0</td>\n",
       "      <td>M</td>\n",
       "      <td>business</td>\n",
       "      <td>0</td>\n",
       "      <td>38512.321</td>\n",
       "      <td>building a real estate</td>\n",
       "    </tr>\n",
       "    <tr>\n",
       "      <th>21313</th>\n",
       "      <td>0</td>\n",
       "      <td>1268.487728</td>\n",
       "      <td>0</td>\n",
       "      <td>secondary education</td>\n",
       "      <td>1</td>\n",
       "      <td>unmarried</td>\n",
       "      <td>4</td>\n",
       "      <td>M</td>\n",
       "      <td>employee</td>\n",
       "      <td>0</td>\n",
       "      <td>24387.070</td>\n",
       "      <td>housing transactions</td>\n",
       "    </tr>\n",
       "  </tbody>\n",
       "</table>\n",
       "<p>101 rows × 12 columns</p>\n",
       "</div>"
      ],
      "text/plain": [
       "       children  days_employed  age            education  education_id  \\\n",
       "99            0   14439.234121    0  Secondary Education             1   \n",
       "149           0    2664.273168    0  secondary education             1   \n",
       "270           3    1872.663186    0  secondary education             1   \n",
       "578           0   16577.356876    0  secondary education             1   \n",
       "1040          0    1158.029561    0    bachelor's degree             0   \n",
       "...         ...            ...  ...                  ...           ...   \n",
       "19829         0            NaN    0  secondary education             1   \n",
       "20462         0   14113.952856    0  secondary education             1   \n",
       "20577         0   13822.552977    0  secondary education             1   \n",
       "21179         2     108.967042    0    bachelor's degree             0   \n",
       "21313         0    1268.487728    0  secondary education             1   \n",
       "\n",
       "      family_status  family_status_id gender income_type  debt  total_income  \\\n",
       "99          married                 0      F     retiree     0     11406.644   \n",
       "149        divorced                 3      F    employee     0     11228.230   \n",
       "270         married                 0      F    employee     0     16346.633   \n",
       "578         married                 0      F     retiree     0     15619.310   \n",
       "1040       divorced                 3      F    business     0     48639.062   \n",
       "...             ...               ...    ...         ...   ...           ...   \n",
       "19829       married                 0      F    employee     0           NaN   \n",
       "20462       married                 0      F     retiree     0     41471.027   \n",
       "20577     unmarried                 4      F     retiree     0     20766.202   \n",
       "21179       married                 0      M    business     0     38512.321   \n",
       "21313     unmarried                 4      M    employee     0     24387.070   \n",
       "\n",
       "                            purpose  \n",
       "99                              car  \n",
       "149            housing transactions  \n",
       "270              housing renovation  \n",
       "578    construction of own property  \n",
       "1040                   to own a car  \n",
       "...                             ...  \n",
       "19829                       housing  \n",
       "20462      purchase of my own house  \n",
       "20577                      property  \n",
       "21179        building a real estate  \n",
       "21313          housing transactions  \n",
       "\n",
       "[101 rows x 12 columns]"
      ]
     },
     "execution_count": 40,
     "metadata": {},
     "output_type": "execute_result"
    }
   ],
   "source": [
    "data.loc[data['age'] == 0]"
   ]
  },
  {
   "cell_type": "markdown",
   "metadata": {},
   "source": [
    "So we have some 101 missing values – people aged zero, some divorced, some already retired... No idea what to do with them right off the bat, but then they won't really affect our analysis. If needed, we could fill them in with smth like median values depending on their income type."
   ]
  },
  {
   "cell_type": "markdown",
   "metadata": {},
   "source": [
    "<div style=\"border:solid green 2px; padding: 20px\"> <b>Success:</b><br>\n",
    " Or just remove them if the percentage of incorrect data is small :)</div>       "
   ]
  },
  {
   "cell_type": "code",
   "execution_count": 41,
   "metadata": {},
   "outputs": [
    {
     "data": {
      "text/plain": [
       "count     19351.000000\n",
       "mean      26787.568355\n",
       "std       16475.450632\n",
       "min        3306.762000\n",
       "25%       16488.504500\n",
       "50%       23202.870000\n",
       "75%       32549.611000\n",
       "max      362496.645000\n",
       "Name: total_income, dtype: float64"
      ]
     },
     "execution_count": 41,
     "metadata": {},
     "output_type": "execute_result"
    }
   ],
   "source": [
    "data['total_income'].describe()"
   ]
  },
  {
   "cell_type": "code",
   "execution_count": 42,
   "metadata": {},
   "outputs": [
    {
     "data": {
      "text/plain": [
       "children               0\n",
       "days_employed       2174\n",
       "age                    0\n",
       "education              0\n",
       "education_id           0\n",
       "family_status          0\n",
       "family_status_id       0\n",
       "gender                 0\n",
       "income_type            0\n",
       "debt                   0\n",
       "total_income        2174\n",
       "purpose                0\n",
       "dtype: int64"
      ]
     },
     "execution_count": 42,
     "metadata": {},
     "output_type": "execute_result"
    }
   ],
   "source": [
    "data.isnull().sum()"
   ]
  },
  {
   "cell_type": "markdown",
   "metadata": {},
   "source": [
    "The data under 'total_income' looks good, only there are 2174 missing values. Let's see what they look like:"
   ]
  },
  {
   "cell_type": "code",
   "execution_count": 43,
   "metadata": {},
   "outputs": [
    {
     "data": {
      "text/plain": [
       "12      NaN\n",
       "26      NaN\n",
       "29      NaN\n",
       "41      NaN\n",
       "55      NaN\n",
       "         ..\n",
       "21489   NaN\n",
       "21495   NaN\n",
       "21497   NaN\n",
       "21502   NaN\n",
       "21510   NaN\n",
       "Name: total_income, Length: 2174, dtype: float64"
      ]
     },
     "execution_count": 43,
     "metadata": {},
     "output_type": "execute_result"
    }
   ],
   "source": [
    "data.loc[data['total_income'].isnull()]['total_income']"
   ]
  },
  {
   "cell_type": "markdown",
   "metadata": {},
   "source": [
    "It seems entirely reasonable that there would be a number of people without an income to declare. Indeed, let's take a look – it's quite possible these are the same people who didn't put down any days employed."
   ]
  },
  {
   "cell_type": "code",
   "execution_count": 44,
   "metadata": {},
   "outputs": [
    {
     "data": {
      "text/plain": [
       "children            2174\n",
       "days_employed          0\n",
       "age                 2174\n",
       "education           2174\n",
       "education_id        2174\n",
       "family_status       2174\n",
       "family_status_id    2174\n",
       "gender              2174\n",
       "income_type         2174\n",
       "debt                2174\n",
       "total_income           0\n",
       "purpose             2174\n",
       "dtype: int64"
      ]
     },
     "execution_count": 44,
     "metadata": {},
     "output_type": "execute_result"
    }
   ],
   "source": [
    "data.loc[(data['days_employed'].isnull()) & (data['total_income'].isnull())].count()"
   ]
  },
  {
   "cell_type": "markdown",
   "metadata": {},
   "source": [
    "<div style=\"border:solid green 2px; padding: 20px\"> <b>Success:</b><br>\n",
    " Well done for using condition in the slice to see if the <code>days_employed</code> column and the <code>total_income</code> column have missing values in the same rows 😻  </div>"
   ]
  },
  {
   "cell_type": "markdown",
   "metadata": {},
   "source": [
    "Well, it could make sense. Maybe we can convert these NaNs to zeroes later – or maybe not."
   ]
  },
  {
   "cell_type": "code",
   "execution_count": 45,
   "metadata": {},
   "outputs": [
    {
     "data": {
      "text/plain": [
       "employee         1105\n",
       "business          508\n",
       "retiree           413\n",
       "civil servant     147\n",
       "entrepreneur        1\n",
       "Name: income_type, dtype: int64"
      ]
     },
     "execution_count": 45,
     "metadata": {},
     "output_type": "execute_result"
    }
   ],
   "source": [
    "data.loc[data['total_income'].isnull()]['income_type'].value_counts()"
   ]
  },
  {
   "cell_type": "markdown",
   "metadata": {},
   "source": [
    "This is more of a mystery. Perhaps this is their first day of work? More likely not. It looks like it would make more sense to fill these in after all, according to their income type."
   ]
  },
  {
   "cell_type": "markdown",
   "metadata": {},
   "source": [
    "### Conclusion"
   ]
  },
  {
   "cell_type": "markdown",
   "metadata": {},
   "source": [
    "Just looking at the data, we can see that there is some work to be done in order to bring some of the categorical values in order (different casings and spellings for values in 'education', 'purpose' and other columns. Some are OK, like 'family_status' or 'gender' (except for only one entry that says 'XNA')). \n",
    "\n",
    "Days_employed is pretty messed up, but we managed to deal with it.\n",
    "\n",
    "The number of missing values in total_income is the same as in days employed which, on first glance, could mean those are not a result of a technical/formatting or human error, but that they simply reflect the reality – people who were never employed could not declare any income. Indeed we can verify that they occur in the same rows. However, we also see that those people appear to be employed in various capacities, so that's weird. It's more likely that we need to restore them after all.\n",
    "\n",
    "I would also argue that we could change the data type for the number of days employed to integer – there isn't any point in having those with precision to the number of seconds employed. I wonder how those values could appear in the first place. Perhaps they were first calculated by the bank's programme from some other data, for instance by substracting first day of employment from a datetime item that was in turn formatted to the second, without using the days attribute, and converted to float."
   ]
  },
  {
   "cell_type": "markdown",
   "metadata": {},
   "source": [
    "<div style=\"border:solid green 2px; padding: 20px\"> <b>Success :</b><br>\n",
    "   I like that you wrote such in-depth conclusions and made logical assumptions.  It's really great! 👏👏👏</div> "
   ]
  },
  {
   "cell_type": "markdown",
   "metadata": {},
   "source": [
    "## Data preprocessing"
   ]
  },
  {
   "cell_type": "markdown",
   "metadata": {},
   "source": [
    "### Processing missing values"
   ]
  },
  {
   "cell_type": "code",
   "execution_count": 46,
   "metadata": {},
   "outputs": [
    {
     "data": {
      "text/plain": [
       "children               0\n",
       "days_employed       2174\n",
       "age                    0\n",
       "education              0\n",
       "education_id           0\n",
       "family_status          0\n",
       "family_status_id       0\n",
       "gender                 0\n",
       "income_type            0\n",
       "debt                   0\n",
       "total_income        2174\n",
       "purpose                0\n",
       "dtype: int64"
      ]
     },
     "execution_count": 46,
     "metadata": {},
     "output_type": "execute_result"
    }
   ],
   "source": [
    "data.isnull().sum()"
   ]
  },
  {
   "cell_type": "markdown",
   "metadata": {},
   "source": [
    "OK, so we have the glaring missing values in the two columns, which, as we know, belong to the same rows. But first, remember that there were the not-so obvious zeroes in the 'age' column (since they're not NaN, they are just read as normal quantitative values and are not flagged by isnull()). Let me deal with them first."
   ]
  },
  {
   "cell_type": "markdown",
   "metadata": {},
   "source": [
    "### Filling in missing values in 'age'"
   ]
  },
  {
   "cell_type": "code",
   "execution_count": 47,
   "metadata": {},
   "outputs": [
    {
     "data": {
      "text/plain": [
       "0"
      ]
     },
     "execution_count": 47,
     "metadata": {},
     "output_type": "execute_result"
    }
   ],
   "source": [
    "data['age'].isnull().sum()"
   ]
  },
  {
   "cell_type": "markdown",
   "metadata": {},
   "source": [
    "Nothing to see here. Or is there? -_-"
   ]
  },
  {
   "cell_type": "code",
   "execution_count": 48,
   "metadata": {},
   "outputs": [
    {
     "data": {
      "text/plain": [
       "children            101\n",
       "days_employed        91\n",
       "age                 101\n",
       "education           101\n",
       "education_id        101\n",
       "family_status       101\n",
       "family_status_id    101\n",
       "gender              101\n",
       "income_type         101\n",
       "debt                101\n",
       "total_income         91\n",
       "purpose             101\n",
       "dtype: int64"
      ]
     },
     "execution_count": 48,
     "metadata": {},
     "output_type": "execute_result"
    }
   ],
   "source": [
    "data.loc[data['age'] == 0].count()"
   ]
  },
  {
   "cell_type": "markdown",
   "metadata": {},
   "source": [
    "Here they, zero years old. Let's convert them into Nones, so that we can fill them in later."
   ]
  },
  {
   "cell_type": "code",
   "execution_count": 49,
   "metadata": {},
   "outputs": [],
   "source": [
    "data.loc[data['age'] == 0, ['age']] = None"
   ]
  },
  {
   "cell_type": "code",
   "execution_count": 50,
   "metadata": {},
   "outputs": [
    {
     "data": {
      "text/plain": [
       "101"
      ]
     },
     "execution_count": 50,
     "metadata": {},
     "output_type": "execute_result"
    }
   ],
   "source": [
    "data['age'].isnull().sum()"
   ]
  },
  {
   "cell_type": "markdown",
   "metadata": {},
   "source": [
    "Now the isnull() picks them up as missing values"
   ]
  },
  {
   "cell_type": "markdown",
   "metadata": {},
   "source": [
    "What should we fill them with? I would argue that it makes the most sense to go for the mean or median age according their income_type, since this is the parameter that seems to correlate with different ages best of all."
   ]
  },
  {
   "cell_type": "code",
   "execution_count": 51,
   "metadata": {},
   "outputs": [
    {
     "data": {
      "text/plain": [
       "employee         55\n",
       "retiree          20\n",
       "business         20\n",
       "civil servant     6\n",
       "Name: income_type, dtype: int64"
      ]
     },
     "execution_count": 51,
     "metadata": {},
     "output_type": "execute_result"
    }
   ],
   "source": [
    "# Let's see the breakdown of missing values by income_type\n",
    "data.loc[data['age'].isnull()]['income_type'].value_counts()"
   ]
  },
  {
   "cell_type": "markdown",
   "metadata": {},
   "source": [
    "Let's see what the mean and the median look like for these"
   ]
  },
  {
   "cell_type": "code",
   "execution_count": 52,
   "metadata": {},
   "outputs": [
    {
     "data": {
      "text/plain": [
       "income_type\n",
       "business                       39.854294\n",
       "civil servant                  40.804542\n",
       "employee                       40.018980\n",
       "entrepreneur                   42.500000\n",
       "paternity / maternity leave    39.000000\n",
       "retiree                        59.370959\n",
       "student                        22.000000\n",
       "unemployed                     38.000000\n",
       "Name: age, dtype: float64"
      ]
     },
     "execution_count": 52,
     "metadata": {},
     "output_type": "execute_result"
    }
   ],
   "source": [
    "data.groupby('income_type')['age'].mean()"
   ]
  },
  {
   "cell_type": "code",
   "execution_count": 53,
   "metadata": {},
   "outputs": [
    {
     "data": {
      "text/plain": [
       "income_type\n",
       "business                       39.0\n",
       "civil servant                  40.0\n",
       "employee                       39.0\n",
       "entrepreneur                   42.5\n",
       "paternity / maternity leave    39.0\n",
       "retiree                        60.0\n",
       "student                        22.0\n",
       "unemployed                     38.0\n",
       "Name: age, dtype: float64"
      ]
     },
     "execution_count": 53,
     "metadata": {},
     "output_type": "execute_result"
    }
   ],
   "source": [
    "data.groupby('income_type')['age'].median()"
   ]
  },
  {
   "cell_type": "markdown",
   "metadata": {},
   "source": [
    "Doesn't look like a massive difference. I would also suggest looking at gender differences, since, as we know from the start, female customers constitute the majority in this dataset. So if we were to take median values without accounting for the gender, this would skew the results."
   ]
  },
  {
   "cell_type": "code",
   "execution_count": 54,
   "metadata": {},
   "outputs": [
    {
     "data": {
      "text/plain": [
       "income_type                  gender\n",
       "business                     F         40.181904\n",
       "                             M         39.308347\n",
       "                             XNA       24.000000\n",
       "civil servant                F         41.588400\n",
       "                             M         38.622396\n",
       "employee                     F         40.471492\n",
       "                             M         39.305543\n",
       "entrepreneur                 F         27.000000\n",
       "                             M         58.000000\n",
       "paternity / maternity leave  F         39.000000\n",
       "retiree                      F         59.459382\n",
       "                             M         58.972740\n",
       "student                      M         22.000000\n",
       "unemployed                   F         45.000000\n",
       "                             M         31.000000\n",
       "Name: age, dtype: float64"
      ]
     },
     "execution_count": 54,
     "metadata": {},
     "output_type": "execute_result"
    }
   ],
   "source": [
    "data.groupby(['income_type', 'gender'])['age'].mean()"
   ]
  },
  {
   "cell_type": "code",
   "execution_count": 55,
   "metadata": {},
   "outputs": [
    {
     "data": {
      "text/plain": [
       "income_type                  gender\n",
       "business                     F         40.0\n",
       "                             M         38.0\n",
       "                             XNA       24.0\n",
       "civil servant                F         41.0\n",
       "                             M         37.0\n",
       "employee                     F         40.0\n",
       "                             M         38.0\n",
       "entrepreneur                 F         27.0\n",
       "                             M         58.0\n",
       "paternity / maternity leave  F         39.0\n",
       "retiree                      F         60.0\n",
       "                             M         60.0\n",
       "student                      M         22.0\n",
       "unemployed                   F         45.0\n",
       "                             M         31.0\n",
       "Name: age, dtype: float64"
      ]
     },
     "execution_count": 55,
     "metadata": {},
     "output_type": "execute_result"
    }
   ],
   "source": [
    "data.groupby(['income_type', 'gender'])['age'].median()"
   ]
  },
  {
   "cell_type": "markdown",
   "metadata": {},
   "source": [
    "It's quite a median difference in age – 1 years for employees, and 4 years for civil servants. It's best that we account for that. It may not do much difference for the missing values in age, since there are only 101 of them, but it's good practice and would definitely be advisable when dealing with larger numbers."
   ]
  },
  {
   "cell_type": "markdown",
   "metadata": {},
   "source": [
    "It's not a massive difference for mean and median, but let us go ahead and replace the missing values with the median, just to be on the safe side."
   ]
  },
  {
   "cell_type": "code",
   "execution_count": 56,
   "metadata": {},
   "outputs": [],
   "source": [
    "categories_with_missing_values = ['employee', 'business', 'retiree', 'civil servant']\n",
    "genders = ['F', 'M']\n",
    "\n",
    "for gender in genders:\n",
    "    for cat in categories_with_missing_values:\n",
    "        cat_median_age = data.loc[(data['income_type'] == cat) & (data['gender'] == gender)]['age'].median()\n",
    "        data.loc[(data['income_type'] == cat) & (data['gender'] == gender), 'age'] = data['age'].fillna(cat_median_age)"
   ]
  },
  {
   "cell_type": "markdown",
   "metadata": {},
   "source": [
    "Let us check to see that it worked:"
   ]
  },
  {
   "cell_type": "code",
   "execution_count": 57,
   "metadata": {},
   "outputs": [
    {
     "data": {
      "text/plain": [
       "0"
      ]
     },
     "execution_count": 57,
     "metadata": {},
     "output_type": "execute_result"
    }
   ],
   "source": [
    "data['age'].isnull().sum()"
   ]
  },
  {
   "cell_type": "markdown",
   "metadata": {},
   "source": [
    "<div style=\"border:solid orange 2px; padding: 20px\"> <b>Remarks:</b><br>\n",
    "     \n",
    " Thank you for using your own function to process  `age`  column!\n",
    "But the functions can sometimes overload code and slow it down. That's why it's better not to use functions where you can do without them, for example your code can be written like this: <code> data['age'] = data['age'].fillna(data.groupby(['income_type', 'gender'])['age'].transform('median'))</code>\n",
    "\n",
    "`transform()` method is very useful for such type of cases :)\n",
    "</div>   "
   ]
  },
  {
   "cell_type": "markdown",
   "metadata": {},
   "source": [
    "We can also check that it hasn't distorted the resulting stats:"
   ]
  },
  {
   "cell_type": "code",
   "execution_count": 58,
   "metadata": {},
   "outputs": [
    {
     "data": {
      "text/plain": [
       "income_type                  gender\n",
       "business                     F         40.0\n",
       "                             M         38.0\n",
       "                             XNA       24.0\n",
       "civil servant                F         41.0\n",
       "                             M         37.0\n",
       "employee                     F         40.0\n",
       "                             M         38.0\n",
       "entrepreneur                 F         27.0\n",
       "                             M         58.0\n",
       "paternity / maternity leave  F         39.0\n",
       "retiree                      F         60.0\n",
       "                             M         60.0\n",
       "student                      M         22.0\n",
       "unemployed                   F         45.0\n",
       "                             M         31.0\n",
       "Name: age, dtype: float64"
      ]
     },
     "execution_count": 58,
     "metadata": {},
     "output_type": "execute_result"
    }
   ],
   "source": [
    "data.groupby(['income_type', 'gender'])['age'].median()"
   ]
  },
  {
   "cell_type": "markdown",
   "metadata": {},
   "source": [
    "Looks good! Well, we can't really see any difference, since the values we filled in are about 0,5% to the total number of values, but since we filled them in line with the median values per gender and income_type, this is the result we should expect."
   ]
  },
  {
   "cell_type": "markdown",
   "metadata": {},
   "source": [
    "### Filling in missing values for 'days_employed'"
   ]
  },
  {
   "cell_type": "markdown",
   "metadata": {},
   "source": [
    "We've seen that the missing values for days_employed occur in the same rows as total_income, which could have a logical explanation that people who have never been employed declare zero income. But then a) why would they hope for applying for a loan at a bank? b) why would they be listed as employed in various capacities? More likely, these are properly missing values that should be restored."
   ]
  },
  {
   "cell_type": "code",
   "execution_count": 59,
   "metadata": {},
   "outputs": [
    {
     "data": {
      "text/plain": [
       "170"
      ]
     },
     "execution_count": 59,
     "metadata": {},
     "output_type": "execute_result"
    }
   ],
   "source": [
    "data.loc[data['days_employed'].isnull()]['debt'].sum()"
   ]
  },
  {
   "cell_type": "markdown",
   "metadata": {},
   "source": [
    "Still more reason to restore the missing values as opposed to just dropping the rows, for example – is because this subset of rows accounts for about 10% of all people who have previously defaulted on their loans (over 1700). So removing them completely would skew the data."
   ]
  },
  {
   "cell_type": "markdown",
   "metadata": {},
   "source": [
    "I would suggest to restore the values by inserting median values, based on age, gender and income type, as these seem to be the most pertinent for suggesting the number of days_employed. For example, below we can see how females seem to have a few less recorded days than males, and we could make a plausible assumption that this be due to maternity leave. Since females are the majority in our dataset, we should definitely account for gender. Income_type matters, too: we can see major differences on average for various occupations. And age is pretty much self-explanatory."
   ]
  },
  {
   "cell_type": "code",
   "execution_count": 60,
   "metadata": {},
   "outputs": [
    {
     "data": {
      "text/plain": [
       "age   gender  income_type  \n",
       "19.0  F       business           594.033329\n",
       "              civil servant      509.969922\n",
       "              employee           715.476909\n",
       "      M       business           111.762790\n",
       "              employee           952.725852\n",
       "                                   ...     \n",
       "74.0  F       employee          6682.867814\n",
       "              retiree          15201.939127\n",
       "      M       business          1729.632531\n",
       "              retiree          14359.326504\n",
       "75.0  F       civil servant     1678.969771\n",
       "Name: days_employed, Length: 410, dtype: float64"
      ]
     },
     "execution_count": 60,
     "metadata": {},
     "output_type": "execute_result"
    }
   ],
   "source": [
    "data.groupby(['age', 'gender', 'income_type'])['days_employed'].mean()"
   ]
  },
  {
   "cell_type": "code",
   "execution_count": 61,
   "metadata": {},
   "outputs": [
    {
     "data": {
      "text/plain": [
       "age   gender  income_type  \n",
       "19.0  F       business           710.230781\n",
       "              civil servant      509.969922\n",
       "              employee           793.358581\n",
       "      M       business           111.762790\n",
       "              employee           952.725852\n",
       "                                   ...     \n",
       "74.0  F       employee          6682.867814\n",
       "              retiree          15535.879332\n",
       "      M       business          1729.632531\n",
       "              retiree          14359.326504\n",
       "75.0  F       civil servant     1678.969771\n",
       "Name: days_employed, Length: 410, dtype: float64"
      ]
     },
     "execution_count": 61,
     "metadata": {},
     "output_type": "execute_result"
    }
   ],
   "source": [
    "data.groupby(['age', 'gender', 'income_type'])['days_employed'].median()"
   ]
  },
  {
   "cell_type": "markdown",
   "metadata": {},
   "source": [
    "We can see some difference (in this small subset) for young females whose income_type is business, so let's go with the median values."
   ]
  },
  {
   "cell_type": "code",
   "execution_count": 62,
   "metadata": {},
   "outputs": [],
   "source": [
    "ages = data['age'].unique()\n",
    "genders = ['F', 'M']\n",
    "income_types = ['employee', 'business', 'retiree', 'civil servant', 'entrepreneur']\n",
    "\n",
    "for a in ages:\n",
    "    for g in genders:\n",
    "        for i in income_types:\n",
    "            median_d = data.loc[(data['age'] == a) & (data['gender'] == g) & (data['income_type'] == i)]['days_employed'].median()\n",
    "            data.loc[(data['age'] == a) & (data['gender'] == g) & (data['income_type'] == i), 'days_employed'] = data['days_employed'].fillna(median_d)"
   ]
  },
  {
   "cell_type": "code",
   "execution_count": 63,
   "metadata": {},
   "outputs": [
    {
     "data": {
      "text/plain": [
       "children               0\n",
       "days_employed          5\n",
       "age                    0\n",
       "education              0\n",
       "education_id           0\n",
       "family_status          0\n",
       "family_status_id       0\n",
       "gender                 0\n",
       "income_type            0\n",
       "debt                   0\n",
       "total_income        2174\n",
       "purpose                0\n",
       "dtype: int64"
      ]
     },
     "execution_count": 63,
     "metadata": {},
     "output_type": "execute_result"
    }
   ],
   "source": [
    "# Let's see if it worked:\n",
    "data.isna().sum()"
   ]
  },
  {
   "cell_type": "markdown",
   "metadata": {},
   "source": [
    "Hmm. Let's see why it didn't work for 5 rows."
   ]
  },
  {
   "cell_type": "code",
   "execution_count": 64,
   "metadata": {},
   "outputs": [
    {
     "data": {
      "text/html": [
       "<div>\n",
       "<style scoped>\n",
       "    .dataframe tbody tr th:only-of-type {\n",
       "        vertical-align: middle;\n",
       "    }\n",
       "\n",
       "    .dataframe tbody tr th {\n",
       "        vertical-align: top;\n",
       "    }\n",
       "\n",
       "    .dataframe thead th {\n",
       "        text-align: right;\n",
       "    }\n",
       "</style>\n",
       "<table border=\"1\" class=\"dataframe\">\n",
       "  <thead>\n",
       "    <tr style=\"text-align: right;\">\n",
       "      <th></th>\n",
       "      <th>children</th>\n",
       "      <th>days_employed</th>\n",
       "      <th>age</th>\n",
       "      <th>education</th>\n",
       "      <th>education_id</th>\n",
       "      <th>family_status</th>\n",
       "      <th>family_status_id</th>\n",
       "      <th>gender</th>\n",
       "      <th>income_type</th>\n",
       "      <th>debt</th>\n",
       "      <th>total_income</th>\n",
       "      <th>purpose</th>\n",
       "    </tr>\n",
       "  </thead>\n",
       "  <tbody>\n",
       "    <tr>\n",
       "      <th>3619</th>\n",
       "      <td>0</td>\n",
       "      <td>NaN</td>\n",
       "      <td>24.0</td>\n",
       "      <td>secondary education</td>\n",
       "      <td>1</td>\n",
       "      <td>married</td>\n",
       "      <td>0</td>\n",
       "      <td>F</td>\n",
       "      <td>retiree</td>\n",
       "      <td>0</td>\n",
       "      <td>NaN</td>\n",
       "      <td>purchase of my own house</td>\n",
       "    </tr>\n",
       "    <tr>\n",
       "      <th>5936</th>\n",
       "      <td>0</td>\n",
       "      <td>NaN</td>\n",
       "      <td>58.0</td>\n",
       "      <td>bachelor's degree</td>\n",
       "      <td>0</td>\n",
       "      <td>married</td>\n",
       "      <td>0</td>\n",
       "      <td>M</td>\n",
       "      <td>entrepreneur</td>\n",
       "      <td>0</td>\n",
       "      <td>NaN</td>\n",
       "      <td>buy residential real estate</td>\n",
       "    </tr>\n",
       "    <tr>\n",
       "      <th>17374</th>\n",
       "      <td>0</td>\n",
       "      <td>NaN</td>\n",
       "      <td>69.0</td>\n",
       "      <td>bachelor's degree</td>\n",
       "      <td>0</td>\n",
       "      <td>unmarried</td>\n",
       "      <td>4</td>\n",
       "      <td>F</td>\n",
       "      <td>business</td>\n",
       "      <td>0</td>\n",
       "      <td>NaN</td>\n",
       "      <td>cars</td>\n",
       "    </tr>\n",
       "    <tr>\n",
       "      <th>18175</th>\n",
       "      <td>2</td>\n",
       "      <td>NaN</td>\n",
       "      <td>31.0</td>\n",
       "      <td>secondary education</td>\n",
       "      <td>1</td>\n",
       "      <td>civil partnership</td>\n",
       "      <td>1</td>\n",
       "      <td>F</td>\n",
       "      <td>retiree</td>\n",
       "      <td>0</td>\n",
       "      <td>NaN</td>\n",
       "      <td>wedding ceremony</td>\n",
       "    </tr>\n",
       "    <tr>\n",
       "      <th>18255</th>\n",
       "      <td>0</td>\n",
       "      <td>NaN</td>\n",
       "      <td>38.0</td>\n",
       "      <td>secondary education</td>\n",
       "      <td>1</td>\n",
       "      <td>civil partnership</td>\n",
       "      <td>1</td>\n",
       "      <td>M</td>\n",
       "      <td>retiree</td>\n",
       "      <td>0</td>\n",
       "      <td>NaN</td>\n",
       "      <td>profile education</td>\n",
       "    </tr>\n",
       "  </tbody>\n",
       "</table>\n",
       "</div>"
      ],
      "text/plain": [
       "       children  days_employed   age            education  education_id  \\\n",
       "3619          0            NaN  24.0  secondary education             1   \n",
       "5936          0            NaN  58.0    bachelor's degree             0   \n",
       "17374         0            NaN  69.0    bachelor's degree             0   \n",
       "18175         2            NaN  31.0  secondary education             1   \n",
       "18255         0            NaN  38.0  secondary education             1   \n",
       "\n",
       "           family_status  family_status_id gender   income_type  debt  \\\n",
       "3619             married                 0      F       retiree     0   \n",
       "5936             married                 0      M  entrepreneur     0   \n",
       "17374          unmarried                 4      F      business     0   \n",
       "18175  civil partnership                 1      F       retiree     0   \n",
       "18255  civil partnership                 1      M       retiree     0   \n",
       "\n",
       "       total_income                      purpose  \n",
       "3619            NaN     purchase of my own house  \n",
       "5936            NaN  buy residential real estate  \n",
       "17374           NaN                         cars  \n",
       "18175           NaN             wedding ceremony  \n",
       "18255           NaN            profile education  "
      ]
     },
     "execution_count": 64,
     "metadata": {},
     "output_type": "execute_result"
    }
   ],
   "source": [
    "data.loc[data['days_employed'].isna()]"
   ]
  },
  {
   "cell_type": "code",
   "execution_count": 65,
   "metadata": {},
   "outputs": [
    {
     "data": {
      "text/html": [
       "<div>\n",
       "<style scoped>\n",
       "    .dataframe tbody tr th:only-of-type {\n",
       "        vertical-align: middle;\n",
       "    }\n",
       "\n",
       "    .dataframe tbody tr th {\n",
       "        vertical-align: top;\n",
       "    }\n",
       "\n",
       "    .dataframe thead th {\n",
       "        text-align: right;\n",
       "    }\n",
       "</style>\n",
       "<table border=\"1\" class=\"dataframe\">\n",
       "  <thead>\n",
       "    <tr style=\"text-align: right;\">\n",
       "      <th></th>\n",
       "      <th>children</th>\n",
       "      <th>days_employed</th>\n",
       "      <th>age</th>\n",
       "      <th>education</th>\n",
       "      <th>education_id</th>\n",
       "      <th>family_status</th>\n",
       "      <th>family_status_id</th>\n",
       "      <th>gender</th>\n",
       "      <th>income_type</th>\n",
       "      <th>debt</th>\n",
       "      <th>total_income</th>\n",
       "      <th>purpose</th>\n",
       "    </tr>\n",
       "  </thead>\n",
       "  <tbody>\n",
       "    <tr>\n",
       "      <th>3619</th>\n",
       "      <td>0</td>\n",
       "      <td>NaN</td>\n",
       "      <td>24.0</td>\n",
       "      <td>secondary education</td>\n",
       "      <td>1</td>\n",
       "      <td>married</td>\n",
       "      <td>0</td>\n",
       "      <td>F</td>\n",
       "      <td>retiree</td>\n",
       "      <td>0</td>\n",
       "      <td>NaN</td>\n",
       "      <td>purchase of my own house</td>\n",
       "    </tr>\n",
       "  </tbody>\n",
       "</table>\n",
       "</div>"
      ],
      "text/plain": [
       "      children  days_employed   age            education  education_id  \\\n",
       "3619         0            NaN  24.0  secondary education             1   \n",
       "\n",
       "     family_status  family_status_id gender income_type  debt  total_income  \\\n",
       "3619       married                 0      F     retiree     0           NaN   \n",
       "\n",
       "                       purpose  \n",
       "3619  purchase of my own house  "
      ]
     },
     "execution_count": 65,
     "metadata": {},
     "output_type": "execute_result"
    }
   ],
   "source": [
    "data.loc[(data['age'] == 24.0) & (data['gender'] == 'F') & (data['income_type'] == 'retiree')]"
   ]
  },
  {
   "cell_type": "markdown",
   "metadata": {},
   "source": [
    "Looks like we conditions in my function were too strict for these five entries: as we see above, there were no similar rows for them that contained a day_employed value, so nothing to make a median value from. It would be best to tweak the function a little bit to account for such cases, so let me try to do it below. I would argue that for these 5 cases we can base the median value on age and gender, excluding the income_type. The reason for that is that for some combinations of age and gender, there is only one person of a certain income_type (like with that 24-y.o. retiree, which in itself is interesting). And then, for entrepreneur, there are only two entries in total."
   ]
  },
  {
   "cell_type": "code",
   "execution_count": 66,
   "metadata": {},
   "outputs": [],
   "source": [
    "ages = data['age'].unique()\n",
    "genders = ['F', 'M']\n",
    "income_types = ['employee', 'business', 'retiree', 'civil servant', 'entrepreneur']\n",
    "\n",
    "for a in ages:\n",
    "    for g in genders:\n",
    "        for i in income_types:\n",
    "            if len(data.loc[(data['age'] == a) & (data['gender'] == g) & (data['income_type'] == i)]['days_employed']) > 1:\n",
    "                median_d = data.loc[(data['age'] == a) & (data['gender'] == g) & (data['income_type'] == i)]['days_employed'].median()\n",
    "                data.loc[(data['age'] == a) & (data['gender'] == g) & (data['income_type'] == i), 'days_employed'] = data['days_employed'].fillna(median_d)\n",
    "            else:\n",
    "                median_d = data.loc[(data['age'] == a) & (data['gender'] == g)]['days_employed'].median()\n",
    "                data.loc[(data['age'] == a) & (data['gender'] == g), 'days_employed'] = data['days_employed'].fillna(median_d)"
   ]
  },
  {
   "cell_type": "code",
   "execution_count": 67,
   "metadata": {},
   "outputs": [
    {
     "data": {
      "text/plain": [
       "children               0\n",
       "days_employed          0\n",
       "age                    0\n",
       "education              0\n",
       "education_id           0\n",
       "family_status          0\n",
       "family_status_id       0\n",
       "gender                 0\n",
       "income_type            0\n",
       "debt                   0\n",
       "total_income        2174\n",
       "purpose                0\n",
       "dtype: int64"
      ]
     },
     "execution_count": 67,
     "metadata": {},
     "output_type": "execute_result"
    }
   ],
   "source": [
    "data.isna().sum()"
   ]
  },
  {
   "cell_type": "markdown",
   "metadata": {},
   "source": [
    "Alright! Let's just make sure that those 5 rows have plausible days_employed values now:"
   ]
  },
  {
   "cell_type": "code",
   "execution_count": 68,
   "metadata": {},
   "outputs": [
    {
     "data": {
      "text/html": [
       "<div>\n",
       "<style scoped>\n",
       "    .dataframe tbody tr th:only-of-type {\n",
       "        vertical-align: middle;\n",
       "    }\n",
       "\n",
       "    .dataframe tbody tr th {\n",
       "        vertical-align: top;\n",
       "    }\n",
       "\n",
       "    .dataframe thead th {\n",
       "        text-align: right;\n",
       "    }\n",
       "</style>\n",
       "<table border=\"1\" class=\"dataframe\">\n",
       "  <thead>\n",
       "    <tr style=\"text-align: right;\">\n",
       "      <th></th>\n",
       "      <th>children</th>\n",
       "      <th>days_employed</th>\n",
       "      <th>age</th>\n",
       "      <th>education</th>\n",
       "      <th>education_id</th>\n",
       "      <th>family_status</th>\n",
       "      <th>family_status_id</th>\n",
       "      <th>gender</th>\n",
       "      <th>income_type</th>\n",
       "      <th>debt</th>\n",
       "      <th>total_income</th>\n",
       "      <th>purpose</th>\n",
       "    </tr>\n",
       "  </thead>\n",
       "  <tbody>\n",
       "    <tr>\n",
       "      <th>3619</th>\n",
       "      <td>0</td>\n",
       "      <td>991.631441</td>\n",
       "      <td>24.0</td>\n",
       "      <td>secondary education</td>\n",
       "      <td>1</td>\n",
       "      <td>married</td>\n",
       "      <td>0</td>\n",
       "      <td>F</td>\n",
       "      <td>retiree</td>\n",
       "      <td>0</td>\n",
       "      <td>NaN</td>\n",
       "      <td>purchase of my own house</td>\n",
       "    </tr>\n",
       "    <tr>\n",
       "      <th>5936</th>\n",
       "      <td>0</td>\n",
       "      <td>4136.913687</td>\n",
       "      <td>58.0</td>\n",
       "      <td>bachelor's degree</td>\n",
       "      <td>0</td>\n",
       "      <td>married</td>\n",
       "      <td>0</td>\n",
       "      <td>M</td>\n",
       "      <td>entrepreneur</td>\n",
       "      <td>0</td>\n",
       "      <td>NaN</td>\n",
       "      <td>buy residential real estate</td>\n",
       "    </tr>\n",
       "    <tr>\n",
       "      <th>17374</th>\n",
       "      <td>0</td>\n",
       "      <td>15170.172432</td>\n",
       "      <td>69.0</td>\n",
       "      <td>bachelor's degree</td>\n",
       "      <td>0</td>\n",
       "      <td>unmarried</td>\n",
       "      <td>4</td>\n",
       "      <td>F</td>\n",
       "      <td>business</td>\n",
       "      <td>0</td>\n",
       "      <td>NaN</td>\n",
       "      <td>cars</td>\n",
       "    </tr>\n",
       "    <tr>\n",
       "      <th>18175</th>\n",
       "      <td>2</td>\n",
       "      <td>1312.368018</td>\n",
       "      <td>31.0</td>\n",
       "      <td>secondary education</td>\n",
       "      <td>1</td>\n",
       "      <td>civil partnership</td>\n",
       "      <td>1</td>\n",
       "      <td>F</td>\n",
       "      <td>retiree</td>\n",
       "      <td>0</td>\n",
       "      <td>NaN</td>\n",
       "      <td>wedding ceremony</td>\n",
       "    </tr>\n",
       "    <tr>\n",
       "      <th>18255</th>\n",
       "      <td>0</td>\n",
       "      <td>1577.257358</td>\n",
       "      <td>38.0</td>\n",
       "      <td>secondary education</td>\n",
       "      <td>1</td>\n",
       "      <td>civil partnership</td>\n",
       "      <td>1</td>\n",
       "      <td>M</td>\n",
       "      <td>retiree</td>\n",
       "      <td>0</td>\n",
       "      <td>NaN</td>\n",
       "      <td>profile education</td>\n",
       "    </tr>\n",
       "  </tbody>\n",
       "</table>\n",
       "</div>"
      ],
      "text/plain": [
       "       children  days_employed   age            education  education_id  \\\n",
       "3619          0     991.631441  24.0  secondary education             1   \n",
       "5936          0    4136.913687  58.0    bachelor's degree             0   \n",
       "17374         0   15170.172432  69.0    bachelor's degree             0   \n",
       "18175         2    1312.368018  31.0  secondary education             1   \n",
       "18255         0    1577.257358  38.0  secondary education             1   \n",
       "\n",
       "           family_status  family_status_id gender   income_type  debt  \\\n",
       "3619             married                 0      F       retiree     0   \n",
       "5936             married                 0      M  entrepreneur     0   \n",
       "17374          unmarried                 4      F      business     0   \n",
       "18175  civil partnership                 1      F       retiree     0   \n",
       "18255  civil partnership                 1      M       retiree     0   \n",
       "\n",
       "       total_income                      purpose  \n",
       "3619            NaN     purchase of my own house  \n",
       "5936            NaN  buy residential real estate  \n",
       "17374           NaN                         cars  \n",
       "18175           NaN             wedding ceremony  \n",
       "18255           NaN            profile education  "
      ]
     },
     "execution_count": 68,
     "metadata": {},
     "output_type": "execute_result"
    }
   ],
   "source": [
    "data.loc[[3619, 5936, 17374, 18175, 18255]]"
   ]
  },
  {
   "cell_type": "markdown",
   "metadata": {},
   "source": [
    "Looks good!"
   ]
  },
  {
   "cell_type": "markdown",
   "metadata": {},
   "source": [
    "### Filling in missing values for 'gender'"
   ]
  },
  {
   "cell_type": "markdown",
   "metadata": {},
   "source": [
    "As we saw previously, our built-in methods didn't pick up on any 'standard' missing values in the gender column, but we can spot one 'XNA' value."
   ]
  },
  {
   "cell_type": "code",
   "execution_count": 69,
   "metadata": {},
   "outputs": [
    {
     "data": {
      "text/plain": [
       "F      14236\n",
       "M       7288\n",
       "XNA        1\n",
       "Name: gender, dtype: int64"
      ]
     },
     "execution_count": 69,
     "metadata": {},
     "output_type": "execute_result"
    }
   ],
   "source": [
    "data['gender'].value_counts()"
   ]
  },
  {
   "cell_type": "markdown",
   "metadata": {},
   "source": [
    "Let's have a closer look"
   ]
  },
  {
   "cell_type": "code",
   "execution_count": 70,
   "metadata": {},
   "outputs": [
    {
     "data": {
      "text/html": [
       "<div>\n",
       "<style scoped>\n",
       "    .dataframe tbody tr th:only-of-type {\n",
       "        vertical-align: middle;\n",
       "    }\n",
       "\n",
       "    .dataframe tbody tr th {\n",
       "        vertical-align: top;\n",
       "    }\n",
       "\n",
       "    .dataframe thead th {\n",
       "        text-align: right;\n",
       "    }\n",
       "</style>\n",
       "<table border=\"1\" class=\"dataframe\">\n",
       "  <thead>\n",
       "    <tr style=\"text-align: right;\">\n",
       "      <th></th>\n",
       "      <th>children</th>\n",
       "      <th>days_employed</th>\n",
       "      <th>age</th>\n",
       "      <th>education</th>\n",
       "      <th>education_id</th>\n",
       "      <th>family_status</th>\n",
       "      <th>family_status_id</th>\n",
       "      <th>gender</th>\n",
       "      <th>income_type</th>\n",
       "      <th>debt</th>\n",
       "      <th>total_income</th>\n",
       "      <th>purpose</th>\n",
       "    </tr>\n",
       "  </thead>\n",
       "  <tbody>\n",
       "    <tr>\n",
       "      <th>10701</th>\n",
       "      <td>0</td>\n",
       "      <td>2358.600502</td>\n",
       "      <td>24.0</td>\n",
       "      <td>some college</td>\n",
       "      <td>2</td>\n",
       "      <td>civil partnership</td>\n",
       "      <td>1</td>\n",
       "      <td>XNA</td>\n",
       "      <td>business</td>\n",
       "      <td>0</td>\n",
       "      <td>32624.825</td>\n",
       "      <td>buy real estate</td>\n",
       "    </tr>\n",
       "  </tbody>\n",
       "</table>\n",
       "</div>"
      ],
      "text/plain": [
       "       children  days_employed   age     education  education_id  \\\n",
       "10701         0    2358.600502  24.0  some college             2   \n",
       "\n",
       "           family_status  family_status_id gender income_type  debt  \\\n",
       "10701  civil partnership                 1    XNA    business     0   \n",
       "\n",
       "       total_income          purpose  \n",
       "10701     32624.825  buy real estate  "
      ]
     },
     "execution_count": 70,
     "metadata": {},
     "output_type": "execute_result"
    }
   ],
   "source": [
    "data.loc[data['gender'] == 'XNA']"
   ]
  },
  {
   "cell_type": "markdown",
   "metadata": {},
   "source": [
    "So we can see that this is someone who has started working at a relatively young age, received some college education, and likely runs their own business making a decent total income, whilst being in a civil partnership. XNA is a standard for marking a missing gender value as unknown. It is unlikely to be a case of someone consciously refusing to state their gender or choosing 'prefer not to say', because in that case there would likely be more than a single XNA. However, it seems to me that in this particular case it is unnecessary to try to fill in the missing value, since there is nothing to really give us a clue one way or the other regarding the person's gender. Since it is just one value, and doesn't really affect our project's task, I would simply leave it as it is."
   ]
  },
  {
   "cell_type": "markdown",
   "metadata": {},
   "source": [
    "<div style=\"border:solid green 2px; padding: 20px\"> <b>Success:</b><br>\n",
    "    It's very good that you found gender <code>XNA</code> in our data  👍 we can just delete this row :)</div>       \n",
    "<br>"
   ]
  },
  {
   "cell_type": "markdown",
   "metadata": {},
   "source": [
    "### Filling in missing values for 'total_income'"
   ]
  },
  {
   "cell_type": "markdown",
   "metadata": {},
   "source": [
    "As far as I can see, total_income reflects yearly income – and the value range certainly looks realistic if it reflected data from a European city (maybe a bit low for the U.S. or the UK). In that case, I'd argue it would be best not to consider days_employed and age as factor, but rather stick to gender and income_type."
   ]
  },
  {
   "cell_type": "code",
   "execution_count": 71,
   "metadata": {},
   "outputs": [
    {
     "data": {
      "text/html": [
       "<div>\n",
       "<style scoped>\n",
       "    .dataframe tbody tr th:only-of-type {\n",
       "        vertical-align: middle;\n",
       "    }\n",
       "\n",
       "    .dataframe tbody tr th {\n",
       "        vertical-align: top;\n",
       "    }\n",
       "\n",
       "    .dataframe thead tr th {\n",
       "        text-align: left;\n",
       "    }\n",
       "\n",
       "    .dataframe thead tr:last-of-type th {\n",
       "        text-align: right;\n",
       "    }\n",
       "</style>\n",
       "<table border=\"1\" class=\"dataframe\">\n",
       "  <thead>\n",
       "    <tr>\n",
       "      <th></th>\n",
       "      <th></th>\n",
       "      <th colspan=\"2\" halign=\"left\">total_income</th>\n",
       "    </tr>\n",
       "    <tr>\n",
       "      <th></th>\n",
       "      <th></th>\n",
       "      <th>mean</th>\n",
       "      <th>median</th>\n",
       "    </tr>\n",
       "    <tr>\n",
       "      <th>gender</th>\n",
       "      <th>income_type</th>\n",
       "      <th></th>\n",
       "      <th></th>\n",
       "    </tr>\n",
       "  </thead>\n",
       "  <tbody>\n",
       "    <tr>\n",
       "      <th rowspan=\"7\" valign=\"top\">F</th>\n",
       "      <th>business</th>\n",
       "      <td>29475.489877</td>\n",
       "      <td>25731.3245</td>\n",
       "    </tr>\n",
       "    <tr>\n",
       "      <th>civil servant</th>\n",
       "      <td>24908.849830</td>\n",
       "      <td>21917.1980</td>\n",
       "    </tr>\n",
       "    <tr>\n",
       "      <th>employee</th>\n",
       "      <td>23818.105441</td>\n",
       "      <td>20898.4980</td>\n",
       "    </tr>\n",
       "    <tr>\n",
       "      <th>entrepreneur</th>\n",
       "      <td>79866.103000</td>\n",
       "      <td>79866.1030</td>\n",
       "    </tr>\n",
       "    <tr>\n",
       "      <th>paternity / maternity leave</th>\n",
       "      <td>8612.661000</td>\n",
       "      <td>8612.6610</td>\n",
       "    </tr>\n",
       "    <tr>\n",
       "      <th>retiree</th>\n",
       "      <td>21446.167378</td>\n",
       "      <td>18529.2465</td>\n",
       "    </tr>\n",
       "    <tr>\n",
       "      <th>unemployed</th>\n",
       "      <td>32435.602000</td>\n",
       "      <td>32435.6020</td>\n",
       "    </tr>\n",
       "    <tr>\n",
       "      <th rowspan=\"7\" valign=\"top\">M</th>\n",
       "      <th>business</th>\n",
       "      <td>37284.334474</td>\n",
       "      <td>31491.0080</td>\n",
       "    </tr>\n",
       "    <tr>\n",
       "      <th>civil servant</th>\n",
       "      <td>34036.170503</td>\n",
       "      <td>29754.3915</td>\n",
       "    </tr>\n",
       "    <tr>\n",
       "      <th>employee</th>\n",
       "      <td>28956.563225</td>\n",
       "      <td>25945.7880</td>\n",
       "    </tr>\n",
       "    <tr>\n",
       "      <th>entrepreneur</th>\n",
       "      <td>NaN</td>\n",
       "      <td>NaN</td>\n",
       "    </tr>\n",
       "    <tr>\n",
       "      <th>retiree</th>\n",
       "      <td>24117.476626</td>\n",
       "      <td>20918.3620</td>\n",
       "    </tr>\n",
       "    <tr>\n",
       "      <th>student</th>\n",
       "      <td>15712.260000</td>\n",
       "      <td>15712.2600</td>\n",
       "    </tr>\n",
       "    <tr>\n",
       "      <th>unemployed</th>\n",
       "      <td>9593.119000</td>\n",
       "      <td>9593.1190</td>\n",
       "    </tr>\n",
       "    <tr>\n",
       "      <th>XNA</th>\n",
       "      <th>business</th>\n",
       "      <td>32624.825000</td>\n",
       "      <td>32624.8250</td>\n",
       "    </tr>\n",
       "  </tbody>\n",
       "</table>\n",
       "</div>"
      ],
      "text/plain": [
       "                                    total_income            \n",
       "                                            mean      median\n",
       "gender income_type                                          \n",
       "F      business                     29475.489877  25731.3245\n",
       "       civil servant                24908.849830  21917.1980\n",
       "       employee                     23818.105441  20898.4980\n",
       "       entrepreneur                 79866.103000  79866.1030\n",
       "       paternity / maternity leave   8612.661000   8612.6610\n",
       "       retiree                      21446.167378  18529.2465\n",
       "       unemployed                   32435.602000  32435.6020\n",
       "M      business                     37284.334474  31491.0080\n",
       "       civil servant                34036.170503  29754.3915\n",
       "       employee                     28956.563225  25945.7880\n",
       "       entrepreneur                          NaN         NaN\n",
       "       retiree                      24117.476626  20918.3620\n",
       "       student                      15712.260000  15712.2600\n",
       "       unemployed                    9593.119000   9593.1190\n",
       "XNA    business                     32624.825000  32624.8250"
      ]
     },
     "execution_count": 71,
     "metadata": {},
     "output_type": "execute_result"
    }
   ],
   "source": [
    "data.groupby(['gender', 'income_type']).agg({'total_income': ['mean', 'median']})"
   ]
  },
  {
   "cell_type": "markdown",
   "metadata": {},
   "source": [
    "Judging by the differences between mean and median, it's better to go with median."
   ]
  },
  {
   "cell_type": "code",
   "execution_count": 72,
   "metadata": {},
   "outputs": [],
   "source": [
    "genders = ['F', 'M']\n",
    "income_types = ['employee', 'business', 'retiree', 'civil servant', 'entrepreneur', 'student', 'unemployed']\n",
    "\n",
    "for g in genders:\n",
    "    for i in income_types:\n",
    "        median_ti = data.loc[(data['gender'] == g) & (data['income_type'] == i)]['total_income'].median()\n",
    "        data.loc[(data['gender'] == g) & (data['income_type'] == i), 'total_income'] = data['total_income'].fillna(median_ti)"
   ]
  },
  {
   "cell_type": "code",
   "execution_count": 73,
   "metadata": {},
   "outputs": [
    {
     "data": {
      "text/plain": [
       "children            0\n",
       "days_employed       0\n",
       "age                 0\n",
       "education           0\n",
       "education_id        0\n",
       "family_status       0\n",
       "family_status_id    0\n",
       "gender              0\n",
       "income_type         0\n",
       "debt                0\n",
       "total_income        1\n",
       "purpose             0\n",
       "dtype: int64"
      ]
     },
     "execution_count": 73,
     "metadata": {},
     "output_type": "execute_result"
    }
   ],
   "source": [
    "data.isna().sum()"
   ]
  },
  {
   "cell_type": "markdown",
   "metadata": {},
   "source": [
    "Let's take a look at that remaining row with a missing value"
   ]
  },
  {
   "cell_type": "code",
   "execution_count": 74,
   "metadata": {},
   "outputs": [
    {
     "data": {
      "text/html": [
       "<div>\n",
       "<style scoped>\n",
       "    .dataframe tbody tr th:only-of-type {\n",
       "        vertical-align: middle;\n",
       "    }\n",
       "\n",
       "    .dataframe tbody tr th {\n",
       "        vertical-align: top;\n",
       "    }\n",
       "\n",
       "    .dataframe thead th {\n",
       "        text-align: right;\n",
       "    }\n",
       "</style>\n",
       "<table border=\"1\" class=\"dataframe\">\n",
       "  <thead>\n",
       "    <tr style=\"text-align: right;\">\n",
       "      <th></th>\n",
       "      <th>children</th>\n",
       "      <th>days_employed</th>\n",
       "      <th>age</th>\n",
       "      <th>education</th>\n",
       "      <th>education_id</th>\n",
       "      <th>family_status</th>\n",
       "      <th>family_status_id</th>\n",
       "      <th>gender</th>\n",
       "      <th>income_type</th>\n",
       "      <th>debt</th>\n",
       "      <th>total_income</th>\n",
       "      <th>purpose</th>\n",
       "    </tr>\n",
       "  </thead>\n",
       "  <tbody>\n",
       "    <tr>\n",
       "      <th>5936</th>\n",
       "      <td>0</td>\n",
       "      <td>4136.913687</td>\n",
       "      <td>58.0</td>\n",
       "      <td>bachelor's degree</td>\n",
       "      <td>0</td>\n",
       "      <td>married</td>\n",
       "      <td>0</td>\n",
       "      <td>M</td>\n",
       "      <td>entrepreneur</td>\n",
       "      <td>0</td>\n",
       "      <td>NaN</td>\n",
       "      <td>buy residential real estate</td>\n",
       "    </tr>\n",
       "  </tbody>\n",
       "</table>\n",
       "</div>"
      ],
      "text/plain": [
       "      children  days_employed   age          education  education_id  \\\n",
       "5936         0    4136.913687  58.0  bachelor's degree             0   \n",
       "\n",
       "     family_status  family_status_id gender   income_type  debt  total_income  \\\n",
       "5936       married                 0      M  entrepreneur     0           NaN   \n",
       "\n",
       "                          purpose  \n",
       "5936  buy residential real estate  "
      ]
     },
     "execution_count": 74,
     "metadata": {},
     "output_type": "execute_result"
    }
   ],
   "source": [
    "data.loc[data['total_income'].isna()]"
   ]
  },
  {
   "cell_type": "markdown",
   "metadata": {},
   "source": [
    "This is tricky case: we don't have enough data to get a median value for a male entrepreneur, and we only have one other (female) entrepreneur in our dataset."
   ]
  },
  {
   "cell_type": "code",
   "execution_count": 75,
   "metadata": {},
   "outputs": [
    {
     "data": {
      "text/html": [
       "<div>\n",
       "<style scoped>\n",
       "    .dataframe tbody tr th:only-of-type {\n",
       "        vertical-align: middle;\n",
       "    }\n",
       "\n",
       "    .dataframe tbody tr th {\n",
       "        vertical-align: top;\n",
       "    }\n",
       "\n",
       "    .dataframe thead th {\n",
       "        text-align: right;\n",
       "    }\n",
       "</style>\n",
       "<table border=\"1\" class=\"dataframe\">\n",
       "  <thead>\n",
       "    <tr style=\"text-align: right;\">\n",
       "      <th></th>\n",
       "      <th>children</th>\n",
       "      <th>days_employed</th>\n",
       "      <th>age</th>\n",
       "      <th>education</th>\n",
       "      <th>education_id</th>\n",
       "      <th>family_status</th>\n",
       "      <th>family_status_id</th>\n",
       "      <th>gender</th>\n",
       "      <th>income_type</th>\n",
       "      <th>debt</th>\n",
       "      <th>total_income</th>\n",
       "      <th>purpose</th>\n",
       "    </tr>\n",
       "  </thead>\n",
       "  <tbody>\n",
       "    <tr>\n",
       "      <th>5936</th>\n",
       "      <td>0</td>\n",
       "      <td>4136.913687</td>\n",
       "      <td>58.0</td>\n",
       "      <td>bachelor's degree</td>\n",
       "      <td>0</td>\n",
       "      <td>married</td>\n",
       "      <td>0</td>\n",
       "      <td>M</td>\n",
       "      <td>entrepreneur</td>\n",
       "      <td>0</td>\n",
       "      <td>NaN</td>\n",
       "      <td>buy residential real estate</td>\n",
       "    </tr>\n",
       "    <tr>\n",
       "      <th>18697</th>\n",
       "      <td>0</td>\n",
       "      <td>520.848083</td>\n",
       "      <td>27.0</td>\n",
       "      <td>bachelor's degree</td>\n",
       "      <td>0</td>\n",
       "      <td>civil partnership</td>\n",
       "      <td>1</td>\n",
       "      <td>F</td>\n",
       "      <td>entrepreneur</td>\n",
       "      <td>0</td>\n",
       "      <td>79866.103</td>\n",
       "      <td>having a wedding</td>\n",
       "    </tr>\n",
       "  </tbody>\n",
       "</table>\n",
       "</div>"
      ],
      "text/plain": [
       "       children  days_employed   age          education  education_id  \\\n",
       "5936          0    4136.913687  58.0  bachelor's degree             0   \n",
       "18697         0     520.848083  27.0  bachelor's degree             0   \n",
       "\n",
       "           family_status  family_status_id gender   income_type  debt  \\\n",
       "5936             married                 0      M  entrepreneur     0   \n",
       "18697  civil partnership                 1      F  entrepreneur     0   \n",
       "\n",
       "       total_income                      purpose  \n",
       "5936            NaN  buy residential real estate  \n",
       "18697     79866.103             having a wedding  "
      ]
     },
     "execution_count": 75,
     "metadata": {},
     "output_type": "execute_result"
    }
   ],
   "source": [
    "data.loc[data['income_type'] == 'entrepreneur']"
   ]
  },
  {
   "cell_type": "markdown",
   "metadata": {},
   "source": [
    "So the female entrepreneur is twice as young as the male one, and one thing they have in common apart from their occupation is having a bachelor's degree. We don't have much more data besides that, but the female entrepreneur's total income actually supports our earlier hunch that an entrepreneur would typically have a higher income than a business owner. So I suggest that we go with this assumption and give the male entrepreneur the same total_income. Since it's just one row, we can do this manually."
   ]
  },
  {
   "cell_type": "code",
   "execution_count": 76,
   "metadata": {},
   "outputs": [],
   "source": [
    "data.loc[data['income_type'] == 'entrepreneur', 'total_income'] = 79866.103"
   ]
  },
  {
   "cell_type": "code",
   "execution_count": 77,
   "metadata": {},
   "outputs": [
    {
     "data": {
      "text/plain": [
       "children            0\n",
       "days_employed       0\n",
       "age                 0\n",
       "education           0\n",
       "education_id        0\n",
       "family_status       0\n",
       "family_status_id    0\n",
       "gender              0\n",
       "income_type         0\n",
       "debt                0\n",
       "total_income        0\n",
       "purpose             0\n",
       "dtype: int64"
      ]
     },
     "execution_count": 77,
     "metadata": {},
     "output_type": "execute_result"
    }
   ],
   "source": [
    "# Just to check that it worked:\n",
    "data.isna().sum()"
   ]
  },
  {
   "cell_type": "markdown",
   "metadata": {},
   "source": [
    "Yay!"
   ]
  },
  {
   "cell_type": "markdown",
   "metadata": {},
   "source": [
    "### Conclusion"
   ]
  },
  {
   "cell_type": "markdown",
   "metadata": {},
   "source": [
    "So by going over each column from the beginning looking at value_counts, we discovered that there were missing values in days_employed as well as in total_income. There were also the hidden missing values for age – zeros, and one missing value for gender, marked as XNA. In the case of gender, I decided it best to just leave it in place, because filling in that value based on other data would seem to be pure guesswork. On second reflection, remembering the proportion of females to males in our dataset, I think the only other option would be to just assume it's female – but it too would be a stretch. \n",
    "\n",
    "For age, days_employed and total_income I had to rely on other data to fill in the missing values. It could be argued that the missing values in age are not that important to the dataset in terms of size, but it was still good practice. It also helped me notice the difference in data between females and males, which is important to consider. \n",
    "\n",
    "In the case of days_employed (as with total_income), the amount of rows with missing values was 2174, which is just over 10% of the total amount of rows. Considering that both of these are not pertinent to the main questions of the project task, someone could possibly argue in favour of dropping them. But at the same time, these same rows contain 10% of those who have previously defaulted on their debts – and this column, in turn, is essential to our project's task. So this should tell us that dropping these rows is not a good option.\n",
    "\n",
    "To fill in the missing values for days_employed I used median values of days_employed depending on gender, age and income_type. The reason for using age is pretty obvious – we don't want to end up with more days_employed than \"days lived\", so it's important to control for that. By considering gender, we accounted for the fact that females in the same occupation and age seem to have spent a few days less employed – this could happen for a number of reasons such as more common maternity leave. And by controlling for income_type, we additionally accounted for the differences in days_employed that are observed between business owners, civil servants, employees and retirees. Retirees especially seems to have a well-defined range of days_employed, therefore controlling for this should help keep our data consistent.\n",
    "\n",
    "Even though the missing values for total_income and days_employed occured in the same rows, these two are an example of categories that don't really affect one another, and we saw this in the data. It seems to suggest that total_income records yearly income, which rather depends on the income_type as well as gender, and less so on age. While the gender pay gap that we saw reflects some pretty global societal issues, it's also important for keeping the data consistent. Controlling for income_type, in turn, helped us spot the difference between 'business' and 'entrepreneur', even though there are only two of the latter type in our dataset."
   ]
  },
  {
   "cell_type": "markdown",
   "metadata": {},
   "source": [
    "<div style=\"border:solid green 2px; padding: 20px\"> <b>Success:</b><br>\n",
    "   I really like your approach to data processing! You use in-depth methods of analysis, well done!\n",
    "</div>       "
   ]
  },
  {
   "cell_type": "markdown",
   "metadata": {},
   "source": [
    "### Data type replacement"
   ]
  },
  {
   "cell_type": "markdown",
   "metadata": {},
   "source": [
    "As we can see below, and as we can remember from looking at specific columns, the three columns where we would like to replace data type to make it more convenient are days_employed, age and total_income. Each of them came with values as floating point numbers, which really doesn't make sense for days_employed and age, and is not that important for total income in this case. So let's change all of them to integers. Since they are already numeric values, we can use astype() function to convert them to integers."
   ]
  },
  {
   "cell_type": "code",
   "execution_count": 78,
   "metadata": {},
   "outputs": [
    {
     "name": "stdout",
     "output_type": "stream",
     "text": [
      "<class 'pandas.core.frame.DataFrame'>\n",
      "RangeIndex: 21525 entries, 0 to 21524\n",
      "Data columns (total 12 columns):\n",
      " #   Column            Non-Null Count  Dtype  \n",
      "---  ------            --------------  -----  \n",
      " 0   children          21525 non-null  int64  \n",
      " 1   days_employed     21525 non-null  float64\n",
      " 2   age               21525 non-null  float64\n",
      " 3   education         21525 non-null  object \n",
      " 4   education_id      21525 non-null  int64  \n",
      " 5   family_status     21525 non-null  object \n",
      " 6   family_status_id  21525 non-null  int64  \n",
      " 7   gender            21525 non-null  object \n",
      " 8   income_type       21525 non-null  object \n",
      " 9   debt              21525 non-null  int64  \n",
      " 10  total_income      21525 non-null  float64\n",
      " 11  purpose           21525 non-null  object \n",
      "dtypes: float64(3), int64(4), object(5)\n",
      "memory usage: 2.0+ MB\n"
     ]
    }
   ],
   "source": [
    "data.info()"
   ]
  },
  {
   "cell_type": "code",
   "execution_count": 79,
   "metadata": {},
   "outputs": [],
   "source": [
    "data['days_employed'] = data['days_employed'].astype(int)\n",
    "data['age'] = data['age'].astype(int)\n",
    "data['total_income'] = data['total_income'].astype(int)"
   ]
  },
  {
   "cell_type": "code",
   "execution_count": 80,
   "metadata": {},
   "outputs": [
    {
     "name": "stdout",
     "output_type": "stream",
     "text": [
      "<class 'pandas.core.frame.DataFrame'>\n",
      "RangeIndex: 21525 entries, 0 to 21524\n",
      "Data columns (total 12 columns):\n",
      " #   Column            Non-Null Count  Dtype \n",
      "---  ------            --------------  ----- \n",
      " 0   children          21525 non-null  int64 \n",
      " 1   days_employed     21525 non-null  int64 \n",
      " 2   age               21525 non-null  int64 \n",
      " 3   education         21525 non-null  object\n",
      " 4   education_id      21525 non-null  int64 \n",
      " 5   family_status     21525 non-null  object\n",
      " 6   family_status_id  21525 non-null  int64 \n",
      " 7   gender            21525 non-null  object\n",
      " 8   income_type       21525 non-null  object\n",
      " 9   debt              21525 non-null  int64 \n",
      " 10  total_income      21525 non-null  int64 \n",
      " 11  purpose           21525 non-null  object\n",
      "dtypes: int64(7), object(5)\n",
      "memory usage: 2.0+ MB\n"
     ]
    }
   ],
   "source": [
    "# Checking to see if it worked\n",
    "data.info()"
   ]
  },
  {
   "cell_type": "markdown",
   "metadata": {},
   "source": [
    "<div style=\"border:solid orange 2px; padding: 20px\"> <b>Remarks:</b><br>\n",
    "     Please note that 64 bits is an excessive amount of space for storing your features.  Here you can read more about data type optimization: <br><a>https://medium.com/@vincentteyssier/optimizing-the-size-of-a-pandas-dataframe-for-low-memory-environment-5f07db3d72e</a>\n",
    "</div> "
   ]
  },
  {
   "cell_type": "code",
   "execution_count": 81,
   "metadata": {},
   "outputs": [
    {
     "data": {
      "text/html": [
       "<div>\n",
       "<style scoped>\n",
       "    .dataframe tbody tr th:only-of-type {\n",
       "        vertical-align: middle;\n",
       "    }\n",
       "\n",
       "    .dataframe tbody tr th {\n",
       "        vertical-align: top;\n",
       "    }\n",
       "\n",
       "    .dataframe thead th {\n",
       "        text-align: right;\n",
       "    }\n",
       "</style>\n",
       "<table border=\"1\" class=\"dataframe\">\n",
       "  <thead>\n",
       "    <tr style=\"text-align: right;\">\n",
       "      <th></th>\n",
       "      <th>children</th>\n",
       "      <th>days_employed</th>\n",
       "      <th>age</th>\n",
       "      <th>education</th>\n",
       "      <th>education_id</th>\n",
       "      <th>family_status</th>\n",
       "      <th>family_status_id</th>\n",
       "      <th>gender</th>\n",
       "      <th>income_type</th>\n",
       "      <th>debt</th>\n",
       "      <th>total_income</th>\n",
       "      <th>purpose</th>\n",
       "    </tr>\n",
       "  </thead>\n",
       "  <tbody>\n",
       "    <tr>\n",
       "      <th>0</th>\n",
       "      <td>1</td>\n",
       "      <td>8437</td>\n",
       "      <td>42</td>\n",
       "      <td>bachelor's degree</td>\n",
       "      <td>0</td>\n",
       "      <td>married</td>\n",
       "      <td>0</td>\n",
       "      <td>F</td>\n",
       "      <td>employee</td>\n",
       "      <td>0</td>\n",
       "      <td>40620</td>\n",
       "      <td>purchase of the house</td>\n",
       "    </tr>\n",
       "    <tr>\n",
       "      <th>1</th>\n",
       "      <td>1</td>\n",
       "      <td>4024</td>\n",
       "      <td>36</td>\n",
       "      <td>secondary education</td>\n",
       "      <td>1</td>\n",
       "      <td>married</td>\n",
       "      <td>0</td>\n",
       "      <td>F</td>\n",
       "      <td>employee</td>\n",
       "      <td>0</td>\n",
       "      <td>17932</td>\n",
       "      <td>car purchase</td>\n",
       "    </tr>\n",
       "    <tr>\n",
       "      <th>2</th>\n",
       "      <td>0</td>\n",
       "      <td>5623</td>\n",
       "      <td>33</td>\n",
       "      <td>Secondary Education</td>\n",
       "      <td>1</td>\n",
       "      <td>married</td>\n",
       "      <td>0</td>\n",
       "      <td>M</td>\n",
       "      <td>employee</td>\n",
       "      <td>0</td>\n",
       "      <td>23341</td>\n",
       "      <td>purchase of the house</td>\n",
       "    </tr>\n",
       "    <tr>\n",
       "      <th>3</th>\n",
       "      <td>3</td>\n",
       "      <td>4124</td>\n",
       "      <td>32</td>\n",
       "      <td>secondary education</td>\n",
       "      <td>1</td>\n",
       "      <td>married</td>\n",
       "      <td>0</td>\n",
       "      <td>M</td>\n",
       "      <td>employee</td>\n",
       "      <td>0</td>\n",
       "      <td>42820</td>\n",
       "      <td>supplementary education</td>\n",
       "    </tr>\n",
       "    <tr>\n",
       "      <th>4</th>\n",
       "      <td>0</td>\n",
       "      <td>14177</td>\n",
       "      <td>53</td>\n",
       "      <td>secondary education</td>\n",
       "      <td>1</td>\n",
       "      <td>civil partnership</td>\n",
       "      <td>1</td>\n",
       "      <td>F</td>\n",
       "      <td>retiree</td>\n",
       "      <td>0</td>\n",
       "      <td>25378</td>\n",
       "      <td>to have a wedding</td>\n",
       "    </tr>\n",
       "    <tr>\n",
       "      <th>5</th>\n",
       "      <td>0</td>\n",
       "      <td>926</td>\n",
       "      <td>27</td>\n",
       "      <td>bachelor's degree</td>\n",
       "      <td>0</td>\n",
       "      <td>civil partnership</td>\n",
       "      <td>1</td>\n",
       "      <td>M</td>\n",
       "      <td>business</td>\n",
       "      <td>0</td>\n",
       "      <td>40922</td>\n",
       "      <td>purchase of the house</td>\n",
       "    </tr>\n",
       "    <tr>\n",
       "      <th>6</th>\n",
       "      <td>0</td>\n",
       "      <td>2879</td>\n",
       "      <td>43</td>\n",
       "      <td>bachelor's degree</td>\n",
       "      <td>0</td>\n",
       "      <td>married</td>\n",
       "      <td>0</td>\n",
       "      <td>F</td>\n",
       "      <td>business</td>\n",
       "      <td>0</td>\n",
       "      <td>38484</td>\n",
       "      <td>housing transactions</td>\n",
       "    </tr>\n",
       "    <tr>\n",
       "      <th>7</th>\n",
       "      <td>0</td>\n",
       "      <td>152</td>\n",
       "      <td>50</td>\n",
       "      <td>SECONDARY EDUCATION</td>\n",
       "      <td>1</td>\n",
       "      <td>married</td>\n",
       "      <td>0</td>\n",
       "      <td>M</td>\n",
       "      <td>employee</td>\n",
       "      <td>0</td>\n",
       "      <td>21731</td>\n",
       "      <td>education</td>\n",
       "    </tr>\n",
       "    <tr>\n",
       "      <th>8</th>\n",
       "      <td>2</td>\n",
       "      <td>6929</td>\n",
       "      <td>35</td>\n",
       "      <td>BACHELOR'S DEGREE</td>\n",
       "      <td>0</td>\n",
       "      <td>civil partnership</td>\n",
       "      <td>1</td>\n",
       "      <td>F</td>\n",
       "      <td>employee</td>\n",
       "      <td>0</td>\n",
       "      <td>15337</td>\n",
       "      <td>having a wedding</td>\n",
       "    </tr>\n",
       "    <tr>\n",
       "      <th>9</th>\n",
       "      <td>0</td>\n",
       "      <td>2188</td>\n",
       "      <td>41</td>\n",
       "      <td>secondary education</td>\n",
       "      <td>1</td>\n",
       "      <td>married</td>\n",
       "      <td>0</td>\n",
       "      <td>M</td>\n",
       "      <td>employee</td>\n",
       "      <td>0</td>\n",
       "      <td>23108</td>\n",
       "      <td>purchase of the house for my family</td>\n",
       "    </tr>\n",
       "  </tbody>\n",
       "</table>\n",
       "</div>"
      ],
      "text/plain": [
       "   children  days_employed  age            education  education_id  \\\n",
       "0         1           8437   42    bachelor's degree             0   \n",
       "1         1           4024   36  secondary education             1   \n",
       "2         0           5623   33  Secondary Education             1   \n",
       "3         3           4124   32  secondary education             1   \n",
       "4         0          14177   53  secondary education             1   \n",
       "5         0            926   27    bachelor's degree             0   \n",
       "6         0           2879   43    bachelor's degree             0   \n",
       "7         0            152   50  SECONDARY EDUCATION             1   \n",
       "8         2           6929   35    BACHELOR'S DEGREE             0   \n",
       "9         0           2188   41  secondary education             1   \n",
       "\n",
       "       family_status  family_status_id gender income_type  debt  total_income  \\\n",
       "0            married                 0      F    employee     0         40620   \n",
       "1            married                 0      F    employee     0         17932   \n",
       "2            married                 0      M    employee     0         23341   \n",
       "3            married                 0      M    employee     0         42820   \n",
       "4  civil partnership                 1      F     retiree     0         25378   \n",
       "5  civil partnership                 1      M    business     0         40922   \n",
       "6            married                 0      F    business     0         38484   \n",
       "7            married                 0      M    employee     0         21731   \n",
       "8  civil partnership                 1      F    employee     0         15337   \n",
       "9            married                 0      M    employee     0         23108   \n",
       "\n",
       "                               purpose  \n",
       "0                purchase of the house  \n",
       "1                         car purchase  \n",
       "2                purchase of the house  \n",
       "3              supplementary education  \n",
       "4                    to have a wedding  \n",
       "5                purchase of the house  \n",
       "6                 housing transactions  \n",
       "7                            education  \n",
       "8                     having a wedding  \n",
       "9  purchase of the house for my family  "
      ]
     },
     "execution_count": 81,
     "metadata": {},
     "output_type": "execute_result"
    }
   ],
   "source": [
    "data.head(10)"
   ]
  },
  {
   "cell_type": "markdown",
   "metadata": {},
   "source": [
    "Beautiful ^^."
   ]
  },
  {
   "cell_type": "markdown",
   "metadata": {},
   "source": [
    "### Conclusion"
   ]
  },
  {
   "cell_type": "markdown",
   "metadata": {},
   "source": [
    "We could guess as to why these values came as floats in the first place, but there's not much value to them being floats – they are not scientific calculations or any kind of metrics or even prices, where we would need that precision. With these values, it's easier to operate with nice, round values."
   ]
  },
  {
   "cell_type": "markdown",
   "metadata": {},
   "source": [
    "<div style=\"border:solid green 2px; padding: 20px\"> <b>Success:</b><br>\n",
    "    Yes, that's right. You correctly converted the days_employed and income columns to int format 😊</div>   "
   ]
  },
  {
   "cell_type": "markdown",
   "metadata": {},
   "source": [
    "### Processing duplicates"
   ]
  },
  {
   "cell_type": "markdown",
   "metadata": {},
   "source": [
    "Therer are two main columnds where we need to deal with duplicates. These are 'education' and 'purpose'. We know this from before, when we went over each column and looked at the value count. Let's look at 'education' first."
   ]
  },
  {
   "cell_type": "markdown",
   "metadata": {},
   "source": [
    "### Processing duplicates in 'education'"
   ]
  },
  {
   "cell_type": "code",
   "execution_count": 82,
   "metadata": {},
   "outputs": [
    {
     "data": {
      "text/plain": [
       "secondary education    13750\n",
       "bachelor's degree       4718\n",
       "SECONDARY EDUCATION      772\n",
       "Secondary Education      711\n",
       "some college             668\n",
       "BACHELOR'S DEGREE        274\n",
       "Bachelor's Degree        268\n",
       "primary education        250\n",
       "Some College              47\n",
       "SOME COLLEGE              29\n",
       "PRIMARY EDUCATION         17\n",
       "Primary Education         15\n",
       "graduate degree            4\n",
       "Graduate Degree            1\n",
       "GRADUATE DEGREE            1\n",
       "Name: education, dtype: int64"
      ]
     },
     "execution_count": 82,
     "metadata": {},
     "output_type": "execute_result"
    }
   ],
   "source": [
    "data['education'].value_counts()"
   ]
  },
  {
   "cell_type": "markdown",
   "metadata": {},
   "source": [
    "So here we have the same categories written the same way but in different casings (some all lowercase, some all uppercase and some capitalized first letters). Since this is a relatively simple case, it is appropriate to solve it 'by hand', converting all to lowercase. We can check afterwards if its value_count corresponds to that of 'education_id'."
   ]
  },
  {
   "cell_type": "code",
   "execution_count": 83,
   "metadata": {},
   "outputs": [],
   "source": [
    "data['education'] = data['education'].str.lower()"
   ]
  },
  {
   "cell_type": "markdown",
   "metadata": {},
   "source": [
    "<div style=\"border:solid green 2px; padding: 20px\"> <b>Success:</b><br>\n",
    "    Very well that you converted the columns to lower case using <code>str.lower()</code></div>  "
   ]
  },
  {
   "cell_type": "code",
   "execution_count": 84,
   "metadata": {},
   "outputs": [
    {
     "data": {
      "text/plain": [
       "secondary education    15233\n",
       "bachelor's degree       5260\n",
       "some college             744\n",
       "primary education        282\n",
       "graduate degree            6\n",
       "Name: education, dtype: int64"
      ]
     },
     "execution_count": 84,
     "metadata": {},
     "output_type": "execute_result"
    }
   ],
   "source": [
    "data['education'].value_counts()"
   ]
  },
  {
   "cell_type": "code",
   "execution_count": 85,
   "metadata": {},
   "outputs": [
    {
     "data": {
      "text/plain": [
       "1    15233\n",
       "0     5260\n",
       "2      744\n",
       "3      282\n",
       "4        6\n",
       "Name: education_id, dtype: int64"
      ]
     },
     "execution_count": 85,
     "metadata": {},
     "output_type": "execute_result"
    }
   ],
   "source": [
    "# checking that it corresponds to 'education_id'\n",
    "data['education_id'].value_counts()"
   ]
  },
  {
   "cell_type": "markdown",
   "metadata": {},
   "source": [
    "That was not very hard, but now we can also use the education column to group our data in new ways if needed."
   ]
  },
  {
   "cell_type": "markdown",
   "metadata": {},
   "source": [
    "### Processing duplicates in 'purpose'"
   ]
  },
  {
   "cell_type": "markdown",
   "metadata": {},
   "source": [
    "Let's take a close look."
   ]
  },
  {
   "cell_type": "code",
   "execution_count": 86,
   "metadata": {},
   "outputs": [
    {
     "data": {
      "text/plain": [
       "wedding ceremony                            797\n",
       "having a wedding                            777\n",
       "to have a wedding                           774\n",
       "real estate transactions                    676\n",
       "buy commercial real estate                  664\n",
       "buying property for renting out             653\n",
       "housing transactions                        653\n",
       "transactions with commercial real estate    651\n",
       "purchase of the house                       647\n",
       "housing                                     647\n",
       "purchase of the house for my family         641\n",
       "construction of own property                635\n",
       "property                                    634\n",
       "transactions with my real estate            630\n",
       "building a real estate                      626\n",
       "buy real estate                             624\n",
       "building a property                         620\n",
       "purchase of my own house                    620\n",
       "housing renovation                          612\n",
       "buy residential real estate                 607\n",
       "buying my own car                           505\n",
       "going to university                         496\n",
       "car                                         495\n",
       "second-hand car purchase                    489\n",
       "to own a car                                480\n",
       "buying a second-hand car                    479\n",
       "cars                                        478\n",
       "to buy a car                                472\n",
       "supplementary education                     462\n",
       "car purchase                                462\n",
       "purchase of a car                           455\n",
       "university education                        453\n",
       "education                                   447\n",
       "to get a supplementary education            447\n",
       "getting an education                        443\n",
       "profile education                           436\n",
       "getting higher education                    426\n",
       "to become educated                          412\n",
       "Name: purpose, dtype: int64"
      ]
     },
     "execution_count": 86,
     "metadata": {},
     "output_type": "execute_result"
    }
   ],
   "source": [
    "data['purpose'].value_counts()"
   ]
  },
  {
   "cell_type": "markdown",
   "metadata": {},
   "source": [
    "So it looks like we can safely unify values under all the different wordings for having a wedding ceremony, as well as for car purchase and for education loans. We could use stemming for this, since it should be enough to capture stems of words like 'wedding', 'car' and 'education/educated', but in this case it is even sufficient to use a simple for loop with the 'in' functionality. Housing is a bit trickier, since there are two different purposes – essentially a business-type loan for real estate transactions (buying up office space or property to rent) and something like asking for a mortgage to get a house to live in.\n",
    "\n",
    "For housing the different key words like house or property are so thoroughly mixed in the different wording, that it's easier (and quicker) to just manually make the lists containing what we deem to denote commercial and residential real estate, and go over them with a loop checking if the purpose equals that, and then brining it to one form."
   ]
  },
  {
   "cell_type": "markdown",
   "metadata": {},
   "source": [
    "We can do it in one scoop."
   ]
  },
  {
   "cell_type": "code",
   "execution_count": 87,
   "metadata": {},
   "outputs": [],
   "source": [
    "commercial = ['real estate transactions',\n",
    "              'buy commercial real estate',\n",
    "              'housing transactions',\n",
    "              'buying property for renting out',\n",
    "              'transactions with commercial real estate']\n",
    "residential = ['purchase of the house',\n",
    "               'housing',\n",
    "               'purchase of the house for my family',\n",
    "               'construction of own property',\n",
    "               'property',\n",
    "               'transactions with my real estate',\n",
    "               'building a real estate',\n",
    "               'buy real estate',\n",
    "               'building a property',\n",
    "               'purchase of my own house',\n",
    "               'housing renovation', \n",
    "               'buy residential real estate']\n",
    "\n",
    "for c in commercial:\n",
    "    for purpose in data['purpose']:\n",
    "        if c == purpose:\n",
    "            data['purpose'] = data['purpose'].replace(purpose, 'commercial real estate')\n",
    "            \n",
    "for r in residential:\n",
    "    for purpose in data['purpose']:\n",
    "        if r == purpose:\n",
    "            data['purpose'] = data['purpose'].replace(purpose, 'housing')\n",
    "\n",
    "for purpose in data['purpose']:\n",
    "    if 'wedding' in purpose:\n",
    "        data['purpose'] = data['purpose'].replace(purpose, 'wedding ceremony')\n",
    "    elif 'car' in purpose:\n",
    "        data['purpose'] = data['purpose'].replace(purpose, 'car purchase')\n",
    "    elif 'educat' in purpose or 'university' in purpose:\n",
    "        data['purpose'] = data['purpose'].replace(purpose, 'education')"
   ]
  },
  {
   "cell_type": "markdown",
   "metadata": {},
   "source": [
    "<div style=\"border:solid orange 2px; padding: 20px\"> <b>Remarks:</b><br>\n",
    " \n",
    "The `lemmatization` or `stemming` method is also suitable for this purpose :)</div> "
   ]
  },
  {
   "cell_type": "code",
   "execution_count": 88,
   "metadata": {},
   "outputs": [
    {
     "data": {
      "text/plain": [
       "housing                   7543\n",
       "car purchase              4315\n",
       "education                 4022\n",
       "commercial real estate    3297\n",
       "wedding ceremony          2348\n",
       "Name: purpose, dtype: int64"
      ]
     },
     "execution_count": 88,
     "metadata": {},
     "output_type": "execute_result"
    }
   ],
   "source": [
    "data['purpose'].value_counts()"
   ]
  },
  {
   "cell_type": "markdown",
   "metadata": {},
   "source": [
    "Nice!"
   ]
  },
  {
   "cell_type": "markdown",
   "metadata": {},
   "source": [
    "### Conclusion"
   ]
  },
  {
   "cell_type": "markdown",
   "metadata": {},
   "source": [
    "So in some categoris we had no duplicates – like in family status, which was helpful. But we had a lot entries that denote the same loan purpose or the same education background. Education was a bit easier to deal with technically – it was enough to just bring all values to lowercase to have them normalised – now they are distinct categorical values meaning different things, which is much better. We can see clearly how many have which education.\n",
    "\n",
    "Same thing with loan purpose, even though it was a bit trickier, since the values that potentially mean the same thing were much more varied in writing. It could be the result of a customer stating the purpose of the loan or a bank clerk entering the data manually every time. It could be useful to apply stemming or lemmatization techniques in order to deal with these values, but honestly it seemed like for the purpose of this dataset, and looking over value_counts, it was much quicker to do this one 'by hand' – and it worked."
   ]
  },
  {
   "cell_type": "markdown",
   "metadata": {},
   "source": [
    "<div style=\"border:solid green 2px; padding: 20px\"> <b>Success:</b><br>\n",
    "   Your method is correct and you have written the function correctly to categorise the purpose of the loan. </div>   \n"
   ]
  },
  {
   "cell_type": "markdown",
   "metadata": {},
   "source": [
    "### Categorizing Data"
   ]
  },
  {
   "cell_type": "markdown",
   "metadata": {},
   "source": [
    "Looking ahead at the project's main questions, I would argue that our main concern for the task would be to create new general categories such as kids/no kids based on the children column, married/not married based on family status as well as income range groups based on the total_income column. We don't need to do anything else to the purpose column since it's already broken down into clear categories.\n",
    "\n",
    "That will help us calculate the 'crude' default rate in answer to each of the four questions ('crude' if we just compare the default rate, for example, for kids versus no kids), and then look at the more granular differences between the values (for example, the number of chidren from 1 to 5).\n",
    "\n",
    "But for the sake of practice and also making our data more reusable and pleasant to look at, I would also suggest creating two additional categories: work experience (such as '0-2 years', 2-5 years', etc.) based on days_employed, and age groups based on age. Let's start with those two."
   ]
  },
  {
   "cell_type": "markdown",
   "metadata": {},
   "source": [
    "Before categorizing into age groups, it's useful to look at the distribution, which we can also very handily lay out by age in ascending order."
   ]
  },
  {
   "cell_type": "code",
   "execution_count": 89,
   "metadata": {},
   "outputs": [
    {
     "data": {
      "text/plain": [
       "19     14\n",
       "20     51\n",
       "21    111\n",
       "22    183\n",
       "23    254\n",
       "24    264\n",
       "25    357\n",
       "26    408\n",
       "27    493\n",
       "28    503\n",
       "29    545\n",
       "30    540\n",
       "31    560\n",
       "32    510\n",
       "33    581\n",
       "34    603\n",
       "35    617\n",
       "36    555\n",
       "37    538\n",
       "38    625\n",
       "39    573\n",
       "40    657\n",
       "41    612\n",
       "42    597\n",
       "43    513\n",
       "44    547\n",
       "45    497\n",
       "46    475\n",
       "47    480\n",
       "48    538\n",
       "49    508\n",
       "50    514\n",
       "51    448\n",
       "52    484\n",
       "53    459\n",
       "54    479\n",
       "55    443\n",
       "56    487\n",
       "57    460\n",
       "58    461\n",
       "59    444\n",
       "60    397\n",
       "61    355\n",
       "62    352\n",
       "63    269\n",
       "64    265\n",
       "65    194\n",
       "66    183\n",
       "67    167\n",
       "68     99\n",
       "69     85\n",
       "70     65\n",
       "71     58\n",
       "72     33\n",
       "73      8\n",
       "74      6\n",
       "75      1\n",
       "Name: age, dtype: int64"
      ]
     },
     "execution_count": 89,
     "metadata": {},
     "output_type": "execute_result"
    }
   ],
   "source": [
    "data['age'].value_counts().sort_index()"
   ]
  },
  {
   "cell_type": "markdown",
   "metadata": {},
   "source": [
    "Now let's create a new column with age groups. I propose a simple categorization here. Since we shouldn't have anyone under 18 asking for a loan, I'm going to put them into a separate category, and then split the rest into roughly what corresponds to 'students + graduates', 'young professionals', 'mid-level professionals', 'experienced' and 'seniors'."
   ]
  },
  {
   "cell_type": "code",
   "execution_count": 90,
   "metadata": {},
   "outputs": [],
   "source": [
    "def make_age_group(age):\n",
    "\n",
    "    if age < 0 or pd.isna(age):\n",
    "        return 'NA'\n",
    "    elif age < 18:\n",
    "        return 'under 18'\n",
    "    elif 18 <= age < 25:\n",
    "        return '18-24'\n",
    "    elif 25 <= age < 35:\n",
    "        return '25-34'\n",
    "    elif 35 <= age < 50:\n",
    "        return '35-49'\n",
    "    elif 50 <= age < 65:\n",
    "        return '50-64'\n",
    "    elif age >= 65:\n",
    "        return '65+'\n",
    "    \n",
    "data['age_group'] = data['age'].apply(make_age_group)"
   ]
  },
  {
   "cell_type": "markdown",
   "metadata": {},
   "source": [
    "Let's see the result:"
   ]
  },
  {
   "cell_type": "code",
   "execution_count": 91,
   "metadata": {},
   "outputs": [
    {
     "data": {
      "text/plain": [
       "18-24     877\n",
       "25-34    5100\n",
       "35-49    8332\n",
       "50-64    6317\n",
       "65+       899\n",
       "Name: age_group, dtype: int64"
      ]
     },
     "execution_count": 91,
     "metadata": {},
     "output_type": "execute_result"
    }
   ],
   "source": [
    "data['age_group'].value_counts().sort_index()"
   ]
  },
  {
   "cell_type": "markdown",
   "metadata": {},
   "source": [
    "Nice. Now to 'work experience'. The categories here are arbitrary, of course, and they correspon to what seems to corrrespond to levels of experience like 'unexperienced/starting out', 'junior', 'mid-level', 'experienced', 'senioe', 'weathered', 'seen things', etc. :) "
   ]
  },
  {
   "cell_type": "code",
   "execution_count": 92,
   "metadata": {},
   "outputs": [],
   "source": [
    "def make_work_exp_group(de):\n",
    "\n",
    "    if de/365 < 1:\n",
    "        return '0-1 years'\n",
    "    elif 1 <= de/365 < 3:\n",
    "        return '1-3 years'\n",
    "    elif 3 <= de/365 < 5:\n",
    "        return '3-5 years'\n",
    "    elif 5 <= de/365 < 10:\n",
    "        return '5-10 years'\n",
    "    elif 10 <= de/365 < 20:\n",
    "        return '10-20 years'\n",
    "    elif 20 <= de/365 < 30:\n",
    "        return '20-30 years'\n",
    "    elif de/365 >= 30:\n",
    "        return '30+ years'\n",
    "    \n",
    "data['work_experience'] = data['days_employed'].apply(make_work_exp_group)"
   ]
  },
  {
   "cell_type": "markdown",
   "metadata": {},
   "source": [
    "Let's check out the resulting distribution for these groups"
   ]
  },
  {
   "cell_type": "code",
   "execution_count": 93,
   "metadata": {},
   "outputs": [
    {
     "data": {
      "text/plain": [
       "0-1 years      1828\n",
       "1-3 years      4093\n",
       "10-20 years    2451\n",
       "20-30 years     580\n",
       "3-5 years      3704\n",
       "30+ years      4034\n",
       "5-10 years     4835\n",
       "Name: work_experience, dtype: int64"
      ]
     },
     "execution_count": 93,
     "metadata": {},
     "output_type": "execute_result"
    }
   ],
   "source": [
    "data['work_experience'].value_counts().sort_index()"
   ]
  },
  {
   "cell_type": "markdown",
   "metadata": {},
   "source": [
    "Hmm. It turned out an almost even split for the majority of the groups, countring several thousand people per group each, except for the 20-30 years category. Also, the sort_index seems to be reading '3-5 years' as following '20-30', maybe because it reads the first digit only, but that's not such a big issue."
   ]
  },
  {
   "cell_type": "markdown",
   "metadata": {},
   "source": [
    "Next, let me categorize into kids/no kids. Everyone with more than 0 kids will have 'kids' status, everyone with 0 kids will have 'no kids'."
   ]
  },
  {
   "cell_type": "code",
   "execution_count": 94,
   "metadata": {},
   "outputs": [],
   "source": [
    "def make_kids_status(kids):\n",
    "    if kids == 0:\n",
    "        return 'no kids'\n",
    "    else: \n",
    "        return 'kids'\n",
    "    \n",
    "data['kids'] = data['children'].apply(make_kids_status)"
   ]
  },
  {
   "cell_type": "code",
   "execution_count": 95,
   "metadata": {},
   "outputs": [
    {
     "data": {
      "text/plain": [
       "no kids    14149\n",
       "kids        7376\n",
       "Name: kids, dtype: int64"
      ]
     },
     "execution_count": 95,
     "metadata": {},
     "output_type": "execute_result"
    }
   ],
   "source": [
    "# Let's have a look\n",
    "data['kids'].value_counts()"
   ]
  },
  {
   "cell_type": "code",
   "execution_count": 96,
   "metadata": {},
   "outputs": [
    {
     "data": {
      "text/plain": [
       "0    14149\n",
       "1     4865\n",
       "2     2131\n",
       "3      330\n",
       "4       41\n",
       "5        9\n",
       "Name: children, dtype: int64"
      ]
     },
     "execution_count": 96,
     "metadata": {},
     "output_type": "execute_result"
    }
   ],
   "source": [
    "data['children'].value_counts()"
   ]
  },
  {
   "cell_type": "markdown",
   "metadata": {},
   "source": [
    "Looks good."
   ]
  },
  {
   "cell_type": "markdown",
   "metadata": {},
   "source": [
    "Now let's create another simple separation into married / not married. Everyone who is not 'married' will simply become 'not married'."
   ]
  },
  {
   "cell_type": "code",
   "execution_count": 97,
   "metadata": {},
   "outputs": [],
   "source": [
    "def make_marital_status(status):\n",
    "    if status == 'married':\n",
    "        return 'married'\n",
    "    else:\n",
    "        return 'not married'\n",
    "    \n",
    "data['marital_status'] = data['family_status'].apply(make_marital_status)"
   ]
  },
  {
   "cell_type": "code",
   "execution_count": 98,
   "metadata": {},
   "outputs": [
    {
     "data": {
      "text/plain": [
       "married        12380\n",
       "not married     9145\n",
       "Name: marital_status, dtype: int64"
      ]
     },
     "execution_count": 98,
     "metadata": {},
     "output_type": "execute_result"
    }
   ],
   "source": [
    "# Let's have a look\n",
    "data['marital_status'].value_counts()"
   ]
  },
  {
   "cell_type": "code",
   "execution_count": 99,
   "metadata": {},
   "outputs": [
    {
     "data": {
      "text/plain": [
       "married              12380\n",
       "civil partnership     4177\n",
       "unmarried             2813\n",
       "divorced              1195\n",
       "widow / widower        960\n",
       "Name: family_status, dtype: int64"
      ]
     },
     "execution_count": 99,
     "metadata": {},
     "output_type": "execute_result"
    }
   ],
   "source": [
    "data['family_status'].value_counts()"
   ]
  },
  {
   "cell_type": "markdown",
   "metadata": {},
   "source": [
    "Looks right."
   ]
  },
  {
   "cell_type": "markdown",
   "metadata": {},
   "source": [
    "Next up is categories for total income. First, let's look at the distribution. Since there many different values, it's easier to use the describe() method to get a sense of what's going on."
   ]
  },
  {
   "cell_type": "code",
   "execution_count": 100,
   "metadata": {},
   "outputs": [
    {
     "data": {
      "text/plain": [
       "count     21525.000000\n",
       "mean      26435.137933\n",
       "std       15707.161634\n",
       "min        3306.000000\n",
       "25%       17247.000000\n",
       "50%       23034.000000\n",
       "75%       31491.000000\n",
       "max      362496.000000\n",
       "Name: total_income, dtype: float64"
      ]
     },
     "execution_count": 100,
     "metadata": {},
     "output_type": "execute_result"
    }
   ],
   "source": [
    "data['total_income'].describe()"
   ]
  },
  {
   "cell_type": "markdown",
   "metadata": {},
   "source": [
    "Let me split them up into five categories: less than 10000, 10000-20000, 20000-35000, 35000-70000, and 70000+ (remembering our assumption that the total income is per year). These categories sounds like the kind of income ranges typically associated with low income, low-paid work, a junior/entry level professional, and then up the career ladder, plus everything that exceeds an income typical for a senior specialist in a major company."
   ]
  },
  {
   "cell_type": "code",
   "execution_count": 101,
   "metadata": {},
   "outputs": [],
   "source": [
    "def make_income_level_group(income):\n",
    "    if income < 10000:\n",
    "        return 'less than 10,000'\n",
    "    elif 10000 <= income < 20000:\n",
    "        return '10,000-20,000'\n",
    "    elif 20000 <= income < 35000:\n",
    "        return '20,000-35000'\n",
    "    elif 35000 <= income < 70000:\n",
    "        return '35,000-70,000'\n",
    "    elif income >= 70000:\n",
    "        return '70,000+'\n",
    "    \n",
    "data['income_level'] = data['total_income'].apply(make_income_level_group)"
   ]
  },
  {
   "cell_type": "markdown",
   "metadata": {},
   "source": [
    "<div style=\"border:solid orange 2px; padding: 20px\"> <b>Remarks:</b><br>\n",
    "    To categorise the income, I can also suggest using the <code>qcut()</code> method, it will indicate the quartile boundaries, which helps to divide the data into equal parts. And equal parts are more convenient to compare with each other :) \n",
    "\n",
    "This link can be useful:\n",
    "\n",
    "https://www.geeksforgeeks.org/how-to-use-pandas-cut-and-qcut/</div>"
   ]
  },
  {
   "cell_type": "code",
   "execution_count": 102,
   "metadata": {},
   "outputs": [
    {
     "data": {
      "text/plain": [
       "10,000-20,000       6795\n",
       "20,000-35000        9735\n",
       "35,000-70,000       3690\n",
       "70,000+              379\n",
       "less than 10,000     926\n",
       "Name: income_level, dtype: int64"
      ]
     },
     "execution_count": 102,
     "metadata": {},
     "output_type": "execute_result"
    }
   ],
   "source": [
    "data['income_level'].value_counts().sort_index()"
   ]
  },
  {
   "cell_type": "markdown",
   "metadata": {},
   "source": [
    "It worked! Let's just see how it looks when we print out the table."
   ]
  },
  {
   "cell_type": "code",
   "execution_count": 103,
   "metadata": {},
   "outputs": [
    {
     "data": {
      "text/html": [
       "<div>\n",
       "<style scoped>\n",
       "    .dataframe tbody tr th:only-of-type {\n",
       "        vertical-align: middle;\n",
       "    }\n",
       "\n",
       "    .dataframe tbody tr th {\n",
       "        vertical-align: top;\n",
       "    }\n",
       "\n",
       "    .dataframe thead th {\n",
       "        text-align: right;\n",
       "    }\n",
       "</style>\n",
       "<table border=\"1\" class=\"dataframe\">\n",
       "  <thead>\n",
       "    <tr style=\"text-align: right;\">\n",
       "      <th></th>\n",
       "      <th>children</th>\n",
       "      <th>days_employed</th>\n",
       "      <th>age</th>\n",
       "      <th>education</th>\n",
       "      <th>education_id</th>\n",
       "      <th>family_status</th>\n",
       "      <th>family_status_id</th>\n",
       "      <th>gender</th>\n",
       "      <th>income_type</th>\n",
       "      <th>debt</th>\n",
       "      <th>total_income</th>\n",
       "      <th>purpose</th>\n",
       "      <th>age_group</th>\n",
       "      <th>work_experience</th>\n",
       "      <th>kids</th>\n",
       "      <th>marital_status</th>\n",
       "      <th>income_level</th>\n",
       "    </tr>\n",
       "  </thead>\n",
       "  <tbody>\n",
       "    <tr>\n",
       "      <th>0</th>\n",
       "      <td>1</td>\n",
       "      <td>8437</td>\n",
       "      <td>42</td>\n",
       "      <td>bachelor's degree</td>\n",
       "      <td>0</td>\n",
       "      <td>married</td>\n",
       "      <td>0</td>\n",
       "      <td>F</td>\n",
       "      <td>employee</td>\n",
       "      <td>0</td>\n",
       "      <td>40620</td>\n",
       "      <td>housing</td>\n",
       "      <td>35-49</td>\n",
       "      <td>20-30 years</td>\n",
       "      <td>kids</td>\n",
       "      <td>married</td>\n",
       "      <td>35,000-70,000</td>\n",
       "    </tr>\n",
       "    <tr>\n",
       "      <th>1</th>\n",
       "      <td>1</td>\n",
       "      <td>4024</td>\n",
       "      <td>36</td>\n",
       "      <td>secondary education</td>\n",
       "      <td>1</td>\n",
       "      <td>married</td>\n",
       "      <td>0</td>\n",
       "      <td>F</td>\n",
       "      <td>employee</td>\n",
       "      <td>0</td>\n",
       "      <td>17932</td>\n",
       "      <td>car purchase</td>\n",
       "      <td>35-49</td>\n",
       "      <td>10-20 years</td>\n",
       "      <td>kids</td>\n",
       "      <td>married</td>\n",
       "      <td>10,000-20,000</td>\n",
       "    </tr>\n",
       "    <tr>\n",
       "      <th>2</th>\n",
       "      <td>0</td>\n",
       "      <td>5623</td>\n",
       "      <td>33</td>\n",
       "      <td>secondary education</td>\n",
       "      <td>1</td>\n",
       "      <td>married</td>\n",
       "      <td>0</td>\n",
       "      <td>M</td>\n",
       "      <td>employee</td>\n",
       "      <td>0</td>\n",
       "      <td>23341</td>\n",
       "      <td>housing</td>\n",
       "      <td>25-34</td>\n",
       "      <td>10-20 years</td>\n",
       "      <td>no kids</td>\n",
       "      <td>married</td>\n",
       "      <td>20,000-35000</td>\n",
       "    </tr>\n",
       "    <tr>\n",
       "      <th>3</th>\n",
       "      <td>3</td>\n",
       "      <td>4124</td>\n",
       "      <td>32</td>\n",
       "      <td>secondary education</td>\n",
       "      <td>1</td>\n",
       "      <td>married</td>\n",
       "      <td>0</td>\n",
       "      <td>M</td>\n",
       "      <td>employee</td>\n",
       "      <td>0</td>\n",
       "      <td>42820</td>\n",
       "      <td>education</td>\n",
       "      <td>25-34</td>\n",
       "      <td>10-20 years</td>\n",
       "      <td>kids</td>\n",
       "      <td>married</td>\n",
       "      <td>35,000-70,000</td>\n",
       "    </tr>\n",
       "    <tr>\n",
       "      <th>4</th>\n",
       "      <td>0</td>\n",
       "      <td>14177</td>\n",
       "      <td>53</td>\n",
       "      <td>secondary education</td>\n",
       "      <td>1</td>\n",
       "      <td>civil partnership</td>\n",
       "      <td>1</td>\n",
       "      <td>F</td>\n",
       "      <td>retiree</td>\n",
       "      <td>0</td>\n",
       "      <td>25378</td>\n",
       "      <td>wedding ceremony</td>\n",
       "      <td>50-64</td>\n",
       "      <td>30+ years</td>\n",
       "      <td>no kids</td>\n",
       "      <td>not married</td>\n",
       "      <td>20,000-35000</td>\n",
       "    </tr>\n",
       "    <tr>\n",
       "      <th>5</th>\n",
       "      <td>0</td>\n",
       "      <td>926</td>\n",
       "      <td>27</td>\n",
       "      <td>bachelor's degree</td>\n",
       "      <td>0</td>\n",
       "      <td>civil partnership</td>\n",
       "      <td>1</td>\n",
       "      <td>M</td>\n",
       "      <td>business</td>\n",
       "      <td>0</td>\n",
       "      <td>40922</td>\n",
       "      <td>housing</td>\n",
       "      <td>25-34</td>\n",
       "      <td>1-3 years</td>\n",
       "      <td>no kids</td>\n",
       "      <td>not married</td>\n",
       "      <td>35,000-70,000</td>\n",
       "    </tr>\n",
       "    <tr>\n",
       "      <th>6</th>\n",
       "      <td>0</td>\n",
       "      <td>2879</td>\n",
       "      <td>43</td>\n",
       "      <td>bachelor's degree</td>\n",
       "      <td>0</td>\n",
       "      <td>married</td>\n",
       "      <td>0</td>\n",
       "      <td>F</td>\n",
       "      <td>business</td>\n",
       "      <td>0</td>\n",
       "      <td>38484</td>\n",
       "      <td>commercial real estate</td>\n",
       "      <td>35-49</td>\n",
       "      <td>5-10 years</td>\n",
       "      <td>no kids</td>\n",
       "      <td>married</td>\n",
       "      <td>35,000-70,000</td>\n",
       "    </tr>\n",
       "    <tr>\n",
       "      <th>7</th>\n",
       "      <td>0</td>\n",
       "      <td>152</td>\n",
       "      <td>50</td>\n",
       "      <td>secondary education</td>\n",
       "      <td>1</td>\n",
       "      <td>married</td>\n",
       "      <td>0</td>\n",
       "      <td>M</td>\n",
       "      <td>employee</td>\n",
       "      <td>0</td>\n",
       "      <td>21731</td>\n",
       "      <td>education</td>\n",
       "      <td>50-64</td>\n",
       "      <td>0-1 years</td>\n",
       "      <td>no kids</td>\n",
       "      <td>married</td>\n",
       "      <td>20,000-35000</td>\n",
       "    </tr>\n",
       "    <tr>\n",
       "      <th>8</th>\n",
       "      <td>2</td>\n",
       "      <td>6929</td>\n",
       "      <td>35</td>\n",
       "      <td>bachelor's degree</td>\n",
       "      <td>0</td>\n",
       "      <td>civil partnership</td>\n",
       "      <td>1</td>\n",
       "      <td>F</td>\n",
       "      <td>employee</td>\n",
       "      <td>0</td>\n",
       "      <td>15337</td>\n",
       "      <td>wedding ceremony</td>\n",
       "      <td>35-49</td>\n",
       "      <td>10-20 years</td>\n",
       "      <td>kids</td>\n",
       "      <td>not married</td>\n",
       "      <td>10,000-20,000</td>\n",
       "    </tr>\n",
       "    <tr>\n",
       "      <th>9</th>\n",
       "      <td>0</td>\n",
       "      <td>2188</td>\n",
       "      <td>41</td>\n",
       "      <td>secondary education</td>\n",
       "      <td>1</td>\n",
       "      <td>married</td>\n",
       "      <td>0</td>\n",
       "      <td>M</td>\n",
       "      <td>employee</td>\n",
       "      <td>0</td>\n",
       "      <td>23108</td>\n",
       "      <td>housing</td>\n",
       "      <td>35-49</td>\n",
       "      <td>5-10 years</td>\n",
       "      <td>no kids</td>\n",
       "      <td>married</td>\n",
       "      <td>20,000-35000</td>\n",
       "    </tr>\n",
       "    <tr>\n",
       "      <th>10</th>\n",
       "      <td>2</td>\n",
       "      <td>4171</td>\n",
       "      <td>36</td>\n",
       "      <td>bachelor's degree</td>\n",
       "      <td>0</td>\n",
       "      <td>married</td>\n",
       "      <td>0</td>\n",
       "      <td>M</td>\n",
       "      <td>business</td>\n",
       "      <td>0</td>\n",
       "      <td>18230</td>\n",
       "      <td>housing</td>\n",
       "      <td>35-49</td>\n",
       "      <td>10-20 years</td>\n",
       "      <td>kids</td>\n",
       "      <td>married</td>\n",
       "      <td>10,000-20,000</td>\n",
       "    </tr>\n",
       "    <tr>\n",
       "      <th>11</th>\n",
       "      <td>0</td>\n",
       "      <td>792</td>\n",
       "      <td>40</td>\n",
       "      <td>secondary education</td>\n",
       "      <td>1</td>\n",
       "      <td>married</td>\n",
       "      <td>0</td>\n",
       "      <td>F</td>\n",
       "      <td>employee</td>\n",
       "      <td>0</td>\n",
       "      <td>12331</td>\n",
       "      <td>commercial real estate</td>\n",
       "      <td>35-49</td>\n",
       "      <td>1-3 years</td>\n",
       "      <td>no kids</td>\n",
       "      <td>married</td>\n",
       "      <td>10,000-20,000</td>\n",
       "    </tr>\n",
       "    <tr>\n",
       "      <th>12</th>\n",
       "      <td>0</td>\n",
       "      <td>14921</td>\n",
       "      <td>65</td>\n",
       "      <td>secondary education</td>\n",
       "      <td>1</td>\n",
       "      <td>civil partnership</td>\n",
       "      <td>1</td>\n",
       "      <td>M</td>\n",
       "      <td>retiree</td>\n",
       "      <td>0</td>\n",
       "      <td>20918</td>\n",
       "      <td>wedding ceremony</td>\n",
       "      <td>65+</td>\n",
       "      <td>30+ years</td>\n",
       "      <td>no kids</td>\n",
       "      <td>not married</td>\n",
       "      <td>20,000-35000</td>\n",
       "    </tr>\n",
       "    <tr>\n",
       "      <th>13</th>\n",
       "      <td>0</td>\n",
       "      <td>1846</td>\n",
       "      <td>54</td>\n",
       "      <td>some college</td>\n",
       "      <td>2</td>\n",
       "      <td>married</td>\n",
       "      <td>0</td>\n",
       "      <td>F</td>\n",
       "      <td>employee</td>\n",
       "      <td>0</td>\n",
       "      <td>20873</td>\n",
       "      <td>car purchase</td>\n",
       "      <td>50-64</td>\n",
       "      <td>5-10 years</td>\n",
       "      <td>no kids</td>\n",
       "      <td>married</td>\n",
       "      <td>20,000-35000</td>\n",
       "    </tr>\n",
       "    <tr>\n",
       "      <th>14</th>\n",
       "      <td>0</td>\n",
       "      <td>1844</td>\n",
       "      <td>56</td>\n",
       "      <td>bachelor's degree</td>\n",
       "      <td>0</td>\n",
       "      <td>civil partnership</td>\n",
       "      <td>1</td>\n",
       "      <td>F</td>\n",
       "      <td>business</td>\n",
       "      <td>1</td>\n",
       "      <td>26420</td>\n",
       "      <td>housing</td>\n",
       "      <td>50-64</td>\n",
       "      <td>5-10 years</td>\n",
       "      <td>no kids</td>\n",
       "      <td>not married</td>\n",
       "      <td>20,000-35000</td>\n",
       "    </tr>\n",
       "  </tbody>\n",
       "</table>\n",
       "</div>"
      ],
      "text/plain": [
       "    children  days_employed  age            education  education_id  \\\n",
       "0          1           8437   42    bachelor's degree             0   \n",
       "1          1           4024   36  secondary education             1   \n",
       "2          0           5623   33  secondary education             1   \n",
       "3          3           4124   32  secondary education             1   \n",
       "4          0          14177   53  secondary education             1   \n",
       "5          0            926   27    bachelor's degree             0   \n",
       "6          0           2879   43    bachelor's degree             0   \n",
       "7          0            152   50  secondary education             1   \n",
       "8          2           6929   35    bachelor's degree             0   \n",
       "9          0           2188   41  secondary education             1   \n",
       "10         2           4171   36    bachelor's degree             0   \n",
       "11         0            792   40  secondary education             1   \n",
       "12         0          14921   65  secondary education             1   \n",
       "13         0           1846   54         some college             2   \n",
       "14         0           1844   56    bachelor's degree             0   \n",
       "\n",
       "        family_status  family_status_id gender income_type  debt  \\\n",
       "0             married                 0      F    employee     0   \n",
       "1             married                 0      F    employee     0   \n",
       "2             married                 0      M    employee     0   \n",
       "3             married                 0      M    employee     0   \n",
       "4   civil partnership                 1      F     retiree     0   \n",
       "5   civil partnership                 1      M    business     0   \n",
       "6             married                 0      F    business     0   \n",
       "7             married                 0      M    employee     0   \n",
       "8   civil partnership                 1      F    employee     0   \n",
       "9             married                 0      M    employee     0   \n",
       "10            married                 0      M    business     0   \n",
       "11            married                 0      F    employee     0   \n",
       "12  civil partnership                 1      M     retiree     0   \n",
       "13            married                 0      F    employee     0   \n",
       "14  civil partnership                 1      F    business     1   \n",
       "\n",
       "    total_income                 purpose age_group work_experience     kids  \\\n",
       "0          40620                 housing     35-49     20-30 years     kids   \n",
       "1          17932            car purchase     35-49     10-20 years     kids   \n",
       "2          23341                 housing     25-34     10-20 years  no kids   \n",
       "3          42820               education     25-34     10-20 years     kids   \n",
       "4          25378        wedding ceremony     50-64       30+ years  no kids   \n",
       "5          40922                 housing     25-34       1-3 years  no kids   \n",
       "6          38484  commercial real estate     35-49      5-10 years  no kids   \n",
       "7          21731               education     50-64       0-1 years  no kids   \n",
       "8          15337        wedding ceremony     35-49     10-20 years     kids   \n",
       "9          23108                 housing     35-49      5-10 years  no kids   \n",
       "10         18230                 housing     35-49     10-20 years     kids   \n",
       "11         12331  commercial real estate     35-49       1-3 years  no kids   \n",
       "12         20918        wedding ceremony       65+       30+ years  no kids   \n",
       "13         20873            car purchase     50-64      5-10 years  no kids   \n",
       "14         26420                 housing     50-64      5-10 years  no kids   \n",
       "\n",
       "   marital_status   income_level  \n",
       "0         married  35,000-70,000  \n",
       "1         married  10,000-20,000  \n",
       "2         married   20,000-35000  \n",
       "3         married  35,000-70,000  \n",
       "4     not married   20,000-35000  \n",
       "5     not married  35,000-70,000  \n",
       "6         married  35,000-70,000  \n",
       "7         married   20,000-35000  \n",
       "8     not married  10,000-20,000  \n",
       "9         married   20,000-35000  \n",
       "10        married  10,000-20,000  \n",
       "11        married  10,000-20,000  \n",
       "12    not married   20,000-35000  \n",
       "13        married   20,000-35000  \n",
       "14    not married   20,000-35000  "
      ]
     },
     "execution_count": 103,
     "metadata": {},
     "output_type": "execute_result"
    }
   ],
   "source": [
    "data.head(15)"
   ]
  },
  {
   "cell_type": "markdown",
   "metadata": {},
   "source": [
    "Nice!"
   ]
  },
  {
   "cell_type": "markdown",
   "metadata": {},
   "source": [
    "### Conclusion"
   ]
  },
  {
   "cell_type": "markdown",
   "metadata": {},
   "source": [
    "The original dataset would be hard to use if wanted to analyse something by, say, total income, work experience in days or even age. Grouping data by those values would give us too big a distribution. But when categorized like above (a total of 5 new columns were added), we can potentially tweak our data in any way we want to get a better sense of how income depends on age group, for example, or to find out the relationship between marital status and age, income and education, etc... But let's limit ourselves to the task at hand."
   ]
  },
  {
   "cell_type": "markdown",
   "metadata": {},
   "source": [
    "<div style=\"border:solid green 2px; padding: 20px\"> <b>Success:</b><br>\n",
    "    Good work! 👍 I like that you use our own functions to categorize people by different parameters.</div> "
   ]
  },
  {
   "cell_type": "markdown",
   "metadata": {},
   "source": [
    "## Answer these questions"
   ]
  },
  {
   "cell_type": "markdown",
   "metadata": {},
   "source": [
    "- Is there a relation between having kids and repaying a loan on time?"
   ]
  },
  {
   "cell_type": "markdown",
   "metadata": {},
   "source": [
    "Pivot tables can be used to answer this, and the following, questions. I'll use 'age' for values as a neutral kinds of value that we don't use to answer other questions, and 'count' as aggfunc. (Using 'sum' with a quantitative value like age would mess up the result)."
   ]
  },
  {
   "cell_type": "code",
   "execution_count": 104,
   "metadata": {},
   "outputs": [
    {
     "data": {
      "text/html": [
       "<div>\n",
       "<style scoped>\n",
       "    .dataframe tbody tr th:only-of-type {\n",
       "        vertical-align: middle;\n",
       "    }\n",
       "\n",
       "    .dataframe tbody tr th {\n",
       "        vertical-align: top;\n",
       "    }\n",
       "\n",
       "    .dataframe thead th {\n",
       "        text-align: right;\n",
       "    }\n",
       "</style>\n",
       "<table border=\"1\" class=\"dataframe\">\n",
       "  <thead>\n",
       "    <tr style=\"text-align: right;\">\n",
       "      <th>debt</th>\n",
       "      <th>0</th>\n",
       "      <th>1</th>\n",
       "      <th>All</th>\n",
       "    </tr>\n",
       "    <tr>\n",
       "      <th>kids</th>\n",
       "      <th></th>\n",
       "      <th></th>\n",
       "      <th></th>\n",
       "    </tr>\n",
       "  </thead>\n",
       "  <tbody>\n",
       "    <tr>\n",
       "      <th>kids</th>\n",
       "      <td>6698</td>\n",
       "      <td>678</td>\n",
       "      <td>7376</td>\n",
       "    </tr>\n",
       "    <tr>\n",
       "      <th>no kids</th>\n",
       "      <td>13086</td>\n",
       "      <td>1063</td>\n",
       "      <td>14149</td>\n",
       "    </tr>\n",
       "    <tr>\n",
       "      <th>All</th>\n",
       "      <td>19784</td>\n",
       "      <td>1741</td>\n",
       "      <td>21525</td>\n",
       "    </tr>\n",
       "  </tbody>\n",
       "</table>\n",
       "</div>"
      ],
      "text/plain": [
       "debt         0     1    All\n",
       "kids                       \n",
       "kids      6698   678   7376\n",
       "no kids  13086  1063  14149\n",
       "All      19784  1741  21525"
      ]
     },
     "execution_count": 104,
     "metadata": {},
     "output_type": "execute_result"
    }
   ],
   "source": [
    "data_pivot_kids = data.pivot_table(index = 'kids', columns = 'debt', values = 'age', aggfunc = 'count', margins = True)\n",
    "data_pivot_kids"
   ]
  },
  {
   "cell_type": "markdown",
   "metadata": {},
   "source": [
    "<div style=\"border:solid green 2px; padding: 20px\"> <b>Success:</b><br>\n",
    "   It's great that you're using a pivot table to display the information you need 👍 </div>"
   ]
  },
  {
   "cell_type": "markdown",
   "metadata": {},
   "source": [
    "Very compact! Now we can create an extra column to the right to calculate the default rate. The default rate can be calculated by taking the amount who've defaulted (under '1' column) for each group (kids and no kids) and dividing it by the total amount of people in that group (helpfully present under 'All' thanks to the margins parameter). We can also multiply it by 100 for clarity."
   ]
  },
  {
   "cell_type": "code",
   "execution_count": 105,
   "metadata": {},
   "outputs": [],
   "source": [
    "data_pivot_kids['default_rate'] = (data_pivot_kids[1] / data_pivot_kids['All']) * 100"
   ]
  },
  {
   "cell_type": "code",
   "execution_count": 106,
   "metadata": {},
   "outputs": [
    {
     "data": {
      "text/html": [
       "<div>\n",
       "<style scoped>\n",
       "    .dataframe tbody tr th:only-of-type {\n",
       "        vertical-align: middle;\n",
       "    }\n",
       "\n",
       "    .dataframe tbody tr th {\n",
       "        vertical-align: top;\n",
       "    }\n",
       "\n",
       "    .dataframe thead th {\n",
       "        text-align: right;\n",
       "    }\n",
       "</style>\n",
       "<table border=\"1\" class=\"dataframe\">\n",
       "  <thead>\n",
       "    <tr style=\"text-align: right;\">\n",
       "      <th>debt</th>\n",
       "      <th>0</th>\n",
       "      <th>1</th>\n",
       "      <th>All</th>\n",
       "      <th>default_rate</th>\n",
       "    </tr>\n",
       "    <tr>\n",
       "      <th>kids</th>\n",
       "      <th></th>\n",
       "      <th></th>\n",
       "      <th></th>\n",
       "      <th></th>\n",
       "    </tr>\n",
       "  </thead>\n",
       "  <tbody>\n",
       "    <tr>\n",
       "      <th>kids</th>\n",
       "      <td>6698</td>\n",
       "      <td>678</td>\n",
       "      <td>7376</td>\n",
       "      <td>9.191974</td>\n",
       "    </tr>\n",
       "    <tr>\n",
       "      <th>no kids</th>\n",
       "      <td>13086</td>\n",
       "      <td>1063</td>\n",
       "      <td>14149</td>\n",
       "      <td>7.512898</td>\n",
       "    </tr>\n",
       "    <tr>\n",
       "      <th>All</th>\n",
       "      <td>19784</td>\n",
       "      <td>1741</td>\n",
       "      <td>21525</td>\n",
       "      <td>8.088269</td>\n",
       "    </tr>\n",
       "  </tbody>\n",
       "</table>\n",
       "</div>"
      ],
      "text/plain": [
       "debt         0     1    All  default_rate\n",
       "kids                                     \n",
       "kids      6698   678   7376      9.191974\n",
       "no kids  13086  1063  14149      7.512898\n",
       "All      19784  1741  21525      8.088269"
      ]
     },
     "execution_count": 106,
     "metadata": {},
     "output_type": "execute_result"
    }
   ],
   "source": [
    "data_pivot_kids"
   ]
  },
  {
   "cell_type": "markdown",
   "metadata": {},
   "source": [
    "<div style=\"border:solid orange 2px; padding: 20px\"> <b>Remarks:</b>\n",
    "\n",
    " To avoid making additional calculations for the debtors' share column, I can give you a hint on how to generate a summary table quickly. The <code>columns</code> parameter should be omitted, the <code>values</code> parameter should be set to the debt column, and the <code>aggfunc</code> parameter should be set to the function list ['count', 'sum', 'mean']. The result will be three columns: the total number of borrowers, the number of debtors and the proportion of debtors.\n",
    "    \n",
    "\n",
    " </div> "
   ]
  },
  {
   "cell_type": "markdown",
   "metadata": {},
   "source": [
    "We can see now that the default rate for the dataset as a whole is roughly 8%. It looks like people who have children are a bit more likely to default on their loan: roughly 9,2% of them have done so in the past. Those who don't have children are less likely to do so: the default rate for this group is 7,5%."
   ]
  },
  {
   "cell_type": "markdown",
   "metadata": {},
   "source": [
    "Just in case, I've answered the question taking its wording very literally – therefore kids/no kids. But it's really interesting to see if the default rate is different for people who have kids – does it depend on the number of children? We still have that original column with the number of kids, so let's find out!"
   ]
  },
  {
   "cell_type": "code",
   "execution_count": 107,
   "metadata": {},
   "outputs": [
    {
     "data": {
      "text/html": [
       "<div>\n",
       "<style scoped>\n",
       "    .dataframe tbody tr th:only-of-type {\n",
       "        vertical-align: middle;\n",
       "    }\n",
       "\n",
       "    .dataframe tbody tr th {\n",
       "        vertical-align: top;\n",
       "    }\n",
       "\n",
       "    .dataframe thead th {\n",
       "        text-align: right;\n",
       "    }\n",
       "</style>\n",
       "<table border=\"1\" class=\"dataframe\">\n",
       "  <thead>\n",
       "    <tr style=\"text-align: right;\">\n",
       "      <th>debt</th>\n",
       "      <th>0</th>\n",
       "      <th>1</th>\n",
       "      <th>All</th>\n",
       "    </tr>\n",
       "    <tr>\n",
       "      <th>children</th>\n",
       "      <th></th>\n",
       "      <th></th>\n",
       "      <th></th>\n",
       "    </tr>\n",
       "  </thead>\n",
       "  <tbody>\n",
       "    <tr>\n",
       "      <th>0</th>\n",
       "      <td>13086.0</td>\n",
       "      <td>1063.0</td>\n",
       "      <td>14149</td>\n",
       "    </tr>\n",
       "    <tr>\n",
       "      <th>1</th>\n",
       "      <td>4420.0</td>\n",
       "      <td>445.0</td>\n",
       "      <td>4865</td>\n",
       "    </tr>\n",
       "    <tr>\n",
       "      <th>2</th>\n",
       "      <td>1929.0</td>\n",
       "      <td>202.0</td>\n",
       "      <td>2131</td>\n",
       "    </tr>\n",
       "    <tr>\n",
       "      <th>3</th>\n",
       "      <td>303.0</td>\n",
       "      <td>27.0</td>\n",
       "      <td>330</td>\n",
       "    </tr>\n",
       "    <tr>\n",
       "      <th>4</th>\n",
       "      <td>37.0</td>\n",
       "      <td>4.0</td>\n",
       "      <td>41</td>\n",
       "    </tr>\n",
       "    <tr>\n",
       "      <th>5</th>\n",
       "      <td>9.0</td>\n",
       "      <td>NaN</td>\n",
       "      <td>9</td>\n",
       "    </tr>\n",
       "    <tr>\n",
       "      <th>All</th>\n",
       "      <td>19784.0</td>\n",
       "      <td>1741.0</td>\n",
       "      <td>21525</td>\n",
       "    </tr>\n",
       "  </tbody>\n",
       "</table>\n",
       "</div>"
      ],
      "text/plain": [
       "debt            0       1    All\n",
       "children                        \n",
       "0         13086.0  1063.0  14149\n",
       "1          4420.0   445.0   4865\n",
       "2          1929.0   202.0   2131\n",
       "3           303.0    27.0    330\n",
       "4            37.0     4.0     41\n",
       "5             9.0     NaN      9\n",
       "All       19784.0  1741.0  21525"
      ]
     },
     "execution_count": 107,
     "metadata": {},
     "output_type": "execute_result"
    }
   ],
   "source": [
    "data_pivot_children = data.pivot_table(index = 'children', columns = 'debt', values = 'age', aggfunc = 'count', margins = True)\n",
    "data_pivot_children"
   ]
  },
  {
   "cell_type": "code",
   "execution_count": 108,
   "metadata": {},
   "outputs": [
    {
     "data": {
      "text/html": [
       "<div>\n",
       "<style scoped>\n",
       "    .dataframe tbody tr th:only-of-type {\n",
       "        vertical-align: middle;\n",
       "    }\n",
       "\n",
       "    .dataframe tbody tr th {\n",
       "        vertical-align: top;\n",
       "    }\n",
       "\n",
       "    .dataframe thead th {\n",
       "        text-align: right;\n",
       "    }\n",
       "</style>\n",
       "<table border=\"1\" class=\"dataframe\">\n",
       "  <thead>\n",
       "    <tr style=\"text-align: right;\">\n",
       "      <th>debt</th>\n",
       "      <th>0</th>\n",
       "      <th>1</th>\n",
       "      <th>All</th>\n",
       "      <th>default_rate</th>\n",
       "    </tr>\n",
       "    <tr>\n",
       "      <th>children</th>\n",
       "      <th></th>\n",
       "      <th></th>\n",
       "      <th></th>\n",
       "      <th></th>\n",
       "    </tr>\n",
       "  </thead>\n",
       "  <tbody>\n",
       "    <tr>\n",
       "      <th>0</th>\n",
       "      <td>13086.0</td>\n",
       "      <td>1063.0</td>\n",
       "      <td>14149</td>\n",
       "      <td>7.512898</td>\n",
       "    </tr>\n",
       "    <tr>\n",
       "      <th>1</th>\n",
       "      <td>4420.0</td>\n",
       "      <td>445.0</td>\n",
       "      <td>4865</td>\n",
       "      <td>9.146968</td>\n",
       "    </tr>\n",
       "    <tr>\n",
       "      <th>2</th>\n",
       "      <td>1929.0</td>\n",
       "      <td>202.0</td>\n",
       "      <td>2131</td>\n",
       "      <td>9.479118</td>\n",
       "    </tr>\n",
       "    <tr>\n",
       "      <th>3</th>\n",
       "      <td>303.0</td>\n",
       "      <td>27.0</td>\n",
       "      <td>330</td>\n",
       "      <td>8.181818</td>\n",
       "    </tr>\n",
       "    <tr>\n",
       "      <th>4</th>\n",
       "      <td>37.0</td>\n",
       "      <td>4.0</td>\n",
       "      <td>41</td>\n",
       "      <td>9.756098</td>\n",
       "    </tr>\n",
       "    <tr>\n",
       "      <th>5</th>\n",
       "      <td>9.0</td>\n",
       "      <td>NaN</td>\n",
       "      <td>9</td>\n",
       "      <td>NaN</td>\n",
       "    </tr>\n",
       "    <tr>\n",
       "      <th>All</th>\n",
       "      <td>19784.0</td>\n",
       "      <td>1741.0</td>\n",
       "      <td>21525</td>\n",
       "      <td>8.088269</td>\n",
       "    </tr>\n",
       "  </tbody>\n",
       "</table>\n",
       "</div>"
      ],
      "text/plain": [
       "debt            0       1    All  default_rate\n",
       "children                                      \n",
       "0         13086.0  1063.0  14149      7.512898\n",
       "1          4420.0   445.0   4865      9.146968\n",
       "2          1929.0   202.0   2131      9.479118\n",
       "3           303.0    27.0    330      8.181818\n",
       "4            37.0     4.0     41      9.756098\n",
       "5             9.0     NaN      9           NaN\n",
       "All       19784.0  1741.0  21525      8.088269"
      ]
     },
     "execution_count": 108,
     "metadata": {},
     "output_type": "execute_result"
    }
   ],
   "source": [
    "data_pivot_children['default_rate'] = (data_pivot_children[1] / data_pivot_children['All']) * 100\n",
    "data_pivot_children"
   ]
  },
  {
   "cell_type": "markdown",
   "metadata": {},
   "source": [
    "### Conclusion"
   ]
  },
  {
   "cell_type": "markdown",
   "metadata": {},
   "source": [
    "On the surface, it looks like (for this dataset) the more kids – the lower the default rate. At least we see that tendency judging by the group with 3 children. Of course, the families with 4 kids don't provide a good statistical sample to make any conclusion about the relationship between the number of children and the default rate: the number of such families is only 37. Same for families with 5 kids: only 9 of them (and no defaults). I would imagine that in real life there could be a negative relationship between the number of children and the default rate for rich families, and the reverse for low-income families. \n",
    "\n",
    "As for the answer to this question, we do have a large enough sample of families with 1 and 2 kids to conclude that, indeed the there is a positive relationship between default rate and having children."
   ]
  },
  {
   "cell_type": "markdown",
   "metadata": {},
   "source": [
    "- Is there a relation between marital status and repaying a loan on time?"
   ]
  },
  {
   "cell_type": "markdown",
   "metadata": {},
   "source": [
    "To answer this question, let me repeat the process: first take a look at the difference for married / not married, and then look at the breakdown by family status."
   ]
  },
  {
   "cell_type": "code",
   "execution_count": 109,
   "metadata": {},
   "outputs": [
    {
     "data": {
      "text/html": [
       "<div>\n",
       "<style scoped>\n",
       "    .dataframe tbody tr th:only-of-type {\n",
       "        vertical-align: middle;\n",
       "    }\n",
       "\n",
       "    .dataframe tbody tr th {\n",
       "        vertical-align: top;\n",
       "    }\n",
       "\n",
       "    .dataframe thead th {\n",
       "        text-align: right;\n",
       "    }\n",
       "</style>\n",
       "<table border=\"1\" class=\"dataframe\">\n",
       "  <thead>\n",
       "    <tr style=\"text-align: right;\">\n",
       "      <th>debt</th>\n",
       "      <th>0</th>\n",
       "      <th>1</th>\n",
       "      <th>All</th>\n",
       "    </tr>\n",
       "    <tr>\n",
       "      <th>marital_status</th>\n",
       "      <th></th>\n",
       "      <th></th>\n",
       "      <th></th>\n",
       "    </tr>\n",
       "  </thead>\n",
       "  <tbody>\n",
       "    <tr>\n",
       "      <th>married</th>\n",
       "      <td>11449</td>\n",
       "      <td>931</td>\n",
       "      <td>12380</td>\n",
       "    </tr>\n",
       "    <tr>\n",
       "      <th>not married</th>\n",
       "      <td>8335</td>\n",
       "      <td>810</td>\n",
       "      <td>9145</td>\n",
       "    </tr>\n",
       "    <tr>\n",
       "      <th>All</th>\n",
       "      <td>19784</td>\n",
       "      <td>1741</td>\n",
       "      <td>21525</td>\n",
       "    </tr>\n",
       "  </tbody>\n",
       "</table>\n",
       "</div>"
      ],
      "text/plain": [
       "debt                0     1    All\n",
       "marital_status                    \n",
       "married         11449   931  12380\n",
       "not married      8335   810   9145\n",
       "All             19784  1741  21525"
      ]
     },
     "execution_count": 109,
     "metadata": {},
     "output_type": "execute_result"
    }
   ],
   "source": [
    "data_pivot_marital_status = data.pivot_table(index = 'marital_status', columns = 'debt', values = 'age', aggfunc = 'count', margins = True)\n",
    "data_pivot_marital_status"
   ]
  },
  {
   "cell_type": "markdown",
   "metadata": {},
   "source": [
    "Calculate the default rate:"
   ]
  },
  {
   "cell_type": "code",
   "execution_count": 110,
   "metadata": {},
   "outputs": [
    {
     "data": {
      "text/html": [
       "<div>\n",
       "<style scoped>\n",
       "    .dataframe tbody tr th:only-of-type {\n",
       "        vertical-align: middle;\n",
       "    }\n",
       "\n",
       "    .dataframe tbody tr th {\n",
       "        vertical-align: top;\n",
       "    }\n",
       "\n",
       "    .dataframe thead th {\n",
       "        text-align: right;\n",
       "    }\n",
       "</style>\n",
       "<table border=\"1\" class=\"dataframe\">\n",
       "  <thead>\n",
       "    <tr style=\"text-align: right;\">\n",
       "      <th>debt</th>\n",
       "      <th>0</th>\n",
       "      <th>1</th>\n",
       "      <th>All</th>\n",
       "      <th>default_rate</th>\n",
       "    </tr>\n",
       "    <tr>\n",
       "      <th>marital_status</th>\n",
       "      <th></th>\n",
       "      <th></th>\n",
       "      <th></th>\n",
       "      <th></th>\n",
       "    </tr>\n",
       "  </thead>\n",
       "  <tbody>\n",
       "    <tr>\n",
       "      <th>married</th>\n",
       "      <td>11449</td>\n",
       "      <td>931</td>\n",
       "      <td>12380</td>\n",
       "      <td>7.520194</td>\n",
       "    </tr>\n",
       "    <tr>\n",
       "      <th>not married</th>\n",
       "      <td>8335</td>\n",
       "      <td>810</td>\n",
       "      <td>9145</td>\n",
       "      <td>8.857299</td>\n",
       "    </tr>\n",
       "    <tr>\n",
       "      <th>All</th>\n",
       "      <td>19784</td>\n",
       "      <td>1741</td>\n",
       "      <td>21525</td>\n",
       "      <td>8.088269</td>\n",
       "    </tr>\n",
       "  </tbody>\n",
       "</table>\n",
       "</div>"
      ],
      "text/plain": [
       "debt                0     1    All  default_rate\n",
       "marital_status                                  \n",
       "married         11449   931  12380      7.520194\n",
       "not married      8335   810   9145      8.857299\n",
       "All             19784  1741  21525      8.088269"
      ]
     },
     "execution_count": 110,
     "metadata": {},
     "output_type": "execute_result"
    }
   ],
   "source": [
    "data_pivot_marital_status['default_rate'] = (data_pivot_marital_status[1] / data_pivot_marital_status['All']) * 100\n",
    "data_pivot_marital_status"
   ]
  },
  {
   "cell_type": "markdown",
   "metadata": {},
   "source": [
    "Interesting, so whereas having kids is associated with a higher default rate, being married does the opposite. Even though usually married couples tend to eventually have kids. What if we digress and see what's going on, if we account for both marital status and having kids?"
   ]
  },
  {
   "cell_type": "code",
   "execution_count": 111,
   "metadata": {},
   "outputs": [
    {
     "data": {
      "text/html": [
       "<div>\n",
       "<style scoped>\n",
       "    .dataframe tbody tr th:only-of-type {\n",
       "        vertical-align: middle;\n",
       "    }\n",
       "\n",
       "    .dataframe tbody tr th {\n",
       "        vertical-align: top;\n",
       "    }\n",
       "\n",
       "    .dataframe thead th {\n",
       "        text-align: right;\n",
       "    }\n",
       "</style>\n",
       "<table border=\"1\" class=\"dataframe\">\n",
       "  <thead>\n",
       "    <tr style=\"text-align: right;\">\n",
       "      <th></th>\n",
       "      <th>debt</th>\n",
       "      <th>0</th>\n",
       "      <th>1</th>\n",
       "      <th>All</th>\n",
       "    </tr>\n",
       "    <tr>\n",
       "      <th>marital_status</th>\n",
       "      <th>kids</th>\n",
       "      <th></th>\n",
       "      <th></th>\n",
       "      <th></th>\n",
       "    </tr>\n",
       "  </thead>\n",
       "  <tbody>\n",
       "    <tr>\n",
       "      <th rowspan=\"2\" valign=\"top\">married</th>\n",
       "      <th>kids</th>\n",
       "      <td>4465</td>\n",
       "      <td>415</td>\n",
       "      <td>4880</td>\n",
       "    </tr>\n",
       "    <tr>\n",
       "      <th>no kids</th>\n",
       "      <td>6984</td>\n",
       "      <td>516</td>\n",
       "      <td>7500</td>\n",
       "    </tr>\n",
       "    <tr>\n",
       "      <th rowspan=\"2\" valign=\"top\">not married</th>\n",
       "      <th>kids</th>\n",
       "      <td>2233</td>\n",
       "      <td>263</td>\n",
       "      <td>2496</td>\n",
       "    </tr>\n",
       "    <tr>\n",
       "      <th>no kids</th>\n",
       "      <td>6102</td>\n",
       "      <td>547</td>\n",
       "      <td>6649</td>\n",
       "    </tr>\n",
       "    <tr>\n",
       "      <th>All</th>\n",
       "      <th></th>\n",
       "      <td>19784</td>\n",
       "      <td>1741</td>\n",
       "      <td>21525</td>\n",
       "    </tr>\n",
       "  </tbody>\n",
       "</table>\n",
       "</div>"
      ],
      "text/plain": [
       "debt                        0     1    All\n",
       "marital_status kids                       \n",
       "married        kids      4465   415   4880\n",
       "               no kids   6984   516   7500\n",
       "not married    kids      2233   263   2496\n",
       "               no kids   6102   547   6649\n",
       "All                     19784  1741  21525"
      ]
     },
     "execution_count": 111,
     "metadata": {},
     "output_type": "execute_result"
    }
   ],
   "source": [
    "data_pivot_married_kids = data.pivot_table(index = ['marital_status', 'kids'], columns = 'debt', values = 'age', aggfunc = 'count', margins = True)\n",
    "data_pivot_married_kids"
   ]
  },
  {
   "cell_type": "code",
   "execution_count": 112,
   "metadata": {},
   "outputs": [
    {
     "data": {
      "text/html": [
       "<div>\n",
       "<style scoped>\n",
       "    .dataframe tbody tr th:only-of-type {\n",
       "        vertical-align: middle;\n",
       "    }\n",
       "\n",
       "    .dataframe tbody tr th {\n",
       "        vertical-align: top;\n",
       "    }\n",
       "\n",
       "    .dataframe thead th {\n",
       "        text-align: right;\n",
       "    }\n",
       "</style>\n",
       "<table border=\"1\" class=\"dataframe\">\n",
       "  <thead>\n",
       "    <tr style=\"text-align: right;\">\n",
       "      <th></th>\n",
       "      <th>debt</th>\n",
       "      <th>0</th>\n",
       "      <th>1</th>\n",
       "      <th>All</th>\n",
       "      <th>default_rate</th>\n",
       "    </tr>\n",
       "    <tr>\n",
       "      <th>marital_status</th>\n",
       "      <th>kids</th>\n",
       "      <th></th>\n",
       "      <th></th>\n",
       "      <th></th>\n",
       "      <th></th>\n",
       "    </tr>\n",
       "  </thead>\n",
       "  <tbody>\n",
       "    <tr>\n",
       "      <th rowspan=\"2\" valign=\"top\">married</th>\n",
       "      <th>kids</th>\n",
       "      <td>4465</td>\n",
       "      <td>415</td>\n",
       "      <td>4880</td>\n",
       "      <td>8.504098</td>\n",
       "    </tr>\n",
       "    <tr>\n",
       "      <th>no kids</th>\n",
       "      <td>6984</td>\n",
       "      <td>516</td>\n",
       "      <td>7500</td>\n",
       "      <td>6.880000</td>\n",
       "    </tr>\n",
       "    <tr>\n",
       "      <th rowspan=\"2\" valign=\"top\">not married</th>\n",
       "      <th>kids</th>\n",
       "      <td>2233</td>\n",
       "      <td>263</td>\n",
       "      <td>2496</td>\n",
       "      <td>10.536859</td>\n",
       "    </tr>\n",
       "    <tr>\n",
       "      <th>no kids</th>\n",
       "      <td>6102</td>\n",
       "      <td>547</td>\n",
       "      <td>6649</td>\n",
       "      <td>8.226801</td>\n",
       "    </tr>\n",
       "    <tr>\n",
       "      <th>All</th>\n",
       "      <th></th>\n",
       "      <td>19784</td>\n",
       "      <td>1741</td>\n",
       "      <td>21525</td>\n",
       "      <td>8.088269</td>\n",
       "    </tr>\n",
       "  </tbody>\n",
       "</table>\n",
       "</div>"
      ],
      "text/plain": [
       "debt                        0     1    All  default_rate\n",
       "marital_status kids                                     \n",
       "married        kids      4465   415   4880      8.504098\n",
       "               no kids   6984   516   7500      6.880000\n",
       "not married    kids      2233   263   2496     10.536859\n",
       "               no kids   6102   547   6649      8.226801\n",
       "All                     19784  1741  21525      8.088269"
      ]
     },
     "execution_count": 112,
     "metadata": {},
     "output_type": "execute_result"
    }
   ],
   "source": [
    "data_pivot_married_kids['default_rate'] = (data_pivot_married_kids[1] / data_pivot_married_kids['All']) * 100\n",
    "data_pivot_married_kids"
   ]
  },
  {
   "cell_type": "markdown",
   "metadata": {},
   "source": [
    "Interesting! It looks like the majority of those who are married (in our dataset) don't have children, and this group has a significantly lower default rate, below 7%, and that's what must drag the overall married default rate down. Whereas those who are married and have children, have a default rate that's even slightly above our dataset's average. Those who are not marrie and have kids are the most likely to default, it seems. Also, not having kids in a marriage speaks to higher financial dependency than not having kids and not being married...oh wait, we got that from the first pivot table..."
   ]
  },
  {
   "cell_type": "markdown",
   "metadata": {},
   "source": [
    "Lastly, let's have a look at the breakdown by family status."
   ]
  },
  {
   "cell_type": "code",
   "execution_count": 113,
   "metadata": {},
   "outputs": [
    {
     "data": {
      "text/html": [
       "<div>\n",
       "<style scoped>\n",
       "    .dataframe tbody tr th:only-of-type {\n",
       "        vertical-align: middle;\n",
       "    }\n",
       "\n",
       "    .dataframe tbody tr th {\n",
       "        vertical-align: top;\n",
       "    }\n",
       "\n",
       "    .dataframe thead th {\n",
       "        text-align: right;\n",
       "    }\n",
       "</style>\n",
       "<table border=\"1\" class=\"dataframe\">\n",
       "  <thead>\n",
       "    <tr style=\"text-align: right;\">\n",
       "      <th>debt</th>\n",
       "      <th>0</th>\n",
       "      <th>1</th>\n",
       "      <th>All</th>\n",
       "    </tr>\n",
       "    <tr>\n",
       "      <th>family_status</th>\n",
       "      <th></th>\n",
       "      <th></th>\n",
       "      <th></th>\n",
       "    </tr>\n",
       "  </thead>\n",
       "  <tbody>\n",
       "    <tr>\n",
       "      <th>civil partnership</th>\n",
       "      <td>3789</td>\n",
       "      <td>388</td>\n",
       "      <td>4177</td>\n",
       "    </tr>\n",
       "    <tr>\n",
       "      <th>divorced</th>\n",
       "      <td>1110</td>\n",
       "      <td>85</td>\n",
       "      <td>1195</td>\n",
       "    </tr>\n",
       "    <tr>\n",
       "      <th>married</th>\n",
       "      <td>11449</td>\n",
       "      <td>931</td>\n",
       "      <td>12380</td>\n",
       "    </tr>\n",
       "    <tr>\n",
       "      <th>unmarried</th>\n",
       "      <td>2539</td>\n",
       "      <td>274</td>\n",
       "      <td>2813</td>\n",
       "    </tr>\n",
       "    <tr>\n",
       "      <th>widow / widower</th>\n",
       "      <td>897</td>\n",
       "      <td>63</td>\n",
       "      <td>960</td>\n",
       "    </tr>\n",
       "    <tr>\n",
       "      <th>All</th>\n",
       "      <td>19784</td>\n",
       "      <td>1741</td>\n",
       "      <td>21525</td>\n",
       "    </tr>\n",
       "  </tbody>\n",
       "</table>\n",
       "</div>"
      ],
      "text/plain": [
       "debt                   0     1    All\n",
       "family_status                        \n",
       "civil partnership   3789   388   4177\n",
       "divorced            1110    85   1195\n",
       "married            11449   931  12380\n",
       "unmarried           2539   274   2813\n",
       "widow / widower      897    63    960\n",
       "All                19784  1741  21525"
      ]
     },
     "execution_count": 113,
     "metadata": {},
     "output_type": "execute_result"
    }
   ],
   "source": [
    "data_pivot_family_status = data.pivot_table(index = 'family_status', columns = 'debt', values = 'age', aggfunc = 'count', margins = True)\n",
    "data_pivot_family_status"
   ]
  },
  {
   "cell_type": "code",
   "execution_count": 114,
   "metadata": {},
   "outputs": [
    {
     "data": {
      "text/html": [
       "<div>\n",
       "<style scoped>\n",
       "    .dataframe tbody tr th:only-of-type {\n",
       "        vertical-align: middle;\n",
       "    }\n",
       "\n",
       "    .dataframe tbody tr th {\n",
       "        vertical-align: top;\n",
       "    }\n",
       "\n",
       "    .dataframe thead th {\n",
       "        text-align: right;\n",
       "    }\n",
       "</style>\n",
       "<table border=\"1\" class=\"dataframe\">\n",
       "  <thead>\n",
       "    <tr style=\"text-align: right;\">\n",
       "      <th>debt</th>\n",
       "      <th>0</th>\n",
       "      <th>1</th>\n",
       "      <th>All</th>\n",
       "      <th>default_rate</th>\n",
       "    </tr>\n",
       "    <tr>\n",
       "      <th>family_status</th>\n",
       "      <th></th>\n",
       "      <th></th>\n",
       "      <th></th>\n",
       "      <th></th>\n",
       "    </tr>\n",
       "  </thead>\n",
       "  <tbody>\n",
       "    <tr>\n",
       "      <th>civil partnership</th>\n",
       "      <td>3789</td>\n",
       "      <td>388</td>\n",
       "      <td>4177</td>\n",
       "      <td>9.288963</td>\n",
       "    </tr>\n",
       "    <tr>\n",
       "      <th>divorced</th>\n",
       "      <td>1110</td>\n",
       "      <td>85</td>\n",
       "      <td>1195</td>\n",
       "      <td>7.112971</td>\n",
       "    </tr>\n",
       "    <tr>\n",
       "      <th>married</th>\n",
       "      <td>11449</td>\n",
       "      <td>931</td>\n",
       "      <td>12380</td>\n",
       "      <td>7.520194</td>\n",
       "    </tr>\n",
       "    <tr>\n",
       "      <th>unmarried</th>\n",
       "      <td>2539</td>\n",
       "      <td>274</td>\n",
       "      <td>2813</td>\n",
       "      <td>9.740491</td>\n",
       "    </tr>\n",
       "    <tr>\n",
       "      <th>widow / widower</th>\n",
       "      <td>897</td>\n",
       "      <td>63</td>\n",
       "      <td>960</td>\n",
       "      <td>6.562500</td>\n",
       "    </tr>\n",
       "    <tr>\n",
       "      <th>All</th>\n",
       "      <td>19784</td>\n",
       "      <td>1741</td>\n",
       "      <td>21525</td>\n",
       "      <td>8.088269</td>\n",
       "    </tr>\n",
       "  </tbody>\n",
       "</table>\n",
       "</div>"
      ],
      "text/plain": [
       "debt                   0     1    All  default_rate\n",
       "family_status                                      \n",
       "civil partnership   3789   388   4177      9.288963\n",
       "divorced            1110    85   1195      7.112971\n",
       "married            11449   931  12380      7.520194\n",
       "unmarried           2539   274   2813      9.740491\n",
       "widow / widower      897    63    960      6.562500\n",
       "All                19784  1741  21525      8.088269"
      ]
     },
     "execution_count": 114,
     "metadata": {},
     "output_type": "execute_result"
    }
   ],
   "source": [
    "data_pivot_family_status['default_rate'] = (data_pivot_family_status[1] / data_pivot_family_status['All']) * 100\n",
    "data_pivot_family_status"
   ]
  },
  {
   "cell_type": "markdown",
   "metadata": {},
   "source": [
    "Huh, so those who've been through a divorce have a lower default rate, than those still married. The lowest default rate is for widows and widowers. This also shows that it was likely the right call to put the civil partners into 'not married' category when categorizing the data by family status, because otherwise it could skew the nice default rate for married."
   ]
  },
  {
   "cell_type": "markdown",
   "metadata": {},
   "source": [
    "### Conclusion"
   ]
  },
  {
   "cell_type": "markdown",
   "metadata": {},
   "source": [
    "So we've seen that the married ones tend to default less on average, although not significantly. This tells us that marriage in general is a sign of finanical dependency. This makes sense and tells us that our data is in order – marriage typically reflects some level of commitment – at least to another human. We see further proof of that when we look at the difference in default rate between married with children and not married with children."
   ]
  },
  {
   "cell_type": "markdown",
   "metadata": {},
   "source": [
    "<div style=\"border:solid green 2px; padding: 20px\"> <b>Success:</b><br>\n",
    "   Thank you for using such in-depth methods of analysis in your research.</div>   "
   ]
  },
  {
   "cell_type": "markdown",
   "metadata": {},
   "source": [
    "- Is there a relation between income level and repaying a loan on time?"
   ]
  },
  {
   "cell_type": "code",
   "execution_count": 115,
   "metadata": {},
   "outputs": [
    {
     "data": {
      "text/html": [
       "<div>\n",
       "<style scoped>\n",
       "    .dataframe tbody tr th:only-of-type {\n",
       "        vertical-align: middle;\n",
       "    }\n",
       "\n",
       "    .dataframe tbody tr th {\n",
       "        vertical-align: top;\n",
       "    }\n",
       "\n",
       "    .dataframe thead th {\n",
       "        text-align: right;\n",
       "    }\n",
       "</style>\n",
       "<table border=\"1\" class=\"dataframe\">\n",
       "  <thead>\n",
       "    <tr style=\"text-align: right;\">\n",
       "      <th>debt</th>\n",
       "      <th>0</th>\n",
       "      <th>1</th>\n",
       "      <th>All</th>\n",
       "    </tr>\n",
       "    <tr>\n",
       "      <th>income_level</th>\n",
       "      <th></th>\n",
       "      <th></th>\n",
       "      <th></th>\n",
       "    </tr>\n",
       "  </thead>\n",
       "  <tbody>\n",
       "    <tr>\n",
       "      <th>10,000-20,000</th>\n",
       "      <td>6218</td>\n",
       "      <td>577</td>\n",
       "      <td>6795</td>\n",
       "    </tr>\n",
       "    <tr>\n",
       "      <th>20,000-35000</th>\n",
       "      <td>8919</td>\n",
       "      <td>816</td>\n",
       "      <td>9735</td>\n",
       "    </tr>\n",
       "    <tr>\n",
       "      <th>35,000-70,000</th>\n",
       "      <td>3422</td>\n",
       "      <td>268</td>\n",
       "      <td>3690</td>\n",
       "    </tr>\n",
       "    <tr>\n",
       "      <th>70,000+</th>\n",
       "      <td>357</td>\n",
       "      <td>22</td>\n",
       "      <td>379</td>\n",
       "    </tr>\n",
       "    <tr>\n",
       "      <th>less than 10,000</th>\n",
       "      <td>868</td>\n",
       "      <td>58</td>\n",
       "      <td>926</td>\n",
       "    </tr>\n",
       "    <tr>\n",
       "      <th>All</th>\n",
       "      <td>19784</td>\n",
       "      <td>1741</td>\n",
       "      <td>21525</td>\n",
       "    </tr>\n",
       "  </tbody>\n",
       "</table>\n",
       "</div>"
      ],
      "text/plain": [
       "debt                  0     1    All\n",
       "income_level                        \n",
       "10,000-20,000      6218   577   6795\n",
       "20,000-35000       8919   816   9735\n",
       "35,000-70,000      3422   268   3690\n",
       "70,000+             357    22    379\n",
       "less than 10,000    868    58    926\n",
       "All               19784  1741  21525"
      ]
     },
     "execution_count": 115,
     "metadata": {},
     "output_type": "execute_result"
    }
   ],
   "source": [
    "data_pivot_income_level = data.pivot_table(index = 'income_level', columns = 'debt', values = 'age', aggfunc = 'count', margins = True)\n",
    "data_pivot_income_level"
   ]
  },
  {
   "cell_type": "code",
   "execution_count": 116,
   "metadata": {},
   "outputs": [
    {
     "data": {
      "text/html": [
       "<div>\n",
       "<style scoped>\n",
       "    .dataframe tbody tr th:only-of-type {\n",
       "        vertical-align: middle;\n",
       "    }\n",
       "\n",
       "    .dataframe tbody tr th {\n",
       "        vertical-align: top;\n",
       "    }\n",
       "\n",
       "    .dataframe thead th {\n",
       "        text-align: right;\n",
       "    }\n",
       "</style>\n",
       "<table border=\"1\" class=\"dataframe\">\n",
       "  <thead>\n",
       "    <tr style=\"text-align: right;\">\n",
       "      <th>debt</th>\n",
       "      <th>0</th>\n",
       "      <th>1</th>\n",
       "      <th>All</th>\n",
       "      <th>default_rate</th>\n",
       "    </tr>\n",
       "    <tr>\n",
       "      <th>income_level</th>\n",
       "      <th></th>\n",
       "      <th></th>\n",
       "      <th></th>\n",
       "      <th></th>\n",
       "    </tr>\n",
       "  </thead>\n",
       "  <tbody>\n",
       "    <tr>\n",
       "      <th>10,000-20,000</th>\n",
       "      <td>6218</td>\n",
       "      <td>577</td>\n",
       "      <td>6795</td>\n",
       "      <td>8.491538</td>\n",
       "    </tr>\n",
       "    <tr>\n",
       "      <th>20,000-35000</th>\n",
       "      <td>8919</td>\n",
       "      <td>816</td>\n",
       "      <td>9735</td>\n",
       "      <td>8.382126</td>\n",
       "    </tr>\n",
       "    <tr>\n",
       "      <th>35,000-70,000</th>\n",
       "      <td>3422</td>\n",
       "      <td>268</td>\n",
       "      <td>3690</td>\n",
       "      <td>7.262873</td>\n",
       "    </tr>\n",
       "    <tr>\n",
       "      <th>70,000+</th>\n",
       "      <td>357</td>\n",
       "      <td>22</td>\n",
       "      <td>379</td>\n",
       "      <td>5.804749</td>\n",
       "    </tr>\n",
       "    <tr>\n",
       "      <th>less than 10,000</th>\n",
       "      <td>868</td>\n",
       "      <td>58</td>\n",
       "      <td>926</td>\n",
       "      <td>6.263499</td>\n",
       "    </tr>\n",
       "    <tr>\n",
       "      <th>All</th>\n",
       "      <td>19784</td>\n",
       "      <td>1741</td>\n",
       "      <td>21525</td>\n",
       "      <td>8.088269</td>\n",
       "    </tr>\n",
       "  </tbody>\n",
       "</table>\n",
       "</div>"
      ],
      "text/plain": [
       "debt                  0     1    All  default_rate\n",
       "income_level                                      \n",
       "10,000-20,000      6218   577   6795      8.491538\n",
       "20,000-35000       8919   816   9735      8.382126\n",
       "35,000-70,000      3422   268   3690      7.262873\n",
       "70,000+             357    22    379      5.804749\n",
       "less than 10,000    868    58    926      6.263499\n",
       "All               19784  1741  21525      8.088269"
      ]
     },
     "execution_count": 116,
     "metadata": {},
     "output_type": "execute_result"
    }
   ],
   "source": [
    "data_pivot_income_level['default_rate'] = (data_pivot_income_level[1] / data_pivot_income_level['All']) * 100\n",
    "data_pivot_income_level"
   ]
  },
  {
   "cell_type": "code",
   "execution_count": 117,
   "metadata": {},
   "outputs": [
    {
     "data": {
      "text/html": [
       "<div>\n",
       "<style scoped>\n",
       "    .dataframe tbody tr th:only-of-type {\n",
       "        vertical-align: middle;\n",
       "    }\n",
       "\n",
       "    .dataframe tbody tr th {\n",
       "        vertical-align: top;\n",
       "    }\n",
       "\n",
       "    .dataframe thead th {\n",
       "        text-align: right;\n",
       "    }\n",
       "</style>\n",
       "<table border=\"1\" class=\"dataframe\">\n",
       "  <thead>\n",
       "    <tr style=\"text-align: right;\">\n",
       "      <th>debt</th>\n",
       "      <th>0</th>\n",
       "      <th>1</th>\n",
       "      <th>All</th>\n",
       "      <th>default_rate</th>\n",
       "    </tr>\n",
       "    <tr>\n",
       "      <th>income_level</th>\n",
       "      <th></th>\n",
       "      <th></th>\n",
       "      <th></th>\n",
       "      <th></th>\n",
       "    </tr>\n",
       "  </thead>\n",
       "  <tbody>\n",
       "    <tr>\n",
       "      <th>10,000-20,000</th>\n",
       "      <td>6218</td>\n",
       "      <td>577</td>\n",
       "      <td>6795</td>\n",
       "      <td>8.491538</td>\n",
       "    </tr>\n",
       "    <tr>\n",
       "      <th>20,000-35000</th>\n",
       "      <td>8919</td>\n",
       "      <td>816</td>\n",
       "      <td>9735</td>\n",
       "      <td>8.382126</td>\n",
       "    </tr>\n",
       "    <tr>\n",
       "      <th>All</th>\n",
       "      <td>19784</td>\n",
       "      <td>1741</td>\n",
       "      <td>21525</td>\n",
       "      <td>8.088269</td>\n",
       "    </tr>\n",
       "    <tr>\n",
       "      <th>35,000-70,000</th>\n",
       "      <td>3422</td>\n",
       "      <td>268</td>\n",
       "      <td>3690</td>\n",
       "      <td>7.262873</td>\n",
       "    </tr>\n",
       "    <tr>\n",
       "      <th>less than 10,000</th>\n",
       "      <td>868</td>\n",
       "      <td>58</td>\n",
       "      <td>926</td>\n",
       "      <td>6.263499</td>\n",
       "    </tr>\n",
       "    <tr>\n",
       "      <th>70,000+</th>\n",
       "      <td>357</td>\n",
       "      <td>22</td>\n",
       "      <td>379</td>\n",
       "      <td>5.804749</td>\n",
       "    </tr>\n",
       "  </tbody>\n",
       "</table>\n",
       "</div>"
      ],
      "text/plain": [
       "debt                  0     1    All  default_rate\n",
       "income_level                                      \n",
       "10,000-20,000      6218   577   6795      8.491538\n",
       "20,000-35000       8919   816   9735      8.382126\n",
       "All               19784  1741  21525      8.088269\n",
       "35,000-70,000      3422   268   3690      7.262873\n",
       "less than 10,000    868    58    926      6.263499\n",
       "70,000+             357    22    379      5.804749"
      ]
     },
     "execution_count": 117,
     "metadata": {},
     "output_type": "execute_result"
    }
   ],
   "source": [
    "# let's sort it by default_rate for clarity\n",
    "data_pivot_income_level.sort_values('default_rate', ascending = False)"
   ]
  },
  {
   "cell_type": "markdown",
   "metadata": {},
   "source": [
    "That's interesting. We see the general tendency: higher income is associated with a lower defalt rate, but we also see that the group with lowest income (below 10,000 per year) has the second lowest default rate. Perhaps they've taken out smaller loans? Or they can happen to be people who are transitioning to a new job or are supported by relatives."
   ]
  },
  {
   "cell_type": "markdown",
   "metadata": {},
   "source": [
    "<div style=\"border:solid green 2px; padding: 20px\"> <b>Success:</b><br>\n",
    "    Thank you for your bright idea. Very well! 🙂 </div>  "
   ]
  },
  {
   "cell_type": "markdown",
   "metadata": {},
   "source": [
    "### Conclusion"
   ]
  },
  {
   "cell_type": "markdown",
   "metadata": {},
   "source": [
    "Our data makes sense, for the most part. It reflects the expected trend of higher income being associated with a lower default rate. Those in the highest earning category have only defaulted in 5,8% of the cases. While those in the middle groups, and who indeed make up most of the data entries, have the default rate slighly above average.\n",
    "\n",
    "My advice would be that it's relatively safe to assume repayment for higher income groups, since the trend is clear across income levels (despite the highest-earning group comprising the smallest statistical sample). The default rate of 6,2% for the lowest-income group should be treated with caution, however, and that group should be investigated further. In any case, it is also a much smaller data sample compared to the other income level groups."
   ]
  },
  {
   "cell_type": "markdown",
   "metadata": {},
   "source": [
    "- How do different loan purposes affect on-time repayment of the loan?"
   ]
  },
  {
   "cell_type": "code",
   "execution_count": 118,
   "metadata": {},
   "outputs": [
    {
     "data": {
      "text/html": [
       "<div>\n",
       "<style scoped>\n",
       "    .dataframe tbody tr th:only-of-type {\n",
       "        vertical-align: middle;\n",
       "    }\n",
       "\n",
       "    .dataframe tbody tr th {\n",
       "        vertical-align: top;\n",
       "    }\n",
       "\n",
       "    .dataframe thead th {\n",
       "        text-align: right;\n",
       "    }\n",
       "</style>\n",
       "<table border=\"1\" class=\"dataframe\">\n",
       "  <thead>\n",
       "    <tr style=\"text-align: right;\">\n",
       "      <th>debt</th>\n",
       "      <th>0</th>\n",
       "      <th>1</th>\n",
       "      <th>All</th>\n",
       "    </tr>\n",
       "    <tr>\n",
       "      <th>purpose</th>\n",
       "      <th></th>\n",
       "      <th></th>\n",
       "      <th></th>\n",
       "    </tr>\n",
       "  </thead>\n",
       "  <tbody>\n",
       "    <tr>\n",
       "      <th>car purchase</th>\n",
       "      <td>3912</td>\n",
       "      <td>403</td>\n",
       "      <td>4315</td>\n",
       "    </tr>\n",
       "    <tr>\n",
       "      <th>commercial real estate</th>\n",
       "      <td>3043</td>\n",
       "      <td>254</td>\n",
       "      <td>3297</td>\n",
       "    </tr>\n",
       "    <tr>\n",
       "      <th>education</th>\n",
       "      <td>3652</td>\n",
       "      <td>370</td>\n",
       "      <td>4022</td>\n",
       "    </tr>\n",
       "    <tr>\n",
       "      <th>housing</th>\n",
       "      <td>7015</td>\n",
       "      <td>528</td>\n",
       "      <td>7543</td>\n",
       "    </tr>\n",
       "    <tr>\n",
       "      <th>wedding ceremony</th>\n",
       "      <td>2162</td>\n",
       "      <td>186</td>\n",
       "      <td>2348</td>\n",
       "    </tr>\n",
       "    <tr>\n",
       "      <th>All</th>\n",
       "      <td>19784</td>\n",
       "      <td>1741</td>\n",
       "      <td>21525</td>\n",
       "    </tr>\n",
       "  </tbody>\n",
       "</table>\n",
       "</div>"
      ],
      "text/plain": [
       "debt                        0     1    All\n",
       "purpose                                   \n",
       "car purchase             3912   403   4315\n",
       "commercial real estate   3043   254   3297\n",
       "education                3652   370   4022\n",
       "housing                  7015   528   7543\n",
       "wedding ceremony         2162   186   2348\n",
       "All                     19784  1741  21525"
      ]
     },
     "execution_count": 118,
     "metadata": {},
     "output_type": "execute_result"
    }
   ],
   "source": [
    "data_pivot_purpose = data.pivot_table(index = 'purpose', columns = 'debt', values = 'age', aggfunc = 'count', margins = True)\n",
    "data_pivot_purpose"
   ]
  },
  {
   "cell_type": "code",
   "execution_count": 119,
   "metadata": {},
   "outputs": [
    {
     "data": {
      "text/html": [
       "<div>\n",
       "<style scoped>\n",
       "    .dataframe tbody tr th:only-of-type {\n",
       "        vertical-align: middle;\n",
       "    }\n",
       "\n",
       "    .dataframe tbody tr th {\n",
       "        vertical-align: top;\n",
       "    }\n",
       "\n",
       "    .dataframe thead th {\n",
       "        text-align: right;\n",
       "    }\n",
       "</style>\n",
       "<table border=\"1\" class=\"dataframe\">\n",
       "  <thead>\n",
       "    <tr style=\"text-align: right;\">\n",
       "      <th>debt</th>\n",
       "      <th>0</th>\n",
       "      <th>1</th>\n",
       "      <th>All</th>\n",
       "      <th>default_rate</th>\n",
       "    </tr>\n",
       "    <tr>\n",
       "      <th>purpose</th>\n",
       "      <th></th>\n",
       "      <th></th>\n",
       "      <th></th>\n",
       "      <th></th>\n",
       "    </tr>\n",
       "  </thead>\n",
       "  <tbody>\n",
       "    <tr>\n",
       "      <th>car purchase</th>\n",
       "      <td>3912</td>\n",
       "      <td>403</td>\n",
       "      <td>4315</td>\n",
       "      <td>9.339513</td>\n",
       "    </tr>\n",
       "    <tr>\n",
       "      <th>commercial real estate</th>\n",
       "      <td>3043</td>\n",
       "      <td>254</td>\n",
       "      <td>3297</td>\n",
       "      <td>7.703973</td>\n",
       "    </tr>\n",
       "    <tr>\n",
       "      <th>education</th>\n",
       "      <td>3652</td>\n",
       "      <td>370</td>\n",
       "      <td>4022</td>\n",
       "      <td>9.199403</td>\n",
       "    </tr>\n",
       "    <tr>\n",
       "      <th>housing</th>\n",
       "      <td>7015</td>\n",
       "      <td>528</td>\n",
       "      <td>7543</td>\n",
       "      <td>6.999867</td>\n",
       "    </tr>\n",
       "    <tr>\n",
       "      <th>wedding ceremony</th>\n",
       "      <td>2162</td>\n",
       "      <td>186</td>\n",
       "      <td>2348</td>\n",
       "      <td>7.921635</td>\n",
       "    </tr>\n",
       "    <tr>\n",
       "      <th>All</th>\n",
       "      <td>19784</td>\n",
       "      <td>1741</td>\n",
       "      <td>21525</td>\n",
       "      <td>8.088269</td>\n",
       "    </tr>\n",
       "  </tbody>\n",
       "</table>\n",
       "</div>"
      ],
      "text/plain": [
       "debt                        0     1    All  default_rate\n",
       "purpose                                                 \n",
       "car purchase             3912   403   4315      9.339513\n",
       "commercial real estate   3043   254   3297      7.703973\n",
       "education                3652   370   4022      9.199403\n",
       "housing                  7015   528   7543      6.999867\n",
       "wedding ceremony         2162   186   2348      7.921635\n",
       "All                     19784  1741  21525      8.088269"
      ]
     },
     "execution_count": 119,
     "metadata": {},
     "output_type": "execute_result"
    }
   ],
   "source": [
    "data_pivot_purpose['default_rate'] = (data_pivot_purpose[1] / data_pivot_purpose['All']) * 100\n",
    "data_pivot_purpose"
   ]
  },
  {
   "cell_type": "code",
   "execution_count": 120,
   "metadata": {},
   "outputs": [
    {
     "data": {
      "text/html": [
       "<div>\n",
       "<style scoped>\n",
       "    .dataframe tbody tr th:only-of-type {\n",
       "        vertical-align: middle;\n",
       "    }\n",
       "\n",
       "    .dataframe tbody tr th {\n",
       "        vertical-align: top;\n",
       "    }\n",
       "\n",
       "    .dataframe thead th {\n",
       "        text-align: right;\n",
       "    }\n",
       "</style>\n",
       "<table border=\"1\" class=\"dataframe\">\n",
       "  <thead>\n",
       "    <tr style=\"text-align: right;\">\n",
       "      <th>debt</th>\n",
       "      <th>0</th>\n",
       "      <th>1</th>\n",
       "      <th>All</th>\n",
       "      <th>default_rate</th>\n",
       "    </tr>\n",
       "    <tr>\n",
       "      <th>purpose</th>\n",
       "      <th></th>\n",
       "      <th></th>\n",
       "      <th></th>\n",
       "      <th></th>\n",
       "    </tr>\n",
       "  </thead>\n",
       "  <tbody>\n",
       "    <tr>\n",
       "      <th>car purchase</th>\n",
       "      <td>3912</td>\n",
       "      <td>403</td>\n",
       "      <td>4315</td>\n",
       "      <td>9.339513</td>\n",
       "    </tr>\n",
       "    <tr>\n",
       "      <th>education</th>\n",
       "      <td>3652</td>\n",
       "      <td>370</td>\n",
       "      <td>4022</td>\n",
       "      <td>9.199403</td>\n",
       "    </tr>\n",
       "    <tr>\n",
       "      <th>All</th>\n",
       "      <td>19784</td>\n",
       "      <td>1741</td>\n",
       "      <td>21525</td>\n",
       "      <td>8.088269</td>\n",
       "    </tr>\n",
       "    <tr>\n",
       "      <th>wedding ceremony</th>\n",
       "      <td>2162</td>\n",
       "      <td>186</td>\n",
       "      <td>2348</td>\n",
       "      <td>7.921635</td>\n",
       "    </tr>\n",
       "    <tr>\n",
       "      <th>commercial real estate</th>\n",
       "      <td>3043</td>\n",
       "      <td>254</td>\n",
       "      <td>3297</td>\n",
       "      <td>7.703973</td>\n",
       "    </tr>\n",
       "    <tr>\n",
       "      <th>housing</th>\n",
       "      <td>7015</td>\n",
       "      <td>528</td>\n",
       "      <td>7543</td>\n",
       "      <td>6.999867</td>\n",
       "    </tr>\n",
       "  </tbody>\n",
       "</table>\n",
       "</div>"
      ],
      "text/plain": [
       "debt                        0     1    All  default_rate\n",
       "purpose                                                 \n",
       "car purchase             3912   403   4315      9.339513\n",
       "education                3652   370   4022      9.199403\n",
       "All                     19784  1741  21525      8.088269\n",
       "wedding ceremony         2162   186   2348      7.921635\n",
       "commercial real estate   3043   254   3297      7.703973\n",
       "housing                  7015   528   7543      6.999867"
      ]
     },
     "execution_count": 120,
     "metadata": {},
     "output_type": "execute_result"
    }
   ],
   "source": [
    "data_pivot_purpose.sort_values(by = 'default_rate', ascending = False)"
   ]
  },
  {
   "cell_type": "markdown",
   "metadata": {},
   "source": [
    "Different financial commitments behind taking out the loan fare differently, as we can see from the default rates by purpose. It looks like car purchases are the most unreliable in terms of the probability of non-repayment, at 9.3%. Education comes second, which is somewhat surprising, and wedding ceremony comes third. It looks like it did make sense in the end to separate commercial real estate dealings from people trying to get a house for themselves – we can see how the default rate for them is different, with a difference of roughly 0.7% in favour of just housing."
   ]
  },
  {
   "cell_type": "markdown",
   "metadata": {},
   "source": [
    "### Conclusion"
   ]
  },
  {
   "cell_type": "markdown",
   "metadata": {},
   "source": [
    "So we can see that the goal of taking out a loan can indeed be a predictor of whether you'll be able to repay it. One is most likely to default on a loan when needing it to buy a car, and quite likely when needing the money to pay for education. This last one is a surprising result for me, because intuitively it would seem that people who are taking out a loan to invest in their own 'human capital' have got to be the most promising of the bunch (in terms of financial dependency), so there must be reasons why this is not the case. This could be a reflection of macroeconomic reality to some degree, when a job market in a specific area is overly saturated or there is a recession and many graduates end up without a job. In the U.S., for example, education loans are notoriously crippling, and people end paying these out over many years or even decades – indeed, on some terms, they may even default on them after an expiration deadline.\n",
    "\n",
    "The wedding ceremony result is a bit surprising from a subjective point of view, because in many eastern european countries a lot of people tend to take out massive loans for the festivities, which they cannot afford – it's a well-documented phenomenon. So I was expecting the default rate there to be higher, but I'm glad to be proven wrong. Somewhat surpisingly, people who take out loans to get their own house have turned out to be the most reliable in our dataset, considering this kind of expenditure has got be the largest one among those spent on personal needs. By way of an educated guess, I'd say this could be due to the fact, that one has to show more 'down payment', so to speak, in advance in order to be assessed as likely to pay our quarterly or monthly mortgage installments on time, and so have more income or savings or a good track record beforehand. Commercial housing which is essentially more of a business loan is a close second, which could tell us that people who come forward having thought through their business scheme can be more relied upon to repay that loan (for the most part)."
   ]
  },
  {
   "cell_type": "markdown",
   "metadata": {},
   "source": [
    "\n",
    "<div style=\"border:solid green 2px; padding: 20px\"> <b>Success:</b><br>\n",
    "    Well done for detailed answering!</div> "
   ]
  },
  {
   "cell_type": "markdown",
   "metadata": {},
   "source": [
    "## General conclusion"
   ]
  },
  {
   "cell_type": "markdown",
   "metadata": {},
   "source": [
    "The dataset that was provided didn't have any explicit duplicate values, and only had a chunk of explicitly missing values, that occured in the same rows for days_employed and total_income. Since total_income was pertinent to one of the questions, it had to be dealth with. By examining the data I realized that total_income depended for the most part on the income_type, so I used that in order to fill that in with median values. Thanks to the breadth of the data that I had, I was able to see that it's important to just have a general look at the values first and to play around with the dataset. This made me think twice before just filling in the missing data with median values based on, say, everyone's income, because I saw that it was different depending on gender, among other things. This is a fruitful observation that must have helped in not skewing the resulting stats too much. \n",
    "\n",
    "Another issue was the days_employed, which was not helpfully presented, and turned to have a chunk of data that was corrupted, and must have been imported in hours, while the rest of the values had a minus sign. Even though this column wasn't instrumental to the questions, it was helpful to get it in order. Indeed, as a result of further categorizing that data, if we make a pivot table, we will see some substantial differences based on length of work experience. \n",
    "\n",
    "I would suggest to the client to consider carefully which factors to take into account when creating the credit rating score. Even though some of the data that we had, like days_employed, might seem irrelevant to the task at hand, it may in fact be helpful. Another thing I would suggest to do in the future is try to collect more data on different working experience as well as income type groups, so we have more instances of every group and can make more statistically sound conclusions for them."
   ]
  },
  {
   "cell_type": "markdown",
   "metadata": {},
   "source": [
    "<div style=\"border:solid green 2px; padding: 20px\"> <b>Success:</b><br>\n",
    "   Thanks for the detailed conclusions, they are logically proven and make it easy to understand what you researched in your project. And, you are very good at making assumptions based on the available data, which makes your research more in-depth 😊\n",
    "</div> "
   ]
  },
  {
   "cell_type": "markdown",
   "metadata": {},
   "source": [
    "## Project Readiness Checklist\n",
    "\n",
    "Put 'x' in the completed points. Then press Shift + Enter."
   ]
  },
  {
   "cell_type": "markdown",
   "metadata": {},
   "source": [
    "- [x]  file open;\n",
    "- [x]  file examined;\n",
    "- [x]  missing values defined;\n",
    "- [x]  missing values are filled;\n",
    "- [x]  an explanation of which missing value types were detected;\n",
    "- [x]  explanation for the possible causes of missing values;\n",
    "- [x]  an explanation of how the blanks are filled;\n",
    "- [x]  replaced the real data type with an integer;\n",
    "- [x]  an explanation of which method is used to change the data type and why;\n",
    "- [x]  duplicates deleted;\n",
    "- [x]  an explanation of which method is used to find and remove duplicates;\n",
    "- [x]  description of the possible reasons for the appearance of duplicates in the data;\n",
    "- [x]  data is categorized;\n",
    "- [x]  an explanation of the principle of data categorization;\n",
    "- [x]  an answer to the question \"Is there a relation between having kids and repaying a loan on time?\";\n",
    "- [x]  an answer to the question \" Is there a relation between marital status and repaying a loan on time?\";\n",
    "- [x]   an answer to the question \" Is there a relation between income level and repaying a loan on time?\";\n",
    "- [x]  an answer to the question \" How do different loan purposes affect on-time repayment of the loan?\"\n",
    "- [x]  conclusions are present on each stage;\n",
    "- [x]  a general conclusion is made."
   ]
  }
 ],
 "metadata": {
  "ExecuteTimeLog": [
   {
    "duration": 829,
    "start_time": "2021-10-13T15:01:05.438Z"
   },
   {
    "duration": 70,
    "start_time": "2021-10-13T15:01:25.165Z"
   },
   {
    "duration": 72,
    "start_time": "2021-10-13T15:04:02.380Z"
   },
   {
    "duration": 65,
    "start_time": "2021-10-13T15:04:12.542Z"
   },
   {
    "duration": 84,
    "start_time": "2021-10-13T15:05:02.708Z"
   },
   {
    "duration": 58,
    "start_time": "2021-10-13T15:06:19.831Z"
   },
   {
    "duration": 77,
    "start_time": "2021-10-13T15:06:54.478Z"
   },
   {
    "duration": 65,
    "start_time": "2021-10-13T15:07:15.193Z"
   },
   {
    "duration": 75,
    "start_time": "2021-10-13T15:07:24.570Z"
   },
   {
    "duration": 57,
    "start_time": "2021-10-13T15:07:42.747Z"
   },
   {
    "duration": 66,
    "start_time": "2021-10-13T15:08:31.513Z"
   },
   {
    "duration": 63,
    "start_time": "2021-10-13T15:09:18.450Z"
   },
   {
    "duration": 85,
    "start_time": "2021-10-13T15:09:35.078Z"
   },
   {
    "duration": 67,
    "start_time": "2021-10-13T15:11:52.144Z"
   },
   {
    "duration": 58,
    "start_time": "2021-10-13T15:13:01.645Z"
   },
   {
    "duration": 366,
    "start_time": "2021-10-13T15:13:14.590Z"
   },
   {
    "duration": 61,
    "start_time": "2021-10-13T15:13:19.193Z"
   },
   {
    "duration": 70,
    "start_time": "2021-10-13T15:14:58.757Z"
   },
   {
    "duration": 67,
    "start_time": "2021-10-13T15:15:04.452Z"
   },
   {
    "duration": 336,
    "start_time": "2021-10-13T15:18:18.655Z"
   },
   {
    "duration": 90,
    "start_time": "2021-10-13T15:18:33.649Z"
   },
   {
    "duration": 72,
    "start_time": "2021-10-13T15:18:39.923Z"
   },
   {
    "duration": 318,
    "start_time": "2021-10-13T15:19:00.377Z"
   },
   {
    "duration": 295,
    "start_time": "2021-10-13T15:19:08.736Z"
   },
   {
    "duration": 62,
    "start_time": "2021-10-13T15:19:26.391Z"
   },
   {
    "duration": 69,
    "start_time": "2021-10-13T15:54:09.326Z"
   },
   {
    "duration": 68,
    "start_time": "2021-10-13T15:54:46.352Z"
   },
   {
    "duration": 65,
    "start_time": "2021-10-13T15:54:53.104Z"
   },
   {
    "duration": 65,
    "start_time": "2021-10-13T15:55:13.041Z"
   },
   {
    "duration": 67,
    "start_time": "2021-10-13T15:55:27.687Z"
   },
   {
    "duration": 66,
    "start_time": "2021-10-13T15:55:43.201Z"
   },
   {
    "duration": 4334,
    "start_time": "2021-10-13T15:56:10.160Z"
   },
   {
    "duration": 74,
    "start_time": "2021-10-13T16:04:00.466Z"
   },
   {
    "duration": 69,
    "start_time": "2021-10-13T16:09:47.307Z"
   },
   {
    "duration": 69,
    "start_time": "2021-10-13T16:09:56.558Z"
   },
   {
    "duration": 70,
    "start_time": "2021-10-13T16:10:13.988Z"
   },
   {
    "duration": 70,
    "start_time": "2021-10-13T16:10:26.165Z"
   },
   {
    "duration": 67,
    "start_time": "2021-10-13T16:10:44.617Z"
   },
   {
    "duration": 91,
    "start_time": "2021-10-13T16:11:57.246Z"
   },
   {
    "duration": 72,
    "start_time": "2021-10-13T16:12:10.756Z"
   },
   {
    "duration": 65,
    "start_time": "2021-10-13T16:12:24.612Z"
   },
   {
    "duration": 66,
    "start_time": "2021-10-13T16:13:08.967Z"
   },
   {
    "duration": 65,
    "start_time": "2021-10-13T16:14:12.540Z"
   },
   {
    "duration": 71,
    "start_time": "2021-10-13T16:14:30.536Z"
   },
   {
    "duration": 68,
    "start_time": "2021-10-13T16:14:45.652Z"
   },
   {
    "duration": 79,
    "start_time": "2021-10-13T16:14:56.088Z"
   },
   {
    "duration": 70,
    "start_time": "2021-10-13T16:15:05.806Z"
   },
   {
    "duration": 70,
    "start_time": "2021-10-13T16:15:34.387Z"
   },
   {
    "duration": 67,
    "start_time": "2021-10-13T16:16:08.127Z"
   },
   {
    "duration": 63,
    "start_time": "2021-10-13T16:17:10.304Z"
   },
   {
    "duration": 6892,
    "start_time": "2021-10-13T16:17:28.878Z"
   },
   {
    "duration": 5526,
    "start_time": "2021-10-13T16:17:36.969Z"
   },
   {
    "duration": 106,
    "start_time": "2021-10-13T16:18:17.737Z"
   },
   {
    "duration": 69,
    "start_time": "2021-10-13T16:18:41.261Z"
   },
   {
    "duration": 72,
    "start_time": "2021-10-13T17:34:25.416Z"
   },
   {
    "duration": 296,
    "start_time": "2021-10-13T17:35:06.636Z"
   },
   {
    "duration": 75,
    "start_time": "2021-10-13T17:35:13.480Z"
   },
   {
    "duration": 68,
    "start_time": "2021-10-13T17:38:31.808Z"
   },
   {
    "duration": 67,
    "start_time": "2021-10-13T17:39:12.324Z"
   },
   {
    "duration": 317,
    "start_time": "2021-10-13T17:43:47.571Z"
   },
   {
    "duration": 298,
    "start_time": "2021-10-13T17:43:55.651Z"
   },
   {
    "duration": 326,
    "start_time": "2021-10-13T17:44:21.911Z"
   },
   {
    "duration": 423,
    "start_time": "2021-10-13T17:44:31.157Z"
   },
   {
    "duration": 74,
    "start_time": "2021-10-13T17:44:59.365Z"
   },
   {
    "duration": 71,
    "start_time": "2021-10-13T17:47:18.987Z"
   },
   {
    "duration": 68,
    "start_time": "2021-10-13T17:47:29.688Z"
   },
   {
    "duration": 71,
    "start_time": "2021-10-13T17:48:07.101Z"
   },
   {
    "duration": 71,
    "start_time": "2021-10-13T17:48:28.210Z"
   },
   {
    "duration": 71,
    "start_time": "2021-10-13T17:48:43.788Z"
   },
   {
    "duration": 71,
    "start_time": "2021-10-13T17:48:51.096Z"
   },
   {
    "duration": 72,
    "start_time": "2021-10-13T17:49:03.948Z"
   },
   {
    "duration": 311,
    "start_time": "2021-10-13T18:01:43.636Z"
   },
   {
    "duration": 5529,
    "start_time": "2021-10-13T18:02:37.300Z"
   },
   {
    "duration": 73,
    "start_time": "2021-10-13T18:03:04.992Z"
   },
   {
    "duration": 4065,
    "start_time": "2021-10-13T18:03:26.610Z"
   },
   {
    "duration": 4498,
    "start_time": "2021-10-13T18:03:38.088Z"
   },
   {
    "duration": 4258,
    "start_time": "2021-10-13T18:03:56.700Z"
   },
   {
    "duration": 2847,
    "start_time": "2021-10-13T18:04:33.728Z"
   },
   {
    "duration": 3255,
    "start_time": "2021-10-13T18:05:06.409Z"
   },
   {
    "duration": 95,
    "start_time": "2021-10-13T18:05:49.517Z"
   },
   {
    "duration": 69,
    "start_time": "2021-10-13T18:06:07.423Z"
   },
   {
    "duration": 97,
    "start_time": "2021-10-13T18:06:15.444Z"
   },
   {
    "duration": 3219,
    "start_time": "2021-10-13T18:07:10.400Z"
   },
   {
    "duration": 94,
    "start_time": "2021-10-13T18:36:54.399Z"
   },
   {
    "duration": 92,
    "start_time": "2021-10-13T18:38:04.067Z"
   },
   {
    "duration": 67,
    "start_time": "2021-10-13T18:39:55.579Z"
   },
   {
    "duration": 698,
    "start_time": "2021-10-14T07:01:56.697Z"
   },
   {
    "duration": 54,
    "start_time": "2021-10-14T07:04:16.778Z"
   },
   {
    "duration": 62,
    "start_time": "2021-10-14T07:04:33.157Z"
   },
   {
    "duration": 59,
    "start_time": "2021-10-14T07:05:02.008Z"
   },
   {
    "duration": 65,
    "start_time": "2021-10-14T07:05:32.735Z"
   },
   {
    "duration": 55,
    "start_time": "2021-10-14T07:13:21.095Z"
   },
   {
    "duration": 53,
    "start_time": "2021-10-14T07:13:44.917Z"
   },
   {
    "duration": 52,
    "start_time": "2021-10-14T07:13:55.985Z"
   },
   {
    "duration": 54,
    "start_time": "2021-10-14T07:14:04.877Z"
   },
   {
    "duration": 54,
    "start_time": "2021-10-14T07:14:10.637Z"
   },
   {
    "duration": 111,
    "start_time": "2021-10-14T07:15:12.184Z"
   },
   {
    "duration": 51,
    "start_time": "2021-10-14T07:15:36.497Z"
   },
   {
    "duration": 53,
    "start_time": "2021-10-14T07:16:00.417Z"
   },
   {
    "duration": 53,
    "start_time": "2021-10-14T07:16:15.572Z"
   },
   {
    "duration": 51,
    "start_time": "2021-10-14T07:16:23.538Z"
   },
   {
    "duration": 52,
    "start_time": "2021-10-14T07:16:31.437Z"
   },
   {
    "duration": 52,
    "start_time": "2021-10-14T07:16:56.685Z"
   },
   {
    "duration": 50,
    "start_time": "2021-10-14T07:17:06.104Z"
   },
   {
    "duration": 56,
    "start_time": "2021-10-14T07:18:27.997Z"
   },
   {
    "duration": 115,
    "start_time": "2021-10-14T07:20:15.897Z"
   },
   {
    "duration": 67,
    "start_time": "2021-10-14T07:20:20.157Z"
   },
   {
    "duration": 65,
    "start_time": "2021-10-14T07:22:10.445Z"
   },
   {
    "duration": 54,
    "start_time": "2021-10-14T07:22:57.584Z"
   },
   {
    "duration": 54,
    "start_time": "2021-10-14T07:23:17.423Z"
   },
   {
    "duration": 54,
    "start_time": "2021-10-14T07:23:21.783Z"
   },
   {
    "duration": 67,
    "start_time": "2021-10-14T07:23:27.364Z"
   },
   {
    "duration": 53,
    "start_time": "2021-10-14T07:23:31.744Z"
   },
   {
    "duration": 54,
    "start_time": "2021-10-14T07:23:38.152Z"
   },
   {
    "duration": 55,
    "start_time": "2021-10-14T07:23:42.545Z"
   },
   {
    "duration": 55,
    "start_time": "2021-10-14T07:23:46.731Z"
   },
   {
    "duration": 54,
    "start_time": "2021-10-14T07:23:50.885Z"
   },
   {
    "duration": 68,
    "start_time": "2021-10-14T07:24:09.303Z"
   },
   {
    "duration": 57,
    "start_time": "2021-10-14T07:24:42.264Z"
   },
   {
    "duration": 8977,
    "start_time": "2021-10-14T07:25:02.368Z"
   },
   {
    "duration": 395,
    "start_time": "2021-10-14T07:25:58.543Z"
   },
   {
    "duration": 53,
    "start_time": "2021-10-14T07:26:18.561Z"
   },
   {
    "duration": 66,
    "start_time": "2021-10-14T07:27:01.045Z"
   },
   {
    "duration": 71,
    "start_time": "2021-10-14T07:32:56.725Z"
   },
   {
    "duration": 92,
    "start_time": "2021-10-14T07:36:05.384Z"
   },
   {
    "duration": 71,
    "start_time": "2021-10-14T07:36:19.425Z"
   },
   {
    "duration": 28,
    "start_time": "2021-10-14T07:36:31.597Z"
   },
   {
    "duration": 53,
    "start_time": "2021-10-14T07:41:18.824Z"
   },
   {
    "duration": 48,
    "start_time": "2021-10-14T07:50:52.618Z"
   },
   {
    "duration": 2277,
    "start_time": "2021-10-14T09:35:24.754Z"
   },
   {
    "duration": 2345,
    "start_time": "2021-10-14T09:35:57.468Z"
   },
   {
    "duration": 2481,
    "start_time": "2021-10-14T09:36:42.091Z"
   },
   {
    "duration": 55,
    "start_time": "2021-10-14T09:37:27.542Z"
   },
   {
    "duration": 54,
    "start_time": "2021-10-14T09:37:44.620Z"
   },
   {
    "duration": 27,
    "start_time": "2021-10-14T09:38:32.018Z"
   },
   {
    "duration": 325,
    "start_time": "2021-10-14T09:39:05.592Z"
   },
   {
    "duration": 101,
    "start_time": "2021-10-14T09:39:36.326Z"
   },
   {
    "duration": 30,
    "start_time": "2021-10-14T09:40:01.080Z"
   },
   {
    "duration": 33,
    "start_time": "2021-10-14T09:40:17.870Z"
   },
   {
    "duration": 54,
    "start_time": "2021-10-14T09:58:55.372Z"
   },
   {
    "duration": 58,
    "start_time": "2021-10-14T09:59:17.341Z"
   },
   {
    "duration": 62,
    "start_time": "2021-10-14T09:59:28.946Z"
   },
   {
    "duration": 58,
    "start_time": "2021-10-14T09:59:35.247Z"
   },
   {
    "duration": 56,
    "start_time": "2021-10-14T10:10:07.240Z"
   },
   {
    "duration": 78,
    "start_time": "2021-10-14T10:11:37.386Z"
   },
   {
    "duration": 79,
    "start_time": "2021-10-14T10:11:46.047Z"
   },
   {
    "duration": 79,
    "start_time": "2021-10-14T10:13:07.857Z"
   },
   {
    "duration": 35,
    "start_time": "2021-10-14T10:15:48.916Z"
   },
   {
    "duration": 2412,
    "start_time": "2021-10-14T10:21:03.657Z"
   },
   {
    "duration": 55,
    "start_time": "2021-10-14T10:21:31.624Z"
   },
   {
    "duration": 54,
    "start_time": "2021-10-14T10:21:45.130Z"
   },
   {
    "duration": 8,
    "start_time": "2021-10-14T13:03:02.189Z"
   },
   {
    "duration": 5,
    "start_time": "2021-10-14T13:03:26.585Z"
   },
   {
    "duration": 5,
    "start_time": "2021-10-14T13:03:31.236Z"
   },
   {
    "duration": 5,
    "start_time": "2021-10-14T13:03:37.441Z"
   },
   {
    "duration": 5,
    "start_time": "2021-10-14T13:03:53.532Z"
   },
   {
    "duration": 6,
    "start_time": "2021-10-14T13:04:32.368Z"
   },
   {
    "duration": 109,
    "start_time": "2021-10-14T13:05:45.755Z"
   },
   {
    "duration": 7,
    "start_time": "2021-10-14T13:05:49.884Z"
   },
   {
    "duration": 4,
    "start_time": "2021-10-14T13:05:55.544Z"
   },
   {
    "duration": -221,
    "start_time": "2021-10-14T13:06:29.418Z"
   },
   {
    "duration": 8,
    "start_time": "2021-10-14T13:07:15.907Z"
   },
   {
    "duration": 6,
    "start_time": "2021-10-14T13:47:19.624Z"
   },
   {
    "duration": 11,
    "start_time": "2021-10-14T14:52:43.584Z"
   },
   {
    "duration": 5,
    "start_time": "2021-10-14T14:53:00.594Z"
   },
   {
    "duration": 10,
    "start_time": "2021-10-14T19:27:26.195Z"
   },
   {
    "duration": 210,
    "start_time": "2021-10-15T06:46:30.261Z"
   },
   {
    "duration": 607,
    "start_time": "2021-10-15T06:46:45.002Z"
   },
   {
    "duration": 10,
    "start_time": "2021-10-15T06:46:50.094Z"
   },
   {
    "duration": 6,
    "start_time": "2021-10-15T06:47:19.374Z"
   },
   {
    "duration": 7,
    "start_time": "2021-10-15T06:48:58.394Z"
   },
   {
    "duration": 48,
    "start_time": "2021-10-15T07:11:42.674Z"
   },
   {
    "duration": 51,
    "start_time": "2021-10-15T07:12:18.687Z"
   },
   {
    "duration": 11,
    "start_time": "2021-10-15T07:12:58.847Z"
   },
   {
    "duration": 50,
    "start_time": "2021-10-15T07:17:25.240Z"
   },
   {
    "duration": 16,
    "start_time": "2021-10-15T07:22:15.740Z"
   },
   {
    "duration": 7,
    "start_time": "2021-10-15T07:26:53.512Z"
   },
   {
    "duration": 13,
    "start_time": "2021-10-15T07:27:20.699Z"
   },
   {
    "duration": 7,
    "start_time": "2021-10-15T07:27:40.849Z"
   },
   {
    "duration": 186,
    "start_time": "2021-10-15T07:29:05.400Z"
   },
   {
    "duration": 16,
    "start_time": "2021-10-15T07:29:17.618Z"
   },
   {
    "duration": 7,
    "start_time": "2021-10-15T07:31:31.999Z"
   },
   {
    "duration": 7,
    "start_time": "2021-10-15T07:38:08.120Z"
   },
   {
    "duration": 10,
    "start_time": "2021-10-15T07:38:42.872Z"
   },
   {
    "duration": 7,
    "start_time": "2021-10-15T07:38:54.331Z"
   },
   {
    "duration": 7,
    "start_time": "2021-10-15T07:48:10.440Z"
   },
   {
    "duration": 7,
    "start_time": "2021-10-15T07:50:37.019Z"
   },
   {
    "duration": 10,
    "start_time": "2021-10-15T08:03:54.471Z"
   },
   {
    "duration": 8,
    "start_time": "2021-10-15T08:04:14.379Z"
   },
   {
    "duration": 6,
    "start_time": "2021-10-15T08:22:46.961Z"
   },
   {
    "duration": 15,
    "start_time": "2021-10-15T08:39:44.833Z"
   },
   {
    "duration": 9,
    "start_time": "2021-10-15T08:39:56.245Z"
   },
   {
    "duration": 6,
    "start_time": "2021-10-15T08:40:40.952Z"
   },
   {
    "duration": 8,
    "start_time": "2021-10-15T08:48:44.572Z"
   },
   {
    "duration": 8,
    "start_time": "2021-10-15T08:51:03.173Z"
   },
   {
    "duration": 10,
    "start_time": "2021-10-15T08:51:45.993Z"
   },
   {
    "duration": 5,
    "start_time": "2021-10-15T08:59:40.212Z"
   },
   {
    "duration": 191,
    "start_time": "2021-10-15T08:59:47.704Z"
   },
   {
    "duration": 205,
    "start_time": "2021-10-15T09:00:04.691Z"
   },
   {
    "duration": 6,
    "start_time": "2021-10-15T09:00:24.693Z"
   },
   {
    "duration": 8,
    "start_time": "2021-10-15T09:00:40.924Z"
   },
   {
    "duration": 7,
    "start_time": "2021-10-15T09:15:28.304Z"
   },
   {
    "duration": 11,
    "start_time": "2021-10-15T09:16:12.473Z"
   },
   {
    "duration": 11,
    "start_time": "2021-10-15T09:16:55.912Z"
   },
   {
    "duration": 18,
    "start_time": "2021-10-15T09:17:32.472Z"
   },
   {
    "duration": 59,
    "start_time": "2021-10-15T09:18:05.132Z"
   },
   {
    "duration": 57,
    "start_time": "2021-10-15T09:18:12.385Z"
   },
   {
    "duration": 11,
    "start_time": "2021-10-15T09:18:19.353Z"
   },
   {
    "duration": 11,
    "start_time": "2021-10-15T09:18:23.093Z"
   },
   {
    "duration": 4,
    "start_time": "2021-10-15T09:22:55.013Z"
   },
   {
    "duration": 5,
    "start_time": "2021-10-15T09:23:20.522Z"
   },
   {
    "duration": 15,
    "start_time": "2021-10-15T09:23:44.022Z"
   },
   {
    "duration": 9,
    "start_time": "2021-10-15T14:31:52.838Z"
   },
   {
    "duration": 9,
    "start_time": "2021-10-15T14:32:04.013Z"
   },
   {
    "duration": 8,
    "start_time": "2021-10-15T14:32:16.320Z"
   },
   {
    "duration": 180,
    "start_time": "2021-10-15T14:32:35.079Z"
   },
   {
    "duration": 4,
    "start_time": "2021-10-15T14:32:39.237Z"
   },
   {
    "duration": 4,
    "start_time": "2021-10-15T14:32:49.134Z"
   },
   {
    "duration": 5,
    "start_time": "2021-10-15T14:32:56.531Z"
   },
   {
    "duration": 5,
    "start_time": "2021-10-15T14:33:43.872Z"
   },
   {
    "duration": 4,
    "start_time": "2021-10-15T14:34:11.633Z"
   },
   {
    "duration": 5,
    "start_time": "2021-10-15T14:34:15.884Z"
   },
   {
    "duration": 6,
    "start_time": "2021-10-15T14:35:01.541Z"
   },
   {
    "duration": 9,
    "start_time": "2021-10-15T14:37:01.840Z"
   },
   {
    "duration": 10,
    "start_time": "2021-10-15T14:39:47.322Z"
   },
   {
    "duration": 8,
    "start_time": "2021-10-15T14:39:53.505Z"
   },
   {
    "duration": 8,
    "start_time": "2021-10-15T14:40:27.900Z"
   },
   {
    "duration": 9,
    "start_time": "2021-10-15T14:43:03.503Z"
   },
   {
    "duration": 36,
    "start_time": "2021-10-15T14:52:35.493Z"
   },
   {
    "duration": 7,
    "start_time": "2021-10-15T14:53:58.057Z"
   },
   {
    "duration": 3,
    "start_time": "2021-10-15T14:54:47.457Z"
   },
   {
    "duration": 21,
    "start_time": "2021-10-15T14:55:01.392Z"
   },
   {
    "duration": 5,
    "start_time": "2021-10-15T14:56:14.073Z"
   },
   {
    "duration": 20,
    "start_time": "2021-10-15T14:56:32.934Z"
   },
   {
    "duration": 8,
    "start_time": "2021-10-15T14:57:38.118Z"
   },
   {
    "duration": 7,
    "start_time": "2021-10-15T14:59:08.472Z"
   },
   {
    "duration": 7,
    "start_time": "2021-10-15T15:00:19.716Z"
   },
   {
    "duration": 9,
    "start_time": "2021-10-15T15:00:46.791Z"
   },
   {
    "duration": 9,
    "start_time": "2021-10-15T15:01:50.198Z"
   },
   {
    "duration": 2,
    "start_time": "2021-10-15T15:03:55.349Z"
   },
   {
    "duration": 31,
    "start_time": "2021-10-15T15:10:17.456Z"
   },
   {
    "duration": 32,
    "start_time": "2021-10-15T15:10:24.371Z"
   },
   {
    "duration": 35,
    "start_time": "2021-10-15T15:11:11.892Z"
   },
   {
    "duration": 33,
    "start_time": "2021-10-15T15:21:57.657Z"
   },
   {
    "duration": 35,
    "start_time": "2021-10-15T15:24:28.098Z"
   },
   {
    "duration": 8,
    "start_time": "2021-10-15T15:31:48.622Z"
   },
   {
    "duration": 768,
    "start_time": "2021-10-15T15:32:29.483Z"
   },
   {
    "duration": 6,
    "start_time": "2021-10-15T15:32:58.151Z"
   },
   {
    "duration": 5,
    "start_time": "2021-10-15T15:33:49.257Z"
   },
   {
    "duration": 12,
    "start_time": "2021-10-15T15:35:36.950Z"
   },
   {
    "duration": 9,
    "start_time": "2021-10-15T15:36:18.483Z"
   },
   {
    "duration": 8,
    "start_time": "2021-10-15T15:36:30.231Z"
   },
   {
    "duration": 6,
    "start_time": "2021-10-15T15:42:25.661Z"
   },
   {
    "duration": 9,
    "start_time": "2021-10-15T15:42:39.505Z"
   },
   {
    "duration": 7,
    "start_time": "2021-10-15T15:51:47.693Z"
   },
   {
    "duration": 1267,
    "start_time": "2021-10-15T15:52:12.541Z"
   },
   {
    "duration": 7,
    "start_time": "2021-10-15T15:52:24.141Z"
   },
   {
    "duration": 200,
    "start_time": "2021-10-15T15:55:48.931Z"
   },
   {
    "duration": 9,
    "start_time": "2021-10-15T15:55:58.181Z"
   },
   {
    "duration": 10,
    "start_time": "2021-10-15T15:58:11.780Z"
   },
   {
    "duration": 9,
    "start_time": "2021-10-15T15:58:27.121Z"
   },
   {
    "duration": 6,
    "start_time": "2021-10-15T16:21:05.441Z"
   },
   {
    "duration": 8,
    "start_time": "2021-10-15T16:21:18.693Z"
   },
   {
    "duration": 24,
    "start_time": "2021-10-15T16:23:08.092Z"
   },
   {
    "duration": 6,
    "start_time": "2021-10-15T16:33:59.381Z"
   },
   {
    "duration": 6,
    "start_time": "2021-10-15T16:58:04.627Z"
   },
   {
    "duration": 8,
    "start_time": "2021-10-15T16:59:46.587Z"
   },
   {
    "duration": 6,
    "start_time": "2021-10-15T17:00:00.867Z"
   },
   {
    "duration": 8,
    "start_time": "2021-10-15T17:00:32.915Z"
   },
   {
    "duration": 6,
    "start_time": "2021-10-15T17:00:44.067Z"
   },
   {
    "duration": 9,
    "start_time": "2021-10-15T17:04:06.534Z"
   },
   {
    "duration": 4,
    "start_time": "2021-10-15T17:11:31.459Z"
   },
   {
    "duration": 4,
    "start_time": "2021-10-15T17:11:37.767Z"
   },
   {
    "duration": 6,
    "start_time": "2021-10-15T17:12:11.856Z"
   },
   {
    "duration": 9,
    "start_time": "2021-10-15T17:12:18.370Z"
   },
   {
    "duration": 9,
    "start_time": "2021-10-15T17:12:48.127Z"
   },
   {
    "duration": 10,
    "start_time": "2021-10-15T17:13:33.646Z"
   },
   {
    "duration": 7,
    "start_time": "2021-10-15T17:14:54.001Z"
   },
   {
    "duration": 8,
    "start_time": "2021-10-15T17:18:56.791Z"
   },
   {
    "duration": 15,
    "start_time": "2021-10-15T17:19:03.574Z"
   },
   {
    "duration": 9,
    "start_time": "2021-10-15T17:19:10.925Z"
   },
   {
    "duration": 6,
    "start_time": "2021-10-15T17:20:31.374Z"
   },
   {
    "duration": 9,
    "start_time": "2021-10-15T17:20:56.705Z"
   },
   {
    "duration": 8,
    "start_time": "2021-10-15T17:21:28.806Z"
   },
   {
    "duration": 801,
    "start_time": "2021-10-16T06:52:56.771Z"
   },
   {
    "duration": 12,
    "start_time": "2021-10-16T06:59:32.560Z"
   },
   {
    "duration": 9,
    "start_time": "2021-10-16T07:05:41.286Z"
   },
   {
    "duration": 13,
    "start_time": "2021-10-16T07:05:54.163Z"
   },
   {
    "duration": 43,
    "start_time": "2021-10-16T07:06:03.634Z"
   },
   {
    "duration": 49,
    "start_time": "2021-10-16T07:06:15.659Z"
   },
   {
    "duration": 47,
    "start_time": "2021-10-16T07:06:35.431Z"
   },
   {
    "duration": 12,
    "start_time": "2021-10-16T07:17:18.806Z"
   },
   {
    "duration": 14,
    "start_time": "2021-10-16T07:18:23.397Z"
   },
   {
    "duration": 10,
    "start_time": "2021-10-16T07:19:57.447Z"
   },
   {
    "duration": 12,
    "start_time": "2021-10-16T07:20:35.830Z"
   },
   {
    "duration": 10,
    "start_time": "2021-10-16T07:20:44.704Z"
   },
   {
    "duration": 707,
    "start_time": "2021-10-16T07:21:00.526Z"
   },
   {
    "duration": 13,
    "start_time": "2021-10-16T07:21:13.388Z"
   },
   {
    "duration": 11,
    "start_time": "2021-10-16T07:24:54.886Z"
   },
   {
    "duration": 11,
    "start_time": "2021-10-16T07:24:58.310Z"
   },
   {
    "duration": 11,
    "start_time": "2021-10-16T07:25:05.958Z"
   },
   {
    "duration": 11,
    "start_time": "2021-10-16T07:28:05.438Z"
   },
   {
    "duration": -169,
    "start_time": "2021-10-16T07:36:20.023Z"
   },
   {
    "duration": 7981,
    "start_time": "2021-10-16T07:36:25.019Z"
   },
   {
    "duration": -1036,
    "start_time": "2021-10-16T07:36:57.441Z"
   },
   {
    "duration": 6932,
    "start_time": "2021-10-16T07:37:16.150Z"
   },
   {
    "duration": 7380,
    "start_time": "2021-10-16T07:37:23.826Z"
   },
   {
    "duration": 6901,
    "start_time": "2021-10-16T07:37:56.458Z"
   },
   {
    "duration": 7253,
    "start_time": "2021-10-16T07:38:09.078Z"
   },
   {
    "duration": 799,
    "start_time": "2021-10-16T07:38:20.981Z"
   },
   {
    "duration": 15,
    "start_time": "2021-10-16T07:38:21.782Z"
   },
   {
    "duration": 26,
    "start_time": "2021-10-16T07:38:21.800Z"
   },
   {
    "duration": 11,
    "start_time": "2021-10-16T07:38:21.830Z"
   },
   {
    "duration": 60,
    "start_time": "2021-10-16T07:38:21.844Z"
   },
   {
    "duration": 11,
    "start_time": "2021-10-16T07:38:21.906Z"
   },
   {
    "duration": 13,
    "start_time": "2021-10-16T07:38:21.920Z"
   },
   {
    "duration": 49,
    "start_time": "2021-10-16T07:38:21.936Z"
   },
   {
    "duration": 13,
    "start_time": "2021-10-16T07:38:21.992Z"
   },
   {
    "duration": 10,
    "start_time": "2021-10-16T07:38:22.009Z"
   },
   {
    "duration": 60,
    "start_time": "2021-10-16T07:38:22.022Z"
   },
   {
    "duration": 10,
    "start_time": "2021-10-16T07:38:22.085Z"
   },
   {
    "duration": 13,
    "start_time": "2021-10-16T07:38:22.098Z"
   },
   {
    "duration": 17,
    "start_time": "2021-10-16T07:38:22.114Z"
   },
   {
    "duration": 98,
    "start_time": "2021-10-16T07:38:22.134Z"
   },
   {
    "duration": 16,
    "start_time": "2021-10-16T07:38:22.234Z"
   },
   {
    "duration": 50,
    "start_time": "2021-10-16T07:38:22.253Z"
   },
   {
    "duration": 11,
    "start_time": "2021-10-16T07:38:22.306Z"
   },
   {
    "duration": 18,
    "start_time": "2021-10-16T07:38:22.319Z"
   },
   {
    "duration": 44,
    "start_time": "2021-10-16T07:38:22.339Z"
   },
   {
    "duration": 37,
    "start_time": "2021-10-16T07:38:22.386Z"
   },
   {
    "duration": 83,
    "start_time": "2021-10-16T07:38:22.425Z"
   },
   {
    "duration": 51,
    "start_time": "2021-10-16T07:38:22.511Z"
   },
   {
    "duration": 25,
    "start_time": "2021-10-16T07:38:22.564Z"
   },
   {
    "duration": 15,
    "start_time": "2021-10-16T07:38:22.592Z"
   },
   {
    "duration": 11,
    "start_time": "2021-10-16T07:38:22.610Z"
   },
   {
    "duration": 90,
    "start_time": "2021-10-16T07:38:22.625Z"
   },
   {
    "duration": 12,
    "start_time": "2021-10-16T07:38:22.718Z"
   },
   {
    "duration": 69,
    "start_time": "2021-10-16T07:38:22.732Z"
   },
   {
    "duration": 9,
    "start_time": "2021-10-16T07:38:22.804Z"
   },
   {
    "duration": 15,
    "start_time": "2021-10-16T07:38:22.815Z"
   },
   {
    "duration": 7,
    "start_time": "2021-10-16T07:38:22.833Z"
   },
   {
    "duration": 12,
    "start_time": "2021-10-16T07:38:22.884Z"
   },
   {
    "duration": 12,
    "start_time": "2021-10-16T07:38:22.898Z"
   },
   {
    "duration": 9,
    "start_time": "2021-10-16T07:38:22.913Z"
   },
   {
    "duration": 60,
    "start_time": "2021-10-16T07:38:22.924Z"
   },
   {
    "duration": 10,
    "start_time": "2021-10-16T07:38:22.986Z"
   },
   {
    "duration": 11,
    "start_time": "2021-10-16T07:38:22.999Z"
   },
   {
    "duration": 53,
    "start_time": "2021-10-16T07:38:41.393Z"
   },
   {
    "duration": 9,
    "start_time": "2021-10-16T07:39:02.302Z"
   },
   {
    "duration": 349,
    "start_time": "2021-10-16T07:40:33.174Z"
   },
   {
    "duration": 10,
    "start_time": "2021-10-16T07:40:44.481Z"
   },
   {
    "duration": 304,
    "start_time": "2021-10-16T07:41:44.734Z"
   },
   {
    "duration": 244,
    "start_time": "2021-10-16T07:43:21.194Z"
   },
   {
    "duration": 269,
    "start_time": "2021-10-16T07:44:12.614Z"
   },
   {
    "duration": 59,
    "start_time": "2021-10-16T07:45:44.251Z"
   },
   {
    "duration": 306,
    "start_time": "2021-10-16T08:10:31.482Z"
   },
   {
    "duration": 54,
    "start_time": "2021-10-16T08:11:35.813Z"
   },
   {
    "duration": 6510,
    "start_time": "2021-10-16T08:11:48.345Z"
   },
   {
    "duration": 8,
    "start_time": "2021-10-16T08:12:02.093Z"
   },
   {
    "duration": 11,
    "start_time": "2021-10-16T08:12:13.527Z"
   },
   {
    "duration": 10,
    "start_time": "2021-10-16T08:14:08.361Z"
   },
   {
    "duration": 12,
    "start_time": "2021-10-16T08:14:43.334Z"
   },
   {
    "duration": 12,
    "start_time": "2021-10-16T08:15:10.661Z"
   },
   {
    "duration": 13,
    "start_time": "2021-10-16T08:16:03.425Z"
   },
   {
    "duration": 14,
    "start_time": "2021-10-16T08:16:23.464Z"
   },
   {
    "duration": 45,
    "start_time": "2021-10-16T08:17:21.855Z"
   },
   {
    "duration": 47,
    "start_time": "2021-10-16T08:17:26.083Z"
   },
   {
    "duration": 47,
    "start_time": "2021-10-16T08:17:30.313Z"
   },
   {
    "duration": 11,
    "start_time": "2021-10-16T08:17:36.722Z"
   },
   {
    "duration": 47,
    "start_time": "2021-10-16T08:17:40.201Z"
   },
   {
    "duration": 51,
    "start_time": "2021-10-16T08:17:45.313Z"
   },
   {
    "duration": 51,
    "start_time": "2021-10-16T08:17:55.253Z"
   },
   {
    "duration": 49,
    "start_time": "2021-10-16T08:18:24.254Z"
   },
   {
    "duration": 54,
    "start_time": "2021-10-16T08:19:46.550Z"
   },
   {
    "duration": 823,
    "start_time": "2021-10-16T08:21:05.088Z"
   },
   {
    "duration": 15,
    "start_time": "2021-10-16T08:21:05.913Z"
   },
   {
    "duration": 26,
    "start_time": "2021-10-16T08:21:05.931Z"
   },
   {
    "duration": 27,
    "start_time": "2021-10-16T08:21:05.960Z"
   },
   {
    "duration": 27,
    "start_time": "2021-10-16T08:21:05.989Z"
   },
   {
    "duration": 10,
    "start_time": "2021-10-16T08:21:06.018Z"
   },
   {
    "duration": 13,
    "start_time": "2021-10-16T08:21:06.030Z"
   },
   {
    "duration": 11,
    "start_time": "2021-10-16T08:21:06.082Z"
   },
   {
    "duration": 11,
    "start_time": "2021-10-16T08:21:06.100Z"
   },
   {
    "duration": 10,
    "start_time": "2021-10-16T08:21:06.115Z"
   },
   {
    "duration": 64,
    "start_time": "2021-10-16T08:21:06.127Z"
   },
   {
    "duration": 11,
    "start_time": "2021-10-16T08:21:06.193Z"
   },
   {
    "duration": 11,
    "start_time": "2021-10-16T08:21:06.207Z"
   },
   {
    "duration": 17,
    "start_time": "2021-10-16T08:21:06.221Z"
   },
   {
    "duration": 84,
    "start_time": "2021-10-16T08:21:06.240Z"
   },
   {
    "duration": 14,
    "start_time": "2021-10-16T08:21:06.326Z"
   },
   {
    "duration": 45,
    "start_time": "2021-10-16T08:21:06.343Z"
   },
   {
    "duration": 13,
    "start_time": "2021-10-16T08:21:06.390Z"
   },
   {
    "duration": 10,
    "start_time": "2021-10-16T08:21:06.405Z"
   },
   {
    "duration": 11,
    "start_time": "2021-10-16T08:21:06.418Z"
   },
   {
    "duration": 68,
    "start_time": "2021-10-16T08:21:06.431Z"
   },
   {
    "duration": 53,
    "start_time": "2021-10-16T08:21:06.502Z"
   },
   {
    "duration": 72,
    "start_time": "2021-10-16T08:21:06.557Z"
   },
   {
    "duration": 8,
    "start_time": "2021-10-16T08:21:06.632Z"
   },
   {
    "duration": 15,
    "start_time": "2021-10-16T08:21:06.642Z"
   },
   {
    "duration": 10,
    "start_time": "2021-10-16T08:21:06.683Z"
   },
   {
    "duration": 52,
    "start_time": "2021-10-16T08:21:06.699Z"
   },
   {
    "duration": 29,
    "start_time": "2021-10-16T08:21:06.754Z"
   },
   {
    "duration": 6,
    "start_time": "2021-10-16T08:21:06.786Z"
   },
   {
    "duration": 5,
    "start_time": "2021-10-16T08:21:06.795Z"
   },
   {
    "duration": 22,
    "start_time": "2021-10-16T08:21:06.803Z"
   },
   {
    "duration": 57,
    "start_time": "2021-10-16T08:21:06.827Z"
   },
   {
    "duration": 9,
    "start_time": "2021-10-16T08:21:06.887Z"
   },
   {
    "duration": 9,
    "start_time": "2021-10-16T08:21:06.899Z"
   },
   {
    "duration": 8,
    "start_time": "2021-10-16T08:21:06.910Z"
   },
   {
    "duration": 10,
    "start_time": "2021-10-16T08:21:06.921Z"
   },
   {
    "duration": 57,
    "start_time": "2021-10-16T08:21:06.934Z"
   },
   {
    "duration": 11,
    "start_time": "2021-10-16T08:21:06.994Z"
   },
   {
    "duration": 15,
    "start_time": "2021-10-16T08:21:07.008Z"
   },
   {
    "duration": 11,
    "start_time": "2021-10-16T08:21:07.026Z"
   },
   {
    "duration": 4,
    "start_time": "2021-10-16T08:21:07.084Z"
   },
   {
    "duration": 19,
    "start_time": "2021-10-16T08:36:02.789Z"
   },
   {
    "duration": 15,
    "start_time": "2021-10-16T08:36:09.097Z"
   },
   {
    "duration": 16,
    "start_time": "2021-10-16T08:36:11.388Z"
   },
   {
    "duration": 15,
    "start_time": "2021-10-16T08:36:21.658Z"
   },
   {
    "duration": 12,
    "start_time": "2021-10-16T08:36:44.724Z"
   },
   {
    "duration": 382,
    "start_time": "2021-10-16T08:54:17.829Z"
   },
   {
    "duration": 15,
    "start_time": "2021-10-16T08:57:43.334Z"
   },
   {
    "duration": 3,
    "start_time": "2021-10-16T08:58:56.694Z"
   },
   {
    "duration": 12,
    "start_time": "2021-10-16T09:03:23.808Z"
   },
   {
    "duration": 18,
    "start_time": "2021-10-16T09:03:49.463Z"
   },
   {
    "duration": 4,
    "start_time": "2021-10-16T09:04:10.344Z"
   },
   {
    "duration": 4,
    "start_time": "2021-10-16T09:05:36.222Z"
   },
   {
    "duration": 12,
    "start_time": "2021-10-16T09:05:50.050Z"
   },
   {
    "duration": 38,
    "start_time": "2021-10-16T09:06:06.510Z"
   },
   {
    "duration": 6,
    "start_time": "2021-10-16T09:10:26.094Z"
   },
   {
    "duration": 21,
    "start_time": "2021-10-16T09:10:35.894Z"
   },
   {
    "duration": 22,
    "start_time": "2021-10-16T09:11:50.262Z"
   },
   {
    "duration": 691,
    "start_time": "2021-10-16T15:45:21.988Z"
   },
   {
    "duration": 894,
    "start_time": "2021-10-16T15:45:31.935Z"
   },
   {
    "duration": 15,
    "start_time": "2021-10-16T15:45:32.832Z"
   },
   {
    "duration": 26,
    "start_time": "2021-10-16T15:45:32.862Z"
   },
   {
    "duration": 11,
    "start_time": "2021-10-16T15:45:32.891Z"
   },
   {
    "duration": 62,
    "start_time": "2021-10-16T15:45:32.905Z"
   },
   {
    "duration": 10,
    "start_time": "2021-10-16T15:45:32.970Z"
   },
   {
    "duration": 13,
    "start_time": "2021-10-16T15:45:32.983Z"
   },
   {
    "duration": 16,
    "start_time": "2021-10-16T15:45:33.000Z"
   },
   {
    "duration": 44,
    "start_time": "2021-10-16T15:45:33.019Z"
   },
   {
    "duration": 9,
    "start_time": "2021-10-16T15:45:33.066Z"
   },
   {
    "duration": 9,
    "start_time": "2021-10-16T15:45:33.077Z"
   },
   {
    "duration": 13,
    "start_time": "2021-10-16T15:45:33.088Z"
   },
   {
    "duration": 7,
    "start_time": "2021-10-16T15:45:33.103Z"
   },
   {
    "duration": 10,
    "start_time": "2021-10-16T15:45:33.112Z"
   },
   {
    "duration": 16,
    "start_time": "2021-10-16T15:45:33.163Z"
   },
   {
    "duration": 52,
    "start_time": "2021-10-16T15:45:33.181Z"
   },
   {
    "duration": 16,
    "start_time": "2021-10-16T15:45:33.262Z"
   },
   {
    "duration": 23,
    "start_time": "2021-10-16T15:45:33.280Z"
   },
   {
    "duration": 12,
    "start_time": "2021-10-16T15:45:33.305Z"
   },
   {
    "duration": 48,
    "start_time": "2021-10-16T15:45:33.319Z"
   },
   {
    "duration": 11,
    "start_time": "2021-10-16T15:45:33.370Z"
   },
   {
    "duration": 36,
    "start_time": "2021-10-16T15:45:33.383Z"
   },
   {
    "duration": 93,
    "start_time": "2021-10-16T15:45:33.425Z"
   },
   {
    "duration": 76,
    "start_time": "2021-10-16T15:45:33.521Z"
   },
   {
    "duration": 8,
    "start_time": "2021-10-16T15:45:33.599Z"
   },
   {
    "duration": 12,
    "start_time": "2021-10-16T15:45:33.610Z"
   },
   {
    "duration": 43,
    "start_time": "2021-10-16T15:45:33.624Z"
   },
   {
    "duration": 53,
    "start_time": "2021-10-16T15:45:33.669Z"
   },
   {
    "duration": 40,
    "start_time": "2021-10-16T15:45:33.725Z"
   },
   {
    "duration": 16,
    "start_time": "2021-10-16T15:45:33.767Z"
   },
   {
    "duration": 11,
    "start_time": "2021-10-16T15:45:33.785Z"
   },
   {
    "duration": 3,
    "start_time": "2021-10-16T15:45:33.799Z"
   },
   {
    "duration": 15,
    "start_time": "2021-10-16T15:45:33.805Z"
   },
   {
    "duration": 43,
    "start_time": "2021-10-16T15:45:33.823Z"
   },
   {
    "duration": 28,
    "start_time": "2021-10-16T15:45:33.868Z"
   },
   {
    "duration": 5,
    "start_time": "2021-10-16T15:45:33.898Z"
   },
   {
    "duration": 5,
    "start_time": "2021-10-16T15:45:33.906Z"
   },
   {
    "duration": 14,
    "start_time": "2021-10-16T15:45:33.914Z"
   },
   {
    "duration": 66,
    "start_time": "2021-10-16T15:45:33.930Z"
   },
   {
    "duration": 11,
    "start_time": "2021-10-16T15:45:33.998Z"
   },
   {
    "duration": 8,
    "start_time": "2021-10-16T15:45:34.011Z"
   },
   {
    "duration": 40,
    "start_time": "2021-10-16T15:45:34.022Z"
   },
   {
    "duration": 12,
    "start_time": "2021-10-16T15:45:34.064Z"
   },
   {
    "duration": 12,
    "start_time": "2021-10-16T15:45:34.078Z"
   },
   {
    "duration": 8,
    "start_time": "2021-10-16T15:45:34.093Z"
   },
   {
    "duration": 12,
    "start_time": "2021-10-16T15:45:34.104Z"
   },
   {
    "duration": 11,
    "start_time": "2021-10-16T15:45:34.162Z"
   },
   {
    "duration": 3,
    "start_time": "2021-10-16T15:45:34.175Z"
   },
   {
    "duration": 7,
    "start_time": "2021-10-16T15:45:53.486Z"
   },
   {
    "duration": 7,
    "start_time": "2021-10-16T15:46:00.050Z"
   },
   {
    "duration": 9,
    "start_time": "2021-10-16T15:46:03.886Z"
   },
   {
    "duration": 26,
    "start_time": "2021-10-16T15:58:56.654Z"
   },
   {
    "duration": 13,
    "start_time": "2021-10-16T17:38:26.939Z"
   },
   {
    "duration": 13,
    "start_time": "2021-10-16T17:38:49.867Z"
   },
   {
    "duration": 13,
    "start_time": "2021-10-16T17:38:54.646Z"
   },
   {
    "duration": 363,
    "start_time": "2021-10-16T17:43:09.523Z"
   },
   {
    "duration": 312,
    "start_time": "2021-10-16T17:43:20.769Z"
   },
   {
    "duration": 12,
    "start_time": "2021-10-16T17:43:29.927Z"
   },
   {
    "duration": 16,
    "start_time": "2021-10-16T17:43:45.948Z"
   },
   {
    "duration": 3,
    "start_time": "2021-10-16T17:44:30.812Z"
   },
   {
    "duration": 11,
    "start_time": "2021-10-16T17:45:34.907Z"
   },
   {
    "duration": 287,
    "start_time": "2021-10-17T07:45:33.377Z"
   },
   {
    "duration": 688,
    "start_time": "2021-10-17T07:45:41.247Z"
   },
   {
    "duration": 11,
    "start_time": "2021-10-17T07:45:41.936Z"
   },
   {
    "duration": 19,
    "start_time": "2021-10-17T07:45:41.949Z"
   },
   {
    "duration": 7,
    "start_time": "2021-10-17T07:45:41.969Z"
   },
   {
    "duration": 18,
    "start_time": "2021-10-17T07:45:41.978Z"
   },
   {
    "duration": 7,
    "start_time": "2021-10-17T07:45:41.997Z"
   },
   {
    "duration": 8,
    "start_time": "2021-10-17T07:45:42.006Z"
   },
   {
    "duration": 7,
    "start_time": "2021-10-17T07:45:42.017Z"
   },
   {
    "duration": 40,
    "start_time": "2021-10-17T07:45:42.026Z"
   },
   {
    "duration": 8,
    "start_time": "2021-10-17T07:45:42.068Z"
   },
   {
    "duration": 10,
    "start_time": "2021-10-17T07:45:42.077Z"
   },
   {
    "duration": 6,
    "start_time": "2021-10-17T07:45:42.088Z"
   },
   {
    "duration": 9,
    "start_time": "2021-10-17T07:45:42.095Z"
   },
   {
    "duration": 12,
    "start_time": "2021-10-17T07:45:42.105Z"
   },
   {
    "duration": 11,
    "start_time": "2021-10-17T07:45:42.118Z"
   },
   {
    "duration": 45,
    "start_time": "2021-10-17T07:45:42.131Z"
   },
   {
    "duration": 11,
    "start_time": "2021-10-17T07:45:42.178Z"
   },
   {
    "duration": 8,
    "start_time": "2021-10-17T07:45:42.191Z"
   },
   {
    "duration": 9,
    "start_time": "2021-10-17T07:45:42.201Z"
   },
   {
    "duration": 23,
    "start_time": "2021-10-17T07:45:42.211Z"
   },
   {
    "duration": 60,
    "start_time": "2021-10-17T07:45:42.236Z"
   },
   {
    "duration": 33,
    "start_time": "2021-10-17T07:45:42.297Z"
   },
   {
    "duration": 7,
    "start_time": "2021-10-17T07:45:42.333Z"
   },
   {
    "duration": 10,
    "start_time": "2021-10-17T07:45:42.364Z"
   },
   {
    "duration": 7,
    "start_time": "2021-10-17T07:45:42.376Z"
   },
   {
    "duration": 38,
    "start_time": "2021-10-17T07:45:42.384Z"
   },
   {
    "duration": 9,
    "start_time": "2021-10-17T07:45:42.424Z"
   },
   {
    "duration": 36,
    "start_time": "2021-10-17T07:45:42.434Z"
   },
   {
    "duration": 8,
    "start_time": "2021-10-17T07:45:42.471Z"
   },
   {
    "duration": 4,
    "start_time": "2021-10-17T07:45:42.481Z"
   },
   {
    "duration": 11,
    "start_time": "2021-10-17T07:45:42.487Z"
   },
   {
    "duration": 5,
    "start_time": "2021-10-17T07:45:42.500Z"
   },
   {
    "duration": 19,
    "start_time": "2021-10-17T07:45:42.506Z"
   },
   {
    "duration": 37,
    "start_time": "2021-10-17T07:45:42.527Z"
   },
   {
    "duration": 10,
    "start_time": "2021-10-17T07:45:42.566Z"
   },
   {
    "duration": 21,
    "start_time": "2021-10-17T07:45:42.577Z"
   },
   {
    "duration": 5,
    "start_time": "2021-10-17T07:45:42.600Z"
   },
   {
    "duration": 8,
    "start_time": "2021-10-17T07:45:42.607Z"
   },
   {
    "duration": 10,
    "start_time": "2021-10-17T07:45:42.617Z"
   },
   {
    "duration": 12,
    "start_time": "2021-10-17T07:45:42.629Z"
   },
   {
    "duration": 10,
    "start_time": "2021-10-17T07:45:42.664Z"
   },
   {
    "duration": 7,
    "start_time": "2021-10-17T07:45:42.676Z"
   },
   {
    "duration": 13,
    "start_time": "2021-10-17T07:45:42.684Z"
   },
   {
    "duration": 7,
    "start_time": "2021-10-17T07:45:42.699Z"
   },
   {
    "duration": 8,
    "start_time": "2021-10-17T07:45:42.708Z"
   },
   {
    "duration": 13,
    "start_time": "2021-10-17T07:45:42.717Z"
   },
   {
    "duration": 4,
    "start_time": "2021-10-17T07:45:42.732Z"
   },
   {
    "duration": 34,
    "start_time": "2021-10-17T07:45:42.737Z"
   },
   {
    "duration": 6157,
    "start_time": "2021-10-17T07:45:59.072Z"
   },
   {
    "duration": 9,
    "start_time": "2021-10-17T07:46:12.243Z"
   },
   {
    "duration": 8,
    "start_time": "2021-10-17T07:46:45.775Z"
   },
   {
    "duration": 9,
    "start_time": "2021-10-17T07:47:49.443Z"
   },
   {
    "duration": 8,
    "start_time": "2021-10-17T07:48:18.135Z"
   },
   {
    "duration": 7,
    "start_time": "2021-10-17T07:48:33.863Z"
   },
   {
    "duration": 7,
    "start_time": "2021-10-17T07:49:15.503Z"
   },
   {
    "duration": 260,
    "start_time": "2021-10-17T08:36:15.363Z"
   },
   {
    "duration": 245,
    "start_time": "2021-10-17T08:36:21.783Z"
   },
   {
    "duration": 6,
    "start_time": "2021-10-17T08:36:26.562Z"
   },
   {
    "duration": 5,
    "start_time": "2021-10-17T08:36:56.623Z"
   },
   {
    "duration": 4,
    "start_time": "2021-10-17T08:37:01.183Z"
   },
   {
    "duration": 5,
    "start_time": "2021-10-17T08:37:06.511Z"
   },
   {
    "duration": 5,
    "start_time": "2021-10-17T08:37:15.359Z"
   },
   {
    "duration": 8,
    "start_time": "2021-10-17T08:37:31.032Z"
   },
   {
    "duration": 9,
    "start_time": "2021-10-17T08:38:35.372Z"
   },
   {
    "duration": 8,
    "start_time": "2021-10-17T08:38:36.454Z"
   },
   {
    "duration": 3,
    "start_time": "2021-10-17T08:39:07.863Z"
   },
   {
    "duration": 282,
    "start_time": "2021-10-17T08:39:58.968Z"
   },
   {
    "duration": 6,
    "start_time": "2021-10-17T08:40:01.573Z"
   },
   {
    "duration": 7,
    "start_time": "2021-10-17T08:40:02.075Z"
   },
   {
    "duration": 3,
    "start_time": "2021-10-17T08:40:02.803Z"
   },
   {
    "duration": 6,
    "start_time": "2021-10-17T08:40:55.071Z"
   },
   {
    "duration": 7,
    "start_time": "2021-10-17T08:40:55.494Z"
   },
   {
    "duration": 5,
    "start_time": "2021-10-17T08:41:06.262Z"
   },
   {
    "duration": 5907,
    "start_time": "2021-10-17T08:41:15.596Z"
   },
   {
    "duration": 1857,
    "start_time": "2021-10-17T08:43:44.822Z"
   },
   {
    "duration": 6271,
    "start_time": "2021-10-17T08:44:08.924Z"
   },
   {
    "duration": 4457,
    "start_time": "2021-10-17T08:45:15.423Z"
   },
   {
    "duration": 9,
    "start_time": "2021-10-17T08:45:48.703Z"
   },
   {
    "duration": 6,
    "start_time": "2021-10-17T08:46:51.423Z"
   },
   {
    "duration": 9,
    "start_time": "2021-10-17T08:46:58.344Z"
   },
   {
    "duration": 5,
    "start_time": "2021-10-17T08:46:59.671Z"
   },
   {
    "duration": 6,
    "start_time": "2021-10-17T08:47:24.983Z"
   },
   {
    "duration": 5,
    "start_time": "2021-10-17T08:47:26.655Z"
   },
   {
    "duration": 6,
    "start_time": "2021-10-17T08:47:29.956Z"
   },
   {
    "duration": 5,
    "start_time": "2021-10-17T08:47:31.365Z"
   },
   {
    "duration": 4,
    "start_time": "2021-10-17T08:47:35.543Z"
   },
   {
    "duration": 8,
    "start_time": "2021-10-17T08:48:00.679Z"
   },
   {
    "duration": 5,
    "start_time": "2021-10-17T08:48:08.007Z"
   },
   {
    "duration": 4,
    "start_time": "2021-10-17T08:48:11.506Z"
   },
   {
    "duration": 8,
    "start_time": "2021-10-17T08:48:33.807Z"
   },
   {
    "duration": 7,
    "start_time": "2021-10-17T08:48:58.803Z"
   },
   {
    "duration": 15,
    "start_time": "2021-10-17T08:49:00.724Z"
   },
   {
    "duration": 12,
    "start_time": "2021-10-17T08:49:09.464Z"
   },
   {
    "duration": 8,
    "start_time": "2021-10-17T08:49:12.204Z"
   },
   {
    "duration": 13,
    "start_time": "2021-10-17T08:49:13.272Z"
   },
   {
    "duration": 5,
    "start_time": "2021-10-17T08:49:25.860Z"
   },
   {
    "duration": -107,
    "start_time": "2021-10-17T08:50:18.572Z"
   },
   {
    "duration": -118,
    "start_time": "2021-10-17T08:50:18.584Z"
   },
   {
    "duration": 6862,
    "start_time": "2021-10-17T08:50:18.503Z"
   },
   {
    "duration": -215,
    "start_time": "2021-10-17T08:50:25.582Z"
   },
   {
    "duration": -221,
    "start_time": "2021-10-17T08:50:25.589Z"
   },
   {
    "duration": 7383,
    "start_time": "2021-10-17T08:58:00.145Z"
   },
   {
    "duration": 699,
    "start_time": "2021-10-17T09:00:08.644Z"
   },
   {
    "duration": 10,
    "start_time": "2021-10-17T09:00:09.345Z"
   },
   {
    "duration": 15,
    "start_time": "2021-10-17T09:00:09.357Z"
   },
   {
    "duration": 8,
    "start_time": "2021-10-17T09:00:09.375Z"
   },
   {
    "duration": 28,
    "start_time": "2021-10-17T09:00:09.385Z"
   },
   {
    "duration": 9,
    "start_time": "2021-10-17T09:00:09.416Z"
   },
   {
    "duration": 12,
    "start_time": "2021-10-17T09:00:09.427Z"
   },
   {
    "duration": 8,
    "start_time": "2021-10-17T09:00:09.463Z"
   },
   {
    "duration": 9,
    "start_time": "2021-10-17T09:00:09.474Z"
   },
   {
    "duration": 25,
    "start_time": "2021-10-17T09:00:09.485Z"
   },
   {
    "duration": 10,
    "start_time": "2021-10-17T09:00:09.512Z"
   },
   {
    "duration": 6,
    "start_time": "2021-10-17T09:00:09.524Z"
   },
   {
    "duration": 11,
    "start_time": "2021-10-17T09:00:09.532Z"
   },
   {
    "duration": 12,
    "start_time": "2021-10-17T09:00:09.564Z"
   },
   {
    "duration": 14,
    "start_time": "2021-10-17T09:00:09.578Z"
   },
   {
    "duration": 16,
    "start_time": "2021-10-17T09:00:09.594Z"
   },
   {
    "duration": 11,
    "start_time": "2021-10-17T09:00:09.612Z"
   },
   {
    "duration": 42,
    "start_time": "2021-10-17T09:00:09.625Z"
   },
   {
    "duration": 9,
    "start_time": "2021-10-17T09:00:09.669Z"
   },
   {
    "duration": 22,
    "start_time": "2021-10-17T09:00:09.679Z"
   },
   {
    "duration": 32,
    "start_time": "2021-10-17T09:00:09.703Z"
   },
   {
    "duration": 61,
    "start_time": "2021-10-17T09:00:09.737Z"
   },
   {
    "duration": 7,
    "start_time": "2021-10-17T09:00:09.802Z"
   },
   {
    "duration": 15,
    "start_time": "2021-10-17T09:00:09.811Z"
   },
   {
    "duration": 7,
    "start_time": "2021-10-17T09:00:09.828Z"
   },
   {
    "duration": 68,
    "start_time": "2021-10-17T09:00:09.837Z"
   },
   {
    "duration": 9,
    "start_time": "2021-10-17T09:00:09.907Z"
   },
   {
    "duration": 10,
    "start_time": "2021-10-17T09:00:09.918Z"
   },
   {
    "duration": 8,
    "start_time": "2021-10-17T09:00:09.929Z"
   },
   {
    "duration": 28,
    "start_time": "2021-10-17T09:00:09.938Z"
   },
   {
    "duration": 12,
    "start_time": "2021-10-17T09:00:09.968Z"
   },
   {
    "duration": 7,
    "start_time": "2021-10-17T09:00:09.981Z"
   },
   {
    "duration": 30,
    "start_time": "2021-10-17T09:00:09.989Z"
   },
   {
    "duration": 6,
    "start_time": "2021-10-17T09:00:10.021Z"
   },
   {
    "duration": 14,
    "start_time": "2021-10-17T09:00:10.029Z"
   },
   {
    "duration": 35,
    "start_time": "2021-10-17T09:00:10.045Z"
   },
   {
    "duration": 6,
    "start_time": "2021-10-17T09:00:10.082Z"
   },
   {
    "duration": 9,
    "start_time": "2021-10-17T09:00:10.090Z"
   },
   {
    "duration": 9,
    "start_time": "2021-10-17T09:00:10.101Z"
   },
   {
    "duration": 17,
    "start_time": "2021-10-17T09:00:10.112Z"
   },
   {
    "duration": 9,
    "start_time": "2021-10-17T09:00:10.131Z"
   },
   {
    "duration": 8,
    "start_time": "2021-10-17T09:00:10.163Z"
   },
   {
    "duration": 11,
    "start_time": "2021-10-17T09:00:10.173Z"
   },
   {
    "duration": 11,
    "start_time": "2021-10-17T09:00:10.185Z"
   },
   {
    "duration": 6,
    "start_time": "2021-10-17T09:00:10.197Z"
   },
   {
    "duration": 16,
    "start_time": "2021-10-17T09:00:10.205Z"
   },
   {
    "duration": 6,
    "start_time": "2021-10-17T09:00:10.223Z"
   },
   {
    "duration": 32,
    "start_time": "2021-10-17T09:00:10.231Z"
   },
   {
    "duration": 12,
    "start_time": "2021-10-17T09:00:10.265Z"
   },
   {
    "duration": 10,
    "start_time": "2021-10-17T09:00:10.279Z"
   },
   {
    "duration": 16,
    "start_time": "2021-10-17T09:00:10.290Z"
   },
   {
    "duration": 12,
    "start_time": "2021-10-17T09:00:10.308Z"
   },
   {
    "duration": 10,
    "start_time": "2021-10-17T09:00:10.322Z"
   },
   {
    "duration": 10,
    "start_time": "2021-10-17T09:00:10.334Z"
   },
   {
    "duration": 13,
    "start_time": "2021-10-17T09:00:10.346Z"
   },
   {
    "duration": 12,
    "start_time": "2021-10-17T09:00:10.363Z"
   },
   {
    "duration": 10,
    "start_time": "2021-10-17T09:00:10.376Z"
   },
   {
    "duration": 7,
    "start_time": "2021-10-17T09:00:10.388Z"
   },
   {
    "duration": 5,
    "start_time": "2021-10-17T09:01:38.012Z"
   },
   {
    "duration": 5,
    "start_time": "2021-10-17T09:01:38.787Z"
   },
   {
    "duration": 5,
    "start_time": "2021-10-17T09:01:51.880Z"
   },
   {
    "duration": 5,
    "start_time": "2021-10-17T09:02:09.967Z"
   },
   {
    "duration": 5,
    "start_time": "2021-10-17T09:02:10.350Z"
   },
   {
    "duration": 4,
    "start_time": "2021-10-17T09:02:11.001Z"
   },
   {
    "duration": 5,
    "start_time": "2021-10-17T09:02:23.769Z"
   },
   {
    "duration": 26,
    "start_time": "2021-10-17T09:03:12.869Z"
   },
   {
    "duration": 561,
    "start_time": "2021-10-17T09:03:26.775Z"
   },
   {
    "duration": 9,
    "start_time": "2021-10-17T09:03:40.925Z"
   },
   {
    "duration": 9,
    "start_time": "2021-10-17T09:05:57.108Z"
   },
   {
    "duration": 10,
    "start_time": "2021-10-17T09:06:30.557Z"
   },
   {
    "duration": 8,
    "start_time": "2021-10-17T09:06:53.867Z"
   },
   {
    "duration": 631,
    "start_time": "2021-10-17T09:07:53.988Z"
   },
   {
    "duration": 11,
    "start_time": "2021-10-17T09:07:54.621Z"
   },
   {
    "duration": 15,
    "start_time": "2021-10-17T09:07:54.634Z"
   },
   {
    "duration": 15,
    "start_time": "2021-10-17T09:07:54.651Z"
   },
   {
    "duration": 18,
    "start_time": "2021-10-17T09:07:54.668Z"
   },
   {
    "duration": 7,
    "start_time": "2021-10-17T09:07:54.687Z"
   },
   {
    "duration": 8,
    "start_time": "2021-10-17T09:07:54.695Z"
   },
   {
    "duration": 7,
    "start_time": "2021-10-17T09:07:54.705Z"
   },
   {
    "duration": 6,
    "start_time": "2021-10-17T09:07:54.714Z"
   },
   {
    "duration": 11,
    "start_time": "2021-10-17T09:07:54.722Z"
   },
   {
    "duration": 32,
    "start_time": "2021-10-17T09:07:54.735Z"
   },
   {
    "duration": 9,
    "start_time": "2021-10-17T09:07:54.769Z"
   },
   {
    "duration": 7,
    "start_time": "2021-10-17T09:07:54.780Z"
   },
   {
    "duration": 11,
    "start_time": "2021-10-17T09:07:54.788Z"
   },
   {
    "duration": 10,
    "start_time": "2021-10-17T09:07:54.800Z"
   },
   {
    "duration": 12,
    "start_time": "2021-10-17T09:07:54.812Z"
   },
   {
    "duration": 43,
    "start_time": "2021-10-17T09:07:54.825Z"
   },
   {
    "duration": 11,
    "start_time": "2021-10-17T09:07:54.870Z"
   },
   {
    "duration": 8,
    "start_time": "2021-10-17T09:07:54.882Z"
   },
   {
    "duration": 8,
    "start_time": "2021-10-17T09:07:54.892Z"
   },
   {
    "duration": 22,
    "start_time": "2021-10-17T09:07:54.902Z"
   },
   {
    "duration": 64,
    "start_time": "2021-10-17T09:07:54.926Z"
   },
   {
    "duration": 33,
    "start_time": "2021-10-17T09:07:54.992Z"
   },
   {
    "duration": 6,
    "start_time": "2021-10-17T09:07:55.027Z"
   },
   {
    "duration": 37,
    "start_time": "2021-10-17T09:07:55.035Z"
   },
   {
    "duration": 8,
    "start_time": "2021-10-17T09:07:55.073Z"
   },
   {
    "duration": 34,
    "start_time": "2021-10-17T09:07:55.085Z"
   },
   {
    "duration": 8,
    "start_time": "2021-10-17T09:07:55.121Z"
   },
   {
    "duration": 34,
    "start_time": "2021-10-17T09:07:55.131Z"
   },
   {
    "duration": 8,
    "start_time": "2021-10-17T09:07:55.167Z"
   },
   {
    "duration": 2,
    "start_time": "2021-10-17T09:07:55.177Z"
   },
   {
    "duration": 13,
    "start_time": "2021-10-17T09:07:55.181Z"
   },
   {
    "duration": 5,
    "start_time": "2021-10-17T09:07:55.195Z"
   },
   {
    "duration": 18,
    "start_time": "2021-10-17T09:07:55.201Z"
   },
   {
    "duration": 5,
    "start_time": "2021-10-17T09:07:55.221Z"
   },
   {
    "duration": 36,
    "start_time": "2021-10-17T09:07:55.228Z"
   },
   {
    "duration": 21,
    "start_time": "2021-10-17T09:07:55.266Z"
   },
   {
    "duration": 5,
    "start_time": "2021-10-17T09:07:55.289Z"
   },
   {
    "duration": 10,
    "start_time": "2021-10-17T09:07:55.295Z"
   },
   {
    "duration": 12,
    "start_time": "2021-10-17T09:07:55.307Z"
   },
   {
    "duration": 10,
    "start_time": "2021-10-17T09:07:55.321Z"
   },
   {
    "duration": 34,
    "start_time": "2021-10-17T09:07:55.333Z"
   },
   {
    "duration": 7,
    "start_time": "2021-10-17T09:07:55.368Z"
   },
   {
    "duration": 11,
    "start_time": "2021-10-17T09:07:55.376Z"
   },
   {
    "duration": 8,
    "start_time": "2021-10-17T09:07:55.388Z"
   },
   {
    "duration": 3,
    "start_time": "2021-10-17T09:07:55.397Z"
   },
   {
    "duration": 14,
    "start_time": "2021-10-17T09:07:55.401Z"
   },
   {
    "duration": 4,
    "start_time": "2021-10-17T09:07:55.417Z"
   },
   {
    "duration": 40,
    "start_time": "2021-10-17T09:07:55.423Z"
   },
   {
    "duration": 8,
    "start_time": "2021-10-17T09:07:55.465Z"
   },
   {
    "duration": 12,
    "start_time": "2021-10-17T09:07:55.475Z"
   },
   {
    "duration": 10,
    "start_time": "2021-10-17T09:07:55.488Z"
   },
   {
    "duration": 12,
    "start_time": "2021-10-17T09:07:55.500Z"
   },
   {
    "duration": 8,
    "start_time": "2021-10-17T09:07:55.514Z"
   },
   {
    "duration": 11,
    "start_time": "2021-10-17T09:07:55.523Z"
   },
   {
    "duration": 13,
    "start_time": "2021-10-17T09:07:55.535Z"
   },
   {
    "duration": 7,
    "start_time": "2021-10-17T09:07:55.550Z"
   },
   {
    "duration": 11,
    "start_time": "2021-10-17T09:07:55.559Z"
   },
   {
    "duration": 8,
    "start_time": "2021-10-17T09:07:55.572Z"
   },
   {
    "duration": 11,
    "start_time": "2021-10-17T09:07:55.581Z"
   },
   {
    "duration": 13,
    "start_time": "2021-10-17T09:07:55.593Z"
   },
   {
    "duration": 8,
    "start_time": "2021-10-17T09:08:19.263Z"
   },
   {
    "duration": 5,
    "start_time": "2021-10-17T09:08:23.695Z"
   },
   {
    "duration": 7,
    "start_time": "2021-10-17T09:08:24.676Z"
   },
   {
    "duration": 7,
    "start_time": "2021-10-17T09:08:25.172Z"
   },
   {
    "duration": 6,
    "start_time": "2021-10-17T09:08:25.725Z"
   },
   {
    "duration": 7,
    "start_time": "2021-10-17T09:08:26.244Z"
   },
   {
    "duration": 7,
    "start_time": "2021-10-17T09:08:26.422Z"
   },
   {
    "duration": 6,
    "start_time": "2021-10-17T09:08:26.923Z"
   },
   {
    "duration": 5,
    "start_time": "2021-10-17T09:08:27.414Z"
   },
   {
    "duration": 6,
    "start_time": "2021-10-17T09:08:28.863Z"
   },
   {
    "duration": 5,
    "start_time": "2021-10-17T09:08:29.903Z"
   },
   {
    "duration": 4,
    "start_time": "2021-10-17T09:08:55.066Z"
   },
   {
    "duration": 4,
    "start_time": "2021-10-17T09:09:01.423Z"
   },
   {
    "duration": 7,
    "start_time": "2021-10-17T09:09:41.483Z"
   },
   {
    "duration": 8,
    "start_time": "2021-10-17T09:09:49.357Z"
   },
   {
    "duration": 9,
    "start_time": "2021-10-17T09:10:36.083Z"
   },
   {
    "duration": 7,
    "start_time": "2021-10-17T09:10:45.944Z"
   },
   {
    "duration": 8,
    "start_time": "2021-10-17T09:10:51.903Z"
   },
   {
    "duration": 7,
    "start_time": "2021-10-17T09:10:58.703Z"
   },
   {
    "duration": 8,
    "start_time": "2021-10-17T09:11:05.943Z"
   },
   {
    "duration": 5,
    "start_time": "2021-10-17T09:11:45.575Z"
   },
   {
    "duration": 6,
    "start_time": "2021-10-17T09:11:48.320Z"
   },
   {
    "duration": 6,
    "start_time": "2021-10-17T09:11:48.695Z"
   },
   {
    "duration": 4,
    "start_time": "2021-10-17T09:11:49.355Z"
   },
   {
    "duration": 307,
    "start_time": "2021-10-17T09:24:49.505Z"
   },
   {
    "duration": 239,
    "start_time": "2021-10-17T09:26:49.311Z"
   },
   {
    "duration": 6,
    "start_time": "2021-10-17T09:34:19.203Z"
   },
   {
    "duration": 5,
    "start_time": "2021-10-17T09:34:19.627Z"
   },
   {
    "duration": 8,
    "start_time": "2021-10-17T09:34:19.940Z"
   },
   {
    "duration": 7,
    "start_time": "2021-10-17T09:34:20.556Z"
   },
   {
    "duration": 7,
    "start_time": "2021-10-17T09:34:20.599Z"
   },
   {
    "duration": 7,
    "start_time": "2021-10-17T09:34:20.944Z"
   },
   {
    "duration": 7,
    "start_time": "2021-10-17T09:34:21.024Z"
   },
   {
    "duration": 8,
    "start_time": "2021-10-17T09:34:21.153Z"
   },
   {
    "duration": 6,
    "start_time": "2021-10-17T09:34:21.588Z"
   },
   {
    "duration": 8,
    "start_time": "2021-10-17T09:34:21.631Z"
   },
   {
    "duration": 4,
    "start_time": "2021-10-17T09:34:21.844Z"
   },
   {
    "duration": 9,
    "start_time": "2021-10-17T09:37:43.681Z"
   },
   {
    "duration": 5,
    "start_time": "2021-10-17T09:38:38.703Z"
   },
   {
    "duration": 6,
    "start_time": "2021-10-17T09:38:53.105Z"
   },
   {
    "duration": 5,
    "start_time": "2021-10-17T09:38:54.165Z"
   },
   {
    "duration": 2222,
    "start_time": "2021-10-17T09:40:07.884Z"
   },
   {
    "duration": 7,
    "start_time": "2021-10-17T09:40:56.652Z"
   },
   {
    "duration": 5,
    "start_time": "2021-10-17T09:41:02.432Z"
   },
   {
    "duration": 718,
    "start_time": "2021-10-17T09:41:50.834Z"
   },
   {
    "duration": 12,
    "start_time": "2021-10-17T09:41:51.554Z"
   },
   {
    "duration": 18,
    "start_time": "2021-10-17T09:41:51.568Z"
   },
   {
    "duration": 8,
    "start_time": "2021-10-17T09:41:51.588Z"
   },
   {
    "duration": 18,
    "start_time": "2021-10-17T09:41:51.598Z"
   },
   {
    "duration": 7,
    "start_time": "2021-10-17T09:41:51.618Z"
   },
   {
    "duration": 39,
    "start_time": "2021-10-17T09:41:51.627Z"
   },
   {
    "duration": 8,
    "start_time": "2021-10-17T09:41:51.668Z"
   },
   {
    "duration": 7,
    "start_time": "2021-10-17T09:41:51.679Z"
   },
   {
    "duration": 8,
    "start_time": "2021-10-17T09:41:51.688Z"
   },
   {
    "duration": 10,
    "start_time": "2021-10-17T09:41:51.697Z"
   },
   {
    "duration": 13,
    "start_time": "2021-10-17T09:41:51.708Z"
   },
   {
    "duration": 8,
    "start_time": "2021-10-17T09:41:51.722Z"
   },
   {
    "duration": 38,
    "start_time": "2021-10-17T09:41:51.731Z"
   },
   {
    "duration": 12,
    "start_time": "2021-10-17T09:41:51.771Z"
   },
   {
    "duration": 13,
    "start_time": "2021-10-17T09:41:51.784Z"
   },
   {
    "duration": 14,
    "start_time": "2021-10-17T09:41:51.799Z"
   },
   {
    "duration": 11,
    "start_time": "2021-10-17T09:41:51.815Z"
   },
   {
    "duration": 42,
    "start_time": "2021-10-17T09:41:51.828Z"
   },
   {
    "duration": 9,
    "start_time": "2021-10-17T09:41:51.871Z"
   },
   {
    "duration": 24,
    "start_time": "2021-10-17T09:41:51.882Z"
   },
   {
    "duration": 57,
    "start_time": "2021-10-17T09:41:51.907Z"
   },
   {
    "duration": 36,
    "start_time": "2021-10-17T09:41:51.966Z"
   },
   {
    "duration": 6,
    "start_time": "2021-10-17T09:41:52.004Z"
   },
   {
    "duration": 11,
    "start_time": "2021-10-17T09:41:52.012Z"
   },
   {
    "duration": 37,
    "start_time": "2021-10-17T09:41:52.025Z"
   },
   {
    "duration": 33,
    "start_time": "2021-10-17T09:41:52.067Z"
   },
   {
    "duration": 8,
    "start_time": "2021-10-17T09:41:52.103Z"
   },
   {
    "duration": 9,
    "start_time": "2021-10-17T09:41:52.112Z"
   },
   {
    "duration": 7,
    "start_time": "2021-10-17T09:41:52.123Z"
   },
   {
    "duration": 31,
    "start_time": "2021-10-17T09:41:52.132Z"
   },
   {
    "duration": 14,
    "start_time": "2021-10-17T09:41:52.165Z"
   },
   {
    "duration": 4,
    "start_time": "2021-10-17T09:41:52.181Z"
   },
   {
    "duration": 19,
    "start_time": "2021-10-17T09:41:52.187Z"
   },
   {
    "duration": 7,
    "start_time": "2021-10-17T09:41:52.207Z"
   },
   {
    "duration": 13,
    "start_time": "2021-10-17T09:41:52.216Z"
   },
   {
    "duration": 44,
    "start_time": "2021-10-17T09:41:52.231Z"
   },
   {
    "duration": 6,
    "start_time": "2021-10-17T09:41:52.276Z"
   },
   {
    "duration": 6,
    "start_time": "2021-10-17T09:41:52.284Z"
   },
   {
    "duration": 10,
    "start_time": "2021-10-17T09:41:52.292Z"
   },
   {
    "duration": 12,
    "start_time": "2021-10-17T09:41:52.304Z"
   },
   {
    "duration": 10,
    "start_time": "2021-10-17T09:41:52.317Z"
   },
   {
    "duration": 9,
    "start_time": "2021-10-17T09:41:52.329Z"
   },
   {
    "duration": 10,
    "start_time": "2021-10-17T09:41:52.364Z"
   },
   {
    "duration": 9,
    "start_time": "2021-10-17T09:41:52.376Z"
   },
   {
    "duration": 3,
    "start_time": "2021-10-17T09:41:52.387Z"
   },
   {
    "duration": 14,
    "start_time": "2021-10-17T09:41:52.391Z"
   },
   {
    "duration": 3,
    "start_time": "2021-10-17T09:41:52.407Z"
   },
   {
    "duration": 15,
    "start_time": "2021-10-17T09:41:52.411Z"
   },
   {
    "duration": 37,
    "start_time": "2021-10-17T09:41:52.428Z"
   },
   {
    "duration": 10,
    "start_time": "2021-10-17T09:41:52.466Z"
   },
   {
    "duration": 7,
    "start_time": "2021-10-17T09:41:52.477Z"
   },
   {
    "duration": 14,
    "start_time": "2021-10-17T09:41:52.485Z"
   },
   {
    "duration": 7,
    "start_time": "2021-10-17T09:41:52.501Z"
   },
   {
    "duration": 10,
    "start_time": "2021-10-17T09:41:52.509Z"
   },
   {
    "duration": 12,
    "start_time": "2021-10-17T09:41:52.521Z"
   },
   {
    "duration": 32,
    "start_time": "2021-10-17T09:41:52.534Z"
   },
   {
    "duration": 9,
    "start_time": "2021-10-17T09:41:52.567Z"
   },
   {
    "duration": 10,
    "start_time": "2021-10-17T09:41:52.577Z"
   },
   {
    "duration": 10,
    "start_time": "2021-10-17T09:41:52.589Z"
   },
   {
    "duration": 9,
    "start_time": "2021-10-17T09:41:52.600Z"
   },
   {
    "duration": 7298,
    "start_time": "2021-10-17T09:41:52.611Z"
   },
   {
    "duration": -221,
    "start_time": "2021-10-17T09:42:00.131Z"
   },
   {
    "duration": 5,
    "start_time": "2021-10-17T09:42:12.212Z"
   },
   {
    "duration": 8,
    "start_time": "2021-10-17T09:46:32.791Z"
   },
   {
    "duration": 5,
    "start_time": "2021-10-17T09:46:36.906Z"
   },
   {
    "duration": 8,
    "start_time": "2021-10-17T09:47:14.923Z"
   },
   {
    "duration": 5,
    "start_time": "2021-10-17T09:47:15.452Z"
   },
   {
    "duration": 503,
    "start_time": "2021-10-17T14:25:41.850Z"
   },
   {
    "duration": 703,
    "start_time": "2021-10-17T14:25:57.846Z"
   },
   {
    "duration": 10,
    "start_time": "2021-10-17T14:25:58.550Z"
   },
   {
    "duration": 19,
    "start_time": "2021-10-17T14:25:58.562Z"
   },
   {
    "duration": 7,
    "start_time": "2021-10-17T14:25:58.583Z"
   },
   {
    "duration": 24,
    "start_time": "2021-10-17T14:25:58.591Z"
   },
   {
    "duration": 7,
    "start_time": "2021-10-17T14:25:58.617Z"
   },
   {
    "duration": 11,
    "start_time": "2021-10-17T14:25:58.625Z"
   },
   {
    "duration": 11,
    "start_time": "2021-10-17T14:25:58.639Z"
   },
   {
    "duration": 24,
    "start_time": "2021-10-17T14:25:58.652Z"
   },
   {
    "duration": 11,
    "start_time": "2021-10-17T14:25:58.677Z"
   },
   {
    "duration": 21,
    "start_time": "2021-10-17T14:25:58.689Z"
   },
   {
    "duration": 19,
    "start_time": "2021-10-17T14:25:58.712Z"
   },
   {
    "duration": 18,
    "start_time": "2021-10-17T14:25:58.732Z"
   },
   {
    "duration": 16,
    "start_time": "2021-10-17T14:25:58.752Z"
   },
   {
    "duration": 19,
    "start_time": "2021-10-17T14:25:58.770Z"
   },
   {
    "duration": 18,
    "start_time": "2021-10-17T14:25:58.790Z"
   },
   {
    "duration": 12,
    "start_time": "2021-10-17T14:25:58.810Z"
   },
   {
    "duration": 7,
    "start_time": "2021-10-17T14:25:58.824Z"
   },
   {
    "duration": 16,
    "start_time": "2021-10-17T14:25:58.832Z"
   },
   {
    "duration": 13,
    "start_time": "2021-10-17T14:25:58.850Z"
   },
   {
    "duration": 28,
    "start_time": "2021-10-17T14:25:58.865Z"
   },
   {
    "duration": 39,
    "start_time": "2021-10-17T14:25:58.894Z"
   },
   {
    "duration": 33,
    "start_time": "2021-10-17T14:25:58.937Z"
   },
   {
    "duration": 7,
    "start_time": "2021-10-17T14:25:58.973Z"
   },
   {
    "duration": 32,
    "start_time": "2021-10-17T14:25:58.982Z"
   },
   {
    "duration": 15,
    "start_time": "2021-10-17T14:25:59.016Z"
   },
   {
    "duration": 44,
    "start_time": "2021-10-17T14:25:59.033Z"
   },
   {
    "duration": 7,
    "start_time": "2021-10-17T14:25:59.079Z"
   },
   {
    "duration": 20,
    "start_time": "2021-10-17T14:25:59.088Z"
   },
   {
    "duration": 18,
    "start_time": "2021-10-17T14:25:59.109Z"
   },
   {
    "duration": 8,
    "start_time": "2021-10-17T14:25:59.128Z"
   },
   {
    "duration": 24,
    "start_time": "2021-10-17T14:25:59.137Z"
   },
   {
    "duration": 8,
    "start_time": "2021-10-17T14:25:59.163Z"
   },
   {
    "duration": 20,
    "start_time": "2021-10-17T14:25:59.172Z"
   },
   {
    "duration": 19,
    "start_time": "2021-10-17T14:25:59.194Z"
   },
   {
    "duration": 25,
    "start_time": "2021-10-17T14:25:59.215Z"
   },
   {
    "duration": 31,
    "start_time": "2021-10-17T14:25:59.242Z"
   },
   {
    "duration": 8,
    "start_time": "2021-10-17T14:25:59.275Z"
   },
   {
    "duration": 10,
    "start_time": "2021-10-17T14:25:59.284Z"
   },
   {
    "duration": 15,
    "start_time": "2021-10-17T14:25:59.295Z"
   },
   {
    "duration": 18,
    "start_time": "2021-10-17T14:25:59.311Z"
   },
   {
    "duration": 23,
    "start_time": "2021-10-17T14:25:59.330Z"
   },
   {
    "duration": 12,
    "start_time": "2021-10-17T14:25:59.354Z"
   },
   {
    "duration": 13,
    "start_time": "2021-10-17T14:25:59.367Z"
   },
   {
    "duration": 7,
    "start_time": "2021-10-17T14:25:59.381Z"
   },
   {
    "duration": 11,
    "start_time": "2021-10-17T14:25:59.389Z"
   },
   {
    "duration": 22,
    "start_time": "2021-10-17T14:25:59.401Z"
   },
   {
    "duration": 9,
    "start_time": "2021-10-17T14:25:59.424Z"
   },
   {
    "duration": 33,
    "start_time": "2021-10-17T14:25:59.434Z"
   },
   {
    "duration": 20,
    "start_time": "2021-10-17T14:25:59.468Z"
   },
   {
    "duration": 19,
    "start_time": "2021-10-17T14:25:59.489Z"
   },
   {
    "duration": 19,
    "start_time": "2021-10-17T14:25:59.509Z"
   },
   {
    "duration": 22,
    "start_time": "2021-10-17T14:25:59.530Z"
   },
   {
    "duration": 18,
    "start_time": "2021-10-17T14:25:59.554Z"
   },
   {
    "duration": 13,
    "start_time": "2021-10-17T14:25:59.573Z"
   },
   {
    "duration": 19,
    "start_time": "2021-10-17T14:25:59.587Z"
   },
   {
    "duration": 13,
    "start_time": "2021-10-17T14:25:59.608Z"
   },
   {
    "duration": 13,
    "start_time": "2021-10-17T14:25:59.622Z"
   },
   {
    "duration": 22,
    "start_time": "2021-10-17T14:25:59.637Z"
   },
   {
    "duration": 21,
    "start_time": "2021-10-17T14:25:59.661Z"
   },
   {
    "duration": 26,
    "start_time": "2021-10-17T14:25:59.683Z"
   },
   {
    "duration": 41,
    "start_time": "2021-10-17T14:25:59.711Z"
   },
   {
    "duration": 15,
    "start_time": "2021-10-17T14:25:59.754Z"
   },
   {
    "duration": 29,
    "start_time": "2021-10-17T14:25:59.770Z"
   },
   {
    "duration": 9,
    "start_time": "2021-10-17T14:26:24.266Z"
   },
   {
    "duration": 632,
    "start_time": "2021-10-17T14:29:20.236Z"
   },
   {
    "duration": 9,
    "start_time": "2021-10-17T14:29:20.870Z"
   },
   {
    "duration": 15,
    "start_time": "2021-10-17T14:29:20.881Z"
   },
   {
    "duration": 7,
    "start_time": "2021-10-17T14:29:20.898Z"
   },
   {
    "duration": 17,
    "start_time": "2021-10-17T14:29:20.906Z"
   },
   {
    "duration": 6,
    "start_time": "2021-10-17T14:29:20.924Z"
   },
   {
    "duration": 10,
    "start_time": "2021-10-17T14:29:20.932Z"
   },
   {
    "duration": 34,
    "start_time": "2021-10-17T14:29:20.945Z"
   },
   {
    "duration": 6,
    "start_time": "2021-10-17T14:29:20.981Z"
   },
   {
    "duration": 6,
    "start_time": "2021-10-17T14:29:20.989Z"
   },
   {
    "duration": 9,
    "start_time": "2021-10-17T14:29:20.996Z"
   },
   {
    "duration": 8,
    "start_time": "2021-10-17T14:29:21.007Z"
   },
   {
    "duration": 7,
    "start_time": "2021-10-17T14:29:21.017Z"
   },
   {
    "duration": 8,
    "start_time": "2021-10-17T14:29:21.025Z"
   },
   {
    "duration": 10,
    "start_time": "2021-10-17T14:29:21.034Z"
   },
   {
    "duration": 41,
    "start_time": "2021-10-17T14:29:21.045Z"
   },
   {
    "duration": 13,
    "start_time": "2021-10-17T14:29:21.088Z"
   },
   {
    "duration": 11,
    "start_time": "2021-10-17T14:29:21.102Z"
   },
   {
    "duration": 7,
    "start_time": "2021-10-17T14:29:21.115Z"
   },
   {
    "duration": 8,
    "start_time": "2021-10-17T14:29:21.123Z"
   },
   {
    "duration": 46,
    "start_time": "2021-10-17T14:29:21.132Z"
   },
   {
    "duration": 30,
    "start_time": "2021-10-17T14:29:21.179Z"
   },
   {
    "duration": 30,
    "start_time": "2021-10-17T14:29:21.212Z"
   },
   {
    "duration": 35,
    "start_time": "2021-10-17T14:29:21.243Z"
   },
   {
    "duration": 9,
    "start_time": "2021-10-17T14:29:21.279Z"
   },
   {
    "duration": 7,
    "start_time": "2021-10-17T14:29:21.289Z"
   },
   {
    "duration": 29,
    "start_time": "2021-10-17T14:29:21.297Z"
   },
   {
    "duration": 7,
    "start_time": "2021-10-17T14:29:21.327Z"
   },
   {
    "duration": 8,
    "start_time": "2021-10-17T14:29:21.335Z"
   },
   {
    "duration": 37,
    "start_time": "2021-10-17T14:29:21.345Z"
   },
   {
    "duration": 2,
    "start_time": "2021-10-17T14:29:21.384Z"
   },
   {
    "duration": 14,
    "start_time": "2021-10-17T14:29:21.388Z"
   },
   {
    "duration": 4,
    "start_time": "2021-10-17T14:29:21.404Z"
   },
   {
    "duration": 19,
    "start_time": "2021-10-17T14:29:21.410Z"
   },
   {
    "duration": 3,
    "start_time": "2021-10-17T14:29:21.431Z"
   },
   {
    "duration": 12,
    "start_time": "2021-10-17T14:29:21.435Z"
   },
   {
    "duration": 36,
    "start_time": "2021-10-17T14:29:21.448Z"
   },
   {
    "duration": 5,
    "start_time": "2021-10-17T14:29:21.485Z"
   },
   {
    "duration": 8,
    "start_time": "2021-10-17T14:29:21.491Z"
   },
   {
    "duration": 5,
    "start_time": "2021-10-17T14:29:21.501Z"
   },
   {
    "duration": 8,
    "start_time": "2021-10-17T14:29:21.507Z"
   },
   {
    "duration": 8,
    "start_time": "2021-10-17T14:29:21.516Z"
   },
   {
    "duration": 6,
    "start_time": "2021-10-17T14:29:21.525Z"
   },
   {
    "duration": 6,
    "start_time": "2021-10-17T14:29:21.532Z"
   },
   {
    "duration": 41,
    "start_time": "2021-10-17T14:29:21.540Z"
   },
   {
    "duration": 2,
    "start_time": "2021-10-17T14:29:21.583Z"
   },
   {
    "duration": 11,
    "start_time": "2021-10-17T14:29:21.586Z"
   },
   {
    "duration": 2,
    "start_time": "2021-10-17T14:29:21.598Z"
   },
   {
    "duration": 13,
    "start_time": "2021-10-17T14:29:21.601Z"
   },
   {
    "duration": 7,
    "start_time": "2021-10-17T14:29:21.615Z"
   },
   {
    "duration": 14,
    "start_time": "2021-10-17T14:29:21.623Z"
   },
   {
    "duration": 5,
    "start_time": "2021-10-17T14:29:21.638Z"
   },
   {
    "duration": 3,
    "start_time": "2021-10-17T14:29:21.644Z"
   },
   {
    "duration": 2,
    "start_time": "2021-10-17T14:29:21.676Z"
   },
   {
    "duration": 6,
    "start_time": "2021-10-17T14:29:21.680Z"
   },
   {
    "duration": 8,
    "start_time": "2021-10-17T14:30:19.064Z"
   },
   {
    "duration": 7,
    "start_time": "2021-10-17T14:30:22.824Z"
   },
   {
    "duration": 401,
    "start_time": "2021-10-17T14:34:48.884Z"
   },
   {
    "duration": 325,
    "start_time": "2021-10-17T14:34:53.470Z"
   },
   {
    "duration": 474,
    "start_time": "2021-10-17T14:35:01.880Z"
   },
   {
    "duration": 8,
    "start_time": "2021-10-17T14:35:11.604Z"
   },
   {
    "duration": 27,
    "start_time": "2021-10-17T14:39:22.372Z"
   },
   {
    "duration": 5,
    "start_time": "2021-10-17T14:39:28.015Z"
   },
   {
    "duration": 7,
    "start_time": "2021-10-17T14:40:12.779Z"
   },
   {
    "duration": 7,
    "start_time": "2021-10-17T14:41:26.584Z"
   },
   {
    "duration": 2,
    "start_time": "2021-10-17T14:46:58.516Z"
   },
   {
    "duration": 5,
    "start_time": "2021-10-17T14:47:26.143Z"
   },
   {
    "duration": 6,
    "start_time": "2021-10-17T14:48:41.345Z"
   },
   {
    "duration": 684,
    "start_time": "2021-10-17T14:49:13.765Z"
   },
   {
    "duration": 10,
    "start_time": "2021-10-17T14:49:14.451Z"
   },
   {
    "duration": 14,
    "start_time": "2021-10-17T14:49:14.463Z"
   },
   {
    "duration": 6,
    "start_time": "2021-10-17T14:49:14.479Z"
   },
   {
    "duration": 15,
    "start_time": "2021-10-17T14:49:14.487Z"
   },
   {
    "duration": 6,
    "start_time": "2021-10-17T14:49:14.503Z"
   },
   {
    "duration": 9,
    "start_time": "2021-10-17T14:49:14.511Z"
   },
   {
    "duration": 13,
    "start_time": "2021-10-17T14:49:14.521Z"
   },
   {
    "duration": 7,
    "start_time": "2021-10-17T14:49:14.536Z"
   },
   {
    "duration": 35,
    "start_time": "2021-10-17T14:49:14.545Z"
   },
   {
    "duration": 5,
    "start_time": "2021-10-17T14:49:14.582Z"
   },
   {
    "duration": 8,
    "start_time": "2021-10-17T14:49:14.589Z"
   },
   {
    "duration": 5,
    "start_time": "2021-10-17T14:49:14.598Z"
   },
   {
    "duration": 8,
    "start_time": "2021-10-17T14:49:14.604Z"
   },
   {
    "duration": 9,
    "start_time": "2021-10-17T14:49:14.613Z"
   },
   {
    "duration": 12,
    "start_time": "2021-10-17T14:49:14.624Z"
   },
   {
    "duration": 56,
    "start_time": "2021-10-17T14:49:14.637Z"
   },
   {
    "duration": 11,
    "start_time": "2021-10-17T14:49:14.695Z"
   },
   {
    "duration": 11,
    "start_time": "2021-10-17T14:49:14.708Z"
   },
   {
    "duration": 10,
    "start_time": "2021-10-17T14:49:14.721Z"
   },
   {
    "duration": 60,
    "start_time": "2021-10-17T14:49:14.733Z"
   },
   {
    "duration": 46,
    "start_time": "2021-10-17T14:49:14.795Z"
   },
   {
    "duration": 66,
    "start_time": "2021-10-17T14:49:14.843Z"
   },
   {
    "duration": 8,
    "start_time": "2021-10-17T14:49:14.911Z"
   },
   {
    "duration": 9,
    "start_time": "2021-10-17T14:49:14.920Z"
   },
   {
    "duration": 7,
    "start_time": "2021-10-17T14:49:14.931Z"
   },
   {
    "duration": 55,
    "start_time": "2021-10-17T14:49:14.941Z"
   },
   {
    "duration": 10,
    "start_time": "2021-10-17T14:49:14.998Z"
   },
   {
    "duration": 21,
    "start_time": "2021-10-17T14:49:15.010Z"
   },
   {
    "duration": 9,
    "start_time": "2021-10-17T14:49:15.033Z"
   },
   {
    "duration": 5,
    "start_time": "2021-10-17T14:49:15.044Z"
   },
   {
    "duration": 32,
    "start_time": "2021-10-17T14:49:15.050Z"
   },
   {
    "duration": 4,
    "start_time": "2021-10-17T14:49:15.084Z"
   },
   {
    "duration": 16,
    "start_time": "2021-10-17T14:49:15.090Z"
   },
   {
    "duration": 2,
    "start_time": "2021-10-17T14:49:15.108Z"
   },
   {
    "duration": 8,
    "start_time": "2021-10-17T14:49:15.112Z"
   },
   {
    "duration": 22,
    "start_time": "2021-10-17T14:49:15.122Z"
   },
   {
    "duration": 6,
    "start_time": "2021-10-17T14:49:15.177Z"
   },
   {
    "duration": 7,
    "start_time": "2021-10-17T14:49:15.184Z"
   },
   {
    "duration": 6,
    "start_time": "2021-10-17T14:49:15.192Z"
   },
   {
    "duration": 12,
    "start_time": "2021-10-17T14:49:15.199Z"
   },
   {
    "duration": 8,
    "start_time": "2021-10-17T14:49:15.212Z"
   },
   {
    "duration": 6,
    "start_time": "2021-10-17T14:49:15.222Z"
   },
   {
    "duration": 8,
    "start_time": "2021-10-17T14:49:15.230Z"
   },
   {
    "duration": 42,
    "start_time": "2021-10-17T14:49:15.240Z"
   },
   {
    "duration": 8,
    "start_time": "2021-10-17T14:49:15.283Z"
   },
   {
    "duration": 11,
    "start_time": "2021-10-17T14:49:15.292Z"
   },
   {
    "duration": 2,
    "start_time": "2021-10-17T14:49:15.305Z"
   },
   {
    "duration": 5,
    "start_time": "2021-10-17T14:49:15.308Z"
   },
   {
    "duration": 6,
    "start_time": "2021-10-17T14:49:15.314Z"
   },
   {
    "duration": 7,
    "start_time": "2021-10-17T14:49:15.321Z"
   },
   {
    "duration": 3,
    "start_time": "2021-10-17T14:49:15.329Z"
   },
   {
    "duration": 6,
    "start_time": "2021-10-17T14:49:15.333Z"
   },
   {
    "duration": 3,
    "start_time": "2021-10-17T14:49:15.341Z"
   },
   {
    "duration": 33,
    "start_time": "2021-10-17T14:49:15.345Z"
   },
   {
    "duration": 5,
    "start_time": "2021-10-17T14:49:15.379Z"
   },
   {
    "duration": 7,
    "start_time": "2021-10-17T14:49:15.386Z"
   },
   {
    "duration": 4,
    "start_time": "2021-10-17T14:49:15.394Z"
   },
   {
    "duration": 6,
    "start_time": "2021-10-17T14:49:15.399Z"
   },
   {
    "duration": 7,
    "start_time": "2021-10-17T14:49:48.425Z"
   },
   {
    "duration": 7,
    "start_time": "2021-10-17T14:49:55.311Z"
   },
   {
    "duration": 7,
    "start_time": "2021-10-17T14:52:27.924Z"
   },
   {
    "duration": 7,
    "start_time": "2021-10-17T14:53:40.724Z"
   },
   {
    "duration": 2,
    "start_time": "2021-10-17T14:56:04.112Z"
   },
   {
    "duration": 6,
    "start_time": "2021-10-17T14:56:09.072Z"
   },
   {
    "duration": 5,
    "start_time": "2021-10-17T14:56:13.344Z"
   },
   {
    "duration": 120,
    "start_time": "2021-10-17T14:59:58.444Z"
   },
   {
    "duration": 7,
    "start_time": "2021-10-17T15:00:04.413Z"
   },
   {
    "duration": 7,
    "start_time": "2021-10-17T15:00:59.584Z"
   },
   {
    "duration": 7,
    "start_time": "2021-10-17T15:01:02.724Z"
   },
   {
    "duration": 27,
    "start_time": "2021-10-17T15:04:54.264Z"
   },
   {
    "duration": 4,
    "start_time": "2021-10-17T15:05:21.085Z"
   },
   {
    "duration": 8,
    "start_time": "2021-10-17T15:06:22.184Z"
   },
   {
    "duration": 3,
    "start_time": "2021-10-17T15:06:56.304Z"
   },
   {
    "duration": 8,
    "start_time": "2021-10-17T15:21:08.114Z"
   },
   {
    "duration": 8,
    "start_time": "2021-10-17T15:44:21.486Z"
   },
   {
    "duration": 669,
    "start_time": "2021-10-17T15:44:57.565Z"
   },
   {
    "duration": 8,
    "start_time": "2021-10-17T15:45:22.786Z"
   },
   {
    "duration": 319,
    "start_time": "2021-10-17T15:45:47.546Z"
   },
   {
    "duration": 7,
    "start_time": "2021-10-17T15:45:56.325Z"
   },
   {
    "duration": 6,
    "start_time": "2021-10-17T15:46:12.758Z"
   },
   {
    "duration": 7,
    "start_time": "2021-10-17T15:47:11.406Z"
   },
   {
    "duration": 10,
    "start_time": "2021-10-17T15:47:50.546Z"
   },
   {
    "duration": 672,
    "start_time": "2021-10-17T15:48:04.331Z"
   },
   {
    "duration": 11,
    "start_time": "2021-10-17T15:48:05.004Z"
   },
   {
    "duration": 14,
    "start_time": "2021-10-17T15:48:05.017Z"
   },
   {
    "duration": 8,
    "start_time": "2021-10-17T15:48:05.034Z"
   },
   {
    "duration": 45,
    "start_time": "2021-10-17T15:48:05.044Z"
   },
   {
    "duration": 8,
    "start_time": "2021-10-17T15:48:05.091Z"
   },
   {
    "duration": 9,
    "start_time": "2021-10-17T15:48:05.101Z"
   },
   {
    "duration": 8,
    "start_time": "2021-10-17T15:48:05.112Z"
   },
   {
    "duration": 7,
    "start_time": "2021-10-17T15:48:05.122Z"
   },
   {
    "duration": 8,
    "start_time": "2021-10-17T15:48:05.131Z"
   },
   {
    "duration": 6,
    "start_time": "2021-10-17T15:48:05.140Z"
   },
   {
    "duration": 38,
    "start_time": "2021-10-17T15:48:05.148Z"
   },
   {
    "duration": 6,
    "start_time": "2021-10-17T15:48:05.188Z"
   },
   {
    "duration": 9,
    "start_time": "2021-10-17T15:48:05.196Z"
   },
   {
    "duration": 10,
    "start_time": "2021-10-17T15:48:05.207Z"
   },
   {
    "duration": 11,
    "start_time": "2021-10-17T15:48:05.218Z"
   },
   {
    "duration": 13,
    "start_time": "2021-10-17T15:48:05.230Z"
   },
   {
    "duration": 42,
    "start_time": "2021-10-17T15:48:05.244Z"
   },
   {
    "duration": 11,
    "start_time": "2021-10-17T15:48:05.288Z"
   },
   {
    "duration": 9,
    "start_time": "2021-10-17T15:48:05.300Z"
   },
   {
    "duration": 21,
    "start_time": "2021-10-17T15:48:05.310Z"
   },
   {
    "duration": 70,
    "start_time": "2021-10-17T15:48:05.333Z"
   },
   {
    "duration": 32,
    "start_time": "2021-10-17T15:48:05.407Z"
   },
   {
    "duration": 6,
    "start_time": "2021-10-17T15:48:05.441Z"
   },
   {
    "duration": 9,
    "start_time": "2021-10-17T15:48:05.448Z"
   },
   {
    "duration": 10,
    "start_time": "2021-10-17T15:48:05.478Z"
   },
   {
    "duration": 32,
    "start_time": "2021-10-17T15:48:05.490Z"
   },
   {
    "duration": 8,
    "start_time": "2021-10-17T15:48:05.524Z"
   },
   {
    "duration": 10,
    "start_time": "2021-10-17T15:48:05.534Z"
   },
   {
    "duration": 40,
    "start_time": "2021-10-17T15:48:05.546Z"
   },
   {
    "duration": 4,
    "start_time": "2021-10-17T15:48:05.587Z"
   },
   {
    "duration": 16,
    "start_time": "2021-10-17T15:48:05.593Z"
   },
   {
    "duration": 4,
    "start_time": "2021-10-17T15:48:05.611Z"
   },
   {
    "duration": 15,
    "start_time": "2021-10-17T15:48:05.617Z"
   },
   {
    "duration": 4,
    "start_time": "2021-10-17T15:48:05.633Z"
   },
   {
    "duration": 9,
    "start_time": "2021-10-17T15:48:05.638Z"
   },
   {
    "duration": 51,
    "start_time": "2021-10-17T15:48:05.649Z"
   },
   {
    "duration": 5,
    "start_time": "2021-10-17T15:48:05.702Z"
   },
   {
    "duration": 5,
    "start_time": "2021-10-17T15:48:05.709Z"
   },
   {
    "duration": 12,
    "start_time": "2021-10-17T15:48:05.716Z"
   },
   {
    "duration": 10,
    "start_time": "2021-10-17T15:48:05.730Z"
   },
   {
    "duration": 11,
    "start_time": "2021-10-17T15:48:05.741Z"
   },
   {
    "duration": 10,
    "start_time": "2021-10-17T15:48:05.777Z"
   },
   {
    "duration": 17,
    "start_time": "2021-10-17T15:48:05.789Z"
   },
   {
    "duration": 11,
    "start_time": "2021-10-17T15:48:05.807Z"
   },
   {
    "duration": 2,
    "start_time": "2021-10-17T15:48:05.820Z"
   },
   {
    "duration": 15,
    "start_time": "2021-10-17T15:48:05.823Z"
   },
   {
    "duration": 4,
    "start_time": "2021-10-17T15:48:05.840Z"
   },
   {
    "duration": 32,
    "start_time": "2021-10-17T15:48:05.845Z"
   },
   {
    "duration": 3,
    "start_time": "2021-10-17T15:48:05.879Z"
   },
   {
    "duration": 11,
    "start_time": "2021-10-17T15:48:05.884Z"
   },
   {
    "duration": 7,
    "start_time": "2021-10-17T15:48:05.897Z"
   },
   {
    "duration": 7,
    "start_time": "2021-10-17T15:48:05.906Z"
   },
   {
    "duration": 10,
    "start_time": "2021-10-17T15:48:05.915Z"
   },
   {
    "duration": 6,
    "start_time": "2021-10-17T15:48:05.926Z"
   },
   {
    "duration": 66,
    "start_time": "2021-10-17T15:48:05.934Z"
   },
   {
    "duration": 4,
    "start_time": "2021-10-17T15:48:06.002Z"
   },
   {
    "duration": 9,
    "start_time": "2021-10-17T15:48:06.008Z"
   },
   {
    "duration": 9,
    "start_time": "2021-10-17T15:48:46.302Z"
   },
   {
    "duration": 9,
    "start_time": "2021-10-17T15:50:10.223Z"
   },
   {
    "duration": 8,
    "start_time": "2021-10-17T15:58:23.905Z"
   },
   {
    "duration": 9,
    "start_time": "2021-10-17T15:58:35.056Z"
   },
   {
    "duration": 12,
    "start_time": "2021-10-17T15:58:57.796Z"
   },
   {
    "duration": 8,
    "start_time": "2021-10-17T16:05:24.964Z"
   },
   {
    "duration": 7,
    "start_time": "2021-10-17T16:05:34.904Z"
   },
   {
    "duration": 67,
    "start_time": "2021-10-17T16:17:14.045Z"
   },
   {
    "duration": 6,
    "start_time": "2021-10-17T16:17:18.055Z"
   },
   {
    "duration": 7,
    "start_time": "2021-10-17T16:17:22.324Z"
   },
   {
    "duration": 688,
    "start_time": "2021-10-17T16:17:30.984Z"
   },
   {
    "duration": 11,
    "start_time": "2021-10-17T16:17:31.674Z"
   },
   {
    "duration": 32,
    "start_time": "2021-10-17T16:17:31.687Z"
   },
   {
    "duration": 10,
    "start_time": "2021-10-17T16:17:31.722Z"
   },
   {
    "duration": 36,
    "start_time": "2021-10-17T16:17:31.734Z"
   },
   {
    "duration": 7,
    "start_time": "2021-10-17T16:17:31.772Z"
   },
   {
    "duration": 13,
    "start_time": "2021-10-17T16:17:31.781Z"
   },
   {
    "duration": 23,
    "start_time": "2021-10-17T16:17:31.796Z"
   },
   {
    "duration": 21,
    "start_time": "2021-10-17T16:17:31.822Z"
   },
   {
    "duration": 13,
    "start_time": "2021-10-17T16:17:31.846Z"
   },
   {
    "duration": 14,
    "start_time": "2021-10-17T16:17:31.861Z"
   },
   {
    "duration": 19,
    "start_time": "2021-10-17T16:17:31.877Z"
   },
   {
    "duration": 26,
    "start_time": "2021-10-17T16:17:31.898Z"
   },
   {
    "duration": 18,
    "start_time": "2021-10-17T16:17:31.925Z"
   },
   {
    "duration": 16,
    "start_time": "2021-10-17T16:17:31.944Z"
   },
   {
    "duration": 13,
    "start_time": "2021-10-17T16:17:31.962Z"
   },
   {
    "duration": 29,
    "start_time": "2021-10-17T16:17:31.976Z"
   },
   {
    "duration": 8,
    "start_time": "2021-10-17T16:17:32.007Z"
   },
   {
    "duration": 8,
    "start_time": "2021-10-17T16:17:32.016Z"
   },
   {
    "duration": 8,
    "start_time": "2021-10-17T16:17:32.026Z"
   },
   {
    "duration": 22,
    "start_time": "2021-10-17T16:17:32.035Z"
   },
   {
    "duration": 47,
    "start_time": "2021-10-17T16:17:32.059Z"
   },
   {
    "duration": 32,
    "start_time": "2021-10-17T16:17:32.108Z"
   },
   {
    "duration": 5,
    "start_time": "2021-10-17T16:17:32.142Z"
   },
   {
    "duration": 10,
    "start_time": "2021-10-17T16:17:32.149Z"
   },
   {
    "duration": 22,
    "start_time": "2021-10-17T16:17:32.160Z"
   },
   {
    "duration": 40,
    "start_time": "2021-10-17T16:17:32.186Z"
   },
   {
    "duration": 8,
    "start_time": "2021-10-17T16:17:32.228Z"
   },
   {
    "duration": 9,
    "start_time": "2021-10-17T16:17:32.238Z"
   },
   {
    "duration": 33,
    "start_time": "2021-10-17T16:17:32.248Z"
   },
   {
    "duration": 2,
    "start_time": "2021-10-17T16:17:32.283Z"
   },
   {
    "duration": 22,
    "start_time": "2021-10-17T16:17:32.287Z"
   },
   {
    "duration": 21,
    "start_time": "2021-10-17T16:17:32.311Z"
   },
   {
    "duration": 15,
    "start_time": "2021-10-17T16:17:32.334Z"
   },
   {
    "duration": 13,
    "start_time": "2021-10-17T16:17:32.351Z"
   },
   {
    "duration": 17,
    "start_time": "2021-10-17T16:17:32.365Z"
   },
   {
    "duration": 22,
    "start_time": "2021-10-17T16:17:32.384Z"
   },
   {
    "duration": 17,
    "start_time": "2021-10-17T16:17:32.408Z"
   },
   {
    "duration": 8,
    "start_time": "2021-10-17T16:17:32.427Z"
   },
   {
    "duration": 13,
    "start_time": "2021-10-17T16:17:32.437Z"
   },
   {
    "duration": 17,
    "start_time": "2021-10-17T16:17:32.452Z"
   },
   {
    "duration": 14,
    "start_time": "2021-10-17T16:17:32.471Z"
   },
   {
    "duration": 10,
    "start_time": "2021-10-17T16:17:32.487Z"
   },
   {
    "duration": 13,
    "start_time": "2021-10-17T16:17:32.499Z"
   },
   {
    "duration": 8,
    "start_time": "2021-10-17T16:17:32.514Z"
   },
   {
    "duration": 2,
    "start_time": "2021-10-17T16:17:32.524Z"
   },
   {
    "duration": 14,
    "start_time": "2021-10-17T16:17:32.528Z"
   },
   {
    "duration": 32,
    "start_time": "2021-10-17T16:17:32.544Z"
   },
   {
    "duration": 7,
    "start_time": "2021-10-17T16:17:32.578Z"
   },
   {
    "duration": 11,
    "start_time": "2021-10-17T16:17:32.586Z"
   },
   {
    "duration": 6,
    "start_time": "2021-10-17T16:17:32.598Z"
   },
   {
    "duration": 13,
    "start_time": "2021-10-17T16:17:32.606Z"
   },
   {
    "duration": 16,
    "start_time": "2021-10-17T16:17:32.620Z"
   },
   {
    "duration": 11,
    "start_time": "2021-10-17T16:17:32.638Z"
   },
   {
    "duration": 14,
    "start_time": "2021-10-17T16:17:32.650Z"
   },
   {
    "duration": 19,
    "start_time": "2021-10-17T16:17:32.665Z"
   },
   {
    "duration": 387,
    "start_time": "2021-10-17T16:17:32.685Z"
   },
   {
    "duration": -1080,
    "start_time": "2021-10-17T16:17:34.154Z"
   },
   {
    "duration": -1092,
    "start_time": "2021-10-17T16:17:34.167Z"
   },
   {
    "duration": -1099,
    "start_time": "2021-10-17T16:17:34.175Z"
   },
   {
    "duration": -1128,
    "start_time": "2021-10-17T16:17:34.205Z"
   },
   {
    "duration": 66,
    "start_time": "2021-10-17T16:17:57.087Z"
   },
   {
    "duration": 4,
    "start_time": "2021-10-17T16:17:58.264Z"
   },
   {
    "duration": 7,
    "start_time": "2021-10-17T16:18:00.188Z"
   },
   {
    "duration": 9,
    "start_time": "2021-10-17T16:18:37.389Z"
   },
   {
    "duration": 2,
    "start_time": "2021-10-17T16:19:07.804Z"
   },
   {
    "duration": 3,
    "start_time": "2021-10-17T16:19:08.449Z"
   },
   {
    "duration": 68,
    "start_time": "2021-10-17T16:19:09.408Z"
   },
   {
    "duration": 4,
    "start_time": "2021-10-17T16:19:10.477Z"
   },
   {
    "duration": 9,
    "start_time": "2021-10-17T16:19:12.204Z"
   },
   {
    "duration": 27,
    "start_time": "2021-10-17T16:20:24.397Z"
   },
   {
    "duration": 5,
    "start_time": "2021-10-17T16:20:25.997Z"
   },
   {
    "duration": 10,
    "start_time": "2021-10-17T16:20:46.508Z"
   },
   {
    "duration": 9,
    "start_time": "2021-10-17T16:21:14.319Z"
   },
   {
    "duration": 639,
    "start_time": "2021-10-17T16:23:51.734Z"
   },
   {
    "duration": 10,
    "start_time": "2021-10-17T16:23:52.375Z"
   },
   {
    "duration": 15,
    "start_time": "2021-10-17T16:23:52.387Z"
   },
   {
    "duration": 6,
    "start_time": "2021-10-17T16:23:52.404Z"
   },
   {
    "duration": 20,
    "start_time": "2021-10-17T16:23:52.412Z"
   },
   {
    "duration": 7,
    "start_time": "2021-10-17T16:23:52.433Z"
   },
   {
    "duration": 37,
    "start_time": "2021-10-17T16:23:52.441Z"
   },
   {
    "duration": 8,
    "start_time": "2021-10-17T16:23:52.479Z"
   },
   {
    "duration": 9,
    "start_time": "2021-10-17T16:23:52.490Z"
   },
   {
    "duration": 8,
    "start_time": "2021-10-17T16:23:52.501Z"
   },
   {
    "duration": 5,
    "start_time": "2021-10-17T16:23:52.511Z"
   },
   {
    "duration": 8,
    "start_time": "2021-10-17T16:23:52.518Z"
   },
   {
    "duration": 5,
    "start_time": "2021-10-17T16:23:52.527Z"
   },
   {
    "duration": 45,
    "start_time": "2021-10-17T16:23:52.533Z"
   },
   {
    "duration": 10,
    "start_time": "2021-10-17T16:23:52.579Z"
   },
   {
    "duration": 11,
    "start_time": "2021-10-17T16:23:52.591Z"
   },
   {
    "duration": 13,
    "start_time": "2021-10-17T16:23:52.603Z"
   },
   {
    "duration": 9,
    "start_time": "2021-10-17T16:23:52.617Z"
   },
   {
    "duration": 7,
    "start_time": "2021-10-17T16:23:52.627Z"
   },
   {
    "duration": 44,
    "start_time": "2021-10-17T16:23:52.636Z"
   },
   {
    "duration": 20,
    "start_time": "2021-10-17T16:23:52.681Z"
   },
   {
    "duration": 32,
    "start_time": "2021-10-17T16:23:52.702Z"
   },
   {
    "duration": 47,
    "start_time": "2021-10-17T16:23:52.736Z"
   },
   {
    "duration": 5,
    "start_time": "2021-10-17T16:23:52.785Z"
   },
   {
    "duration": 9,
    "start_time": "2021-10-17T16:23:52.792Z"
   },
   {
    "duration": 7,
    "start_time": "2021-10-17T16:23:52.802Z"
   },
   {
    "duration": 32,
    "start_time": "2021-10-17T16:23:52.812Z"
   },
   {
    "duration": 37,
    "start_time": "2021-10-17T16:23:52.846Z"
   },
   {
    "duration": 10,
    "start_time": "2021-10-17T16:23:52.884Z"
   },
   {
    "duration": 9,
    "start_time": "2021-10-17T16:23:52.896Z"
   },
   {
    "duration": 3,
    "start_time": "2021-10-17T16:23:52.907Z"
   },
   {
    "duration": 9,
    "start_time": "2021-10-17T16:23:52.911Z"
   },
   {
    "duration": 5,
    "start_time": "2021-10-17T16:23:52.922Z"
   },
   {
    "duration": 50,
    "start_time": "2021-10-17T16:23:52.929Z"
   },
   {
    "duration": 5,
    "start_time": "2021-10-17T16:23:52.981Z"
   },
   {
    "duration": 9,
    "start_time": "2021-10-17T16:23:52.988Z"
   },
   {
    "duration": 20,
    "start_time": "2021-10-17T16:23:52.999Z"
   },
   {
    "duration": 6,
    "start_time": "2021-10-17T16:23:53.021Z"
   },
   {
    "duration": 6,
    "start_time": "2021-10-17T16:23:53.029Z"
   },
   {
    "duration": 44,
    "start_time": "2021-10-17T16:23:53.036Z"
   },
   {
    "duration": 9,
    "start_time": "2021-10-17T16:23:53.081Z"
   },
   {
    "duration": 9,
    "start_time": "2021-10-17T16:23:53.092Z"
   },
   {
    "duration": 6,
    "start_time": "2021-10-17T16:23:53.103Z"
   },
   {
    "duration": 9,
    "start_time": "2021-10-17T16:23:53.111Z"
   },
   {
    "duration": 9,
    "start_time": "2021-10-17T16:23:53.122Z"
   },
   {
    "duration": 43,
    "start_time": "2021-10-17T16:23:53.133Z"
   },
   {
    "duration": 11,
    "start_time": "2021-10-17T16:23:53.178Z"
   },
   {
    "duration": 5,
    "start_time": "2021-10-17T16:23:53.190Z"
   },
   {
    "duration": 9,
    "start_time": "2021-10-17T16:23:53.196Z"
   },
   {
    "duration": 9,
    "start_time": "2021-10-17T16:23:53.206Z"
   },
   {
    "duration": 5,
    "start_time": "2021-10-17T16:23:53.216Z"
   },
   {
    "duration": 8,
    "start_time": "2021-10-17T16:23:53.222Z"
   },
   {
    "duration": 7,
    "start_time": "2021-10-17T16:23:53.231Z"
   },
   {
    "duration": 8,
    "start_time": "2021-10-17T16:23:53.277Z"
   },
   {
    "duration": 27,
    "start_time": "2021-10-17T16:23:53.287Z"
   },
   {
    "duration": 17,
    "start_time": "2021-10-17T16:23:53.317Z"
   },
   {
    "duration": 75,
    "start_time": "2021-10-17T16:23:53.336Z"
   },
   {
    "duration": 5,
    "start_time": "2021-10-17T16:23:53.413Z"
   },
   {
    "duration": 10,
    "start_time": "2021-10-17T16:23:53.420Z"
   },
   {
    "duration": 438,
    "start_time": "2021-10-18T12:50:23.105Z"
   },
   {
    "duration": 856,
    "start_time": "2021-10-18T12:50:33.757Z"
   },
   {
    "duration": 14,
    "start_time": "2021-10-18T12:50:34.617Z"
   },
   {
    "duration": 23,
    "start_time": "2021-10-18T12:50:34.634Z"
   },
   {
    "duration": 10,
    "start_time": "2021-10-18T12:50:34.684Z"
   },
   {
    "duration": 27,
    "start_time": "2021-10-18T12:50:34.696Z"
   },
   {
    "duration": 10,
    "start_time": "2021-10-18T12:50:34.725Z"
   },
   {
    "duration": 51,
    "start_time": "2021-10-18T12:50:34.737Z"
   },
   {
    "duration": 13,
    "start_time": "2021-10-18T12:50:34.791Z"
   },
   {
    "duration": 10,
    "start_time": "2021-10-18T12:50:34.807Z"
   },
   {
    "duration": 10,
    "start_time": "2021-10-18T12:50:34.820Z"
   },
   {
    "duration": 50,
    "start_time": "2021-10-18T12:50:34.832Z"
   },
   {
    "duration": 12,
    "start_time": "2021-10-18T12:50:34.885Z"
   },
   {
    "duration": 11,
    "start_time": "2021-10-18T12:50:34.900Z"
   },
   {
    "duration": 9,
    "start_time": "2021-10-18T12:50:34.913Z"
   },
   {
    "duration": 15,
    "start_time": "2021-10-18T12:50:34.924Z"
   },
   {
    "duration": 18,
    "start_time": "2021-10-18T12:50:34.984Z"
   },
   {
    "duration": 23,
    "start_time": "2021-10-18T12:50:35.005Z"
   },
   {
    "duration": 56,
    "start_time": "2021-10-18T12:50:35.031Z"
   },
   {
    "duration": 12,
    "start_time": "2021-10-18T12:50:35.089Z"
   },
   {
    "duration": 12,
    "start_time": "2021-10-18T12:50:35.103Z"
   },
   {
    "duration": 69,
    "start_time": "2021-10-18T12:50:35.117Z"
   },
   {
    "duration": 50,
    "start_time": "2021-10-18T12:50:35.188Z"
   },
   {
    "duration": 77,
    "start_time": "2021-10-18T12:50:35.243Z"
   },
   {
    "duration": 8,
    "start_time": "2021-10-18T12:50:35.324Z"
   },
   {
    "duration": 14,
    "start_time": "2021-10-18T12:50:35.335Z"
   },
   {
    "duration": 36,
    "start_time": "2021-10-18T12:50:35.351Z"
   },
   {
    "duration": 59,
    "start_time": "2021-10-18T12:50:35.390Z"
   },
   {
    "duration": 31,
    "start_time": "2021-10-18T12:50:35.452Z"
   },
   {
    "duration": 15,
    "start_time": "2021-10-18T12:50:35.485Z"
   },
   {
    "duration": 11,
    "start_time": "2021-10-18T12:50:35.503Z"
   },
   {
    "duration": 4,
    "start_time": "2021-10-18T12:50:35.517Z"
   },
   {
    "duration": 18,
    "start_time": "2021-10-18T12:50:35.523Z"
   },
   {
    "duration": 43,
    "start_time": "2021-10-18T12:50:35.543Z"
   },
   {
    "duration": 33,
    "start_time": "2021-10-18T12:50:35.589Z"
   },
   {
    "duration": 11,
    "start_time": "2021-10-18T12:50:35.624Z"
   },
   {
    "duration": 18,
    "start_time": "2021-10-18T12:50:35.637Z"
   },
   {
    "duration": 46,
    "start_time": "2021-10-18T12:50:35.658Z"
   },
   {
    "duration": 8,
    "start_time": "2021-10-18T12:50:35.706Z"
   },
   {
    "duration": 7,
    "start_time": "2021-10-18T12:50:35.716Z"
   },
   {
    "duration": 7,
    "start_time": "2021-10-18T12:50:35.725Z"
   },
   {
    "duration": 54,
    "start_time": "2021-10-18T12:50:35.734Z"
   },
   {
    "duration": 15,
    "start_time": "2021-10-18T12:50:35.791Z"
   },
   {
    "duration": 11,
    "start_time": "2021-10-18T12:50:35.808Z"
   },
   {
    "duration": 18,
    "start_time": "2021-10-18T12:50:35.822Z"
   },
   {
    "duration": 49,
    "start_time": "2021-10-18T12:50:35.842Z"
   },
   {
    "duration": 4,
    "start_time": "2021-10-18T12:50:35.894Z"
   },
   {
    "duration": 17,
    "start_time": "2021-10-18T12:50:35.901Z"
   },
   {
    "duration": 6,
    "start_time": "2021-10-18T12:50:35.920Z"
   },
   {
    "duration": 11,
    "start_time": "2021-10-18T12:50:35.928Z"
   },
   {
    "duration": 47,
    "start_time": "2021-10-18T12:50:35.941Z"
   },
   {
    "duration": 8,
    "start_time": "2021-10-18T12:50:35.990Z"
   },
   {
    "duration": 17,
    "start_time": "2021-10-18T12:50:36.001Z"
   },
   {
    "duration": 9,
    "start_time": "2021-10-18T12:50:36.021Z"
   },
   {
    "duration": 9,
    "start_time": "2021-10-18T12:50:36.033Z"
   },
   {
    "duration": 14,
    "start_time": "2021-10-18T12:50:36.082Z"
   },
   {
    "duration": 12,
    "start_time": "2021-10-18T12:50:36.098Z"
   },
   {
    "duration": 132,
    "start_time": "2021-10-18T12:50:36.112Z"
   },
   {
    "duration": 6,
    "start_time": "2021-10-18T12:50:36.247Z"
   },
   {
    "duration": 32,
    "start_time": "2021-10-18T12:50:36.256Z"
   },
   {
    "duration": 13,
    "start_time": "2021-10-18T12:50:36.291Z"
   },
   {
    "duration": 10,
    "start_time": "2021-10-18T12:50:46.165Z"
   },
   {
    "duration": 9,
    "start_time": "2021-10-18T12:50:52.166Z"
   },
   {
    "duration": 98,
    "start_time": "2021-10-18T12:51:27.528Z"
   },
   {
    "duration": 35,
    "start_time": "2021-10-18T12:51:34.639Z"
   },
   {
    "duration": 10,
    "start_time": "2021-10-18T12:51:59.090Z"
   },
   {
    "duration": 11,
    "start_time": "2021-10-18T13:02:37.706Z"
   },
   {
    "duration": 10,
    "start_time": "2021-10-18T13:04:20.980Z"
   },
   {
    "duration": 8,
    "start_time": "2021-10-18T13:10:03.981Z"
   },
   {
    "duration": 12,
    "start_time": "2021-10-18T13:33:27.775Z"
   },
   {
    "duration": 10,
    "start_time": "2021-10-18T13:33:42.361Z"
   },
   {
    "duration": 16,
    "start_time": "2021-10-18T13:36:11.950Z"
   },
   {
    "duration": 11,
    "start_time": "2021-10-18T13:38:18.148Z"
   },
   {
    "duration": 10,
    "start_time": "2021-10-18T13:39:36.015Z"
   },
   {
    "duration": 14,
    "start_time": "2021-10-18T13:40:59.033Z"
   },
   {
    "duration": 15,
    "start_time": "2021-10-18T13:41:18.943Z"
   },
   {
    "duration": 19,
    "start_time": "2021-10-18T13:44:06.794Z"
   },
   {
    "duration": 22,
    "start_time": "2021-10-18T13:46:01.476Z"
   },
   {
    "duration": 19,
    "start_time": "2021-10-18T13:46:51.124Z"
   },
   {
    "duration": 18,
    "start_time": "2021-10-18T14:04:48.342Z"
   },
   {
    "duration": 18,
    "start_time": "2021-10-18T14:05:01.830Z"
   },
   {
    "duration": 20,
    "start_time": "2021-10-18T14:05:04.040Z"
   },
   {
    "duration": 10,
    "start_time": "2021-10-18T14:08:34.432Z"
   },
   {
    "duration": 7,
    "start_time": "2021-10-18T14:08:44.196Z"
   },
   {
    "duration": 6,
    "start_time": "2021-10-18T14:08:48.413Z"
   },
   {
    "duration": 4,
    "start_time": "2021-10-18T14:09:56.572Z"
   },
   {
    "duration": 4,
    "start_time": "2021-10-18T14:10:01.178Z"
   },
   {
    "duration": 332,
    "start_time": "2021-10-18T14:10:33.153Z"
   },
   {
    "duration": 4706,
    "start_time": "2021-10-18T14:10:39.873Z"
   },
   {
    "duration": 7,
    "start_time": "2021-10-18T14:10:57.323Z"
   },
   {
    "duration": 278,
    "start_time": "2021-10-18T14:11:12.782Z"
   },
   {
    "duration": 289,
    "start_time": "2021-10-18T14:11:15.283Z"
   },
   {
    "duration": 272,
    "start_time": "2021-10-18T14:11:19.072Z"
   },
   {
    "duration": 256,
    "start_time": "2021-10-18T14:11:21.352Z"
   },
   {
    "duration": 12,
    "start_time": "2021-10-18T14:11:40.687Z"
   },
   {
    "duration": 8,
    "start_time": "2021-10-18T14:12:08.568Z"
   },
   {
    "duration": 15,
    "start_time": "2021-10-18T14:13:08.198Z"
   },
   {
    "duration": 7,
    "start_time": "2021-10-18T14:18:24.193Z"
   },
   {
    "duration": 7,
    "start_time": "2021-10-18T14:18:29.711Z"
   },
   {
    "duration": 8,
    "start_time": "2021-10-18T14:18:36.057Z"
   },
   {
    "duration": 13,
    "start_time": "2021-10-18T14:18:54.075Z"
   },
   {
    "duration": 12,
    "start_time": "2021-10-18T14:18:58.574Z"
   },
   {
    "duration": 104,
    "start_time": "2021-10-18T14:19:21.933Z"
   },
   {
    "duration": 415,
    "start_time": "2021-10-18T14:21:24.277Z"
   },
   {
    "duration": 5606,
    "start_time": "2021-10-18T14:23:24.361Z"
   },
   {
    "duration": 5651,
    "start_time": "2021-10-18T14:23:49.331Z"
   },
   {
    "duration": 11,
    "start_time": "2021-10-18T14:24:23.540Z"
   },
   {
    "duration": 99,
    "start_time": "2021-10-18T14:36:22.101Z"
   },
   {
    "duration": 19,
    "start_time": "2021-10-18T14:36:28.041Z"
   },
   {
    "duration": 6862,
    "start_time": "2021-10-18T14:36:52.763Z"
   },
   {
    "duration": 13,
    "start_time": "2021-10-18T14:37:01.902Z"
   },
   {
    "duration": 7473,
    "start_time": "2021-10-18T14:37:07.042Z"
   },
   {
    "duration": 24,
    "start_time": "2021-10-18T14:37:14.518Z"
   },
   {
    "duration": 21,
    "start_time": "2021-10-18T14:37:18.741Z"
   },
   {
    "duration": 7344,
    "start_time": "2021-10-18T14:38:43.173Z"
   },
   {
    "duration": 14,
    "start_time": "2021-10-18T14:38:50.520Z"
   },
   {
    "duration": 812,
    "start_time": "2021-10-18T14:38:54.366Z"
   },
   {
    "duration": 15,
    "start_time": "2021-10-18T14:38:55.180Z"
   },
   {
    "duration": 24,
    "start_time": "2021-10-18T14:38:55.199Z"
   },
   {
    "duration": 10,
    "start_time": "2021-10-18T14:38:55.225Z"
   },
   {
    "duration": 21,
    "start_time": "2021-10-18T14:38:55.237Z"
   },
   {
    "duration": 10,
    "start_time": "2021-10-18T14:38:55.283Z"
   },
   {
    "duration": 21,
    "start_time": "2021-10-18T14:38:55.295Z"
   },
   {
    "duration": 19,
    "start_time": "2021-10-18T14:38:55.319Z"
   },
   {
    "duration": 25,
    "start_time": "2021-10-18T14:38:55.340Z"
   },
   {
    "duration": 8,
    "start_time": "2021-10-18T14:38:55.433Z"
   },
   {
    "duration": 11,
    "start_time": "2021-10-18T14:38:55.563Z"
   },
   {
    "duration": 10,
    "start_time": "2021-10-18T14:38:55.652Z"
   },
   {
    "duration": 12,
    "start_time": "2021-10-18T14:38:55.719Z"
   },
   {
    "duration": 7,
    "start_time": "2021-10-18T14:38:55.773Z"
   },
   {
    "duration": 14,
    "start_time": "2021-10-18T14:38:55.783Z"
   },
   {
    "duration": 14,
    "start_time": "2021-10-18T14:38:55.800Z"
   },
   {
    "duration": 19,
    "start_time": "2021-10-18T14:38:55.822Z"
   },
   {
    "duration": 46,
    "start_time": "2021-10-18T14:38:55.844Z"
   },
   {
    "duration": 13,
    "start_time": "2021-10-18T14:38:55.894Z"
   },
   {
    "duration": 13,
    "start_time": "2021-10-18T14:38:55.910Z"
   },
   {
    "duration": 13,
    "start_time": "2021-10-18T14:38:55.925Z"
   },
   {
    "duration": 68,
    "start_time": "2021-10-18T14:38:55.941Z"
   },
   {
    "duration": 78,
    "start_time": "2021-10-18T14:38:56.013Z"
   },
   {
    "duration": 52,
    "start_time": "2021-10-18T14:38:56.094Z"
   },
   {
    "duration": 34,
    "start_time": "2021-10-18T14:38:56.149Z"
   },
   {
    "duration": 14,
    "start_time": "2021-10-18T14:38:56.186Z"
   },
   {
    "duration": 9,
    "start_time": "2021-10-18T14:38:56.203Z"
   },
   {
    "duration": 54,
    "start_time": "2021-10-18T14:38:56.423Z"
   },
   {
    "duration": 10,
    "start_time": "2021-10-18T14:38:56.479Z"
   },
   {
    "duration": 12,
    "start_time": "2021-10-18T14:38:56.492Z"
   },
   {
    "duration": 12,
    "start_time": "2021-10-18T14:38:56.873Z"
   },
   {
    "duration": 4,
    "start_time": "2021-10-18T14:38:56.887Z"
   },
   {
    "duration": 11,
    "start_time": "2021-10-18T14:38:57.464Z"
   },
   {
    "duration": 9,
    "start_time": "2021-10-18T14:38:57.478Z"
   },
   {
    "duration": 23,
    "start_time": "2021-10-18T14:38:57.490Z"
   },
   {
    "duration": 3,
    "start_time": "2021-10-18T14:38:57.633Z"
   },
   {
    "duration": 20,
    "start_time": "2021-10-18T14:38:57.639Z"
   },
   {
    "duration": 34,
    "start_time": "2021-10-18T14:38:57.883Z"
   },
   {
    "duration": 21,
    "start_time": "2021-10-18T14:38:57.920Z"
   },
   {
    "duration": 17,
    "start_time": "2021-10-18T14:38:57.944Z"
   },
   {
    "duration": 10,
    "start_time": "2021-10-18T14:38:58.012Z"
   },
   {
    "duration": 12,
    "start_time": "2021-10-18T14:38:58.024Z"
   },
   {
    "duration": 9,
    "start_time": "2021-10-18T14:38:58.039Z"
   },
   {
    "duration": 2,
    "start_time": "2021-10-18T14:38:58.062Z"
   },
   {
    "duration": 21,
    "start_time": "2021-10-18T14:38:58.067Z"
   },
   {
    "duration": 16,
    "start_time": "2021-10-18T14:38:58.090Z"
   },
   {
    "duration": 11,
    "start_time": "2021-10-18T14:38:58.132Z"
   },
   {
    "duration": 8,
    "start_time": "2021-10-18T14:38:58.146Z"
   },
   {
    "duration": 9,
    "start_time": "2021-10-18T14:38:58.158Z"
   },
   {
    "duration": 12,
    "start_time": "2021-10-18T14:38:58.383Z"
   },
   {
    "duration": 10,
    "start_time": "2021-10-18T14:38:58.398Z"
   },
   {
    "duration": 9,
    "start_time": "2021-10-18T14:38:58.411Z"
   },
   {
    "duration": 14,
    "start_time": "2021-10-18T14:38:58.753Z"
   },
   {
    "duration": 15,
    "start_time": "2021-10-18T14:38:58.770Z"
   },
   {
    "duration": 96,
    "start_time": "2021-10-18T14:38:59.114Z"
   },
   {
    "duration": 6,
    "start_time": "2021-10-18T14:38:59.213Z"
   },
   {
    "duration": 16,
    "start_time": "2021-10-18T14:38:59.221Z"
   },
   {
    "duration": 11,
    "start_time": "2021-10-18T14:38:59.503Z"
   },
   {
    "duration": 43,
    "start_time": "2021-10-18T14:38:59.517Z"
   },
   {
    "duration": 17,
    "start_time": "2021-10-18T14:38:59.563Z"
   },
   {
    "duration": 6992,
    "start_time": "2021-10-18T14:39:00.096Z"
   },
   {
    "duration": 779,
    "start_time": "2021-10-18T14:42:46.626Z"
   },
   {
    "duration": 14,
    "start_time": "2021-10-18T14:42:47.408Z"
   },
   {
    "duration": 31,
    "start_time": "2021-10-18T14:42:47.425Z"
   },
   {
    "duration": 28,
    "start_time": "2021-10-18T14:42:47.459Z"
   },
   {
    "duration": 13,
    "start_time": "2021-10-18T14:42:47.489Z"
   },
   {
    "duration": 9,
    "start_time": "2021-10-18T14:42:47.504Z"
   },
   {
    "duration": 17,
    "start_time": "2021-10-18T14:42:47.515Z"
   },
   {
    "duration": 10,
    "start_time": "2021-10-18T14:42:47.536Z"
   },
   {
    "duration": 39,
    "start_time": "2021-10-18T14:42:47.548Z"
   },
   {
    "duration": 6993,
    "start_time": "2021-10-18T14:42:52.656Z"
   },
   {
    "duration": 12,
    "start_time": "2021-10-18T14:42:59.652Z"
   },
   {
    "duration": 31,
    "start_time": "2021-10-18T14:42:59.666Z"
   },
   {
    "duration": 808,
    "start_time": "2021-10-18T14:43:32.421Z"
   },
   {
    "duration": 14,
    "start_time": "2021-10-18T14:43:33.232Z"
   },
   {
    "duration": 44,
    "start_time": "2021-10-18T14:43:33.249Z"
   },
   {
    "duration": 10,
    "start_time": "2021-10-18T14:43:33.296Z"
   },
   {
    "duration": 10,
    "start_time": "2021-10-18T14:43:33.309Z"
   },
   {
    "duration": 10,
    "start_time": "2021-10-18T14:43:33.321Z"
   },
   {
    "duration": 50,
    "start_time": "2021-10-18T14:43:33.334Z"
   },
   {
    "duration": 10,
    "start_time": "2021-10-18T14:43:33.388Z"
   },
   {
    "duration": 22,
    "start_time": "2021-10-18T14:43:33.401Z"
   },
   {
    "duration": 23,
    "start_time": "2021-10-18T14:43:33.426Z"
   },
   {
    "duration": 30,
    "start_time": "2021-10-18T14:43:33.452Z"
   },
   {
    "duration": 10,
    "start_time": "2021-10-18T14:43:33.485Z"
   },
   {
    "duration": 14,
    "start_time": "2021-10-18T14:43:33.498Z"
   },
   {
    "duration": 9,
    "start_time": "2021-10-18T14:43:33.515Z"
   },
   {
    "duration": 56,
    "start_time": "2021-10-18T14:43:33.526Z"
   },
   {
    "duration": 17,
    "start_time": "2021-10-18T14:43:33.584Z"
   },
   {
    "duration": 21,
    "start_time": "2021-10-18T14:43:33.603Z"
   },
   {
    "duration": 21,
    "start_time": "2021-10-18T14:43:33.627Z"
   },
   {
    "duration": 42,
    "start_time": "2021-10-18T14:43:33.650Z"
   },
   {
    "duration": 11,
    "start_time": "2021-10-18T14:43:33.694Z"
   },
   {
    "duration": 11,
    "start_time": "2021-10-18T14:43:33.707Z"
   },
   {
    "duration": 73,
    "start_time": "2021-10-18T14:43:33.721Z"
   },
   {
    "duration": 47,
    "start_time": "2021-10-18T14:43:33.799Z"
   },
   {
    "duration": 73,
    "start_time": "2021-10-18T14:43:33.850Z"
   },
   {
    "duration": 8,
    "start_time": "2021-10-18T14:43:33.925Z"
   },
   {
    "duration": 12,
    "start_time": "2021-10-18T14:43:33.936Z"
   },
   {
    "duration": 39,
    "start_time": "2021-10-18T14:43:33.950Z"
   },
   {
    "duration": 56,
    "start_time": "2021-10-18T14:43:33.992Z"
   },
   {
    "duration": 33,
    "start_time": "2021-10-18T14:43:34.050Z"
   },
   {
    "duration": 14,
    "start_time": "2021-10-18T14:43:34.085Z"
   },
   {
    "duration": 21,
    "start_time": "2021-10-18T14:43:34.102Z"
   },
   {
    "duration": 16,
    "start_time": "2021-10-18T14:43:34.125Z"
   },
   {
    "duration": 28,
    "start_time": "2021-10-18T14:43:34.143Z"
   },
   {
    "duration": 22,
    "start_time": "2021-10-18T14:43:34.173Z"
   },
   {
    "duration": 35,
    "start_time": "2021-10-18T14:43:34.197Z"
   },
   {
    "duration": 14,
    "start_time": "2021-10-18T14:43:34.234Z"
   },
   {
    "duration": 20,
    "start_time": "2021-10-18T14:43:34.251Z"
   },
   {
    "duration": 44,
    "start_time": "2021-10-18T14:43:34.274Z"
   },
   {
    "duration": 10,
    "start_time": "2021-10-18T14:43:34.320Z"
   },
   {
    "duration": 24,
    "start_time": "2021-10-18T14:43:34.333Z"
   },
   {
    "duration": 21,
    "start_time": "2021-10-18T14:43:34.359Z"
   },
   {
    "duration": 21,
    "start_time": "2021-10-18T14:43:34.382Z"
   },
   {
    "duration": 9,
    "start_time": "2021-10-18T14:43:34.406Z"
   },
   {
    "duration": 6,
    "start_time": "2021-10-18T14:43:34.417Z"
   },
   {
    "duration": 19,
    "start_time": "2021-10-18T14:43:34.426Z"
   },
   {
    "duration": 6,
    "start_time": "2021-10-18T14:43:34.448Z"
   },
   {
    "duration": 35,
    "start_time": "2021-10-18T14:43:34.456Z"
   },
   {
    "duration": 11,
    "start_time": "2021-10-18T14:43:34.493Z"
   },
   {
    "duration": 7,
    "start_time": "2021-10-18T14:43:34.506Z"
   },
   {
    "duration": 11,
    "start_time": "2021-10-18T14:43:34.515Z"
   },
   {
    "duration": 9,
    "start_time": "2021-10-18T14:43:34.528Z"
   },
   {
    "duration": 50,
    "start_time": "2021-10-18T14:43:34.540Z"
   },
   {
    "duration": 13,
    "start_time": "2021-10-18T14:43:34.593Z"
   },
   {
    "duration": 16,
    "start_time": "2021-10-18T14:43:34.609Z"
   },
   {
    "duration": 132,
    "start_time": "2021-10-18T14:43:34.627Z"
   },
   {
    "duration": 6,
    "start_time": "2021-10-18T14:43:34.761Z"
   },
   {
    "duration": 23,
    "start_time": "2021-10-18T14:43:34.769Z"
   },
   {
    "duration": 8,
    "start_time": "2021-10-18T14:43:34.794Z"
   },
   {
    "duration": 24,
    "start_time": "2021-10-18T14:43:34.804Z"
   },
   {
    "duration": 53,
    "start_time": "2021-10-18T14:43:34.830Z"
   },
   {
    "duration": 7001,
    "start_time": "2021-10-18T14:43:34.885Z"
   },
   {
    "duration": 12,
    "start_time": "2021-10-18T14:43:41.888Z"
   },
   {
    "duration": 19,
    "start_time": "2021-10-18T14:43:41.903Z"
   },
   {
    "duration": 7036,
    "start_time": "2021-10-18T14:43:48.591Z"
   },
   {
    "duration": 13,
    "start_time": "2021-10-18T14:44:00.883Z"
   },
   {
    "duration": 949,
    "start_time": "2021-10-18T14:51:43.511Z"
   },
   {
    "duration": 816,
    "start_time": "2021-10-18T14:51:55.181Z"
   },
   {
    "duration": 16,
    "start_time": "2021-10-18T14:51:56.001Z"
   },
   {
    "duration": 26,
    "start_time": "2021-10-18T14:51:56.021Z"
   },
   {
    "duration": 39,
    "start_time": "2021-10-18T14:51:56.050Z"
   },
   {
    "duration": 14,
    "start_time": "2021-10-18T14:51:56.091Z"
   },
   {
    "duration": 16,
    "start_time": "2021-10-18T14:51:56.107Z"
   },
   {
    "duration": 13,
    "start_time": "2021-10-18T14:51:56.126Z"
   },
   {
    "duration": 11,
    "start_time": "2021-10-18T14:51:56.141Z"
   },
   {
    "duration": 9,
    "start_time": "2021-10-18T14:51:56.242Z"
   },
   {
    "duration": 12,
    "start_time": "2021-10-18T14:51:56.254Z"
   },
   {
    "duration": 10,
    "start_time": "2021-10-18T14:51:56.593Z"
   },
   {
    "duration": 13,
    "start_time": "2021-10-18T14:51:56.606Z"
   },
   {
    "duration": 20,
    "start_time": "2021-10-18T14:51:56.622Z"
   },
   {
    "duration": 9,
    "start_time": "2021-10-18T14:51:56.742Z"
   },
   {
    "duration": 12,
    "start_time": "2021-10-18T14:51:56.755Z"
   },
   {
    "duration": 20,
    "start_time": "2021-10-18T14:51:56.790Z"
   },
   {
    "duration": 26,
    "start_time": "2021-10-18T14:51:56.892Z"
   },
   {
    "duration": 23,
    "start_time": "2021-10-18T14:51:56.921Z"
   },
   {
    "duration": 12,
    "start_time": "2021-10-18T14:51:56.971Z"
   },
   {
    "duration": 11,
    "start_time": "2021-10-18T14:51:56.986Z"
   },
   {
    "duration": 12,
    "start_time": "2021-10-18T14:51:57.000Z"
   },
   {
    "duration": 37,
    "start_time": "2021-10-18T14:51:57.562Z"
   },
   {
    "duration": 50,
    "start_time": "2021-10-18T14:51:57.601Z"
   },
   {
    "duration": 96,
    "start_time": "2021-10-18T14:51:57.653Z"
   },
   {
    "duration": 10,
    "start_time": "2021-10-18T14:51:58.142Z"
   },
   {
    "duration": 15,
    "start_time": "2021-10-18T14:51:58.156Z"
   },
   {
    "duration": 11,
    "start_time": "2021-10-18T14:51:58.602Z"
   },
   {
    "duration": 63,
    "start_time": "2021-10-18T14:51:58.616Z"
   },
   {
    "duration": 12,
    "start_time": "2021-10-18T14:51:58.682Z"
   },
   {
    "duration": 16,
    "start_time": "2021-10-18T14:51:58.761Z"
   },
   {
    "duration": 13,
    "start_time": "2021-10-18T14:51:59.402Z"
   },
   {
    "duration": 5,
    "start_time": "2021-10-18T14:51:59.418Z"
   },
   {
    "duration": 13,
    "start_time": "2021-10-18T14:51:59.427Z"
   },
   {
    "duration": 7,
    "start_time": "2021-10-18T14:51:59.812Z"
   },
   {
    "duration": 29,
    "start_time": "2021-10-18T14:51:59.821Z"
   },
   {
    "duration": 5,
    "start_time": "2021-10-18T14:51:59.853Z"
   },
   {
    "duration": 12,
    "start_time": "2021-10-18T14:52:00.822Z"
   },
   {
    "duration": 37,
    "start_time": "2021-10-18T14:52:00.837Z"
   },
   {
    "duration": 12,
    "start_time": "2021-10-18T14:52:00.876Z"
   },
   {
    "duration": 18,
    "start_time": "2021-10-18T14:52:01.153Z"
   },
   {
    "duration": 12,
    "start_time": "2021-10-18T14:52:01.174Z"
   },
   {
    "duration": 15,
    "start_time": "2021-10-18T14:52:01.190Z"
   },
   {
    "duration": 13,
    "start_time": "2021-10-18T14:52:01.942Z"
   },
   {
    "duration": 5,
    "start_time": "2021-10-18T14:52:01.958Z"
   },
   {
    "duration": 18,
    "start_time": "2021-10-18T14:52:01.982Z"
   },
   {
    "duration": 7,
    "start_time": "2021-10-18T14:52:02.003Z"
   },
   {
    "duration": 18,
    "start_time": "2021-10-18T14:52:02.014Z"
   },
   {
    "duration": 9,
    "start_time": "2021-10-18T14:52:02.152Z"
   },
   {
    "duration": 11,
    "start_time": "2021-10-18T14:52:02.164Z"
   },
   {
    "duration": 16,
    "start_time": "2021-10-18T14:52:02.179Z"
   },
   {
    "duration": 10,
    "start_time": "2021-10-18T14:52:02.472Z"
   },
   {
    "duration": 14,
    "start_time": "2021-10-18T14:52:02.485Z"
   },
   {
    "duration": 14,
    "start_time": "2021-10-18T14:52:02.877Z"
   },
   {
    "duration": 13,
    "start_time": "2021-10-18T14:52:02.893Z"
   },
   {
    "duration": 128,
    "start_time": "2021-10-18T14:52:02.908Z"
   },
   {
    "duration": 5,
    "start_time": "2021-10-18T14:52:03.039Z"
   },
   {
    "duration": 14,
    "start_time": "2021-10-18T14:52:03.782Z"
   },
   {
    "duration": 8,
    "start_time": "2021-10-18T14:52:03.799Z"
   },
   {
    "duration": 20,
    "start_time": "2021-10-18T14:52:04.142Z"
   },
   {
    "duration": 20,
    "start_time": "2021-10-18T14:52:04.166Z"
   },
   {
    "duration": 7055,
    "start_time": "2021-10-18T14:52:04.552Z"
   },
   {
    "duration": 12,
    "start_time": "2021-10-18T14:52:11.609Z"
   },
   {
    "duration": 28,
    "start_time": "2021-10-18T14:52:11.624Z"
   },
   {
    "duration": 44,
    "start_time": "2021-10-18T14:52:11.654Z"
   },
   {
    "duration": 36,
    "start_time": "2021-10-18T15:15:08.242Z"
   },
   {
    "duration": 24,
    "start_time": "2021-10-18T15:15:59.753Z"
   },
   {
    "duration": 6933,
    "start_time": "2021-10-18T15:41:10.184Z"
   },
   {
    "duration": 13,
    "start_time": "2021-10-18T15:41:30.312Z"
   },
   {
    "duration": 431,
    "start_time": "2021-10-18T15:45:59.540Z"
   },
   {
    "duration": 364,
    "start_time": "2021-10-18T15:46:30.203Z"
   },
   {
    "duration": 371,
    "start_time": "2021-10-18T15:46:51.060Z"
   },
   {
    "duration": 249,
    "start_time": "2021-10-18T15:48:54.445Z"
   },
   {
    "duration": 338,
    "start_time": "2021-10-18T15:52:16.859Z"
   },
   {
    "duration": 298,
    "start_time": "2021-10-18T15:52:32.061Z"
   },
   {
    "duration": 273,
    "start_time": "2021-10-18T15:56:01.882Z"
   },
   {
    "duration": 9980,
    "start_time": "2021-10-18T15:56:36.461Z"
   },
   {
    "duration": 12,
    "start_time": "2021-10-18T15:56:49.961Z"
   },
   {
    "duration": 10074,
    "start_time": "2021-10-18T15:57:03.131Z"
   },
   {
    "duration": 12,
    "start_time": "2021-10-18T15:57:16.816Z"
   },
   {
    "duration": 9222,
    "start_time": "2021-10-18T16:00:25.763Z"
   },
   {
    "duration": 13,
    "start_time": "2021-10-18T16:00:39.094Z"
   },
   {
    "duration": 24,
    "start_time": "2021-10-18T16:10:48.950Z"
   },
   {
    "duration": 7,
    "start_time": "2021-10-18T16:11:50.205Z"
   },
   {
    "duration": 8022,
    "start_time": "2021-10-18T16:11:55.719Z"
   },
   {
    "duration": 6653,
    "start_time": "2021-10-18T16:12:22.889Z"
   },
   {
    "duration": 1765,
    "start_time": "2021-10-18T16:12:41.678Z"
   },
   {
    "duration": 7,
    "start_time": "2021-10-18T16:14:46.838Z"
   },
   {
    "duration": 265,
    "start_time": "2021-10-18T16:18:43.283Z"
   },
   {
    "duration": 19,
    "start_time": "2021-10-18T16:19:13.819Z"
   },
   {
    "duration": 470,
    "start_time": "2021-10-19T08:45:32.936Z"
   },
   {
    "duration": 955,
    "start_time": "2021-10-19T08:45:41.601Z"
   },
   {
    "duration": 10,
    "start_time": "2021-10-19T08:45:42.558Z"
   },
   {
    "duration": 19,
    "start_time": "2021-10-19T08:45:42.570Z"
   },
   {
    "duration": 9,
    "start_time": "2021-10-19T08:45:42.592Z"
   },
   {
    "duration": 6,
    "start_time": "2021-10-19T08:45:42.603Z"
   },
   {
    "duration": 12,
    "start_time": "2021-10-19T08:45:42.610Z"
   },
   {
    "duration": 8,
    "start_time": "2021-10-19T08:45:42.623Z"
   },
   {
    "duration": 8,
    "start_time": "2021-10-19T08:45:42.635Z"
   },
   {
    "duration": 39,
    "start_time": "2021-10-19T08:45:42.645Z"
   },
   {
    "duration": 7,
    "start_time": "2021-10-19T08:45:42.686Z"
   },
   {
    "duration": 10,
    "start_time": "2021-10-19T08:45:42.695Z"
   },
   {
    "duration": 12,
    "start_time": "2021-10-19T08:45:42.706Z"
   },
   {
    "duration": 13,
    "start_time": "2021-10-19T08:45:42.719Z"
   },
   {
    "duration": 5,
    "start_time": "2021-10-19T08:45:42.734Z"
   },
   {
    "duration": 9,
    "start_time": "2021-10-19T08:45:42.741Z"
   },
   {
    "duration": 11,
    "start_time": "2021-10-19T08:45:42.777Z"
   },
   {
    "duration": 21,
    "start_time": "2021-10-19T08:45:42.790Z"
   },
   {
    "duration": 15,
    "start_time": "2021-10-19T08:45:42.812Z"
   },
   {
    "duration": 11,
    "start_time": "2021-10-19T08:45:42.828Z"
   },
   {
    "duration": 7,
    "start_time": "2021-10-19T08:45:42.841Z"
   },
   {
    "duration": 33,
    "start_time": "2021-10-19T08:45:42.850Z"
   },
   {
    "duration": 21,
    "start_time": "2021-10-19T08:45:42.885Z"
   },
   {
    "duration": 35,
    "start_time": "2021-10-19T08:45:42.909Z"
   },
   {
    "duration": 53,
    "start_time": "2021-10-19T08:45:42.946Z"
   },
   {
    "duration": 5,
    "start_time": "2021-10-19T08:45:43.001Z"
   },
   {
    "duration": 12,
    "start_time": "2021-10-19T08:45:43.008Z"
   },
   {
    "duration": 7,
    "start_time": "2021-10-19T08:45:43.021Z"
   },
   {
    "duration": 54,
    "start_time": "2021-10-19T08:45:43.030Z"
   },
   {
    "duration": 8,
    "start_time": "2021-10-19T08:45:43.085Z"
   },
   {
    "duration": 9,
    "start_time": "2021-10-19T08:45:43.095Z"
   },
   {
    "duration": 8,
    "start_time": "2021-10-19T08:45:43.105Z"
   },
   {
    "duration": 3,
    "start_time": "2021-10-19T08:45:43.114Z"
   },
   {
    "duration": 13,
    "start_time": "2021-10-19T08:45:43.118Z"
   },
   {
    "duration": 5,
    "start_time": "2021-10-19T08:45:43.133Z"
   },
   {
    "duration": 46,
    "start_time": "2021-10-19T08:45:43.139Z"
   },
   {
    "duration": 4,
    "start_time": "2021-10-19T08:45:43.186Z"
   },
   {
    "duration": 11,
    "start_time": "2021-10-19T08:45:43.191Z"
   },
   {
    "duration": 19,
    "start_time": "2021-10-19T08:45:43.204Z"
   },
   {
    "duration": 9,
    "start_time": "2021-10-19T08:45:43.225Z"
   },
   {
    "duration": 8,
    "start_time": "2021-10-19T08:45:43.236Z"
   },
   {
    "duration": 6,
    "start_time": "2021-10-19T08:45:43.277Z"
   },
   {
    "duration": 12,
    "start_time": "2021-10-19T08:45:43.284Z"
   },
   {
    "duration": 7,
    "start_time": "2021-10-19T08:45:43.298Z"
   },
   {
    "duration": 3,
    "start_time": "2021-10-19T08:45:43.306Z"
   },
   {
    "duration": 12,
    "start_time": "2021-10-19T08:45:43.310Z"
   },
   {
    "duration": 4,
    "start_time": "2021-10-19T08:45:43.323Z"
   },
   {
    "duration": 12,
    "start_time": "2021-10-19T08:45:43.328Z"
   },
   {
    "duration": 35,
    "start_time": "2021-10-19T08:45:43.342Z"
   },
   {
    "duration": 4,
    "start_time": "2021-10-19T08:45:43.379Z"
   },
   {
    "duration": 17,
    "start_time": "2021-10-19T08:45:43.385Z"
   },
   {
    "duration": 7,
    "start_time": "2021-10-19T08:45:43.403Z"
   },
   {
    "duration": 7,
    "start_time": "2021-10-19T08:45:43.412Z"
   },
   {
    "duration": 10,
    "start_time": "2021-10-19T08:45:43.420Z"
   },
   {
    "duration": 8,
    "start_time": "2021-10-19T08:45:43.432Z"
   },
   {
    "duration": 96,
    "start_time": "2021-10-19T08:45:43.442Z"
   },
   {
    "duration": 4,
    "start_time": "2021-10-19T08:45:43.540Z"
   },
   {
    "duration": 11,
    "start_time": "2021-10-19T08:45:43.546Z"
   },
   {
    "duration": 21,
    "start_time": "2021-10-19T08:45:43.559Z"
   },
   {
    "duration": 12,
    "start_time": "2021-10-19T08:45:43.581Z"
   },
   {
    "duration": 12,
    "start_time": "2021-10-19T08:45:43.595Z"
   },
   {
    "duration": 4598,
    "start_time": "2021-10-19T08:45:43.608Z"
   },
   {
    "duration": 8,
    "start_time": "2021-10-19T08:45:48.208Z"
   },
   {
    "duration": 14,
    "start_time": "2021-10-19T08:45:48.218Z"
   },
   {
    "duration": 17,
    "start_time": "2021-10-19T08:45:48.234Z"
   },
   {
    "duration": 5973,
    "start_time": "2021-10-19T08:45:48.253Z"
   },
   {
    "duration": 9,
    "start_time": "2021-10-19T08:45:54.228Z"
   },
   {
    "duration": 14,
    "start_time": "2021-10-19T08:45:54.238Z"
   },
   {
    "duration": 25,
    "start_time": "2021-10-19T08:45:54.257Z"
   },
   {
    "duration": 9,
    "start_time": "2021-10-19T08:46:09.646Z"
   },
   {
    "duration": 11,
    "start_time": "2021-10-19T08:46:59.299Z"
   },
   {
    "duration": 399,
    "start_time": "2021-10-19T08:50:03.426Z"
   },
   {
    "duration": 887,
    "start_time": "2021-10-19T08:50:10.585Z"
   },
   {
    "duration": 350,
    "start_time": "2021-10-19T08:50:17.228Z"
   },
   {
    "duration": 4,
    "start_time": "2021-10-19T08:50:30.848Z"
   },
   {
    "duration": 9,
    "start_time": "2021-10-19T08:50:50.245Z"
   },
   {
    "duration": 11,
    "start_time": "2021-10-19T08:52:32.275Z"
   },
   {
    "duration": 339,
    "start_time": "2021-10-19T08:54:25.679Z"
   },
   {
    "duration": 350,
    "start_time": "2021-10-19T08:55:14.999Z"
   },
   {
    "duration": 16,
    "start_time": "2021-10-19T08:55:22.108Z"
   },
   {
    "duration": 15,
    "start_time": "2021-10-19T08:55:38.545Z"
   },
   {
    "duration": 12,
    "start_time": "2021-10-19T08:56:15.828Z"
   },
   {
    "duration": 11,
    "start_time": "2021-10-19T08:56:30.156Z"
   },
   {
    "duration": 11,
    "start_time": "2021-10-19T08:57:36.171Z"
   },
   {
    "duration": 11,
    "start_time": "2021-10-19T09:02:31.212Z"
   },
   {
    "duration": 335,
    "start_time": "2021-10-19T09:03:14.467Z"
   },
   {
    "duration": 8,
    "start_time": "2021-10-19T09:03:42.823Z"
   },
   {
    "duration": 11,
    "start_time": "2021-10-19T09:06:17.195Z"
   },
   {
    "duration": 10,
    "start_time": "2021-10-19T09:06:43.370Z"
   },
   {
    "duration": 20,
    "start_time": "2021-10-19T09:56:45.774Z"
   },
   {
    "duration": 110,
    "start_time": "2021-10-19T11:16:36.615Z"
   },
   {
    "duration": 9,
    "start_time": "2021-10-19T11:16:54.510Z"
   },
   {
    "duration": 11,
    "start_time": "2021-10-19T11:18:19.674Z"
   },
   {
    "duration": 13,
    "start_time": "2021-10-19T11:20:25.452Z"
   },
   {
    "duration": 6,
    "start_time": "2021-10-19T11:29:14.815Z"
   },
   {
    "duration": 13,
    "start_time": "2021-10-19T11:29:42.128Z"
   },
   {
    "duration": 9,
    "start_time": "2021-10-19T11:34:17.822Z"
   },
   {
    "duration": 12,
    "start_time": "2021-10-19T11:35:01.614Z"
   },
   {
    "duration": 8,
    "start_time": "2021-10-19T11:38:41.347Z"
   },
   {
    "duration": 9,
    "start_time": "2021-10-19T11:39:34.372Z"
   },
   {
    "duration": 10,
    "start_time": "2021-10-19T11:40:40.033Z"
   },
   {
    "duration": 9,
    "start_time": "2021-10-19T11:41:12.180Z"
   },
   {
    "duration": 5,
    "start_time": "2021-10-19T11:41:36.048Z"
   },
   {
    "duration": 9,
    "start_time": "2021-10-19T11:42:25.549Z"
   },
   {
    "duration": 6,
    "start_time": "2021-10-19T11:43:15.153Z"
   },
   {
    "duration": 4,
    "start_time": "2021-10-19T11:43:24.730Z"
   },
   {
    "duration": 347,
    "start_time": "2021-10-19T11:44:34.965Z"
   },
   {
    "duration": 7,
    "start_time": "2021-10-19T11:45:15.015Z"
   },
   {
    "duration": 13,
    "start_time": "2021-10-19T11:45:34.101Z"
   },
   {
    "duration": 6,
    "start_time": "2021-10-19T11:45:52.900Z"
   },
   {
    "duration": 7,
    "start_time": "2021-10-19T11:45:53.919Z"
   },
   {
    "duration": 13,
    "start_time": "2021-10-19T11:45:55.229Z"
   },
   {
    "duration": 6,
    "start_time": "2021-10-19T11:46:15.726Z"
   },
   {
    "duration": 13,
    "start_time": "2021-10-19T11:46:16.802Z"
   },
   {
    "duration": 6,
    "start_time": "2021-10-19T11:46:24.438Z"
   },
   {
    "duration": 13,
    "start_time": "2021-10-19T11:46:24.928Z"
   },
   {
    "duration": 12,
    "start_time": "2021-10-19T11:47:29.119Z"
   },
   {
    "duration": 6,
    "start_time": "2021-10-19T12:29:55.321Z"
   },
   {
    "duration": 6,
    "start_time": "2021-10-19T12:29:59.275Z"
   },
   {
    "duration": 12,
    "start_time": "2021-10-19T12:30:00.595Z"
   },
   {
    "duration": 12,
    "start_time": "2021-10-19T12:30:05.038Z"
   },
   {
    "duration": 650,
    "start_time": "2021-10-19T13:27:59.896Z"
   },
   {
    "duration": 11,
    "start_time": "2021-10-19T13:28:00.547Z"
   },
   {
    "duration": 21,
    "start_time": "2021-10-19T13:28:00.560Z"
   },
   {
    "duration": 7,
    "start_time": "2021-10-19T13:28:00.583Z"
   },
   {
    "duration": 16,
    "start_time": "2021-10-19T13:28:00.592Z"
   },
   {
    "duration": 19,
    "start_time": "2021-10-19T13:28:00.610Z"
   },
   {
    "duration": 8,
    "start_time": "2021-10-19T13:28:00.631Z"
   },
   {
    "duration": 24,
    "start_time": "2021-10-19T13:28:00.641Z"
   },
   {
    "duration": 13,
    "start_time": "2021-10-19T13:28:00.668Z"
   },
   {
    "duration": 11,
    "start_time": "2021-10-19T13:28:00.683Z"
   },
   {
    "duration": 17,
    "start_time": "2021-10-19T13:28:00.696Z"
   },
   {
    "duration": 8,
    "start_time": "2021-10-19T13:28:00.715Z"
   },
   {
    "duration": 10,
    "start_time": "2021-10-19T13:28:00.725Z"
   },
   {
    "duration": 6,
    "start_time": "2021-10-19T13:28:00.736Z"
   },
   {
    "duration": 9,
    "start_time": "2021-10-19T13:28:00.744Z"
   },
   {
    "duration": 33,
    "start_time": "2021-10-19T13:28:00.754Z"
   },
   {
    "duration": 13,
    "start_time": "2021-10-19T13:28:00.789Z"
   },
   {
    "duration": 13,
    "start_time": "2021-10-19T13:28:00.804Z"
   },
   {
    "duration": 12,
    "start_time": "2021-10-19T13:28:00.819Z"
   },
   {
    "duration": 11,
    "start_time": "2021-10-19T13:28:00.833Z"
   },
   {
    "duration": 9,
    "start_time": "2021-10-19T13:28:00.877Z"
   },
   {
    "duration": 30,
    "start_time": "2021-10-19T13:28:00.887Z"
   },
   {
    "duration": 40,
    "start_time": "2021-10-19T13:28:00.918Z"
   },
   {
    "duration": 45,
    "start_time": "2021-10-19T13:28:00.960Z"
   },
   {
    "duration": 5,
    "start_time": "2021-10-19T13:28:01.007Z"
   },
   {
    "duration": 13,
    "start_time": "2021-10-19T13:28:01.014Z"
   },
   {
    "duration": 30,
    "start_time": "2021-10-19T13:28:01.031Z"
   },
   {
    "duration": 39,
    "start_time": "2021-10-19T13:28:01.063Z"
   },
   {
    "duration": 8,
    "start_time": "2021-10-19T13:28:01.104Z"
   },
   {
    "duration": 33,
    "start_time": "2021-10-19T13:28:01.113Z"
   },
   {
    "duration": 8,
    "start_time": "2021-10-19T13:28:01.148Z"
   },
   {
    "duration": 15,
    "start_time": "2021-10-19T13:28:01.157Z"
   },
   {
    "duration": 17,
    "start_time": "2021-10-19T13:28:01.174Z"
   },
   {
    "duration": 6,
    "start_time": "2021-10-19T13:28:01.193Z"
   },
   {
    "duration": 24,
    "start_time": "2021-10-19T13:28:01.200Z"
   },
   {
    "duration": 9,
    "start_time": "2021-10-19T13:28:01.226Z"
   },
   {
    "duration": 12,
    "start_time": "2021-10-19T13:28:01.236Z"
   },
   {
    "duration": 19,
    "start_time": "2021-10-19T13:28:01.250Z"
   },
   {
    "duration": 8,
    "start_time": "2021-10-19T13:28:01.277Z"
   },
   {
    "duration": 9,
    "start_time": "2021-10-19T13:28:01.287Z"
   },
   {
    "duration": 7,
    "start_time": "2021-10-19T13:28:01.297Z"
   },
   {
    "duration": 16,
    "start_time": "2021-10-19T13:28:01.305Z"
   },
   {
    "duration": 17,
    "start_time": "2021-10-19T13:28:01.322Z"
   },
   {
    "duration": 2,
    "start_time": "2021-10-19T13:28:01.341Z"
   },
   {
    "duration": 12,
    "start_time": "2021-10-19T13:28:01.344Z"
   },
   {
    "duration": 4,
    "start_time": "2021-10-19T13:28:01.377Z"
   },
   {
    "duration": 9,
    "start_time": "2021-10-19T13:28:01.382Z"
   },
   {
    "duration": 12,
    "start_time": "2021-10-19T13:28:01.393Z"
   },
   {
    "duration": 13,
    "start_time": "2021-10-19T13:28:01.406Z"
   },
   {
    "duration": 17,
    "start_time": "2021-10-19T13:28:01.420Z"
   },
   {
    "duration": 13,
    "start_time": "2021-10-19T13:28:01.439Z"
   },
   {
    "duration": 16,
    "start_time": "2021-10-19T13:28:01.454Z"
   },
   {
    "duration": 17,
    "start_time": "2021-10-19T13:28:01.472Z"
   },
   {
    "duration": 15,
    "start_time": "2021-10-19T13:28:01.491Z"
   },
   {
    "duration": 73,
    "start_time": "2021-10-19T13:28:01.507Z"
   },
   {
    "duration": 4,
    "start_time": "2021-10-19T13:28:01.581Z"
   },
   {
    "duration": 33,
    "start_time": "2021-10-19T13:28:01.587Z"
   },
   {
    "duration": 13,
    "start_time": "2021-10-19T13:28:01.622Z"
   },
   {
    "duration": 14,
    "start_time": "2021-10-19T13:28:01.637Z"
   },
   {
    "duration": 17,
    "start_time": "2021-10-19T13:28:01.653Z"
   },
   {
    "duration": 4769,
    "start_time": "2021-10-19T13:28:01.672Z"
   },
   {
    "duration": 10,
    "start_time": "2021-10-19T13:28:06.443Z"
   },
   {
    "duration": 27,
    "start_time": "2021-10-19T13:28:06.455Z"
   },
   {
    "duration": 30,
    "start_time": "2021-10-19T13:28:06.484Z"
   },
   {
    "duration": 6047,
    "start_time": "2021-10-19T13:28:06.516Z"
   },
   {
    "duration": 18,
    "start_time": "2021-10-19T13:28:12.566Z"
   },
   {
    "duration": 12,
    "start_time": "2021-10-19T13:28:12.586Z"
   },
   {
    "duration": 19,
    "start_time": "2021-10-19T13:28:12.600Z"
   },
   {
    "duration": 3,
    "start_time": "2021-10-19T13:28:12.621Z"
   },
   {
    "duration": 145,
    "start_time": "2021-10-19T13:28:12.626Z"
   },
   {
    "duration": 10,
    "start_time": "2021-10-19T13:28:12.773Z"
   },
   {
    "duration": 11,
    "start_time": "2021-10-19T13:28:12.784Z"
   },
   {
    "duration": 15,
    "start_time": "2021-10-19T13:28:12.797Z"
   },
   {
    "duration": 8,
    "start_time": "2021-10-19T13:28:12.814Z"
   },
   {
    "duration": 6,
    "start_time": "2021-10-19T13:28:12.824Z"
   },
   {
    "duration": 15,
    "start_time": "2021-10-19T13:28:12.832Z"
   },
   {
    "duration": 31,
    "start_time": "2021-10-19T13:28:12.849Z"
   },
   {
    "duration": 7,
    "start_time": "2021-10-19T13:28:46.268Z"
   },
   {
    "duration": 7,
    "start_time": "2021-10-19T13:28:46.276Z"
   },
   {
    "duration": 14,
    "start_time": "2021-10-19T13:29:24.244Z"
   },
   {
    "duration": 6,
    "start_time": "2021-10-19T13:30:54.142Z"
   },
   {
    "duration": 5,
    "start_time": "2021-10-19T13:30:58.777Z"
   },
   {
    "duration": 6,
    "start_time": "2021-10-19T13:31:10.465Z"
   },
   {
    "duration": 8,
    "start_time": "2021-10-19T13:31:16.277Z"
   },
   {
    "duration": 9,
    "start_time": "2021-10-19T13:31:28.145Z"
   },
   {
    "duration": 13,
    "start_time": "2021-10-19T13:31:45.455Z"
   },
   {
    "duration": 9,
    "start_time": "2021-10-19T13:32:14.551Z"
   },
   {
    "duration": 113,
    "start_time": "2021-10-19T13:42:48.830Z"
   },
   {
    "duration": 5,
    "start_time": "2021-10-19T13:42:54.902Z"
   },
   {
    "duration": 8,
    "start_time": "2021-10-19T13:43:09.829Z"
   },
   {
    "duration": 9,
    "start_time": "2021-10-19T13:43:13.279Z"
   },
   {
    "duration": 8,
    "start_time": "2021-10-19T13:46:41.739Z"
   },
   {
    "duration": 11,
    "start_time": "2021-10-19T13:47:18.000Z"
   },
   {
    "duration": 4,
    "start_time": "2021-10-19T14:34:37.759Z"
   },
   {
    "duration": 10,
    "start_time": "2021-10-19T15:03:43.794Z"
   },
   {
    "duration": 612,
    "start_time": "2021-10-19T16:17:44.830Z"
   },
   {
    "duration": 10,
    "start_time": "2021-10-19T16:17:45.443Z"
   },
   {
    "duration": 15,
    "start_time": "2021-10-19T16:17:45.455Z"
   },
   {
    "duration": 7,
    "start_time": "2021-10-19T16:17:45.472Z"
   },
   {
    "duration": 5,
    "start_time": "2021-10-19T16:17:45.481Z"
   },
   {
    "duration": 7,
    "start_time": "2021-10-19T16:17:45.488Z"
   },
   {
    "duration": 6,
    "start_time": "2021-10-19T16:17:45.497Z"
   },
   {
    "duration": 6,
    "start_time": "2021-10-19T16:17:45.505Z"
   },
   {
    "duration": 6,
    "start_time": "2021-10-19T16:17:45.514Z"
   },
   {
    "duration": 10,
    "start_time": "2021-10-19T16:17:45.522Z"
   },
   {
    "duration": 44,
    "start_time": "2021-10-19T16:17:45.533Z"
   },
   {
    "duration": 6,
    "start_time": "2021-10-19T16:17:45.578Z"
   },
   {
    "duration": 9,
    "start_time": "2021-10-19T16:17:45.585Z"
   },
   {
    "duration": 5,
    "start_time": "2021-10-19T16:17:45.596Z"
   },
   {
    "duration": 11,
    "start_time": "2021-10-19T16:17:45.602Z"
   },
   {
    "duration": 10,
    "start_time": "2021-10-19T16:17:45.614Z"
   },
   {
    "duration": 10,
    "start_time": "2021-10-19T16:17:45.626Z"
   },
   {
    "duration": 43,
    "start_time": "2021-10-19T16:17:45.638Z"
   },
   {
    "duration": 9,
    "start_time": "2021-10-19T16:17:45.682Z"
   },
   {
    "duration": 8,
    "start_time": "2021-10-19T16:17:45.693Z"
   },
   {
    "duration": 8,
    "start_time": "2021-10-19T16:17:45.702Z"
   },
   {
    "duration": 22,
    "start_time": "2021-10-19T16:17:45.711Z"
   },
   {
    "duration": 62,
    "start_time": "2021-10-19T16:17:45.735Z"
   },
   {
    "duration": 35,
    "start_time": "2021-10-19T16:17:45.799Z"
   },
   {
    "duration": 5,
    "start_time": "2021-10-19T16:17:45.836Z"
   },
   {
    "duration": 10,
    "start_time": "2021-10-19T16:17:45.843Z"
   },
   {
    "duration": 7,
    "start_time": "2021-10-19T16:17:45.880Z"
   },
   {
    "duration": 33,
    "start_time": "2021-10-19T16:17:45.890Z"
   },
   {
    "duration": 8,
    "start_time": "2021-10-19T16:17:45.925Z"
   },
   {
    "duration": 9,
    "start_time": "2021-10-19T16:17:45.935Z"
   },
   {
    "duration": 37,
    "start_time": "2021-10-19T16:17:45.946Z"
   },
   {
    "duration": 2,
    "start_time": "2021-10-19T16:17:45.985Z"
   },
   {
    "duration": 12,
    "start_time": "2021-10-19T16:17:45.989Z"
   },
   {
    "duration": 4,
    "start_time": "2021-10-19T16:17:46.003Z"
   },
   {
    "duration": 18,
    "start_time": "2021-10-19T16:17:46.008Z"
   },
   {
    "duration": 7,
    "start_time": "2021-10-19T16:17:46.028Z"
   },
   {
    "duration": 12,
    "start_time": "2021-10-19T16:17:46.037Z"
   },
   {
    "duration": 45,
    "start_time": "2021-10-19T16:17:46.051Z"
   },
   {
    "duration": 8,
    "start_time": "2021-10-19T16:17:46.098Z"
   },
   {
    "duration": 9,
    "start_time": "2021-10-19T16:17:46.108Z"
   },
   {
    "duration": 7,
    "start_time": "2021-10-19T16:17:46.118Z"
   },
   {
    "duration": 10,
    "start_time": "2021-10-19T16:17:46.126Z"
   },
   {
    "duration": 46,
    "start_time": "2021-10-19T16:17:46.137Z"
   },
   {
    "duration": 3,
    "start_time": "2021-10-19T16:17:46.184Z"
   },
   {
    "duration": 12,
    "start_time": "2021-10-19T16:17:46.188Z"
   },
   {
    "duration": 4,
    "start_time": "2021-10-19T16:17:46.202Z"
   },
   {
    "duration": 9,
    "start_time": "2021-10-19T16:17:46.208Z"
   },
   {
    "duration": 11,
    "start_time": "2021-10-19T16:17:46.219Z"
   },
   {
    "duration": 5,
    "start_time": "2021-10-19T16:17:46.232Z"
   },
   {
    "duration": 41,
    "start_time": "2021-10-19T16:17:46.238Z"
   },
   {
    "duration": 7,
    "start_time": "2021-10-19T16:17:46.281Z"
   },
   {
    "duration": 9,
    "start_time": "2021-10-19T16:17:46.289Z"
   },
   {
    "duration": 9,
    "start_time": "2021-10-19T16:17:46.300Z"
   },
   {
    "duration": 9,
    "start_time": "2021-10-19T16:17:46.311Z"
   },
   {
    "duration": 108,
    "start_time": "2021-10-19T16:17:46.321Z"
   },
   {
    "duration": 5,
    "start_time": "2021-10-19T16:17:46.430Z"
   },
   {
    "duration": 22,
    "start_time": "2021-10-19T16:17:46.436Z"
   },
   {
    "duration": 17,
    "start_time": "2021-10-19T16:17:46.460Z"
   },
   {
    "duration": 13,
    "start_time": "2021-10-19T16:17:46.478Z"
   },
   {
    "duration": 13,
    "start_time": "2021-10-19T16:17:46.493Z"
   },
   {
    "duration": 4608,
    "start_time": "2021-10-19T16:17:46.508Z"
   },
   {
    "duration": 8,
    "start_time": "2021-10-19T16:17:51.117Z"
   },
   {
    "duration": 16,
    "start_time": "2021-10-19T16:17:51.127Z"
   },
   {
    "duration": 17,
    "start_time": "2021-10-19T16:17:51.144Z"
   },
   {
    "duration": 5784,
    "start_time": "2021-10-19T16:17:51.162Z"
   },
   {
    "duration": 9,
    "start_time": "2021-10-19T16:17:56.948Z"
   },
   {
    "duration": 21,
    "start_time": "2021-10-19T16:17:56.958Z"
   },
   {
    "duration": 8,
    "start_time": "2021-10-19T16:17:56.980Z"
   },
   {
    "duration": 13,
    "start_time": "2021-10-19T16:17:56.990Z"
   },
   {
    "duration": 16,
    "start_time": "2021-10-19T16:17:57.005Z"
   },
   {
    "duration": 2,
    "start_time": "2021-10-19T16:17:57.023Z"
   },
   {
    "duration": 144,
    "start_time": "2021-10-19T16:17:57.026Z"
   },
   {
    "duration": 11,
    "start_time": "2021-10-19T16:17:57.172Z"
   },
   {
    "duration": 10,
    "start_time": "2021-10-19T16:17:57.184Z"
   },
   {
    "duration": 13,
    "start_time": "2021-10-19T16:17:57.196Z"
   },
   {
    "duration": 6,
    "start_time": "2021-10-19T16:17:57.210Z"
   },
   {
    "duration": 13,
    "start_time": "2021-10-19T16:17:57.217Z"
   },
   {
    "duration": 10,
    "start_time": "2021-10-19T16:17:57.232Z"
   },
   {
    "duration": 10,
    "start_time": "2021-10-19T16:31:03.634Z"
   },
   {
    "duration": 5,
    "start_time": "2021-10-19T16:37:11.265Z"
   },
   {
    "duration": 12,
    "start_time": "2021-10-19T16:37:27.734Z"
   },
   {
    "duration": 11,
    "start_time": "2021-10-19T16:37:43.153Z"
   },
   {
    "duration": 13,
    "start_time": "2021-10-19T17:02:06.901Z"
   },
   {
    "duration": 28,
    "start_time": "2021-10-19T17:02:24.302Z"
   },
   {
    "duration": 19,
    "start_time": "2021-10-19T17:09:51.442Z"
   },
   {
    "duration": 5,
    "start_time": "2021-10-19T17:10:26.294Z"
   },
   {
    "duration": 6,
    "start_time": "2021-10-19T17:10:43.142Z"
   },
   {
    "duration": 5,
    "start_time": "2021-10-19T17:10:48.394Z"
   },
   {
    "duration": 20,
    "start_time": "2021-10-19T17:11:04.002Z"
   },
   {
    "duration": 6,
    "start_time": "2021-10-19T17:12:12.555Z"
   },
   {
    "duration": 7,
    "start_time": "2021-10-19T17:12:47.306Z"
   },
   {
    "duration": 5,
    "start_time": "2021-10-19T17:14:04.214Z"
   },
   {
    "duration": 6,
    "start_time": "2021-10-19T17:14:34.895Z"
   },
   {
    "duration": 4,
    "start_time": "2021-10-19T17:15:02.442Z"
   },
   {
    "duration": 390,
    "start_time": "2021-10-19T17:17:08.266Z"
   },
   {
    "duration": 354,
    "start_time": "2021-10-19T17:17:27.002Z"
   },
   {
    "duration": 339,
    "start_time": "2021-10-19T17:17:36.834Z"
   },
   {
    "duration": 8,
    "start_time": "2021-10-19T17:20:00.046Z"
   },
   {
    "duration": 1131,
    "start_time": "2021-10-19T17:26:20.562Z"
   },
   {
    "duration": 7,
    "start_time": "2021-10-19T17:27:30.374Z"
   },
   {
    "duration": 7,
    "start_time": "2021-10-19T17:30:54.231Z"
   },
   {
    "duration": 7,
    "start_time": "2021-10-19T17:31:09.594Z"
   },
   {
    "duration": 10,
    "start_time": "2021-10-19T17:32:39.854Z"
   },
   {
    "duration": 8,
    "start_time": "2021-10-19T17:32:40.733Z"
   },
   {
    "duration": 6,
    "start_time": "2021-10-19T17:33:09.014Z"
   },
   {
    "duration": 18,
    "start_time": "2021-10-19T17:34:28.397Z"
   },
   {
    "duration": 7,
    "start_time": "2021-10-19T17:42:23.545Z"
   },
   {
    "duration": 644,
    "start_time": "2021-10-19T18:56:32.906Z"
   },
   {
    "duration": 10,
    "start_time": "2021-10-19T18:56:33.552Z"
   },
   {
    "duration": 17,
    "start_time": "2021-10-19T18:56:33.563Z"
   },
   {
    "duration": 7,
    "start_time": "2021-10-19T18:56:33.582Z"
   },
   {
    "duration": 10,
    "start_time": "2021-10-19T18:56:33.591Z"
   },
   {
    "duration": 8,
    "start_time": "2021-10-19T18:56:33.602Z"
   },
   {
    "duration": 9,
    "start_time": "2021-10-19T18:56:33.611Z"
   },
   {
    "duration": 7,
    "start_time": "2021-10-19T18:56:33.621Z"
   },
   {
    "duration": 7,
    "start_time": "2021-10-19T18:56:33.631Z"
   },
   {
    "duration": 41,
    "start_time": "2021-10-19T18:56:33.640Z"
   },
   {
    "duration": 8,
    "start_time": "2021-10-19T18:56:33.682Z"
   },
   {
    "duration": 6,
    "start_time": "2021-10-19T18:56:33.692Z"
   },
   {
    "duration": 10,
    "start_time": "2021-10-19T18:56:33.699Z"
   },
   {
    "duration": 5,
    "start_time": "2021-10-19T18:56:33.711Z"
   },
   {
    "duration": 9,
    "start_time": "2021-10-19T18:56:33.717Z"
   },
   {
    "duration": 10,
    "start_time": "2021-10-19T18:56:33.728Z"
   },
   {
    "duration": 46,
    "start_time": "2021-10-19T18:56:33.740Z"
   },
   {
    "duration": 14,
    "start_time": "2021-10-19T18:56:33.787Z"
   },
   {
    "duration": 10,
    "start_time": "2021-10-19T18:56:33.802Z"
   },
   {
    "duration": 8,
    "start_time": "2021-10-19T18:56:33.814Z"
   },
   {
    "duration": 7,
    "start_time": "2021-10-19T18:56:33.823Z"
   },
   {
    "duration": 50,
    "start_time": "2021-10-19T18:56:33.832Z"
   },
   {
    "duration": 30,
    "start_time": "2021-10-19T18:56:33.885Z"
   },
   {
    "duration": 31,
    "start_time": "2021-10-19T18:56:33.917Z"
   },
   {
    "duration": 5,
    "start_time": "2021-10-19T18:56:33.950Z"
   },
   {
    "duration": 9,
    "start_time": "2021-10-19T18:56:33.977Z"
   },
   {
    "duration": 6,
    "start_time": "2021-10-19T18:56:33.991Z"
   },
   {
    "duration": 31,
    "start_time": "2021-10-19T18:56:34.000Z"
   },
   {
    "duration": 7,
    "start_time": "2021-10-19T18:56:34.033Z"
   },
   {
    "duration": 43,
    "start_time": "2021-10-19T18:56:34.042Z"
   },
   {
    "duration": 7,
    "start_time": "2021-10-19T18:56:34.086Z"
   },
   {
    "duration": 2,
    "start_time": "2021-10-19T18:56:34.095Z"
   },
   {
    "duration": 8,
    "start_time": "2021-10-19T18:56:34.099Z"
   },
   {
    "duration": 4,
    "start_time": "2021-10-19T18:56:34.109Z"
   },
   {
    "duration": 14,
    "start_time": "2021-10-19T18:56:34.114Z"
   },
   {
    "duration": 4,
    "start_time": "2021-10-19T18:56:34.129Z"
   },
   {
    "duration": 47,
    "start_time": "2021-10-19T18:56:34.134Z"
   },
   {
    "duration": 20,
    "start_time": "2021-10-19T18:56:34.183Z"
   },
   {
    "duration": 8,
    "start_time": "2021-10-19T18:56:34.204Z"
   },
   {
    "duration": 11,
    "start_time": "2021-10-19T18:56:34.213Z"
   },
   {
    "duration": 7,
    "start_time": "2021-10-19T18:56:34.225Z"
   },
   {
    "duration": 8,
    "start_time": "2021-10-19T18:56:34.233Z"
   },
   {
    "duration": 39,
    "start_time": "2021-10-19T18:56:34.242Z"
   },
   {
    "duration": 2,
    "start_time": "2021-10-19T18:56:34.282Z"
   },
   {
    "duration": 12,
    "start_time": "2021-10-19T18:56:34.286Z"
   },
   {
    "duration": 4,
    "start_time": "2021-10-19T18:56:34.300Z"
   },
   {
    "duration": 8,
    "start_time": "2021-10-19T18:56:34.306Z"
   },
   {
    "duration": 10,
    "start_time": "2021-10-19T18:56:34.315Z"
   },
   {
    "duration": 17,
    "start_time": "2021-10-19T18:56:34.326Z"
   },
   {
    "duration": 15,
    "start_time": "2021-10-19T18:56:34.345Z"
   },
   {
    "duration": 8,
    "start_time": "2021-10-19T18:56:34.376Z"
   },
   {
    "duration": 10,
    "start_time": "2021-10-19T18:56:34.386Z"
   },
   {
    "duration": 12,
    "start_time": "2021-10-19T18:56:34.398Z"
   },
   {
    "duration": 10,
    "start_time": "2021-10-19T18:56:34.411Z"
   },
   {
    "duration": 96,
    "start_time": "2021-10-19T18:56:34.423Z"
   },
   {
    "duration": 5,
    "start_time": "2021-10-19T18:56:34.520Z"
   },
   {
    "duration": 11,
    "start_time": "2021-10-19T18:56:34.526Z"
   },
   {
    "duration": 7,
    "start_time": "2021-10-19T18:56:34.538Z"
   },
   {
    "duration": 35,
    "start_time": "2021-10-19T18:56:34.546Z"
   },
   {
    "duration": 13,
    "start_time": "2021-10-19T18:56:34.583Z"
   },
   {
    "duration": 4550,
    "start_time": "2021-10-19T18:56:34.597Z"
   },
   {
    "duration": 12,
    "start_time": "2021-10-19T18:56:39.149Z"
   },
   {
    "duration": 20,
    "start_time": "2021-10-19T18:56:39.163Z"
   },
   {
    "duration": 24,
    "start_time": "2021-10-19T18:56:39.184Z"
   },
   {
    "duration": 6150,
    "start_time": "2021-10-19T18:56:39.210Z"
   },
   {
    "duration": 15,
    "start_time": "2021-10-19T18:56:45.361Z"
   },
   {
    "duration": 11,
    "start_time": "2021-10-19T18:56:45.378Z"
   },
   {
    "duration": 8,
    "start_time": "2021-10-19T18:56:45.391Z"
   },
   {
    "duration": 11,
    "start_time": "2021-10-19T18:56:45.401Z"
   },
   {
    "duration": 15,
    "start_time": "2021-10-19T18:56:45.414Z"
   },
   {
    "duration": 2,
    "start_time": "2021-10-19T18:56:45.431Z"
   },
   {
    "duration": 142,
    "start_time": "2021-10-19T18:56:45.434Z"
   },
   {
    "duration": 11,
    "start_time": "2021-10-19T18:56:45.578Z"
   },
   {
    "duration": 13,
    "start_time": "2021-10-19T18:56:45.591Z"
   },
   {
    "duration": 15,
    "start_time": "2021-10-19T18:56:45.606Z"
   },
   {
    "duration": 7,
    "start_time": "2021-10-19T18:56:45.623Z"
   },
   {
    "duration": 11,
    "start_time": "2021-10-19T18:56:45.631Z"
   },
   {
    "duration": 39,
    "start_time": "2021-10-19T18:56:45.644Z"
   },
   {
    "duration": 5,
    "start_time": "2021-10-19T18:56:45.684Z"
   },
   {
    "duration": 13,
    "start_time": "2021-10-19T18:56:45.690Z"
   },
   {
    "duration": 11,
    "start_time": "2021-10-19T18:56:45.708Z"
   },
   {
    "duration": 10,
    "start_time": "2021-10-19T18:56:45.721Z"
   },
   {
    "duration": 14,
    "start_time": "2021-10-19T18:56:45.732Z"
   },
   {
    "duration": 31,
    "start_time": "2021-10-19T18:56:45.748Z"
   },
   {
    "duration": 7,
    "start_time": "2021-10-19T18:56:45.781Z"
   },
   {
    "duration": 11,
    "start_time": "2021-10-19T18:56:45.789Z"
   },
   {
    "duration": 8,
    "start_time": "2021-10-19T19:25:00.141Z"
   },
   {
    "duration": 8,
    "start_time": "2021-10-19T19:25:13.930Z"
   },
   {
    "duration": 394,
    "start_time": "2021-10-19T19:26:36.169Z"
   },
   {
    "duration": 2384,
    "start_time": "2021-10-19T19:33:55.228Z"
   },
   {
    "duration": 7,
    "start_time": "2021-10-19T19:34:03.980Z"
   },
   {
    "duration": 2477,
    "start_time": "2021-10-19T19:34:09.141Z"
   },
   {
    "duration": 4975,
    "start_time": "2021-10-19T19:34:17.398Z"
   },
   {
    "duration": 7,
    "start_time": "2021-10-19T19:34:26.626Z"
   },
   {
    "duration": 6,
    "start_time": "2021-10-19T19:40:55.679Z"
   },
   {
    "duration": 12,
    "start_time": "2021-10-19T19:43:55.127Z"
   },
   {
    "duration": 7,
    "start_time": "2021-10-19T19:44:00.093Z"
   },
   {
    "duration": 24012,
    "start_time": "2021-10-19T19:45:11.016Z"
   },
   {
    "duration": 7,
    "start_time": "2021-10-19T19:45:40.255Z"
   },
   {
    "duration": 787,
    "start_time": "2021-10-19T19:46:38.985Z"
   },
   {
    "duration": 13,
    "start_time": "2021-10-19T19:46:39.774Z"
   },
   {
    "duration": 16,
    "start_time": "2021-10-19T19:46:39.789Z"
   },
   {
    "duration": 7,
    "start_time": "2021-10-19T19:46:39.807Z"
   },
   {
    "duration": 8,
    "start_time": "2021-10-19T19:46:39.815Z"
   },
   {
    "duration": 6,
    "start_time": "2021-10-19T19:46:39.825Z"
   },
   {
    "duration": 6,
    "start_time": "2021-10-19T19:46:39.833Z"
   },
   {
    "duration": 40,
    "start_time": "2021-10-19T19:46:39.842Z"
   },
   {
    "duration": 9,
    "start_time": "2021-10-19T19:46:39.885Z"
   },
   {
    "duration": 12,
    "start_time": "2021-10-19T19:46:39.895Z"
   },
   {
    "duration": 7,
    "start_time": "2021-10-19T19:46:39.909Z"
   },
   {
    "duration": 8,
    "start_time": "2021-10-19T19:46:39.918Z"
   },
   {
    "duration": 10,
    "start_time": "2021-10-19T19:46:39.927Z"
   },
   {
    "duration": 5,
    "start_time": "2021-10-19T19:46:39.939Z"
   },
   {
    "duration": 37,
    "start_time": "2021-10-19T19:46:39.946Z"
   },
   {
    "duration": 15,
    "start_time": "2021-10-19T19:46:39.985Z"
   },
   {
    "duration": 15,
    "start_time": "2021-10-19T19:46:40.002Z"
   },
   {
    "duration": 15,
    "start_time": "2021-10-19T19:46:40.019Z"
   },
   {
    "duration": 11,
    "start_time": "2021-10-19T19:46:40.035Z"
   },
   {
    "duration": 37,
    "start_time": "2021-10-19T19:46:40.048Z"
   },
   {
    "duration": 11,
    "start_time": "2021-10-19T19:46:40.087Z"
   },
   {
    "duration": 27,
    "start_time": "2021-10-19T19:46:40.100Z"
   },
   {
    "duration": 58,
    "start_time": "2021-10-19T19:46:40.132Z"
   },
   {
    "duration": 32,
    "start_time": "2021-10-19T19:46:40.193Z"
   },
   {
    "duration": 5,
    "start_time": "2021-10-19T19:46:40.227Z"
   },
   {
    "duration": 11,
    "start_time": "2021-10-19T19:46:40.233Z"
   },
   {
    "duration": 7,
    "start_time": "2021-10-19T19:46:40.245Z"
   },
   {
    "duration": 37,
    "start_time": "2021-10-19T19:46:40.277Z"
   },
   {
    "duration": 8,
    "start_time": "2021-10-19T19:46:40.316Z"
   },
   {
    "duration": 9,
    "start_time": "2021-10-19T19:46:40.326Z"
   },
   {
    "duration": 8,
    "start_time": "2021-10-19T19:46:40.336Z"
   },
   {
    "duration": 3,
    "start_time": "2021-10-19T19:46:40.345Z"
   },
   {
    "duration": 35,
    "start_time": "2021-10-19T19:46:40.349Z"
   },
   {
    "duration": 6,
    "start_time": "2021-10-19T19:46:40.386Z"
   },
   {
    "duration": 16,
    "start_time": "2021-10-19T19:46:40.394Z"
   },
   {
    "duration": 5,
    "start_time": "2021-10-19T19:46:40.411Z"
   },
   {
    "duration": 11,
    "start_time": "2021-10-19T19:46:40.417Z"
   },
   {
    "duration": 19,
    "start_time": "2021-10-19T19:46:40.430Z"
   },
   {
    "duration": 12,
    "start_time": "2021-10-19T19:46:40.477Z"
   },
   {
    "duration": 9,
    "start_time": "2021-10-19T19:46:40.491Z"
   },
   {
    "duration": 6,
    "start_time": "2021-10-19T19:46:40.502Z"
   },
   {
    "duration": 11,
    "start_time": "2021-10-19T19:46:40.510Z"
   },
   {
    "duration": 6,
    "start_time": "2021-10-19T19:46:40.523Z"
   },
   {
    "duration": 2,
    "start_time": "2021-10-19T19:46:40.531Z"
   },
   {
    "duration": 43,
    "start_time": "2021-10-19T19:46:40.535Z"
   },
   {
    "duration": 5,
    "start_time": "2021-10-19T19:46:40.580Z"
   },
   {
    "duration": 12,
    "start_time": "2021-10-19T19:46:40.587Z"
   },
   {
    "duration": 8,
    "start_time": "2021-10-19T19:46:40.601Z"
   },
   {
    "duration": 5,
    "start_time": "2021-10-19T19:46:40.610Z"
   },
   {
    "duration": 10,
    "start_time": "2021-10-19T19:46:40.616Z"
   },
   {
    "duration": 7,
    "start_time": "2021-10-19T19:46:40.628Z"
   },
   {
    "duration": 6,
    "start_time": "2021-10-19T19:46:40.636Z"
   },
   {
    "duration": 39,
    "start_time": "2021-10-19T19:46:40.643Z"
   },
   {
    "duration": 13,
    "start_time": "2021-10-19T19:46:40.684Z"
   },
   {
    "duration": 87,
    "start_time": "2021-10-19T19:46:40.698Z"
   },
   {
    "duration": 5,
    "start_time": "2021-10-19T19:46:40.787Z"
   },
   {
    "duration": 14,
    "start_time": "2021-10-19T19:46:40.793Z"
   },
   {
    "duration": 5,
    "start_time": "2021-10-19T19:46:40.809Z"
   },
   {
    "duration": 12,
    "start_time": "2021-10-19T19:46:40.816Z"
   },
   {
    "duration": 11,
    "start_time": "2021-10-19T19:46:40.829Z"
   },
   {
    "duration": 4948,
    "start_time": "2021-10-19T19:46:40.841Z"
   },
   {
    "duration": 9,
    "start_time": "2021-10-19T19:46:45.791Z"
   },
   {
    "duration": 11,
    "start_time": "2021-10-19T19:46:45.802Z"
   },
   {
    "duration": 19,
    "start_time": "2021-10-19T19:46:45.815Z"
   },
   {
    "duration": 6490,
    "start_time": "2021-10-19T19:46:45.836Z"
   },
   {
    "duration": 8,
    "start_time": "2021-10-19T19:46:52.327Z"
   },
   {
    "duration": 15,
    "start_time": "2021-10-19T19:46:52.338Z"
   },
   {
    "duration": 23,
    "start_time": "2021-10-19T19:46:52.355Z"
   },
   {
    "duration": 22,
    "start_time": "2021-10-19T19:46:52.380Z"
   },
   {
    "duration": 17,
    "start_time": "2021-10-19T19:46:52.404Z"
   },
   {
    "duration": 2,
    "start_time": "2021-10-19T19:46:52.423Z"
   },
   {
    "duration": 130,
    "start_time": "2021-10-19T19:46:52.427Z"
   },
   {
    "duration": 9,
    "start_time": "2021-10-19T19:46:52.559Z"
   },
   {
    "duration": 14,
    "start_time": "2021-10-19T19:46:52.577Z"
   },
   {
    "duration": 16,
    "start_time": "2021-10-19T19:46:52.592Z"
   },
   {
    "duration": 13,
    "start_time": "2021-10-19T19:46:52.610Z"
   },
   {
    "duration": 11,
    "start_time": "2021-10-19T19:46:52.625Z"
   },
   {
    "duration": 10,
    "start_time": "2021-10-19T19:46:52.638Z"
   },
   {
    "duration": 30,
    "start_time": "2021-10-19T19:46:52.650Z"
   },
   {
    "duration": 18,
    "start_time": "2021-10-19T19:46:52.681Z"
   },
   {
    "duration": 14,
    "start_time": "2021-10-19T19:46:52.701Z"
   },
   {
    "duration": 15,
    "start_time": "2021-10-19T19:46:52.716Z"
   },
   {
    "duration": 15,
    "start_time": "2021-10-19T19:46:52.733Z"
   },
   {
    "duration": 10,
    "start_time": "2021-10-19T19:46:52.749Z"
   },
   {
    "duration": 17,
    "start_time": "2021-10-19T19:46:52.761Z"
   },
   {
    "duration": 13,
    "start_time": "2021-10-19T19:46:52.779Z"
   },
   {
    "duration": 24784,
    "start_time": "2021-10-19T19:46:52.793Z"
   },
   {
    "duration": 9,
    "start_time": "2021-10-19T19:47:17.579Z"
   },
   {
    "duration": 11,
    "start_time": "2021-10-19T19:47:17.590Z"
   },
   {
    "duration": 286,
    "start_time": "2021-10-20T07:11:25.454Z"
   },
   {
    "duration": 668,
    "start_time": "2021-10-20T07:11:35.410Z"
   },
   {
    "duration": 11,
    "start_time": "2021-10-20T07:11:36.080Z"
   },
   {
    "duration": 18,
    "start_time": "2021-10-20T07:11:36.093Z"
   },
   {
    "duration": 7,
    "start_time": "2021-10-20T07:11:36.113Z"
   },
   {
    "duration": 9,
    "start_time": "2021-10-20T07:11:36.122Z"
   },
   {
    "duration": 33,
    "start_time": "2021-10-20T07:11:36.133Z"
   },
   {
    "duration": 8,
    "start_time": "2021-10-20T07:11:36.168Z"
   },
   {
    "duration": 8,
    "start_time": "2021-10-20T07:11:36.178Z"
   },
   {
    "duration": 9,
    "start_time": "2021-10-20T07:11:36.188Z"
   },
   {
    "duration": 8,
    "start_time": "2021-10-20T07:11:36.199Z"
   },
   {
    "duration": 9,
    "start_time": "2021-10-20T07:11:36.209Z"
   },
   {
    "duration": 45,
    "start_time": "2021-10-20T07:11:36.219Z"
   },
   {
    "duration": 10,
    "start_time": "2021-10-20T07:11:36.266Z"
   },
   {
    "duration": 27,
    "start_time": "2021-10-20T07:11:36.277Z"
   },
   {
    "duration": 17,
    "start_time": "2021-10-20T07:11:36.306Z"
   },
   {
    "duration": 25,
    "start_time": "2021-10-20T07:11:36.325Z"
   },
   {
    "duration": 21,
    "start_time": "2021-10-20T07:11:36.351Z"
   },
   {
    "duration": 32,
    "start_time": "2021-10-20T07:11:36.373Z"
   },
   {
    "duration": 34,
    "start_time": "2021-10-20T07:11:36.407Z"
   },
   {
    "duration": 32,
    "start_time": "2021-10-20T07:11:36.443Z"
   },
   {
    "duration": 19,
    "start_time": "2021-10-20T07:11:36.477Z"
   },
   {
    "duration": 45,
    "start_time": "2021-10-20T07:11:36.498Z"
   },
   {
    "duration": 48,
    "start_time": "2021-10-20T07:11:36.547Z"
   },
   {
    "duration": 36,
    "start_time": "2021-10-20T07:11:36.598Z"
   },
   {
    "duration": 6,
    "start_time": "2021-10-20T07:11:36.636Z"
   },
   {
    "duration": 26,
    "start_time": "2021-10-20T07:11:36.644Z"
   },
   {
    "duration": 33,
    "start_time": "2021-10-20T07:11:36.672Z"
   },
   {
    "duration": 34,
    "start_time": "2021-10-20T07:11:36.707Z"
   },
   {
    "duration": 10,
    "start_time": "2021-10-20T07:11:36.742Z"
   },
   {
    "duration": 15,
    "start_time": "2021-10-20T07:11:36.754Z"
   },
   {
    "duration": 22,
    "start_time": "2021-10-20T07:11:36.771Z"
   },
   {
    "duration": 25,
    "start_time": "2021-10-20T07:11:36.795Z"
   },
   {
    "duration": 30,
    "start_time": "2021-10-20T07:11:36.822Z"
   },
   {
    "duration": 27,
    "start_time": "2021-10-20T07:11:36.854Z"
   },
   {
    "duration": 24,
    "start_time": "2021-10-20T07:11:36.883Z"
   },
   {
    "duration": 26,
    "start_time": "2021-10-20T07:11:36.909Z"
   },
   {
    "duration": 19,
    "start_time": "2021-10-20T07:11:36.937Z"
   },
   {
    "duration": 27,
    "start_time": "2021-10-20T07:11:36.958Z"
   },
   {
    "duration": 23,
    "start_time": "2021-10-20T07:11:36.987Z"
   },
   {
    "duration": 28,
    "start_time": "2021-10-20T07:11:37.012Z"
   },
   {
    "duration": 31,
    "start_time": "2021-10-20T07:11:37.042Z"
   },
   {
    "duration": 31,
    "start_time": "2021-10-20T07:11:37.075Z"
   },
   {
    "duration": 33,
    "start_time": "2021-10-20T07:11:37.108Z"
   },
   {
    "duration": 24,
    "start_time": "2021-10-20T07:11:37.143Z"
   },
   {
    "duration": 44,
    "start_time": "2021-10-20T07:11:37.169Z"
   },
   {
    "duration": 20,
    "start_time": "2021-10-20T07:11:37.215Z"
   },
   {
    "duration": 28,
    "start_time": "2021-10-20T07:11:37.237Z"
   },
   {
    "duration": 15,
    "start_time": "2021-10-20T07:11:37.266Z"
   },
   {
    "duration": 22,
    "start_time": "2021-10-20T07:11:37.283Z"
   },
   {
    "duration": 18,
    "start_time": "2021-10-20T07:11:37.307Z"
   },
   {
    "duration": 19,
    "start_time": "2021-10-20T07:11:37.327Z"
   },
   {
    "duration": 34,
    "start_time": "2021-10-20T07:11:37.348Z"
   },
   {
    "duration": 17,
    "start_time": "2021-10-20T07:11:37.384Z"
   },
   {
    "duration": 28,
    "start_time": "2021-10-20T07:11:37.403Z"
   },
   {
    "duration": 92,
    "start_time": "2021-10-20T07:11:37.433Z"
   },
   {
    "duration": 5,
    "start_time": "2021-10-20T07:11:37.528Z"
   },
   {
    "duration": 29,
    "start_time": "2021-10-20T07:11:37.534Z"
   },
   {
    "duration": 18,
    "start_time": "2021-10-20T07:11:37.565Z"
   },
   {
    "duration": 25,
    "start_time": "2021-10-20T07:11:37.584Z"
   },
   {
    "duration": 22,
    "start_time": "2021-10-20T07:11:37.611Z"
   },
   {
    "duration": 5037,
    "start_time": "2021-10-20T07:11:37.634Z"
   },
   {
    "duration": 9,
    "start_time": "2021-10-20T07:11:42.673Z"
   },
   {
    "duration": 15,
    "start_time": "2021-10-20T07:11:42.684Z"
   },
   {
    "duration": 23,
    "start_time": "2021-10-20T07:11:42.701Z"
   },
   {
    "duration": 6599,
    "start_time": "2021-10-20T07:11:42.725Z"
   },
   {
    "duration": 11,
    "start_time": "2021-10-20T07:11:49.325Z"
   },
   {
    "duration": 31,
    "start_time": "2021-10-20T07:11:49.337Z"
   },
   {
    "duration": 10,
    "start_time": "2021-10-20T07:11:49.373Z"
   },
   {
    "duration": 16,
    "start_time": "2021-10-20T07:11:49.385Z"
   },
   {
    "duration": 21,
    "start_time": "2021-10-20T07:11:49.403Z"
   },
   {
    "duration": 2,
    "start_time": "2021-10-20T07:11:49.426Z"
   },
   {
    "duration": 149,
    "start_time": "2021-10-20T07:11:49.430Z"
   },
   {
    "duration": 11,
    "start_time": "2021-10-20T07:11:49.581Z"
   },
   {
    "duration": 16,
    "start_time": "2021-10-20T07:11:49.594Z"
   },
   {
    "duration": 20,
    "start_time": "2021-10-20T07:11:49.612Z"
   },
   {
    "duration": 8,
    "start_time": "2021-10-20T07:11:49.634Z"
   },
   {
    "duration": 29,
    "start_time": "2021-10-20T07:11:49.644Z"
   },
   {
    "duration": 15,
    "start_time": "2021-10-20T07:11:49.674Z"
   },
   {
    "duration": 5,
    "start_time": "2021-10-20T07:11:49.691Z"
   },
   {
    "duration": 14,
    "start_time": "2021-10-20T07:11:49.698Z"
   },
   {
    "duration": 11,
    "start_time": "2021-10-20T07:11:49.713Z"
   },
   {
    "duration": 40,
    "start_time": "2021-10-20T07:11:49.726Z"
   },
   {
    "duration": 10,
    "start_time": "2021-10-20T07:11:49.768Z"
   },
   {
    "duration": 13,
    "start_time": "2021-10-20T07:11:49.780Z"
   },
   {
    "duration": 15,
    "start_time": "2021-10-20T07:11:49.794Z"
   },
   {
    "duration": 21,
    "start_time": "2021-10-20T07:11:49.810Z"
   },
   {
    "duration": 24322,
    "start_time": "2021-10-20T07:11:49.834Z"
   },
   {
    "duration": 9,
    "start_time": "2021-10-20T07:12:14.157Z"
   },
   {
    "duration": 23998,
    "start_time": "2021-10-20T07:12:47.756Z"
   },
   {
    "duration": 8,
    "start_time": "2021-10-20T07:13:16.543Z"
   },
   {
    "duration": 695,
    "start_time": "2021-10-20T07:16:39.248Z"
   },
   {
    "duration": 11,
    "start_time": "2021-10-20T07:16:39.945Z"
   },
   {
    "duration": 17,
    "start_time": "2021-10-20T07:16:39.958Z"
   },
   {
    "duration": 8,
    "start_time": "2021-10-20T07:16:39.977Z"
   },
   {
    "duration": 13,
    "start_time": "2021-10-20T07:16:39.986Z"
   },
   {
    "duration": 24,
    "start_time": "2021-10-20T07:16:40.001Z"
   },
   {
    "duration": 13,
    "start_time": "2021-10-20T07:16:40.027Z"
   },
   {
    "duration": 16,
    "start_time": "2021-10-20T07:16:40.043Z"
   },
   {
    "duration": 15,
    "start_time": "2021-10-20T07:16:40.061Z"
   },
   {
    "duration": 24,
    "start_time": "2021-10-20T07:16:40.078Z"
   },
   {
    "duration": 10,
    "start_time": "2021-10-20T07:16:40.104Z"
   },
   {
    "duration": 12,
    "start_time": "2021-10-20T07:16:40.115Z"
   },
   {
    "duration": 14,
    "start_time": "2021-10-20T07:16:40.129Z"
   },
   {
    "duration": 12,
    "start_time": "2021-10-20T07:16:40.145Z"
   },
   {
    "duration": 13,
    "start_time": "2021-10-20T07:16:40.158Z"
   },
   {
    "duration": 14,
    "start_time": "2021-10-20T07:16:40.173Z"
   },
   {
    "duration": 13,
    "start_time": "2021-10-20T07:16:40.189Z"
   },
   {
    "duration": 16,
    "start_time": "2021-10-20T07:16:40.203Z"
   },
   {
    "duration": 13,
    "start_time": "2021-10-20T07:16:40.220Z"
   },
   {
    "duration": 39,
    "start_time": "2021-10-20T07:16:40.234Z"
   },
   {
    "duration": 9,
    "start_time": "2021-10-20T07:16:40.275Z"
   },
   {
    "duration": 24,
    "start_time": "2021-10-20T07:16:40.285Z"
   },
   {
    "duration": 60,
    "start_time": "2021-10-20T07:16:40.313Z"
   },
   {
    "duration": 34,
    "start_time": "2021-10-20T07:16:40.376Z"
   },
   {
    "duration": 6,
    "start_time": "2021-10-20T07:16:40.411Z"
   },
   {
    "duration": 12,
    "start_time": "2021-10-20T07:16:40.419Z"
   },
   {
    "duration": 32,
    "start_time": "2021-10-20T07:16:40.433Z"
   },
   {
    "duration": 33,
    "start_time": "2021-10-20T07:16:40.466Z"
   },
   {
    "duration": 8,
    "start_time": "2021-10-20T07:16:40.501Z"
   },
   {
    "duration": 9,
    "start_time": "2021-10-20T07:16:40.511Z"
   },
   {
    "duration": 7,
    "start_time": "2021-10-20T07:16:40.522Z"
   },
   {
    "duration": 2,
    "start_time": "2021-10-20T07:16:40.531Z"
   },
   {
    "duration": 9,
    "start_time": "2021-10-20T07:16:40.563Z"
   },
   {
    "duration": 5,
    "start_time": "2021-10-20T07:16:40.573Z"
   },
   {
    "duration": 18,
    "start_time": "2021-10-20T07:16:40.580Z"
   },
   {
    "duration": 7,
    "start_time": "2021-10-20T07:16:40.599Z"
   },
   {
    "duration": 13,
    "start_time": "2021-10-20T07:16:40.607Z"
   },
   {
    "duration": 48,
    "start_time": "2021-10-20T07:16:40.622Z"
   },
   {
    "duration": 11,
    "start_time": "2021-10-20T07:16:40.673Z"
   },
   {
    "duration": 9,
    "start_time": "2021-10-20T07:16:40.686Z"
   },
   {
    "duration": 10,
    "start_time": "2021-10-20T07:16:40.697Z"
   },
   {
    "duration": 15,
    "start_time": "2021-10-20T07:16:40.708Z"
   },
   {
    "duration": 8,
    "start_time": "2021-10-20T07:16:40.725Z"
   },
   {
    "duration": 30,
    "start_time": "2021-10-20T07:16:40.734Z"
   },
   {
    "duration": 17,
    "start_time": "2021-10-20T07:16:40.766Z"
   },
   {
    "duration": 8,
    "start_time": "2021-10-20T07:16:40.785Z"
   },
   {
    "duration": 14,
    "start_time": "2021-10-20T07:16:40.795Z"
   },
   {
    "duration": 32,
    "start_time": "2021-10-20T07:16:40.811Z"
   },
   {
    "duration": 31,
    "start_time": "2021-10-20T07:16:40.845Z"
   },
   {
    "duration": 31,
    "start_time": "2021-10-20T07:16:40.878Z"
   },
   {
    "duration": 30,
    "start_time": "2021-10-20T07:16:40.911Z"
   },
   {
    "duration": 25,
    "start_time": "2021-10-20T07:16:40.943Z"
   },
   {
    "duration": 27,
    "start_time": "2021-10-20T07:16:40.970Z"
   },
   {
    "duration": 43,
    "start_time": "2021-10-20T07:16:40.999Z"
   },
   {
    "duration": 78,
    "start_time": "2021-10-20T07:16:41.043Z"
   },
   {
    "duration": 4,
    "start_time": "2021-10-20T07:16:41.123Z"
   },
   {
    "duration": 32,
    "start_time": "2021-10-20T07:16:41.129Z"
   },
   {
    "duration": 12,
    "start_time": "2021-10-20T07:16:41.162Z"
   },
   {
    "duration": 27,
    "start_time": "2021-10-20T07:16:41.176Z"
   },
   {
    "duration": 16,
    "start_time": "2021-10-20T07:16:41.205Z"
   },
   {
    "duration": 4817,
    "start_time": "2021-10-20T07:16:41.222Z"
   },
   {
    "duration": 8,
    "start_time": "2021-10-20T07:16:46.041Z"
   },
   {
    "duration": 22,
    "start_time": "2021-10-20T07:16:46.051Z"
   },
   {
    "duration": 16,
    "start_time": "2021-10-20T07:16:46.075Z"
   },
   {
    "duration": 6279,
    "start_time": "2021-10-20T07:16:46.092Z"
   },
   {
    "duration": 9,
    "start_time": "2021-10-20T07:16:52.373Z"
   },
   {
    "duration": 21,
    "start_time": "2021-10-20T07:16:52.383Z"
   },
   {
    "duration": 28,
    "start_time": "2021-10-20T07:16:52.409Z"
   },
   {
    "duration": 27,
    "start_time": "2021-10-20T07:16:52.439Z"
   },
   {
    "duration": 39,
    "start_time": "2021-10-20T07:16:52.468Z"
   },
   {
    "duration": 11,
    "start_time": "2021-10-20T07:16:52.509Z"
   },
   {
    "duration": 141,
    "start_time": "2021-10-20T07:16:52.522Z"
   },
   {
    "duration": 9,
    "start_time": "2021-10-20T07:16:52.665Z"
   },
   {
    "duration": 41,
    "start_time": "2021-10-20T07:16:52.675Z"
   },
   {
    "duration": 31,
    "start_time": "2021-10-20T07:16:52.717Z"
   },
   {
    "duration": 12,
    "start_time": "2021-10-20T07:16:52.749Z"
   },
   {
    "duration": 34,
    "start_time": "2021-10-20T07:16:52.763Z"
   },
   {
    "duration": 17,
    "start_time": "2021-10-20T07:16:52.799Z"
   },
   {
    "duration": 9,
    "start_time": "2021-10-20T07:16:52.818Z"
   },
   {
    "duration": 26,
    "start_time": "2021-10-20T07:16:52.828Z"
   },
   {
    "duration": 19,
    "start_time": "2021-10-20T07:16:52.856Z"
   },
   {
    "duration": 14,
    "start_time": "2021-10-20T07:16:52.877Z"
   },
   {
    "duration": 12,
    "start_time": "2021-10-20T07:16:52.893Z"
   },
   {
    "duration": 10,
    "start_time": "2021-10-20T07:16:52.907Z"
   },
   {
    "duration": 8,
    "start_time": "2021-10-20T07:16:52.918Z"
   },
   {
    "duration": 11,
    "start_time": "2021-10-20T07:16:52.927Z"
   },
   {
    "duration": 330,
    "start_time": "2021-10-20T07:16:52.940Z"
   },
   {
    "duration": -154,
    "start_time": "2021-10-20T07:16:53.427Z"
   },
   {
    "duration": 11978,
    "start_time": "2021-10-20T07:18:18.438Z"
   },
   {
    "duration": 8,
    "start_time": "2021-10-20T07:18:34.039Z"
   },
   {
    "duration": 5,
    "start_time": "2021-10-20T07:22:07.938Z"
   },
   {
    "duration": 9,
    "start_time": "2021-10-20T07:22:26.410Z"
   },
   {
    "duration": 9,
    "start_time": "2021-10-20T07:22:38.789Z"
   },
   {
    "duration": 22,
    "start_time": "2021-10-20T07:23:00.002Z"
   },
   {
    "duration": 280,
    "start_time": "2021-10-20T07:26:44.129Z"
   },
   {
    "duration": 17,
    "start_time": "2021-10-20T07:26:48.809Z"
   },
   {
    "duration": 96,
    "start_time": "2021-10-20T19:09:39.126Z"
   },
   {
    "duration": 381,
    "start_time": "2021-10-20T19:09:48.512Z"
   },
   {
    "duration": 639,
    "start_time": "2021-10-20T19:09:56.200Z"
   },
   {
    "duration": 11,
    "start_time": "2021-10-20T19:09:56.841Z"
   },
   {
    "duration": 30,
    "start_time": "2021-10-20T19:09:56.853Z"
   },
   {
    "duration": 9,
    "start_time": "2021-10-20T19:09:56.885Z"
   },
   {
    "duration": 19,
    "start_time": "2021-10-20T19:09:56.896Z"
   },
   {
    "duration": 11,
    "start_time": "2021-10-20T19:09:56.917Z"
   },
   {
    "duration": 15,
    "start_time": "2021-10-20T19:09:56.929Z"
   },
   {
    "duration": 10,
    "start_time": "2021-10-20T19:09:56.946Z"
   },
   {
    "duration": 11,
    "start_time": "2021-10-20T19:09:56.959Z"
   },
   {
    "duration": 12,
    "start_time": "2021-10-20T19:09:56.972Z"
   },
   {
    "duration": 11,
    "start_time": "2021-10-20T19:09:56.986Z"
   },
   {
    "duration": 11,
    "start_time": "2021-10-20T19:09:56.998Z"
   },
   {
    "duration": 10,
    "start_time": "2021-10-20T19:09:57.011Z"
   },
   {
    "duration": 22,
    "start_time": "2021-10-20T19:09:57.023Z"
   },
   {
    "duration": 7,
    "start_time": "2021-10-20T19:09:57.047Z"
   },
   {
    "duration": 21,
    "start_time": "2021-10-20T19:09:57.055Z"
   },
   {
    "duration": 18,
    "start_time": "2021-10-20T19:09:57.078Z"
   },
   {
    "duration": 15,
    "start_time": "2021-10-20T19:09:57.097Z"
   },
   {
    "duration": 32,
    "start_time": "2021-10-20T19:09:57.113Z"
   },
   {
    "duration": 24,
    "start_time": "2021-10-20T19:09:57.147Z"
   },
   {
    "duration": 14,
    "start_time": "2021-10-20T19:09:57.173Z"
   },
   {
    "duration": 28,
    "start_time": "2021-10-20T19:09:57.188Z"
   },
   {
    "duration": 43,
    "start_time": "2021-10-20T19:09:57.220Z"
   },
   {
    "duration": 34,
    "start_time": "2021-10-20T19:09:57.266Z"
   },
   {
    "duration": 7,
    "start_time": "2021-10-20T19:09:57.303Z"
   },
   {
    "duration": 34,
    "start_time": "2021-10-20T19:09:57.311Z"
   },
   {
    "duration": 8,
    "start_time": "2021-10-20T19:09:57.347Z"
   },
   {
    "duration": 54,
    "start_time": "2021-10-20T19:09:57.357Z"
   },
   {
    "duration": 8,
    "start_time": "2021-10-20T19:09:57.413Z"
   },
   {
    "duration": 17,
    "start_time": "2021-10-20T19:09:57.422Z"
   },
   {
    "duration": 42,
    "start_time": "2021-10-20T19:09:57.441Z"
   },
   {
    "duration": 35,
    "start_time": "2021-10-20T19:09:57.484Z"
   },
   {
    "duration": 29,
    "start_time": "2021-10-20T19:09:57.520Z"
   },
   {
    "duration": 6,
    "start_time": "2021-10-20T19:09:57.550Z"
   },
   {
    "duration": 19,
    "start_time": "2021-10-20T19:09:57.557Z"
   },
   {
    "duration": 9,
    "start_time": "2021-10-20T19:09:57.578Z"
   },
   {
    "duration": 16,
    "start_time": "2021-10-20T19:09:57.589Z"
   },
   {
    "duration": 20,
    "start_time": "2021-10-20T19:09:57.607Z"
   },
   {
    "duration": 23,
    "start_time": "2021-10-20T19:09:57.629Z"
   },
   {
    "duration": 13,
    "start_time": "2021-10-20T19:09:57.654Z"
   },
   {
    "duration": 9,
    "start_time": "2021-10-20T19:09:57.669Z"
   },
   {
    "duration": 10,
    "start_time": "2021-10-20T19:09:57.679Z"
   },
   {
    "duration": 7,
    "start_time": "2021-10-20T19:09:57.691Z"
   },
   {
    "duration": 6,
    "start_time": "2021-10-20T19:09:57.699Z"
   },
   {
    "duration": 20,
    "start_time": "2021-10-20T19:09:57.706Z"
   },
   {
    "duration": 21,
    "start_time": "2021-10-20T19:09:57.728Z"
   },
   {
    "duration": 30,
    "start_time": "2021-10-20T19:09:57.751Z"
   },
   {
    "duration": 14,
    "start_time": "2021-10-20T19:09:57.782Z"
   },
   {
    "duration": 33,
    "start_time": "2021-10-20T19:09:57.797Z"
   },
   {
    "duration": 23,
    "start_time": "2021-10-20T19:09:57.832Z"
   },
   {
    "duration": 12,
    "start_time": "2021-10-20T19:09:57.857Z"
   },
   {
    "duration": 29,
    "start_time": "2021-10-20T19:09:57.871Z"
   },
   {
    "duration": 37,
    "start_time": "2021-10-20T19:09:57.901Z"
   },
   {
    "duration": 31,
    "start_time": "2021-10-20T19:09:57.940Z"
   },
   {
    "duration": 76,
    "start_time": "2021-10-20T19:09:57.972Z"
   },
   {
    "duration": 4,
    "start_time": "2021-10-20T19:09:58.050Z"
   },
   {
    "duration": 18,
    "start_time": "2021-10-20T19:09:58.056Z"
   },
   {
    "duration": 14,
    "start_time": "2021-10-20T19:09:58.076Z"
   },
   {
    "duration": 29,
    "start_time": "2021-10-20T19:09:58.092Z"
   },
   {
    "duration": 31,
    "start_time": "2021-10-20T19:09:58.123Z"
   },
   {
    "duration": 4755,
    "start_time": "2021-10-20T19:09:58.156Z"
   },
   {
    "duration": 9,
    "start_time": "2021-10-20T19:10:02.912Z"
   },
   {
    "duration": 23,
    "start_time": "2021-10-20T19:10:02.922Z"
   },
   {
    "duration": 18,
    "start_time": "2021-10-20T19:10:02.946Z"
   },
   {
    "duration": 5875,
    "start_time": "2021-10-20T19:10:02.965Z"
   },
   {
    "duration": 8,
    "start_time": "2021-10-20T19:10:08.842Z"
   },
   {
    "duration": 28,
    "start_time": "2021-10-20T19:10:08.852Z"
   },
   {
    "duration": 6,
    "start_time": "2021-10-20T19:10:08.885Z"
   },
   {
    "duration": 13,
    "start_time": "2021-10-20T19:10:08.894Z"
   },
   {
    "duration": 18,
    "start_time": "2021-10-20T19:10:08.909Z"
   },
   {
    "duration": 2,
    "start_time": "2021-10-20T19:10:08.929Z"
   },
   {
    "duration": 117,
    "start_time": "2021-10-20T19:10:08.945Z"
   },
   {
    "duration": 10,
    "start_time": "2021-10-20T19:10:09.064Z"
   },
   {
    "duration": 12,
    "start_time": "2021-10-20T19:10:09.075Z"
   },
   {
    "duration": 14,
    "start_time": "2021-10-20T19:10:09.089Z"
   },
   {
    "duration": 10,
    "start_time": "2021-10-20T19:10:09.105Z"
   },
   {
    "duration": 33,
    "start_time": "2021-10-20T19:10:09.117Z"
   },
   {
    "duration": 10,
    "start_time": "2021-10-20T19:10:09.152Z"
   },
   {
    "duration": 10,
    "start_time": "2021-10-20T19:10:09.163Z"
   },
   {
    "duration": 24,
    "start_time": "2021-10-20T19:10:09.175Z"
   },
   {
    "duration": 11,
    "start_time": "2021-10-20T19:10:09.200Z"
   },
   {
    "duration": 10,
    "start_time": "2021-10-20T19:10:09.213Z"
   },
   {
    "duration": 24,
    "start_time": "2021-10-20T19:10:09.224Z"
   },
   {
    "duration": 13,
    "start_time": "2021-10-20T19:10:09.250Z"
   },
   {
    "duration": 12,
    "start_time": "2021-10-20T19:10:09.264Z"
   },
   {
    "duration": 17,
    "start_time": "2021-10-20T19:10:09.277Z"
   },
   {
    "duration": 11018,
    "start_time": "2021-10-20T19:10:09.296Z"
   },
   {
    "duration": 6,
    "start_time": "2021-10-20T19:10:20.316Z"
   },
   {
    "duration": 22,
    "start_time": "2021-10-20T19:10:20.324Z"
   },
   {
    "duration": 17,
    "start_time": "2021-10-20T19:13:01.341Z"
   },
   {
    "duration": 16,
    "start_time": "2021-10-20T19:13:11.061Z"
   },
   {
    "duration": 12,
    "start_time": "2021-10-20T19:14:17.269Z"
   },
   {
    "duration": 15,
    "start_time": "2021-10-20T19:15:57.776Z"
   },
   {
    "duration": 12,
    "start_time": "2021-10-20T19:16:06.229Z"
   },
   {
    "duration": 14,
    "start_time": "2021-10-20T19:16:30.889Z"
   },
   {
    "duration": 7,
    "start_time": "2021-10-20T19:17:22.541Z"
   },
   {
    "duration": 7,
    "start_time": "2021-10-20T19:18:22.739Z"
   },
   {
    "duration": 8,
    "start_time": "2021-10-20T19:18:51.739Z"
   },
   {
    "duration": 7,
    "start_time": "2021-10-20T19:18:58.856Z"
   },
   {
    "duration": 7,
    "start_time": "2021-10-20T19:19:32.691Z"
   },
   {
    "duration": 7,
    "start_time": "2021-10-20T19:19:40.325Z"
   },
   {
    "duration": 898,
    "start_time": "2021-10-21T07:36:28.624Z"
   },
   {
    "duration": 15,
    "start_time": "2021-10-21T07:36:29.525Z"
   },
   {
    "duration": 25,
    "start_time": "2021-10-21T07:36:29.543Z"
   },
   {
    "duration": 31,
    "start_time": "2021-10-21T07:36:29.570Z"
   },
   {
    "duration": 7,
    "start_time": "2021-10-21T07:36:29.604Z"
   },
   {
    "duration": 9,
    "start_time": "2021-10-21T07:36:29.613Z"
   },
   {
    "duration": 10,
    "start_time": "2021-10-21T07:36:29.624Z"
   },
   {
    "duration": 8,
    "start_time": "2021-10-21T07:36:29.637Z"
   },
   {
    "duration": 54,
    "start_time": "2021-10-21T07:36:29.649Z"
   },
   {
    "duration": 16,
    "start_time": "2021-10-21T07:36:29.706Z"
   },
   {
    "duration": 11,
    "start_time": "2021-10-21T07:36:29.724Z"
   },
   {
    "duration": 9,
    "start_time": "2021-10-21T07:36:29.737Z"
   },
   {
    "duration": 12,
    "start_time": "2021-10-21T07:36:29.748Z"
   },
   {
    "duration": 41,
    "start_time": "2021-10-21T07:36:29.762Z"
   },
   {
    "duration": 11,
    "start_time": "2021-10-21T07:36:29.805Z"
   },
   {
    "duration": 16,
    "start_time": "2021-10-21T07:36:29.818Z"
   },
   {
    "duration": 17,
    "start_time": "2021-10-21T07:36:29.836Z"
   },
   {
    "duration": 63,
    "start_time": "2021-10-21T07:36:29.855Z"
   },
   {
    "duration": 12,
    "start_time": "2021-10-21T07:36:29.921Z"
   },
   {
    "duration": 10,
    "start_time": "2021-10-21T07:36:29.935Z"
   },
   {
    "duration": 12,
    "start_time": "2021-10-21T07:36:29.947Z"
   },
   {
    "duration": 74,
    "start_time": "2021-10-21T07:36:29.961Z"
   },
   {
    "duration": 72,
    "start_time": "2021-10-21T07:36:30.037Z"
   },
   {
    "duration": 55,
    "start_time": "2021-10-21T07:36:30.111Z"
   },
   {
    "duration": 33,
    "start_time": "2021-10-21T07:36:30.169Z"
   },
   {
    "duration": 29,
    "start_time": "2021-10-21T07:36:30.204Z"
   },
   {
    "duration": 11,
    "start_time": "2021-10-21T07:36:30.240Z"
   },
   {
    "duration": 92,
    "start_time": "2021-10-21T07:36:30.255Z"
   },
   {
    "duration": 11,
    "start_time": "2021-10-21T07:36:30.349Z"
   },
   {
    "duration": 22,
    "start_time": "2021-10-21T07:36:30.363Z"
   },
   {
    "duration": 23,
    "start_time": "2021-10-21T07:36:30.387Z"
   },
   {
    "duration": 18,
    "start_time": "2021-10-21T07:36:30.412Z"
   },
   {
    "duration": 21,
    "start_time": "2021-10-21T07:36:30.433Z"
   },
   {
    "duration": 20,
    "start_time": "2021-10-21T07:36:30.456Z"
   },
   {
    "duration": 50,
    "start_time": "2021-10-21T07:36:30.478Z"
   },
   {
    "duration": 23,
    "start_time": "2021-10-21T07:36:30.530Z"
   },
   {
    "duration": 34,
    "start_time": "2021-10-21T07:36:30.555Z"
   },
   {
    "duration": 46,
    "start_time": "2021-10-21T07:36:30.592Z"
   },
   {
    "duration": 12,
    "start_time": "2021-10-21T07:36:30.640Z"
   },
   {
    "duration": 26,
    "start_time": "2021-10-21T07:36:30.654Z"
   },
   {
    "duration": 27,
    "start_time": "2021-10-21T07:36:30.682Z"
   },
   {
    "duration": 22,
    "start_time": "2021-10-21T07:36:30.711Z"
   },
   {
    "duration": 18,
    "start_time": "2021-10-21T07:36:30.735Z"
   },
   {
    "duration": 14,
    "start_time": "2021-10-21T07:36:30.755Z"
   },
   {
    "duration": 43,
    "start_time": "2021-10-21T07:36:30.771Z"
   },
   {
    "duration": 18,
    "start_time": "2021-10-21T07:36:30.817Z"
   },
   {
    "duration": 17,
    "start_time": "2021-10-21T07:36:30.838Z"
   },
   {
    "duration": 35,
    "start_time": "2021-10-21T07:36:30.857Z"
   },
   {
    "duration": 19,
    "start_time": "2021-10-21T07:36:30.895Z"
   },
   {
    "duration": 18,
    "start_time": "2021-10-21T07:36:30.917Z"
   },
   {
    "duration": 16,
    "start_time": "2021-10-21T07:36:30.937Z"
   },
   {
    "duration": 25,
    "start_time": "2021-10-21T07:36:30.955Z"
   },
   {
    "duration": 18,
    "start_time": "2021-10-21T07:36:30.983Z"
   },
   {
    "duration": 13,
    "start_time": "2021-10-21T07:36:31.004Z"
   },
   {
    "duration": 124,
    "start_time": "2021-10-21T07:36:31.020Z"
   },
   {
    "duration": 6,
    "start_time": "2021-10-21T07:36:31.146Z"
   },
   {
    "duration": 30,
    "start_time": "2021-10-21T07:36:31.155Z"
   },
   {
    "duration": 17,
    "start_time": "2021-10-21T07:36:31.188Z"
   },
   {
    "duration": 36,
    "start_time": "2021-10-21T07:36:31.207Z"
   },
   {
    "duration": 19,
    "start_time": "2021-10-21T07:36:31.246Z"
   },
   {
    "duration": 7384,
    "start_time": "2021-10-21T07:36:31.267Z"
   },
   {
    "duration": 11,
    "start_time": "2021-10-21T07:36:38.654Z"
   },
   {
    "duration": 40,
    "start_time": "2021-10-21T07:36:38.667Z"
   },
   {
    "duration": 26,
    "start_time": "2021-10-21T07:36:38.709Z"
   },
   {
    "duration": 9737,
    "start_time": "2021-10-21T07:36:38.737Z"
   },
   {
    "duration": 28,
    "start_time": "2021-10-21T07:36:48.476Z"
   },
   {
    "duration": 19,
    "start_time": "2021-10-21T07:36:48.507Z"
   },
   {
    "duration": 13,
    "start_time": "2021-10-21T07:36:48.529Z"
   },
   {
    "duration": 57,
    "start_time": "2021-10-21T07:36:48.545Z"
   },
   {
    "duration": 25,
    "start_time": "2021-10-21T07:36:48.605Z"
   },
   {
    "duration": 3,
    "start_time": "2021-10-21T07:36:48.633Z"
   },
   {
    "duration": 197,
    "start_time": "2021-10-21T07:36:48.639Z"
   },
   {
    "duration": 12,
    "start_time": "2021-10-21T07:36:48.838Z"
   },
   {
    "duration": 17,
    "start_time": "2021-10-21T07:36:48.852Z"
   },
   {
    "duration": 46,
    "start_time": "2021-10-21T07:36:48.872Z"
   },
   {
    "duration": 8,
    "start_time": "2021-10-21T07:36:48.921Z"
   },
   {
    "duration": 15,
    "start_time": "2021-10-21T07:36:48.931Z"
   },
   {
    "duration": 14,
    "start_time": "2021-10-21T07:36:48.948Z"
   },
   {
    "duration": 39,
    "start_time": "2021-10-21T07:36:48.964Z"
   },
   {
    "duration": 19,
    "start_time": "2021-10-21T07:36:49.006Z"
   },
   {
    "duration": 18,
    "start_time": "2021-10-21T07:36:49.034Z"
   },
   {
    "duration": 14,
    "start_time": "2021-10-21T07:36:49.056Z"
   },
   {
    "duration": 39,
    "start_time": "2021-10-21T07:36:49.073Z"
   },
   {
    "duration": 23,
    "start_time": "2021-10-21T07:36:49.114Z"
   },
   {
    "duration": 18,
    "start_time": "2021-10-21T07:36:49.140Z"
   },
   {
    "duration": 16,
    "start_time": "2021-10-21T07:36:49.161Z"
   },
   {
    "duration": 19625,
    "start_time": "2021-10-21T07:36:49.180Z"
   },
   {
    "duration": 12,
    "start_time": "2021-10-21T07:37:08.807Z"
   },
   {
    "duration": 13,
    "start_time": "2021-10-21T07:37:08.822Z"
   },
   {
    "duration": 66,
    "start_time": "2021-10-21T07:37:08.838Z"
   },
   {
    "duration": 21,
    "start_time": "2021-10-21T07:37:08.906Z"
   },
   {
    "duration": 12,
    "start_time": "2021-10-21T07:37:08.930Z"
   },
   {
    "duration": 63,
    "start_time": "2021-10-21T07:37:08.945Z"
   },
   {
    "duration": 27,
    "start_time": "2021-10-21T07:37:09.011Z"
   },
   {
    "duration": 12,
    "start_time": "2021-10-21T07:37:09.041Z"
   },
   {
    "duration": 12,
    "start_time": "2021-10-21T08:24:56.300Z"
   },
   {
    "duration": 4,
    "start_time": "2021-10-21T08:25:09.369Z"
   },
   {
    "duration": 10,
    "start_time": "2021-10-21T08:25:24.859Z"
   },
   {
    "duration": 9,
    "start_time": "2021-10-21T08:25:57.672Z"
   },
   {
    "duration": 12,
    "start_time": "2021-10-21T08:29:42.298Z"
   },
   {
    "duration": 10,
    "start_time": "2021-10-21T08:30:02.532Z"
   },
   {
    "duration": 8,
    "start_time": "2021-10-21T08:30:17.480Z"
   },
   {
    "duration": 11,
    "start_time": "2021-10-21T08:33:00.132Z"
   },
   {
    "duration": 938,
    "start_time": "2021-10-21T11:48:00.005Z"
   },
   {
    "duration": 16,
    "start_time": "2021-10-21T11:48:00.946Z"
   },
   {
    "duration": 25,
    "start_time": "2021-10-21T11:48:00.983Z"
   },
   {
    "duration": 11,
    "start_time": "2021-10-21T11:48:01.011Z"
   },
   {
    "duration": 25,
    "start_time": "2021-10-21T11:48:01.024Z"
   },
   {
    "duration": 32,
    "start_time": "2021-10-21T11:48:01.051Z"
   },
   {
    "duration": 15,
    "start_time": "2021-10-21T11:48:01.086Z"
   },
   {
    "duration": 32,
    "start_time": "2021-10-21T11:48:01.105Z"
   },
   {
    "duration": 30,
    "start_time": "2021-10-21T11:48:01.139Z"
   },
   {
    "duration": 25,
    "start_time": "2021-10-21T11:48:01.172Z"
   },
   {
    "duration": 13,
    "start_time": "2021-10-21T11:48:01.200Z"
   },
   {
    "duration": 16,
    "start_time": "2021-10-21T11:48:01.216Z"
   },
   {
    "duration": 16,
    "start_time": "2021-10-21T11:48:01.234Z"
   },
   {
    "duration": 23,
    "start_time": "2021-10-21T11:48:01.252Z"
   },
   {
    "duration": 31,
    "start_time": "2021-10-21T11:48:01.278Z"
   },
   {
    "duration": 25,
    "start_time": "2021-10-21T11:48:01.311Z"
   },
   {
    "duration": 31,
    "start_time": "2021-10-21T11:48:01.338Z"
   },
   {
    "duration": 30,
    "start_time": "2021-10-21T11:48:01.371Z"
   },
   {
    "duration": 27,
    "start_time": "2021-10-21T11:48:01.403Z"
   },
   {
    "duration": 15,
    "start_time": "2021-10-21T11:48:01.433Z"
   },
   {
    "duration": 15,
    "start_time": "2021-10-21T11:48:01.451Z"
   },
   {
    "duration": 51,
    "start_time": "2021-10-21T11:48:01.468Z"
   },
   {
    "duration": 58,
    "start_time": "2021-10-21T11:48:01.525Z"
   },
   {
    "duration": 51,
    "start_time": "2021-10-21T11:48:01.587Z"
   },
   {
    "duration": 9,
    "start_time": "2021-10-21T11:48:01.640Z"
   },
   {
    "duration": 47,
    "start_time": "2021-10-21T11:48:01.651Z"
   },
   {
    "duration": 10,
    "start_time": "2021-10-21T11:48:01.700Z"
   },
   {
    "duration": 70,
    "start_time": "2021-10-21T11:48:01.712Z"
   },
   {
    "duration": 12,
    "start_time": "2021-10-21T11:48:01.785Z"
   },
   {
    "duration": 14,
    "start_time": "2021-10-21T11:48:01.799Z"
   },
   {
    "duration": 23,
    "start_time": "2021-10-21T11:48:01.815Z"
   },
   {
    "duration": 23,
    "start_time": "2021-10-21T11:48:01.841Z"
   },
   {
    "duration": 23,
    "start_time": "2021-10-21T11:48:01.866Z"
   },
   {
    "duration": 6,
    "start_time": "2021-10-21T11:48:01.892Z"
   },
   {
    "duration": 32,
    "start_time": "2021-10-21T11:48:01.900Z"
   },
   {
    "duration": 7,
    "start_time": "2021-10-21T11:48:01.934Z"
   },
   {
    "duration": 16,
    "start_time": "2021-10-21T11:48:01.944Z"
   },
   {
    "duration": 52,
    "start_time": "2021-10-21T11:48:01.963Z"
   },
   {
    "duration": 21,
    "start_time": "2021-10-21T11:48:02.017Z"
   },
   {
    "duration": 26,
    "start_time": "2021-10-21T11:48:02.040Z"
   },
   {
    "duration": 22,
    "start_time": "2021-10-21T11:48:02.068Z"
   },
   {
    "duration": 16,
    "start_time": "2021-10-21T11:48:02.092Z"
   },
   {
    "duration": 10,
    "start_time": "2021-10-21T11:48:02.110Z"
   },
   {
    "duration": 4,
    "start_time": "2021-10-21T11:48:02.123Z"
   },
   {
    "duration": 20,
    "start_time": "2021-10-21T11:48:02.129Z"
   },
   {
    "duration": 6,
    "start_time": "2021-10-21T11:48:02.183Z"
   },
   {
    "duration": 15,
    "start_time": "2021-10-21T11:48:02.191Z"
   },
   {
    "duration": 11,
    "start_time": "2021-10-21T11:48:02.209Z"
   },
   {
    "duration": 9,
    "start_time": "2021-10-21T11:48:02.222Z"
   },
   {
    "duration": 29,
    "start_time": "2021-10-21T11:48:02.232Z"
   },
   {
    "duration": 21,
    "start_time": "2021-10-21T11:48:02.263Z"
   },
   {
    "duration": 20,
    "start_time": "2021-10-21T11:48:02.286Z"
   },
   {
    "duration": 15,
    "start_time": "2021-10-21T11:48:02.308Z"
   },
   {
    "duration": 14,
    "start_time": "2021-10-21T11:48:02.326Z"
   },
   {
    "duration": 154,
    "start_time": "2021-10-21T11:48:02.343Z"
   },
   {
    "duration": 7,
    "start_time": "2021-10-21T11:48:02.500Z"
   },
   {
    "duration": 19,
    "start_time": "2021-10-21T11:48:02.509Z"
   },
   {
    "duration": 7,
    "start_time": "2021-10-21T11:48:02.530Z"
   },
   {
    "duration": 54,
    "start_time": "2021-10-21T11:48:02.539Z"
   },
   {
    "duration": 18,
    "start_time": "2021-10-21T11:48:02.595Z"
   },
   {
    "duration": 7391,
    "start_time": "2021-10-21T11:48:02.616Z"
   },
   {
    "duration": 13,
    "start_time": "2021-10-21T11:48:10.009Z"
   },
   {
    "duration": 24,
    "start_time": "2021-10-21T11:48:10.024Z"
   },
   {
    "duration": 48,
    "start_time": "2021-10-21T11:48:10.050Z"
   },
   {
    "duration": 10720,
    "start_time": "2021-10-21T11:48:10.100Z"
   },
   {
    "duration": 13,
    "start_time": "2021-10-21T11:48:20.822Z"
   },
   {
    "duration": 19,
    "start_time": "2021-10-21T11:48:20.837Z"
   },
   {
    "duration": 10,
    "start_time": "2021-10-21T11:48:20.885Z"
   },
   {
    "duration": 20,
    "start_time": "2021-10-21T11:48:20.898Z"
   },
   {
    "duration": 29,
    "start_time": "2021-10-21T11:48:20.920Z"
   },
   {
    "duration": 177,
    "start_time": "2021-10-21T11:48:20.982Z"
   },
   {
    "duration": 23,
    "start_time": "2021-10-21T11:48:21.161Z"
   },
   {
    "duration": 17,
    "start_time": "2021-10-21T11:48:21.186Z"
   },
   {
    "duration": 20,
    "start_time": "2021-10-21T11:48:21.205Z"
   },
   {
    "duration": 8,
    "start_time": "2021-10-21T11:48:21.228Z"
   },
   {
    "duration": 47,
    "start_time": "2021-10-21T11:48:21.238Z"
   },
   {
    "duration": 17,
    "start_time": "2021-10-21T11:48:21.288Z"
   },
   {
    "duration": 7,
    "start_time": "2021-10-21T11:48:21.308Z"
   },
   {
    "duration": 17,
    "start_time": "2021-10-21T11:48:21.317Z"
   },
   {
    "duration": 50,
    "start_time": "2021-10-21T11:48:21.336Z"
   },
   {
    "duration": 11,
    "start_time": "2021-10-21T11:48:21.389Z"
   },
   {
    "duration": 16,
    "start_time": "2021-10-21T11:48:21.402Z"
   },
   {
    "duration": 14,
    "start_time": "2021-10-21T11:48:21.421Z"
   },
   {
    "duration": 46,
    "start_time": "2021-10-21T11:48:21.438Z"
   },
   {
    "duration": 10,
    "start_time": "2021-10-21T11:48:21.487Z"
   },
   {
    "duration": 17983,
    "start_time": "2021-10-21T11:48:21.500Z"
   },
   {
    "duration": 9,
    "start_time": "2021-10-21T11:48:39.486Z"
   },
   {
    "duration": 20,
    "start_time": "2021-10-21T11:48:39.497Z"
   },
   {
    "duration": 32,
    "start_time": "2021-10-21T11:48:39.519Z"
   },
   {
    "duration": 17,
    "start_time": "2021-10-21T11:48:39.554Z"
   },
   {
    "duration": 22,
    "start_time": "2021-10-21T11:48:39.582Z"
   },
   {
    "duration": 22,
    "start_time": "2021-10-21T11:48:39.606Z"
   },
   {
    "duration": 25,
    "start_time": "2021-10-21T11:48:39.630Z"
   },
   {
    "duration": 22,
    "start_time": "2021-10-21T11:48:39.657Z"
   },
   {
    "duration": 21,
    "start_time": "2021-10-21T11:48:39.681Z"
   },
   {
    "duration": 14,
    "start_time": "2021-10-21T11:48:39.704Z"
   },
   {
    "duration": 19,
    "start_time": "2021-10-21T11:48:39.720Z"
   },
   {
    "duration": 26,
    "start_time": "2021-10-21T11:48:39.741Z"
   },
   {
    "duration": 22,
    "start_time": "2021-10-21T11:48:39.769Z"
   },
   {
    "duration": 14,
    "start_time": "2021-10-21T12:00:49.767Z"
   },
   {
    "duration": 29,
    "start_time": "2021-10-21T12:00:58.280Z"
   },
   {
    "duration": 10,
    "start_time": "2021-10-21T12:01:29.149Z"
   },
   {
    "duration": 11,
    "start_time": "2021-10-21T12:01:35.970Z"
   },
   {
    "duration": 861,
    "start_time": "2021-10-22T07:01:12.875Z"
   },
   {
    "duration": 22,
    "start_time": "2021-10-22T07:01:13.740Z"
   },
   {
    "duration": 47,
    "start_time": "2021-10-22T07:01:13.766Z"
   },
   {
    "duration": 14,
    "start_time": "2021-10-22T07:01:13.817Z"
   },
   {
    "duration": 10,
    "start_time": "2021-10-22T07:01:13.834Z"
   },
   {
    "duration": 42,
    "start_time": "2021-10-22T07:01:13.847Z"
   },
   {
    "duration": 13,
    "start_time": "2021-10-22T07:01:13.892Z"
   },
   {
    "duration": 14,
    "start_time": "2021-10-22T07:01:13.910Z"
   },
   {
    "duration": 11,
    "start_time": "2021-10-22T07:01:13.927Z"
   },
   {
    "duration": 43,
    "start_time": "2021-10-22T07:01:13.940Z"
   },
   {
    "duration": 12,
    "start_time": "2021-10-22T07:01:13.985Z"
   },
   {
    "duration": 10,
    "start_time": "2021-10-22T07:01:13.999Z"
   },
   {
    "duration": 12,
    "start_time": "2021-10-22T07:01:14.011Z"
   },
   {
    "duration": 8,
    "start_time": "2021-10-22T07:01:14.025Z"
   },
   {
    "duration": 51,
    "start_time": "2021-10-22T07:01:14.036Z"
   },
   {
    "duration": 19,
    "start_time": "2021-10-22T07:01:14.090Z"
   },
   {
    "duration": 17,
    "start_time": "2021-10-22T07:01:14.112Z"
   },
   {
    "duration": 67,
    "start_time": "2021-10-22T07:01:14.131Z"
   },
   {
    "duration": 11,
    "start_time": "2021-10-22T07:01:14.201Z"
   },
   {
    "duration": 10,
    "start_time": "2021-10-22T07:01:14.215Z"
   },
   {
    "duration": 10,
    "start_time": "2021-10-22T07:01:14.228Z"
   },
   {
    "duration": 64,
    "start_time": "2021-10-22T07:01:14.241Z"
   },
   {
    "duration": 47,
    "start_time": "2021-10-22T07:01:14.311Z"
   },
   {
    "duration": 51,
    "start_time": "2021-10-22T07:01:14.383Z"
   },
   {
    "duration": 8,
    "start_time": "2021-10-22T07:01:14.437Z"
   },
   {
    "duration": 37,
    "start_time": "2021-10-22T07:01:14.447Z"
   },
   {
    "duration": 9,
    "start_time": "2021-10-22T07:01:14.487Z"
   },
   {
    "duration": 53,
    "start_time": "2021-10-22T07:01:14.499Z"
   },
   {
    "duration": 11,
    "start_time": "2021-10-22T07:01:14.581Z"
   },
   {
    "duration": 14,
    "start_time": "2021-10-22T07:01:14.594Z"
   },
   {
    "duration": 10,
    "start_time": "2021-10-22T07:01:14.610Z"
   },
   {
    "duration": 4,
    "start_time": "2021-10-22T07:01:14.622Z"
   },
   {
    "duration": 61,
    "start_time": "2021-10-22T07:01:14.628Z"
   },
   {
    "duration": 7,
    "start_time": "2021-10-22T07:01:14.691Z"
   },
   {
    "duration": 26,
    "start_time": "2021-10-22T07:01:14.700Z"
   },
   {
    "duration": 3,
    "start_time": "2021-10-22T07:01:14.729Z"
   },
   {
    "duration": 12,
    "start_time": "2021-10-22T07:01:14.734Z"
   },
   {
    "duration": 34,
    "start_time": "2021-10-22T07:01:14.783Z"
   },
   {
    "duration": 15,
    "start_time": "2021-10-22T07:01:14.819Z"
   },
   {
    "duration": 53,
    "start_time": "2021-10-22T07:01:14.836Z"
   },
   {
    "duration": 10,
    "start_time": "2021-10-22T07:01:14.892Z"
   },
   {
    "duration": 16,
    "start_time": "2021-10-22T07:01:14.904Z"
   },
   {
    "duration": 9,
    "start_time": "2021-10-22T07:01:14.923Z"
   },
   {
    "duration": 3,
    "start_time": "2021-10-22T07:01:14.934Z"
   },
   {
    "duration": 13,
    "start_time": "2021-10-22T07:01:14.982Z"
   },
   {
    "duration": 6,
    "start_time": "2021-10-22T07:01:14.998Z"
   },
   {
    "duration": 22,
    "start_time": "2021-10-22T07:01:15.007Z"
   },
   {
    "duration": 11,
    "start_time": "2021-10-22T07:01:15.032Z"
   },
   {
    "duration": 7,
    "start_time": "2021-10-22T07:01:15.083Z"
   },
   {
    "duration": 17,
    "start_time": "2021-10-22T07:01:15.093Z"
   },
   {
    "duration": 14,
    "start_time": "2021-10-22T07:01:15.113Z"
   },
   {
    "duration": 11,
    "start_time": "2021-10-22T07:01:15.129Z"
   },
   {
    "duration": 18,
    "start_time": "2021-10-22T07:01:15.183Z"
   },
   {
    "duration": 17,
    "start_time": "2021-10-22T07:01:15.204Z"
   },
   {
    "duration": 136,
    "start_time": "2021-10-22T07:01:15.223Z"
   },
   {
    "duration": 6,
    "start_time": "2021-10-22T07:01:15.361Z"
   },
   {
    "duration": 24,
    "start_time": "2021-10-22T07:01:15.370Z"
   },
   {
    "duration": 9,
    "start_time": "2021-10-22T07:01:15.396Z"
   },
   {
    "duration": 18,
    "start_time": "2021-10-22T07:01:15.408Z"
   },
   {
    "duration": 59,
    "start_time": "2021-10-22T07:01:15.428Z"
   },
   {
    "duration": 7775,
    "start_time": "2021-10-22T07:01:15.490Z"
   },
   {
    "duration": 20,
    "start_time": "2021-10-22T07:01:23.267Z"
   },
   {
    "duration": 21,
    "start_time": "2021-10-22T07:01:23.289Z"
   },
   {
    "duration": 23,
    "start_time": "2021-10-22T07:01:23.312Z"
   },
   {
    "duration": 9182,
    "start_time": "2021-10-22T07:01:23.337Z"
   },
   {
    "duration": 12,
    "start_time": "2021-10-22T07:01:32.522Z"
   },
   {
    "duration": 48,
    "start_time": "2021-10-22T07:01:32.537Z"
   },
   {
    "duration": 9,
    "start_time": "2021-10-22T07:01:32.595Z"
   },
   {
    "duration": 20,
    "start_time": "2021-10-22T07:01:32.609Z"
   },
   {
    "duration": 58,
    "start_time": "2021-10-22T07:01:32.632Z"
   },
   {
    "duration": 171,
    "start_time": "2021-10-22T07:01:32.692Z"
   },
   {
    "duration": 18,
    "start_time": "2021-10-22T07:01:32.865Z"
   },
   {
    "duration": 18,
    "start_time": "2021-10-22T07:01:32.885Z"
   },
   {
    "duration": 21,
    "start_time": "2021-10-22T07:01:32.906Z"
   },
   {
    "duration": 10,
    "start_time": "2021-10-22T07:01:32.930Z"
   },
   {
    "duration": 14,
    "start_time": "2021-10-22T07:01:32.982Z"
   },
   {
    "duration": 14,
    "start_time": "2021-10-22T07:01:32.998Z"
   },
   {
    "duration": 6,
    "start_time": "2021-10-22T07:01:33.015Z"
   },
   {
    "duration": 15,
    "start_time": "2021-10-22T07:01:33.024Z"
   },
   {
    "duration": 54,
    "start_time": "2021-10-22T07:01:33.041Z"
   },
   {
    "duration": 10,
    "start_time": "2021-10-22T07:01:33.097Z"
   },
   {
    "duration": 15,
    "start_time": "2021-10-22T07:01:33.109Z"
   },
   {
    "duration": 12,
    "start_time": "2021-10-22T07:01:33.126Z"
   },
   {
    "duration": 46,
    "start_time": "2021-10-22T07:01:33.141Z"
   },
   {
    "duration": 12,
    "start_time": "2021-10-22T07:01:33.190Z"
   },
   {
    "duration": 18312,
    "start_time": "2021-10-22T07:01:33.205Z"
   },
   {
    "duration": 9,
    "start_time": "2021-10-22T07:01:51.520Z"
   },
   {
    "duration": 11,
    "start_time": "2021-10-22T07:01:51.531Z"
   },
   {
    "duration": 53,
    "start_time": "2021-10-22T07:01:51.545Z"
   },
   {
    "duration": 11,
    "start_time": "2021-10-22T07:01:51.600Z"
   },
   {
    "duration": 23,
    "start_time": "2021-10-22T07:01:51.613Z"
   },
   {
    "duration": 16,
    "start_time": "2021-10-22T07:01:51.638Z"
   },
   {
    "duration": 10,
    "start_time": "2021-10-22T07:01:51.682Z"
   },
   {
    "duration": 10,
    "start_time": "2021-10-22T07:01:51.694Z"
   },
   {
    "duration": 7,
    "start_time": "2021-10-22T07:01:51.706Z"
   },
   {
    "duration": 13,
    "start_time": "2021-10-22T07:01:51.716Z"
   },
   {
    "duration": 11,
    "start_time": "2021-10-22T07:01:51.732Z"
   },
   {
    "duration": 44,
    "start_time": "2021-10-22T07:01:51.745Z"
   },
   {
    "duration": 11,
    "start_time": "2021-10-22T07:01:51.792Z"
   },
   {
    "duration": 21,
    "start_time": "2021-10-22T07:01:51.805Z"
   },
   {
    "duration": 11,
    "start_time": "2021-10-22T07:01:51.829Z"
   },
   {
    "duration": 26,
    "start_time": "2021-10-22T07:05:28.309Z"
   },
   {
    "duration": 6988,
    "start_time": "2021-10-22T07:25:31.783Z"
   },
   {
    "duration": 35,
    "start_time": "2021-10-22T07:32:33.121Z"
   },
   {
    "duration": 34,
    "start_time": "2021-10-22T07:33:03.381Z"
   },
   {
    "duration": 28,
    "start_time": "2021-10-22T07:33:21.661Z"
   },
   {
    "duration": 28,
    "start_time": "2021-10-22T07:35:12.902Z"
   },
   {
    "duration": 98,
    "start_time": "2021-10-22T07:35:36.673Z"
   },
   {
    "duration": 107,
    "start_time": "2021-10-22T07:35:42.486Z"
   },
   {
    "duration": 300,
    "start_time": "2021-10-22T07:35:51.113Z"
   },
   {
    "duration": 1659,
    "start_time": "2021-10-22T08:02:59.424Z"
   },
   {
    "duration": 1553,
    "start_time": "2021-10-22T08:05:30.717Z"
   },
   {
    "duration": 218,
    "start_time": "2021-10-22T08:05:58.117Z"
   },
   {
    "duration": 62,
    "start_time": "2021-10-22T08:07:13.000Z"
   },
   {
    "duration": 60,
    "start_time": "2021-10-22T08:08:13.350Z"
   },
   {
    "duration": 57,
    "start_time": "2021-10-22T08:08:22.991Z"
   },
   {
    "duration": 56,
    "start_time": "2021-10-22T08:10:22.920Z"
   },
   {
    "duration": 71,
    "start_time": "2021-10-22T08:11:08.434Z"
   },
   {
    "duration": 59,
    "start_time": "2021-10-22T08:12:43.568Z"
   },
   {
    "duration": 57,
    "start_time": "2021-10-22T08:12:56.337Z"
   },
   {
    "duration": 56,
    "start_time": "2021-10-22T08:13:23.727Z"
   },
   {
    "duration": 57,
    "start_time": "2021-10-22T08:13:45.797Z"
   },
   {
    "duration": 58,
    "start_time": "2021-10-22T08:14:59.903Z"
   },
   {
    "duration": 10770,
    "start_time": "2021-10-22T08:30:14.754Z"
   },
   {
    "duration": 442,
    "start_time": "2021-10-22T08:30:36.422Z"
   },
   {
    "duration": 7416,
    "start_time": "2021-10-22T08:32:59.704Z"
   },
   {
    "duration": 6,
    "start_time": "2021-10-22T08:33:16.626Z"
   },
   {
    "duration": 10,
    "start_time": "2021-10-22T08:33:30.077Z"
   },
   {
    "duration": 57,
    "start_time": "2021-10-22T08:40:51.479Z"
   },
   {
    "duration": 5,
    "start_time": "2021-10-22T08:45:09.285Z"
   },
   {
    "duration": 13,
    "start_time": "2021-10-22T08:45:11.468Z"
   },
   {
    "duration": 59,
    "start_time": "2021-10-22T08:53:43.074Z"
   },
   {
    "duration": 5,
    "start_time": "2021-10-22T08:54:45.667Z"
   },
   {
    "duration": 14,
    "start_time": "2021-10-22T08:55:00.346Z"
   },
   {
    "duration": 249,
    "start_time": "2021-10-22T09:05:56.987Z"
   },
   {
    "duration": 83,
    "start_time": "2021-10-22T09:06:04.367Z"
   },
   {
    "duration": 132,
    "start_time": "2021-10-22T09:22:52.917Z"
   },
   {
    "duration": 65,
    "start_time": "2021-10-22T09:23:26.703Z"
   },
   {
    "duration": 58,
    "start_time": "2021-10-22T09:25:32.668Z"
   },
   {
    "duration": 12,
    "start_time": "2021-10-22T09:28:37.216Z"
   },
   {
    "duration": 67,
    "start_time": "2021-10-22T09:30:36.237Z"
   },
   {
    "duration": 13,
    "start_time": "2021-10-22T09:31:50.601Z"
   },
   {
    "duration": 336,
    "start_time": "2021-10-22T09:41:22.723Z"
   },
   {
    "duration": 63,
    "start_time": "2021-10-22T09:41:32.493Z"
   },
   {
    "duration": 13,
    "start_time": "2021-10-22T09:42:27.321Z"
   },
   {
    "duration": 58,
    "start_time": "2021-10-22T09:58:52.510Z"
   },
   {
    "duration": 13,
    "start_time": "2021-10-22T09:59:59.903Z"
   },
   {
    "duration": 12,
    "start_time": "2021-10-22T10:06:17.922Z"
   },
   {
    "duration": 312,
    "start_time": "2021-10-22T10:06:48.312Z"
   },
   {
    "duration": 302,
    "start_time": "2021-10-22T10:07:05.107Z"
   },
   {
    "duration": 12,
    "start_time": "2021-10-22T10:07:10.819Z"
   },
   {
    "duration": 12,
    "start_time": "2021-10-22T10:07:22.759Z"
   },
   {
    "duration": 840,
    "start_time": "2021-10-22T17:35:21.021Z"
   },
   {
    "duration": 18,
    "start_time": "2021-10-22T17:35:21.864Z"
   },
   {
    "duration": 24,
    "start_time": "2021-10-22T17:35:21.885Z"
   },
   {
    "duration": 10,
    "start_time": "2021-10-22T17:35:21.912Z"
   },
   {
    "duration": 12,
    "start_time": "2021-10-22T17:35:21.924Z"
   },
   {
    "duration": 51,
    "start_time": "2021-10-22T17:35:21.938Z"
   },
   {
    "duration": 9,
    "start_time": "2021-10-22T17:35:21.991Z"
   },
   {
    "duration": 9,
    "start_time": "2021-10-22T17:35:22.002Z"
   },
   {
    "duration": 9,
    "start_time": "2021-10-22T17:35:22.015Z"
   },
   {
    "duration": 11,
    "start_time": "2021-10-22T17:35:22.027Z"
   },
   {
    "duration": 48,
    "start_time": "2021-10-22T17:35:22.040Z"
   },
   {
    "duration": 10,
    "start_time": "2021-10-22T17:35:22.090Z"
   },
   {
    "duration": 12,
    "start_time": "2021-10-22T17:35:22.103Z"
   },
   {
    "duration": 7,
    "start_time": "2021-10-22T17:35:22.117Z"
   },
   {
    "duration": 62,
    "start_time": "2021-10-22T17:35:22.126Z"
   },
   {
    "duration": 15,
    "start_time": "2021-10-22T17:35:22.190Z"
   },
   {
    "duration": 16,
    "start_time": "2021-10-22T17:35:22.208Z"
   },
   {
    "duration": 57,
    "start_time": "2021-10-22T17:35:22.227Z"
   },
   {
    "duration": 12,
    "start_time": "2021-10-22T17:35:22.286Z"
   },
   {
    "duration": 11,
    "start_time": "2021-10-22T17:35:22.301Z"
   },
   {
    "duration": 12,
    "start_time": "2021-10-22T17:35:22.314Z"
   },
   {
    "duration": 76,
    "start_time": "2021-10-22T17:35:22.329Z"
   },
   {
    "duration": 51,
    "start_time": "2021-10-22T17:35:22.408Z"
   },
   {
    "duration": 71,
    "start_time": "2021-10-22T17:35:22.462Z"
   },
   {
    "duration": 9,
    "start_time": "2021-10-22T17:35:22.535Z"
   },
   {
    "duration": 45,
    "start_time": "2021-10-22T17:35:22.546Z"
   },
   {
    "duration": 10,
    "start_time": "2021-10-22T17:35:22.598Z"
   },
   {
    "duration": 79,
    "start_time": "2021-10-22T17:35:22.612Z"
   },
   {
    "duration": 12,
    "start_time": "2021-10-22T17:35:22.693Z"
   },
   {
    "duration": 15,
    "start_time": "2021-10-22T17:35:22.707Z"
   },
   {
    "duration": 12,
    "start_time": "2021-10-22T17:35:22.724Z"
   },
   {
    "duration": 4,
    "start_time": "2021-10-22T17:35:22.738Z"
   },
   {
    "duration": 13,
    "start_time": "2021-10-22T17:35:22.783Z"
   },
   {
    "duration": 6,
    "start_time": "2021-10-22T17:35:22.798Z"
   },
   {
    "duration": 23,
    "start_time": "2021-10-22T17:35:22.807Z"
   },
   {
    "duration": 6,
    "start_time": "2021-10-22T17:35:22.833Z"
   },
   {
    "duration": 49,
    "start_time": "2021-10-22T17:35:22.841Z"
   },
   {
    "duration": 38,
    "start_time": "2021-10-22T17:35:22.892Z"
   },
   {
    "duration": 49,
    "start_time": "2021-10-22T17:35:22.932Z"
   },
   {
    "duration": 13,
    "start_time": "2021-10-22T17:35:22.984Z"
   },
   {
    "duration": 15,
    "start_time": "2021-10-22T17:35:23.000Z"
   },
   {
    "duration": 12,
    "start_time": "2021-10-22T17:35:23.018Z"
   },
   {
    "duration": 11,
    "start_time": "2021-10-22T17:35:23.033Z"
   },
   {
    "duration": 4,
    "start_time": "2021-10-22T17:35:23.083Z"
   },
   {
    "duration": 21,
    "start_time": "2021-10-22T17:35:23.089Z"
   },
   {
    "duration": 10,
    "start_time": "2021-10-22T17:35:23.112Z"
   },
   {
    "duration": 21,
    "start_time": "2021-10-22T17:35:23.125Z"
   },
   {
    "duration": 34,
    "start_time": "2021-10-22T17:35:23.148Z"
   },
   {
    "duration": 7,
    "start_time": "2021-10-22T17:35:23.185Z"
   },
   {
    "duration": 11,
    "start_time": "2021-10-22T17:35:23.194Z"
   },
   {
    "duration": 10,
    "start_time": "2021-10-22T17:35:23.207Z"
   },
   {
    "duration": 10,
    "start_time": "2021-10-22T17:35:23.219Z"
   },
   {
    "duration": 63,
    "start_time": "2021-10-22T17:35:23.232Z"
   },
   {
    "duration": 14,
    "start_time": "2021-10-22T17:35:23.297Z"
   },
   {
    "duration": 125,
    "start_time": "2021-10-22T17:35:23.313Z"
   },
   {
    "duration": 6,
    "start_time": "2021-10-22T17:35:23.440Z"
   },
   {
    "duration": 15,
    "start_time": "2021-10-22T17:35:23.448Z"
   },
   {
    "duration": 9,
    "start_time": "2021-10-22T17:35:23.482Z"
   },
   {
    "duration": 20,
    "start_time": "2021-10-22T17:35:23.493Z"
   },
   {
    "duration": 19,
    "start_time": "2021-10-22T17:35:23.516Z"
   },
   {
    "duration": 7263,
    "start_time": "2021-10-22T17:35:23.538Z"
   },
   {
    "duration": 13,
    "start_time": "2021-10-22T17:35:30.804Z"
   },
   {
    "duration": 37,
    "start_time": "2021-10-22T17:35:30.820Z"
   },
   {
    "duration": 40,
    "start_time": "2021-10-22T17:35:30.859Z"
   },
   {
    "duration": 9754,
    "start_time": "2021-10-22T17:35:30.901Z"
   },
   {
    "duration": 13,
    "start_time": "2021-10-22T17:35:40.657Z"
   },
   {
    "duration": 20,
    "start_time": "2021-10-22T17:35:40.682Z"
   },
   {
    "duration": 11,
    "start_time": "2021-10-22T17:35:40.704Z"
   },
   {
    "duration": 31,
    "start_time": "2021-10-22T17:35:40.718Z"
   },
   {
    "duration": 49,
    "start_time": "2021-10-22T17:35:40.752Z"
   },
   {
    "duration": 182,
    "start_time": "2021-10-22T17:35:40.804Z"
   },
   {
    "duration": 12,
    "start_time": "2021-10-22T17:35:40.989Z"
   },
   {
    "duration": 18,
    "start_time": "2021-10-22T17:35:41.003Z"
   },
   {
    "duration": 21,
    "start_time": "2021-10-22T17:35:41.024Z"
   },
   {
    "duration": 10,
    "start_time": "2021-10-22T17:35:41.083Z"
   },
   {
    "duration": 26,
    "start_time": "2021-10-22T17:35:41.096Z"
   },
   {
    "duration": 18,
    "start_time": "2021-10-22T17:35:41.125Z"
   },
   {
    "duration": 6,
    "start_time": "2021-10-22T17:35:41.145Z"
   },
   {
    "duration": 16,
    "start_time": "2021-10-22T17:35:41.182Z"
   },
   {
    "duration": 20,
    "start_time": "2021-10-22T17:35:41.200Z"
   },
   {
    "duration": 10,
    "start_time": "2021-10-22T17:35:41.230Z"
   },
   {
    "duration": 59,
    "start_time": "2021-10-22T17:35:41.243Z"
   },
   {
    "duration": 22,
    "start_time": "2021-10-22T17:35:41.305Z"
   },
   {
    "duration": 15,
    "start_time": "2021-10-22T17:35:41.329Z"
   },
   {
    "duration": 19,
    "start_time": "2021-10-22T17:35:41.347Z"
   },
   {
    "duration": 19130,
    "start_time": "2021-10-22T17:35:41.368Z"
   },
   {
    "duration": 10,
    "start_time": "2021-10-22T17:36:00.501Z"
   },
   {
    "duration": 19,
    "start_time": "2021-10-22T17:36:00.513Z"
   },
   {
    "duration": 56,
    "start_time": "2021-10-22T17:36:00.535Z"
   },
   {
    "duration": 12,
    "start_time": "2021-10-22T17:36:00.593Z"
   },
   {
    "duration": 31,
    "start_time": "2021-10-22T17:36:00.608Z"
   },
   {
    "duration": 13,
    "start_time": "2021-10-22T17:36:00.642Z"
   },
   {
    "duration": 14,
    "start_time": "2021-10-22T17:36:00.683Z"
   },
   {
    "duration": 15,
    "start_time": "2021-10-22T17:36:00.699Z"
   },
   {
    "duration": 11,
    "start_time": "2021-10-22T17:36:00.716Z"
   },
   {
    "duration": 12,
    "start_time": "2021-10-22T17:36:00.730Z"
   },
   {
    "duration": 45,
    "start_time": "2021-10-22T17:36:00.745Z"
   },
   {
    "duration": 12,
    "start_time": "2021-10-22T17:36:00.793Z"
   },
   {
    "duration": 18,
    "start_time": "2021-10-22T17:36:00.807Z"
   },
   {
    "duration": 17,
    "start_time": "2021-10-22T17:36:00.828Z"
   },
   {
    "duration": 43,
    "start_time": "2021-10-22T17:36:00.847Z"
   },
   {
    "duration": 32,
    "start_time": "2021-10-22T17:36:00.893Z"
   },
   {
    "duration": 98,
    "start_time": "2021-10-22T17:36:00.927Z"
   },
   {
    "duration": 5,
    "start_time": "2021-10-22T17:36:01.028Z"
   },
   {
    "duration": 18,
    "start_time": "2021-10-22T17:36:01.036Z"
   },
   {
    "duration": 76,
    "start_time": "2021-10-22T17:36:01.056Z"
   },
   {
    "duration": 13,
    "start_time": "2021-10-22T17:36:01.135Z"
   },
   {
    "duration": 80,
    "start_time": "2021-10-22T17:36:01.151Z"
   },
   {
    "duration": 12,
    "start_time": "2021-10-22T17:36:01.234Z"
   },
   {
    "duration": 97,
    "start_time": "2021-10-22T17:36:01.249Z"
   },
   {
    "duration": 34,
    "start_time": "2021-10-22T17:36:01.348Z"
   },
   {
    "duration": 60,
    "start_time": "2021-10-22T17:36:01.385Z"
   },
   {
    "duration": 13,
    "start_time": "2021-10-22T17:36:01.448Z"
   },
   {
    "duration": 59,
    "start_time": "2021-10-22T17:36:01.483Z"
   },
   {
    "duration": 11,
    "start_time": "2021-10-22T17:36:01.545Z"
   },
   {
    "duration": 34,
    "start_time": "2021-10-22T17:36:01.558Z"
   },
   {
    "duration": 59,
    "start_time": "2021-10-22T17:37:56.521Z"
   },
   {
    "duration": 13,
    "start_time": "2021-10-22T17:38:40.025Z"
   },
   {
    "duration": 17,
    "start_time": "2021-10-22T17:41:12.305Z"
   },
   {
    "duration": 71,
    "start_time": "2021-10-22T18:11:31.794Z"
   },
   {
    "duration": 16,
    "start_time": "2021-10-22T18:12:55.954Z"
   },
   {
    "duration": 391,
    "start_time": "2021-10-22T18:14:51.866Z"
   },
   {
    "duration": 88,
    "start_time": "2021-10-22T18:15:04.585Z"
   },
   {
    "duration": 323,
    "start_time": "2021-10-22T18:15:48.722Z"
   },
   {
    "duration": 16,
    "start_time": "2021-10-22T18:15:56.989Z"
   },
   {
    "duration": 14,
    "start_time": "2021-10-22T18:16:16.606Z"
   },
   {
    "duration": 825,
    "start_time": "2021-10-23T07:12:13.636Z"
   },
   {
    "duration": 14,
    "start_time": "2021-10-23T07:12:14.464Z"
   },
   {
    "duration": 23,
    "start_time": "2021-10-23T07:12:14.481Z"
   },
   {
    "duration": 31,
    "start_time": "2021-10-23T07:12:14.506Z"
   },
   {
    "duration": 9,
    "start_time": "2021-10-23T07:12:14.539Z"
   },
   {
    "duration": 9,
    "start_time": "2021-10-23T07:12:14.550Z"
   },
   {
    "duration": 18,
    "start_time": "2021-10-23T07:12:14.561Z"
   },
   {
    "duration": 9,
    "start_time": "2021-10-23T07:12:14.583Z"
   },
   {
    "duration": 10,
    "start_time": "2021-10-23T07:12:14.630Z"
   },
   {
    "duration": 17,
    "start_time": "2021-10-23T07:12:14.642Z"
   },
   {
    "duration": 9,
    "start_time": "2021-10-23T07:12:14.662Z"
   },
   {
    "duration": 8,
    "start_time": "2021-10-23T07:12:14.673Z"
   },
   {
    "duration": 46,
    "start_time": "2021-10-23T07:12:14.683Z"
   },
   {
    "duration": 7,
    "start_time": "2021-10-23T07:12:14.731Z"
   },
   {
    "duration": 10,
    "start_time": "2021-10-23T07:12:14.741Z"
   },
   {
    "duration": 21,
    "start_time": "2021-10-23T07:12:14.753Z"
   },
   {
    "duration": 18,
    "start_time": "2021-10-23T07:12:14.776Z"
   },
   {
    "duration": 22,
    "start_time": "2021-10-23T07:12:14.828Z"
   },
   {
    "duration": 19,
    "start_time": "2021-10-23T07:12:14.852Z"
   },
   {
    "duration": 10,
    "start_time": "2021-10-23T07:12:14.873Z"
   },
   {
    "duration": 11,
    "start_time": "2021-10-23T07:12:14.885Z"
   },
   {
    "duration": 63,
    "start_time": "2021-10-23T07:12:14.898Z"
   },
   {
    "duration": 65,
    "start_time": "2021-10-23T07:12:14.967Z"
   },
   {
    "duration": 52,
    "start_time": "2021-10-23T07:12:15.035Z"
   },
   {
    "duration": 8,
    "start_time": "2021-10-23T07:12:15.089Z"
   },
   {
    "duration": 38,
    "start_time": "2021-10-23T07:12:15.099Z"
   },
   {
    "duration": 10,
    "start_time": "2021-10-23T07:12:15.139Z"
   },
   {
    "duration": 78,
    "start_time": "2021-10-23T07:12:15.151Z"
   },
   {
    "duration": 10,
    "start_time": "2021-10-23T07:12:15.231Z"
   },
   {
    "duration": 17,
    "start_time": "2021-10-23T07:12:15.243Z"
   },
   {
    "duration": 16,
    "start_time": "2021-10-23T07:12:15.262Z"
   },
   {
    "duration": 4,
    "start_time": "2021-10-23T07:12:15.280Z"
   },
   {
    "duration": 44,
    "start_time": "2021-10-23T07:12:15.286Z"
   },
   {
    "duration": 6,
    "start_time": "2021-10-23T07:12:15.332Z"
   },
   {
    "duration": 28,
    "start_time": "2021-10-23T07:12:15.341Z"
   },
   {
    "duration": 7,
    "start_time": "2021-10-23T07:12:15.372Z"
   },
   {
    "duration": 13,
    "start_time": "2021-10-23T07:12:15.381Z"
   },
   {
    "duration": 53,
    "start_time": "2021-10-23T07:12:15.397Z"
   },
   {
    "duration": 10,
    "start_time": "2021-10-23T07:12:15.453Z"
   },
   {
    "duration": 14,
    "start_time": "2021-10-23T07:12:15.465Z"
   },
   {
    "duration": 18,
    "start_time": "2021-10-23T07:12:15.481Z"
   },
   {
    "duration": 12,
    "start_time": "2021-10-23T07:12:15.529Z"
   },
   {
    "duration": 11,
    "start_time": "2021-10-23T07:12:15.543Z"
   },
   {
    "duration": 11,
    "start_time": "2021-10-23T07:12:15.557Z"
   },
   {
    "duration": 13,
    "start_time": "2021-10-23T07:12:15.571Z"
   },
   {
    "duration": 45,
    "start_time": "2021-10-23T07:12:15.587Z"
   },
   {
    "duration": 15,
    "start_time": "2021-10-23T07:12:15.634Z"
   },
   {
    "duration": 10,
    "start_time": "2021-10-23T07:12:15.652Z"
   },
   {
    "duration": 18,
    "start_time": "2021-10-23T07:12:15.664Z"
   },
   {
    "duration": 9,
    "start_time": "2021-10-23T07:12:15.684Z"
   },
   {
    "duration": 35,
    "start_time": "2021-10-23T07:12:15.695Z"
   },
   {
    "duration": 13,
    "start_time": "2021-10-23T07:12:15.732Z"
   },
   {
    "duration": 15,
    "start_time": "2021-10-23T07:12:15.747Z"
   },
   {
    "duration": 120,
    "start_time": "2021-10-23T07:12:15.764Z"
   },
   {
    "duration": 6,
    "start_time": "2021-10-23T07:12:15.886Z"
   },
   {
    "duration": 17,
    "start_time": "2021-10-23T07:12:15.894Z"
   },
   {
    "duration": 20,
    "start_time": "2021-10-23T07:12:15.914Z"
   },
   {
    "duration": 22,
    "start_time": "2021-10-23T07:12:15.936Z"
   },
   {
    "duration": 17,
    "start_time": "2021-10-23T07:12:15.960Z"
   },
   {
    "duration": 7239,
    "start_time": "2021-10-23T07:12:15.979Z"
   },
   {
    "duration": 16,
    "start_time": "2021-10-23T07:12:23.221Z"
   },
   {
    "duration": 29,
    "start_time": "2021-10-23T07:12:23.240Z"
   },
   {
    "duration": 34,
    "start_time": "2021-10-23T07:12:23.271Z"
   },
   {
    "duration": 9322,
    "start_time": "2021-10-23T07:12:23.308Z"
   },
   {
    "duration": 13,
    "start_time": "2021-10-23T07:12:32.632Z"
   },
   {
    "duration": 19,
    "start_time": "2021-10-23T07:12:32.647Z"
   },
   {
    "duration": 12,
    "start_time": "2021-10-23T07:12:32.668Z"
   },
   {
    "duration": 55,
    "start_time": "2021-10-23T07:12:32.689Z"
   },
   {
    "duration": 23,
    "start_time": "2021-10-23T07:12:32.747Z"
   },
   {
    "duration": 286,
    "start_time": "2021-10-23T07:12:32.772Z"
   },
   {
    "duration": 11,
    "start_time": "2021-10-23T07:12:33.060Z"
   },
   {
    "duration": 26,
    "start_time": "2021-10-23T07:12:33.074Z"
   },
   {
    "duration": 35,
    "start_time": "2021-10-23T07:12:33.103Z"
   },
   {
    "duration": 7,
    "start_time": "2021-10-23T07:12:33.141Z"
   },
   {
    "duration": 13,
    "start_time": "2021-10-23T07:12:33.151Z"
   },
   {
    "duration": 15,
    "start_time": "2021-10-23T07:12:33.166Z"
   },
   {
    "duration": 47,
    "start_time": "2021-10-23T07:12:33.183Z"
   },
   {
    "duration": 15,
    "start_time": "2021-10-23T07:12:33.233Z"
   },
   {
    "duration": 18,
    "start_time": "2021-10-23T07:12:33.251Z"
   },
   {
    "duration": 17,
    "start_time": "2021-10-23T07:12:33.271Z"
   },
   {
    "duration": 48,
    "start_time": "2021-10-23T07:12:33.290Z"
   },
   {
    "duration": 11,
    "start_time": "2021-10-23T07:12:33.341Z"
   },
   {
    "duration": 9,
    "start_time": "2021-10-23T07:12:33.354Z"
   },
   {
    "duration": 9,
    "start_time": "2021-10-23T07:12:33.366Z"
   },
   {
    "duration": 18054,
    "start_time": "2021-10-23T07:12:33.378Z"
   },
   {
    "duration": 11,
    "start_time": "2021-10-23T07:12:51.435Z"
   },
   {
    "duration": 17,
    "start_time": "2021-10-23T07:12:51.449Z"
   },
   {
    "duration": 30,
    "start_time": "2021-10-23T07:12:51.468Z"
   },
   {
    "duration": 34,
    "start_time": "2021-10-23T07:12:51.501Z"
   },
   {
    "duration": 21,
    "start_time": "2021-10-23T07:12:51.537Z"
   },
   {
    "duration": 12,
    "start_time": "2021-10-23T07:12:51.561Z"
   },
   {
    "duration": 10,
    "start_time": "2021-10-23T07:12:51.576Z"
   },
   {
    "duration": 51,
    "start_time": "2021-10-23T07:12:51.588Z"
   },
   {
    "duration": 16,
    "start_time": "2021-10-23T07:12:51.641Z"
   },
   {
    "duration": 11,
    "start_time": "2021-10-23T07:12:51.659Z"
   },
   {
    "duration": 16,
    "start_time": "2021-10-23T07:12:51.672Z"
   },
   {
    "duration": 14,
    "start_time": "2021-10-23T07:12:51.690Z"
   },
   {
    "duration": 29,
    "start_time": "2021-10-23T07:12:51.706Z"
   },
   {
    "duration": 14,
    "start_time": "2021-10-23T07:12:51.738Z"
   },
   {
    "duration": 19,
    "start_time": "2021-10-23T07:12:51.754Z"
   },
   {
    "duration": 33,
    "start_time": "2021-10-23T07:12:51.775Z"
   },
   {
    "duration": 84,
    "start_time": "2021-10-23T07:12:51.810Z"
   },
   {
    "duration": 6,
    "start_time": "2021-10-23T07:12:51.896Z"
   },
   {
    "duration": 39,
    "start_time": "2021-10-23T07:12:51.904Z"
   },
   {
    "duration": 61,
    "start_time": "2021-10-23T07:12:51.945Z"
   },
   {
    "duration": 30,
    "start_time": "2021-10-23T07:12:52.009Z"
   },
   {
    "duration": 64,
    "start_time": "2021-10-23T07:12:52.041Z"
   },
   {
    "duration": 23,
    "start_time": "2021-10-23T07:12:52.107Z"
   },
   {
    "duration": 66,
    "start_time": "2021-10-23T07:12:52.132Z"
   },
   {
    "duration": 30,
    "start_time": "2021-10-23T07:12:52.200Z"
   },
   {
    "duration": 59,
    "start_time": "2021-10-23T07:12:52.232Z"
   },
   {
    "duration": 11,
    "start_time": "2021-10-23T07:12:52.293Z"
   },
   {
    "duration": 79,
    "start_time": "2021-10-23T07:12:52.306Z"
   },
   {
    "duration": 11,
    "start_time": "2021-10-23T07:12:52.387Z"
   },
   {
    "duration": 33,
    "start_time": "2021-10-23T07:12:52.400Z"
   },
   {
    "duration": 62,
    "start_time": "2021-10-23T07:12:52.435Z"
   },
   {
    "duration": 11,
    "start_time": "2021-10-23T07:12:52.500Z"
   },
   {
    "duration": 26,
    "start_time": "2021-10-23T07:12:52.513Z"
   },
   {
    "duration": 843,
    "start_time": "2021-10-23T07:22:01.834Z"
   },
   {
    "duration": 15,
    "start_time": "2021-10-23T07:22:02.679Z"
   },
   {
    "duration": 45,
    "start_time": "2021-10-23T07:22:02.696Z"
   },
   {
    "duration": 9,
    "start_time": "2021-10-23T07:22:02.744Z"
   },
   {
    "duration": 11,
    "start_time": "2021-10-23T07:22:02.756Z"
   },
   {
    "duration": 11,
    "start_time": "2021-10-23T07:22:02.770Z"
   },
   {
    "duration": 12,
    "start_time": "2021-10-23T07:22:02.783Z"
   },
   {
    "duration": 38,
    "start_time": "2021-10-23T07:22:02.798Z"
   },
   {
    "duration": 15,
    "start_time": "2021-10-23T07:22:02.839Z"
   },
   {
    "duration": 11,
    "start_time": "2021-10-23T07:22:02.856Z"
   },
   {
    "duration": 10,
    "start_time": "2021-10-23T07:22:02.869Z"
   },
   {
    "duration": 49,
    "start_time": "2021-10-23T07:22:02.882Z"
   },
   {
    "duration": 13,
    "start_time": "2021-10-23T07:22:02.933Z"
   },
   {
    "duration": 10,
    "start_time": "2021-10-23T07:22:02.948Z"
   },
   {
    "duration": 11,
    "start_time": "2021-10-23T07:22:02.960Z"
   },
   {
    "duration": 15,
    "start_time": "2021-10-23T07:22:02.973Z"
   },
   {
    "duration": 17,
    "start_time": "2021-10-23T07:22:03.030Z"
   },
   {
    "duration": 22,
    "start_time": "2021-10-23T07:22:03.049Z"
   },
   {
    "duration": 15,
    "start_time": "2021-10-23T07:22:03.073Z"
   },
   {
    "duration": 46,
    "start_time": "2021-10-23T07:22:03.091Z"
   },
   {
    "duration": 12,
    "start_time": "2021-10-23T07:22:03.139Z"
   },
   {
    "duration": 36,
    "start_time": "2021-10-23T07:22:03.153Z"
   },
   {
    "duration": 46,
    "start_time": "2021-10-23T07:22:03.228Z"
   },
   {
    "duration": 70,
    "start_time": "2021-10-23T07:22:03.278Z"
   },
   {
    "duration": 9,
    "start_time": "2021-10-23T07:22:03.350Z"
   },
   {
    "duration": 13,
    "start_time": "2021-10-23T07:22:03.361Z"
   },
   {
    "duration": 10,
    "start_time": "2021-10-23T07:22:03.376Z"
   },
   {
    "duration": 89,
    "start_time": "2021-10-23T07:22:03.388Z"
   },
   {
    "duration": 12,
    "start_time": "2021-10-23T07:22:03.479Z"
   },
   {
    "duration": 35,
    "start_time": "2021-10-23T07:22:03.493Z"
   },
   {
    "duration": 11,
    "start_time": "2021-10-23T07:22:03.531Z"
   },
   {
    "duration": 4,
    "start_time": "2021-10-23T07:22:03.545Z"
   },
   {
    "duration": 15,
    "start_time": "2021-10-23T07:22:03.551Z"
   },
   {
    "duration": 6,
    "start_time": "2021-10-23T07:22:03.568Z"
   },
   {
    "duration": 57,
    "start_time": "2021-10-23T07:22:03.576Z"
   },
   {
    "duration": 12,
    "start_time": "2021-10-23T07:22:03.635Z"
   },
   {
    "duration": 24,
    "start_time": "2021-10-23T07:22:03.649Z"
   },
   {
    "duration": 34,
    "start_time": "2021-10-23T07:22:03.675Z"
   },
   {
    "duration": 27,
    "start_time": "2021-10-23T07:22:03.712Z"
   },
   {
    "duration": 26,
    "start_time": "2021-10-23T07:22:03.741Z"
   },
   {
    "duration": 9,
    "start_time": "2021-10-23T07:22:03.769Z"
   },
   {
    "duration": 25,
    "start_time": "2021-10-23T07:22:03.781Z"
   },
   {
    "duration": 21,
    "start_time": "2021-10-23T07:22:03.809Z"
   },
   {
    "duration": 13,
    "start_time": "2021-10-23T07:22:03.832Z"
   },
   {
    "duration": 19,
    "start_time": "2021-10-23T07:22:03.848Z"
   },
   {
    "duration": 27,
    "start_time": "2021-10-23T07:22:03.869Z"
   },
   {
    "duration": 17,
    "start_time": "2021-10-23T07:22:03.899Z"
   },
   {
    "duration": 10,
    "start_time": "2021-10-23T07:22:03.919Z"
   },
   {
    "duration": 10,
    "start_time": "2021-10-23T07:22:03.931Z"
   },
   {
    "duration": 9,
    "start_time": "2021-10-23T07:22:03.943Z"
   },
   {
    "duration": 9,
    "start_time": "2021-10-23T07:22:03.954Z"
   },
   {
    "duration": 12,
    "start_time": "2021-10-23T07:22:03.965Z"
   },
   {
    "duration": 57,
    "start_time": "2021-10-23T07:22:03.979Z"
   },
   {
    "duration": 110,
    "start_time": "2021-10-23T07:22:04.039Z"
   },
   {
    "duration": 6,
    "start_time": "2021-10-23T07:22:04.151Z"
   },
   {
    "duration": 14,
    "start_time": "2021-10-23T07:22:04.160Z"
   },
   {
    "duration": 7,
    "start_time": "2021-10-23T07:22:04.177Z"
   },
   {
    "duration": 52,
    "start_time": "2021-10-23T07:22:04.186Z"
   },
   {
    "duration": 19,
    "start_time": "2021-10-23T07:22:04.240Z"
   },
   {
    "duration": 7278,
    "start_time": "2021-10-23T07:22:04.261Z"
   },
   {
    "duration": 14,
    "start_time": "2021-10-23T07:22:11.542Z"
   },
   {
    "duration": 19,
    "start_time": "2021-10-23T07:22:11.559Z"
   },
   {
    "duration": 58,
    "start_time": "2021-10-23T07:22:11.581Z"
   },
   {
    "duration": 9134,
    "start_time": "2021-10-23T07:22:11.642Z"
   },
   {
    "duration": 14,
    "start_time": "2021-10-23T07:22:20.779Z"
   },
   {
    "duration": 41,
    "start_time": "2021-10-23T07:22:20.796Z"
   },
   {
    "duration": 17,
    "start_time": "2021-10-23T07:22:20.840Z"
   },
   {
    "duration": 20,
    "start_time": "2021-10-23T07:22:20.867Z"
   },
   {
    "duration": 52,
    "start_time": "2021-10-23T07:22:20.892Z"
   },
   {
    "duration": 177,
    "start_time": "2021-10-23T07:22:20.947Z"
   },
   {
    "duration": 12,
    "start_time": "2021-10-23T07:22:21.127Z"
   },
   {
    "duration": 23,
    "start_time": "2021-10-23T07:22:21.141Z"
   },
   {
    "duration": 23,
    "start_time": "2021-10-23T07:22:21.166Z"
   },
   {
    "duration": 14,
    "start_time": "2021-10-23T07:22:21.191Z"
   },
   {
    "duration": 31,
    "start_time": "2021-10-23T07:22:21.208Z"
   },
   {
    "duration": 15,
    "start_time": "2021-10-23T07:22:21.241Z"
   },
   {
    "duration": 7,
    "start_time": "2021-10-23T07:22:21.258Z"
   },
   {
    "duration": 19,
    "start_time": "2021-10-23T07:22:21.268Z"
   },
   {
    "duration": 49,
    "start_time": "2021-10-23T07:22:21.290Z"
   },
   {
    "duration": 13,
    "start_time": "2021-10-23T07:22:21.342Z"
   },
   {
    "duration": 17,
    "start_time": "2021-10-23T07:22:21.357Z"
   },
   {
    "duration": 24,
    "start_time": "2021-10-23T07:22:21.377Z"
   },
   {
    "duration": 29,
    "start_time": "2021-10-23T07:22:21.403Z"
   },
   {
    "duration": 10,
    "start_time": "2021-10-23T07:22:21.434Z"
   },
   {
    "duration": 18745,
    "start_time": "2021-10-23T07:22:21.446Z"
   },
   {
    "duration": 9,
    "start_time": "2021-10-23T07:22:40.194Z"
   },
   {
    "duration": 25,
    "start_time": "2021-10-23T07:22:40.205Z"
   },
   {
    "duration": 29,
    "start_time": "2021-10-23T07:22:40.232Z"
   },
   {
    "duration": 9,
    "start_time": "2021-10-23T07:22:40.264Z"
   },
   {
    "duration": 21,
    "start_time": "2021-10-23T07:22:40.276Z"
   },
   {
    "duration": 35,
    "start_time": "2021-10-23T07:22:40.300Z"
   },
   {
    "duration": 14,
    "start_time": "2021-10-23T07:22:40.337Z"
   },
   {
    "duration": 10,
    "start_time": "2021-10-23T07:22:40.353Z"
   },
   {
    "duration": 8,
    "start_time": "2021-10-23T07:22:40.366Z"
   },
   {
    "duration": 12,
    "start_time": "2021-10-23T07:22:40.376Z"
   },
   {
    "duration": 43,
    "start_time": "2021-10-23T07:22:40.390Z"
   },
   {
    "duration": 11,
    "start_time": "2021-10-23T07:22:40.436Z"
   },
   {
    "duration": 13,
    "start_time": "2021-10-23T07:22:40.449Z"
   },
   {
    "duration": 15,
    "start_time": "2021-10-23T07:22:40.464Z"
   },
   {
    "duration": 48,
    "start_time": "2021-10-23T07:22:40.481Z"
   },
   {
    "duration": 26,
    "start_time": "2021-10-23T07:22:40.531Z"
   },
   {
    "duration": 82,
    "start_time": "2021-10-23T07:22:40.559Z"
   },
   {
    "duration": 5,
    "start_time": "2021-10-23T07:22:40.643Z"
   },
   {
    "duration": 13,
    "start_time": "2021-10-23T07:22:40.650Z"
   },
   {
    "duration": 77,
    "start_time": "2021-10-23T07:22:40.666Z"
   },
   {
    "duration": 14,
    "start_time": "2021-10-23T07:22:40.746Z"
   },
   {
    "duration": 77,
    "start_time": "2021-10-23T07:22:40.762Z"
   },
   {
    "duration": 12,
    "start_time": "2021-10-23T07:22:40.842Z"
   },
   {
    "duration": 88,
    "start_time": "2021-10-23T07:22:40.856Z"
   },
   {
    "duration": 13,
    "start_time": "2021-10-23T07:22:40.946Z"
   },
   {
    "duration": 71,
    "start_time": "2021-10-23T07:22:40.961Z"
   },
   {
    "duration": 11,
    "start_time": "2021-10-23T07:22:41.035Z"
   },
   {
    "duration": 57,
    "start_time": "2021-10-23T07:22:41.049Z"
   },
   {
    "duration": 12,
    "start_time": "2021-10-23T07:22:41.130Z"
   },
   {
    "duration": 14,
    "start_time": "2021-10-23T07:22:41.144Z"
   },
   {
    "duration": 78,
    "start_time": "2021-10-23T07:22:41.160Z"
   },
   {
    "duration": 11,
    "start_time": "2021-10-23T07:22:41.241Z"
   },
   {
    "duration": 13,
    "start_time": "2021-10-23T07:22:41.254Z"
   },
   {
    "duration": 868,
    "start_time": "2021-10-23T07:34:34.638Z"
   },
   {
    "duration": 21,
    "start_time": "2021-10-23T07:34:35.510Z"
   },
   {
    "duration": 26,
    "start_time": "2021-10-23T07:34:35.535Z"
   },
   {
    "duration": 10,
    "start_time": "2021-10-23T07:34:35.565Z"
   },
   {
    "duration": 52,
    "start_time": "2021-10-23T07:34:35.579Z"
   },
   {
    "duration": 11,
    "start_time": "2021-10-23T07:34:35.634Z"
   },
   {
    "duration": 12,
    "start_time": "2021-10-23T07:34:35.648Z"
   },
   {
    "duration": 9,
    "start_time": "2021-10-23T07:34:35.666Z"
   },
   {
    "duration": 57,
    "start_time": "2021-10-23T07:34:35.679Z"
   },
   {
    "duration": 10,
    "start_time": "2021-10-23T07:34:35.739Z"
   },
   {
    "duration": 11,
    "start_time": "2021-10-23T07:34:35.752Z"
   },
   {
    "duration": 13,
    "start_time": "2021-10-23T07:34:35.766Z"
   },
   {
    "duration": 58,
    "start_time": "2021-10-23T07:34:35.782Z"
   },
   {
    "duration": 12,
    "start_time": "2021-10-23T07:34:35.843Z"
   },
   {
    "duration": 13,
    "start_time": "2021-10-23T07:34:35.857Z"
   },
   {
    "duration": 56,
    "start_time": "2021-10-23T07:34:35.873Z"
   },
   {
    "duration": 21,
    "start_time": "2021-10-23T07:34:35.932Z"
   },
   {
    "duration": 21,
    "start_time": "2021-10-23T07:34:35.956Z"
   },
   {
    "duration": 11,
    "start_time": "2021-10-23T07:34:35.979Z"
   },
   {
    "duration": 11,
    "start_time": "2021-10-23T07:34:36.029Z"
   },
   {
    "duration": 11,
    "start_time": "2021-10-23T07:34:36.043Z"
   },
   {
    "duration": 36,
    "start_time": "2021-10-23T07:34:36.056Z"
   },
   {
    "duration": 78,
    "start_time": "2021-10-23T07:34:36.099Z"
   },
   {
    "duration": 80,
    "start_time": "2021-10-23T07:34:36.181Z"
   },
   {
    "duration": 7,
    "start_time": "2021-10-23T07:34:36.264Z"
   },
   {
    "duration": 15,
    "start_time": "2021-10-23T07:34:36.274Z"
   },
   {
    "duration": 10,
    "start_time": "2021-10-23T07:34:36.291Z"
   },
   {
    "duration": 54,
    "start_time": "2021-10-23T07:34:36.330Z"
   },
   {
    "duration": 12,
    "start_time": "2021-10-23T07:34:36.386Z"
   },
   {
    "duration": 37,
    "start_time": "2021-10-23T07:34:36.400Z"
   },
   {
    "duration": 11,
    "start_time": "2021-10-23T07:34:36.440Z"
   },
   {
    "duration": 3,
    "start_time": "2021-10-23T07:34:36.453Z"
   },
   {
    "duration": 13,
    "start_time": "2021-10-23T07:34:36.459Z"
   },
   {
    "duration": 6,
    "start_time": "2021-10-23T07:34:36.475Z"
   },
   {
    "duration": 58,
    "start_time": "2021-10-23T07:34:36.483Z"
   },
   {
    "duration": 11,
    "start_time": "2021-10-23T07:34:36.544Z"
   },
   {
    "duration": 16,
    "start_time": "2021-10-23T07:34:36.557Z"
   },
   {
    "duration": 60,
    "start_time": "2021-10-23T07:34:36.575Z"
   },
   {
    "duration": 23,
    "start_time": "2021-10-23T07:34:36.638Z"
   },
   {
    "duration": 11,
    "start_time": "2021-10-23T07:34:36.664Z"
   },
   {
    "duration": 9,
    "start_time": "2021-10-23T07:34:36.677Z"
   },
   {
    "duration": 44,
    "start_time": "2021-10-23T07:34:36.688Z"
   },
   {
    "duration": 8,
    "start_time": "2021-10-23T07:34:36.734Z"
   },
   {
    "duration": 12,
    "start_time": "2021-10-23T07:34:36.744Z"
   },
   {
    "duration": 10,
    "start_time": "2021-10-23T07:34:36.758Z"
   },
   {
    "duration": 10,
    "start_time": "2021-10-23T07:34:36.771Z"
   },
   {
    "duration": 47,
    "start_time": "2021-10-23T07:34:36.783Z"
   },
   {
    "duration": 8,
    "start_time": "2021-10-23T07:34:36.832Z"
   },
   {
    "duration": 10,
    "start_time": "2021-10-23T07:34:36.843Z"
   },
   {
    "duration": 9,
    "start_time": "2021-10-23T07:34:36.856Z"
   },
   {
    "duration": 9,
    "start_time": "2021-10-23T07:34:36.867Z"
   },
   {
    "duration": 57,
    "start_time": "2021-10-23T07:34:36.879Z"
   },
   {
    "duration": 13,
    "start_time": "2021-10-23T07:34:36.938Z"
   },
   {
    "duration": 124,
    "start_time": "2021-10-23T07:34:36.954Z"
   },
   {
    "duration": 6,
    "start_time": "2021-10-23T07:34:37.080Z"
   },
   {
    "duration": 15,
    "start_time": "2021-10-23T07:34:37.088Z"
   },
   {
    "duration": 28,
    "start_time": "2021-10-23T07:34:37.106Z"
   },
   {
    "duration": 19,
    "start_time": "2021-10-23T07:34:37.136Z"
   },
   {
    "duration": 17,
    "start_time": "2021-10-23T07:34:37.158Z"
   },
   {
    "duration": 7242,
    "start_time": "2021-10-23T07:34:37.177Z"
   },
   {
    "duration": 17,
    "start_time": "2021-10-23T07:34:44.421Z"
   },
   {
    "duration": 32,
    "start_time": "2021-10-23T07:34:44.440Z"
   },
   {
    "duration": 37,
    "start_time": "2021-10-23T07:34:44.475Z"
   },
   {
    "duration": 9360,
    "start_time": "2021-10-23T07:34:44.514Z"
   },
   {
    "duration": 11,
    "start_time": "2021-10-23T07:34:53.876Z"
   },
   {
    "duration": 40,
    "start_time": "2021-10-23T07:34:53.890Z"
   },
   {
    "duration": 10,
    "start_time": "2021-10-23T07:34:53.932Z"
   },
   {
    "duration": 19,
    "start_time": "2021-10-23T07:34:53.951Z"
   },
   {
    "duration": 56,
    "start_time": "2021-10-23T07:34:53.973Z"
   },
   {
    "duration": 170,
    "start_time": "2021-10-23T07:34:54.031Z"
   },
   {
    "duration": 26,
    "start_time": "2021-10-23T07:34:54.203Z"
   },
   {
    "duration": 17,
    "start_time": "2021-10-23T07:34:54.231Z"
   },
   {
    "duration": 19,
    "start_time": "2021-10-23T07:34:54.250Z"
   },
   {
    "duration": 11,
    "start_time": "2021-10-23T07:34:54.271Z"
   },
   {
    "duration": 19,
    "start_time": "2021-10-23T07:34:54.284Z"
   },
   {
    "duration": 14,
    "start_time": "2021-10-23T07:34:54.329Z"
   },
   {
    "duration": 6,
    "start_time": "2021-10-23T07:34:54.346Z"
   },
   {
    "duration": 17,
    "start_time": "2021-10-23T07:34:54.354Z"
   },
   {
    "duration": 18,
    "start_time": "2021-10-23T07:34:54.373Z"
   },
   {
    "duration": 10,
    "start_time": "2021-10-23T07:34:54.430Z"
   },
   {
    "duration": 15,
    "start_time": "2021-10-23T07:34:54.443Z"
   },
   {
    "duration": 12,
    "start_time": "2021-10-23T07:34:54.460Z"
   },
   {
    "duration": 16,
    "start_time": "2021-10-23T07:34:54.474Z"
   },
   {
    "duration": 43,
    "start_time": "2021-10-23T07:34:54.492Z"
   },
   {
    "duration": 18459,
    "start_time": "2021-10-23T07:34:54.537Z"
   },
   {
    "duration": 10,
    "start_time": "2021-10-23T07:35:12.998Z"
   },
   {
    "duration": 26,
    "start_time": "2021-10-23T07:35:13.010Z"
   },
   {
    "duration": 29,
    "start_time": "2021-10-23T07:35:13.038Z"
   },
   {
    "duration": 9,
    "start_time": "2021-10-23T07:35:13.069Z"
   },
   {
    "duration": 55,
    "start_time": "2021-10-23T07:35:13.081Z"
   },
   {
    "duration": 11,
    "start_time": "2021-10-23T07:35:13.138Z"
   },
   {
    "duration": 11,
    "start_time": "2021-10-23T07:35:13.152Z"
   },
   {
    "duration": 11,
    "start_time": "2021-10-23T07:35:13.165Z"
   },
   {
    "duration": 52,
    "start_time": "2021-10-23T07:35:13.178Z"
   },
   {
    "duration": 12,
    "start_time": "2021-10-23T07:35:13.232Z"
   },
   {
    "duration": 13,
    "start_time": "2021-10-23T07:35:13.246Z"
   },
   {
    "duration": 10,
    "start_time": "2021-10-23T07:35:13.261Z"
   },
   {
    "duration": 10,
    "start_time": "2021-10-23T07:35:13.274Z"
   },
   {
    "duration": 47,
    "start_time": "2021-10-23T07:35:13.287Z"
   },
   {
    "duration": 10,
    "start_time": "2021-10-23T07:35:13.336Z"
   },
   {
    "duration": 26,
    "start_time": "2021-10-23T07:35:13.349Z"
   },
   {
    "duration": 96,
    "start_time": "2021-10-23T07:35:13.378Z"
   },
   {
    "duration": 5,
    "start_time": "2021-10-23T07:35:13.477Z"
   },
   {
    "duration": 14,
    "start_time": "2021-10-23T07:35:13.485Z"
   },
   {
    "duration": 81,
    "start_time": "2021-10-23T07:35:13.502Z"
   },
   {
    "duration": 17,
    "start_time": "2021-10-23T07:35:13.585Z"
   },
   {
    "duration": 76,
    "start_time": "2021-10-23T07:35:13.604Z"
   },
   {
    "duration": 11,
    "start_time": "2021-10-23T07:35:13.683Z"
   },
   {
    "duration": 86,
    "start_time": "2021-10-23T07:35:13.697Z"
   },
   {
    "duration": 13,
    "start_time": "2021-10-23T07:35:13.786Z"
   },
   {
    "duration": 76,
    "start_time": "2021-10-23T07:35:13.801Z"
   },
   {
    "duration": 11,
    "start_time": "2021-10-23T07:35:13.879Z"
   },
   {
    "duration": 80,
    "start_time": "2021-10-23T07:35:13.893Z"
   },
   {
    "duration": 12,
    "start_time": "2021-10-23T07:35:13.975Z"
   },
   {
    "duration": 12,
    "start_time": "2021-10-23T07:35:13.989Z"
   },
   {
    "duration": 77,
    "start_time": "2021-10-23T07:35:14.003Z"
   },
   {
    "duration": 11,
    "start_time": "2021-10-23T07:35:14.082Z"
   },
   {
    "duration": 36,
    "start_time": "2021-10-23T07:35:14.096Z"
   },
   {
    "duration": 979,
    "start_time": "2021-10-23T13:09:55.939Z"
   },
   {
    "duration": 23,
    "start_time": "2021-10-23T13:09:56.921Z"
   },
   {
    "duration": 29,
    "start_time": "2021-10-23T13:09:56.948Z"
   },
   {
    "duration": 10,
    "start_time": "2021-10-23T13:09:56.980Z"
   },
   {
    "duration": 47,
    "start_time": "2021-10-23T13:09:56.993Z"
   },
   {
    "duration": 14,
    "start_time": "2021-10-23T13:09:57.046Z"
   },
   {
    "duration": 13,
    "start_time": "2021-10-23T13:09:57.062Z"
   },
   {
    "duration": 11,
    "start_time": "2021-10-23T13:09:57.081Z"
   },
   {
    "duration": 21,
    "start_time": "2021-10-23T13:09:57.127Z"
   },
   {
    "duration": 13,
    "start_time": "2021-10-23T13:09:57.151Z"
   },
   {
    "duration": 15,
    "start_time": "2021-10-23T13:09:57.166Z"
   },
   {
    "duration": 47,
    "start_time": "2021-10-23T13:09:57.183Z"
   },
   {
    "duration": 21,
    "start_time": "2021-10-23T13:09:57.233Z"
   },
   {
    "duration": 8,
    "start_time": "2021-10-23T13:09:57.256Z"
   },
   {
    "duration": 12,
    "start_time": "2021-10-23T13:09:57.266Z"
   },
   {
    "duration": 61,
    "start_time": "2021-10-23T13:09:57.280Z"
   },
   {
    "duration": 24,
    "start_time": "2021-10-23T13:09:57.343Z"
   },
   {
    "duration": 22,
    "start_time": "2021-10-23T13:09:57.370Z"
   },
   {
    "duration": 17,
    "start_time": "2021-10-23T13:09:57.424Z"
   },
   {
    "duration": 15,
    "start_time": "2021-10-23T13:09:57.446Z"
   },
   {
    "duration": 13,
    "start_time": "2021-10-23T13:09:57.464Z"
   },
   {
    "duration": 96,
    "start_time": "2021-10-23T13:09:57.479Z"
   },
   {
    "duration": 82,
    "start_time": "2021-10-23T13:09:57.581Z"
   },
   {
    "duration": 76,
    "start_time": "2021-10-23T13:09:57.667Z"
   },
   {
    "duration": 15,
    "start_time": "2021-10-23T13:09:57.745Z"
   },
   {
    "duration": 17,
    "start_time": "2021-10-23T13:09:57.763Z"
   },
   {
    "duration": 10,
    "start_time": "2021-10-23T13:09:57.782Z"
   },
   {
    "duration": 73,
    "start_time": "2021-10-23T13:09:57.827Z"
   },
   {
    "duration": 46,
    "start_time": "2021-10-23T13:09:57.902Z"
   },
   {
    "duration": 21,
    "start_time": "2021-10-23T13:09:57.955Z"
   },
   {
    "duration": 15,
    "start_time": "2021-10-23T13:09:57.979Z"
   },
   {
    "duration": 5,
    "start_time": "2021-10-23T13:09:57.997Z"
   },
   {
    "duration": 19,
    "start_time": "2021-10-23T13:09:58.033Z"
   },
   {
    "duration": 7,
    "start_time": "2021-10-23T13:09:58.057Z"
   },
   {
    "duration": 26,
    "start_time": "2021-10-23T13:09:58.067Z"
   },
   {
    "duration": 4,
    "start_time": "2021-10-23T13:09:58.095Z"
   },
   {
    "duration": 23,
    "start_time": "2021-10-23T13:09:58.125Z"
   },
   {
    "duration": 39,
    "start_time": "2021-10-23T13:09:58.151Z"
   },
   {
    "duration": 52,
    "start_time": "2021-10-23T13:09:58.192Z"
   },
   {
    "duration": 18,
    "start_time": "2021-10-23T13:09:58.247Z"
   },
   {
    "duration": 9,
    "start_time": "2021-10-23T13:09:58.268Z"
   },
   {
    "duration": 57,
    "start_time": "2021-10-23T13:09:58.280Z"
   },
   {
    "duration": 15,
    "start_time": "2021-10-23T13:09:58.341Z"
   },
   {
    "duration": 15,
    "start_time": "2021-10-23T13:09:58.359Z"
   },
   {
    "duration": 5,
    "start_time": "2021-10-23T13:09:58.377Z"
   },
   {
    "duration": 46,
    "start_time": "2021-10-23T13:09:58.384Z"
   },
   {
    "duration": 16,
    "start_time": "2021-10-23T13:09:58.436Z"
   },
   {
    "duration": 6,
    "start_time": "2021-10-23T13:09:58.457Z"
   },
   {
    "duration": 15,
    "start_time": "2021-10-23T13:09:58.466Z"
   },
   {
    "duration": 49,
    "start_time": "2021-10-23T13:09:58.483Z"
   },
   {
    "duration": 19,
    "start_time": "2021-10-23T13:09:58.535Z"
   },
   {
    "duration": 14,
    "start_time": "2021-10-23T13:09:58.559Z"
   },
   {
    "duration": 15,
    "start_time": "2021-10-23T13:09:58.575Z"
   },
   {
    "duration": 149,
    "start_time": "2021-10-23T13:09:58.625Z"
   },
   {
    "duration": 6,
    "start_time": "2021-10-23T13:09:58.776Z"
   },
   {
    "duration": 30,
    "start_time": "2021-10-23T13:09:58.785Z"
   },
   {
    "duration": 22,
    "start_time": "2021-10-23T13:09:58.818Z"
   },
   {
    "duration": 25,
    "start_time": "2021-10-23T13:09:58.844Z"
   },
   {
    "duration": 19,
    "start_time": "2021-10-23T13:09:58.871Z"
   },
   {
    "duration": 9248,
    "start_time": "2021-10-23T13:09:58.892Z"
   },
   {
    "duration": 21,
    "start_time": "2021-10-23T13:10:08.143Z"
   },
   {
    "duration": 20,
    "start_time": "2021-10-23T13:10:08.166Z"
   },
   {
    "duration": 66,
    "start_time": "2021-10-23T13:10:08.188Z"
   },
   {
    "duration": 13483,
    "start_time": "2021-10-23T13:10:08.258Z"
   },
   {
    "duration": 19,
    "start_time": "2021-10-23T13:10:21.746Z"
   },
   {
    "duration": 18,
    "start_time": "2021-10-23T13:10:21.767Z"
   },
   {
    "duration": 10,
    "start_time": "2021-10-23T13:10:21.788Z"
   },
   {
    "duration": 30,
    "start_time": "2021-10-23T13:10:21.839Z"
   },
   {
    "duration": 25,
    "start_time": "2021-10-23T13:10:21.873Z"
   },
   {
    "duration": 237,
    "start_time": "2021-10-23T13:10:21.901Z"
   },
   {
    "duration": 24,
    "start_time": "2021-10-23T13:10:22.141Z"
   },
   {
    "duration": 17,
    "start_time": "2021-10-23T13:10:22.168Z"
   },
   {
    "duration": 55,
    "start_time": "2021-10-23T13:10:22.187Z"
   },
   {
    "duration": 13,
    "start_time": "2021-10-23T13:10:22.246Z"
   },
   {
    "duration": 12,
    "start_time": "2021-10-23T13:10:22.261Z"
   },
   {
    "duration": 54,
    "start_time": "2021-10-23T13:10:22.276Z"
   },
   {
    "duration": 19,
    "start_time": "2021-10-23T13:10:22.342Z"
   },
   {
    "duration": 19,
    "start_time": "2021-10-23T13:10:22.364Z"
   },
   {
    "duration": 18,
    "start_time": "2021-10-23T13:10:22.386Z"
   },
   {
    "duration": 18,
    "start_time": "2021-10-23T13:10:22.436Z"
   },
   {
    "duration": 14,
    "start_time": "2021-10-23T13:10:22.457Z"
   },
   {
    "duration": 13,
    "start_time": "2021-10-23T13:10:22.474Z"
   },
   {
    "duration": 53,
    "start_time": "2021-10-23T13:10:22.490Z"
   },
   {
    "duration": 14,
    "start_time": "2021-10-23T13:10:22.550Z"
   },
   {
    "duration": 22788,
    "start_time": "2021-10-23T13:10:22.566Z"
   },
   {
    "duration": 12,
    "start_time": "2021-10-23T13:10:45.358Z"
   },
   {
    "duration": 13,
    "start_time": "2021-10-23T13:10:45.373Z"
   },
   {
    "duration": 45,
    "start_time": "2021-10-23T13:10:45.389Z"
   },
   {
    "duration": 17,
    "start_time": "2021-10-23T13:10:45.444Z"
   },
   {
    "duration": 23,
    "start_time": "2021-10-23T13:10:45.464Z"
   },
   {
    "duration": 12,
    "start_time": "2021-10-23T13:10:45.490Z"
   },
   {
    "duration": 20,
    "start_time": "2021-10-23T13:10:45.527Z"
   },
   {
    "duration": 14,
    "start_time": "2021-10-23T13:10:45.550Z"
   },
   {
    "duration": 10,
    "start_time": "2021-10-23T13:10:45.567Z"
   },
   {
    "duration": 55,
    "start_time": "2021-10-23T13:10:45.580Z"
   },
   {
    "duration": 21,
    "start_time": "2021-10-23T13:10:45.639Z"
   },
   {
    "duration": 11,
    "start_time": "2021-10-23T13:10:45.662Z"
   },
   {
    "duration": 13,
    "start_time": "2021-10-23T13:10:45.675Z"
   },
   {
    "duration": 70,
    "start_time": "2021-10-23T13:10:45.691Z"
   },
   {
    "duration": 14,
    "start_time": "2021-10-23T13:10:45.765Z"
   },
   {
    "duration": 48,
    "start_time": "2021-10-23T13:10:45.782Z"
   },
   {
    "duration": 78,
    "start_time": "2021-10-23T13:10:45.836Z"
   },
   {
    "duration": 13,
    "start_time": "2021-10-23T13:10:45.928Z"
   },
   {
    "duration": 24,
    "start_time": "2021-10-23T13:10:45.944Z"
   },
   {
    "duration": 93,
    "start_time": "2021-10-23T13:10:45.971Z"
   },
   {
    "duration": 14,
    "start_time": "2021-10-23T13:10:46.066Z"
   },
   {
    "duration": 105,
    "start_time": "2021-10-23T13:10:46.083Z"
   },
   {
    "duration": 13,
    "start_time": "2021-10-23T13:10:46.191Z"
   },
   {
    "duration": 105,
    "start_time": "2021-10-23T13:10:46.207Z"
   },
   {
    "duration": 26,
    "start_time": "2021-10-23T13:10:46.314Z"
   },
   {
    "duration": 94,
    "start_time": "2021-10-23T13:10:46.343Z"
   },
   {
    "duration": 17,
    "start_time": "2021-10-23T13:10:46.441Z"
   },
   {
    "duration": 104,
    "start_time": "2021-10-23T13:10:46.462Z"
   },
   {
    "duration": 12,
    "start_time": "2021-10-23T13:10:46.568Z"
   },
   {
    "duration": 43,
    "start_time": "2021-10-23T13:10:46.583Z"
   },
   {
    "duration": 68,
    "start_time": "2021-10-23T13:10:46.640Z"
   },
   {
    "duration": 28,
    "start_time": "2021-10-23T13:10:46.710Z"
   },
   {
    "duration": 18,
    "start_time": "2021-10-23T13:10:46.742Z"
   },
   {
    "duration": 95,
    "start_time": "2021-10-23T13:32:11.964Z"
   },
   {
    "duration": 95,
    "start_time": "2021-10-23T13:33:40.866Z"
   },
   {
    "duration": 23,
    "start_time": "2021-10-23T13:33:40.964Z"
   },
   {
    "duration": 47,
    "start_time": "2021-10-23T13:33:40.991Z"
   },
   {
    "duration": 11,
    "start_time": "2021-10-23T13:33:41.042Z"
   },
   {
    "duration": 10,
    "start_time": "2021-10-23T13:33:41.056Z"
   },
   {
    "duration": 12,
    "start_time": "2021-10-23T13:33:41.069Z"
   },
   {
    "duration": 47,
    "start_time": "2021-10-23T13:33:41.083Z"
   },
   {
    "duration": 11,
    "start_time": "2021-10-23T13:33:41.172Z"
   },
   {
    "duration": 11,
    "start_time": "2021-10-23T13:33:41.186Z"
   },
   {
    "duration": 23,
    "start_time": "2021-10-23T13:33:41.200Z"
   },
   {
    "duration": 12,
    "start_time": "2021-10-23T13:33:41.226Z"
   },
   {
    "duration": 21,
    "start_time": "2021-10-23T13:33:41.241Z"
   },
   {
    "duration": 13,
    "start_time": "2021-10-23T13:33:41.265Z"
   },
   {
    "duration": 42,
    "start_time": "2021-10-23T13:33:41.280Z"
   },
   {
    "duration": 11,
    "start_time": "2021-10-23T13:33:41.325Z"
   },
   {
    "duration": 18,
    "start_time": "2021-10-23T13:33:41.339Z"
   },
   {
    "duration": 16,
    "start_time": "2021-10-23T13:33:41.360Z"
   },
   {
    "duration": 60,
    "start_time": "2021-10-23T13:33:41.378Z"
   },
   {
    "duration": 28,
    "start_time": "2021-10-23T13:33:41.440Z"
   },
   {
    "duration": 28,
    "start_time": "2021-10-23T13:33:41.470Z"
   },
   {
    "duration": 28,
    "start_time": "2021-10-23T13:33:41.500Z"
   },
   {
    "duration": 58,
    "start_time": "2021-10-23T13:33:41.531Z"
   },
   {
    "duration": 75,
    "start_time": "2021-10-23T13:33:41.592Z"
   },
   {
    "duration": 79,
    "start_time": "2021-10-23T13:33:41.670Z"
   },
   {
    "duration": 8,
    "start_time": "2021-10-23T13:33:41.751Z"
   },
   {
    "duration": 21,
    "start_time": "2021-10-23T13:33:41.761Z"
   },
   {
    "duration": 42,
    "start_time": "2021-10-23T13:33:41.784Z"
   },
   {
    "duration": 57,
    "start_time": "2021-10-23T13:33:41.828Z"
   },
   {
    "duration": 36,
    "start_time": "2021-10-23T13:33:41.888Z"
   },
   {
    "duration": 16,
    "start_time": "2021-10-23T13:33:41.927Z"
   },
   {
    "duration": 18,
    "start_time": "2021-10-23T13:33:41.946Z"
   },
   {
    "duration": 5,
    "start_time": "2021-10-23T13:33:41.967Z"
   },
   {
    "duration": 51,
    "start_time": "2021-10-23T13:33:41.974Z"
   },
   {
    "duration": 9,
    "start_time": "2021-10-23T13:33:42.030Z"
   },
   {
    "duration": 39,
    "start_time": "2021-10-23T13:33:42.042Z"
   },
   {
    "duration": 22,
    "start_time": "2021-10-23T13:33:54.661Z"
   },
   {
    "duration": 7,
    "start_time": "2021-10-23T13:36:15.177Z"
   },
   {
    "duration": 30,
    "start_time": "2021-10-23T13:36:47.482Z"
   },
   {
    "duration": 20,
    "start_time": "2021-10-23T13:36:55.958Z"
   },
   {
    "duration": 838,
    "start_time": "2021-10-23T13:46:02.929Z"
   },
   {
    "duration": 22,
    "start_time": "2021-10-23T13:46:03.770Z"
   },
   {
    "duration": 44,
    "start_time": "2021-10-23T13:46:03.795Z"
   },
   {
    "duration": 9,
    "start_time": "2021-10-23T13:46:03.842Z"
   },
   {
    "duration": 21,
    "start_time": "2021-10-23T13:46:03.853Z"
   },
   {
    "duration": 22,
    "start_time": "2021-10-23T13:46:03.876Z"
   },
   {
    "duration": 21,
    "start_time": "2021-10-23T13:46:03.901Z"
   },
   {
    "duration": 16,
    "start_time": "2021-10-23T13:46:03.925Z"
   },
   {
    "duration": 22,
    "start_time": "2021-10-23T13:46:03.944Z"
   },
   {
    "duration": 18,
    "start_time": "2021-10-23T13:46:03.969Z"
   },
   {
    "duration": 14,
    "start_time": "2021-10-23T13:46:03.989Z"
   },
   {
    "duration": 19,
    "start_time": "2021-10-23T13:46:04.006Z"
   },
   {
    "duration": 28,
    "start_time": "2021-10-23T13:46:04.027Z"
   },
   {
    "duration": 7,
    "start_time": "2021-10-23T13:46:04.058Z"
   },
   {
    "duration": 13,
    "start_time": "2021-10-23T13:46:04.068Z"
   },
   {
    "duration": 18,
    "start_time": "2021-10-23T13:46:04.083Z"
   },
   {
    "duration": 33,
    "start_time": "2021-10-23T13:46:04.103Z"
   },
   {
    "duration": 23,
    "start_time": "2021-10-23T13:46:04.138Z"
   },
   {
    "duration": 16,
    "start_time": "2021-10-23T13:46:04.163Z"
   },
   {
    "duration": 48,
    "start_time": "2021-10-23T13:46:04.181Z"
   },
   {
    "duration": 12,
    "start_time": "2021-10-23T13:46:04.231Z"
   },
   {
    "duration": 38,
    "start_time": "2021-10-23T13:46:04.245Z"
   },
   {
    "duration": 44,
    "start_time": "2021-10-23T13:46:04.325Z"
   },
   {
    "duration": 68,
    "start_time": "2021-10-23T13:46:04.373Z"
   },
   {
    "duration": 8,
    "start_time": "2021-10-23T13:46:04.444Z"
   },
   {
    "duration": 12,
    "start_time": "2021-10-23T13:46:04.455Z"
   },
   {
    "duration": 10,
    "start_time": "2021-10-23T13:46:04.470Z"
   },
   {
    "duration": 44,
    "start_time": "2021-10-23T13:46:04.522Z"
   },
   {
    "duration": 9,
    "start_time": "2021-10-23T13:46:04.569Z"
   },
   {
    "duration": 44,
    "start_time": "2021-10-23T13:46:04.581Z"
   },
   {
    "duration": 12,
    "start_time": "2021-10-23T13:46:04.628Z"
   },
   {
    "duration": 4,
    "start_time": "2021-10-23T13:46:04.642Z"
   },
   {
    "duration": 14,
    "start_time": "2021-10-23T13:46:04.648Z"
   },
   {
    "duration": 6,
    "start_time": "2021-10-23T13:46:04.664Z"
   },
   {
    "duration": 59,
    "start_time": "2021-10-23T13:46:04.672Z"
   },
   {
    "duration": 21,
    "start_time": "2021-10-23T13:46:04.733Z"
   },
   {
    "duration": 19,
    "start_time": "2021-10-23T13:46:04.757Z"
   },
   {
    "duration": 3,
    "start_time": "2021-10-23T13:46:04.778Z"
   },
   {
    "duration": 11,
    "start_time": "2021-10-23T13:46:04.822Z"
   },
   {
    "duration": 38,
    "start_time": "2021-10-23T13:46:04.835Z"
   },
   {
    "duration": 12,
    "start_time": "2021-10-23T13:46:04.875Z"
   },
   {
    "duration": 39,
    "start_time": "2021-10-23T13:46:04.889Z"
   },
   {
    "duration": 10,
    "start_time": "2021-10-23T13:46:04.930Z"
   },
   {
    "duration": 15,
    "start_time": "2021-10-23T13:46:04.943Z"
   },
   {
    "duration": 11,
    "start_time": "2021-10-23T13:46:04.961Z"
   },
   {
    "duration": 59,
    "start_time": "2021-10-23T13:46:04.976Z"
   },
   {
    "duration": 9,
    "start_time": "2021-10-23T13:46:05.038Z"
   },
   {
    "duration": 11,
    "start_time": "2021-10-23T13:46:05.049Z"
   },
   {
    "duration": 9,
    "start_time": "2021-10-23T13:46:05.063Z"
   },
   {
    "duration": 49,
    "start_time": "2021-10-23T13:46:05.075Z"
   },
   {
    "duration": 11,
    "start_time": "2021-10-23T13:46:05.127Z"
   },
   {
    "duration": 10,
    "start_time": "2021-10-23T13:46:05.140Z"
   },
   {
    "duration": 10,
    "start_time": "2021-10-23T13:46:05.152Z"
   },
   {
    "duration": 60,
    "start_time": "2021-10-23T13:46:05.164Z"
   },
   {
    "duration": 15,
    "start_time": "2021-10-23T13:46:05.226Z"
   },
   {
    "duration": 117,
    "start_time": "2021-10-23T13:46:05.243Z"
   },
   {
    "duration": 7,
    "start_time": "2021-10-23T13:46:05.362Z"
   },
   {
    "duration": 17,
    "start_time": "2021-10-23T13:46:05.372Z"
   },
   {
    "duration": 32,
    "start_time": "2021-10-23T13:46:05.392Z"
   },
   {
    "duration": 19,
    "start_time": "2021-10-23T13:46:05.426Z"
   },
   {
    "duration": 18,
    "start_time": "2021-10-23T13:46:05.448Z"
   },
   {
    "duration": 6338,
    "start_time": "2021-10-23T13:46:05.469Z"
   },
   {
    "duration": 17,
    "start_time": "2021-10-23T13:46:11.809Z"
   },
   {
    "duration": 19,
    "start_time": "2021-10-23T13:46:11.829Z"
   },
   {
    "duration": 23,
    "start_time": "2021-10-23T13:46:11.850Z"
   },
   {
    "duration": 8295,
    "start_time": "2021-10-23T13:46:11.876Z"
   },
   {
    "duration": 14,
    "start_time": "2021-10-23T13:46:20.173Z"
   },
   {
    "duration": 36,
    "start_time": "2021-10-23T13:46:20.196Z"
   },
   {
    "duration": 8,
    "start_time": "2021-10-23T13:46:20.235Z"
   },
   {
    "duration": 21,
    "start_time": "2021-10-23T13:46:20.246Z"
   },
   {
    "duration": 62,
    "start_time": "2021-10-23T13:46:20.270Z"
   },
   {
    "duration": 166,
    "start_time": "2021-10-23T13:46:20.335Z"
   },
   {
    "duration": 21,
    "start_time": "2021-10-23T13:46:20.504Z"
   },
   {
    "duration": 19,
    "start_time": "2021-10-23T13:46:20.528Z"
   },
   {
    "duration": 33,
    "start_time": "2021-10-23T13:46:20.551Z"
   },
   {
    "duration": 42,
    "start_time": "2021-10-23T13:46:20.587Z"
   },
   {
    "duration": 21,
    "start_time": "2021-10-23T13:46:20.633Z"
   },
   {
    "duration": 19,
    "start_time": "2021-10-23T13:46:20.657Z"
   },
   {
    "duration": 6,
    "start_time": "2021-10-23T13:46:20.679Z"
   },
   {
    "duration": 29,
    "start_time": "2021-10-23T13:46:20.738Z"
   },
   {
    "duration": 18,
    "start_time": "2021-10-23T13:46:20.770Z"
   },
   {
    "duration": 35,
    "start_time": "2021-10-23T13:46:20.791Z"
   },
   {
    "duration": 18,
    "start_time": "2021-10-23T13:46:20.829Z"
   },
   {
    "duration": 13,
    "start_time": "2021-10-23T13:46:20.850Z"
   },
   {
    "duration": 11,
    "start_time": "2021-10-23T13:46:20.866Z"
   },
   {
    "duration": 48,
    "start_time": "2021-10-23T13:46:20.880Z"
   },
   {
    "duration": 23721,
    "start_time": "2021-10-23T13:46:20.932Z"
   },
   {
    "duration": 11,
    "start_time": "2021-10-23T13:46:44.656Z"
   },
   {
    "duration": 13,
    "start_time": "2021-10-23T13:46:44.670Z"
   },
   {
    "duration": 58,
    "start_time": "2021-10-23T13:46:44.685Z"
   },
   {
    "duration": 11,
    "start_time": "2021-10-23T13:46:44.746Z"
   },
   {
    "duration": 63,
    "start_time": "2021-10-23T13:46:44.760Z"
   },
   {
    "duration": 12,
    "start_time": "2021-10-23T13:46:44.826Z"
   },
   {
    "duration": 13,
    "start_time": "2021-10-23T13:46:44.840Z"
   },
   {
    "duration": 8,
    "start_time": "2021-10-23T13:46:44.855Z"
   },
   {
    "duration": 8,
    "start_time": "2021-10-23T13:46:44.867Z"
   },
   {
    "duration": 52,
    "start_time": "2021-10-23T13:46:44.878Z"
   },
   {
    "duration": 15,
    "start_time": "2021-10-23T13:46:44.932Z"
   },
   {
    "duration": 11,
    "start_time": "2021-10-23T13:46:44.950Z"
   },
   {
    "duration": 14,
    "start_time": "2021-10-23T13:46:44.963Z"
   },
   {
    "duration": 51,
    "start_time": "2021-10-23T13:46:44.980Z"
   },
   {
    "duration": 44,
    "start_time": "2021-10-23T13:46:45.034Z"
   },
   {
    "duration": 31,
    "start_time": "2021-10-23T13:46:45.080Z"
   },
   {
    "duration": 104,
    "start_time": "2021-10-23T13:46:45.114Z"
   },
   {
    "duration": 6,
    "start_time": "2021-10-23T13:46:45.221Z"
   },
   {
    "duration": 22,
    "start_time": "2021-10-23T13:46:45.230Z"
   },
   {
    "duration": 86,
    "start_time": "2021-10-23T13:46:45.254Z"
   },
   {
    "duration": 19,
    "start_time": "2021-10-23T13:46:45.343Z"
   },
   {
    "duration": 97,
    "start_time": "2021-10-23T13:46:45.364Z"
   },
   {
    "duration": 12,
    "start_time": "2021-10-23T13:46:45.463Z"
   },
   {
    "duration": 91,
    "start_time": "2021-10-23T13:46:45.478Z"
   },
   {
    "duration": 15,
    "start_time": "2021-10-23T13:46:45.572Z"
   },
   {
    "duration": 74,
    "start_time": "2021-10-23T13:46:45.590Z"
   },
   {
    "duration": 13,
    "start_time": "2021-10-23T13:46:45.667Z"
   },
   {
    "duration": 81,
    "start_time": "2021-10-23T13:46:45.682Z"
   },
   {
    "duration": 13,
    "start_time": "2021-10-23T13:46:45.766Z"
   },
   {
    "duration": 42,
    "start_time": "2021-10-23T13:46:45.782Z"
   },
   {
    "duration": 73,
    "start_time": "2021-10-23T13:46:45.826Z"
   },
   {
    "duration": 12,
    "start_time": "2021-10-23T13:46:45.902Z"
   },
   {
    "duration": 23,
    "start_time": "2021-10-23T13:46:45.923Z"
   },
   {
    "duration": 30,
    "start_time": "2021-10-23T14:06:14.761Z"
   },
   {
    "duration": 106,
    "start_time": "2021-10-25T17:43:52.794Z"
   }
  ],
  "kernelspec": {
   "display_name": "Python 3 (ipykernel)",
   "language": "python",
   "name": "python3"
  },
  "language_info": {
   "codemirror_mode": {
    "name": "ipython",
    "version": 3
   },
   "file_extension": ".py",
   "mimetype": "text/x-python",
   "name": "python",
   "nbconvert_exporter": "python",
   "pygments_lexer": "ipython3",
   "version": "3.9.12"
  },
  "toc": {
   "base_numbering": 1,
   "nav_menu": {},
   "number_sections": true,
   "sideBar": true,
   "skip_h1_title": true,
   "title_cell": "Table of Contents",
   "title_sidebar": "Contents",
   "toc_cell": false,
   "toc_position": {},
   "toc_section_display": true,
   "toc_window_display": false
  }
 },
 "nbformat": 4,
 "nbformat_minor": 2
}
