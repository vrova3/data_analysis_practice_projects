{
 "cells": [
  {
   "cell_type": "markdown",
   "metadata": {},
   "source": [
    "<div style=\"border:solid green 2px; padding: 20px\"> <h1 style=\"color:green; margin-bottom:20px\">Reviewer's comment v1</h1>\n",
    "\n",
    "Hello Roman, my name is Dmitrii. Happy to review your project again! 🙌\n",
    "\n",
    "You can find my comments under the heading **«Review»**. I will categorize my comments in green, blue or red boxes like this:\n",
    "\n",
    "<div class=\"alert alert-success\">\n",
    "    <b>Success:</b> if everything is done successfully\n",
    "</div>\n",
    "<div class=\"alert alert-warning\">\n",
    "    <b>Remarks:</b> if I can give some recommendations or ways to improve the project\n",
    "</div>\n",
    "<div class=\"alert alert-danger\">\n",
    "    <b>Needs fixing:</b> if the block requires some corrections. Work can't be accepted with the red comments\n",
    "</div>\n",
    "\n",
    "Please don't remove my comments :) If you have any questions don't hesitate to respond to my comments in a different section. \n",
    "<div class=\"alert alert-info\"> <b>Student comments:</b> For example like this</div>    \n"
   ]
  },
  {
   "cell_type": "markdown",
   "metadata": {},
   "source": [
    "<div style=\"border:solid green 2px; padding: 20px\">\n",
    "<b>Reviewer's comment v1</b>\n",
    "    \n",
    "<b>Overall Feedback</b> \n",
    "    \n",
    "- Overall well done! I can see that a lot of effort has been made! Your project already looks really good and you accomplished impressive results.\n",
    "- No critical issues are left, so your project has been accepted. Congratulations! However, I want to send it back to you in case you have any questions along the way or you want to make additional changes to the project.\n",
    "    \n",
    "I will wait for the new version of the project. Come back soon! :)\n",
    "\n",
    "And of course, if you have any questions along the way, remember that you can always reach out to your tutor for any clarification.\n",
    "</div>"
   ]
  },
  {
   "cell_type": "markdown",
   "metadata": {},
   "source": [
    "<div class=\"alert alert-info\"> <b>Student comments:</b> Hi Dmitrii! Thank you so much for taking the time to review my project! And thanks for the helpful suggestions. I left a few comments in some sections, if you don't mind. Just couldn't dig up enough info on how to apply a method that you proposed when using datetime conversion – so if you could just give an example that would be super nice! I also tried to add some quick-and-dirty combined graphs in EDA part as you suggested. After that, I tried to apply the seaborn combined axes method just for practice – thanks for showing it to me, that looks extremely cool and I'll make sure to use it in the future. Thanks again!</div>    "
   ]
  },
  {
   "cell_type": "markdown",
   "metadata": {},
   "source": [
    "<div style=\"border:solid green 2px; padding: 20px\">\n",
    "<b>Reviewer's comment v2:</b>\n",
    "    \n",
    "<b>Overall Feedback</b> \n",
    "    \n",
    "Hi Roman, thank you for going an extra mile and improving your projects. \n",
    "- As I mentioned before, no critical issues are left, so your project has been accepted!  \n",
    "- Wish you cool projects in the next sprints! ☘️\n",
    "    \n",
    "PS: As a last thing, I can recommend cool lectures on stat analysis here: https://www.youtube.com/playlist?list=PL2SOU6wwxB0uwwH80KTQ6ht66KWxbzTIo  🙌\n",
    "\n",
    "</div>"
   ]
  },
  {
   "cell_type": "markdown",
   "metadata": {},
   "source": [
    "# Research on Megaline plans\n",
    "\n",
    "\\\n",
    "For this project, I'm an analyst at the telecom operator Megaline. Our commercial department has asked me to carry out a preliminary analysis of two plans that Megaline offers, Surf and Ultimate, based on a sample of 500 clients. The data provided to me should tell us who the clients are and where they're from, their plan subscription, the number of calls and text messages, and data volume that they have used in 2018. The department wants to know which of the two plans bring more revenue in order to adjust their advertising budget. To find out, I'm going to analyse the users' behaviour.\n",
    "\n",
    "\\\n",
    "***Description of the data***\n",
    "\n",
    "\\\n",
    "The data I need for this project comes in 5 tables:\n",
    "\n",
    "**The `users` table (data on users):**\n",
    "\n",
    "`user_id` — unique user identifier\\\n",
    "`first_name` — user's name\\\n",
    "`last_name` — user's last name\\\n",
    "`age` — user's age (years)\\\n",
    "`reg_date` — subscription date (dd, mm, yy)\\\n",
    "`churn_date` — the date the user stopped using the service (if the value is missing, the calling plan was being used when this data was retrieved)\\\n",
    "`city` — user's city of residence\\\n",
    "`plan` — calling plan name\n",
    "\n",
    "**The `calls` table (data on calls):**\n",
    "\n",
    "`id` — unique call identifier\\\n",
    "`call_date` — call date\\\n",
    "`duration` — call duration (in minutes)\\\n",
    "`user_id` — the identifier of the user making the call\n",
    "\n",
    "**The `messages` table (data on texts):**\n",
    "\n",
    "`id` — unique text message identifier\\\n",
    "`message_date` — text message date\\\n",
    "`user_id` — the identifier of the user sending the text\n",
    "\n",
    "**The `internet` table (data on web sessions):**\n",
    "\n",
    "`id` — unique session identifier\\\n",
    "`mb_used` — the volume of data spent during the session (in megabytes)\\\n",
    "`session_date` — web session date\\\n",
    "`user_id` — user identifier\n",
    "\n",
    "**The `plans` table (data on the plans):**\n",
    "\n",
    "`plan_name` — calling plan name\\\n",
    "`usd_monthly_fee` — monthly charge in US dollars\\\n",
    "`minutes_included` — monthly minute allowance\\\n",
    "`messages_included` — monthly text allowance\\\n",
    "`mb_per_month_included` — data volume allowance (in megabytes)\\\n",
    "`usd_per_minute` — price per minute after exceeding the package limits (e.g., if the package includes 100 minutes, the 101st minute will be charged)\\\n",
    "`usd_per_message` — price per text after exceeding the package limits\\\n",
    "`usd_per_gb` — price per extra gigabyte of data after exceeding the package limits (1 GB = 1024 megabytes)\n",
    "\n",
    "**Differences between plans**:\n",
    "\n",
    "`Surf`:\\\n",
    "Monthly charge: 20 usd\\\n",
    "500 monthly minutes, 50 texts, and 15 GB of data\\\n",
    "After exceeding the package limits:\\\n",
    "- 1 minute: 3 cents\n",
    "- 1 text message: 3 cents\n",
    "- 1 GB of data: 10 usd\n",
    "\n",
    "`Ultimate`:\\\n",
    "Monthly charge: 70 usd\\\n",
    "3000 monthly minutes, 1000 text messages, and 30 GB of data\\\n",
    "After exceeding the package limits:\\\n",
    "- 1 minute: 1 cent\n",
    "- 1 text message: 1 cent\n",
    "- 1 GB of data: 7 usd\n",
    "\n",
    "\\\n",
    "***Project outline***\n",
    "\n",
    "\\\n",
    "I'm going to carry out the project in several steps:\n",
    "\n",
    "**Step 1: study the data in the files**\n",
    "\n",
    "I will read the data in each table to get an understaning of what I'm dealing with.\n",
    "\n",
    "**Step 2: prepare and preprocess the data**\n",
    "\n",
    "Here I'll need to convert the data to more fitting data types where appropriate and look for possible errors in it and decide how to deal with them. Furthermore, for each user I will need to find:\n",
    "\n",
    "- the number of calls made and minutes used per month\n",
    "- the number of text messages sent per month\n",
    "- the volume of data used per month\n",
    "- the revenue for each user per month\n",
    "\n",
    "**Step 3: analyse the data**\n",
    "\n",
    "Next I will look at the differences in client behaviour depending on their plan. Specifically, I'm going to study the differences between their monthly usage of minutes, texts and data. This will involve looking at statistical variations between them and studying their distributions.\n",
    "\n",
    "**Step 4: hypothesis testing**\n",
    "\n",
    "For our final step, I will test the following two hypothesis:\n",
    "\n",
    "- that there is a difference in average revenue for users of Surf and Ultimate\n",
    "- that there is a difference in average revenue for users from NY-NJ area and for users from other areas\n",
    "\n",
    "**Step 5: overall conclusion**\n",
    "\n",
    "For the final-final step, I will reflect back on the findings and write a conclusion, in which I will also make some suggestions based on our results."
   ]
  },
  {
   "cell_type": "markdown",
   "metadata": {},
   "source": [
    "<div class=\"alert alert-block alert-success\">\n",
    "<b>Reviewer's comment v1</b>\n",
    " \n",
    "Great that you added additional information about the project goal and tasks."
   ]
  },
  {
   "cell_type": "markdown",
   "metadata": {},
   "source": [
    "## Open the data files and study the general information"
   ]
  },
  {
   "cell_type": "code",
   "execution_count": 1,
   "metadata": {},
   "outputs": [],
   "source": [
    "import pandas as pd\n",
    "import numpy as np\n",
    "import matplotlib.pyplot as plt\n",
    "import seaborn as sns\n",
    "from scipy import stats as st"
   ]
  },
  {
   "cell_type": "code",
   "execution_count": 2,
   "metadata": {},
   "outputs": [
    {
     "name": "stdout",
     "output_type": "stream",
     "text": [
      "Requirement already satisfied: seaborn in /Users/rv/opt/anaconda3/lib/python3.9/site-packages (0.11.2)\n",
      "Collecting seaborn\n",
      "  Downloading seaborn-0.12.0-py3-none-any.whl (285 kB)\n",
      "\u001b[K     |████████████████████████████████| 285 kB 922 kB/s eta 0:00:01\n",
      "\u001b[?25hRequirement already satisfied: numpy>=1.17 in /Users/rv/opt/anaconda3/lib/python3.9/site-packages (from seaborn) (1.21.5)\n",
      "Requirement already satisfied: matplotlib>=3.1 in /Users/rv/opt/anaconda3/lib/python3.9/site-packages (from seaborn) (3.5.1)\n",
      "Requirement already satisfied: pandas>=0.25 in /Users/rv/opt/anaconda3/lib/python3.9/site-packages (from seaborn) (1.4.2)\n",
      "Requirement already satisfied: fonttools>=4.22.0 in /Users/rv/opt/anaconda3/lib/python3.9/site-packages (from matplotlib>=3.1->seaborn) (4.25.0)\n",
      "Requirement already satisfied: pyparsing>=2.2.1 in /Users/rv/opt/anaconda3/lib/python3.9/site-packages (from matplotlib>=3.1->seaborn) (3.0.4)\n",
      "Requirement already satisfied: packaging>=20.0 in /Users/rv/opt/anaconda3/lib/python3.9/site-packages (from matplotlib>=3.1->seaborn) (21.3)\n",
      "Requirement already satisfied: kiwisolver>=1.0.1 in /Users/rv/opt/anaconda3/lib/python3.9/site-packages (from matplotlib>=3.1->seaborn) (1.3.2)\n",
      "Requirement already satisfied: python-dateutil>=2.7 in /Users/rv/opt/anaconda3/lib/python3.9/site-packages (from matplotlib>=3.1->seaborn) (2.8.2)\n",
      "Requirement already satisfied: cycler>=0.10 in /Users/rv/opt/anaconda3/lib/python3.9/site-packages (from matplotlib>=3.1->seaborn) (0.11.0)\n",
      "Requirement already satisfied: pillow>=6.2.0 in /Users/rv/opt/anaconda3/lib/python3.9/site-packages (from matplotlib>=3.1->seaborn) (9.0.1)\n",
      "Requirement already satisfied: pytz>=2020.1 in /Users/rv/opt/anaconda3/lib/python3.9/site-packages (from pandas>=0.25->seaborn) (2021.3)\n",
      "Requirement already satisfied: six>=1.5 in /Users/rv/opt/anaconda3/lib/python3.9/site-packages (from python-dateutil>=2.7->matplotlib>=3.1->seaborn) (1.16.0)\n",
      "Installing collected packages: seaborn\n",
      "  Attempting uninstall: seaborn\n",
      "    Found existing installation: seaborn 0.11.2\n",
      "    Uninstalling seaborn-0.11.2:\n",
      "      Successfully uninstalled seaborn-0.11.2\n",
      "Successfully installed seaborn-0.12.0\n",
      "Note: you may need to restart the kernel to use updated packages.\n"
     ]
    }
   ],
   "source": [
    "pip install -U seaborn"
   ]
  },
  {
   "cell_type": "markdown",
   "metadata": {},
   "source": [
    "The above ☝️libraries should be enough to get us going. Now let's load up all the five tables we got and take a look at them one by one."
   ]
  },
  {
   "cell_type": "code",
   "execution_count": 3,
   "metadata": {},
   "outputs": [],
   "source": [
    "users = pd.read_csv('/Users/rv/Desktop/practice_datasets/megaline_datasets/megaline_users.csv')\n",
    "calls = pd.read_csv('/Users/rv/Desktop/practice_datasets/megaline_datasets/megaline_calls.csv')\n",
    "messages = pd.read_csv('/Users/rv/Desktop/practice_datasets/megaline_datasets/megaline_messages.csv')\n",
    "internet = pd.read_csv('/Users/rv/Desktop/practice_datasets/megaline_datasets/megaline_internet.csv')\n",
    "plans = pd.read_csv('/Users/rv/Desktop/practice_datasets/megaline_datasets/megaline_plans.csv')"
   ]
  },
  {
   "cell_type": "markdown",
   "metadata": {},
   "source": [
    "So we have all of our tables in place. Let's look at them one by one."
   ]
  },
  {
   "cell_type": "markdown",
   "metadata": {},
   "source": [
    "### Users"
   ]
  },
  {
   "cell_type": "code",
   "execution_count": 4,
   "metadata": {},
   "outputs": [
    {
     "data": {
      "text/html": [
       "<div>\n",
       "<style scoped>\n",
       "    .dataframe tbody tr th:only-of-type {\n",
       "        vertical-align: middle;\n",
       "    }\n",
       "\n",
       "    .dataframe tbody tr th {\n",
       "        vertical-align: top;\n",
       "    }\n",
       "\n",
       "    .dataframe thead th {\n",
       "        text-align: right;\n",
       "    }\n",
       "</style>\n",
       "<table border=\"1\" class=\"dataframe\">\n",
       "  <thead>\n",
       "    <tr style=\"text-align: right;\">\n",
       "      <th></th>\n",
       "      <th>user_id</th>\n",
       "      <th>first_name</th>\n",
       "      <th>last_name</th>\n",
       "      <th>age</th>\n",
       "      <th>city</th>\n",
       "      <th>reg_date</th>\n",
       "      <th>plan</th>\n",
       "      <th>churn_date</th>\n",
       "    </tr>\n",
       "  </thead>\n",
       "  <tbody>\n",
       "    <tr>\n",
       "      <th>0</th>\n",
       "      <td>1000</td>\n",
       "      <td>Anamaria</td>\n",
       "      <td>Bauer</td>\n",
       "      <td>45</td>\n",
       "      <td>Atlanta-Sandy Springs-Roswell, GA MSA</td>\n",
       "      <td>2018-12-24</td>\n",
       "      <td>ultimate</td>\n",
       "      <td>NaN</td>\n",
       "    </tr>\n",
       "    <tr>\n",
       "      <th>1</th>\n",
       "      <td>1001</td>\n",
       "      <td>Mickey</td>\n",
       "      <td>Wilkerson</td>\n",
       "      <td>28</td>\n",
       "      <td>Seattle-Tacoma-Bellevue, WA MSA</td>\n",
       "      <td>2018-08-13</td>\n",
       "      <td>surf</td>\n",
       "      <td>NaN</td>\n",
       "    </tr>\n",
       "    <tr>\n",
       "      <th>2</th>\n",
       "      <td>1002</td>\n",
       "      <td>Carlee</td>\n",
       "      <td>Hoffman</td>\n",
       "      <td>36</td>\n",
       "      <td>Las Vegas-Henderson-Paradise, NV MSA</td>\n",
       "      <td>2018-10-21</td>\n",
       "      <td>surf</td>\n",
       "      <td>NaN</td>\n",
       "    </tr>\n",
       "    <tr>\n",
       "      <th>3</th>\n",
       "      <td>1003</td>\n",
       "      <td>Reynaldo</td>\n",
       "      <td>Jenkins</td>\n",
       "      <td>52</td>\n",
       "      <td>Tulsa, OK MSA</td>\n",
       "      <td>2018-01-28</td>\n",
       "      <td>surf</td>\n",
       "      <td>NaN</td>\n",
       "    </tr>\n",
       "    <tr>\n",
       "      <th>4</th>\n",
       "      <td>1004</td>\n",
       "      <td>Leonila</td>\n",
       "      <td>Thompson</td>\n",
       "      <td>40</td>\n",
       "      <td>Seattle-Tacoma-Bellevue, WA MSA</td>\n",
       "      <td>2018-05-23</td>\n",
       "      <td>surf</td>\n",
       "      <td>NaN</td>\n",
       "    </tr>\n",
       "    <tr>\n",
       "      <th>5</th>\n",
       "      <td>1005</td>\n",
       "      <td>Livia</td>\n",
       "      <td>Shields</td>\n",
       "      <td>31</td>\n",
       "      <td>Dallas-Fort Worth-Arlington, TX MSA</td>\n",
       "      <td>2018-11-29</td>\n",
       "      <td>surf</td>\n",
       "      <td>NaN</td>\n",
       "    </tr>\n",
       "    <tr>\n",
       "      <th>6</th>\n",
       "      <td>1006</td>\n",
       "      <td>Jesusa</td>\n",
       "      <td>Bradford</td>\n",
       "      <td>73</td>\n",
       "      <td>San Francisco-Oakland-Berkeley, CA MSA</td>\n",
       "      <td>2018-11-27</td>\n",
       "      <td>ultimate</td>\n",
       "      <td>2018-12-18</td>\n",
       "    </tr>\n",
       "    <tr>\n",
       "      <th>7</th>\n",
       "      <td>1007</td>\n",
       "      <td>Eusebio</td>\n",
       "      <td>Welch</td>\n",
       "      <td>42</td>\n",
       "      <td>Grand Rapids-Kentwood, MI MSA</td>\n",
       "      <td>2018-07-11</td>\n",
       "      <td>surf</td>\n",
       "      <td>NaN</td>\n",
       "    </tr>\n",
       "    <tr>\n",
       "      <th>8</th>\n",
       "      <td>1008</td>\n",
       "      <td>Emely</td>\n",
       "      <td>Hoffman</td>\n",
       "      <td>53</td>\n",
       "      <td>Orlando-Kissimmee-Sanford, FL MSA</td>\n",
       "      <td>2018-08-03</td>\n",
       "      <td>ultimate</td>\n",
       "      <td>NaN</td>\n",
       "    </tr>\n",
       "    <tr>\n",
       "      <th>9</th>\n",
       "      <td>1009</td>\n",
       "      <td>Gerry</td>\n",
       "      <td>Little</td>\n",
       "      <td>19</td>\n",
       "      <td>San Jose-Sunnyvale-Santa Clara, CA MSA</td>\n",
       "      <td>2018-04-22</td>\n",
       "      <td>surf</td>\n",
       "      <td>NaN</td>\n",
       "    </tr>\n",
       "  </tbody>\n",
       "</table>\n",
       "</div>"
      ],
      "text/plain": [
       "   user_id first_name  last_name  age                                    city  \\\n",
       "0     1000   Anamaria      Bauer   45   Atlanta-Sandy Springs-Roswell, GA MSA   \n",
       "1     1001     Mickey  Wilkerson   28         Seattle-Tacoma-Bellevue, WA MSA   \n",
       "2     1002     Carlee    Hoffman   36    Las Vegas-Henderson-Paradise, NV MSA   \n",
       "3     1003   Reynaldo    Jenkins   52                           Tulsa, OK MSA   \n",
       "4     1004    Leonila   Thompson   40         Seattle-Tacoma-Bellevue, WA MSA   \n",
       "5     1005      Livia    Shields   31     Dallas-Fort Worth-Arlington, TX MSA   \n",
       "6     1006     Jesusa   Bradford   73  San Francisco-Oakland-Berkeley, CA MSA   \n",
       "7     1007    Eusebio      Welch   42           Grand Rapids-Kentwood, MI MSA   \n",
       "8     1008      Emely    Hoffman   53       Orlando-Kissimmee-Sanford, FL MSA   \n",
       "9     1009      Gerry     Little   19  San Jose-Sunnyvale-Santa Clara, CA MSA   \n",
       "\n",
       "     reg_date      plan  churn_date  \n",
       "0  2018-12-24  ultimate         NaN  \n",
       "1  2018-08-13      surf         NaN  \n",
       "2  2018-10-21      surf         NaN  \n",
       "3  2018-01-28      surf         NaN  \n",
       "4  2018-05-23      surf         NaN  \n",
       "5  2018-11-29      surf         NaN  \n",
       "6  2018-11-27  ultimate  2018-12-18  \n",
       "7  2018-07-11      surf         NaN  \n",
       "8  2018-08-03  ultimate         NaN  \n",
       "9  2018-04-22      surf         NaN  "
      ]
     },
     "execution_count": 4,
     "metadata": {},
     "output_type": "execute_result"
    }
   ],
   "source": [
    "users.head(10)"
   ]
  },
  {
   "cell_type": "markdown",
   "metadata": {},
   "source": [
    "We can already see a bit of a problem there with Jesusa Bradfort from San Francisco – she's only signed up with us at the end of November and had decided to drop out 2,5 weeks later, not even clocking in a full month. We should keep this case in mind when deciding which data to keep in Step 2.\n",
    "\n",
    "Other than that, it looks nice and neat. We should have data on exactly 500 users, so let's check that:"
   ]
  },
  {
   "cell_type": "code",
   "execution_count": 5,
   "metadata": {},
   "outputs": [
    {
     "data": {
      "text/plain": [
       "500"
      ]
     },
     "execution_count": 5,
     "metadata": {},
     "output_type": "execute_result"
    }
   ],
   "source": [
    "len(users['user_id'].unique())"
   ]
  },
  {
   "cell_type": "markdown",
   "metadata": {},
   "source": [
    "OK, good to know from the start that our sample size checks out (and doesn't contain any dupes). Now let's see the stats for the age of our users and the rest of the entries that are not quantitative:"
   ]
  },
  {
   "cell_type": "code",
   "execution_count": 6,
   "metadata": {},
   "outputs": [
    {
     "data": {
      "text/plain": [
       "count    500.000000\n",
       "mean      45.486000\n",
       "std       16.972269\n",
       "min       18.000000\n",
       "25%       30.000000\n",
       "50%       46.000000\n",
       "75%       61.000000\n",
       "max       75.000000\n",
       "Name: age, dtype: float64"
      ]
     },
     "execution_count": 6,
     "metadata": {},
     "output_type": "execute_result"
    }
   ],
   "source": [
    "users['age'].describe()"
   ]
  },
  {
   "cell_type": "markdown",
   "metadata": {},
   "source": [
    "Nice to see that age seems to be sensibly distributed with no outliers. However we can also see that our sample only includes ages above 18, and I could imagine that the group of users aged above 75 could be considered statistically insignificant, but the group under 18, on the other hand, could be quite sizeable, so maybe it's not the best idea to exclude them when alazying revenue streams. But this is just a side-thought."
   ]
  },
  {
   "cell_type": "code",
   "execution_count": 7,
   "metadata": {},
   "outputs": [
    {
     "data": {
      "text/plain": [
       "0"
      ]
     },
     "execution_count": 7,
     "metadata": {},
     "output_type": "execute_result"
    }
   ],
   "source": [
    "users['age'].isnull().sum()"
   ]
  },
  {
   "cell_type": "code",
   "execution_count": 8,
   "metadata": {},
   "outputs": [
    {
     "data": {
      "text/html": [
       "<div>\n",
       "<style scoped>\n",
       "    .dataframe tbody tr th:only-of-type {\n",
       "        vertical-align: middle;\n",
       "    }\n",
       "\n",
       "    .dataframe tbody tr th {\n",
       "        vertical-align: top;\n",
       "    }\n",
       "\n",
       "    .dataframe thead th {\n",
       "        text-align: right;\n",
       "    }\n",
       "</style>\n",
       "<table border=\"1\" class=\"dataframe\">\n",
       "  <thead>\n",
       "    <tr style=\"text-align: right;\">\n",
       "      <th></th>\n",
       "      <th>count</th>\n",
       "      <th>unique</th>\n",
       "      <th>top</th>\n",
       "      <th>freq</th>\n",
       "    </tr>\n",
       "  </thead>\n",
       "  <tbody>\n",
       "    <tr>\n",
       "      <th>first_name</th>\n",
       "      <td>500</td>\n",
       "      <td>458</td>\n",
       "      <td>Leonila</td>\n",
       "      <td>3</td>\n",
       "    </tr>\n",
       "    <tr>\n",
       "      <th>last_name</th>\n",
       "      <td>500</td>\n",
       "      <td>399</td>\n",
       "      <td>David</td>\n",
       "      <td>3</td>\n",
       "    </tr>\n",
       "    <tr>\n",
       "      <th>city</th>\n",
       "      <td>500</td>\n",
       "      <td>73</td>\n",
       "      <td>New York-Newark-Jersey City, NY-NJ-PA MSA</td>\n",
       "      <td>80</td>\n",
       "    </tr>\n",
       "    <tr>\n",
       "      <th>reg_date</th>\n",
       "      <td>500</td>\n",
       "      <td>266</td>\n",
       "      <td>2018-03-08</td>\n",
       "      <td>5</td>\n",
       "    </tr>\n",
       "    <tr>\n",
       "      <th>plan</th>\n",
       "      <td>500</td>\n",
       "      <td>2</td>\n",
       "      <td>surf</td>\n",
       "      <td>339</td>\n",
       "    </tr>\n",
       "    <tr>\n",
       "      <th>churn_date</th>\n",
       "      <td>34</td>\n",
       "      <td>29</td>\n",
       "      <td>2018-12-18</td>\n",
       "      <td>3</td>\n",
       "    </tr>\n",
       "  </tbody>\n",
       "</table>\n",
       "</div>"
      ],
      "text/plain": [
       "           count unique                                        top freq\n",
       "first_name   500    458                                    Leonila    3\n",
       "last_name    500    399                                      David    3\n",
       "city         500     73  New York-Newark-Jersey City, NY-NJ-PA MSA   80\n",
       "reg_date     500    266                                 2018-03-08    5\n",
       "plan         500      2                                       surf  339\n",
       "churn_date    34     29                                 2018-12-18    3"
      ]
     },
     "execution_count": 8,
     "metadata": {},
     "output_type": "execute_result"
    }
   ],
   "source": [
    "users.describe(include = 'object').T"
   ]
  },
  {
   "cell_type": "markdown",
   "metadata": {},
   "source": [
    "Wow, I always thought that surnames should tend to be more unique than first names, but it looks the other way around according to our sample! You live - you learn. \n",
    "\n",
    "We can see that there are a total of 73 cities, with NY-NJ area actually being the largest as per share of users (80 clients). \n",
    "\n",
    "And we see that there are 266 unique registration dates – that makes sense since we have data spanning one year, with the latest entry from the end of November. That also makes sense if we want to look at data for customers who have been on the plan for at least one month since we're analysing and comparing monthly revenue. (This is why we should not forget about Ms. Bradford from San Francisco). UPD – I realized this is the most frequent date, not the latest, my bad! We'll need to look into the dates once we get to changing the data types (it'll make it easier to study their distribution and perform calculations).\n",
    "\n",
    "On that note – we can see that the aren't that many entries for people quitting our plans, which is probably a good thing, but we should take a closer look at it in Step 2. As of now, I'm leaning towards keeping all customers regardless of whether they drop the plan quickly or not. After all, churn rate is a very normal thing for services such as telecom – people might be travelling (the data is for 2018), moving; a share of them might just be opting out for a cheaper service they found elsewhere. Considering that we take in the monthly charge regardless, this still goes toward our revenue.\n",
    "\n",
    "As for plan - we also see only two unique values which are of course Ultimate and Surf: this means that there are no hidden duplicate entries which is good."
   ]
  },
  {
   "cell_type": "markdown",
   "metadata": {},
   "source": [
    "Lastly, let's just look at the info() to see which datatypes we have there:"
   ]
  },
  {
   "cell_type": "code",
   "execution_count": 9,
   "metadata": {},
   "outputs": [
    {
     "name": "stdout",
     "output_type": "stream",
     "text": [
      "<class 'pandas.core.frame.DataFrame'>\n",
      "RangeIndex: 500 entries, 0 to 499\n",
      "Data columns (total 8 columns):\n",
      " #   Column      Non-Null Count  Dtype \n",
      "---  ------      --------------  ----- \n",
      " 0   user_id     500 non-null    int64 \n",
      " 1   first_name  500 non-null    object\n",
      " 2   last_name   500 non-null    object\n",
      " 3   age         500 non-null    int64 \n",
      " 4   city        500 non-null    object\n",
      " 5   reg_date    500 non-null    object\n",
      " 6   plan        500 non-null    object\n",
      " 7   churn_date  34 non-null     object\n",
      "dtypes: int64(2), object(6)\n",
      "memory usage: 31.4+ KB\n"
     ]
    }
   ],
   "source": [
    "users.info()"
   ]
  },
  {
   "cell_type": "markdown",
   "metadata": {},
   "source": [
    "And just like that, we see that we have no missing values in this table, which is helpful. All the data types seem fitting, only we might consider changing reg_date and churn_date to datetime later in order to perform calculations like figuring out how many clients have been with us for less than a month."
   ]
  },
  {
   "cell_type": "markdown",
   "metadata": {},
   "source": [
    "Let's move on to calls:"
   ]
  },
  {
   "cell_type": "markdown",
   "metadata": {},
   "source": [
    "### Calls"
   ]
  },
  {
   "cell_type": "code",
   "execution_count": 10,
   "metadata": {},
   "outputs": [
    {
     "data": {
      "text/html": [
       "<div>\n",
       "<style scoped>\n",
       "    .dataframe tbody tr th:only-of-type {\n",
       "        vertical-align: middle;\n",
       "    }\n",
       "\n",
       "    .dataframe tbody tr th {\n",
       "        vertical-align: top;\n",
       "    }\n",
       "\n",
       "    .dataframe thead th {\n",
       "        text-align: right;\n",
       "    }\n",
       "</style>\n",
       "<table border=\"1\" class=\"dataframe\">\n",
       "  <thead>\n",
       "    <tr style=\"text-align: right;\">\n",
       "      <th></th>\n",
       "      <th>id</th>\n",
       "      <th>user_id</th>\n",
       "      <th>call_date</th>\n",
       "      <th>duration</th>\n",
       "    </tr>\n",
       "  </thead>\n",
       "  <tbody>\n",
       "    <tr>\n",
       "      <th>0</th>\n",
       "      <td>1000_93</td>\n",
       "      <td>1000</td>\n",
       "      <td>2018-12-27</td>\n",
       "      <td>8.52</td>\n",
       "    </tr>\n",
       "    <tr>\n",
       "      <th>1</th>\n",
       "      <td>1000_145</td>\n",
       "      <td>1000</td>\n",
       "      <td>2018-12-27</td>\n",
       "      <td>13.66</td>\n",
       "    </tr>\n",
       "    <tr>\n",
       "      <th>2</th>\n",
       "      <td>1000_247</td>\n",
       "      <td>1000</td>\n",
       "      <td>2018-12-27</td>\n",
       "      <td>14.48</td>\n",
       "    </tr>\n",
       "    <tr>\n",
       "      <th>3</th>\n",
       "      <td>1000_309</td>\n",
       "      <td>1000</td>\n",
       "      <td>2018-12-28</td>\n",
       "      <td>5.76</td>\n",
       "    </tr>\n",
       "    <tr>\n",
       "      <th>4</th>\n",
       "      <td>1000_380</td>\n",
       "      <td>1000</td>\n",
       "      <td>2018-12-30</td>\n",
       "      <td>4.22</td>\n",
       "    </tr>\n",
       "    <tr>\n",
       "      <th>5</th>\n",
       "      <td>1000_388</td>\n",
       "      <td>1000</td>\n",
       "      <td>2018-12-31</td>\n",
       "      <td>2.20</td>\n",
       "    </tr>\n",
       "    <tr>\n",
       "      <th>6</th>\n",
       "      <td>1000_510</td>\n",
       "      <td>1000</td>\n",
       "      <td>2018-12-27</td>\n",
       "      <td>5.75</td>\n",
       "    </tr>\n",
       "    <tr>\n",
       "      <th>7</th>\n",
       "      <td>1000_521</td>\n",
       "      <td>1000</td>\n",
       "      <td>2018-12-28</td>\n",
       "      <td>14.18</td>\n",
       "    </tr>\n",
       "    <tr>\n",
       "      <th>8</th>\n",
       "      <td>1000_530</td>\n",
       "      <td>1000</td>\n",
       "      <td>2018-12-28</td>\n",
       "      <td>5.77</td>\n",
       "    </tr>\n",
       "    <tr>\n",
       "      <th>9</th>\n",
       "      <td>1000_544</td>\n",
       "      <td>1000</td>\n",
       "      <td>2018-12-26</td>\n",
       "      <td>4.40</td>\n",
       "    </tr>\n",
       "  </tbody>\n",
       "</table>\n",
       "</div>"
      ],
      "text/plain": [
       "         id  user_id   call_date  duration\n",
       "0   1000_93     1000  2018-12-27      8.52\n",
       "1  1000_145     1000  2018-12-27     13.66\n",
       "2  1000_247     1000  2018-12-27     14.48\n",
       "3  1000_309     1000  2018-12-28      5.76\n",
       "4  1000_380     1000  2018-12-30      4.22\n",
       "5  1000_388     1000  2018-12-31      2.20\n",
       "6  1000_510     1000  2018-12-27      5.75\n",
       "7  1000_521     1000  2018-12-28     14.18\n",
       "8  1000_530     1000  2018-12-28      5.77\n",
       "9  1000_544     1000  2018-12-26      4.40"
      ]
     },
     "execution_count": 10,
     "metadata": {},
     "output_type": "execute_result"
    }
   ],
   "source": [
    "calls.head(10)"
   ]
  },
  {
   "cell_type": "markdown",
   "metadata": {},
   "source": [
    "So these are just the calls, supposedly for all of our users, with a separate call_id for each call. Let's look at info"
   ]
  },
  {
   "cell_type": "code",
   "execution_count": 11,
   "metadata": {},
   "outputs": [
    {
     "name": "stdout",
     "output_type": "stream",
     "text": [
      "<class 'pandas.core.frame.DataFrame'>\n",
      "RangeIndex: 137735 entries, 0 to 137734\n",
      "Data columns (total 4 columns):\n",
      " #   Column     Non-Null Count   Dtype  \n",
      "---  ------     --------------   -----  \n",
      " 0   id         137735 non-null  object \n",
      " 1   user_id    137735 non-null  int64  \n",
      " 2   call_date  137735 non-null  object \n",
      " 3   duration   137735 non-null  float64\n",
      "dtypes: float64(1), int64(1), object(2)\n",
      "memory usage: 4.2+ MB\n"
     ]
    }
   ],
   "source": [
    "calls.info()"
   ]
  },
  {
   "cell_type": "markdown",
   "metadata": {},
   "source": [
    "Quite a lot of calls! And no null entries (good!). The datatypes in this case seem to make sense, except that in Step 2 we'll have to round up the values for minutes (as well as for data used in the internet table), at which point we might as well change the float type to int."
   ]
  },
  {
   "cell_type": "code",
   "execution_count": 12,
   "metadata": {},
   "outputs": [
    {
     "data": {
      "text/plain": [
       "0"
      ]
     },
     "execution_count": 12,
     "metadata": {},
     "output_type": "execute_result"
    }
   ],
   "source": [
    "calls.duplicated().sum()"
   ]
  },
  {
   "cell_type": "markdown",
   "metadata": {},
   "source": [
    "And no dupe entries!"
   ]
  },
  {
   "cell_type": "code",
   "execution_count": 13,
   "metadata": {},
   "outputs": [
    {
     "data": {
      "text/html": [
       "<div>\n",
       "<style scoped>\n",
       "    .dataframe tbody tr th:only-of-type {\n",
       "        vertical-align: middle;\n",
       "    }\n",
       "\n",
       "    .dataframe tbody tr th {\n",
       "        vertical-align: top;\n",
       "    }\n",
       "\n",
       "    .dataframe thead th {\n",
       "        text-align: right;\n",
       "    }\n",
       "</style>\n",
       "<table border=\"1\" class=\"dataframe\">\n",
       "  <thead>\n",
       "    <tr style=\"text-align: right;\">\n",
       "      <th></th>\n",
       "      <th>count</th>\n",
       "      <th>mean</th>\n",
       "      <th>std</th>\n",
       "      <th>min</th>\n",
       "      <th>25%</th>\n",
       "      <th>50%</th>\n",
       "      <th>75%</th>\n",
       "      <th>max</th>\n",
       "    </tr>\n",
       "  </thead>\n",
       "  <tbody>\n",
       "    <tr>\n",
       "      <th>user_id</th>\n",
       "      <td>137735.0</td>\n",
       "      <td>1247.658046</td>\n",
       "      <td>139.416268</td>\n",
       "      <td>1000.0</td>\n",
       "      <td>1128.00</td>\n",
       "      <td>1247.00</td>\n",
       "      <td>1365.00</td>\n",
       "      <td>1499.0</td>\n",
       "    </tr>\n",
       "    <tr>\n",
       "      <th>duration</th>\n",
       "      <td>137735.0</td>\n",
       "      <td>6.745927</td>\n",
       "      <td>5.839241</td>\n",
       "      <td>0.0</td>\n",
       "      <td>1.29</td>\n",
       "      <td>5.98</td>\n",
       "      <td>10.69</td>\n",
       "      <td>37.6</td>\n",
       "    </tr>\n",
       "  </tbody>\n",
       "</table>\n",
       "</div>"
      ],
      "text/plain": [
       "             count         mean         std     min      25%      50%  \\\n",
       "user_id   137735.0  1247.658046  139.416268  1000.0  1128.00  1247.00   \n",
       "duration  137735.0     6.745927    5.839241     0.0     1.29     5.98   \n",
       "\n",
       "              75%     max  \n",
       "user_id   1365.00  1499.0  \n",
       "duration    10.69    37.6  "
      ]
     },
     "execution_count": 13,
     "metadata": {},
     "output_type": "execute_result"
    }
   ],
   "source": [
    "calls.describe().T"
   ]
  },
  {
   "cell_type": "markdown",
   "metadata": {},
   "source": [
    "OK, a hint of something to come: we have suspect zero values in minutes which are complete zero, meaning less than one second. As per our company's rules, we provide a set amount of minutes for each plan per month, and we have separate charges for when the plan limits are exceeded. But we only count the minutes if the call lasts for at least one second: if it's a complete zero, it means that it couldn't be a hang-up or smth like that, this must be when a call was attempted and it got logged as an outgoing call, but likely didn't connect due the recipient's line being busy or them being unavailable or some other reason (or turning down the call without picking it up first). Otherwise if it would be even just a fraction of a second, we would see it:"
   ]
  },
  {
   "cell_type": "code",
   "execution_count": 14,
   "metadata": {},
   "outputs": [
    {
     "data": {
      "text/html": [
       "<div>\n",
       "<style scoped>\n",
       "    .dataframe tbody tr th:only-of-type {\n",
       "        vertical-align: middle;\n",
       "    }\n",
       "\n",
       "    .dataframe tbody tr th {\n",
       "        vertical-align: top;\n",
       "    }\n",
       "\n",
       "    .dataframe thead th {\n",
       "        text-align: right;\n",
       "    }\n",
       "</style>\n",
       "<table border=\"1\" class=\"dataframe\">\n",
       "  <thead>\n",
       "    <tr style=\"text-align: right;\">\n",
       "      <th></th>\n",
       "      <th>id</th>\n",
       "      <th>user_id</th>\n",
       "      <th>call_date</th>\n",
       "      <th>duration</th>\n",
       "    </tr>\n",
       "  </thead>\n",
       "  <tbody>\n",
       "    <tr>\n",
       "      <th>1697</th>\n",
       "      <td>1009_119</td>\n",
       "      <td>1009</td>\n",
       "      <td>2018-11-27</td>\n",
       "      <td>0.01</td>\n",
       "    </tr>\n",
       "    <tr>\n",
       "      <th>3354</th>\n",
       "      <td>1011_207</td>\n",
       "      <td>1011</td>\n",
       "      <td>2018-11-26</td>\n",
       "      <td>0.01</td>\n",
       "    </tr>\n",
       "    <tr>\n",
       "      <th>7806</th>\n",
       "      <td>1036_398</td>\n",
       "      <td>1036</td>\n",
       "      <td>2018-10-11</td>\n",
       "      <td>0.01</td>\n",
       "    </tr>\n",
       "    <tr>\n",
       "      <th>12532</th>\n",
       "      <td>1054_259</td>\n",
       "      <td>1054</td>\n",
       "      <td>2018-12-14</td>\n",
       "      <td>0.01</td>\n",
       "    </tr>\n",
       "    <tr>\n",
       "      <th>15975</th>\n",
       "      <td>1062_215</td>\n",
       "      <td>1062</td>\n",
       "      <td>2018-05-16</td>\n",
       "      <td>0.01</td>\n",
       "    </tr>\n",
       "    <tr>\n",
       "      <th>20230</th>\n",
       "      <td>1077_197</td>\n",
       "      <td>1077</td>\n",
       "      <td>2018-08-23</td>\n",
       "      <td>0.01</td>\n",
       "    </tr>\n",
       "    <tr>\n",
       "      <th>24754</th>\n",
       "      <td>1095_56</td>\n",
       "      <td>1095</td>\n",
       "      <td>2018-07-25</td>\n",
       "      <td>0.01</td>\n",
       "    </tr>\n",
       "    <tr>\n",
       "      <th>26879</th>\n",
       "      <td>1101_206</td>\n",
       "      <td>1101</td>\n",
       "      <td>2018-06-19</td>\n",
       "      <td>0.01</td>\n",
       "    </tr>\n",
       "    <tr>\n",
       "      <th>29577</th>\n",
       "      <td>1112_102</td>\n",
       "      <td>1112</td>\n",
       "      <td>2018-11-11</td>\n",
       "      <td>0.01</td>\n",
       "    </tr>\n",
       "    <tr>\n",
       "      <th>32092</th>\n",
       "      <td>1120_538</td>\n",
       "      <td>1120</td>\n",
       "      <td>2018-11-09</td>\n",
       "      <td>0.01</td>\n",
       "    </tr>\n",
       "    <tr>\n",
       "      <th>32137</th>\n",
       "      <td>1120_596</td>\n",
       "      <td>1120</td>\n",
       "      <td>2018-09-11</td>\n",
       "      <td>0.01</td>\n",
       "    </tr>\n",
       "    <tr>\n",
       "      <th>32610</th>\n",
       "      <td>1122_448</td>\n",
       "      <td>1122</td>\n",
       "      <td>2018-07-29</td>\n",
       "      <td>0.01</td>\n",
       "    </tr>\n",
       "    <tr>\n",
       "      <th>32991</th>\n",
       "      <td>1123_349</td>\n",
       "      <td>1123</td>\n",
       "      <td>2018-09-24</td>\n",
       "      <td>0.01</td>\n",
       "    </tr>\n",
       "    <tr>\n",
       "      <th>42446</th>\n",
       "      <td>1156_51</td>\n",
       "      <td>1156</td>\n",
       "      <td>2018-11-28</td>\n",
       "      <td>0.01</td>\n",
       "    </tr>\n",
       "    <tr>\n",
       "      <th>42465</th>\n",
       "      <td>1156_70</td>\n",
       "      <td>1156</td>\n",
       "      <td>2018-05-19</td>\n",
       "      <td>0.01</td>\n",
       "    </tr>\n",
       "    <tr>\n",
       "      <th>43218</th>\n",
       "      <td>1157_247</td>\n",
       "      <td>1157</td>\n",
       "      <td>2018-12-23</td>\n",
       "      <td>0.01</td>\n",
       "    </tr>\n",
       "    <tr>\n",
       "      <th>55469</th>\n",
       "      <td>1198_213</td>\n",
       "      <td>1198</td>\n",
       "      <td>2018-11-03</td>\n",
       "      <td>0.01</td>\n",
       "    </tr>\n",
       "    <tr>\n",
       "      <th>55499</th>\n",
       "      <td>1199_42</td>\n",
       "      <td>1199</td>\n",
       "      <td>2018-12-17</td>\n",
       "      <td>0.01</td>\n",
       "    </tr>\n",
       "    <tr>\n",
       "      <th>58582</th>\n",
       "      <td>1211_191</td>\n",
       "      <td>1211</td>\n",
       "      <td>2018-11-15</td>\n",
       "      <td>0.01</td>\n",
       "    </tr>\n",
       "    <tr>\n",
       "      <th>59743</th>\n",
       "      <td>1215_128</td>\n",
       "      <td>1215</td>\n",
       "      <td>2018-09-27</td>\n",
       "      <td>0.01</td>\n",
       "    </tr>\n",
       "    <tr>\n",
       "      <th>62869</th>\n",
       "      <td>1226_268</td>\n",
       "      <td>1226</td>\n",
       "      <td>2018-12-06</td>\n",
       "      <td>0.01</td>\n",
       "    </tr>\n",
       "    <tr>\n",
       "      <th>63501</th>\n",
       "      <td>1231_215</td>\n",
       "      <td>1231</td>\n",
       "      <td>2018-06-12</td>\n",
       "      <td>0.01</td>\n",
       "    </tr>\n",
       "    <tr>\n",
       "      <th>65519</th>\n",
       "      <td>1237_126</td>\n",
       "      <td>1237</td>\n",
       "      <td>2018-12-25</td>\n",
       "      <td>0.01</td>\n",
       "    </tr>\n",
       "    <tr>\n",
       "      <th>66278</th>\n",
       "      <td>1240_136</td>\n",
       "      <td>1240</td>\n",
       "      <td>2018-09-05</td>\n",
       "      <td>0.01</td>\n",
       "    </tr>\n",
       "    <tr>\n",
       "      <th>69941</th>\n",
       "      <td>1250_171</td>\n",
       "      <td>1250</td>\n",
       "      <td>2018-12-16</td>\n",
       "      <td>0.01</td>\n",
       "    </tr>\n",
       "    <tr>\n",
       "      <th>70503</th>\n",
       "      <td>1251_514</td>\n",
       "      <td>1251</td>\n",
       "      <td>2018-07-16</td>\n",
       "      <td>0.01</td>\n",
       "    </tr>\n",
       "    <tr>\n",
       "      <th>70912</th>\n",
       "      <td>1252_311</td>\n",
       "      <td>1252</td>\n",
       "      <td>2018-11-07</td>\n",
       "      <td>0.01</td>\n",
       "    </tr>\n",
       "    <tr>\n",
       "      <th>74076</th>\n",
       "      <td>1263_60</td>\n",
       "      <td>1263</td>\n",
       "      <td>2018-09-21</td>\n",
       "      <td>0.01</td>\n",
       "    </tr>\n",
       "    <tr>\n",
       "      <th>74910</th>\n",
       "      <td>1264_204</td>\n",
       "      <td>1264</td>\n",
       "      <td>2018-11-15</td>\n",
       "      <td>0.01</td>\n",
       "    </tr>\n",
       "    <tr>\n",
       "      <th>80617</th>\n",
       "      <td>1291_217</td>\n",
       "      <td>1291</td>\n",
       "      <td>2018-11-30</td>\n",
       "      <td>0.01</td>\n",
       "    </tr>\n",
       "    <tr>\n",
       "      <th>81723</th>\n",
       "      <td>1294_73</td>\n",
       "      <td>1294</td>\n",
       "      <td>2018-10-08</td>\n",
       "      <td>0.01</td>\n",
       "    </tr>\n",
       "    <tr>\n",
       "      <th>84983</th>\n",
       "      <td>1312_475</td>\n",
       "      <td>1312</td>\n",
       "      <td>2018-09-16</td>\n",
       "      <td>0.01</td>\n",
       "    </tr>\n",
       "    <tr>\n",
       "      <th>96228</th>\n",
       "      <td>1341_243</td>\n",
       "      <td>1341</td>\n",
       "      <td>2018-12-17</td>\n",
       "      <td>0.01</td>\n",
       "    </tr>\n",
       "    <tr>\n",
       "      <th>100122</th>\n",
       "      <td>1358_601</td>\n",
       "      <td>1358</td>\n",
       "      <td>2018-08-13</td>\n",
       "      <td>0.01</td>\n",
       "    </tr>\n",
       "    <tr>\n",
       "      <th>103146</th>\n",
       "      <td>1365_342</td>\n",
       "      <td>1365</td>\n",
       "      <td>2018-07-25</td>\n",
       "      <td>0.01</td>\n",
       "    </tr>\n",
       "    <tr>\n",
       "      <th>104313</th>\n",
       "      <td>1367_196</td>\n",
       "      <td>1367</td>\n",
       "      <td>2018-09-09</td>\n",
       "      <td>0.01</td>\n",
       "    </tr>\n",
       "    <tr>\n",
       "      <th>104834</th>\n",
       "      <td>1368_562</td>\n",
       "      <td>1368</td>\n",
       "      <td>2018-06-06</td>\n",
       "      <td>0.01</td>\n",
       "    </tr>\n",
       "    <tr>\n",
       "      <th>106185</th>\n",
       "      <td>1374_281</td>\n",
       "      <td>1374</td>\n",
       "      <td>2018-08-23</td>\n",
       "      <td>0.01</td>\n",
       "    </tr>\n",
       "    <tr>\n",
       "      <th>108536</th>\n",
       "      <td>1383_112</td>\n",
       "      <td>1383</td>\n",
       "      <td>2018-12-16</td>\n",
       "      <td>0.01</td>\n",
       "    </tr>\n",
       "    <tr>\n",
       "      <th>109194</th>\n",
       "      <td>1385_264</td>\n",
       "      <td>1385</td>\n",
       "      <td>2018-04-19</td>\n",
       "      <td>0.01</td>\n",
       "    </tr>\n",
       "    <tr>\n",
       "      <th>114189</th>\n",
       "      <td>1400_539</td>\n",
       "      <td>1400</td>\n",
       "      <td>2018-12-24</td>\n",
       "      <td>0.01</td>\n",
       "    </tr>\n",
       "    <tr>\n",
       "      <th>114624</th>\n",
       "      <td>1401_431</td>\n",
       "      <td>1401</td>\n",
       "      <td>2018-10-26</td>\n",
       "      <td>0.01</td>\n",
       "    </tr>\n",
       "    <tr>\n",
       "      <th>114950</th>\n",
       "      <td>1403_24</td>\n",
       "      <td>1403</td>\n",
       "      <td>2018-06-21</td>\n",
       "      <td>0.01</td>\n",
       "    </tr>\n",
       "    <tr>\n",
       "      <th>119513</th>\n",
       "      <td>1416_137</td>\n",
       "      <td>1416</td>\n",
       "      <td>2018-12-24</td>\n",
       "      <td>0.01</td>\n",
       "    </tr>\n",
       "    <tr>\n",
       "      <th>121710</th>\n",
       "      <td>1428_87</td>\n",
       "      <td>1428</td>\n",
       "      <td>2018-11-20</td>\n",
       "      <td>0.01</td>\n",
       "    </tr>\n",
       "    <tr>\n",
       "      <th>122366</th>\n",
       "      <td>1432_216</td>\n",
       "      <td>1432</td>\n",
       "      <td>2018-12-16</td>\n",
       "      <td>0.01</td>\n",
       "    </tr>\n",
       "    <tr>\n",
       "      <th>125164</th>\n",
       "      <td>1441_48</td>\n",
       "      <td>1441</td>\n",
       "      <td>2018-12-20</td>\n",
       "      <td>0.01</td>\n",
       "    </tr>\n",
       "    <tr>\n",
       "      <th>126624</th>\n",
       "      <td>1451_24</td>\n",
       "      <td>1451</td>\n",
       "      <td>2018-11-03</td>\n",
       "      <td>0.01</td>\n",
       "    </tr>\n",
       "    <tr>\n",
       "      <th>126820</th>\n",
       "      <td>1451_220</td>\n",
       "      <td>1451</td>\n",
       "      <td>2018-11-14</td>\n",
       "      <td>0.01</td>\n",
       "    </tr>\n",
       "    <tr>\n",
       "      <th>127521</th>\n",
       "      <td>1456_458</td>\n",
       "      <td>1456</td>\n",
       "      <td>2018-11-11</td>\n",
       "      <td>0.01</td>\n",
       "    </tr>\n",
       "    <tr>\n",
       "      <th>132528</th>\n",
       "      <td>1477_84</td>\n",
       "      <td>1477</td>\n",
       "      <td>2018-12-01</td>\n",
       "      <td>0.01</td>\n",
       "    </tr>\n",
       "  </tbody>\n",
       "</table>\n",
       "</div>"
      ],
      "text/plain": [
       "              id  user_id   call_date  duration\n",
       "1697    1009_119     1009  2018-11-27      0.01\n",
       "3354    1011_207     1011  2018-11-26      0.01\n",
       "7806    1036_398     1036  2018-10-11      0.01\n",
       "12532   1054_259     1054  2018-12-14      0.01\n",
       "15975   1062_215     1062  2018-05-16      0.01\n",
       "20230   1077_197     1077  2018-08-23      0.01\n",
       "24754    1095_56     1095  2018-07-25      0.01\n",
       "26879   1101_206     1101  2018-06-19      0.01\n",
       "29577   1112_102     1112  2018-11-11      0.01\n",
       "32092   1120_538     1120  2018-11-09      0.01\n",
       "32137   1120_596     1120  2018-09-11      0.01\n",
       "32610   1122_448     1122  2018-07-29      0.01\n",
       "32991   1123_349     1123  2018-09-24      0.01\n",
       "42446    1156_51     1156  2018-11-28      0.01\n",
       "42465    1156_70     1156  2018-05-19      0.01\n",
       "43218   1157_247     1157  2018-12-23      0.01\n",
       "55469   1198_213     1198  2018-11-03      0.01\n",
       "55499    1199_42     1199  2018-12-17      0.01\n",
       "58582   1211_191     1211  2018-11-15      0.01\n",
       "59743   1215_128     1215  2018-09-27      0.01\n",
       "62869   1226_268     1226  2018-12-06      0.01\n",
       "63501   1231_215     1231  2018-06-12      0.01\n",
       "65519   1237_126     1237  2018-12-25      0.01\n",
       "66278   1240_136     1240  2018-09-05      0.01\n",
       "69941   1250_171     1250  2018-12-16      0.01\n",
       "70503   1251_514     1251  2018-07-16      0.01\n",
       "70912   1252_311     1252  2018-11-07      0.01\n",
       "74076    1263_60     1263  2018-09-21      0.01\n",
       "74910   1264_204     1264  2018-11-15      0.01\n",
       "80617   1291_217     1291  2018-11-30      0.01\n",
       "81723    1294_73     1294  2018-10-08      0.01\n",
       "84983   1312_475     1312  2018-09-16      0.01\n",
       "96228   1341_243     1341  2018-12-17      0.01\n",
       "100122  1358_601     1358  2018-08-13      0.01\n",
       "103146  1365_342     1365  2018-07-25      0.01\n",
       "104313  1367_196     1367  2018-09-09      0.01\n",
       "104834  1368_562     1368  2018-06-06      0.01\n",
       "106185  1374_281     1374  2018-08-23      0.01\n",
       "108536  1383_112     1383  2018-12-16      0.01\n",
       "109194  1385_264     1385  2018-04-19      0.01\n",
       "114189  1400_539     1400  2018-12-24      0.01\n",
       "114624  1401_431     1401  2018-10-26      0.01\n",
       "114950   1403_24     1403  2018-06-21      0.01\n",
       "119513  1416_137     1416  2018-12-24      0.01\n",
       "121710   1428_87     1428  2018-11-20      0.01\n",
       "122366  1432_216     1432  2018-12-16      0.01\n",
       "125164   1441_48     1441  2018-12-20      0.01\n",
       "126624   1451_24     1451  2018-11-03      0.01\n",
       "126820  1451_220     1451  2018-11-14      0.01\n",
       "127521  1456_458     1456  2018-11-11      0.01\n",
       "132528   1477_84     1477  2018-12-01      0.01"
      ]
     },
     "execution_count": 14,
     "metadata": {},
     "output_type": "execute_result"
    }
   ],
   "source": [
    "calls.query('duration == 0.01')"
   ]
  },
  {
   "cell_type": "markdown",
   "metadata": {},
   "source": [
    "So my call would be to not count them as legitimate calls. But we'll have to come back to them in Step 2."
   ]
  },
  {
   "cell_type": "markdown",
   "metadata": {},
   "source": [
    "Finally, we might want to check that all of our users actually use calls..."
   ]
  },
  {
   "cell_type": "code",
   "execution_count": 15,
   "metadata": {},
   "outputs": [
    {
     "data": {
      "text/plain": [
       "481"
      ]
     },
     "execution_count": 15,
     "metadata": {},
     "output_type": "execute_result"
    }
   ],
   "source": [
    "len(calls['user_id'].unique())"
   ]
  },
  {
   "cell_type": "markdown",
   "metadata": {},
   "source": [
    "Huh! I knew there must be. I, for one, don't use mobile calls at all. It's a known trend and makes sense for many people to opt out of calls if you can call other people on messengers. That said, it's useful to keep this fact in mind when we combine our tables in future steps, and not be scared if we see some NaN values appear."
   ]
  },
  {
   "cell_type": "markdown",
   "metadata": {},
   "source": [
    "### Messages"
   ]
  },
  {
   "cell_type": "code",
   "execution_count": 16,
   "metadata": {},
   "outputs": [
    {
     "data": {
      "text/html": [
       "<div>\n",
       "<style scoped>\n",
       "    .dataframe tbody tr th:only-of-type {\n",
       "        vertical-align: middle;\n",
       "    }\n",
       "\n",
       "    .dataframe tbody tr th {\n",
       "        vertical-align: top;\n",
       "    }\n",
       "\n",
       "    .dataframe thead th {\n",
       "        text-align: right;\n",
       "    }\n",
       "</style>\n",
       "<table border=\"1\" class=\"dataframe\">\n",
       "  <thead>\n",
       "    <tr style=\"text-align: right;\">\n",
       "      <th></th>\n",
       "      <th>id</th>\n",
       "      <th>user_id</th>\n",
       "      <th>message_date</th>\n",
       "    </tr>\n",
       "  </thead>\n",
       "  <tbody>\n",
       "    <tr>\n",
       "      <th>0</th>\n",
       "      <td>1000_125</td>\n",
       "      <td>1000</td>\n",
       "      <td>2018-12-27</td>\n",
       "    </tr>\n",
       "    <tr>\n",
       "      <th>1</th>\n",
       "      <td>1000_160</td>\n",
       "      <td>1000</td>\n",
       "      <td>2018-12-31</td>\n",
       "    </tr>\n",
       "    <tr>\n",
       "      <th>2</th>\n",
       "      <td>1000_223</td>\n",
       "      <td>1000</td>\n",
       "      <td>2018-12-31</td>\n",
       "    </tr>\n",
       "    <tr>\n",
       "      <th>3</th>\n",
       "      <td>1000_251</td>\n",
       "      <td>1000</td>\n",
       "      <td>2018-12-27</td>\n",
       "    </tr>\n",
       "    <tr>\n",
       "      <th>4</th>\n",
       "      <td>1000_255</td>\n",
       "      <td>1000</td>\n",
       "      <td>2018-12-26</td>\n",
       "    </tr>\n",
       "    <tr>\n",
       "      <th>5</th>\n",
       "      <td>1000_346</td>\n",
       "      <td>1000</td>\n",
       "      <td>2018-12-29</td>\n",
       "    </tr>\n",
       "    <tr>\n",
       "      <th>6</th>\n",
       "      <td>1000_386</td>\n",
       "      <td>1000</td>\n",
       "      <td>2018-12-30</td>\n",
       "    </tr>\n",
       "    <tr>\n",
       "      <th>7</th>\n",
       "      <td>1000_413</td>\n",
       "      <td>1000</td>\n",
       "      <td>2018-12-31</td>\n",
       "    </tr>\n",
       "    <tr>\n",
       "      <th>8</th>\n",
       "      <td>1000_502</td>\n",
       "      <td>1000</td>\n",
       "      <td>2018-12-27</td>\n",
       "    </tr>\n",
       "    <tr>\n",
       "      <th>9</th>\n",
       "      <td>1000_525</td>\n",
       "      <td>1000</td>\n",
       "      <td>2018-12-28</td>\n",
       "    </tr>\n",
       "  </tbody>\n",
       "</table>\n",
       "</div>"
      ],
      "text/plain": [
       "         id  user_id message_date\n",
       "0  1000_125     1000   2018-12-27\n",
       "1  1000_160     1000   2018-12-31\n",
       "2  1000_223     1000   2018-12-31\n",
       "3  1000_251     1000   2018-12-27\n",
       "4  1000_255     1000   2018-12-26\n",
       "5  1000_346     1000   2018-12-29\n",
       "6  1000_386     1000   2018-12-30\n",
       "7  1000_413     1000   2018-12-31\n",
       "8  1000_502     1000   2018-12-27\n",
       "9  1000_525     1000   2018-12-28"
      ]
     },
     "execution_count": 16,
     "metadata": {},
     "output_type": "execute_result"
    }
   ],
   "source": [
    "messages.head(10)"
   ]
  },
  {
   "cell_type": "markdown",
   "metadata": {},
   "source": [
    "So..quite simple, we only have the date, user_id and message_id in this one."
   ]
  },
  {
   "cell_type": "code",
   "execution_count": 17,
   "metadata": {},
   "outputs": [
    {
     "name": "stdout",
     "output_type": "stream",
     "text": [
      "<class 'pandas.core.frame.DataFrame'>\n",
      "RangeIndex: 76051 entries, 0 to 76050\n",
      "Data columns (total 3 columns):\n",
      " #   Column        Non-Null Count  Dtype \n",
      "---  ------        --------------  ----- \n",
      " 0   id            76051 non-null  object\n",
      " 1   user_id       76051 non-null  int64 \n",
      " 2   message_date  76051 non-null  object\n",
      "dtypes: int64(1), object(2)\n",
      "memory usage: 1.7+ MB\n"
     ]
    }
   ],
   "source": [
    "messages.info()"
   ]
  },
  {
   "cell_type": "markdown",
   "metadata": {},
   "source": [
    "No missing values it seems, and might just want to consider, as before, changing message_date to date_time in the future in order to perform calculations and group by month."
   ]
  },
  {
   "cell_type": "markdown",
   "metadata": {},
   "source": [
    "Let's just do the same check on user_id that we did with calls."
   ]
  },
  {
   "cell_type": "code",
   "execution_count": 18,
   "metadata": {},
   "outputs": [
    {
     "data": {
      "text/plain": [
       "402"
      ]
     },
     "execution_count": 18,
     "metadata": {},
     "output_type": "execute_result"
    }
   ],
   "source": [
    "len(messages['user_id'].unique())"
   ]
  },
  {
   "cell_type": "markdown",
   "metadata": {},
   "source": [
    "Alright – even fewer people using messages, it seems, just over 80% of our sample. On the surface, this even corresponds to my subjective experience – like I might, on occasion, maybe once every two months, have to use the actual phone call when I need to contact some municipal service or some place like that that doesn't receive calls in-app or via messenger, but I'm even less likely to user mobile messages. "
   ]
  },
  {
   "cell_type": "markdown",
   "metadata": {},
   "source": [
    "### Internet"
   ]
  },
  {
   "cell_type": "code",
   "execution_count": 19,
   "metadata": {},
   "outputs": [
    {
     "data": {
      "text/html": [
       "<div>\n",
       "<style scoped>\n",
       "    .dataframe tbody tr th:only-of-type {\n",
       "        vertical-align: middle;\n",
       "    }\n",
       "\n",
       "    .dataframe tbody tr th {\n",
       "        vertical-align: top;\n",
       "    }\n",
       "\n",
       "    .dataframe thead th {\n",
       "        text-align: right;\n",
       "    }\n",
       "</style>\n",
       "<table border=\"1\" class=\"dataframe\">\n",
       "  <thead>\n",
       "    <tr style=\"text-align: right;\">\n",
       "      <th></th>\n",
       "      <th>id</th>\n",
       "      <th>user_id</th>\n",
       "      <th>session_date</th>\n",
       "      <th>mb_used</th>\n",
       "    </tr>\n",
       "  </thead>\n",
       "  <tbody>\n",
       "    <tr>\n",
       "      <th>0</th>\n",
       "      <td>1000_13</td>\n",
       "      <td>1000</td>\n",
       "      <td>2018-12-29</td>\n",
       "      <td>89.86</td>\n",
       "    </tr>\n",
       "    <tr>\n",
       "      <th>1</th>\n",
       "      <td>1000_204</td>\n",
       "      <td>1000</td>\n",
       "      <td>2018-12-31</td>\n",
       "      <td>0.00</td>\n",
       "    </tr>\n",
       "    <tr>\n",
       "      <th>2</th>\n",
       "      <td>1000_379</td>\n",
       "      <td>1000</td>\n",
       "      <td>2018-12-28</td>\n",
       "      <td>660.40</td>\n",
       "    </tr>\n",
       "    <tr>\n",
       "      <th>3</th>\n",
       "      <td>1000_413</td>\n",
       "      <td>1000</td>\n",
       "      <td>2018-12-26</td>\n",
       "      <td>270.99</td>\n",
       "    </tr>\n",
       "    <tr>\n",
       "      <th>4</th>\n",
       "      <td>1000_442</td>\n",
       "      <td>1000</td>\n",
       "      <td>2018-12-27</td>\n",
       "      <td>880.22</td>\n",
       "    </tr>\n",
       "    <tr>\n",
       "      <th>5</th>\n",
       "      <td>1001_0</td>\n",
       "      <td>1001</td>\n",
       "      <td>2018-08-24</td>\n",
       "      <td>284.68</td>\n",
       "    </tr>\n",
       "    <tr>\n",
       "      <th>6</th>\n",
       "      <td>1001_3</td>\n",
       "      <td>1001</td>\n",
       "      <td>2018-12-09</td>\n",
       "      <td>656.04</td>\n",
       "    </tr>\n",
       "    <tr>\n",
       "      <th>7</th>\n",
       "      <td>1001_4</td>\n",
       "      <td>1001</td>\n",
       "      <td>2018-11-04</td>\n",
       "      <td>16.97</td>\n",
       "    </tr>\n",
       "    <tr>\n",
       "      <th>8</th>\n",
       "      <td>1001_10</td>\n",
       "      <td>1001</td>\n",
       "      <td>2018-11-27</td>\n",
       "      <td>135.18</td>\n",
       "    </tr>\n",
       "    <tr>\n",
       "      <th>9</th>\n",
       "      <td>1001_15</td>\n",
       "      <td>1001</td>\n",
       "      <td>2018-12-13</td>\n",
       "      <td>761.92</td>\n",
       "    </tr>\n",
       "  </tbody>\n",
       "</table>\n",
       "</div>"
      ],
      "text/plain": [
       "         id  user_id session_date  mb_used\n",
       "0   1000_13     1000   2018-12-29    89.86\n",
       "1  1000_204     1000   2018-12-31     0.00\n",
       "2  1000_379     1000   2018-12-28   660.40\n",
       "3  1000_413     1000   2018-12-26   270.99\n",
       "4  1000_442     1000   2018-12-27   880.22\n",
       "5    1001_0     1001   2018-08-24   284.68\n",
       "6    1001_3     1001   2018-12-09   656.04\n",
       "7    1001_4     1001   2018-11-04    16.97\n",
       "8   1001_10     1001   2018-11-27   135.18\n",
       "9   1001_15     1001   2018-12-13   761.92"
      ]
     },
     "execution_count": 19,
     "metadata": {},
     "output_type": "execute_result"
    }
   ],
   "source": [
    "internet.head(10)"
   ]
  },
  {
   "cell_type": "markdown",
   "metadata": {},
   "source": [
    "By the looks of it, every web session means web traffic on a given day. We already see some days when it was not used, which can be explained (in the table above, we see it happen on the New Year's day, which could mean the user was on holiday, or was spending the day at home with their family, blissfully connected to their home wireless network and not wasting any mobile data)."
   ]
  },
  {
   "cell_type": "code",
   "execution_count": 20,
   "metadata": {},
   "outputs": [
    {
     "name": "stdout",
     "output_type": "stream",
     "text": [
      "<class 'pandas.core.frame.DataFrame'>\n",
      "RangeIndex: 104825 entries, 0 to 104824\n",
      "Data columns (total 4 columns):\n",
      " #   Column        Non-Null Count   Dtype  \n",
      "---  ------        --------------   -----  \n",
      " 0   id            104825 non-null  object \n",
      " 1   user_id       104825 non-null  int64  \n",
      " 2   session_date  104825 non-null  object \n",
      " 3   mb_used       104825 non-null  float64\n",
      "dtypes: float64(1), int64(1), object(2)\n",
      "memory usage: 3.2+ MB\n"
     ]
    }
   ],
   "source": [
    "internet.info()"
   ]
  },
  {
   "cell_type": "markdown",
   "metadata": {},
   "source": [
    "No missing values: good. We can later change session_date to date_time and we can change mb_used from float to int in Step 2 after we group our data by months (as per our company's guidelines, we round up the data usage by month, not by session – unlike with the calls)."
   ]
  },
  {
   "cell_type": "code",
   "execution_count": 21,
   "metadata": {},
   "outputs": [
    {
     "data": {
      "text/plain": [
       "489"
      ]
     },
     "execution_count": 21,
     "metadata": {},
     "output_type": "execute_result"
    }
   ],
   "source": [
    "len(internet['user_id'].unique())"
   ]
  },
  {
   "cell_type": "markdown",
   "metadata": {},
   "source": [
    "And we can see that actually more people from our sample use mobile internet data than use calls overall. We can study who exactly doesn't use calls/messages/internet later to see if everything checks out, but intuitively I would actually expect to see this proportion in real life."
   ]
  },
  {
   "cell_type": "markdown",
   "metadata": {},
   "source": [
    "### Plans"
   ]
  },
  {
   "cell_type": "code",
   "execution_count": 22,
   "metadata": {},
   "outputs": [
    {
     "data": {
      "text/html": [
       "<div>\n",
       "<style scoped>\n",
       "    .dataframe tbody tr th:only-of-type {\n",
       "        vertical-align: middle;\n",
       "    }\n",
       "\n",
       "    .dataframe tbody tr th {\n",
       "        vertical-align: top;\n",
       "    }\n",
       "\n",
       "    .dataframe thead th {\n",
       "        text-align: right;\n",
       "    }\n",
       "</style>\n",
       "<table border=\"1\" class=\"dataframe\">\n",
       "  <thead>\n",
       "    <tr style=\"text-align: right;\">\n",
       "      <th></th>\n",
       "      <th>messages_included</th>\n",
       "      <th>mb_per_month_included</th>\n",
       "      <th>minutes_included</th>\n",
       "      <th>usd_monthly_pay</th>\n",
       "      <th>usd_per_gb</th>\n",
       "      <th>usd_per_message</th>\n",
       "      <th>usd_per_minute</th>\n",
       "      <th>plan_name</th>\n",
       "    </tr>\n",
       "  </thead>\n",
       "  <tbody>\n",
       "    <tr>\n",
       "      <th>0</th>\n",
       "      <td>50</td>\n",
       "      <td>15360</td>\n",
       "      <td>500</td>\n",
       "      <td>20</td>\n",
       "      <td>10</td>\n",
       "      <td>0.03</td>\n",
       "      <td>0.03</td>\n",
       "      <td>surf</td>\n",
       "    </tr>\n",
       "    <tr>\n",
       "      <th>1</th>\n",
       "      <td>1000</td>\n",
       "      <td>30720</td>\n",
       "      <td>3000</td>\n",
       "      <td>70</td>\n",
       "      <td>7</td>\n",
       "      <td>0.01</td>\n",
       "      <td>0.01</td>\n",
       "      <td>ultimate</td>\n",
       "    </tr>\n",
       "  </tbody>\n",
       "</table>\n",
       "</div>"
      ],
      "text/plain": [
       "   messages_included  mb_per_month_included  minutes_included  \\\n",
       "0                 50                  15360               500   \n",
       "1               1000                  30720              3000   \n",
       "\n",
       "   usd_monthly_pay  usd_per_gb  usd_per_message  usd_per_minute plan_name  \n",
       "0               20          10             0.03            0.03      surf  \n",
       "1               70           7             0.01            0.01  ultimate  "
      ]
     },
     "execution_count": 22,
     "metadata": {},
     "output_type": "execute_result"
    }
   ],
   "source": [
    "plans"
   ]
  },
  {
   "cell_type": "markdown",
   "metadata": {},
   "source": [
    "Well, this is not really additional data, rather a description of our plans."
   ]
  },
  {
   "cell_type": "markdown",
   "metadata": {},
   "source": [
    "## Preprocessing the data"
   ]
  },
  {
   "cell_type": "markdown",
   "metadata": {},
   "source": [
    "Checkbox list for Step 2:\n",
    "\n",
    "- [x] Deal with missing values (in calls and internet)\n",
    "- [x] Round up duration in calls to minutes\n",
    "- [x] Change datatype for dates to datetime in calls, messages & internet\n",
    "- [x] Create 'month' based on dates in calls, messages & internet\n",
    "- [x] Group data in calls, messages & internet by user_id and month (for calls do sum for minutes and count for n of calls; for messages – count; for internet - sum)\n",
    "- [x] Round up mb_used to gb_used (to the ceiling value like with calls but after grouping by month)\n",
    "- [x] Merge the data in calls, messages & internet, and add data from users (their plans)\n",
    "- [x] Write a function to calculate revenue per user per month"
   ]
  },
  {
   "cell_type": "markdown",
   "metadata": {},
   "source": [
    "<div class=\"alert alert-success\">\n",
    "<b>Reviewer's comment v1:</b>\n",
    "    \n",
    "Good start and first view on data! \n",
    "I really like that you prepared a plan for the next section. "
   ]
  },
  {
   "cell_type": "markdown",
   "metadata": {},
   "source": [
    "### Missing values"
   ]
  },
  {
   "cell_type": "markdown",
   "metadata": {},
   "source": [
    "#### Calls"
   ]
  },
  {
   "cell_type": "markdown",
   "metadata": {},
   "source": [
    "So we know that we don't have standard missing values, however we encountered hidden missing values in calls (duration) and internet (mb_used). Let's deal with them first."
   ]
  },
  {
   "cell_type": "code",
   "execution_count": 23,
   "metadata": {},
   "outputs": [
    {
     "data": {
      "text/html": [
       "<div>\n",
       "<style scoped>\n",
       "    .dataframe tbody tr th:only-of-type {\n",
       "        vertical-align: middle;\n",
       "    }\n",
       "\n",
       "    .dataframe tbody tr th {\n",
       "        vertical-align: top;\n",
       "    }\n",
       "\n",
       "    .dataframe thead th {\n",
       "        text-align: right;\n",
       "    }\n",
       "</style>\n",
       "<table border=\"1\" class=\"dataframe\">\n",
       "  <thead>\n",
       "    <tr style=\"text-align: right;\">\n",
       "      <th></th>\n",
       "      <th>id</th>\n",
       "      <th>user_id</th>\n",
       "      <th>call_date</th>\n",
       "      <th>duration</th>\n",
       "    </tr>\n",
       "  </thead>\n",
       "  <tbody>\n",
       "    <tr>\n",
       "      <th>19</th>\n",
       "      <td>1001_4</td>\n",
       "      <td>1001</td>\n",
       "      <td>2018-12-05</td>\n",
       "      <td>0.0</td>\n",
       "    </tr>\n",
       "    <tr>\n",
       "      <th>25</th>\n",
       "      <td>1001_13</td>\n",
       "      <td>1001</td>\n",
       "      <td>2018-12-24</td>\n",
       "      <td>0.0</td>\n",
       "    </tr>\n",
       "    <tr>\n",
       "      <th>31</th>\n",
       "      <td>1001_30</td>\n",
       "      <td>1001</td>\n",
       "      <td>2018-10-17</td>\n",
       "      <td>0.0</td>\n",
       "    </tr>\n",
       "    <tr>\n",
       "      <th>32</th>\n",
       "      <td>1001_31</td>\n",
       "      <td>1001</td>\n",
       "      <td>2018-11-03</td>\n",
       "      <td>0.0</td>\n",
       "    </tr>\n",
       "    <tr>\n",
       "      <th>34</th>\n",
       "      <td>1001_35</td>\n",
       "      <td>1001</td>\n",
       "      <td>2018-12-21</td>\n",
       "      <td>0.0</td>\n",
       "    </tr>\n",
       "    <tr>\n",
       "      <th>39</th>\n",
       "      <td>1001_43</td>\n",
       "      <td>1001</td>\n",
       "      <td>2018-12-13</td>\n",
       "      <td>0.0</td>\n",
       "    </tr>\n",
       "    <tr>\n",
       "      <th>44</th>\n",
       "      <td>1001_52</td>\n",
       "      <td>1001</td>\n",
       "      <td>2018-11-23</td>\n",
       "      <td>0.0</td>\n",
       "    </tr>\n",
       "    <tr>\n",
       "      <th>45</th>\n",
       "      <td>1001_53</td>\n",
       "      <td>1001</td>\n",
       "      <td>2018-10-24</td>\n",
       "      <td>0.0</td>\n",
       "    </tr>\n",
       "    <tr>\n",
       "      <th>49</th>\n",
       "      <td>1001_60</td>\n",
       "      <td>1001</td>\n",
       "      <td>2018-12-16</td>\n",
       "      <td>0.0</td>\n",
       "    </tr>\n",
       "    <tr>\n",
       "      <th>61</th>\n",
       "      <td>1001_84</td>\n",
       "      <td>1001</td>\n",
       "      <td>2018-10-07</td>\n",
       "      <td>0.0</td>\n",
       "    </tr>\n",
       "    <tr>\n",
       "      <th>69</th>\n",
       "      <td>1001_98</td>\n",
       "      <td>1001</td>\n",
       "      <td>2018-11-06</td>\n",
       "      <td>0.0</td>\n",
       "    </tr>\n",
       "    <tr>\n",
       "      <th>74</th>\n",
       "      <td>1001_109</td>\n",
       "      <td>1001</td>\n",
       "      <td>2018-10-27</td>\n",
       "      <td>0.0</td>\n",
       "    </tr>\n",
       "    <tr>\n",
       "      <th>75</th>\n",
       "      <td>1001_110</td>\n",
       "      <td>1001</td>\n",
       "      <td>2018-08-16</td>\n",
       "      <td>0.0</td>\n",
       "    </tr>\n",
       "    <tr>\n",
       "      <th>76</th>\n",
       "      <td>1001_112</td>\n",
       "      <td>1001</td>\n",
       "      <td>2018-10-28</td>\n",
       "      <td>0.0</td>\n",
       "    </tr>\n",
       "    <tr>\n",
       "      <th>82</th>\n",
       "      <td>1001_129</td>\n",
       "      <td>1001</td>\n",
       "      <td>2018-09-22</td>\n",
       "      <td>0.0</td>\n",
       "    </tr>\n",
       "    <tr>\n",
       "      <th>91</th>\n",
       "      <td>1001_146</td>\n",
       "      <td>1001</td>\n",
       "      <td>2018-09-05</td>\n",
       "      <td>0.0</td>\n",
       "    </tr>\n",
       "    <tr>\n",
       "      <th>99</th>\n",
       "      <td>1001_166</td>\n",
       "      <td>1001</td>\n",
       "      <td>2018-10-16</td>\n",
       "      <td>0.0</td>\n",
       "    </tr>\n",
       "    <tr>\n",
       "      <th>101</th>\n",
       "      <td>1001_170</td>\n",
       "      <td>1001</td>\n",
       "      <td>2018-08-21</td>\n",
       "      <td>0.0</td>\n",
       "    </tr>\n",
       "    <tr>\n",
       "      <th>105</th>\n",
       "      <td>1001_177</td>\n",
       "      <td>1001</td>\n",
       "      <td>2018-09-21</td>\n",
       "      <td>0.0</td>\n",
       "    </tr>\n",
       "    <tr>\n",
       "      <th>108</th>\n",
       "      <td>1001_186</td>\n",
       "      <td>1001</td>\n",
       "      <td>2018-09-03</td>\n",
       "      <td>0.0</td>\n",
       "    </tr>\n",
       "  </tbody>\n",
       "</table>\n",
       "</div>"
      ],
      "text/plain": [
       "           id  user_id   call_date  duration\n",
       "19     1001_4     1001  2018-12-05       0.0\n",
       "25    1001_13     1001  2018-12-24       0.0\n",
       "31    1001_30     1001  2018-10-17       0.0\n",
       "32    1001_31     1001  2018-11-03       0.0\n",
       "34    1001_35     1001  2018-12-21       0.0\n",
       "39    1001_43     1001  2018-12-13       0.0\n",
       "44    1001_52     1001  2018-11-23       0.0\n",
       "45    1001_53     1001  2018-10-24       0.0\n",
       "49    1001_60     1001  2018-12-16       0.0\n",
       "61    1001_84     1001  2018-10-07       0.0\n",
       "69    1001_98     1001  2018-11-06       0.0\n",
       "74   1001_109     1001  2018-10-27       0.0\n",
       "75   1001_110     1001  2018-08-16       0.0\n",
       "76   1001_112     1001  2018-10-28       0.0\n",
       "82   1001_129     1001  2018-09-22       0.0\n",
       "91   1001_146     1001  2018-09-05       0.0\n",
       "99   1001_166     1001  2018-10-16       0.0\n",
       "101  1001_170     1001  2018-08-21       0.0\n",
       "105  1001_177     1001  2018-09-21       0.0\n",
       "108  1001_186     1001  2018-09-03       0.0"
      ]
     },
     "execution_count": 23,
     "metadata": {},
     "output_type": "execute_result"
    }
   ],
   "source": [
    "calls.query('duration == 0').head(20)"
   ]
  },
  {
   "cell_type": "markdown",
   "metadata": {},
   "source": [
    "Let's just check that they are not specific to, say, a select group of users:"
   ]
  },
  {
   "cell_type": "code",
   "execution_count": 24,
   "metadata": {},
   "outputs": [
    {
     "data": {
      "text/plain": [
       "478"
      ]
     },
     "execution_count": 24,
     "metadata": {},
     "output_type": "execute_result"
    }
   ],
   "source": [
    "len(calls.query('duration == 0')['user_id'].unique())"
   ]
  },
  {
   "cell_type": "markdown",
   "metadata": {},
   "source": [
    "Nope. Almost all the people who make calls have these. This seems to confirm my earlier assumption that these are exactly the kind of calls that happen to everybody and quite often. In fact:"
   ]
  },
  {
   "cell_type": "code",
   "execution_count": 25,
   "metadata": {},
   "outputs": [
    {
     "data": {
      "text/plain": [
       "26834"
      ]
     },
     "execution_count": 25,
     "metadata": {},
     "output_type": "execute_result"
    }
   ],
   "source": [
    "len(calls.query('duration == 0'))"
   ]
  },
  {
   "cell_type": "markdown",
   "metadata": {},
   "source": [
    "That's a lot (and quite realistic): roughly 20% of all calls. Which itself is an interesting piece of statistic."
   ]
  },
  {
   "cell_type": "markdown",
   "metadata": {},
   "source": [
    "In fact, my suggestion is the following: that we don't drop these rows, since we need to add number of calls per user (their count) as well as their minutes. Provided we only round up minutes if they are any bit above zero, and considering that minutes (not count!) per user per month is the data point relevant for our final calculations and statistical analysis of the revenue, keeping the rows with zero calls in fact won't do us any harm! And it leaves us with a fuller count of the number of calls.\n",
    "\n",
    "However it's worth keeping in mind that if the count of calls as a value were in any way relevant for our task at hand (say, if we were analysing revenue per call, not user, or looking at averages of calls for some other purpose), it could be a better call to exclude the zero calls form analysis since they could skew the data significantly. But for our purposes we need to consider that dropping 20% of rows that also contain info on data usage and message count will skew our final calculations that need to include them."
   ]
  },
  {
   "cell_type": "markdown",
   "metadata": {},
   "source": [
    "Now let us just round each call's duration up to the minutes. We can use numpy's convenient ceil function for that and apply it to the whole column at once."
   ]
  },
  {
   "cell_type": "code",
   "execution_count": 26,
   "metadata": {},
   "outputs": [],
   "source": [
    "calls['duration'] = calls['duration'].apply(np.ceil)"
   ]
  },
  {
   "cell_type": "markdown",
   "metadata": {},
   "source": [
    "<div class=\"alert alert-success\">\n",
    "<b>Reviewer's comment v1:</b>\n",
    "    \n",
    "- Ok, rounding is correct.\n",
    "\n",
    "- This function by the way also works without `apply` which makes code shorter and faster.\n",
    "\n",
    "```\n",
    "calls['duration'] = np.ceil(calls['duration'])\n",
    "```"
   ]
  },
  {
   "cell_type": "code",
   "execution_count": 27,
   "metadata": {},
   "outputs": [
    {
     "data": {
      "text/html": [
       "<div>\n",
       "<style scoped>\n",
       "    .dataframe tbody tr th:only-of-type {\n",
       "        vertical-align: middle;\n",
       "    }\n",
       "\n",
       "    .dataframe tbody tr th {\n",
       "        vertical-align: top;\n",
       "    }\n",
       "\n",
       "    .dataframe thead th {\n",
       "        text-align: right;\n",
       "    }\n",
       "</style>\n",
       "<table border=\"1\" class=\"dataframe\">\n",
       "  <thead>\n",
       "    <tr style=\"text-align: right;\">\n",
       "      <th></th>\n",
       "      <th>id</th>\n",
       "      <th>user_id</th>\n",
       "      <th>call_date</th>\n",
       "      <th>duration</th>\n",
       "    </tr>\n",
       "  </thead>\n",
       "  <tbody>\n",
       "    <tr>\n",
       "      <th>0</th>\n",
       "      <td>1000_93</td>\n",
       "      <td>1000</td>\n",
       "      <td>2018-12-27</td>\n",
       "      <td>9.0</td>\n",
       "    </tr>\n",
       "    <tr>\n",
       "      <th>1</th>\n",
       "      <td>1000_145</td>\n",
       "      <td>1000</td>\n",
       "      <td>2018-12-27</td>\n",
       "      <td>14.0</td>\n",
       "    </tr>\n",
       "    <tr>\n",
       "      <th>2</th>\n",
       "      <td>1000_247</td>\n",
       "      <td>1000</td>\n",
       "      <td>2018-12-27</td>\n",
       "      <td>15.0</td>\n",
       "    </tr>\n",
       "    <tr>\n",
       "      <th>3</th>\n",
       "      <td>1000_309</td>\n",
       "      <td>1000</td>\n",
       "      <td>2018-12-28</td>\n",
       "      <td>6.0</td>\n",
       "    </tr>\n",
       "    <tr>\n",
       "      <th>4</th>\n",
       "      <td>1000_380</td>\n",
       "      <td>1000</td>\n",
       "      <td>2018-12-30</td>\n",
       "      <td>5.0</td>\n",
       "    </tr>\n",
       "    <tr>\n",
       "      <th>5</th>\n",
       "      <td>1000_388</td>\n",
       "      <td>1000</td>\n",
       "      <td>2018-12-31</td>\n",
       "      <td>3.0</td>\n",
       "    </tr>\n",
       "    <tr>\n",
       "      <th>6</th>\n",
       "      <td>1000_510</td>\n",
       "      <td>1000</td>\n",
       "      <td>2018-12-27</td>\n",
       "      <td>6.0</td>\n",
       "    </tr>\n",
       "    <tr>\n",
       "      <th>7</th>\n",
       "      <td>1000_521</td>\n",
       "      <td>1000</td>\n",
       "      <td>2018-12-28</td>\n",
       "      <td>15.0</td>\n",
       "    </tr>\n",
       "    <tr>\n",
       "      <th>8</th>\n",
       "      <td>1000_530</td>\n",
       "      <td>1000</td>\n",
       "      <td>2018-12-28</td>\n",
       "      <td>6.0</td>\n",
       "    </tr>\n",
       "    <tr>\n",
       "      <th>9</th>\n",
       "      <td>1000_544</td>\n",
       "      <td>1000</td>\n",
       "      <td>2018-12-26</td>\n",
       "      <td>5.0</td>\n",
       "    </tr>\n",
       "  </tbody>\n",
       "</table>\n",
       "</div>"
      ],
      "text/plain": [
       "         id  user_id   call_date  duration\n",
       "0   1000_93     1000  2018-12-27       9.0\n",
       "1  1000_145     1000  2018-12-27      14.0\n",
       "2  1000_247     1000  2018-12-27      15.0\n",
       "3  1000_309     1000  2018-12-28       6.0\n",
       "4  1000_380     1000  2018-12-30       5.0\n",
       "5  1000_388     1000  2018-12-31       3.0\n",
       "6  1000_510     1000  2018-12-27       6.0\n",
       "7  1000_521     1000  2018-12-28      15.0\n",
       "8  1000_530     1000  2018-12-28       6.0\n",
       "9  1000_544     1000  2018-12-26       5.0"
      ]
     },
     "execution_count": 27,
     "metadata": {},
     "output_type": "execute_result"
    }
   ],
   "source": [
    "calls.head(10)"
   ]
  },
  {
   "cell_type": "markdown",
   "metadata": {},
   "source": [
    "Sweet! And it doesn't affect our zero calls:"
   ]
  },
  {
   "cell_type": "code",
   "execution_count": 28,
   "metadata": {},
   "outputs": [
    {
     "data": {
      "text/plain": [
       "26834"
      ]
     },
     "execution_count": 28,
     "metadata": {},
     "output_type": "execute_result"
    }
   ],
   "source": [
    "len(calls.query('duration == 0'))"
   ]
  },
  {
   "cell_type": "markdown",
   "metadata": {},
   "source": [
    "While we are here, might as well convert them to int:"
   ]
  },
  {
   "cell_type": "code",
   "execution_count": 29,
   "metadata": {},
   "outputs": [],
   "source": [
    "calls['duration'] = calls['duration'].astype(int)"
   ]
  },
  {
   "cell_type": "code",
   "execution_count": 30,
   "metadata": {},
   "outputs": [
    {
     "data": {
      "text/html": [
       "<div>\n",
       "<style scoped>\n",
       "    .dataframe tbody tr th:only-of-type {\n",
       "        vertical-align: middle;\n",
       "    }\n",
       "\n",
       "    .dataframe tbody tr th {\n",
       "        vertical-align: top;\n",
       "    }\n",
       "\n",
       "    .dataframe thead th {\n",
       "        text-align: right;\n",
       "    }\n",
       "</style>\n",
       "<table border=\"1\" class=\"dataframe\">\n",
       "  <thead>\n",
       "    <tr style=\"text-align: right;\">\n",
       "      <th></th>\n",
       "      <th>id</th>\n",
       "      <th>user_id</th>\n",
       "      <th>call_date</th>\n",
       "      <th>duration</th>\n",
       "    </tr>\n",
       "  </thead>\n",
       "  <tbody>\n",
       "    <tr>\n",
       "      <th>0</th>\n",
       "      <td>1000_93</td>\n",
       "      <td>1000</td>\n",
       "      <td>2018-12-27</td>\n",
       "      <td>9</td>\n",
       "    </tr>\n",
       "    <tr>\n",
       "      <th>1</th>\n",
       "      <td>1000_145</td>\n",
       "      <td>1000</td>\n",
       "      <td>2018-12-27</td>\n",
       "      <td>14</td>\n",
       "    </tr>\n",
       "    <tr>\n",
       "      <th>2</th>\n",
       "      <td>1000_247</td>\n",
       "      <td>1000</td>\n",
       "      <td>2018-12-27</td>\n",
       "      <td>15</td>\n",
       "    </tr>\n",
       "    <tr>\n",
       "      <th>3</th>\n",
       "      <td>1000_309</td>\n",
       "      <td>1000</td>\n",
       "      <td>2018-12-28</td>\n",
       "      <td>6</td>\n",
       "    </tr>\n",
       "    <tr>\n",
       "      <th>4</th>\n",
       "      <td>1000_380</td>\n",
       "      <td>1000</td>\n",
       "      <td>2018-12-30</td>\n",
       "      <td>5</td>\n",
       "    </tr>\n",
       "  </tbody>\n",
       "</table>\n",
       "</div>"
      ],
      "text/plain": [
       "         id  user_id   call_date  duration\n",
       "0   1000_93     1000  2018-12-27         9\n",
       "1  1000_145     1000  2018-12-27        14\n",
       "2  1000_247     1000  2018-12-27        15\n",
       "3  1000_309     1000  2018-12-28         6\n",
       "4  1000_380     1000  2018-12-30         5"
      ]
     },
     "execution_count": 30,
     "metadata": {},
     "output_type": "execute_result"
    }
   ],
   "source": [
    "calls.head()"
   ]
  },
  {
   "cell_type": "code",
   "execution_count": 31,
   "metadata": {},
   "outputs": [
    {
     "name": "stdout",
     "output_type": "stream",
     "text": [
      "<class 'pandas.core.frame.DataFrame'>\n",
      "RangeIndex: 137735 entries, 0 to 137734\n",
      "Data columns (total 4 columns):\n",
      " #   Column     Non-Null Count   Dtype \n",
      "---  ------     --------------   ----- \n",
      " 0   id         137735 non-null  object\n",
      " 1   user_id    137735 non-null  int64 \n",
      " 2   call_date  137735 non-null  object\n",
      " 3   duration   137735 non-null  int64 \n",
      "dtypes: int64(2), object(2)\n",
      "memory usage: 4.2+ MB\n"
     ]
    }
   ],
   "source": [
    "calls.info()"
   ]
  },
  {
   "cell_type": "markdown",
   "metadata": {},
   "source": [
    "Nice!"
   ]
  },
  {
   "cell_type": "markdown",
   "metadata": {},
   "source": [
    "#### Internet"
   ]
  },
  {
   "cell_type": "markdown",
   "metadata": {},
   "source": [
    "Now, in internet the column with zero data used is in mb_used:"
   ]
  },
  {
   "cell_type": "code",
   "execution_count": 32,
   "metadata": {},
   "outputs": [
    {
     "data": {
      "text/html": [
       "<div>\n",
       "<style scoped>\n",
       "    .dataframe tbody tr th:only-of-type {\n",
       "        vertical-align: middle;\n",
       "    }\n",
       "\n",
       "    .dataframe tbody tr th {\n",
       "        vertical-align: top;\n",
       "    }\n",
       "\n",
       "    .dataframe thead th {\n",
       "        text-align: right;\n",
       "    }\n",
       "</style>\n",
       "<table border=\"1\" class=\"dataframe\">\n",
       "  <thead>\n",
       "    <tr style=\"text-align: right;\">\n",
       "      <th></th>\n",
       "      <th>id</th>\n",
       "      <th>user_id</th>\n",
       "      <th>session_date</th>\n",
       "      <th>mb_used</th>\n",
       "    </tr>\n",
       "  </thead>\n",
       "  <tbody>\n",
       "    <tr>\n",
       "      <th>0</th>\n",
       "      <td>1000_13</td>\n",
       "      <td>1000</td>\n",
       "      <td>2018-12-29</td>\n",
       "      <td>89.86</td>\n",
       "    </tr>\n",
       "    <tr>\n",
       "      <th>1</th>\n",
       "      <td>1000_204</td>\n",
       "      <td>1000</td>\n",
       "      <td>2018-12-31</td>\n",
       "      <td>0.00</td>\n",
       "    </tr>\n",
       "    <tr>\n",
       "      <th>2</th>\n",
       "      <td>1000_379</td>\n",
       "      <td>1000</td>\n",
       "      <td>2018-12-28</td>\n",
       "      <td>660.40</td>\n",
       "    </tr>\n",
       "    <tr>\n",
       "      <th>3</th>\n",
       "      <td>1000_413</td>\n",
       "      <td>1000</td>\n",
       "      <td>2018-12-26</td>\n",
       "      <td>270.99</td>\n",
       "    </tr>\n",
       "    <tr>\n",
       "      <th>4</th>\n",
       "      <td>1000_442</td>\n",
       "      <td>1000</td>\n",
       "      <td>2018-12-27</td>\n",
       "      <td>880.22</td>\n",
       "    </tr>\n",
       "    <tr>\n",
       "      <th>5</th>\n",
       "      <td>1001_0</td>\n",
       "      <td>1001</td>\n",
       "      <td>2018-08-24</td>\n",
       "      <td>284.68</td>\n",
       "    </tr>\n",
       "    <tr>\n",
       "      <th>6</th>\n",
       "      <td>1001_3</td>\n",
       "      <td>1001</td>\n",
       "      <td>2018-12-09</td>\n",
       "      <td>656.04</td>\n",
       "    </tr>\n",
       "    <tr>\n",
       "      <th>7</th>\n",
       "      <td>1001_4</td>\n",
       "      <td>1001</td>\n",
       "      <td>2018-11-04</td>\n",
       "      <td>16.97</td>\n",
       "    </tr>\n",
       "    <tr>\n",
       "      <th>8</th>\n",
       "      <td>1001_10</td>\n",
       "      <td>1001</td>\n",
       "      <td>2018-11-27</td>\n",
       "      <td>135.18</td>\n",
       "    </tr>\n",
       "    <tr>\n",
       "      <th>9</th>\n",
       "      <td>1001_15</td>\n",
       "      <td>1001</td>\n",
       "      <td>2018-12-13</td>\n",
       "      <td>761.92</td>\n",
       "    </tr>\n",
       "  </tbody>\n",
       "</table>\n",
       "</div>"
      ],
      "text/plain": [
       "         id  user_id session_date  mb_used\n",
       "0   1000_13     1000   2018-12-29    89.86\n",
       "1  1000_204     1000   2018-12-31     0.00\n",
       "2  1000_379     1000   2018-12-28   660.40\n",
       "3  1000_413     1000   2018-12-26   270.99\n",
       "4  1000_442     1000   2018-12-27   880.22\n",
       "5    1001_0     1001   2018-08-24   284.68\n",
       "6    1001_3     1001   2018-12-09   656.04\n",
       "7    1001_4     1001   2018-11-04    16.97\n",
       "8   1001_10     1001   2018-11-27   135.18\n",
       "9   1001_15     1001   2018-12-13   761.92"
      ]
     },
     "execution_count": 32,
     "metadata": {},
     "output_type": "execute_result"
    }
   ],
   "source": [
    "internet.head(10)"
   ]
  },
  {
   "cell_type": "markdown",
   "metadata": {},
   "source": [
    "Let's see how many there are:"
   ]
  },
  {
   "cell_type": "code",
   "execution_count": 33,
   "metadata": {},
   "outputs": [
    {
     "data": {
      "text/plain": [
       "13747"
      ]
     },
     "execution_count": 33,
     "metadata": {},
     "output_type": "execute_result"
    }
   ],
   "source": [
    "len(internet.query('mb_used == 0'))"
   ]
  },
  {
   "cell_type": "markdown",
   "metadata": {},
   "source": [
    "Let's check that they are not an anomaly of some lucky users:"
   ]
  },
  {
   "cell_type": "code",
   "execution_count": 34,
   "metadata": {},
   "outputs": [
    {
     "data": {
      "text/plain": [
       "477"
      ]
     },
     "execution_count": 34,
     "metadata": {},
     "output_type": "execute_result"
    }
   ],
   "source": [
    "len(internet.query('mb_used == 0')['user_id'].unique())"
   ]
  },
  {
   "cell_type": "markdown",
   "metadata": {},
   "source": [
    "Nope, seems to happen to everyone. Could it be some specific date when it happened to (almost) every user for technical reasons?"
   ]
  },
  {
   "cell_type": "code",
   "execution_count": 35,
   "metadata": {},
   "outputs": [
    {
     "data": {
      "text/plain": [
       "351"
      ]
     },
     "execution_count": 35,
     "metadata": {},
     "output_type": "execute_result"
    }
   ],
   "source": [
    "len(internet['session_date'].unique())"
   ]
  },
  {
   "cell_type": "code",
   "execution_count": 36,
   "metadata": {},
   "outputs": [
    {
     "data": {
      "text/plain": [
       "339"
      ]
     },
     "execution_count": 36,
     "metadata": {},
     "output_type": "execute_result"
    }
   ],
   "source": [
    "len(internet.query('mb_used == 0')['session_date'].unique())"
   ]
  },
  {
   "cell_type": "markdown",
   "metadata": {},
   "source": [
    "Nope."
   ]
  },
  {
   "cell_type": "markdown",
   "metadata": {},
   "source": [
    "So what to do with those zero-mb sessions? I would stand by the same logic that I think is applicable to calls. Keeping these rows won't cause any harm, and it's an interesting thing to consider if we had use for it in this project. But it won't affect our analysis either way, because both Ultimate and Surf charge by GB of data used, which we'll sum up for each user per month when we'll group the data (unlike with calls, it is at that point that we will round up the mb_used values to GB). And in the process of summing up, the zeros will sort of just get lost like tears in rain..."
   ]
  },
  {
   "cell_type": "markdown",
   "metadata": {},
   "source": [
    "<div class=\"alert alert-success\">\n",
    "<b>Reviewer's comment v1:</b>\n",
    "    \n",
    "Great that you've added a solution for zero-based sessions.\n",
    "\n",
    "On a real project, of course, you can always find out the reason for such zeros. But in this case, it is enough to consider the alternatives and the impact of each decision.\n",
    "    \n",
    "But overall it is very useful to always check the numerical data. Sometimes it is difficult due to a large amount of data, but after that, we have an idea of the data quality and existent issues with the data. You can easily check this data, for example, by creating histograms."
   ]
  },
  {
   "cell_type": "markdown",
   "metadata": {},
   "source": [
    "### Changing data types"
   ]
  },
  {
   "cell_type": "markdown",
   "metadata": {},
   "source": [
    "For the most part we'll need to change the datatypes for all values that have to do with date to date_time so that we can perform calculations and grouping by month later on. (And we can change the data type from float to int for mb_used after it becomes GB_used)."
   ]
  },
  {
   "cell_type": "markdown",
   "metadata": {},
   "source": [
    "Remembering that our date sequence is Y-m-d, let's first change the dates to date_time in calls, messages and internet:"
   ]
  },
  {
   "cell_type": "code",
   "execution_count": 37,
   "metadata": {},
   "outputs": [],
   "source": [
    "calls['call_date'] = pd.to_datetime(calls['call_date'], format = '%Y-%m-%d')\n",
    "messages['message_date'] = pd.to_datetime(messages['message_date'], format = '%Y-%m-%d')\n",
    "internet['session_date'] = pd.to_datetime(internet['session_date'], format = '%Y-%m-%d')"
   ]
  },
  {
   "cell_type": "code",
   "execution_count": 38,
   "metadata": {},
   "outputs": [
    {
     "name": "stdout",
     "output_type": "stream",
     "text": [
      "<class 'pandas.core.frame.DataFrame'>\n",
      "RangeIndex: 137735 entries, 0 to 137734\n",
      "Data columns (total 4 columns):\n",
      " #   Column     Non-Null Count   Dtype         \n",
      "---  ------     --------------   -----         \n",
      " 0   id         137735 non-null  object        \n",
      " 1   user_id    137735 non-null  int64         \n",
      " 2   call_date  137735 non-null  datetime64[ns]\n",
      " 3   duration   137735 non-null  int64         \n",
      "dtypes: datetime64[ns](1), int64(2), object(1)\n",
      "memory usage: 4.2+ MB\n",
      "\n",
      "<class 'pandas.core.frame.DataFrame'>\n",
      "RangeIndex: 76051 entries, 0 to 76050\n",
      "Data columns (total 3 columns):\n",
      " #   Column        Non-Null Count  Dtype         \n",
      "---  ------        --------------  -----         \n",
      " 0   id            76051 non-null  object        \n",
      " 1   user_id       76051 non-null  int64         \n",
      " 2   message_date  76051 non-null  datetime64[ns]\n",
      "dtypes: datetime64[ns](1), int64(1), object(1)\n",
      "memory usage: 1.7+ MB\n",
      "\n",
      "<class 'pandas.core.frame.DataFrame'>\n",
      "RangeIndex: 104825 entries, 0 to 104824\n",
      "Data columns (total 4 columns):\n",
      " #   Column        Non-Null Count   Dtype         \n",
      "---  ------        --------------   -----         \n",
      " 0   id            104825 non-null  object        \n",
      " 1   user_id       104825 non-null  int64         \n",
      " 2   session_date  104825 non-null  datetime64[ns]\n",
      " 3   mb_used       104825 non-null  float64       \n",
      "dtypes: datetime64[ns](1), float64(1), int64(1), object(1)\n",
      "memory usage: 3.2+ MB\n"
     ]
    }
   ],
   "source": [
    "calls.info()\n",
    "print()\n",
    "messages.info()\n",
    "print()\n",
    "internet.info()"
   ]
  },
  {
   "cell_type": "markdown",
   "metadata": {},
   "source": [
    "All good. Now we can proceed to add months to each group, after we which we can start grouping the data:"
   ]
  },
  {
   "cell_type": "code",
   "execution_count": 39,
   "metadata": {},
   "outputs": [],
   "source": [
    "calls['month'] = calls['call_date'].dt.month\n",
    "messages['month'] = messages['message_date'].dt.month\n",
    "internet['month'] = internet['session_date'].dt.month"
   ]
  },
  {
   "cell_type": "markdown",
   "metadata": {},
   "source": [
    "<div class=\"alert alert-success\">\n",
    "<b>Reviewer's comment v1:</b>\n",
    "    \n",
    "Everything is correct here but usually, it is always helpful to double-check whether we indeed have data within one year/time period. If not then selecting and aggregating data by the month number will cause an issue. So here it is safer to use datetime64[M] which provides a complete date. "
   ]
  },
  {
   "cell_type": "markdown",
   "metadata": {},
   "source": [
    "<div class=\"alert alert-info\"> <b>Student comments:</b> Thank you Dimitri! Sorry, I got a bit confused, can you give me an example of how datetime64[M] is applied? Thanks again!</div>    "
   ]
  },
  {
   "cell_type": "markdown",
   "metadata": {},
   "source": [
    "<div class=\"alert alert-block alert-success\">\n",
    "<b>Reviewer's comment v2</b>\n",
    " \n",
    "No worries! I left an example below: \n",
    "    \n",
    "    internet['month2'] = internet['session_date'].astype('datetime64[M]')\n",
    "    \n",
    "And you can read about it in a more detail here: https://numpy.org/doc/stable/reference/arrays.datetime.html"
   ]
  },
  {
   "cell_type": "code",
   "execution_count": 40,
   "metadata": {},
   "outputs": [
    {
     "data": {
      "text/html": [
       "<div>\n",
       "<style scoped>\n",
       "    .dataframe tbody tr th:only-of-type {\n",
       "        vertical-align: middle;\n",
       "    }\n",
       "\n",
       "    .dataframe tbody tr th {\n",
       "        vertical-align: top;\n",
       "    }\n",
       "\n",
       "    .dataframe thead th {\n",
       "        text-align: right;\n",
       "    }\n",
       "</style>\n",
       "<table border=\"1\" class=\"dataframe\">\n",
       "  <thead>\n",
       "    <tr style=\"text-align: right;\">\n",
       "      <th></th>\n",
       "      <th>id</th>\n",
       "      <th>user_id</th>\n",
       "      <th>call_date</th>\n",
       "      <th>duration</th>\n",
       "      <th>month</th>\n",
       "    </tr>\n",
       "  </thead>\n",
       "  <tbody>\n",
       "    <tr>\n",
       "      <th>0</th>\n",
       "      <td>1000_93</td>\n",
       "      <td>1000</td>\n",
       "      <td>2018-12-27</td>\n",
       "      <td>9</td>\n",
       "      <td>12</td>\n",
       "    </tr>\n",
       "    <tr>\n",
       "      <th>1</th>\n",
       "      <td>1000_145</td>\n",
       "      <td>1000</td>\n",
       "      <td>2018-12-27</td>\n",
       "      <td>14</td>\n",
       "      <td>12</td>\n",
       "    </tr>\n",
       "    <tr>\n",
       "      <th>2</th>\n",
       "      <td>1000_247</td>\n",
       "      <td>1000</td>\n",
       "      <td>2018-12-27</td>\n",
       "      <td>15</td>\n",
       "      <td>12</td>\n",
       "    </tr>\n",
       "    <tr>\n",
       "      <th>3</th>\n",
       "      <td>1000_309</td>\n",
       "      <td>1000</td>\n",
       "      <td>2018-12-28</td>\n",
       "      <td>6</td>\n",
       "      <td>12</td>\n",
       "    </tr>\n",
       "    <tr>\n",
       "      <th>4</th>\n",
       "      <td>1000_380</td>\n",
       "      <td>1000</td>\n",
       "      <td>2018-12-30</td>\n",
       "      <td>5</td>\n",
       "      <td>12</td>\n",
       "    </tr>\n",
       "  </tbody>\n",
       "</table>\n",
       "</div>"
      ],
      "text/plain": [
       "         id  user_id  call_date  duration  month\n",
       "0   1000_93     1000 2018-12-27         9     12\n",
       "1  1000_145     1000 2018-12-27        14     12\n",
       "2  1000_247     1000 2018-12-27        15     12\n",
       "3  1000_309     1000 2018-12-28         6     12\n",
       "4  1000_380     1000 2018-12-30         5     12"
      ]
     },
     "execution_count": 40,
     "metadata": {},
     "output_type": "execute_result"
    }
   ],
   "source": [
    "calls.head()"
   ]
  },
  {
   "cell_type": "markdown",
   "metadata": {},
   "source": [
    "Good! We can now go ahead and add the following:\n",
    "\n",
    "- the number of calls made and minutes used per month\n",
    "- the number of text messages sent per month\n",
    "- the volume of data used per month\n",
    "- the revenue for each user per month"
   ]
  },
  {
   "cell_type": "markdown",
   "metadata": {},
   "source": [
    "### Calculations"
   ]
  },
  {
   "cell_type": "markdown",
   "metadata": {},
   "source": [
    "#### Combining the data"
   ]
  },
  {
   "cell_type": "markdown",
   "metadata": {},
   "source": [
    "We can address the first three tasks from the above list by grouping our data and applying agg functions."
   ]
  },
  {
   "cell_type": "code",
   "execution_count": 41,
   "metadata": {},
   "outputs": [],
   "source": [
    "calls_grouped = calls.groupby(['user_id', 'month']).agg({'duration': 'sum', 'call_date': 'count'}).reset_index()"
   ]
  },
  {
   "cell_type": "code",
   "execution_count": 42,
   "metadata": {},
   "outputs": [
    {
     "data": {
      "text/html": [
       "<div>\n",
       "<style scoped>\n",
       "    .dataframe tbody tr th:only-of-type {\n",
       "        vertical-align: middle;\n",
       "    }\n",
       "\n",
       "    .dataframe tbody tr th {\n",
       "        vertical-align: top;\n",
       "    }\n",
       "\n",
       "    .dataframe thead th {\n",
       "        text-align: right;\n",
       "    }\n",
       "</style>\n",
       "<table border=\"1\" class=\"dataframe\">\n",
       "  <thead>\n",
       "    <tr style=\"text-align: right;\">\n",
       "      <th></th>\n",
       "      <th>user_id</th>\n",
       "      <th>month</th>\n",
       "      <th>duration</th>\n",
       "      <th>call_date</th>\n",
       "    </tr>\n",
       "  </thead>\n",
       "  <tbody>\n",
       "    <tr>\n",
       "      <th>0</th>\n",
       "      <td>1000</td>\n",
       "      <td>12</td>\n",
       "      <td>124</td>\n",
       "      <td>16</td>\n",
       "    </tr>\n",
       "    <tr>\n",
       "      <th>1</th>\n",
       "      <td>1001</td>\n",
       "      <td>8</td>\n",
       "      <td>182</td>\n",
       "      <td>27</td>\n",
       "    </tr>\n",
       "    <tr>\n",
       "      <th>2</th>\n",
       "      <td>1001</td>\n",
       "      <td>9</td>\n",
       "      <td>315</td>\n",
       "      <td>49</td>\n",
       "    </tr>\n",
       "    <tr>\n",
       "      <th>3</th>\n",
       "      <td>1001</td>\n",
       "      <td>10</td>\n",
       "      <td>393</td>\n",
       "      <td>65</td>\n",
       "    </tr>\n",
       "    <tr>\n",
       "      <th>4</th>\n",
       "      <td>1001</td>\n",
       "      <td>11</td>\n",
       "      <td>426</td>\n",
       "      <td>64</td>\n",
       "    </tr>\n",
       "    <tr>\n",
       "      <th>5</th>\n",
       "      <td>1001</td>\n",
       "      <td>12</td>\n",
       "      <td>412</td>\n",
       "      <td>56</td>\n",
       "    </tr>\n",
       "    <tr>\n",
       "      <th>6</th>\n",
       "      <td>1002</td>\n",
       "      <td>10</td>\n",
       "      <td>59</td>\n",
       "      <td>11</td>\n",
       "    </tr>\n",
       "    <tr>\n",
       "      <th>7</th>\n",
       "      <td>1002</td>\n",
       "      <td>11</td>\n",
       "      <td>386</td>\n",
       "      <td>55</td>\n",
       "    </tr>\n",
       "    <tr>\n",
       "      <th>8</th>\n",
       "      <td>1002</td>\n",
       "      <td>12</td>\n",
       "      <td>384</td>\n",
       "      <td>47</td>\n",
       "    </tr>\n",
       "    <tr>\n",
       "      <th>9</th>\n",
       "      <td>1003</td>\n",
       "      <td>12</td>\n",
       "      <td>1104</td>\n",
       "      <td>149</td>\n",
       "    </tr>\n",
       "  </tbody>\n",
       "</table>\n",
       "</div>"
      ],
      "text/plain": [
       "   user_id  month  duration  call_date\n",
       "0     1000     12       124         16\n",
       "1     1001      8       182         27\n",
       "2     1001      9       315         49\n",
       "3     1001     10       393         65\n",
       "4     1001     11       426         64\n",
       "5     1001     12       412         56\n",
       "6     1002     10        59         11\n",
       "7     1002     11       386         55\n",
       "8     1002     12       384         47\n",
       "9     1003     12      1104        149"
      ]
     },
     "execution_count": 42,
     "metadata": {},
     "output_type": "execute_result"
    }
   ],
   "source": [
    "calls_grouped.head(10)"
   ]
  },
  {
   "cell_type": "markdown",
   "metadata": {},
   "source": [
    "Looks good! I guess we can just rename the call_date column to call_count to better represent what it means now:"
   ]
  },
  {
   "cell_type": "code",
   "execution_count": 43,
   "metadata": {},
   "outputs": [],
   "source": [
    "calls_grouped = calls_grouped.rename(columns = {'call_date': 'call_count'})"
   ]
  },
  {
   "cell_type": "code",
   "execution_count": 44,
   "metadata": {},
   "outputs": [
    {
     "data": {
      "text/html": [
       "<div>\n",
       "<style scoped>\n",
       "    .dataframe tbody tr th:only-of-type {\n",
       "        vertical-align: middle;\n",
       "    }\n",
       "\n",
       "    .dataframe tbody tr th {\n",
       "        vertical-align: top;\n",
       "    }\n",
       "\n",
       "    .dataframe thead th {\n",
       "        text-align: right;\n",
       "    }\n",
       "</style>\n",
       "<table border=\"1\" class=\"dataframe\">\n",
       "  <thead>\n",
       "    <tr style=\"text-align: right;\">\n",
       "      <th></th>\n",
       "      <th>user_id</th>\n",
       "      <th>month</th>\n",
       "      <th>duration</th>\n",
       "      <th>call_count</th>\n",
       "    </tr>\n",
       "  </thead>\n",
       "  <tbody>\n",
       "    <tr>\n",
       "      <th>0</th>\n",
       "      <td>1000</td>\n",
       "      <td>12</td>\n",
       "      <td>124</td>\n",
       "      <td>16</td>\n",
       "    </tr>\n",
       "    <tr>\n",
       "      <th>1</th>\n",
       "      <td>1001</td>\n",
       "      <td>8</td>\n",
       "      <td>182</td>\n",
       "      <td>27</td>\n",
       "    </tr>\n",
       "    <tr>\n",
       "      <th>2</th>\n",
       "      <td>1001</td>\n",
       "      <td>9</td>\n",
       "      <td>315</td>\n",
       "      <td>49</td>\n",
       "    </tr>\n",
       "    <tr>\n",
       "      <th>3</th>\n",
       "      <td>1001</td>\n",
       "      <td>10</td>\n",
       "      <td>393</td>\n",
       "      <td>65</td>\n",
       "    </tr>\n",
       "    <tr>\n",
       "      <th>4</th>\n",
       "      <td>1001</td>\n",
       "      <td>11</td>\n",
       "      <td>426</td>\n",
       "      <td>64</td>\n",
       "    </tr>\n",
       "    <tr>\n",
       "      <th>5</th>\n",
       "      <td>1001</td>\n",
       "      <td>12</td>\n",
       "      <td>412</td>\n",
       "      <td>56</td>\n",
       "    </tr>\n",
       "    <tr>\n",
       "      <th>6</th>\n",
       "      <td>1002</td>\n",
       "      <td>10</td>\n",
       "      <td>59</td>\n",
       "      <td>11</td>\n",
       "    </tr>\n",
       "    <tr>\n",
       "      <th>7</th>\n",
       "      <td>1002</td>\n",
       "      <td>11</td>\n",
       "      <td>386</td>\n",
       "      <td>55</td>\n",
       "    </tr>\n",
       "    <tr>\n",
       "      <th>8</th>\n",
       "      <td>1002</td>\n",
       "      <td>12</td>\n",
       "      <td>384</td>\n",
       "      <td>47</td>\n",
       "    </tr>\n",
       "    <tr>\n",
       "      <th>9</th>\n",
       "      <td>1003</td>\n",
       "      <td>12</td>\n",
       "      <td>1104</td>\n",
       "      <td>149</td>\n",
       "    </tr>\n",
       "  </tbody>\n",
       "</table>\n",
       "</div>"
      ],
      "text/plain": [
       "   user_id  month  duration  call_count\n",
       "0     1000     12       124          16\n",
       "1     1001      8       182          27\n",
       "2     1001      9       315          49\n",
       "3     1001     10       393          65\n",
       "4     1001     11       426          64\n",
       "5     1001     12       412          56\n",
       "6     1002     10        59          11\n",
       "7     1002     11       386          55\n",
       "8     1002     12       384          47\n",
       "9     1003     12      1104         149"
      ]
     },
     "execution_count": 44,
     "metadata": {},
     "output_type": "execute_result"
    }
   ],
   "source": [
    "calls_grouped.head(10)"
   ]
  },
  {
   "cell_type": "markdown",
   "metadata": {},
   "source": [
    "Much better!"
   ]
  },
  {
   "cell_type": "code",
   "execution_count": 45,
   "metadata": {},
   "outputs": [],
   "source": [
    "messages_grouped = messages.groupby(['user_id', 'month']).agg({'message_date': 'count'}).reset_index()"
   ]
  },
  {
   "cell_type": "code",
   "execution_count": 46,
   "metadata": {},
   "outputs": [],
   "source": [
    "messages_grouped = messages_grouped.rename(columns = {'message_date': 'message_count'})"
   ]
  },
  {
   "cell_type": "code",
   "execution_count": 47,
   "metadata": {},
   "outputs": [
    {
     "data": {
      "text/html": [
       "<div>\n",
       "<style scoped>\n",
       "    .dataframe tbody tr th:only-of-type {\n",
       "        vertical-align: middle;\n",
       "    }\n",
       "\n",
       "    .dataframe tbody tr th {\n",
       "        vertical-align: top;\n",
       "    }\n",
       "\n",
       "    .dataframe thead th {\n",
       "        text-align: right;\n",
       "    }\n",
       "</style>\n",
       "<table border=\"1\" class=\"dataframe\">\n",
       "  <thead>\n",
       "    <tr style=\"text-align: right;\">\n",
       "      <th></th>\n",
       "      <th>user_id</th>\n",
       "      <th>month</th>\n",
       "      <th>message_count</th>\n",
       "    </tr>\n",
       "  </thead>\n",
       "  <tbody>\n",
       "    <tr>\n",
       "      <th>0</th>\n",
       "      <td>1000</td>\n",
       "      <td>12</td>\n",
       "      <td>11</td>\n",
       "    </tr>\n",
       "    <tr>\n",
       "      <th>1</th>\n",
       "      <td>1001</td>\n",
       "      <td>8</td>\n",
       "      <td>30</td>\n",
       "    </tr>\n",
       "    <tr>\n",
       "      <th>2</th>\n",
       "      <td>1001</td>\n",
       "      <td>9</td>\n",
       "      <td>44</td>\n",
       "    </tr>\n",
       "    <tr>\n",
       "      <th>3</th>\n",
       "      <td>1001</td>\n",
       "      <td>10</td>\n",
       "      <td>53</td>\n",
       "    </tr>\n",
       "    <tr>\n",
       "      <th>4</th>\n",
       "      <td>1001</td>\n",
       "      <td>11</td>\n",
       "      <td>36</td>\n",
       "    </tr>\n",
       "    <tr>\n",
       "      <th>5</th>\n",
       "      <td>1001</td>\n",
       "      <td>12</td>\n",
       "      <td>44</td>\n",
       "    </tr>\n",
       "    <tr>\n",
       "      <th>6</th>\n",
       "      <td>1002</td>\n",
       "      <td>10</td>\n",
       "      <td>15</td>\n",
       "    </tr>\n",
       "    <tr>\n",
       "      <th>7</th>\n",
       "      <td>1002</td>\n",
       "      <td>11</td>\n",
       "      <td>32</td>\n",
       "    </tr>\n",
       "    <tr>\n",
       "      <th>8</th>\n",
       "      <td>1002</td>\n",
       "      <td>12</td>\n",
       "      <td>41</td>\n",
       "    </tr>\n",
       "    <tr>\n",
       "      <th>9</th>\n",
       "      <td>1003</td>\n",
       "      <td>12</td>\n",
       "      <td>50</td>\n",
       "    </tr>\n",
       "  </tbody>\n",
       "</table>\n",
       "</div>"
      ],
      "text/plain": [
       "   user_id  month  message_count\n",
       "0     1000     12             11\n",
       "1     1001      8             30\n",
       "2     1001      9             44\n",
       "3     1001     10             53\n",
       "4     1001     11             36\n",
       "5     1001     12             44\n",
       "6     1002     10             15\n",
       "7     1002     11             32\n",
       "8     1002     12             41\n",
       "9     1003     12             50"
      ]
     },
     "execution_count": 47,
     "metadata": {},
     "output_type": "execute_result"
    }
   ],
   "source": [
    "messages_grouped.head(10)"
   ]
  },
  {
   "cell_type": "markdown",
   "metadata": {},
   "source": [
    "Nice."
   ]
  },
  {
   "cell_type": "code",
   "execution_count": 48,
   "metadata": {},
   "outputs": [],
   "source": [
    "internet_grouped = internet.groupby(['user_id', 'month']).agg({'mb_used': 'sum'}).reset_index()"
   ]
  },
  {
   "cell_type": "code",
   "execution_count": 49,
   "metadata": {},
   "outputs": [
    {
     "data": {
      "text/html": [
       "<div>\n",
       "<style scoped>\n",
       "    .dataframe tbody tr th:only-of-type {\n",
       "        vertical-align: middle;\n",
       "    }\n",
       "\n",
       "    .dataframe tbody tr th {\n",
       "        vertical-align: top;\n",
       "    }\n",
       "\n",
       "    .dataframe thead th {\n",
       "        text-align: right;\n",
       "    }\n",
       "</style>\n",
       "<table border=\"1\" class=\"dataframe\">\n",
       "  <thead>\n",
       "    <tr style=\"text-align: right;\">\n",
       "      <th></th>\n",
       "      <th>user_id</th>\n",
       "      <th>month</th>\n",
       "      <th>mb_used</th>\n",
       "    </tr>\n",
       "  </thead>\n",
       "  <tbody>\n",
       "    <tr>\n",
       "      <th>0</th>\n",
       "      <td>1000</td>\n",
       "      <td>12</td>\n",
       "      <td>1901.47</td>\n",
       "    </tr>\n",
       "    <tr>\n",
       "      <th>1</th>\n",
       "      <td>1001</td>\n",
       "      <td>8</td>\n",
       "      <td>6919.15</td>\n",
       "    </tr>\n",
       "    <tr>\n",
       "      <th>2</th>\n",
       "      <td>1001</td>\n",
       "      <td>9</td>\n",
       "      <td>13314.82</td>\n",
       "    </tr>\n",
       "    <tr>\n",
       "      <th>3</th>\n",
       "      <td>1001</td>\n",
       "      <td>10</td>\n",
       "      <td>22330.49</td>\n",
       "    </tr>\n",
       "    <tr>\n",
       "      <th>4</th>\n",
       "      <td>1001</td>\n",
       "      <td>11</td>\n",
       "      <td>18504.30</td>\n",
       "    </tr>\n",
       "    <tr>\n",
       "      <th>5</th>\n",
       "      <td>1001</td>\n",
       "      <td>12</td>\n",
       "      <td>19369.18</td>\n",
       "    </tr>\n",
       "    <tr>\n",
       "      <th>6</th>\n",
       "      <td>1002</td>\n",
       "      <td>10</td>\n",
       "      <td>6552.01</td>\n",
       "    </tr>\n",
       "    <tr>\n",
       "      <th>7</th>\n",
       "      <td>1002</td>\n",
       "      <td>11</td>\n",
       "      <td>19345.08</td>\n",
       "    </tr>\n",
       "    <tr>\n",
       "      <th>8</th>\n",
       "      <td>1002</td>\n",
       "      <td>12</td>\n",
       "      <td>14396.24</td>\n",
       "    </tr>\n",
       "    <tr>\n",
       "      <th>9</th>\n",
       "      <td>1003</td>\n",
       "      <td>12</td>\n",
       "      <td>27044.14</td>\n",
       "    </tr>\n",
       "  </tbody>\n",
       "</table>\n",
       "</div>"
      ],
      "text/plain": [
       "   user_id  month   mb_used\n",
       "0     1000     12   1901.47\n",
       "1     1001      8   6919.15\n",
       "2     1001      9  13314.82\n",
       "3     1001     10  22330.49\n",
       "4     1001     11  18504.30\n",
       "5     1001     12  19369.18\n",
       "6     1002     10   6552.01\n",
       "7     1002     11  19345.08\n",
       "8     1002     12  14396.24\n",
       "9     1003     12  27044.14"
      ]
     },
     "execution_count": 49,
     "metadata": {},
     "output_type": "execute_result"
    }
   ],
   "source": [
    "internet_grouped.head(10)"
   ]
  },
  {
   "cell_type": "markdown",
   "metadata": {},
   "source": [
    "We can add an additional column for our internet data in which we can store the rounded GB sums per user per month (the 'chargeable' sums so to say, hence rounded). Two steps here: converting to GB and then rounding (and converting to int for convenience)."
   ]
  },
  {
   "cell_type": "code",
   "execution_count": 50,
   "metadata": {},
   "outputs": [],
   "source": [
    "internet_grouped['gb_used'] = ((internet_grouped['mb_used']/1024).apply(np.ceil)).astype(int)"
   ]
  },
  {
   "cell_type": "markdown",
   "metadata": {},
   "source": [
    "<div class=\"alert alert-warning\">\n",
    "<b>Reviewer's comment v1:</b>\n",
    "    \n",
    "One minor remark is that you need to divide by 1024 to get GB."
   ]
  },
  {
   "cell_type": "markdown",
   "metadata": {},
   "source": [
    "<div class=\"alert alert-info\"> <b>Student comments:</b> Oh god, so embarassing! Sorry about that, must have skipped past me. I fixed it now! </div>    "
   ]
  },
  {
   "cell_type": "markdown",
   "metadata": {},
   "source": [
    "<div class=\"alert alert-block alert-success\">\n",
    "<b>Reviewer's comment v2</b>\n",
    " \n",
    "🙌"
   ]
  },
  {
   "cell_type": "code",
   "execution_count": 51,
   "metadata": {},
   "outputs": [
    {
     "data": {
      "text/html": [
       "<div>\n",
       "<style scoped>\n",
       "    .dataframe tbody tr th:only-of-type {\n",
       "        vertical-align: middle;\n",
       "    }\n",
       "\n",
       "    .dataframe tbody tr th {\n",
       "        vertical-align: top;\n",
       "    }\n",
       "\n",
       "    .dataframe thead th {\n",
       "        text-align: right;\n",
       "    }\n",
       "</style>\n",
       "<table border=\"1\" class=\"dataframe\">\n",
       "  <thead>\n",
       "    <tr style=\"text-align: right;\">\n",
       "      <th></th>\n",
       "      <th>user_id</th>\n",
       "      <th>month</th>\n",
       "      <th>mb_used</th>\n",
       "      <th>gb_used</th>\n",
       "    </tr>\n",
       "  </thead>\n",
       "  <tbody>\n",
       "    <tr>\n",
       "      <th>0</th>\n",
       "      <td>1000</td>\n",
       "      <td>12</td>\n",
       "      <td>1901.47</td>\n",
       "      <td>2</td>\n",
       "    </tr>\n",
       "    <tr>\n",
       "      <th>1</th>\n",
       "      <td>1001</td>\n",
       "      <td>8</td>\n",
       "      <td>6919.15</td>\n",
       "      <td>7</td>\n",
       "    </tr>\n",
       "    <tr>\n",
       "      <th>2</th>\n",
       "      <td>1001</td>\n",
       "      <td>9</td>\n",
       "      <td>13314.82</td>\n",
       "      <td>14</td>\n",
       "    </tr>\n",
       "    <tr>\n",
       "      <th>3</th>\n",
       "      <td>1001</td>\n",
       "      <td>10</td>\n",
       "      <td>22330.49</td>\n",
       "      <td>22</td>\n",
       "    </tr>\n",
       "    <tr>\n",
       "      <th>4</th>\n",
       "      <td>1001</td>\n",
       "      <td>11</td>\n",
       "      <td>18504.30</td>\n",
       "      <td>19</td>\n",
       "    </tr>\n",
       "    <tr>\n",
       "      <th>5</th>\n",
       "      <td>1001</td>\n",
       "      <td>12</td>\n",
       "      <td>19369.18</td>\n",
       "      <td>19</td>\n",
       "    </tr>\n",
       "    <tr>\n",
       "      <th>6</th>\n",
       "      <td>1002</td>\n",
       "      <td>10</td>\n",
       "      <td>6552.01</td>\n",
       "      <td>7</td>\n",
       "    </tr>\n",
       "    <tr>\n",
       "      <th>7</th>\n",
       "      <td>1002</td>\n",
       "      <td>11</td>\n",
       "      <td>19345.08</td>\n",
       "      <td>19</td>\n",
       "    </tr>\n",
       "    <tr>\n",
       "      <th>8</th>\n",
       "      <td>1002</td>\n",
       "      <td>12</td>\n",
       "      <td>14396.24</td>\n",
       "      <td>15</td>\n",
       "    </tr>\n",
       "    <tr>\n",
       "      <th>9</th>\n",
       "      <td>1003</td>\n",
       "      <td>12</td>\n",
       "      <td>27044.14</td>\n",
       "      <td>27</td>\n",
       "    </tr>\n",
       "  </tbody>\n",
       "</table>\n",
       "</div>"
      ],
      "text/plain": [
       "   user_id  month   mb_used  gb_used\n",
       "0     1000     12   1901.47        2\n",
       "1     1001      8   6919.15        7\n",
       "2     1001      9  13314.82       14\n",
       "3     1001     10  22330.49       22\n",
       "4     1001     11  18504.30       19\n",
       "5     1001     12  19369.18       19\n",
       "6     1002     10   6552.01        7\n",
       "7     1002     11  19345.08       19\n",
       "8     1002     12  14396.24       15\n",
       "9     1003     12  27044.14       27"
      ]
     },
     "execution_count": 51,
     "metadata": {},
     "output_type": "execute_result"
    }
   ],
   "source": [
    "internet_grouped.head(10)"
   ]
  },
  {
   "cell_type": "markdown",
   "metadata": {},
   "source": [
    "Good!"
   ]
  },
  {
   "cell_type": "markdown",
   "metadata": {},
   "source": [
    "Now, before we can calculate the revenue for each user, it will help to merge the resulting grouped tables for calls, messages and internet together, and then add data for users' plans from the users table. "
   ]
  },
  {
   "cell_type": "markdown",
   "metadata": {},
   "source": [
    "We can merge the first three tables together using 'outer' method since we want all of the values contained in all of them merged by user_id and month columns. Recall that most users had used internet, a bit less had calls data and still fewer (by around 20%!) had sent any messages. This means that this is the order (internet -> calls -> messages) that we should merge them in so that we don't lose any rows on the way. And we will have some resulting missing values because of some users who used one means of communication but not the other, so we should tweak our function to fill those in with 0's for convenience."
   ]
  },
  {
   "cell_type": "code",
   "execution_count": 52,
   "metadata": {},
   "outputs": [],
   "source": [
    "data1 = pd.merge(left = internet_grouped, right = calls_grouped, how = 'outer', on = ['user_id', 'month']).fillna(0)\n"
   ]
  },
  {
   "cell_type": "code",
   "execution_count": 53,
   "metadata": {},
   "outputs": [
    {
     "data": {
      "text/html": [
       "<div>\n",
       "<style scoped>\n",
       "    .dataframe tbody tr th:only-of-type {\n",
       "        vertical-align: middle;\n",
       "    }\n",
       "\n",
       "    .dataframe tbody tr th {\n",
       "        vertical-align: top;\n",
       "    }\n",
       "\n",
       "    .dataframe thead th {\n",
       "        text-align: right;\n",
       "    }\n",
       "</style>\n",
       "<table border=\"1\" class=\"dataframe\">\n",
       "  <thead>\n",
       "    <tr style=\"text-align: right;\">\n",
       "      <th></th>\n",
       "      <th>user_id</th>\n",
       "      <th>month</th>\n",
       "      <th>mb_used</th>\n",
       "      <th>gb_used</th>\n",
       "      <th>duration</th>\n",
       "      <th>call_count</th>\n",
       "    </tr>\n",
       "  </thead>\n",
       "  <tbody>\n",
       "    <tr>\n",
       "      <th>0</th>\n",
       "      <td>1000</td>\n",
       "      <td>12</td>\n",
       "      <td>1901.47</td>\n",
       "      <td>2.0</td>\n",
       "      <td>124.0</td>\n",
       "      <td>16.0</td>\n",
       "    </tr>\n",
       "    <tr>\n",
       "      <th>1</th>\n",
       "      <td>1001</td>\n",
       "      <td>8</td>\n",
       "      <td>6919.15</td>\n",
       "      <td>7.0</td>\n",
       "      <td>182.0</td>\n",
       "      <td>27.0</td>\n",
       "    </tr>\n",
       "    <tr>\n",
       "      <th>2</th>\n",
       "      <td>1001</td>\n",
       "      <td>9</td>\n",
       "      <td>13314.82</td>\n",
       "      <td>14.0</td>\n",
       "      <td>315.0</td>\n",
       "      <td>49.0</td>\n",
       "    </tr>\n",
       "    <tr>\n",
       "      <th>3</th>\n",
       "      <td>1001</td>\n",
       "      <td>10</td>\n",
       "      <td>22330.49</td>\n",
       "      <td>22.0</td>\n",
       "      <td>393.0</td>\n",
       "      <td>65.0</td>\n",
       "    </tr>\n",
       "    <tr>\n",
       "      <th>4</th>\n",
       "      <td>1001</td>\n",
       "      <td>11</td>\n",
       "      <td>18504.30</td>\n",
       "      <td>19.0</td>\n",
       "      <td>426.0</td>\n",
       "      <td>64.0</td>\n",
       "    </tr>\n",
       "  </tbody>\n",
       "</table>\n",
       "</div>"
      ],
      "text/plain": [
       "   user_id  month   mb_used  gb_used  duration  call_count\n",
       "0     1000     12   1901.47      2.0     124.0        16.0\n",
       "1     1001      8   6919.15      7.0     182.0        27.0\n",
       "2     1001      9  13314.82     14.0     315.0        49.0\n",
       "3     1001     10  22330.49     22.0     393.0        65.0\n",
       "4     1001     11  18504.30     19.0     426.0        64.0"
      ]
     },
     "execution_count": 53,
     "metadata": {},
     "output_type": "execute_result"
    }
   ],
   "source": [
    "data1.head()"
   ]
  },
  {
   "cell_type": "code",
   "execution_count": 54,
   "metadata": {},
   "outputs": [],
   "source": [
    "data2 = pd.merge(left = data1, right = messages_grouped, how = 'outer', on = ['user_id', 'month']).fillna(0)"
   ]
  },
  {
   "cell_type": "markdown",
   "metadata": {},
   "source": [
    "<div class=\"alert alert-success\">\n",
    "<b>Reviewer's comment v1:</b>\n",
    "    \n",
    "- Awesome! `how = 'outer' can be used here to prevent data loss.\n",
    "\n",
    "- By the way, it is also possible to group 3 tables at once using reduce. You can read about it here: [https://www.codegrepper.com/code-examples/python/merge+more+than+2+dataframes+in+pandas](https://www.codegrepper.com/code-examples/python/merge+more+than+2+dataframes+in+pandas)"
   ]
  },
  {
   "cell_type": "code",
   "execution_count": 55,
   "metadata": {},
   "outputs": [
    {
     "data": {
      "text/html": [
       "<div>\n",
       "<style scoped>\n",
       "    .dataframe tbody tr th:only-of-type {\n",
       "        vertical-align: middle;\n",
       "    }\n",
       "\n",
       "    .dataframe tbody tr th {\n",
       "        vertical-align: top;\n",
       "    }\n",
       "\n",
       "    .dataframe thead th {\n",
       "        text-align: right;\n",
       "    }\n",
       "</style>\n",
       "<table border=\"1\" class=\"dataframe\">\n",
       "  <thead>\n",
       "    <tr style=\"text-align: right;\">\n",
       "      <th></th>\n",
       "      <th>user_id</th>\n",
       "      <th>month</th>\n",
       "      <th>mb_used</th>\n",
       "      <th>gb_used</th>\n",
       "      <th>duration</th>\n",
       "      <th>call_count</th>\n",
       "      <th>message_count</th>\n",
       "    </tr>\n",
       "  </thead>\n",
       "  <tbody>\n",
       "    <tr>\n",
       "      <th>0</th>\n",
       "      <td>1000</td>\n",
       "      <td>12</td>\n",
       "      <td>1901.47</td>\n",
       "      <td>2.0</td>\n",
       "      <td>124.0</td>\n",
       "      <td>16.0</td>\n",
       "      <td>11.0</td>\n",
       "    </tr>\n",
       "    <tr>\n",
       "      <th>1</th>\n",
       "      <td>1001</td>\n",
       "      <td>8</td>\n",
       "      <td>6919.15</td>\n",
       "      <td>7.0</td>\n",
       "      <td>182.0</td>\n",
       "      <td>27.0</td>\n",
       "      <td>30.0</td>\n",
       "    </tr>\n",
       "    <tr>\n",
       "      <th>2</th>\n",
       "      <td>1001</td>\n",
       "      <td>9</td>\n",
       "      <td>13314.82</td>\n",
       "      <td>14.0</td>\n",
       "      <td>315.0</td>\n",
       "      <td>49.0</td>\n",
       "      <td>44.0</td>\n",
       "    </tr>\n",
       "    <tr>\n",
       "      <th>3</th>\n",
       "      <td>1001</td>\n",
       "      <td>10</td>\n",
       "      <td>22330.49</td>\n",
       "      <td>22.0</td>\n",
       "      <td>393.0</td>\n",
       "      <td>65.0</td>\n",
       "      <td>53.0</td>\n",
       "    </tr>\n",
       "    <tr>\n",
       "      <th>4</th>\n",
       "      <td>1001</td>\n",
       "      <td>11</td>\n",
       "      <td>18504.30</td>\n",
       "      <td>19.0</td>\n",
       "      <td>426.0</td>\n",
       "      <td>64.0</td>\n",
       "      <td>36.0</td>\n",
       "    </tr>\n",
       "  </tbody>\n",
       "</table>\n",
       "</div>"
      ],
      "text/plain": [
       "   user_id  month   mb_used  gb_used  duration  call_count  message_count\n",
       "0     1000     12   1901.47      2.0     124.0        16.0           11.0\n",
       "1     1001      8   6919.15      7.0     182.0        27.0           30.0\n",
       "2     1001      9  13314.82     14.0     315.0        49.0           44.0\n",
       "3     1001     10  22330.49     22.0     393.0        65.0           53.0\n",
       "4     1001     11  18504.30     19.0     426.0        64.0           36.0"
      ]
     },
     "execution_count": 55,
     "metadata": {},
     "output_type": "execute_result"
    }
   ],
   "source": [
    "data2.head()"
   ]
  },
  {
   "cell_type": "code",
   "execution_count": 56,
   "metadata": {},
   "outputs": [
    {
     "name": "stdout",
     "output_type": "stream",
     "text": [
      "<class 'pandas.core.frame.DataFrame'>\n",
      "Int64Index: 2293 entries, 0 to 2292\n",
      "Data columns (total 7 columns):\n",
      " #   Column         Non-Null Count  Dtype  \n",
      "---  ------         --------------  -----  \n",
      " 0   user_id        2293 non-null   int64  \n",
      " 1   month          2293 non-null   int64  \n",
      " 2   mb_used        2293 non-null   float64\n",
      " 3   gb_used        2293 non-null   float64\n",
      " 4   duration       2293 non-null   float64\n",
      " 5   call_count     2293 non-null   float64\n",
      " 6   message_count  2293 non-null   float64\n",
      "dtypes: float64(5), int64(2)\n",
      "memory usage: 143.3 KB\n"
     ]
    }
   ],
   "source": [
    "data2.info()"
   ]
  },
  {
   "cell_type": "markdown",
   "metadata": {},
   "source": [
    "Looks good! We've got 2293 rows as a result. Now we just need to merge it one last time to add plans – and this will be our *data*:"
   ]
  },
  {
   "cell_type": "code",
   "execution_count": 57,
   "metadata": {},
   "outputs": [],
   "source": [
    "data = pd.merge(left = data2, right = users[['user_id', 'plan']], how = 'left', on = 'user_id')"
   ]
  },
  {
   "cell_type": "code",
   "execution_count": 58,
   "metadata": {},
   "outputs": [
    {
     "data": {
      "text/html": [
       "<div>\n",
       "<style scoped>\n",
       "    .dataframe tbody tr th:only-of-type {\n",
       "        vertical-align: middle;\n",
       "    }\n",
       "\n",
       "    .dataframe tbody tr th {\n",
       "        vertical-align: top;\n",
       "    }\n",
       "\n",
       "    .dataframe thead th {\n",
       "        text-align: right;\n",
       "    }\n",
       "</style>\n",
       "<table border=\"1\" class=\"dataframe\">\n",
       "  <thead>\n",
       "    <tr style=\"text-align: right;\">\n",
       "      <th></th>\n",
       "      <th>user_id</th>\n",
       "      <th>month</th>\n",
       "      <th>mb_used</th>\n",
       "      <th>gb_used</th>\n",
       "      <th>duration</th>\n",
       "      <th>call_count</th>\n",
       "      <th>message_count</th>\n",
       "      <th>plan</th>\n",
       "    </tr>\n",
       "  </thead>\n",
       "  <tbody>\n",
       "    <tr>\n",
       "      <th>0</th>\n",
       "      <td>1000</td>\n",
       "      <td>12</td>\n",
       "      <td>1901.47</td>\n",
       "      <td>2.0</td>\n",
       "      <td>124.0</td>\n",
       "      <td>16.0</td>\n",
       "      <td>11.0</td>\n",
       "      <td>ultimate</td>\n",
       "    </tr>\n",
       "    <tr>\n",
       "      <th>1</th>\n",
       "      <td>1001</td>\n",
       "      <td>8</td>\n",
       "      <td>6919.15</td>\n",
       "      <td>7.0</td>\n",
       "      <td>182.0</td>\n",
       "      <td>27.0</td>\n",
       "      <td>30.0</td>\n",
       "      <td>surf</td>\n",
       "    </tr>\n",
       "    <tr>\n",
       "      <th>2</th>\n",
       "      <td>1001</td>\n",
       "      <td>9</td>\n",
       "      <td>13314.82</td>\n",
       "      <td>14.0</td>\n",
       "      <td>315.0</td>\n",
       "      <td>49.0</td>\n",
       "      <td>44.0</td>\n",
       "      <td>surf</td>\n",
       "    </tr>\n",
       "    <tr>\n",
       "      <th>3</th>\n",
       "      <td>1001</td>\n",
       "      <td>10</td>\n",
       "      <td>22330.49</td>\n",
       "      <td>22.0</td>\n",
       "      <td>393.0</td>\n",
       "      <td>65.0</td>\n",
       "      <td>53.0</td>\n",
       "      <td>surf</td>\n",
       "    </tr>\n",
       "    <tr>\n",
       "      <th>4</th>\n",
       "      <td>1001</td>\n",
       "      <td>11</td>\n",
       "      <td>18504.30</td>\n",
       "      <td>19.0</td>\n",
       "      <td>426.0</td>\n",
       "      <td>64.0</td>\n",
       "      <td>36.0</td>\n",
       "      <td>surf</td>\n",
       "    </tr>\n",
       "    <tr>\n",
       "      <th>5</th>\n",
       "      <td>1001</td>\n",
       "      <td>12</td>\n",
       "      <td>19369.18</td>\n",
       "      <td>19.0</td>\n",
       "      <td>412.0</td>\n",
       "      <td>56.0</td>\n",
       "      <td>44.0</td>\n",
       "      <td>surf</td>\n",
       "    </tr>\n",
       "    <tr>\n",
       "      <th>6</th>\n",
       "      <td>1002</td>\n",
       "      <td>10</td>\n",
       "      <td>6552.01</td>\n",
       "      <td>7.0</td>\n",
       "      <td>59.0</td>\n",
       "      <td>11.0</td>\n",
       "      <td>15.0</td>\n",
       "      <td>surf</td>\n",
       "    </tr>\n",
       "    <tr>\n",
       "      <th>7</th>\n",
       "      <td>1002</td>\n",
       "      <td>11</td>\n",
       "      <td>19345.08</td>\n",
       "      <td>19.0</td>\n",
       "      <td>386.0</td>\n",
       "      <td>55.0</td>\n",
       "      <td>32.0</td>\n",
       "      <td>surf</td>\n",
       "    </tr>\n",
       "    <tr>\n",
       "      <th>8</th>\n",
       "      <td>1002</td>\n",
       "      <td>12</td>\n",
       "      <td>14396.24</td>\n",
       "      <td>15.0</td>\n",
       "      <td>384.0</td>\n",
       "      <td>47.0</td>\n",
       "      <td>41.0</td>\n",
       "      <td>surf</td>\n",
       "    </tr>\n",
       "    <tr>\n",
       "      <th>9</th>\n",
       "      <td>1003</td>\n",
       "      <td>12</td>\n",
       "      <td>27044.14</td>\n",
       "      <td>27.0</td>\n",
       "      <td>1104.0</td>\n",
       "      <td>149.0</td>\n",
       "      <td>50.0</td>\n",
       "      <td>surf</td>\n",
       "    </tr>\n",
       "  </tbody>\n",
       "</table>\n",
       "</div>"
      ],
      "text/plain": [
       "   user_id  month   mb_used  gb_used  duration  call_count  message_count  \\\n",
       "0     1000     12   1901.47      2.0     124.0        16.0           11.0   \n",
       "1     1001      8   6919.15      7.0     182.0        27.0           30.0   \n",
       "2     1001      9  13314.82     14.0     315.0        49.0           44.0   \n",
       "3     1001     10  22330.49     22.0     393.0        65.0           53.0   \n",
       "4     1001     11  18504.30     19.0     426.0        64.0           36.0   \n",
       "5     1001     12  19369.18     19.0     412.0        56.0           44.0   \n",
       "6     1002     10   6552.01      7.0      59.0        11.0           15.0   \n",
       "7     1002     11  19345.08     19.0     386.0        55.0           32.0   \n",
       "8     1002     12  14396.24     15.0     384.0        47.0           41.0   \n",
       "9     1003     12  27044.14     27.0    1104.0       149.0           50.0   \n",
       "\n",
       "       plan  \n",
       "0  ultimate  \n",
       "1      surf  \n",
       "2      surf  \n",
       "3      surf  \n",
       "4      surf  \n",
       "5      surf  \n",
       "6      surf  \n",
       "7      surf  \n",
       "8      surf  \n",
       "9      surf  "
      ]
     },
     "execution_count": 58,
     "metadata": {},
     "output_type": "execute_result"
    }
   ],
   "source": [
    "data.head(10)"
   ]
  },
  {
   "cell_type": "markdown",
   "metadata": {},
   "source": [
    "Beautiful!"
   ]
  },
  {
   "cell_type": "markdown",
   "metadata": {},
   "source": [
    "#### Calculating revenue"
   ]
  },
  {
   "cell_type": "markdown",
   "metadata": {},
   "source": [
    "Recall our plan details for Surf and Ultimate:\n",
    "\n",
    "`Surf`:\\\n",
    "Monthly charge: 20 usd\\\n",
    "500 monthly minutes, 50 texts, and 15 GB of data\\\n",
    "After exceeding the package limits:\\\n",
    "- 1 minute: 3 cents\n",
    "- 1 text message: 3 cents\n",
    "- 1 GB of data: 10 usd\n",
    "\n",
    "`Ultimate`:\\\n",
    "Monthly charge: 70 usd\\\n",
    "3000 monthly minutes, 1000 text messages, and 30 GB of data\\\n",
    "After exceeding the package limits:\\\n",
    "- 1 minute: 1 cent\n",
    "- 1 text message: 1 cent\n",
    "- 1 GB of data: 7 usd"
   ]
  },
  {
   "cell_type": "markdown",
   "metadata": {},
   "source": [
    "This means that for every month for every user, in case they use Surf and they've used less than or exactly 500 minutes and 15 GB of data and sent 50 or less texts, the revenue will be 20 usd. For every minute and text message above the limit 0.03 usd is added to the 20 usd of revenue, and 10 usd is added to the monthly charge of 20 usd for every GB above the limit. The logic is exactly the same for users of Ultimate, adjusted for the respective numbers.\n",
    "\n",
    "So the best way to calculate revenue, in my opinion, is to create a function and apply it by row (since we will be accessing different columns):"
   ]
  },
  {
   "cell_type": "markdown",
   "metadata": {},
   "source": [
    "3rd user (by index) should have 100.09 in revenue"
   ]
  },
  {
   "cell_type": "code",
   "execution_count": 59,
   "metadata": {},
   "outputs": [],
   "source": [
    "surf_charge = 20\n",
    "ultimate_charge = 70\n",
    "\n",
    "def calculate_revenue(row):\n",
    "    \n",
    "    gb = row['gb_used']\n",
    "    mins = row['duration']\n",
    "    messages = row['message_count']\n",
    "    plan = row['plan']\n",
    "    \n",
    "    revenue = 0\n",
    "    \n",
    "    if plan == 'surf':\n",
    "        revenue = surf_charge\n",
    "        if mins <= 500 and gb <= 15 and messages <= 50:\n",
    "            revenue = revenue\n",
    "        if mins > 500:\n",
    "            surcharge_mins = (mins - 500)*0.03\n",
    "            revenue += surcharge_mins\n",
    "        if gb > 15:\n",
    "            surcharge_gb = (gb - 15)*10\n",
    "            revenue += surcharge_gb\n",
    "        if messages > 50:\n",
    "            surcharge_text = (messages - 50)*0.03\n",
    "            revenue += surcharge_text\n",
    "        \n",
    "    elif plan == 'ultimate':\n",
    "        revenue = ultimate_charge\n",
    "        if mins <= 3000 and gb <= 30 and messages <= 1000:\n",
    "            revenue = revenue\n",
    "        if mins > 3000:\n",
    "            surcharge_mins = (mins - 3000)*0.01\n",
    "            revenue += surcharge_mins\n",
    "        if gb > 30:\n",
    "            surcharge_gb = (gb - 30)*7\n",
    "            revenue += surcharge_gb\n",
    "        if messages > 1000:\n",
    "            surcharge_text = (messages - 1000)*0.01\n",
    "            revenue += surcharge_text\n",
    "            \n",
    "    return revenue"
   ]
  },
  {
   "cell_type": "code",
   "execution_count": 60,
   "metadata": {},
   "outputs": [],
   "source": [
    "data['revenue'] = data.apply(calculate_revenue, axis=1)"
   ]
  },
  {
   "cell_type": "code",
   "execution_count": 61,
   "metadata": {},
   "outputs": [
    {
     "data": {
      "text/html": [
       "<div>\n",
       "<style scoped>\n",
       "    .dataframe tbody tr th:only-of-type {\n",
       "        vertical-align: middle;\n",
       "    }\n",
       "\n",
       "    .dataframe tbody tr th {\n",
       "        vertical-align: top;\n",
       "    }\n",
       "\n",
       "    .dataframe thead th {\n",
       "        text-align: right;\n",
       "    }\n",
       "</style>\n",
       "<table border=\"1\" class=\"dataframe\">\n",
       "  <thead>\n",
       "    <tr style=\"text-align: right;\">\n",
       "      <th></th>\n",
       "      <th>user_id</th>\n",
       "      <th>month</th>\n",
       "      <th>mb_used</th>\n",
       "      <th>gb_used</th>\n",
       "      <th>duration</th>\n",
       "      <th>call_count</th>\n",
       "      <th>message_count</th>\n",
       "      <th>plan</th>\n",
       "      <th>revenue</th>\n",
       "    </tr>\n",
       "  </thead>\n",
       "  <tbody>\n",
       "    <tr>\n",
       "      <th>0</th>\n",
       "      <td>1000</td>\n",
       "      <td>12</td>\n",
       "      <td>1901.47</td>\n",
       "      <td>2.0</td>\n",
       "      <td>124.0</td>\n",
       "      <td>16.0</td>\n",
       "      <td>11.0</td>\n",
       "      <td>ultimate</td>\n",
       "      <td>70.00</td>\n",
       "    </tr>\n",
       "    <tr>\n",
       "      <th>1</th>\n",
       "      <td>1001</td>\n",
       "      <td>8</td>\n",
       "      <td>6919.15</td>\n",
       "      <td>7.0</td>\n",
       "      <td>182.0</td>\n",
       "      <td>27.0</td>\n",
       "      <td>30.0</td>\n",
       "      <td>surf</td>\n",
       "      <td>20.00</td>\n",
       "    </tr>\n",
       "    <tr>\n",
       "      <th>2</th>\n",
       "      <td>1001</td>\n",
       "      <td>9</td>\n",
       "      <td>13314.82</td>\n",
       "      <td>14.0</td>\n",
       "      <td>315.0</td>\n",
       "      <td>49.0</td>\n",
       "      <td>44.0</td>\n",
       "      <td>surf</td>\n",
       "      <td>20.00</td>\n",
       "    </tr>\n",
       "    <tr>\n",
       "      <th>3</th>\n",
       "      <td>1001</td>\n",
       "      <td>10</td>\n",
       "      <td>22330.49</td>\n",
       "      <td>22.0</td>\n",
       "      <td>393.0</td>\n",
       "      <td>65.0</td>\n",
       "      <td>53.0</td>\n",
       "      <td>surf</td>\n",
       "      <td>90.09</td>\n",
       "    </tr>\n",
       "    <tr>\n",
       "      <th>4</th>\n",
       "      <td>1001</td>\n",
       "      <td>11</td>\n",
       "      <td>18504.30</td>\n",
       "      <td>19.0</td>\n",
       "      <td>426.0</td>\n",
       "      <td>64.0</td>\n",
       "      <td>36.0</td>\n",
       "      <td>surf</td>\n",
       "      <td>60.00</td>\n",
       "    </tr>\n",
       "    <tr>\n",
       "      <th>5</th>\n",
       "      <td>1001</td>\n",
       "      <td>12</td>\n",
       "      <td>19369.18</td>\n",
       "      <td>19.0</td>\n",
       "      <td>412.0</td>\n",
       "      <td>56.0</td>\n",
       "      <td>44.0</td>\n",
       "      <td>surf</td>\n",
       "      <td>60.00</td>\n",
       "    </tr>\n",
       "    <tr>\n",
       "      <th>6</th>\n",
       "      <td>1002</td>\n",
       "      <td>10</td>\n",
       "      <td>6552.01</td>\n",
       "      <td>7.0</td>\n",
       "      <td>59.0</td>\n",
       "      <td>11.0</td>\n",
       "      <td>15.0</td>\n",
       "      <td>surf</td>\n",
       "      <td>20.00</td>\n",
       "    </tr>\n",
       "    <tr>\n",
       "      <th>7</th>\n",
       "      <td>1002</td>\n",
       "      <td>11</td>\n",
       "      <td>19345.08</td>\n",
       "      <td>19.0</td>\n",
       "      <td>386.0</td>\n",
       "      <td>55.0</td>\n",
       "      <td>32.0</td>\n",
       "      <td>surf</td>\n",
       "      <td>60.00</td>\n",
       "    </tr>\n",
       "    <tr>\n",
       "      <th>8</th>\n",
       "      <td>1002</td>\n",
       "      <td>12</td>\n",
       "      <td>14396.24</td>\n",
       "      <td>15.0</td>\n",
       "      <td>384.0</td>\n",
       "      <td>47.0</td>\n",
       "      <td>41.0</td>\n",
       "      <td>surf</td>\n",
       "      <td>20.00</td>\n",
       "    </tr>\n",
       "    <tr>\n",
       "      <th>9</th>\n",
       "      <td>1003</td>\n",
       "      <td>12</td>\n",
       "      <td>27044.14</td>\n",
       "      <td>27.0</td>\n",
       "      <td>1104.0</td>\n",
       "      <td>149.0</td>\n",
       "      <td>50.0</td>\n",
       "      <td>surf</td>\n",
       "      <td>158.12</td>\n",
       "    </tr>\n",
       "    <tr>\n",
       "      <th>10</th>\n",
       "      <td>1004</td>\n",
       "      <td>5</td>\n",
       "      <td>6547.21</td>\n",
       "      <td>7.0</td>\n",
       "      <td>193.0</td>\n",
       "      <td>21.0</td>\n",
       "      <td>7.0</td>\n",
       "      <td>surf</td>\n",
       "      <td>20.00</td>\n",
       "    </tr>\n",
       "    <tr>\n",
       "      <th>11</th>\n",
       "      <td>1004</td>\n",
       "      <td>6</td>\n",
       "      <td>20672.82</td>\n",
       "      <td>21.0</td>\n",
       "      <td>275.0</td>\n",
       "      <td>44.0</td>\n",
       "      <td>18.0</td>\n",
       "      <td>surf</td>\n",
       "      <td>80.00</td>\n",
       "    </tr>\n",
       "    <tr>\n",
       "      <th>12</th>\n",
       "      <td>1004</td>\n",
       "      <td>7</td>\n",
       "      <td>24516.62</td>\n",
       "      <td>24.0</td>\n",
       "      <td>381.0</td>\n",
       "      <td>49.0</td>\n",
       "      <td>26.0</td>\n",
       "      <td>surf</td>\n",
       "      <td>110.00</td>\n",
       "    </tr>\n",
       "    <tr>\n",
       "      <th>13</th>\n",
       "      <td>1004</td>\n",
       "      <td>8</td>\n",
       "      <td>27981.74</td>\n",
       "      <td>28.0</td>\n",
       "      <td>354.0</td>\n",
       "      <td>49.0</td>\n",
       "      <td>25.0</td>\n",
       "      <td>surf</td>\n",
       "      <td>150.00</td>\n",
       "    </tr>\n",
       "    <tr>\n",
       "      <th>14</th>\n",
       "      <td>1004</td>\n",
       "      <td>9</td>\n",
       "      <td>18852.72</td>\n",
       "      <td>19.0</td>\n",
       "      <td>301.0</td>\n",
       "      <td>42.0</td>\n",
       "      <td>21.0</td>\n",
       "      <td>surf</td>\n",
       "      <td>60.00</td>\n",
       "    </tr>\n",
       "    <tr>\n",
       "      <th>15</th>\n",
       "      <td>1004</td>\n",
       "      <td>10</td>\n",
       "      <td>14541.63</td>\n",
       "      <td>15.0</td>\n",
       "      <td>365.0</td>\n",
       "      <td>61.0</td>\n",
       "      <td>24.0</td>\n",
       "      <td>surf</td>\n",
       "      <td>20.00</td>\n",
       "    </tr>\n",
       "    <tr>\n",
       "      <th>16</th>\n",
       "      <td>1004</td>\n",
       "      <td>11</td>\n",
       "      <td>21850.78</td>\n",
       "      <td>22.0</td>\n",
       "      <td>476.0</td>\n",
       "      <td>54.0</td>\n",
       "      <td>25.0</td>\n",
       "      <td>surf</td>\n",
       "      <td>90.00</td>\n",
       "    </tr>\n",
       "    <tr>\n",
       "      <th>17</th>\n",
       "      <td>1004</td>\n",
       "      <td>12</td>\n",
       "      <td>21389.29</td>\n",
       "      <td>21.0</td>\n",
       "      <td>427.0</td>\n",
       "      <td>50.0</td>\n",
       "      <td>31.0</td>\n",
       "      <td>surf</td>\n",
       "      <td>80.00</td>\n",
       "    </tr>\n",
       "    <tr>\n",
       "      <th>18</th>\n",
       "      <td>1005</td>\n",
       "      <td>12</td>\n",
       "      <td>17140.17</td>\n",
       "      <td>17.0</td>\n",
       "      <td>496.0</td>\n",
       "      <td>59.0</td>\n",
       "      <td>11.0</td>\n",
       "      <td>surf</td>\n",
       "      <td>40.00</td>\n",
       "    </tr>\n",
       "    <tr>\n",
       "      <th>19</th>\n",
       "      <td>1006</td>\n",
       "      <td>11</td>\n",
       "      <td>2068.37</td>\n",
       "      <td>3.0</td>\n",
       "      <td>10.0</td>\n",
       "      <td>2.0</td>\n",
       "      <td>15.0</td>\n",
       "      <td>ultimate</td>\n",
       "      <td>70.00</td>\n",
       "    </tr>\n",
       "  </tbody>\n",
       "</table>\n",
       "</div>"
      ],
      "text/plain": [
       "    user_id  month   mb_used  gb_used  duration  call_count  message_count  \\\n",
       "0      1000     12   1901.47      2.0     124.0        16.0           11.0   \n",
       "1      1001      8   6919.15      7.0     182.0        27.0           30.0   \n",
       "2      1001      9  13314.82     14.0     315.0        49.0           44.0   \n",
       "3      1001     10  22330.49     22.0     393.0        65.0           53.0   \n",
       "4      1001     11  18504.30     19.0     426.0        64.0           36.0   \n",
       "5      1001     12  19369.18     19.0     412.0        56.0           44.0   \n",
       "6      1002     10   6552.01      7.0      59.0        11.0           15.0   \n",
       "7      1002     11  19345.08     19.0     386.0        55.0           32.0   \n",
       "8      1002     12  14396.24     15.0     384.0        47.0           41.0   \n",
       "9      1003     12  27044.14     27.0    1104.0       149.0           50.0   \n",
       "10     1004      5   6547.21      7.0     193.0        21.0            7.0   \n",
       "11     1004      6  20672.82     21.0     275.0        44.0           18.0   \n",
       "12     1004      7  24516.62     24.0     381.0        49.0           26.0   \n",
       "13     1004      8  27981.74     28.0     354.0        49.0           25.0   \n",
       "14     1004      9  18852.72     19.0     301.0        42.0           21.0   \n",
       "15     1004     10  14541.63     15.0     365.0        61.0           24.0   \n",
       "16     1004     11  21850.78     22.0     476.0        54.0           25.0   \n",
       "17     1004     12  21389.29     21.0     427.0        50.0           31.0   \n",
       "18     1005     12  17140.17     17.0     496.0        59.0           11.0   \n",
       "19     1006     11   2068.37      3.0      10.0         2.0           15.0   \n",
       "\n",
       "        plan  revenue  \n",
       "0   ultimate    70.00  \n",
       "1       surf    20.00  \n",
       "2       surf    20.00  \n",
       "3       surf    90.09  \n",
       "4       surf    60.00  \n",
       "5       surf    60.00  \n",
       "6       surf    20.00  \n",
       "7       surf    60.00  \n",
       "8       surf    20.00  \n",
       "9       surf   158.12  \n",
       "10      surf    20.00  \n",
       "11      surf    80.00  \n",
       "12      surf   110.00  \n",
       "13      surf   150.00  \n",
       "14      surf    60.00  \n",
       "15      surf    20.00  \n",
       "16      surf    90.00  \n",
       "17      surf    80.00  \n",
       "18      surf    40.00  \n",
       "19  ultimate    70.00  "
      ]
     },
     "execution_count": 61,
     "metadata": {},
     "output_type": "execute_result"
    }
   ],
   "source": [
    "data.head(20)"
   ]
  },
  {
   "cell_type": "markdown",
   "metadata": {},
   "source": [
    "Phew! It checks out."
   ]
  },
  {
   "cell_type": "markdown",
   "metadata": {},
   "source": [
    "Now let's dig into this data to see what it can tell us about the differences between Ultimate and Surf subscribers."
   ]
  },
  {
   "cell_type": "markdown",
   "metadata": {},
   "source": [
    "<div class=\"alert alert-success\">\n",
    "<b>Reviewer's comment v1:</b>\n",
    "    \n",
    "Great! Revenue has been calculated correctly and good that you created function for it.\n",
    "    \n",
    "Btw it is also possible to make the calculation of revenue a little bit differently using np.where - [https://numpy.org/doc/stable/reference/generated/numpy.where.html](https://numpy.org/doc/stable/reference/generated/numpy.where.html)\n",
    "\n",
    "```\n",
    "  np.where ('condition: if exceeding the package limit', 'multiply the difference by the price of additional services', '0')\n",
    "```\n",
    "\n",
    "Also, it is better to avoid hard-coding in your functions of all values from the data plans. These values could be frequently updated and it will be annoyingly inconvenient to update them once again in the function. I would recommend to use an actual table with values or create a separate data dictionary - https://towardsdatascience.com/12-examples-to-master-python-dictionaries-5a8bcd688c6d"
   ]
  },
  {
   "cell_type": "markdown",
   "metadata": {},
   "source": [
    "## Analysis"
   ]
  },
  {
   "cell_type": "markdown",
   "metadata": {},
   "source": [
    "So let's take a look at how our data is distributed. First, let's see what the general statistics are like for Surf and Ultimate. One would expect to see a higher average number of calls – or their duration, – as well as more texts, and more GB of data used for Ultimate subscribers, than for Surf."
   ]
  },
  {
   "cell_type": "code",
   "execution_count": 62,
   "metadata": {},
   "outputs": [
    {
     "name": "stderr",
     "output_type": "stream",
     "text": [
      "/var/folders/1g/s3zdmnjx7gsfvmjbw229rc7w0000gn/T/ipykernel_22736/2824137604.py:1: FutureWarning: Indexing with multiple keys (implicitly converted to a tuple of keys) will be deprecated, use a list instead.\n",
      "  data.groupby(['plan'])['call_count', 'duration', 'gb_used', 'message_count'].agg(['mean','median']).T\n"
     ]
    },
    {
     "data": {
      "text/html": [
       "<div>\n",
       "<style scoped>\n",
       "    .dataframe tbody tr th:only-of-type {\n",
       "        vertical-align: middle;\n",
       "    }\n",
       "\n",
       "    .dataframe tbody tr th {\n",
       "        vertical-align: top;\n",
       "    }\n",
       "\n",
       "    .dataframe thead th {\n",
       "        text-align: right;\n",
       "    }\n",
       "</style>\n",
       "<table border=\"1\" class=\"dataframe\">\n",
       "  <thead>\n",
       "    <tr style=\"text-align: right;\">\n",
       "      <th></th>\n",
       "      <th>plan</th>\n",
       "      <th>surf</th>\n",
       "      <th>ultimate</th>\n",
       "    </tr>\n",
       "  </thead>\n",
       "  <tbody>\n",
       "    <tr>\n",
       "      <th rowspan=\"2\" valign=\"top\">call_count</th>\n",
       "      <th>mean</th>\n",
       "      <td>59.811825</td>\n",
       "      <td>60.626389</td>\n",
       "    </tr>\n",
       "    <tr>\n",
       "      <th>median</th>\n",
       "      <td>60.000000</td>\n",
       "      <td>61.000000</td>\n",
       "    </tr>\n",
       "    <tr>\n",
       "      <th rowspan=\"2\" valign=\"top\">duration</th>\n",
       "      <th>mean</th>\n",
       "      <td>428.749523</td>\n",
       "      <td>430.450000</td>\n",
       "    </tr>\n",
       "    <tr>\n",
       "      <th>median</th>\n",
       "      <td>425.000000</td>\n",
       "      <td>424.000000</td>\n",
       "    </tr>\n",
       "    <tr>\n",
       "      <th rowspan=\"2\" valign=\"top\">gb_used</th>\n",
       "      <th>mean</th>\n",
       "      <td>16.670693</td>\n",
       "      <td>17.306944</td>\n",
       "    </tr>\n",
       "    <tr>\n",
       "      <th>median</th>\n",
       "      <td>17.000000</td>\n",
       "      <td>17.000000</td>\n",
       "    </tr>\n",
       "    <tr>\n",
       "      <th rowspan=\"2\" valign=\"top\">message_count</th>\n",
       "      <th>mean</th>\n",
       "      <td>31.159568</td>\n",
       "      <td>37.551389</td>\n",
       "    </tr>\n",
       "    <tr>\n",
       "      <th>median</th>\n",
       "      <td>24.000000</td>\n",
       "      <td>30.000000</td>\n",
       "    </tr>\n",
       "  </tbody>\n",
       "</table>\n",
       "</div>"
      ],
      "text/plain": [
       "plan                        surf    ultimate\n",
       "call_count    mean     59.811825   60.626389\n",
       "              median   60.000000   61.000000\n",
       "duration      mean    428.749523  430.450000\n",
       "              median  425.000000  424.000000\n",
       "gb_used       mean     16.670693   17.306944\n",
       "              median   17.000000   17.000000\n",
       "message_count mean     31.159568   37.551389\n",
       "              median   24.000000   30.000000"
      ]
     },
     "execution_count": 62,
     "metadata": {},
     "output_type": "execute_result"
    }
   ],
   "source": [
    "data.groupby(['plan'])['call_count', 'duration', 'gb_used', 'message_count'].agg(['mean','median']).T"
   ]
  },
  {
   "cell_type": "markdown",
   "metadata": {},
   "source": [
    "OK, so we can see that the mean and median number of calls seems to be a bit higher for Ultimate, but not significantly. The median number of minutes per month is lower for Ultimate than for Surf, however the data is likely to be more skewed to the right with the mean being slightly higher, which suggests that there are more Ultimate subscribers spending more minutes than Surf users.\n",
    "\n",
    "Looking at mean values in the case of GB used which are rounded to one GB makes more sense here – it allows us to see that there are more Ultimate users spending higher volumes of data than there are Surf users. Hence we see the mean value of gb_used which goes 0.7 GB above both plans' median values and almost 0.7 above Surf subscribers' mean value.\n",
    "\n",
    "Finally there is the same pattern when it comes to messages: Ultimate users on average text more in a month. \n",
    "\n",
    "The basic stats seem to confirm the initial intuition, however it is still surprising that the difference is really not that stark – especially in case of data usage and minutes spent per month."
   ]
  },
  {
   "cell_type": "markdown",
   "metadata": {},
   "source": [
    "Let's divide our data into Surf and Ultimate users for convenience:"
   ]
  },
  {
   "cell_type": "code",
   "execution_count": 63,
   "metadata": {},
   "outputs": [],
   "source": [
    "surf = data.query('plan == \"surf\"')\n",
    "ultimate = data.query('plan == \"ultimate\"')"
   ]
  },
  {
   "cell_type": "markdown",
   "metadata": {},
   "source": [
    "Let's look at a more detailed stat breakdown for monthly call duration and data usage:"
   ]
  },
  {
   "cell_type": "code",
   "execution_count": 64,
   "metadata": {},
   "outputs": [
    {
     "data": {
      "text/plain": [
       "count    1573.000000\n",
       "mean      428.749523\n",
       "std       234.453150\n",
       "min         0.000000\n",
       "25%       272.000000\n",
       "50%       425.000000\n",
       "75%       576.000000\n",
       "max      1510.000000\n",
       "Name: duration, dtype: float64"
      ]
     },
     "execution_count": 64,
     "metadata": {},
     "output_type": "execute_result"
    }
   ],
   "source": [
    "surf['duration'].describe()"
   ]
  },
  {
   "cell_type": "code",
   "execution_count": 65,
   "metadata": {},
   "outputs": [
    {
     "data": {
      "text/plain": [
       "count     720.000000\n",
       "mean      430.450000\n",
       "std       240.508762\n",
       "min         0.000000\n",
       "25%       260.000000\n",
       "50%       424.000000\n",
       "75%       565.250000\n",
       "max      1369.000000\n",
       "Name: duration, dtype: float64"
      ]
     },
     "execution_count": 65,
     "metadata": {},
     "output_type": "execute_result"
    }
   ],
   "source": [
    "ultimate['duration'].describe()"
   ]
  },
  {
   "cell_type": "markdown",
   "metadata": {},
   "source": [
    "So we see that the distribution is quite similar, including the dispersion as measured by the standard deviation. But the data is more skewed towards higher values for Ultimate callers."
   ]
  },
  {
   "cell_type": "code",
   "execution_count": 66,
   "metadata": {},
   "outputs": [
    {
     "data": {
      "text/plain": [
       "count    1573.000000\n",
       "mean       16.670693\n",
       "std         7.847522\n",
       "min         0.000000\n",
       "25%        12.000000\n",
       "50%        17.000000\n",
       "75%        21.000000\n",
       "max        70.000000\n",
       "Name: gb_used, dtype: float64"
      ]
     },
     "execution_count": 66,
     "metadata": {},
     "output_type": "execute_result"
    }
   ],
   "source": [
    "surf['gb_used'].describe()"
   ]
  },
  {
   "cell_type": "code",
   "execution_count": 67,
   "metadata": {},
   "outputs": [
    {
     "data": {
      "text/plain": [
       "count    720.000000\n",
       "mean      17.306944\n",
       "std        7.670108\n",
       "min        0.000000\n",
       "25%       13.000000\n",
       "50%       17.000000\n",
       "75%       21.000000\n",
       "max       46.000000\n",
       "Name: gb_used, dtype: float64"
      ]
     },
     "execution_count": 67,
     "metadata": {},
     "output_type": "execute_result"
    }
   ],
   "source": [
    "ultimate['gb_used'].describe()"
   ]
  },
  {
   "cell_type": "code",
   "execution_count": 68,
   "metadata": {},
   "outputs": [
    {
     "data": {
      "image/png": "[encoded data removed]",
      "text/plain": [
       "<Figure size 432x288 with 1 Axes>"
      ]
     },
     "metadata": {
      "needs_background": "light"
     },
     "output_type": "display_data"
    }
   ],
   "source": [
    "ultimate['gb_used'].plot(kind = 'box')\n",
    "plt.title('Distribution of monthly data usage for Ultimate users')\n",
    "plt.show()"
   ]
  },
  {
   "cell_type": "code",
   "execution_count": 69,
   "metadata": {},
   "outputs": [
    {
     "data": {
      "image/png": "[encoded data removed]",
      "text/plain": [
       "<Figure size 432x288 with 1 Axes>"
      ]
     },
     "metadata": {
      "needs_background": "light"
     },
     "output_type": "display_data"
    }
   ],
   "source": [
    "surf['gb_used'].plot(kind = 'box')\n",
    "plt.title('Distribution of monthly data usage for Surf users')\n",
    "plt.show()"
   ]
  },
  {
   "cell_type": "markdown",
   "metadata": {},
   "source": [
    "So – despite those couple of more extreme volumes of data used occuring among Surf users, we see that generally more Ultimate users tend to spend higher volumes of data between 17 (which is the mean value) and somewhere in the lower 20s GB, than Surf users. It might be that they just generally feel more at ease spending higher volumes. And it seems to prove that 15 GB per month is definitely not enough for a lot of Surf users to satisfy their online surfing needs."
   ]
  },
  {
   "cell_type": "markdown",
   "metadata": {},
   "source": [
    "Now let's see how this data is distributed, and let's start by looking at monthly call duration and counts:"
   ]
  },
  {
   "cell_type": "code",
   "execution_count": 70,
   "metadata": {},
   "outputs": [
    {
     "data": {
      "image/png": "[encoded data removed]",
      "text/plain": [
       "<Figure size 432x288 with 1 Axes>"
      ]
     },
     "metadata": {
      "needs_background": "light"
     },
     "output_type": "display_data"
    }
   ],
   "source": [
    "surf['duration'].hist(bins = 20)\n",
    "plt.title('Distribution of monthly minutes for Surf')\n",
    "plt.show()"
   ]
  },
  {
   "cell_type": "code",
   "execution_count": 71,
   "metadata": {},
   "outputs": [
    {
     "data": {
      "image/png": "[encoded data removed]",
      "text/plain": [
       "<Figure size 432x288 with 1 Axes>"
      ]
     },
     "metadata": {
      "needs_background": "light"
     },
     "output_type": "display_data"
    }
   ],
   "source": [
    "ultimate['duration'].hist(bins = 20)\n",
    "plt.title('Distribution of monthly minutes for Ultimate')\n",
    "plt.show()"
   ]
  },
  {
   "cell_type": "code",
   "execution_count": 72,
   "metadata": {},
   "outputs": [
    {
     "data": {
      "image/png": "[encoded data removed]",
      "text/plain": [
       "<Figure size 720x288 with 2 Axes>"
      ]
     },
     "metadata": {
      "needs_background": "light"
     },
     "output_type": "display_data"
    }
   ],
   "source": [
    "data['duration'].hist(bins = 20, by = data['plan'], figsize = (10, 4))\n",
    "plt.show()"
   ]
  },
  {
   "cell_type": "code",
   "execution_count": 73,
   "metadata": {},
   "outputs": [
    {
     "data": {
      "image/png": "[encoded data removed]",
      "text/plain": [
       "<Figure size 432x288 with 1 Axes>"
      ]
     },
     "metadata": {
      "needs_background": "light"
     },
     "output_type": "display_data"
    }
   ],
   "source": [
    "sns.histplot(data, x = 'duration', hue = 'plan', bins = 20)\n",
    "plt.title('Distribution of monthly minutes for Surf and Ultimate')\n",
    "plt.show()"
   ]
  },
  {
   "cell_type": "markdown",
   "metadata": {},
   "source": [
    "<div class=\"alert alert-block alert-success\">\n",
    "<b>Reviewer's comment v2</b>\n",
    " \n",
    "One point to keep in mind is that Yandex Praktikum environment sometimes has older libraries, so this could cause some issues sometimes. \n",
    "\n",
    "One approach is to locally update them and just put in comments what is needed for a reviewer. "
   ]
  },
  {
   "cell_type": "markdown",
   "metadata": {},
   "source": [
    "Seaborn looks super sleak! However it's a bit misleading to look at it considering the different counts for the two plans!"
   ]
  },
  {
   "cell_type": "markdown",
   "metadata": {},
   "source": [
    "Now, we can see that for Ultimate users at peak, duration of 400 to 500 mins per month seems to be more frequent, and there seem to be slightly more extreme values on the longer end. And we can see a somewhat more packed buildup for Surf users trying to stay within 500 min monthly limit and therefore data thinning out quicker after that mark. However we should keep in mind that we have different amount of users (for Ultimate it's roughly twice as few). But also, we're looking at instance of monthly aggregate recording of data, which seems somewhat strange. We can also group our data by users and use average (mean) monthly values to look at distribution among users:"
   ]
  },
  {
   "cell_type": "code",
   "execution_count": 74,
   "metadata": {},
   "outputs": [
    {
     "data": {
      "image/png": "[encoded data removed]",
      "text/plain": [
       "<Figure size 432x288 with 1 Axes>"
      ]
     },
     "metadata": {
      "needs_background": "light"
     },
     "output_type": "display_data"
    }
   ],
   "source": [
    "surf.groupby('user_id')['duration'].agg('mean').hist(bins = 20)\n",
    "plt.title('Distribution of average monthly minutes for Surf users')\n",
    "plt.show()"
   ]
  },
  {
   "cell_type": "code",
   "execution_count": 75,
   "metadata": {},
   "outputs": [
    {
     "data": {
      "image/png": "[encoded data removed]",
      "text/plain": [
       "<Figure size 432x288 with 1 Axes>"
      ]
     },
     "metadata": {
      "needs_background": "light"
     },
     "output_type": "display_data"
    }
   ],
   "source": [
    "ultimate.groupby('user_id')['duration'].agg('mean').hist(bins = 20)\n",
    "plt.title('Distribution of average monthly minutes for Ultimate users')\n",
    "plt.show()"
   ]
  },
  {
   "cell_type": "code",
   "execution_count": 76,
   "metadata": {},
   "outputs": [
    {
     "data": {
      "image/png": "[encoded data removed]",
      "text/plain": [
       "<Figure size 720x288 with 2 Axes>"
      ]
     },
     "metadata": {
      "needs_background": "light"
     },
     "output_type": "display_data"
    }
   ],
   "source": [
    "data.groupby('user_id')['duration'].agg('mean').hist(by = data['plan'], figsize = (10, 4), bins = 20)\n",
    "plt.title('Distribution of average monthly minutes for Surf and Ultimate users')\n",
    "plt.show()"
   ]
  },
  {
   "cell_type": "markdown",
   "metadata": {},
   "source": [
    "Looking at average monthly minutes by users gives us a slighly sharper picture: we can see that the data is definitely more skewed to the left for Surf users as it peaks before the mean and median values, while average Ultimate user seems to be a bit more likely to spend more minutes. This certainly makes sense in the way that many Surf users will try to pack those minutes in the 500 call monthly limit space."
   ]
  },
  {
   "cell_type": "code",
   "execution_count": 77,
   "metadata": {},
   "outputs": [
    {
     "data": {
      "image/png": "[encoded data removed]",
      "text/plain": [
       "<Figure size 432x288 with 1 Axes>"
      ]
     },
     "metadata": {
      "needs_background": "light"
     },
     "output_type": "display_data"
    }
   ],
   "source": [
    "surf.groupby('user_id')['call_count'].agg('mean').hist()\n",
    "plt.title('Distribution of average monthly number of calls by Surf users')\n",
    "plt.show()"
   ]
  },
  {
   "cell_type": "code",
   "execution_count": 78,
   "metadata": {},
   "outputs": [
    {
     "data": {
      "image/png": "[encoded data removed]",
      "text/plain": [
       "<Figure size 432x288 with 1 Axes>"
      ]
     },
     "metadata": {
      "needs_background": "light"
     },
     "output_type": "display_data"
    }
   ],
   "source": [
    "ultimate.groupby('user_id')['call_count'].agg('mean').hist()\n",
    "plt.title('Distribution of average monthly number of calls by Ultimate users')\n",
    "plt.show()"
   ]
  },
  {
   "cell_type": "code",
   "execution_count": 79,
   "metadata": {},
   "outputs": [
    {
     "data": {
      "image/png": "[encoded data removed]",
      "text/plain": [
       "<Figure size 720x288 with 2 Axes>"
      ]
     },
     "metadata": {
      "needs_background": "light"
     },
     "output_type": "display_data"
    }
   ],
   "source": [
    "data.groupby('user_id')['call_count'].agg('mean').hist(by = data['plan'], bins = 20, figsize = (10, 4))\n",
    "plt.title('Distribution of average monthly number of calls for Surf and Ultimate users')\n",
    "plt.show()"
   ]
  },
  {
   "cell_type": "markdown",
   "metadata": {},
   "source": [
    "OK, weird histogram binning messes up the plots when you put them side by side, but we observe the initial pattern if we make density plots for precision:"
   ]
  },
  {
   "cell_type": "code",
   "execution_count": 80,
   "metadata": {},
   "outputs": [
    {
     "data": {
      "text/plain": [
       "(0.0, 150.0)"
      ]
     },
     "execution_count": 80,
     "metadata": {},
     "output_type": "execute_result"
    },
    {
     "data": {
      "image/png": "[encoded data removed]",
      "text/plain": [
       "<Figure size 432x288 with 1 Axes>"
      ]
     },
     "metadata": {
      "needs_background": "light"
     },
     "output_type": "display_data"
    }
   ],
   "source": [
    "surf.groupby('user_id')['call_count'].agg('mean').plot(kind = 'density')\n",
    "plt.xlim(0, 150)"
   ]
  },
  {
   "cell_type": "code",
   "execution_count": 81,
   "metadata": {},
   "outputs": [
    {
     "data": {
      "text/plain": [
       "(0.0, 150.0)"
      ]
     },
     "execution_count": 81,
     "metadata": {},
     "output_type": "execute_result"
    },
    {
     "data": {
      "image/png": "[encoded data removed]",
      "text/plain": [
       "<Figure size 432x288 with 1 Axes>"
      ]
     },
     "metadata": {
      "needs_background": "light"
     },
     "output_type": "display_data"
    }
   ],
   "source": [
    "ultimate.groupby('user_id')['call_count'].agg('mean').plot(kind = 'density')\n",
    "plt.xlim(0, 150)"
   ]
  },
  {
   "cell_type": "markdown",
   "metadata": {},
   "source": [
    "It looks like Ultimate users more frequently, on average, call around the mean value which is to say roughly 60 times a month (or twice a day), but less frequently fewer or more times than that, than do Surf users. The distribution for Ultimate users' monthly average calls kind of starts to thin out quicker after the peak value. In general, so far we can see that our Ultimate customers aren't really using the calling limits to their full."
   ]
  },
  {
   "cell_type": "code",
   "execution_count": 82,
   "metadata": {},
   "outputs": [
    {
     "data": {
      "image/png": "[encoded data removed]",
      "text/plain": [
       "<Figure size 432x288 with 1 Axes>"
      ]
     },
     "metadata": {
      "needs_background": "light"
     },
     "output_type": "display_data"
    }
   ],
   "source": [
    "surf.groupby('user_id')['mb_used'].agg('mean').hist()\n",
    "plt.title('Distribution of average monthly data usage by Surf users')\n",
    "plt.show()"
   ]
  },
  {
   "cell_type": "code",
   "execution_count": 83,
   "metadata": {},
   "outputs": [
    {
     "data": {
      "image/png": "[encoded data removed]",
      "text/plain": [
       "<Figure size 432x288 with 1 Axes>"
      ]
     },
     "metadata": {
      "needs_background": "light"
     },
     "output_type": "display_data"
    }
   ],
   "source": [
    "ultimate.groupby('user_id')['mb_used'].agg('mean').hist(bins = 10)\n",
    "plt.title('Distribution of average monthly data usage by Ultimate users')\n",
    "plt.show()"
   ]
  },
  {
   "cell_type": "code",
   "execution_count": 84,
   "metadata": {},
   "outputs": [
    {
     "data": {
      "image/png": "[encoded data removed]",
      "text/plain": [
       "<Figure size 720x288 with 2 Axes>"
      ]
     },
     "metadata": {
      "needs_background": "light"
     },
     "output_type": "display_data"
    }
   ],
   "source": [
    "data.groupby('user_id')['mb_used'].agg('mean').hist(by = data['plan'], bins = 20, figsize = (10, 4))\n",
    "plt.title('Distribution of average monthly data usage for Surf and Ultimate users')\n",
    "plt.show()"
   ]
  },
  {
   "cell_type": "markdown",
   "metadata": {},
   "source": [
    "We can see how many Surf users fail do stay within the 15 GB monthly limit (and end up overpaying for extra). There is a stronger buildup around that value however in terms the distribution and then a sharper decline, whereas many more Ultimate users seem to be more comfortable with using more than 15 GB per month since their limit is twice as high – hence the smoother slope downward after the peak."
   ]
  },
  {
   "cell_type": "code",
   "execution_count": 85,
   "metadata": {},
   "outputs": [
    {
     "data": {
      "image/png": "[encoded data removed]",
      "text/plain": [
       "<Figure size 432x288 with 1 Axes>"
      ]
     },
     "metadata": {
      "needs_background": "light"
     },
     "output_type": "display_data"
    }
   ],
   "source": [
    "surf.groupby('user_id')['message_count'].agg('mean').hist()\n",
    "plt.title('Distribution of average monthly text messages sent by Surf users')\n",
    "plt.show()"
   ]
  },
  {
   "cell_type": "code",
   "execution_count": 86,
   "metadata": {},
   "outputs": [
    {
     "data": {
      "image/png": "[encoded data removed]",
      "text/plain": [
       "<Figure size 432x288 with 1 Axes>"
      ]
     },
     "metadata": {
      "needs_background": "light"
     },
     "output_type": "display_data"
    }
   ],
   "source": [
    "ultimate.groupby('user_id')['message_count'].agg('mean').hist()\n",
    "plt.title('Distribution of average monthly text messages sent by Ultimate users')\n",
    "plt.show()"
   ]
  },
  {
   "cell_type": "code",
   "execution_count": 87,
   "metadata": {},
   "outputs": [
    {
     "data": {
      "image/png": "[encoded data removed]",
      "text/plain": [
       "<Figure size 720x288 with 2 Axes>"
      ]
     },
     "metadata": {
      "needs_background": "light"
     },
     "output_type": "display_data"
    }
   ],
   "source": [
    "data.groupby('user_id')['message_count'].agg('mean').hist(by = data['plan'], bins = 10, figsize = (10, 4))\n",
    "plt.title('Distribution of average monthly text messages sent by Surf and Ultimate users')\n",
    "plt.show()"
   ]
  },
  {
   "cell_type": "markdown",
   "metadata": {},
   "source": [
    "As we can see, a lot of users of both plans don't even bother with text messages or send them very rarely (likely because we don't need them as much today (and in 2018) thanks to messengers). Among Surf users the majority don't exceed the monthly limit of 50 texts, whereas Ultimate users on average clearly text more frequently."
   ]
  },
  {
   "cell_type": "markdown",
   "metadata": {},
   "source": [
    "<div class=\"alert alert-success\">\n",
    "<b>Reviewer's comment v1:</b>\n",
    "    \n",
    "- I will write overall thoughts about the data analysis section:\n",
    "- Very nice visualisation of the data. Would be additionally great to combine both plans on one graph for the comparison and also used different graph types to check available data.\n",
    "- It's a matter of taste, but sometimes it is easier to analyze the data (spread, averages, etc.) for each feature using a boxplot in addition to histograms. If you have time and willing to practice, you can display two charts (histogram and a boxplot) using a two-column subplot.\n",
    "\n",
    "```\n",
    "    # Create one row with 2 columns\n",
    "\t  fig, axes = plt.subplots(1, 2, figsize=(16, 5))\n",
    "\n",
    "\t  # Create a histogram for the surf plan\n",
    "\t  sns.distplot(... ax=axes[0])\n",
    "\t  # Create a histogram for the second plan\n",
    "\t  sns.distplot(... ax=axes[0])\n",
    "\t\n",
    "\t  # Create a boxplot for both plans\n",
    "\t  sns.boxplot(... ax=axes[1])\n",
    "```"
   ]
  },
  {
   "cell_type": "code",
   "execution_count": 88,
   "metadata": {},
   "outputs": [
    {
     "data": {
      "text/plain": [
       "<AxesSubplot:xlabel='plan', ylabel='duration'>"
      ]
     },
     "execution_count": 88,
     "metadata": {},
     "output_type": "execute_result"
    },
    {
     "data": {
      "image/png": "[encoded data removed]",
      "text/plain": [
       "<Figure size 1152x360 with 2 Axes>"
      ]
     },
     "metadata": {
      "needs_background": "light"
     },
     "output_type": "display_data"
    }
   ],
   "source": [
    "fig, axes = plt.subplots(1, 2, figsize=(16, 5))\n",
    "\n",
    "sns.histplot(surf, x = 'duration', color = 'orange', ax = axes[0])\n",
    "sns.histplot(ultimate, x = 'duration', ax = axes[0])\n",
    "sns.boxplot(y = 'duration', x = 'plan', data = data, ax = axes[1])"
   ]
  },
  {
   "cell_type": "markdown",
   "metadata": {},
   "source": [
    "<div class=\"alert alert-info\"> <b>Student comments:</b> Ohhh OK I think I got it! Thanks Dmitrii, that's so useful! I felt reluctant to dig into how suplotting works, but now I feel more confident! I will definitely practice more with these. </div>    "
   ]
  },
  {
   "cell_type": "markdown",
   "metadata": {},
   "source": [
    "<div class=\"alert alert-block alert-success\">\n",
    "<b>Reviewer's comment v2</b>\n",
    " \n",
    "And you will also have a separate course about data visualisation, so will get a change to learn more and practice. "
   ]
  },
  {
   "cell_type": "markdown",
   "metadata": {},
   "source": [
    "## Hypothesis testing"
   ]
  },
  {
   "cell_type": "markdown",
   "metadata": {},
   "source": [
    "### The average revenue from users of Ultimate and Surf calling plans differs"
   ]
  },
  {
   "cell_type": "code",
   "execution_count": 89,
   "metadata": {},
   "outputs": [
    {
     "data": {
      "text/plain": [
       "plan\n",
       "surf        60.706408\n",
       "ultimate    72.313889\n",
       "Name: revenue, dtype: float64"
      ]
     },
     "execution_count": 89,
     "metadata": {},
     "output_type": "execute_result"
    }
   ],
   "source": [
    "data.groupby('plan')['revenue'].mean().T"
   ]
  },
  {
   "cell_type": "markdown",
   "metadata": {},
   "source": [
    "We can see that the mean revenue value differs for Surf and Ultimate with Ultimate, on average, bringing more revenue (We can assume this is likely due to the higher standard charge of 70 usd that comes regardless of overcharge. However we see how Surf punches above its weight in terms of revenue that it brings from all the surcharges). But we want to fool-proof ourselves on this scientifically with the help of statistical methods so we can be confident this is not by chance."
   ]
  },
  {
   "cell_type": "markdown",
   "metadata": {},
   "source": [
    "So in this case, since we are comparing independent instances of revenue for different plans between each other and asking ourselves whether their mean value differs, it would be appropriate to use a two-tailed t-test. Once again: we are testing if means of two statistical populations are equal. In this case our null hypothesis (H0) is: \"The average revenue from users of Surf and Ultimate is equal\". Accordingly, the alternative hypothesis (H1) is: \"The mean revenue from users of Surf and Ultimate is not equal\".\n",
    "\n",
    "It is very likely however that the variance of the two samples (avg user revenue for Surf and Ultimate) is not the same. To fool-proof against it, and to account for the chance of variance either being equal or not, we can integrate another method that tests for that. If the variance is different, we will need to pass the respective third parameter to our ttest, which by default assumes that the variance is equal, so that we can switch to the more appropriate Welch's ttest. Let's write a function so we can also reuse it later when checking between geographic areas. We can use the standard alpha of 5% for both."
   ]
  },
  {
   "cell_type": "code",
   "execution_count": 90,
   "metadata": {},
   "outputs": [],
   "source": [
    "def t_test(sample_1, sample_2, s1_name, s2_name, alpha = 0.05):\n",
    "    p_value_levene = st.levene(sample_1, sample_2).pvalue\n",
    "    if p_value_levene < alpha:\n",
    "        var_value = False\n",
    "    else:\n",
    "        var_value = True\n",
    "    \n",
    "    p_value = st.ttest_ind(sample_1, sample_2, equal_var = var_value).pvalue\n",
    "    print(p_value)\n",
    "    if p_value < alpha:\n",
    "        print(f'Reject Null Hypothesis: the average revenue from users for {s1_name} and {s2_name} is different. There is a very tiny probability of randomly getting any other difference between them.')\n",
    "    else:\n",
    "        print('Cannot reject the Null Hypothesis: there is a relatively high chance of getting similar average revenue.')\n",
    "        "
   ]
  },
  {
   "cell_type": "markdown",
   "metadata": {},
   "source": [
    "For convenience let's just create short variables for our average Surf and Ultimate revenue per user:"
   ]
  },
  {
   "cell_type": "code",
   "execution_count": 91,
   "metadata": {},
   "outputs": [],
   "source": [
    "s1 = surf.groupby('user_id').agg({'revenue': 'mean'})['revenue']\n",
    "s2 = ultimate.groupby('user_id').agg({'revenue': 'mean'})['revenue']"
   ]
  },
  {
   "cell_type": "markdown",
   "metadata": {},
   "source": [
    "Moment of truth:"
   ]
  },
  {
   "cell_type": "code",
   "execution_count": 92,
   "metadata": {},
   "outputs": [
    {
     "name": "stdout",
     "output_type": "stream",
     "text": [
      "5.7194351303624325e-08\n",
      "Reject Null Hypothesis: the average revenue from users for Surf and Ultimate is different. There is a very tiny probability of randomly getting any other difference between them.\n"
     ]
    }
   ],
   "source": [
    "t_test(s1, s2, \"Surf\", \"Ultimate\")"
   ]
  },
  {
   "cell_type": "markdown",
   "metadata": {},
   "source": [
    "Well, we're more solid that we cannot say that the average revenue per user from Surf equals that of Ultimate, since, based on the result of the statistical test we conducted, there is too little chance of having a difference between them that would lead us to say that in some cases it would be similar. So it is more likely that average revenue per Surf and per Ultimate user is different."
   ]
  },
  {
   "cell_type": "markdown",
   "metadata": {},
   "source": [
    "### The average revenue from users in the NY_NJ and other areas differs"
   ]
  },
  {
   "cell_type": "markdown",
   "metadata": {},
   "source": [
    "We have our handy function ready, but first we just need to add the necessary geographical entries to our data table so we can then separate users into NY_NJ and other areas, which we will then use as our samples."
   ]
  },
  {
   "cell_type": "code",
   "execution_count": 93,
   "metadata": {},
   "outputs": [],
   "source": [
    "final_data = pd.merge(left = data, right = users[['user_id', 'city']], how = 'left', on = 'user_id')"
   ]
  },
  {
   "cell_type": "code",
   "execution_count": 94,
   "metadata": {},
   "outputs": [
    {
     "data": {
      "text/html": [
       "<div>\n",
       "<style scoped>\n",
       "    .dataframe tbody tr th:only-of-type {\n",
       "        vertical-align: middle;\n",
       "    }\n",
       "\n",
       "    .dataframe tbody tr th {\n",
       "        vertical-align: top;\n",
       "    }\n",
       "\n",
       "    .dataframe thead th {\n",
       "        text-align: right;\n",
       "    }\n",
       "</style>\n",
       "<table border=\"1\" class=\"dataframe\">\n",
       "  <thead>\n",
       "    <tr style=\"text-align: right;\">\n",
       "      <th></th>\n",
       "      <th>user_id</th>\n",
       "      <th>month</th>\n",
       "      <th>mb_used</th>\n",
       "      <th>gb_used</th>\n",
       "      <th>duration</th>\n",
       "      <th>call_count</th>\n",
       "      <th>message_count</th>\n",
       "      <th>plan</th>\n",
       "      <th>revenue</th>\n",
       "      <th>city</th>\n",
       "    </tr>\n",
       "  </thead>\n",
       "  <tbody>\n",
       "    <tr>\n",
       "      <th>0</th>\n",
       "      <td>1000</td>\n",
       "      <td>12</td>\n",
       "      <td>1901.47</td>\n",
       "      <td>2.0</td>\n",
       "      <td>124.0</td>\n",
       "      <td>16.0</td>\n",
       "      <td>11.0</td>\n",
       "      <td>ultimate</td>\n",
       "      <td>70.00</td>\n",
       "      <td>Atlanta-Sandy Springs-Roswell, GA MSA</td>\n",
       "    </tr>\n",
       "    <tr>\n",
       "      <th>1</th>\n",
       "      <td>1001</td>\n",
       "      <td>8</td>\n",
       "      <td>6919.15</td>\n",
       "      <td>7.0</td>\n",
       "      <td>182.0</td>\n",
       "      <td>27.0</td>\n",
       "      <td>30.0</td>\n",
       "      <td>surf</td>\n",
       "      <td>20.00</td>\n",
       "      <td>Seattle-Tacoma-Bellevue, WA MSA</td>\n",
       "    </tr>\n",
       "    <tr>\n",
       "      <th>2</th>\n",
       "      <td>1001</td>\n",
       "      <td>9</td>\n",
       "      <td>13314.82</td>\n",
       "      <td>14.0</td>\n",
       "      <td>315.0</td>\n",
       "      <td>49.0</td>\n",
       "      <td>44.0</td>\n",
       "      <td>surf</td>\n",
       "      <td>20.00</td>\n",
       "      <td>Seattle-Tacoma-Bellevue, WA MSA</td>\n",
       "    </tr>\n",
       "    <tr>\n",
       "      <th>3</th>\n",
       "      <td>1001</td>\n",
       "      <td>10</td>\n",
       "      <td>22330.49</td>\n",
       "      <td>22.0</td>\n",
       "      <td>393.0</td>\n",
       "      <td>65.0</td>\n",
       "      <td>53.0</td>\n",
       "      <td>surf</td>\n",
       "      <td>90.09</td>\n",
       "      <td>Seattle-Tacoma-Bellevue, WA MSA</td>\n",
       "    </tr>\n",
       "    <tr>\n",
       "      <th>4</th>\n",
       "      <td>1001</td>\n",
       "      <td>11</td>\n",
       "      <td>18504.30</td>\n",
       "      <td>19.0</td>\n",
       "      <td>426.0</td>\n",
       "      <td>64.0</td>\n",
       "      <td>36.0</td>\n",
       "      <td>surf</td>\n",
       "      <td>60.00</td>\n",
       "      <td>Seattle-Tacoma-Bellevue, WA MSA</td>\n",
       "    </tr>\n",
       "    <tr>\n",
       "      <th>5</th>\n",
       "      <td>1001</td>\n",
       "      <td>12</td>\n",
       "      <td>19369.18</td>\n",
       "      <td>19.0</td>\n",
       "      <td>412.0</td>\n",
       "      <td>56.0</td>\n",
       "      <td>44.0</td>\n",
       "      <td>surf</td>\n",
       "      <td>60.00</td>\n",
       "      <td>Seattle-Tacoma-Bellevue, WA MSA</td>\n",
       "    </tr>\n",
       "    <tr>\n",
       "      <th>6</th>\n",
       "      <td>1002</td>\n",
       "      <td>10</td>\n",
       "      <td>6552.01</td>\n",
       "      <td>7.0</td>\n",
       "      <td>59.0</td>\n",
       "      <td>11.0</td>\n",
       "      <td>15.0</td>\n",
       "      <td>surf</td>\n",
       "      <td>20.00</td>\n",
       "      <td>Las Vegas-Henderson-Paradise, NV MSA</td>\n",
       "    </tr>\n",
       "    <tr>\n",
       "      <th>7</th>\n",
       "      <td>1002</td>\n",
       "      <td>11</td>\n",
       "      <td>19345.08</td>\n",
       "      <td>19.0</td>\n",
       "      <td>386.0</td>\n",
       "      <td>55.0</td>\n",
       "      <td>32.0</td>\n",
       "      <td>surf</td>\n",
       "      <td>60.00</td>\n",
       "      <td>Las Vegas-Henderson-Paradise, NV MSA</td>\n",
       "    </tr>\n",
       "    <tr>\n",
       "      <th>8</th>\n",
       "      <td>1002</td>\n",
       "      <td>12</td>\n",
       "      <td>14396.24</td>\n",
       "      <td>15.0</td>\n",
       "      <td>384.0</td>\n",
       "      <td>47.0</td>\n",
       "      <td>41.0</td>\n",
       "      <td>surf</td>\n",
       "      <td>20.00</td>\n",
       "      <td>Las Vegas-Henderson-Paradise, NV MSA</td>\n",
       "    </tr>\n",
       "    <tr>\n",
       "      <th>9</th>\n",
       "      <td>1003</td>\n",
       "      <td>12</td>\n",
       "      <td>27044.14</td>\n",
       "      <td>27.0</td>\n",
       "      <td>1104.0</td>\n",
       "      <td>149.0</td>\n",
       "      <td>50.0</td>\n",
       "      <td>surf</td>\n",
       "      <td>158.12</td>\n",
       "      <td>Tulsa, OK MSA</td>\n",
       "    </tr>\n",
       "    <tr>\n",
       "      <th>10</th>\n",
       "      <td>1004</td>\n",
       "      <td>5</td>\n",
       "      <td>6547.21</td>\n",
       "      <td>7.0</td>\n",
       "      <td>193.0</td>\n",
       "      <td>21.0</td>\n",
       "      <td>7.0</td>\n",
       "      <td>surf</td>\n",
       "      <td>20.00</td>\n",
       "      <td>Seattle-Tacoma-Bellevue, WA MSA</td>\n",
       "    </tr>\n",
       "    <tr>\n",
       "      <th>11</th>\n",
       "      <td>1004</td>\n",
       "      <td>6</td>\n",
       "      <td>20672.82</td>\n",
       "      <td>21.0</td>\n",
       "      <td>275.0</td>\n",
       "      <td>44.0</td>\n",
       "      <td>18.0</td>\n",
       "      <td>surf</td>\n",
       "      <td>80.00</td>\n",
       "      <td>Seattle-Tacoma-Bellevue, WA MSA</td>\n",
       "    </tr>\n",
       "    <tr>\n",
       "      <th>12</th>\n",
       "      <td>1004</td>\n",
       "      <td>7</td>\n",
       "      <td>24516.62</td>\n",
       "      <td>24.0</td>\n",
       "      <td>381.0</td>\n",
       "      <td>49.0</td>\n",
       "      <td>26.0</td>\n",
       "      <td>surf</td>\n",
       "      <td>110.00</td>\n",
       "      <td>Seattle-Tacoma-Bellevue, WA MSA</td>\n",
       "    </tr>\n",
       "    <tr>\n",
       "      <th>13</th>\n",
       "      <td>1004</td>\n",
       "      <td>8</td>\n",
       "      <td>27981.74</td>\n",
       "      <td>28.0</td>\n",
       "      <td>354.0</td>\n",
       "      <td>49.0</td>\n",
       "      <td>25.0</td>\n",
       "      <td>surf</td>\n",
       "      <td>150.00</td>\n",
       "      <td>Seattle-Tacoma-Bellevue, WA MSA</td>\n",
       "    </tr>\n",
       "    <tr>\n",
       "      <th>14</th>\n",
       "      <td>1004</td>\n",
       "      <td>9</td>\n",
       "      <td>18852.72</td>\n",
       "      <td>19.0</td>\n",
       "      <td>301.0</td>\n",
       "      <td>42.0</td>\n",
       "      <td>21.0</td>\n",
       "      <td>surf</td>\n",
       "      <td>60.00</td>\n",
       "      <td>Seattle-Tacoma-Bellevue, WA MSA</td>\n",
       "    </tr>\n",
       "    <tr>\n",
       "      <th>15</th>\n",
       "      <td>1004</td>\n",
       "      <td>10</td>\n",
       "      <td>14541.63</td>\n",
       "      <td>15.0</td>\n",
       "      <td>365.0</td>\n",
       "      <td>61.0</td>\n",
       "      <td>24.0</td>\n",
       "      <td>surf</td>\n",
       "      <td>20.00</td>\n",
       "      <td>Seattle-Tacoma-Bellevue, WA MSA</td>\n",
       "    </tr>\n",
       "    <tr>\n",
       "      <th>16</th>\n",
       "      <td>1004</td>\n",
       "      <td>11</td>\n",
       "      <td>21850.78</td>\n",
       "      <td>22.0</td>\n",
       "      <td>476.0</td>\n",
       "      <td>54.0</td>\n",
       "      <td>25.0</td>\n",
       "      <td>surf</td>\n",
       "      <td>90.00</td>\n",
       "      <td>Seattle-Tacoma-Bellevue, WA MSA</td>\n",
       "    </tr>\n",
       "    <tr>\n",
       "      <th>17</th>\n",
       "      <td>1004</td>\n",
       "      <td>12</td>\n",
       "      <td>21389.29</td>\n",
       "      <td>21.0</td>\n",
       "      <td>427.0</td>\n",
       "      <td>50.0</td>\n",
       "      <td>31.0</td>\n",
       "      <td>surf</td>\n",
       "      <td>80.00</td>\n",
       "      <td>Seattle-Tacoma-Bellevue, WA MSA</td>\n",
       "    </tr>\n",
       "    <tr>\n",
       "      <th>18</th>\n",
       "      <td>1005</td>\n",
       "      <td>12</td>\n",
       "      <td>17140.17</td>\n",
       "      <td>17.0</td>\n",
       "      <td>496.0</td>\n",
       "      <td>59.0</td>\n",
       "      <td>11.0</td>\n",
       "      <td>surf</td>\n",
       "      <td>40.00</td>\n",
       "      <td>Dallas-Fort Worth-Arlington, TX MSA</td>\n",
       "    </tr>\n",
       "    <tr>\n",
       "      <th>19</th>\n",
       "      <td>1006</td>\n",
       "      <td>11</td>\n",
       "      <td>2068.37</td>\n",
       "      <td>3.0</td>\n",
       "      <td>10.0</td>\n",
       "      <td>2.0</td>\n",
       "      <td>15.0</td>\n",
       "      <td>ultimate</td>\n",
       "      <td>70.00</td>\n",
       "      <td>San Francisco-Oakland-Berkeley, CA MSA</td>\n",
       "    </tr>\n",
       "  </tbody>\n",
       "</table>\n",
       "</div>"
      ],
      "text/plain": [
       "    user_id  month   mb_used  gb_used  duration  call_count  message_count  \\\n",
       "0      1000     12   1901.47      2.0     124.0        16.0           11.0   \n",
       "1      1001      8   6919.15      7.0     182.0        27.0           30.0   \n",
       "2      1001      9  13314.82     14.0     315.0        49.0           44.0   \n",
       "3      1001     10  22330.49     22.0     393.0        65.0           53.0   \n",
       "4      1001     11  18504.30     19.0     426.0        64.0           36.0   \n",
       "5      1001     12  19369.18     19.0     412.0        56.0           44.0   \n",
       "6      1002     10   6552.01      7.0      59.0        11.0           15.0   \n",
       "7      1002     11  19345.08     19.0     386.0        55.0           32.0   \n",
       "8      1002     12  14396.24     15.0     384.0        47.0           41.0   \n",
       "9      1003     12  27044.14     27.0    1104.0       149.0           50.0   \n",
       "10     1004      5   6547.21      7.0     193.0        21.0            7.0   \n",
       "11     1004      6  20672.82     21.0     275.0        44.0           18.0   \n",
       "12     1004      7  24516.62     24.0     381.0        49.0           26.0   \n",
       "13     1004      8  27981.74     28.0     354.0        49.0           25.0   \n",
       "14     1004      9  18852.72     19.0     301.0        42.0           21.0   \n",
       "15     1004     10  14541.63     15.0     365.0        61.0           24.0   \n",
       "16     1004     11  21850.78     22.0     476.0        54.0           25.0   \n",
       "17     1004     12  21389.29     21.0     427.0        50.0           31.0   \n",
       "18     1005     12  17140.17     17.0     496.0        59.0           11.0   \n",
       "19     1006     11   2068.37      3.0      10.0         2.0           15.0   \n",
       "\n",
       "        plan  revenue                                    city  \n",
       "0   ultimate    70.00   Atlanta-Sandy Springs-Roswell, GA MSA  \n",
       "1       surf    20.00         Seattle-Tacoma-Bellevue, WA MSA  \n",
       "2       surf    20.00         Seattle-Tacoma-Bellevue, WA MSA  \n",
       "3       surf    90.09         Seattle-Tacoma-Bellevue, WA MSA  \n",
       "4       surf    60.00         Seattle-Tacoma-Bellevue, WA MSA  \n",
       "5       surf    60.00         Seattle-Tacoma-Bellevue, WA MSA  \n",
       "6       surf    20.00    Las Vegas-Henderson-Paradise, NV MSA  \n",
       "7       surf    60.00    Las Vegas-Henderson-Paradise, NV MSA  \n",
       "8       surf    20.00    Las Vegas-Henderson-Paradise, NV MSA  \n",
       "9       surf   158.12                           Tulsa, OK MSA  \n",
       "10      surf    20.00         Seattle-Tacoma-Bellevue, WA MSA  \n",
       "11      surf    80.00         Seattle-Tacoma-Bellevue, WA MSA  \n",
       "12      surf   110.00         Seattle-Tacoma-Bellevue, WA MSA  \n",
       "13      surf   150.00         Seattle-Tacoma-Bellevue, WA MSA  \n",
       "14      surf    60.00         Seattle-Tacoma-Bellevue, WA MSA  \n",
       "15      surf    20.00         Seattle-Tacoma-Bellevue, WA MSA  \n",
       "16      surf    90.00         Seattle-Tacoma-Bellevue, WA MSA  \n",
       "17      surf    80.00         Seattle-Tacoma-Bellevue, WA MSA  \n",
       "18      surf    40.00     Dallas-Fort Worth-Arlington, TX MSA  \n",
       "19  ultimate    70.00  San Francisco-Oakland-Berkeley, CA MSA  "
      ]
     },
     "execution_count": 94,
     "metadata": {},
     "output_type": "execute_result"
    }
   ],
   "source": [
    "final_data.head(20)"
   ]
  },
  {
   "cell_type": "markdown",
   "metadata": {},
   "source": [
    "Beautiful! Now we can simply use the slices of data for NY-NJ and other areas."
   ]
  },
  {
   "cell_type": "code",
   "execution_count": 95,
   "metadata": {},
   "outputs": [],
   "source": [
    "NY_users = final_data.query('city == \"New York-Newark-Jersey City, NY-NJ-PA MSA\"')"
   ]
  },
  {
   "cell_type": "code",
   "execution_count": 96,
   "metadata": {},
   "outputs": [],
   "source": [
    "nonNY_users = final_data.query('city != \"New York-Newark-Jersey City, NY-NJ-PA MSA\"')"
   ]
  },
  {
   "cell_type": "markdown",
   "metadata": {},
   "source": [
    "And repeat the same procedure of selecting the averages per user:"
   ]
  },
  {
   "cell_type": "code",
   "execution_count": 97,
   "metadata": {},
   "outputs": [],
   "source": [
    "s_NY = NY_users.groupby('user_id').agg({'revenue': 'mean'})['revenue'] # s for sample of NY-NJ users\n",
    "s_other = nonNY_users.groupby('user_id').agg({'revenue': 'mean'})['revenue']"
   ]
  },
  {
   "cell_type": "markdown",
   "metadata": {},
   "source": [
    "OK, so before we proceed let's formulate the hypothesis that we want to test. We are testing to see whether the mean of two statistical populations are equal. So our null hypothesis will be: \"The average revenue from users from NY-NJ and from other areas is equal\". Therefore the alternative hypothesis would be: \"The average revenue from users from NY-NJ and from other areas is not equal\"."
   ]
  },
  {
   "cell_type": "markdown",
   "metadata": {},
   "source": [
    "...drumroll..."
   ]
  },
  {
   "cell_type": "code",
   "execution_count": 98,
   "metadata": {},
   "outputs": [
    {
     "name": "stdout",
     "output_type": "stream",
     "text": [
      "0.48043818838129104\n",
      "Cannot reject the Null Hypothesis: there is a relatively high chance of getting similar average revenue.\n"
     ]
    }
   ],
   "source": [
    "t_test(s_NY, s_other, \"NY-NJ\", \"Other areas\")"
   ]
  },
  {
   "cell_type": "markdown",
   "metadata": {},
   "source": [
    "And there we go. It turns out we cannot rule out that users from NY-NJ and users from other areas bring in the same revenue on average."
   ]
  },
  {
   "cell_type": "markdown",
   "metadata": {},
   "source": [
    "<div class=\"alert alert-success\">\n",
    "<b>Reviewer's comment v1:</b>\n",
    "    \n",
    "- Overall job! Hypotheses have been formulated and tested correctly. Great that you additionally checked data that has been used for the test. \n",
    "- You conclusions based on the results are also correct.\n",
    "- It is not required here but based on the first question if average revenue per Surf and per Ultimate user is different then who has bigger revenue. To check that question a one-sided test could be used to confirm hypothesis that ultra has higher average revenue. "
   ]
  },
  {
   "cell_type": "markdown",
   "metadata": {},
   "source": [
    "## Overall Conclusion"
   ]
  },
  {
   "cell_type": "markdown",
   "metadata": {},
   "source": [
    "We've studied the users's behaviour by looking at how many messages and calls they made, how many minutes they spent and data they used. It seems like minutes (for calls) is the more sensible parameter as opposed to the number of calls, since we don't really have a threshold for number of calls per month (as per the plans), but for minutes.\n",
    "\n",
    "In general, it looks as if our Ultimate users don't make the full use of their plan limits, which can be explained by the fact that Ultimate plan really just affords us such number of minutes and messages per month that one need not worry about finding themselves in a situation where they don't have enough. So, judging by the minutes and messages distribution, we can say that Ultimate users compared to Surf simply feel more comfortable exceeding what would the limit for Surf. And only marginally few people go over the top. (An exception to this is the amount of data, the limit on which according to both plans seems quite constricting for users). \n",
    "\n",
    "We can definitely see more parsimonious behaviour from Surf users. For example, if we consider how (average) minutes per user are distributed, we will see a lot of people trying to make the best of their monthly plan limit and not go over the top. \n",
    "\n",
    "Finally, there really is a difference between the average revenue that a Surf and an Ultimate subscriber brings to us, but not as big as we might have thought. Ultimate is certainly likely to bring us more revenue per user, mostly, it seems, due to its high standard charge.\n",
    "\n",
    "Considering that there are more users opting for Surf, however, and how they usually end up overpaying (most of it for data), we can say that Surf in fact could be the more profitable product in that it brings a lot of revenue on surcharges at a smaller cost (providing much less data and fewer minutes & messages for the monthly charge). This might sound counter-intuitive (and cynical), but it's worth exploring: by accentuating Surf to our customers, we could potentially bring in more people who would anyway, on average, pay a lot more for exceeding their data, minutes and texts limit.\n",
    "\n",
    "And contrary to what we might have thought, our the average revenue per user doesn't seem to differ for customers from NY-NJ area and from other areas, so my recommendation is to not rush to think up separate plans just for New Yorkers: it's not guaranteed that they will end up paying more. 📱"
   ]
  },
  {
   "cell_type": "markdown",
   "metadata": {},
   "source": [
    "<div class=\"alert alert-success\">\n",
    "<b>Reviewer's comment v1</b>\n",
    " \n",
    "Overall you conducted great research with correct interim findings, clean code and nice visualisation.\n",
    "\n",
    "Great that you shared structured results and your observations.\n",
    "   "
   ]
  },
  {
   "cell_type": "markdown",
   "metadata": {},
   "source": [
    "<div class=\"alert alert-info\"> <b>Student comments:</b> Thanks again Dmitrii! I really appreciate the tips you've left on additional methods I could use. Thank you for taking the time to review my project! </div>    "
   ]
  },
  {
   "cell_type": "markdown",
   "metadata": {},
   "source": [
    "<div class=\"alert alert-block alert-success\">\n",
    "<b>Reviewer's comment v2</b>\n",
    " \n",
    "I am glad that smth was useful and please keep up doing great projects :) "
   ]
  }
 ],
 "metadata": {
  "ExecuteTimeLog": [
   {
    "duration": 1262,
    "start_time": "2021-12-01T13:38:35.121Z"
   },
   {
    "duration": 53,
    "start_time": "2021-12-01T13:41:24.826Z"
   },
   {
    "duration": 931,
    "start_time": "2021-12-01T13:43:33.890Z"
   },
   {
    "duration": 14,
    "start_time": "2021-12-01T13:43:43.559Z"
   },
   {
    "duration": 43,
    "start_time": "2021-12-01T13:44:40.900Z"
   },
   {
    "duration": 44,
    "start_time": "2021-12-01T13:44:48.404Z"
   },
   {
    "duration": 393,
    "start_time": "2021-12-01T13:45:25.692Z"
   },
   {
    "duration": 277,
    "start_time": "2021-12-01T13:45:30.118Z"
   },
   {
    "duration": 61,
    "start_time": "2021-12-01T13:45:39.482Z"
   },
   {
    "duration": 560,
    "start_time": "2021-12-01T13:46:16.334Z"
   },
   {
    "duration": 322,
    "start_time": "2021-12-01T13:46:27.735Z"
   },
   {
    "duration": 115,
    "start_time": "2021-12-01T13:46:30.989Z"
   },
   {
    "duration": 292,
    "start_time": "2021-12-01T13:46:35.976Z"
   },
   {
    "duration": 39,
    "start_time": "2021-12-01T13:46:49.546Z"
   },
   {
    "duration": 6,
    "start_time": "2021-12-01T13:49:35.991Z"
   },
   {
    "duration": 11,
    "start_time": "2021-12-01T13:49:48.057Z"
   },
   {
    "duration": 5,
    "start_time": "2021-12-01T13:52:14.360Z"
   },
   {
    "duration": 275,
    "start_time": "2021-12-01T13:55:40.284Z"
   },
   {
    "duration": 15,
    "start_time": "2021-12-01T13:55:49.277Z"
   },
   {
    "duration": 335,
    "start_time": "2021-12-01T13:57:04.372Z"
   },
   {
    "duration": 17,
    "start_time": "2021-12-01T13:57:36.641Z"
   },
   {
    "duration": 7,
    "start_time": "2021-12-01T14:05:00.422Z"
   },
   {
    "duration": 15,
    "start_time": "2021-12-01T14:06:18.681Z"
   },
   {
    "duration": 10,
    "start_time": "2021-12-01T14:06:28.300Z"
   },
   {
    "duration": 25,
    "start_time": "2021-12-01T14:11:31.238Z"
   },
   {
    "duration": 5,
    "start_time": "2021-12-01T14:14:59.950Z"
   },
   {
    "duration": 6,
    "start_time": "2021-12-01T14:16:17.241Z"
   },
   {
    "duration": 4,
    "start_time": "2021-12-01T14:16:21.149Z"
   },
   {
    "duration": 24,
    "start_time": "2021-12-01T14:16:58.306Z"
   },
   {
    "duration": 41,
    "start_time": "2021-12-01T14:17:04.995Z"
   },
   {
    "duration": 11209,
    "start_time": "2021-12-01T14:56:14.371Z"
   },
   {
    "duration": 11,
    "start_time": "2021-12-01T14:56:29.106Z"
   },
   {
    "duration": 11,
    "start_time": "2021-12-01T14:56:59.585Z"
   },
   {
    "duration": 7,
    "start_time": "2021-12-01T15:09:11.074Z"
   },
   {
    "duration": 2,
    "start_time": "2021-12-01T15:13:15.820Z"
   },
   {
    "duration": 9,
    "start_time": "2021-12-01T15:14:38.130Z"
   },
   {
    "duration": 23,
    "start_time": "2021-12-01T15:17:13.574Z"
   },
   {
    "duration": 273,
    "start_time": "2021-12-01T15:17:32.209Z"
   },
   {
    "duration": 46,
    "start_time": "2021-12-01T15:17:35.626Z"
   },
   {
    "duration": 49,
    "start_time": "2021-12-01T15:17:39.808Z"
   },
   {
    "duration": 27,
    "start_time": "2021-12-01T15:21:44.420Z"
   },
   {
    "duration": 24,
    "start_time": "2021-12-01T15:21:59.554Z"
   },
   {
    "duration": 23,
    "start_time": "2021-12-01T15:22:10.816Z"
   },
   {
    "duration": 22,
    "start_time": "2021-12-01T15:22:23.349Z"
   },
   {
    "duration": 22,
    "start_time": "2021-12-01T15:26:06.490Z"
   },
   {
    "duration": 16,
    "start_time": "2021-12-01T15:31:33.128Z"
   },
   {
    "duration": 19,
    "start_time": "2021-12-01T15:31:40.966Z"
   },
   {
    "duration": 34,
    "start_time": "2021-12-01T15:31:57.473Z"
   },
   {
    "duration": 10,
    "start_time": "2021-12-01T15:32:49.409Z"
   },
   {
    "duration": 16,
    "start_time": "2021-12-01T15:33:08.180Z"
   },
   {
    "duration": 21,
    "start_time": "2021-12-01T15:33:44.239Z"
   },
   {
    "duration": 13,
    "start_time": "2021-12-01T15:33:56.327Z"
   },
   {
    "duration": 17,
    "start_time": "2021-12-01T15:34:04.337Z"
   },
   {
    "duration": 9,
    "start_time": "2021-12-01T15:52:38.385Z"
   },
   {
    "duration": 10,
    "start_time": "2021-12-01T15:53:46.833Z"
   },
   {
    "duration": 16,
    "start_time": "2021-12-01T15:54:02.685Z"
   },
   {
    "duration": 6,
    "start_time": "2021-12-01T16:29:50.419Z"
   },
   {
    "duration": 6,
    "start_time": "2021-12-01T16:29:57.699Z"
   },
   {
    "duration": 11,
    "start_time": "2021-12-01T16:31:17.686Z"
   },
   {
    "duration": 11,
    "start_time": "2021-12-01T16:37:07.349Z"
   },
   {
    "duration": 13,
    "start_time": "2021-12-01T16:37:56.970Z"
   },
   {
    "duration": 6,
    "start_time": "2021-12-01T16:41:06.044Z"
   },
   {
    "duration": 8,
    "start_time": "2021-12-01T16:49:13.823Z"
   },
   {
    "duration": 8,
    "start_time": "2021-12-01T16:50:51.575Z"
   },
   {
    "duration": 9,
    "start_time": "2021-12-01T16:53:18.820Z"
   },
   {
    "duration": 12,
    "start_time": "2021-12-01T16:55:50.769Z"
   },
   {
    "duration": 5,
    "start_time": "2021-12-01T16:58:00.474Z"
   },
   {
    "duration": 8,
    "start_time": "2021-12-01T17:01:00.071Z"
   },
   {
    "duration": -282,
    "start_time": "2021-12-01T18:10:08.671Z"
   },
   {
    "duration": 8,
    "start_time": "2021-12-01T18:10:13.052Z"
   },
   {
    "duration": 4,
    "start_time": "2021-12-01T18:10:39.107Z"
   },
   {
    "duration": 4,
    "start_time": "2021-12-01T18:10:45.169Z"
   },
   {
    "duration": 288,
    "start_time": "2021-12-01T18:11:38.294Z"
   },
   {
    "duration": 288,
    "start_time": "2021-12-01T18:11:44.332Z"
   },
   {
    "duration": 11409,
    "start_time": "2021-12-01T18:12:39.762Z"
   },
   {
    "duration": 20832,
    "start_time": "2021-12-01T18:13:04.256Z"
   },
   {
    "duration": 15,
    "start_time": "2021-12-01T19:07:27.831Z"
   },
   {
    "duration": 10,
    "start_time": "2021-12-01T19:09:11.589Z"
   },
   {
    "duration": 9,
    "start_time": "2021-12-01T19:13:21.754Z"
   },
   {
    "duration": 6,
    "start_time": "2021-12-01T19:24:08.889Z"
   },
   {
    "duration": 9,
    "start_time": "2021-12-01T19:24:45.902Z"
   },
   {
    "duration": 3,
    "start_time": "2021-12-01T19:24:59.172Z"
   },
   {
    "duration": 296,
    "start_time": "2021-12-01T19:25:00.932Z"
   },
   {
    "duration": 3372,
    "start_time": "2021-12-01T19:26:06.202Z"
   },
   {
    "duration": -240,
    "start_time": "2021-12-01T19:26:09.816Z"
   },
   {
    "duration": 1092,
    "start_time": "2021-12-01T19:26:14.213Z"
   },
   {
    "duration": 322,
    "start_time": "2021-12-01T19:26:15.307Z"
   },
   {
    "duration": 13,
    "start_time": "2021-12-01T19:26:15.631Z"
   },
   {
    "duration": 10,
    "start_time": "2021-12-01T19:26:15.646Z"
   },
   {
    "duration": 11,
    "start_time": "2021-12-01T19:26:15.658Z"
   },
   {
    "duration": 7,
    "start_time": "2021-12-01T19:26:15.670Z"
   },
   {
    "duration": 31,
    "start_time": "2021-12-01T19:26:15.679Z"
   },
   {
    "duration": 33,
    "start_time": "2021-12-01T19:26:15.712Z"
   },
   {
    "duration": 15,
    "start_time": "2021-12-01T19:26:15.747Z"
   },
   {
    "duration": 15,
    "start_time": "2021-12-01T19:26:15.763Z"
   },
   {
    "duration": 73,
    "start_time": "2021-12-01T19:26:15.780Z"
   },
   {
    "duration": 29,
    "start_time": "2021-12-01T19:26:15.856Z"
   },
   {
    "duration": 20,
    "start_time": "2021-12-01T19:26:15.887Z"
   },
   {
    "duration": 4,
    "start_time": "2021-12-01T19:26:15.909Z"
   },
   {
    "duration": 33,
    "start_time": "2021-12-01T19:26:15.915Z"
   },
   {
    "duration": 15,
    "start_time": "2021-12-01T19:26:15.950Z"
   },
   {
    "duration": 7,
    "start_time": "2021-12-01T19:26:15.967Z"
   },
   {
    "duration": 9,
    "start_time": "2021-12-01T19:26:15.976Z"
   },
   {
    "duration": 27,
    "start_time": "2021-12-01T19:26:15.986Z"
   },
   {
    "duration": 32,
    "start_time": "2021-12-01T19:26:16.015Z"
   },
   {
    "duration": 18,
    "start_time": "2021-12-01T19:26:16.049Z"
   },
   {
    "duration": 21,
    "start_time": "2021-12-01T19:26:16.068Z"
   },
   {
    "duration": 9,
    "start_time": "2021-12-01T19:26:16.092Z"
   },
   {
    "duration": 12,
    "start_time": "2021-12-01T19:26:16.102Z"
   },
   {
    "duration": 30,
    "start_time": "2021-12-01T19:26:16.115Z"
   },
   {
    "duration": 11,
    "start_time": "2021-12-01T19:26:16.147Z"
   },
   {
    "duration": 10,
    "start_time": "2021-12-01T19:26:26.605Z"
   },
   {
    "duration": 8,
    "start_time": "2021-12-01T19:26:58.060Z"
   },
   {
    "duration": 4,
    "start_time": "2021-12-01T19:30:29.622Z"
   },
   {
    "duration": 8,
    "start_time": "2021-12-01T19:30:36.324Z"
   },
   {
    "duration": 20,
    "start_time": "2021-12-01T19:30:43.391Z"
   },
   {
    "duration": 12,
    "start_time": "2021-12-01T19:32:14.926Z"
   },
   {
    "duration": 8,
    "start_time": "2021-12-01T19:36:55.743Z"
   },
   {
    "duration": 9,
    "start_time": "2021-12-01T19:38:08.107Z"
   },
   {
    "duration": 8,
    "start_time": "2021-12-01T19:39:34.141Z"
   },
   {
    "duration": 8,
    "start_time": "2021-12-01T19:39:58.893Z"
   },
   {
    "duration": 41,
    "start_time": "2021-12-01T21:55:10.649Z"
   },
   {
    "duration": 24,
    "start_time": "2021-12-01T21:55:35.569Z"
   },
   {
    "duration": 35,
    "start_time": "2021-12-01T21:58:58.706Z"
   },
   {
    "duration": 11,
    "start_time": "2021-12-01T21:59:22.099Z"
   },
   {
    "duration": 8,
    "start_time": "2021-12-01T21:59:30.713Z"
   },
   {
    "duration": 10,
    "start_time": "2021-12-01T21:59:37.840Z"
   },
   {
    "duration": 388,
    "start_time": "2021-12-02T10:17:23.000Z"
   },
   {
    "duration": 1706,
    "start_time": "2021-12-02T10:17:40.250Z"
   },
   {
    "duration": 473,
    "start_time": "2021-12-02T10:17:41.960Z"
   },
   {
    "duration": 21,
    "start_time": "2021-12-02T10:17:42.436Z"
   },
   {
    "duration": 6,
    "start_time": "2021-12-02T10:17:42.460Z"
   },
   {
    "duration": 29,
    "start_time": "2021-12-02T10:17:42.468Z"
   },
   {
    "duration": 9,
    "start_time": "2021-12-02T10:17:42.500Z"
   },
   {
    "duration": 90,
    "start_time": "2021-12-02T10:17:42.512Z"
   },
   {
    "duration": 19,
    "start_time": "2021-12-02T10:17:42.614Z"
   },
   {
    "duration": 15,
    "start_time": "2021-12-02T10:17:42.637Z"
   },
   {
    "duration": 49,
    "start_time": "2021-12-02T10:17:42.654Z"
   },
   {
    "duration": 99,
    "start_time": "2021-12-02T10:17:42.706Z"
   },
   {
    "duration": 49,
    "start_time": "2021-12-02T10:17:42.808Z"
   },
   {
    "duration": 45,
    "start_time": "2021-12-02T10:17:42.862Z"
   },
   {
    "duration": 9,
    "start_time": "2021-12-02T10:17:42.911Z"
   },
   {
    "duration": 18,
    "start_time": "2021-12-02T10:17:42.923Z"
   },
   {
    "duration": 63,
    "start_time": "2021-12-02T10:17:42.944Z"
   },
   {
    "duration": 9,
    "start_time": "2021-12-02T10:17:43.010Z"
   },
   {
    "duration": 16,
    "start_time": "2021-12-02T10:17:43.022Z"
   },
   {
    "duration": 76,
    "start_time": "2021-12-02T10:17:43.041Z"
   },
   {
    "duration": 86,
    "start_time": "2021-12-02T10:17:43.119Z"
   },
   {
    "duration": 34,
    "start_time": "2021-12-02T10:17:43.208Z"
   },
   {
    "duration": 43,
    "start_time": "2021-12-02T10:17:43.245Z"
   },
   {
    "duration": 18,
    "start_time": "2021-12-02T10:17:43.291Z"
   },
   {
    "duration": 19,
    "start_time": "2021-12-02T10:17:43.313Z"
   },
   {
    "duration": 5,
    "start_time": "2021-12-02T10:17:43.338Z"
   },
   {
    "duration": 51,
    "start_time": "2021-12-02T10:17:43.348Z"
   },
   {
    "duration": 18,
    "start_time": "2021-12-02T10:17:43.404Z"
   },
   {
    "duration": 9,
    "start_time": "2021-12-02T10:17:43.425Z"
   },
   {
    "duration": 14,
    "start_time": "2021-12-02T10:17:43.438Z"
   },
   {
    "duration": 46,
    "start_time": "2021-12-02T10:17:43.483Z"
   },
   {
    "duration": 17,
    "start_time": "2021-12-02T10:17:43.533Z"
   },
   {
    "duration": 48,
    "start_time": "2021-12-02T10:17:43.552Z"
   },
   {
    "duration": 18,
    "start_time": "2021-12-02T10:17:43.607Z"
   },
   {
    "duration": 14,
    "start_time": "2021-12-02T10:17:43.633Z"
   },
   {
    "duration": 47,
    "start_time": "2021-12-02T10:17:43.650Z"
   },
   {
    "duration": 90,
    "start_time": "2021-12-02T10:17:43.700Z"
   },
   {
    "duration": 52,
    "start_time": "2021-12-02T10:17:43.795Z"
   },
   {
    "duration": 74,
    "start_time": "2021-12-02T10:17:43.850Z"
   },
   {
    "duration": 14,
    "start_time": "2021-12-02T10:17:43.926Z"
   },
   {
    "duration": 7,
    "start_time": "2021-12-02T10:17:43.943Z"
   },
   {
    "duration": 41,
    "start_time": "2021-12-02T10:22:30.187Z"
   },
   {
    "duration": 14,
    "start_time": "2021-12-02T10:22:41.215Z"
   },
   {
    "duration": 6,
    "start_time": "2021-12-02T10:23:20.987Z"
   },
   {
    "duration": 21,
    "start_time": "2021-12-02T10:24:48.114Z"
   },
   {
    "duration": 18,
    "start_time": "2021-12-02T10:24:55.275Z"
   },
   {
    "duration": 20,
    "start_time": "2021-12-02T10:25:41.487Z"
   },
   {
    "duration": 19,
    "start_time": "2021-12-02T10:29:33.031Z"
   },
   {
    "duration": 16,
    "start_time": "2021-12-02T10:29:42.119Z"
   },
   {
    "duration": 7,
    "start_time": "2021-12-02T10:32:54.519Z"
   },
   {
    "duration": 11,
    "start_time": "2021-12-02T10:33:09.547Z"
   },
   {
    "duration": 7,
    "start_time": "2021-12-02T10:34:03.410Z"
   },
   {
    "duration": 15,
    "start_time": "2021-12-02T10:34:04.119Z"
   },
   {
    "duration": 17,
    "start_time": "2021-12-02T10:35:26.911Z"
   },
   {
    "duration": 18,
    "start_time": "2021-12-02T10:35:38.396Z"
   },
   {
    "duration": 467,
    "start_time": "2021-12-02T10:43:21.378Z"
   },
   {
    "duration": 7,
    "start_time": "2021-12-02T10:43:38.536Z"
   },
   {
    "duration": 17,
    "start_time": "2021-12-02T10:43:52.016Z"
   },
   {
    "duration": 16,
    "start_time": "2021-12-02T11:09:16.976Z"
   },
   {
    "duration": 14,
    "start_time": "2021-12-02T11:09:29.115Z"
   },
   {
    "duration": 18,
    "start_time": "2021-12-02T11:11:18.376Z"
   },
   {
    "duration": 15,
    "start_time": "2021-12-02T11:11:27.316Z"
   },
   {
    "duration": 13,
    "start_time": "2021-12-02T11:11:42.555Z"
   },
   {
    "duration": 407,
    "start_time": "2021-12-02T11:19:24.556Z"
   },
   {
    "duration": 386,
    "start_time": "2021-12-02T11:20:44.836Z"
   },
   {
    "duration": 346,
    "start_time": "2021-12-02T11:21:00.975Z"
   },
   {
    "duration": 352,
    "start_time": "2021-12-02T11:21:09.083Z"
   },
   {
    "duration": 12,
    "start_time": "2021-12-02T11:21:35.307Z"
   },
   {
    "duration": 16,
    "start_time": "2021-12-02T11:21:46.015Z"
   },
   {
    "duration": 17,
    "start_time": "2021-12-02T11:22:41.915Z"
   },
   {
    "duration": 47,
    "start_time": "2021-12-02T11:22:51.955Z"
   },
   {
    "duration": 20,
    "start_time": "2021-12-02T11:23:45.308Z"
   },
   {
    "duration": 1522,
    "start_time": "2021-12-02T13:31:54.642Z"
   },
   {
    "duration": 415,
    "start_time": "2021-12-02T13:31:56.167Z"
   },
   {
    "duration": 23,
    "start_time": "2021-12-02T13:31:56.586Z"
   },
   {
    "duration": 6,
    "start_time": "2021-12-02T13:31:56.612Z"
   },
   {
    "duration": 14,
    "start_time": "2021-12-02T13:31:56.621Z"
   },
   {
    "duration": 44,
    "start_time": "2021-12-02T13:31:56.638Z"
   },
   {
    "duration": 44,
    "start_time": "2021-12-02T13:31:56.685Z"
   },
   {
    "duration": 9,
    "start_time": "2021-12-02T13:31:56.733Z"
   },
   {
    "duration": 43,
    "start_time": "2021-12-02T13:31:56.746Z"
   },
   {
    "duration": 21,
    "start_time": "2021-12-02T13:31:56.792Z"
   },
   {
    "duration": 104,
    "start_time": "2021-12-02T13:31:56.817Z"
   },
   {
    "duration": 40,
    "start_time": "2021-12-02T13:31:56.925Z"
   },
   {
    "duration": 32,
    "start_time": "2021-12-02T13:31:56.983Z"
   },
   {
    "duration": 9,
    "start_time": "2021-12-02T13:31:57.018Z"
   },
   {
    "duration": 12,
    "start_time": "2021-12-02T13:31:57.030Z"
   },
   {
    "duration": 15,
    "start_time": "2021-12-02T13:31:57.081Z"
   },
   {
    "duration": 6,
    "start_time": "2021-12-02T13:31:57.099Z"
   },
   {
    "duration": 14,
    "start_time": "2021-12-02T13:31:57.108Z"
   },
   {
    "duration": 57,
    "start_time": "2021-12-02T13:31:57.125Z"
   },
   {
    "duration": 7,
    "start_time": "2021-12-02T13:31:57.184Z"
   },
   {
    "duration": 14,
    "start_time": "2021-12-02T13:31:57.194Z"
   },
   {
    "duration": 28,
    "start_time": "2021-12-02T13:31:57.211Z"
   },
   {
    "duration": 14,
    "start_time": "2021-12-02T13:31:57.281Z"
   },
   {
    "duration": 14,
    "start_time": "2021-12-02T13:31:57.300Z"
   },
   {
    "duration": 7,
    "start_time": "2021-12-02T13:31:57.316Z"
   },
   {
    "duration": 16,
    "start_time": "2021-12-02T13:31:57.326Z"
   },
   {
    "duration": 13,
    "start_time": "2021-12-02T13:31:57.382Z"
   },
   {
    "duration": 6,
    "start_time": "2021-12-02T13:31:57.398Z"
   },
   {
    "duration": 12,
    "start_time": "2021-12-02T13:31:57.407Z"
   },
   {
    "duration": 73,
    "start_time": "2021-12-02T13:31:57.422Z"
   },
   {
    "duration": 14,
    "start_time": "2021-12-02T13:31:57.498Z"
   },
   {
    "duration": 14,
    "start_time": "2021-12-02T13:31:57.516Z"
   },
   {
    "duration": 51,
    "start_time": "2021-12-02T13:31:57.533Z"
   },
   {
    "duration": 13,
    "start_time": "2021-12-02T13:31:57.586Z"
   },
   {
    "duration": 15,
    "start_time": "2021-12-02T13:31:57.602Z"
   },
   {
    "duration": 116,
    "start_time": "2021-12-02T13:31:57.621Z"
   },
   {
    "duration": 49,
    "start_time": "2021-12-02T13:31:57.740Z"
   },
   {
    "duration": 54,
    "start_time": "2021-12-02T13:31:57.792Z"
   },
   {
    "duration": 36,
    "start_time": "2021-12-02T13:31:57.849Z"
   },
   {
    "duration": 35,
    "start_time": "2021-12-02T13:31:57.888Z"
   },
   {
    "duration": 13,
    "start_time": "2021-12-02T13:31:57.926Z"
   },
   {
    "duration": 44,
    "start_time": "2021-12-02T13:31:57.943Z"
   },
   {
    "duration": 27,
    "start_time": "2021-12-02T13:31:57.990Z"
   },
   {
    "duration": 19,
    "start_time": "2021-12-02T13:31:58.020Z"
   },
   {
    "duration": 6,
    "start_time": "2021-12-02T13:31:58.042Z"
   },
   {
    "duration": 38,
    "start_time": "2021-12-02T13:31:58.051Z"
   },
   {
    "duration": 18,
    "start_time": "2021-12-02T13:31:58.091Z"
   },
   {
    "duration": 11,
    "start_time": "2021-12-02T13:31:58.112Z"
   },
   {
    "duration": 17,
    "start_time": "2021-12-02T13:31:58.125Z"
   },
   {
    "duration": 39,
    "start_time": "2021-12-02T13:31:58.145Z"
   },
   {
    "duration": 17,
    "start_time": "2021-12-02T13:31:58.187Z"
   },
   {
    "duration": 16,
    "start_time": "2021-12-02T13:31:58.207Z"
   },
   {
    "duration": 16,
    "start_time": "2021-12-02T13:31:58.226Z"
   },
   {
    "duration": 50,
    "start_time": "2021-12-02T13:31:58.244Z"
   },
   {
    "duration": 11,
    "start_time": "2021-12-02T13:31:58.297Z"
   },
   {
    "duration": 12,
    "start_time": "2021-12-02T13:31:58.311Z"
   },
   {
    "duration": 18,
    "start_time": "2021-12-02T13:31:58.326Z"
   },
   {
    "duration": 21,
    "start_time": "2021-12-02T13:32:23.418Z"
   },
   {
    "duration": 14,
    "start_time": "2021-12-02T14:36:33.725Z"
   },
   {
    "duration": 4,
    "start_time": "2021-12-02T14:36:48.878Z"
   },
   {
    "duration": 21,
    "start_time": "2021-12-02T14:36:52.206Z"
   },
   {
    "duration": 805,
    "start_time": "2021-12-02T14:38:11.470Z"
   },
   {
    "duration": 14,
    "start_time": "2021-12-02T14:43:21.944Z"
   },
   {
    "duration": 4,
    "start_time": "2021-12-02T14:43:23.324Z"
   },
   {
    "duration": 29,
    "start_time": "2021-12-02T14:43:24.199Z"
   },
   {
    "duration": 9,
    "start_time": "2021-12-02T14:43:25.722Z"
   },
   {
    "duration": 1398,
    "start_time": "2021-12-02T14:43:41.843Z"
   },
   {
    "duration": 446,
    "start_time": "2021-12-02T14:43:43.243Z"
   },
   {
    "duration": 32,
    "start_time": "2021-12-02T14:43:43.694Z"
   },
   {
    "duration": 7,
    "start_time": "2021-12-02T14:43:43.730Z"
   },
   {
    "duration": 44,
    "start_time": "2021-12-02T14:43:43.740Z"
   },
   {
    "duration": 6,
    "start_time": "2021-12-02T14:43:43.800Z"
   },
   {
    "duration": 48,
    "start_time": "2021-12-02T14:43:43.809Z"
   },
   {
    "duration": 21,
    "start_time": "2021-12-02T14:43:43.861Z"
   },
   {
    "duration": 16,
    "start_time": "2021-12-02T14:43:43.886Z"
   },
   {
    "duration": 28,
    "start_time": "2021-12-02T14:43:43.905Z"
   },
   {
    "duration": 110,
    "start_time": "2021-12-02T14:43:43.936Z"
   },
   {
    "duration": 58,
    "start_time": "2021-12-02T14:43:44.048Z"
   },
   {
    "duration": 26,
    "start_time": "2021-12-02T14:43:44.109Z"
   },
   {
    "duration": 7,
    "start_time": "2021-12-02T14:43:44.137Z"
   },
   {
    "duration": 50,
    "start_time": "2021-12-02T14:43:44.147Z"
   },
   {
    "duration": 18,
    "start_time": "2021-12-02T14:43:44.200Z"
   },
   {
    "duration": 6,
    "start_time": "2021-12-02T14:43:44.221Z"
   },
   {
    "duration": 58,
    "start_time": "2021-12-02T14:43:44.229Z"
   },
   {
    "duration": 24,
    "start_time": "2021-12-02T14:43:44.290Z"
   },
   {
    "duration": 9,
    "start_time": "2021-12-02T14:43:44.318Z"
   },
   {
    "duration": 18,
    "start_time": "2021-12-02T14:43:44.330Z"
   },
   {
    "duration": 75,
    "start_time": "2021-12-02T14:43:44.350Z"
   },
   {
    "duration": 24,
    "start_time": "2021-12-02T14:43:44.432Z"
   },
   {
    "duration": 21,
    "start_time": "2021-12-02T14:43:44.460Z"
   },
   {
    "duration": 7,
    "start_time": "2021-12-02T14:43:44.492Z"
   },
   {
    "duration": 15,
    "start_time": "2021-12-02T14:43:44.502Z"
   },
   {
    "duration": 14,
    "start_time": "2021-12-02T14:43:44.520Z"
   },
   {
    "duration": 5,
    "start_time": "2021-12-02T14:43:44.537Z"
   },
   {
    "duration": 14,
    "start_time": "2021-12-02T14:43:44.584Z"
   },
   {
    "duration": 28,
    "start_time": "2021-12-02T14:43:44.601Z"
   },
   {
    "duration": 13,
    "start_time": "2021-12-02T14:43:44.631Z"
   },
   {
    "duration": 20,
    "start_time": "2021-12-02T14:43:44.687Z"
   },
   {
    "duration": 13,
    "start_time": "2021-12-02T14:43:44.710Z"
   },
   {
    "duration": 16,
    "start_time": "2021-12-02T14:43:44.725Z"
   },
   {
    "duration": 58,
    "start_time": "2021-12-02T14:43:44.743Z"
   },
   {
    "duration": 102,
    "start_time": "2021-12-02T14:43:44.804Z"
   },
   {
    "duration": 72,
    "start_time": "2021-12-02T14:43:44.910Z"
   },
   {
    "duration": 56,
    "start_time": "2021-12-02T14:43:44.986Z"
   },
   {
    "duration": 15,
    "start_time": "2021-12-02T14:43:45.045Z"
   },
   {
    "duration": 45,
    "start_time": "2021-12-02T14:43:45.083Z"
   },
   {
    "duration": 17,
    "start_time": "2021-12-02T14:43:45.131Z"
   },
   {
    "duration": 10,
    "start_time": "2021-12-02T14:43:45.183Z"
   },
   {
    "duration": 13,
    "start_time": "2021-12-02T14:43:45.200Z"
   },
   {
    "duration": 26,
    "start_time": "2021-12-02T14:43:45.215Z"
   },
   {
    "duration": 7,
    "start_time": "2021-12-02T14:43:45.244Z"
   },
   {
    "duration": 45,
    "start_time": "2021-12-02T14:43:45.253Z"
   },
   {
    "duration": 24,
    "start_time": "2021-12-02T14:43:45.301Z"
   },
   {
    "duration": 12,
    "start_time": "2021-12-02T14:43:45.328Z"
   },
   {
    "duration": 45,
    "start_time": "2021-12-02T14:43:45.343Z"
   },
   {
    "duration": 21,
    "start_time": "2021-12-02T14:43:45.391Z"
   },
   {
    "duration": 19,
    "start_time": "2021-12-02T14:43:45.415Z"
   },
   {
    "duration": 18,
    "start_time": "2021-12-02T14:43:45.437Z"
   },
   {
    "duration": 22,
    "start_time": "2021-12-02T14:43:45.488Z"
   },
   {
    "duration": 17,
    "start_time": "2021-12-02T14:43:45.512Z"
   },
   {
    "duration": 13,
    "start_time": "2021-12-02T14:43:45.532Z"
   },
   {
    "duration": 50,
    "start_time": "2021-12-02T14:43:45.548Z"
   },
   {
    "duration": 25,
    "start_time": "2021-12-02T14:43:45.601Z"
   },
   {
    "duration": 14,
    "start_time": "2021-12-02T14:43:45.629Z"
   },
   {
    "duration": 7,
    "start_time": "2021-12-02T14:43:45.646Z"
   },
   {
    "duration": 52,
    "start_time": "2021-12-02T14:43:45.656Z"
   },
   {
    "duration": 11,
    "start_time": "2021-12-02T14:43:45.710Z"
   },
   {
    "duration": 9,
    "start_time": "2021-12-02T14:54:07.435Z"
   },
   {
    "duration": 164,
    "start_time": "2021-12-02T14:55:17.489Z"
   },
   {
    "duration": 24,
    "start_time": "2021-12-02T14:55:26.237Z"
   },
   {
    "duration": 13,
    "start_time": "2021-12-02T15:34:17.984Z"
   },
   {
    "duration": 1487,
    "start_time": "2021-12-02T15:34:27.853Z"
   },
   {
    "duration": 558,
    "start_time": "2021-12-02T15:34:29.343Z"
   },
   {
    "duration": 24,
    "start_time": "2021-12-02T15:34:29.905Z"
   },
   {
    "duration": 7,
    "start_time": "2021-12-02T15:34:29.932Z"
   },
   {
    "duration": 15,
    "start_time": "2021-12-02T15:34:29.941Z"
   },
   {
    "duration": 6,
    "start_time": "2021-12-02T15:34:29.982Z"
   },
   {
    "duration": 47,
    "start_time": "2021-12-02T15:34:29.991Z"
   },
   {
    "duration": 44,
    "start_time": "2021-12-02T15:34:30.042Z"
   },
   {
    "duration": 32,
    "start_time": "2021-12-02T15:34:30.089Z"
   },
   {
    "duration": 47,
    "start_time": "2021-12-02T15:34:30.125Z"
   },
   {
    "duration": 81,
    "start_time": "2021-12-02T15:34:30.174Z"
   },
   {
    "duration": 47,
    "start_time": "2021-12-02T15:34:30.257Z"
   },
   {
    "duration": 30,
    "start_time": "2021-12-02T15:34:30.307Z"
   },
   {
    "duration": 8,
    "start_time": "2021-12-02T15:34:30.340Z"
   },
   {
    "duration": 40,
    "start_time": "2021-12-02T15:34:30.350Z"
   },
   {
    "duration": 24,
    "start_time": "2021-12-02T15:34:30.393Z"
   },
   {
    "duration": 15,
    "start_time": "2021-12-02T15:34:30.420Z"
   },
   {
    "duration": 19,
    "start_time": "2021-12-02T15:34:30.438Z"
   },
   {
    "duration": 20,
    "start_time": "2021-12-02T15:34:30.482Z"
   },
   {
    "duration": 19,
    "start_time": "2021-12-02T15:34:30.505Z"
   },
   {
    "duration": 39,
    "start_time": "2021-12-02T15:34:30.528Z"
   },
   {
    "duration": 35,
    "start_time": "2021-12-02T15:34:30.571Z"
   },
   {
    "duration": 14,
    "start_time": "2021-12-02T15:34:30.612Z"
   },
   {
    "duration": 21,
    "start_time": "2021-12-02T15:34:30.630Z"
   },
   {
    "duration": 28,
    "start_time": "2021-12-02T15:34:30.654Z"
   },
   {
    "duration": 30,
    "start_time": "2021-12-02T15:34:30.686Z"
   },
   {
    "duration": 24,
    "start_time": "2021-12-02T15:34:30.719Z"
   },
   {
    "duration": 6,
    "start_time": "2021-12-02T15:34:30.745Z"
   },
   {
    "duration": 34,
    "start_time": "2021-12-02T15:34:30.753Z"
   },
   {
    "duration": 40,
    "start_time": "2021-12-02T15:34:30.790Z"
   },
   {
    "duration": 15,
    "start_time": "2021-12-02T15:34:30.833Z"
   },
   {
    "duration": 39,
    "start_time": "2021-12-02T15:34:30.851Z"
   },
   {
    "duration": 14,
    "start_time": "2021-12-02T15:34:30.892Z"
   },
   {
    "duration": 28,
    "start_time": "2021-12-02T15:34:30.909Z"
   },
   {
    "duration": 20,
    "start_time": "2021-12-02T15:34:30.940Z"
   },
   {
    "duration": 69,
    "start_time": "2021-12-02T15:34:30.983Z"
   },
   {
    "duration": 55,
    "start_time": "2021-12-02T15:34:31.055Z"
   },
   {
    "duration": 84,
    "start_time": "2021-12-02T15:34:31.113Z"
   },
   {
    "duration": 18,
    "start_time": "2021-12-02T15:34:31.200Z"
   },
   {
    "duration": 64,
    "start_time": "2021-12-02T15:34:31.221Z"
   },
   {
    "duration": 17,
    "start_time": "2021-12-02T15:34:31.288Z"
   },
   {
    "duration": 11,
    "start_time": "2021-12-02T15:34:31.308Z"
   },
   {
    "duration": 18,
    "start_time": "2021-12-02T15:34:31.322Z"
   },
   {
    "duration": 47,
    "start_time": "2021-12-02T15:34:31.344Z"
   },
   {
    "duration": 5,
    "start_time": "2021-12-02T15:34:31.394Z"
   },
   {
    "duration": 17,
    "start_time": "2021-12-02T15:34:31.402Z"
   },
   {
    "duration": 25,
    "start_time": "2021-12-02T15:34:31.422Z"
   },
   {
    "duration": 41,
    "start_time": "2021-12-02T15:34:31.449Z"
   },
   {
    "duration": 12,
    "start_time": "2021-12-02T15:34:31.492Z"
   },
   {
    "duration": 22,
    "start_time": "2021-12-02T15:34:31.507Z"
   },
   {
    "duration": 18,
    "start_time": "2021-12-02T15:34:31.531Z"
   },
   {
    "duration": 44,
    "start_time": "2021-12-02T15:34:31.551Z"
   },
   {
    "duration": 15,
    "start_time": "2021-12-02T15:34:31.598Z"
   },
   {
    "duration": 21,
    "start_time": "2021-12-02T15:34:31.615Z"
   },
   {
    "duration": 46,
    "start_time": "2021-12-02T15:34:31.639Z"
   },
   {
    "duration": 16,
    "start_time": "2021-12-02T15:34:31.687Z"
   },
   {
    "duration": 18,
    "start_time": "2021-12-02T15:34:31.705Z"
   },
   {
    "duration": 12,
    "start_time": "2021-12-02T15:34:31.726Z"
   },
   {
    "duration": 213,
    "start_time": "2021-12-02T15:34:31.740Z"
   },
   {
    "duration": 29,
    "start_time": "2021-12-02T15:34:31.955Z"
   },
   {
    "duration": 18,
    "start_time": "2021-12-02T15:35:01.579Z"
   },
   {
    "duration": 1437,
    "start_time": "2021-12-02T15:35:07.784Z"
   },
   {
    "duration": 407,
    "start_time": "2021-12-02T15:35:09.224Z"
   },
   {
    "duration": 27,
    "start_time": "2021-12-02T15:35:09.635Z"
   },
   {
    "duration": 7,
    "start_time": "2021-12-02T15:35:09.665Z"
   },
   {
    "duration": 11,
    "start_time": "2021-12-02T15:35:09.683Z"
   },
   {
    "duration": 8,
    "start_time": "2021-12-02T15:35:09.698Z"
   },
   {
    "duration": 98,
    "start_time": "2021-12-02T15:35:09.710Z"
   },
   {
    "duration": 13,
    "start_time": "2021-12-02T15:35:09.813Z"
   },
   {
    "duration": 15,
    "start_time": "2021-12-02T15:35:09.829Z"
   },
   {
    "duration": 55,
    "start_time": "2021-12-02T15:35:09.847Z"
   },
   {
    "duration": 87,
    "start_time": "2021-12-02T15:35:09.905Z"
   },
   {
    "duration": 38,
    "start_time": "2021-12-02T15:35:09.995Z"
   },
   {
    "duration": 53,
    "start_time": "2021-12-02T15:35:10.035Z"
   },
   {
    "duration": 9,
    "start_time": "2021-12-02T15:35:10.091Z"
   },
   {
    "duration": 19,
    "start_time": "2021-12-02T15:35:10.103Z"
   },
   {
    "duration": 21,
    "start_time": "2021-12-02T15:35:10.125Z"
   },
   {
    "duration": 40,
    "start_time": "2021-12-02T15:35:10.149Z"
   },
   {
    "duration": 20,
    "start_time": "2021-12-02T15:35:10.191Z"
   },
   {
    "duration": 42,
    "start_time": "2021-12-02T15:35:10.214Z"
   },
   {
    "duration": 25,
    "start_time": "2021-12-02T15:35:10.259Z"
   },
   {
    "duration": 13,
    "start_time": "2021-12-02T15:35:10.287Z"
   },
   {
    "duration": 23,
    "start_time": "2021-12-02T15:35:10.304Z"
   },
   {
    "duration": 54,
    "start_time": "2021-12-02T15:35:10.335Z"
   },
   {
    "duration": 14,
    "start_time": "2021-12-02T15:35:10.393Z"
   },
   {
    "duration": 19,
    "start_time": "2021-12-02T15:35:10.410Z"
   },
   {
    "duration": 50,
    "start_time": "2021-12-02T15:35:10.432Z"
   },
   {
    "duration": 16,
    "start_time": "2021-12-02T15:35:10.485Z"
   },
   {
    "duration": 5,
    "start_time": "2021-12-02T15:35:10.503Z"
   },
   {
    "duration": 14,
    "start_time": "2021-12-02T15:35:10.511Z"
   },
   {
    "duration": 81,
    "start_time": "2021-12-02T15:35:10.528Z"
   },
   {
    "duration": 18,
    "start_time": "2021-12-02T15:35:10.612Z"
   },
   {
    "duration": 15,
    "start_time": "2021-12-02T15:35:10.633Z"
   },
   {
    "duration": 42,
    "start_time": "2021-12-02T15:35:10.651Z"
   },
   {
    "duration": 17,
    "start_time": "2021-12-02T15:35:10.696Z"
   },
   {
    "duration": 17,
    "start_time": "2021-12-02T15:35:10.716Z"
   },
   {
    "duration": 104,
    "start_time": "2021-12-02T15:35:10.736Z"
   },
   {
    "duration": 50,
    "start_time": "2021-12-02T15:35:10.843Z"
   },
   {
    "duration": 51,
    "start_time": "2021-12-02T15:35:10.896Z"
   },
   {
    "duration": 33,
    "start_time": "2021-12-02T15:35:10.950Z"
   },
   {
    "duration": 32,
    "start_time": "2021-12-02T15:35:10.986Z"
   },
   {
    "duration": 14,
    "start_time": "2021-12-02T15:35:11.021Z"
   },
   {
    "duration": 46,
    "start_time": "2021-12-02T15:35:11.038Z"
   },
   {
    "duration": 13,
    "start_time": "2021-12-02T15:35:11.087Z"
   },
   {
    "duration": 16,
    "start_time": "2021-12-02T15:35:11.102Z"
   },
   {
    "duration": 6,
    "start_time": "2021-12-02T15:35:11.121Z"
   },
   {
    "duration": 52,
    "start_time": "2021-12-02T15:35:11.131Z"
   },
   {
    "duration": 19,
    "start_time": "2021-12-02T15:35:11.186Z"
   },
   {
    "duration": 12,
    "start_time": "2021-12-02T15:35:11.208Z"
   },
   {
    "duration": 9,
    "start_time": "2021-12-02T15:35:11.224Z"
   },
   {
    "duration": 48,
    "start_time": "2021-12-02T15:35:11.236Z"
   },
   {
    "duration": 20,
    "start_time": "2021-12-02T15:35:11.287Z"
   },
   {
    "duration": 20,
    "start_time": "2021-12-02T15:35:11.310Z"
   },
   {
    "duration": 61,
    "start_time": "2021-12-02T15:35:11.333Z"
   },
   {
    "duration": 22,
    "start_time": "2021-12-02T15:35:11.397Z"
   },
   {
    "duration": 14,
    "start_time": "2021-12-02T15:35:11.422Z"
   },
   {
    "duration": 43,
    "start_time": "2021-12-02T15:35:11.439Z"
   },
   {
    "duration": 17,
    "start_time": "2021-12-02T15:35:11.486Z"
   },
   {
    "duration": 9,
    "start_time": "2021-12-02T15:35:11.506Z"
   },
   {
    "duration": 156,
    "start_time": "2021-12-02T15:35:11.518Z"
   },
   {
    "duration": 23,
    "start_time": "2021-12-02T15:35:11.676Z"
   },
   {
    "duration": 105,
    "start_time": "2021-12-02T15:36:06.684Z"
   },
   {
    "duration": 1464,
    "start_time": "2021-12-02T15:36:11.476Z"
   },
   {
    "duration": 404,
    "start_time": "2021-12-02T15:36:12.943Z"
   },
   {
    "duration": 27,
    "start_time": "2021-12-02T15:36:13.350Z"
   },
   {
    "duration": 14,
    "start_time": "2021-12-02T15:36:13.382Z"
   },
   {
    "duration": 19,
    "start_time": "2021-12-02T15:36:13.399Z"
   },
   {
    "duration": 21,
    "start_time": "2021-12-02T15:36:13.421Z"
   },
   {
    "duration": 86,
    "start_time": "2021-12-02T15:36:13.445Z"
   },
   {
    "duration": 11,
    "start_time": "2021-12-02T15:36:13.535Z"
   },
   {
    "duration": 39,
    "start_time": "2021-12-02T15:36:13.549Z"
   },
   {
    "duration": 24,
    "start_time": "2021-12-02T15:36:13.591Z"
   },
   {
    "duration": 104,
    "start_time": "2021-12-02T15:36:13.618Z"
   },
   {
    "duration": 65,
    "start_time": "2021-12-02T15:36:13.725Z"
   },
   {
    "duration": 38,
    "start_time": "2021-12-02T15:36:13.793Z"
   },
   {
    "duration": 8,
    "start_time": "2021-12-02T15:36:13.834Z"
   },
   {
    "duration": 47,
    "start_time": "2021-12-02T15:36:13.845Z"
   },
   {
    "duration": 21,
    "start_time": "2021-12-02T15:36:13.895Z"
   },
   {
    "duration": 9,
    "start_time": "2021-12-02T15:36:13.919Z"
   },
   {
    "duration": 55,
    "start_time": "2021-12-02T15:36:13.931Z"
   },
   {
    "duration": 21,
    "start_time": "2021-12-02T15:36:13.989Z"
   },
   {
    "duration": 8,
    "start_time": "2021-12-02T15:36:14.013Z"
   },
   {
    "duration": 13,
    "start_time": "2021-12-02T15:36:14.024Z"
   },
   {
    "duration": 25,
    "start_time": "2021-12-02T15:36:14.083Z"
   },
   {
    "duration": 17,
    "start_time": "2021-12-02T15:36:14.116Z"
   },
   {
    "duration": 52,
    "start_time": "2021-12-02T15:36:14.137Z"
   },
   {
    "duration": 5,
    "start_time": "2021-12-02T15:36:14.192Z"
   },
   {
    "duration": 20,
    "start_time": "2021-12-02T15:36:14.200Z"
   },
   {
    "duration": 24,
    "start_time": "2021-12-02T15:36:14.223Z"
   },
   {
    "duration": 32,
    "start_time": "2021-12-02T15:36:14.250Z"
   },
   {
    "duration": 19,
    "start_time": "2021-12-02T15:36:14.286Z"
   },
   {
    "duration": 45,
    "start_time": "2021-12-02T15:36:14.308Z"
   },
   {
    "duration": 43,
    "start_time": "2021-12-02T15:36:14.356Z"
   },
   {
    "duration": 16,
    "start_time": "2021-12-02T15:36:14.402Z"
   },
   {
    "duration": 13,
    "start_time": "2021-12-02T15:36:14.421Z"
   },
   {
    "duration": 47,
    "start_time": "2021-12-02T15:36:14.437Z"
   },
   {
    "duration": 13,
    "start_time": "2021-12-02T15:36:14.486Z"
   },
   {
    "duration": 95,
    "start_time": "2021-12-02T15:36:14.501Z"
   },
   {
    "duration": 47,
    "start_time": "2021-12-02T15:36:14.598Z"
   },
   {
    "duration": 87,
    "start_time": "2021-12-02T15:36:14.648Z"
   },
   {
    "duration": 16,
    "start_time": "2021-12-02T15:36:14.738Z"
   },
   {
    "duration": 61,
    "start_time": "2021-12-02T15:36:14.757Z"
   },
   {
    "duration": 18,
    "start_time": "2021-12-02T15:36:14.821Z"
   },
   {
    "duration": 7,
    "start_time": "2021-12-02T15:36:14.842Z"
   },
   {
    "duration": 37,
    "start_time": "2021-12-02T15:36:14.852Z"
   },
   {
    "duration": 20,
    "start_time": "2021-12-02T15:36:14.891Z"
   },
   {
    "duration": 6,
    "start_time": "2021-12-02T15:36:14.913Z"
   },
   {
    "duration": 15,
    "start_time": "2021-12-02T15:36:14.922Z"
   },
   {
    "duration": 57,
    "start_time": "2021-12-02T15:36:14.940Z"
   },
   {
    "duration": 14,
    "start_time": "2021-12-02T15:36:14.999Z"
   },
   {
    "duration": 16,
    "start_time": "2021-12-02T15:36:15.015Z"
   },
   {
    "duration": 28,
    "start_time": "2021-12-02T15:36:15.034Z"
   },
   {
    "duration": 19,
    "start_time": "2021-12-02T15:36:15.082Z"
   },
   {
    "duration": 15,
    "start_time": "2021-12-02T15:36:15.104Z"
   },
   {
    "duration": 14,
    "start_time": "2021-12-02T15:36:15.121Z"
   },
   {
    "duration": 49,
    "start_time": "2021-12-02T15:36:15.138Z"
   },
   {
    "duration": 13,
    "start_time": "2021-12-02T15:36:15.189Z"
   },
   {
    "duration": 15,
    "start_time": "2021-12-02T15:36:15.205Z"
   },
   {
    "duration": 30,
    "start_time": "2021-12-02T15:36:15.223Z"
   },
   {
    "duration": 97,
    "start_time": "2021-12-02T15:36:15.282Z"
   },
   {
    "duration": -83,
    "start_time": "2021-12-02T15:36:15.465Z"
   },
   {
    "duration": -87,
    "start_time": "2021-12-02T15:36:15.470Z"
   },
   {
    "duration": 9,
    "start_time": "2021-12-02T15:38:55.569Z"
   },
   {
    "duration": 1632,
    "start_time": "2021-12-02T15:39:01.874Z"
   },
   {
    "duration": 418,
    "start_time": "2021-12-02T15:39:03.509Z"
   },
   {
    "duration": 21,
    "start_time": "2021-12-02T15:39:03.931Z"
   },
   {
    "duration": 13,
    "start_time": "2021-12-02T15:39:03.956Z"
   },
   {
    "duration": 20,
    "start_time": "2021-12-02T15:39:03.972Z"
   },
   {
    "duration": 9,
    "start_time": "2021-12-02T15:39:03.995Z"
   },
   {
    "duration": 43,
    "start_time": "2021-12-02T15:39:04.007Z"
   },
   {
    "duration": 10,
    "start_time": "2021-12-02T15:39:04.084Z"
   },
   {
    "duration": 20,
    "start_time": "2021-12-02T15:39:04.098Z"
   },
   {
    "duration": 24,
    "start_time": "2021-12-02T15:39:04.121Z"
   },
   {
    "duration": 101,
    "start_time": "2021-12-02T15:39:04.148Z"
   },
   {
    "duration": 58,
    "start_time": "2021-12-02T15:39:04.251Z"
   },
   {
    "duration": 27,
    "start_time": "2021-12-02T15:39:04.312Z"
   },
   {
    "duration": 7,
    "start_time": "2021-12-02T15:39:04.341Z"
   },
   {
    "duration": 36,
    "start_time": "2021-12-02T15:39:04.351Z"
   },
   {
    "duration": 27,
    "start_time": "2021-12-02T15:39:04.390Z"
   },
   {
    "duration": 5,
    "start_time": "2021-12-02T15:39:04.420Z"
   },
   {
    "duration": 17,
    "start_time": "2021-12-02T15:39:04.428Z"
   },
   {
    "duration": 21,
    "start_time": "2021-12-02T15:39:04.483Z"
   },
   {
    "duration": 7,
    "start_time": "2021-12-02T15:39:04.507Z"
   },
   {
    "duration": 19,
    "start_time": "2021-12-02T15:39:04.517Z"
   },
   {
    "duration": 57,
    "start_time": "2021-12-02T15:39:04.539Z"
   },
   {
    "duration": 14,
    "start_time": "2021-12-02T15:39:04.602Z"
   },
   {
    "duration": 12,
    "start_time": "2021-12-02T15:39:04.619Z"
   },
   {
    "duration": 5,
    "start_time": "2021-12-02T15:39:04.634Z"
   },
   {
    "duration": 52,
    "start_time": "2021-12-02T15:39:04.642Z"
   },
   {
    "duration": 15,
    "start_time": "2021-12-02T15:39:04.696Z"
   },
   {
    "duration": 4,
    "start_time": "2021-12-02T15:39:04.714Z"
   },
   {
    "duration": 12,
    "start_time": "2021-12-02T15:39:04.721Z"
   },
   {
    "duration": 67,
    "start_time": "2021-12-02T15:39:04.735Z"
   },
   {
    "duration": 13,
    "start_time": "2021-12-02T15:39:04.804Z"
   },
   {
    "duration": 16,
    "start_time": "2021-12-02T15:39:04.819Z"
   },
   {
    "duration": 11,
    "start_time": "2021-12-02T15:39:04.837Z"
   },
   {
    "duration": 35,
    "start_time": "2021-12-02T15:39:04.851Z"
   },
   {
    "duration": 12,
    "start_time": "2021-12-02T15:39:04.888Z"
   },
   {
    "duration": 133,
    "start_time": "2021-12-02T15:39:04.903Z"
   },
   {
    "duration": 67,
    "start_time": "2021-12-02T15:39:05.039Z"
   },
   {
    "duration": 78,
    "start_time": "2021-12-02T15:39:05.109Z"
   },
   {
    "duration": 17,
    "start_time": "2021-12-02T15:39:05.190Z"
   },
   {
    "duration": 48,
    "start_time": "2021-12-02T15:39:05.210Z"
   },
   {
    "duration": 36,
    "start_time": "2021-12-02T15:39:05.261Z"
   },
   {
    "duration": 8,
    "start_time": "2021-12-02T15:39:05.300Z"
   },
   {
    "duration": 18,
    "start_time": "2021-12-02T15:39:05.311Z"
   },
   {
    "duration": 59,
    "start_time": "2021-12-02T15:39:05.332Z"
   },
   {
    "duration": 6,
    "start_time": "2021-12-02T15:39:05.394Z"
   },
   {
    "duration": 13,
    "start_time": "2021-12-02T15:39:05.403Z"
   },
   {
    "duration": 29,
    "start_time": "2021-12-02T15:39:05.418Z"
   },
   {
    "duration": 40,
    "start_time": "2021-12-02T15:39:05.450Z"
   },
   {
    "duration": 9,
    "start_time": "2021-12-02T15:39:05.493Z"
   },
   {
    "duration": 13,
    "start_time": "2021-12-02T15:39:05.514Z"
   },
   {
    "duration": 17,
    "start_time": "2021-12-02T15:39:05.529Z"
   },
   {
    "duration": 36,
    "start_time": "2021-12-02T15:39:05.548Z"
   },
   {
    "duration": 14,
    "start_time": "2021-12-02T15:39:05.586Z"
   },
   {
    "duration": 17,
    "start_time": "2021-12-02T15:39:05.603Z"
   },
   {
    "duration": 20,
    "start_time": "2021-12-02T15:39:05.622Z"
   },
   {
    "duration": 40,
    "start_time": "2021-12-02T15:39:05.645Z"
   },
   {
    "duration": 24,
    "start_time": "2021-12-02T15:39:05.688Z"
   },
   {
    "duration": 15,
    "start_time": "2021-12-02T15:39:05.714Z"
   },
   {
    "duration": 136,
    "start_time": "2021-12-02T15:39:05.731Z"
   },
   {
    "duration": 27,
    "start_time": "2021-12-02T15:39:05.869Z"
   },
   {
    "duration": 27,
    "start_time": "2021-12-02T15:41:23.784Z"
   },
   {
    "duration": 23,
    "start_time": "2021-12-02T15:43:25.774Z"
   },
   {
    "duration": 15,
    "start_time": "2021-12-02T16:45:12.898Z"
   },
   {
    "duration": 375,
    "start_time": "2021-12-02T16:49:00.041Z"
   },
   {
    "duration": 11,
    "start_time": "2021-12-02T16:49:20.096Z"
   },
   {
    "duration": 415,
    "start_time": "2021-12-02T16:50:16.733Z"
   },
   {
    "duration": 6,
    "start_time": "2021-12-02T16:50:46.773Z"
   },
   {
    "duration": 418,
    "start_time": "2021-12-02T16:51:40.083Z"
   },
   {
    "duration": 484,
    "start_time": "2021-12-02T16:51:45.911Z"
   },
   {
    "duration": 474,
    "start_time": "2021-12-02T16:52:17.158Z"
   },
   {
    "duration": 429,
    "start_time": "2021-12-02T16:52:19.777Z"
   },
   {
    "duration": 349,
    "start_time": "2021-12-02T16:59:07.048Z"
   },
   {
    "duration": 340,
    "start_time": "2021-12-02T16:59:10.660Z"
   },
   {
    "duration": 367,
    "start_time": "2021-12-02T17:01:09.257Z"
   },
   {
    "duration": 113,
    "start_time": "2021-12-02T17:01:47.044Z"
   },
   {
    "duration": 105,
    "start_time": "2021-12-02T17:01:53.629Z"
   },
   {
    "duration": 4,
    "start_time": "2021-12-02T17:07:13.419Z"
   },
   {
    "duration": 7,
    "start_time": "2021-12-02T17:07:18.001Z"
   },
   {
    "duration": 5,
    "start_time": "2021-12-02T17:07:24.707Z"
   },
   {
    "duration": 31,
    "start_time": "2021-12-02T17:08:19.147Z"
   },
   {
    "duration": 14,
    "start_time": "2021-12-02T17:08:22.519Z"
   },
   {
    "duration": 9,
    "start_time": "2021-12-02T17:10:34.955Z"
   },
   {
    "duration": 8,
    "start_time": "2021-12-02T17:10:41.415Z"
   },
   {
    "duration": 160,
    "start_time": "2021-12-02T17:18:21.083Z"
   },
   {
    "duration": 13,
    "start_time": "2021-12-02T17:18:59.762Z"
   },
   {
    "duration": 75,
    "start_time": "2021-12-02T17:19:15.319Z"
   },
   {
    "duration": 58,
    "start_time": "2021-12-02T17:20:55.567Z"
   },
   {
    "duration": 10,
    "start_time": "2021-12-02T18:04:02.361Z"
   },
   {
    "duration": 344,
    "start_time": "2021-12-02T18:04:26.383Z"
   },
   {
    "duration": 363,
    "start_time": "2021-12-02T18:05:31.676Z"
   },
   {
    "duration": 496,
    "start_time": "2021-12-02T18:06:19.786Z"
   },
   {
    "duration": 476,
    "start_time": "2021-12-02T18:06:44.578Z"
   },
   {
    "duration": 331,
    "start_time": "2021-12-02T18:07:01.242Z"
   },
   {
    "duration": 334,
    "start_time": "2021-12-02T18:07:08.551Z"
   },
   {
    "duration": 427,
    "start_time": "2021-12-02T18:07:17.135Z"
   },
   {
    "duration": 4,
    "start_time": "2021-12-02T18:17:23.772Z"
   },
   {
    "duration": 13,
    "start_time": "2021-12-02T18:17:33.388Z"
   },
   {
    "duration": 9,
    "start_time": "2021-12-02T18:18:18.032Z"
   },
   {
    "duration": 113,
    "start_time": "2021-12-02T18:18:18.561Z"
   },
   {
    "duration": 12,
    "start_time": "2021-12-02T18:18:23.518Z"
   },
   {
    "duration": 320,
    "start_time": "2021-12-02T18:19:03.129Z"
   },
   {
    "duration": 16,
    "start_time": "2021-12-02T18:21:12.097Z"
   },
   {
    "duration": 16,
    "start_time": "2021-12-02T18:23:26.440Z"
   },
   {
    "duration": 22,
    "start_time": "2021-12-02T18:27:26.010Z"
   },
   {
    "duration": 26,
    "start_time": "2021-12-02T18:31:31.362Z"
   },
   {
    "duration": 52,
    "start_time": "2021-12-02T19:13:08.754Z"
   },
   {
    "duration": 28,
    "start_time": "2021-12-02T19:13:38.340Z"
   },
   {
    "duration": 38,
    "start_time": "2021-12-02T19:15:01.287Z"
   },
   {
    "duration": 32,
    "start_time": "2021-12-02T19:15:14.758Z"
   },
   {
    "duration": 29,
    "start_time": "2021-12-02T19:36:08.142Z"
   },
   {
    "duration": 12,
    "start_time": "2021-12-02T19:37:19.989Z"
   },
   {
    "duration": 13,
    "start_time": "2021-12-02T19:38:29.500Z"
   },
   {
    "duration": 11,
    "start_time": "2021-12-02T19:38:43.673Z"
   },
   {
    "duration": 7,
    "start_time": "2021-12-02T19:40:49.918Z"
   },
   {
    "duration": 7,
    "start_time": "2021-12-02T19:41:02.865Z"
   },
   {
    "duration": 6,
    "start_time": "2021-12-02T19:41:23.129Z"
   },
   {
    "duration": 11,
    "start_time": "2021-12-02T19:43:12.746Z"
   },
   {
    "duration": 12,
    "start_time": "2021-12-02T19:43:13.232Z"
   },
   {
    "duration": 339,
    "start_time": "2021-12-02T19:44:36.356Z"
   },
   {
    "duration": 290,
    "start_time": "2021-12-02T19:44:57.459Z"
   },
   {
    "duration": 350,
    "start_time": "2021-12-02T19:45:26.183Z"
   },
   {
    "duration": 225,
    "start_time": "2021-12-02T19:46:38.688Z"
   },
   {
    "duration": 228,
    "start_time": "2021-12-02T19:46:39.828Z"
   },
   {
    "duration": 232,
    "start_time": "2021-12-02T19:47:00.777Z"
   },
   {
    "duration": 232,
    "start_time": "2021-12-02T19:47:01.621Z"
   },
   {
    "duration": 579,
    "start_time": "2021-12-02T19:56:01.331Z"
   },
   {
    "duration": 287,
    "start_time": "2021-12-02T19:56:23.558Z"
   },
   {
    "duration": 354,
    "start_time": "2021-12-02T19:56:42.472Z"
   },
   {
    "duration": 319,
    "start_time": "2021-12-02T20:15:15.987Z"
   },
   {
    "duration": 333,
    "start_time": "2021-12-02T20:15:32.791Z"
   },
   {
    "duration": 395,
    "start_time": "2021-12-02T20:15:58.277Z"
   },
   {
    "duration": 335,
    "start_time": "2021-12-02T20:16:54.494Z"
   },
   {
    "duration": 10,
    "start_time": "2021-12-02T20:22:43.603Z"
   },
   {
    "duration": 291,
    "start_time": "2021-12-02T20:22:56.211Z"
   },
   {
    "duration": 310,
    "start_time": "2021-12-02T20:23:19.023Z"
   },
   {
    "duration": 320,
    "start_time": "2021-12-02T20:24:24.025Z"
   },
   {
    "duration": 312,
    "start_time": "2021-12-02T20:24:32.156Z"
   },
   {
    "duration": 344,
    "start_time": "2021-12-02T20:24:42.932Z"
   },
   {
    "duration": 421,
    "start_time": "2021-12-02T20:24:52.621Z"
   },
   {
    "duration": 313,
    "start_time": "2021-12-02T20:24:58.302Z"
   },
   {
    "duration": 427,
    "start_time": "2021-12-02T20:30:47.780Z"
   },
   {
    "duration": 348,
    "start_time": "2021-12-02T20:30:49.064Z"
   },
   {
    "duration": 358,
    "start_time": "2021-12-02T20:30:56.280Z"
   },
   {
    "duration": 439,
    "start_time": "2021-12-02T20:31:56.541Z"
   },
   {
    "duration": 407,
    "start_time": "2021-12-02T20:32:15.030Z"
   },
   {
    "duration": 424,
    "start_time": "2021-12-02T20:32:16.332Z"
   },
   {
    "duration": 389,
    "start_time": "2021-12-02T20:32:49.364Z"
   },
   {
    "duration": 620,
    "start_time": "2021-12-02T20:33:16.247Z"
   },
   {
    "duration": 477,
    "start_time": "2021-12-02T20:33:22.175Z"
   },
   {
    "duration": 342,
    "start_time": "2021-12-02T20:33:30.604Z"
   },
   {
    "duration": 431,
    "start_time": "2021-12-02T20:34:06.679Z"
   },
   {
    "duration": 343,
    "start_time": "2021-12-02T20:34:08.001Z"
   },
   {
    "duration": 363,
    "start_time": "2021-12-02T20:34:50.469Z"
   },
   {
    "duration": 369,
    "start_time": "2021-12-02T20:34:54.669Z"
   },
   {
    "duration": 358,
    "start_time": "2021-12-02T20:35:50.991Z"
   },
   {
    "duration": 360,
    "start_time": "2021-12-02T20:36:03.903Z"
   },
   {
    "duration": 352,
    "start_time": "2021-12-02T20:44:50.758Z"
   },
   {
    "duration": 373,
    "start_time": "2021-12-02T20:45:02.042Z"
   },
   {
    "duration": 388,
    "start_time": "2021-12-02T20:45:21.650Z"
   },
   {
    "duration": 416,
    "start_time": "2021-12-02T20:45:41.685Z"
   },
   {
    "duration": 383,
    "start_time": "2021-12-02T20:45:48.715Z"
   },
   {
    "duration": 363,
    "start_time": "2021-12-02T20:55:15.322Z"
   },
   {
    "duration": 365,
    "start_time": "2021-12-02T20:55:17.527Z"
   },
   {
    "duration": 320,
    "start_time": "2021-12-02T20:55:24.241Z"
   },
   {
    "duration": 335,
    "start_time": "2021-12-02T20:55:30.436Z"
   },
   {
    "duration": 303,
    "start_time": "2021-12-02T20:55:46.525Z"
   },
   {
    "duration": 420,
    "start_time": "2021-12-02T21:01:11.809Z"
   },
   {
    "duration": 524,
    "start_time": "2021-12-02T21:01:22.763Z"
   },
   {
    "duration": 220,
    "start_time": "2021-12-02T21:02:16.721Z"
   },
   {
    "duration": 245,
    "start_time": "2021-12-02T21:02:28.588Z"
   },
   {
    "duration": 325,
    "start_time": "2021-12-02T21:06:03.137Z"
   },
   {
    "duration": 307,
    "start_time": "2021-12-02T21:06:07.055Z"
   },
   {
    "duration": 299,
    "start_time": "2021-12-02T21:16:48.207Z"
   },
   {
    "duration": 326,
    "start_time": "2021-12-02T21:16:49.034Z"
   },
   {
    "duration": 368,
    "start_time": "2021-12-02T21:17:05.815Z"
   },
   {
    "duration": 530,
    "start_time": "2021-12-02T21:17:06.186Z"
   },
   {
    "duration": 225,
    "start_time": "2021-12-02T21:17:44.221Z"
   },
   {
    "duration": 269,
    "start_time": "2021-12-02T21:17:44.543Z"
   },
   {
    "duration": 637,
    "start_time": "2021-12-02T21:18:54.946Z"
   },
   {
    "duration": 268,
    "start_time": "2021-12-02T21:18:55.587Z"
   },
   {
    "duration": 314,
    "start_time": "2021-12-02T21:19:37.957Z"
   },
   {
    "duration": 313,
    "start_time": "2021-12-02T21:19:42.944Z"
   },
   {
    "duration": 385,
    "start_time": "2021-12-02T21:23:01.737Z"
   },
   {
    "duration": 600,
    "start_time": "2021-12-02T21:24:06.517Z"
   },
   {
    "duration": 467,
    "start_time": "2021-12-02T21:24:14.486Z"
   },
   {
    "duration": 284,
    "start_time": "2021-12-02T21:24:38.713Z"
   },
   {
    "duration": 320,
    "start_time": "2021-12-02T21:24:47.090Z"
   },
   {
    "duration": 347,
    "start_time": "2021-12-02T21:24:54.721Z"
   },
   {
    "duration": 305,
    "start_time": "2021-12-02T21:25:00.837Z"
   },
   {
    "duration": 299,
    "start_time": "2021-12-02T21:25:09.285Z"
   },
   {
    "duration": 312,
    "start_time": "2021-12-02T21:28:57.617Z"
   },
   {
    "duration": 301,
    "start_time": "2021-12-02T21:28:58.590Z"
   },
   {
    "duration": 27,
    "start_time": "2021-12-02T22:05:33.602Z"
   },
   {
    "duration": 2153,
    "start_time": "2021-12-02T22:05:59.963Z"
   },
   {
    "duration": 26,
    "start_time": "2021-12-02T22:06:29.340Z"
   },
   {
    "duration": 24,
    "start_time": "2021-12-02T22:07:06.320Z"
   },
   {
    "duration": 16,
    "start_time": "2021-12-02T22:09:03.725Z"
   },
   {
    "duration": 331,
    "start_time": "2021-12-02T22:09:14.783Z"
   },
   {
    "duration": 320,
    "start_time": "2021-12-02T22:09:27.784Z"
   },
   {
    "duration": 292,
    "start_time": "2021-12-02T22:10:11.507Z"
   },
   {
    "duration": 299,
    "start_time": "2021-12-02T22:10:17.128Z"
   },
   {
    "duration": 296,
    "start_time": "2021-12-02T22:11:19.710Z"
   },
   {
    "duration": 297,
    "start_time": "2021-12-02T22:11:29.479Z"
   },
   {
    "duration": 341,
    "start_time": "2021-12-02T22:15:49.761Z"
   },
   {
    "duration": 1534,
    "start_time": "2021-12-03T06:28:08.265Z"
   },
   {
    "duration": 384,
    "start_time": "2021-12-03T06:28:09.802Z"
   },
   {
    "duration": 21,
    "start_time": "2021-12-03T06:28:10.189Z"
   },
   {
    "duration": 6,
    "start_time": "2021-12-03T06:28:10.213Z"
   },
   {
    "duration": 17,
    "start_time": "2021-12-03T06:28:10.221Z"
   },
   {
    "duration": 9,
    "start_time": "2021-12-03T06:28:10.240Z"
   },
   {
    "duration": 38,
    "start_time": "2021-12-03T06:28:10.252Z"
   },
   {
    "duration": 46,
    "start_time": "2021-12-03T06:28:10.294Z"
   },
   {
    "duration": 18,
    "start_time": "2021-12-03T06:28:10.343Z"
   },
   {
    "duration": 25,
    "start_time": "2021-12-03T06:28:10.364Z"
   },
   {
    "duration": 85,
    "start_time": "2021-12-03T06:28:10.392Z"
   },
   {
    "duration": 50,
    "start_time": "2021-12-03T06:28:10.480Z"
   },
   {
    "duration": 28,
    "start_time": "2021-12-03T06:28:10.533Z"
   },
   {
    "duration": 7,
    "start_time": "2021-12-03T06:28:10.563Z"
   },
   {
    "duration": 15,
    "start_time": "2021-12-03T06:28:10.572Z"
   },
   {
    "duration": 45,
    "start_time": "2021-12-03T06:28:10.589Z"
   },
   {
    "duration": 6,
    "start_time": "2021-12-03T06:28:10.637Z"
   },
   {
    "duration": 13,
    "start_time": "2021-12-03T06:28:10.645Z"
   },
   {
    "duration": 21,
    "start_time": "2021-12-03T06:28:10.660Z"
   },
   {
    "duration": 45,
    "start_time": "2021-12-03T06:28:10.683Z"
   },
   {
    "duration": 12,
    "start_time": "2021-12-03T06:28:10.731Z"
   },
   {
    "duration": 24,
    "start_time": "2021-12-03T06:28:10.746Z"
   },
   {
    "duration": 14,
    "start_time": "2021-12-03T06:28:10.776Z"
   },
   {
    "duration": 45,
    "start_time": "2021-12-03T06:28:10.794Z"
   },
   {
    "duration": 4,
    "start_time": "2021-12-03T06:28:10.842Z"
   },
   {
    "duration": 13,
    "start_time": "2021-12-03T06:28:10.849Z"
   },
   {
    "duration": 14,
    "start_time": "2021-12-03T06:28:10.864Z"
   },
   {
    "duration": 5,
    "start_time": "2021-12-03T06:28:10.880Z"
   },
   {
    "duration": 52,
    "start_time": "2021-12-03T06:28:10.887Z"
   },
   {
    "duration": 31,
    "start_time": "2021-12-03T06:28:10.941Z"
   },
   {
    "duration": 12,
    "start_time": "2021-12-03T06:28:10.974Z"
   },
   {
    "duration": 41,
    "start_time": "2021-12-03T06:28:10.989Z"
   },
   {
    "duration": 13,
    "start_time": "2021-12-03T06:28:11.032Z"
   },
   {
    "duration": 11,
    "start_time": "2021-12-03T06:28:11.047Z"
   },
   {
    "duration": 12,
    "start_time": "2021-12-03T06:28:11.060Z"
   },
   {
    "duration": 98,
    "start_time": "2021-12-03T06:28:11.074Z"
   },
   {
    "duration": 34,
    "start_time": "2021-12-03T06:28:11.174Z"
   },
   {
    "duration": 61,
    "start_time": "2021-12-03T06:28:11.210Z"
   },
   {
    "duration": 13,
    "start_time": "2021-12-03T06:28:11.273Z"
   },
   {
    "duration": 61,
    "start_time": "2021-12-03T06:28:11.288Z"
   },
   {
    "duration": 13,
    "start_time": "2021-12-03T06:28:11.352Z"
   },
   {
    "duration": 8,
    "start_time": "2021-12-03T06:28:11.368Z"
   },
   {
    "duration": 12,
    "start_time": "2021-12-03T06:28:11.378Z"
   },
   {
    "duration": 41,
    "start_time": "2021-12-03T06:28:11.393Z"
   },
   {
    "duration": 6,
    "start_time": "2021-12-03T06:28:11.437Z"
   },
   {
    "duration": 18,
    "start_time": "2021-12-03T06:28:11.446Z"
   },
   {
    "duration": 22,
    "start_time": "2021-12-03T06:28:11.466Z"
   },
   {
    "duration": 11,
    "start_time": "2021-12-03T06:28:11.491Z"
   },
   {
    "duration": 6,
    "start_time": "2021-12-03T06:28:11.529Z"
   },
   {
    "duration": 17,
    "start_time": "2021-12-03T06:28:11.537Z"
   },
   {
    "duration": 26,
    "start_time": "2021-12-03T06:28:11.556Z"
   },
   {
    "duration": 15,
    "start_time": "2021-12-03T06:28:11.584Z"
   },
   {
    "duration": 35,
    "start_time": "2021-12-03T06:28:11.602Z"
   },
   {
    "duration": 14,
    "start_time": "2021-12-03T06:28:11.639Z"
   },
   {
    "duration": 15,
    "start_time": "2021-12-03T06:28:11.655Z"
   },
   {
    "duration": 27,
    "start_time": "2021-12-03T06:28:11.673Z"
   },
   {
    "duration": 29,
    "start_time": "2021-12-03T06:28:11.702Z"
   },
   {
    "duration": 12,
    "start_time": "2021-12-03T06:28:11.734Z"
   },
   {
    "duration": 134,
    "start_time": "2021-12-03T06:28:11.749Z"
   },
   {
    "duration": 23,
    "start_time": "2021-12-03T06:28:11.886Z"
   },
   {
    "duration": 30,
    "start_time": "2021-12-03T06:28:11.928Z"
   },
   {
    "duration": 10,
    "start_time": "2021-12-03T06:28:11.961Z"
   },
   {
    "duration": 14,
    "start_time": "2021-12-03T06:28:11.973Z"
   },
   {
    "duration": 44,
    "start_time": "2021-12-03T06:28:11.989Z"
   },
   {
    "duration": 11,
    "start_time": "2021-12-03T06:28:12.036Z"
   },
   {
    "duration": 10,
    "start_time": "2021-12-03T06:28:12.049Z"
   },
   {
    "duration": 249,
    "start_time": "2021-12-03T06:28:12.065Z"
   },
   {
    "duration": 346,
    "start_time": "2021-12-03T06:28:12.321Z"
   },
   {
    "duration": 337,
    "start_time": "2021-12-03T06:28:12.671Z"
   },
   {
    "duration": 348,
    "start_time": "2021-12-03T06:28:13.010Z"
   },
   {
    "duration": 339,
    "start_time": "2021-12-03T06:28:13.361Z"
   },
   {
    "duration": 336,
    "start_time": "2021-12-03T06:28:13.703Z"
   },
   {
    "duration": 338,
    "start_time": "2021-12-03T06:28:14.042Z"
   },
   {
    "duration": 332,
    "start_time": "2021-12-03T06:28:14.382Z"
   },
   {
    "duration": 384,
    "start_time": "2021-12-03T06:28:14.717Z"
   },
   {
    "duration": 315,
    "start_time": "2021-12-03T06:28:15.103Z"
   },
   {
    "duration": 334,
    "start_time": "2021-12-03T06:28:15.420Z"
   },
   {
    "duration": 314,
    "start_time": "2021-12-03T06:28:15.756Z"
   },
   {
    "duration": 23,
    "start_time": "2021-12-03T06:28:16.073Z"
   },
   {
    "duration": 326,
    "start_time": "2021-12-03T06:28:16.098Z"
   },
   {
    "duration": 304,
    "start_time": "2021-12-03T06:28:16.432Z"
   },
   {
    "duration": 314,
    "start_time": "2021-12-03T06:28:16.739Z"
   },
   {
    "duration": 293,
    "start_time": "2021-12-03T06:28:17.056Z"
   },
   {
    "duration": 317,
    "start_time": "2021-12-03T06:28:17.351Z"
   },
   {
    "duration": 428,
    "start_time": "2021-12-03T08:41:14.198Z"
   },
   {
    "duration": 1327,
    "start_time": "2021-12-03T08:41:22.966Z"
   },
   {
    "duration": 377,
    "start_time": "2021-12-03T08:41:24.296Z"
   },
   {
    "duration": 20,
    "start_time": "2021-12-03T08:41:24.676Z"
   },
   {
    "duration": 13,
    "start_time": "2021-12-03T08:41:24.699Z"
   },
   {
    "duration": 19,
    "start_time": "2021-12-03T08:41:24.714Z"
   },
   {
    "duration": 14,
    "start_time": "2021-12-03T08:41:24.736Z"
   },
   {
    "duration": 45,
    "start_time": "2021-12-03T08:41:24.752Z"
   },
   {
    "duration": 29,
    "start_time": "2021-12-03T08:41:24.800Z"
   },
   {
    "duration": 12,
    "start_time": "2021-12-03T08:41:24.832Z"
   },
   {
    "duration": 23,
    "start_time": "2021-12-03T08:41:24.846Z"
   },
   {
    "duration": 97,
    "start_time": "2021-12-03T08:41:24.872Z"
   },
   {
    "duration": 39,
    "start_time": "2021-12-03T08:41:24.972Z"
   },
   {
    "duration": 40,
    "start_time": "2021-12-03T08:41:25.013Z"
   },
   {
    "duration": 9,
    "start_time": "2021-12-03T08:41:25.056Z"
   },
   {
    "duration": 12,
    "start_time": "2021-12-03T08:41:25.067Z"
   },
   {
    "duration": 56,
    "start_time": "2021-12-03T08:41:25.081Z"
   },
   {
    "duration": 7,
    "start_time": "2021-12-03T08:41:25.139Z"
   },
   {
    "duration": 11,
    "start_time": "2021-12-03T08:41:25.148Z"
   },
   {
    "duration": 23,
    "start_time": "2021-12-03T08:41:25.161Z"
   },
   {
    "duration": 5,
    "start_time": "2021-12-03T08:41:25.186Z"
   },
   {
    "duration": 46,
    "start_time": "2021-12-03T08:41:25.193Z"
   },
   {
    "duration": 22,
    "start_time": "2021-12-03T08:41:25.241Z"
   },
   {
    "duration": 11,
    "start_time": "2021-12-03T08:41:25.269Z"
   },
   {
    "duration": 47,
    "start_time": "2021-12-03T08:41:25.283Z"
   },
   {
    "duration": 5,
    "start_time": "2021-12-03T08:41:25.333Z"
   },
   {
    "duration": 15,
    "start_time": "2021-12-03T08:41:25.340Z"
   },
   {
    "duration": 14,
    "start_time": "2021-12-03T08:41:25.357Z"
   },
   {
    "duration": 5,
    "start_time": "2021-12-03T08:41:25.374Z"
   },
   {
    "duration": 50,
    "start_time": "2021-12-03T08:41:25.381Z"
   },
   {
    "duration": 26,
    "start_time": "2021-12-03T08:41:25.434Z"
   },
   {
    "duration": 12,
    "start_time": "2021-12-03T08:41:25.462Z"
   },
   {
    "duration": 13,
    "start_time": "2021-12-03T08:41:25.476Z"
   },
   {
    "duration": 47,
    "start_time": "2021-12-03T08:41:25.491Z"
   },
   {
    "duration": 12,
    "start_time": "2021-12-03T08:41:25.540Z"
   },
   {
    "duration": 12,
    "start_time": "2021-12-03T08:41:25.554Z"
   },
   {
    "duration": 95,
    "start_time": "2021-12-03T08:41:25.568Z"
   },
   {
    "duration": 36,
    "start_time": "2021-12-03T08:41:25.665Z"
   },
   {
    "duration": 66,
    "start_time": "2021-12-03T08:41:25.703Z"
   },
   {
    "duration": 12,
    "start_time": "2021-12-03T08:41:25.772Z"
   },
   {
    "duration": 49,
    "start_time": "2021-12-03T08:41:25.786Z"
   },
   {
    "duration": 11,
    "start_time": "2021-12-03T08:41:25.837Z"
   },
   {
    "duration": 7,
    "start_time": "2021-12-03T08:41:25.850Z"
   },
   {
    "duration": 17,
    "start_time": "2021-12-03T08:41:25.859Z"
   },
   {
    "duration": 16,
    "start_time": "2021-12-03T08:41:25.878Z"
   },
   {
    "duration": 35,
    "start_time": "2021-12-03T08:41:25.896Z"
   },
   {
    "duration": 13,
    "start_time": "2021-12-03T08:41:25.934Z"
   },
   {
    "duration": 18,
    "start_time": "2021-12-03T08:41:25.949Z"
   },
   {
    "duration": 11,
    "start_time": "2021-12-03T08:41:25.970Z"
   },
   {
    "duration": 8,
    "start_time": "2021-12-03T08:41:25.983Z"
   },
   {
    "duration": 12,
    "start_time": "2021-12-03T08:41:26.029Z"
   },
   {
    "duration": 18,
    "start_time": "2021-12-03T08:41:26.043Z"
   },
   {
    "duration": 13,
    "start_time": "2021-12-03T08:41:26.063Z"
   },
   {
    "duration": 12,
    "start_time": "2021-12-03T08:41:26.078Z"
   },
   {
    "duration": 47,
    "start_time": "2021-12-03T08:41:26.092Z"
   },
   {
    "duration": 11,
    "start_time": "2021-12-03T08:41:26.141Z"
   },
   {
    "duration": 11,
    "start_time": "2021-12-03T08:41:26.154Z"
   },
   {
    "duration": 17,
    "start_time": "2021-12-03T08:41:26.167Z"
   },
   {
    "duration": 44,
    "start_time": "2021-12-03T08:41:26.187Z"
   },
   {
    "duration": 132,
    "start_time": "2021-12-03T08:41:26.234Z"
   },
   {
    "duration": 23,
    "start_time": "2021-12-03T08:41:26.369Z"
   },
   {
    "duration": 52,
    "start_time": "2021-12-03T08:41:26.395Z"
   },
   {
    "duration": 9,
    "start_time": "2021-12-03T08:41:26.450Z"
   },
   {
    "duration": 17,
    "start_time": "2021-12-03T08:41:26.462Z"
   },
   {
    "duration": 11,
    "start_time": "2021-12-03T08:41:26.481Z"
   },
   {
    "duration": 41,
    "start_time": "2021-12-03T08:41:26.494Z"
   },
   {
    "duration": 10,
    "start_time": "2021-12-03T08:41:26.538Z"
   },
   {
    "duration": 244,
    "start_time": "2021-12-03T08:41:26.550Z"
   },
   {
    "duration": 250,
    "start_time": "2021-12-03T08:41:26.801Z"
   },
   {
    "duration": 338,
    "start_time": "2021-12-03T08:41:27.054Z"
   },
   {
    "duration": 357,
    "start_time": "2021-12-03T08:41:27.395Z"
   },
   {
    "duration": 333,
    "start_time": "2021-12-03T08:41:27.755Z"
   },
   {
    "duration": 339,
    "start_time": "2021-12-03T08:41:28.090Z"
   },
   {
    "duration": 335,
    "start_time": "2021-12-03T08:41:28.431Z"
   },
   {
    "duration": 341,
    "start_time": "2021-12-03T08:41:28.769Z"
   },
   {
    "duration": 301,
    "start_time": "2021-12-03T08:41:29.112Z"
   },
   {
    "duration": 386,
    "start_time": "2021-12-03T08:41:29.416Z"
   },
   {
    "duration": 335,
    "start_time": "2021-12-03T08:41:29.805Z"
   },
   {
    "duration": 334,
    "start_time": "2021-12-03T08:41:30.142Z"
   },
   {
    "duration": 25,
    "start_time": "2021-12-03T08:41:30.479Z"
   },
   {
    "duration": 335,
    "start_time": "2021-12-03T08:41:30.529Z"
   },
   {
    "duration": 322,
    "start_time": "2021-12-03T08:41:30.866Z"
   },
   {
    "duration": 328,
    "start_time": "2021-12-03T08:41:31.191Z"
   },
   {
    "duration": 321,
    "start_time": "2021-12-03T08:41:31.521Z"
   },
   {
    "duration": 320,
    "start_time": "2021-12-03T08:41:31.845Z"
   },
   {
    "duration": 7,
    "start_time": "2021-12-03T08:41:32.167Z"
   },
   {
    "duration": 7647,
    "start_time": "2021-12-03T08:42:03.112Z"
   },
   {
    "duration": 6,
    "start_time": "2021-12-03T08:42:18.956Z"
   },
   {
    "duration": 7,
    "start_time": "2021-12-03T08:56:57.238Z"
   },
   {
    "duration": 6,
    "start_time": "2021-12-03T08:57:26.992Z"
   },
   {
    "duration": 5,
    "start_time": "2021-12-03T08:57:32.313Z"
   },
   {
    "duration": 8,
    "start_time": "2021-12-03T08:57:55.189Z"
   },
   {
    "duration": 7,
    "start_time": "2021-12-03T08:58:01.336Z"
   },
   {
    "duration": 15,
    "start_time": "2021-12-03T08:59:10.406Z"
   },
   {
    "duration": 16,
    "start_time": "2021-12-03T08:59:35.250Z"
   },
   {
    "duration": 14,
    "start_time": "2021-12-03T08:59:53.818Z"
   },
   {
    "duration": 6,
    "start_time": "2021-12-03T09:00:00.213Z"
   },
   {
    "duration": 6,
    "start_time": "2021-12-03T09:00:00.856Z"
   },
   {
    "duration": 11,
    "start_time": "2021-12-03T11:59:19.778Z"
   },
   {
    "duration": 740,
    "start_time": "2021-12-03T13:21:29.201Z"
   },
   {
    "duration": 715,
    "start_time": "2021-12-03T13:22:15.848Z"
   },
   {
    "duration": 6,
    "start_time": "2021-12-03T13:23:40.476Z"
   },
   {
    "duration": 6,
    "start_time": "2021-12-03T13:27:10.088Z"
   },
   {
    "duration": 11,
    "start_time": "2021-12-03T13:28:38.661Z"
   },
   {
    "duration": 7,
    "start_time": "2021-12-03T13:29:32.359Z"
   },
   {
    "duration": 13,
    "start_time": "2021-12-03T14:09:28.502Z"
   },
   {
    "duration": 17,
    "start_time": "2021-12-03T14:09:36.797Z"
   },
   {
    "duration": 23,
    "start_time": "2021-12-03T14:10:25.795Z"
   },
   {
    "duration": 16,
    "start_time": "2021-12-03T14:10:47.050Z"
   },
   {
    "duration": 17,
    "start_time": "2021-12-03T14:10:52.892Z"
   },
   {
    "duration": 11,
    "start_time": "2021-12-03T14:12:01.525Z"
   },
   {
    "duration": 25,
    "start_time": "2021-12-03T14:12:11.239Z"
   },
   {
    "duration": 6769,
    "start_time": "2021-12-03T14:14:53.162Z"
   },
   {
    "duration": 7,
    "start_time": "2021-12-03T14:15:11.795Z"
   },
   {
    "duration": 303,
    "start_time": "2021-12-03T14:16:01.331Z"
   },
   {
    "duration": 306,
    "start_time": "2021-12-03T14:16:13.657Z"
   },
   {
    "duration": 8,
    "start_time": "2021-12-03T14:16:27.615Z"
   },
   {
    "duration": 24,
    "start_time": "2021-12-03T14:16:36.241Z"
   },
   {
    "duration": 6,
    "start_time": "2021-12-03T14:17:03.872Z"
   },
   {
    "duration": 6,
    "start_time": "2021-12-03T14:17:22.056Z"
   },
   {
    "duration": 11,
    "start_time": "2021-12-03T14:17:52.763Z"
   },
   {
    "duration": 7,
    "start_time": "2021-12-03T14:18:04.229Z"
   },
   {
    "duration": 6,
    "start_time": "2021-12-03T14:18:23.012Z"
   },
   {
    "duration": 11,
    "start_time": "2021-12-03T14:42:54.546Z"
   },
   {
    "duration": 7,
    "start_time": "2021-12-03T14:43:37.234Z"
   },
   {
    "duration": 87,
    "start_time": "2021-12-03T14:44:52.360Z"
   },
   {
    "duration": 8,
    "start_time": "2021-12-03T14:45:01.230Z"
   },
   {
    "duration": 7,
    "start_time": "2021-12-03T14:45:33.936Z"
   },
   {
    "duration": 6,
    "start_time": "2021-12-03T14:45:51.885Z"
   },
   {
    "duration": 7,
    "start_time": "2021-12-03T14:46:05.186Z"
   },
   {
    "duration": 6,
    "start_time": "2021-12-03T14:46:29.454Z"
   },
   {
    "duration": 7,
    "start_time": "2021-12-03T14:46:37.492Z"
   },
   {
    "duration": 332,
    "start_time": "2021-12-03T14:47:30.359Z"
   },
   {
    "duration": 314,
    "start_time": "2021-12-03T14:47:38.556Z"
   },
   {
    "duration": 11,
    "start_time": "2021-12-03T14:48:38.223Z"
   },
   {
    "duration": 11,
    "start_time": "2021-12-03T14:48:45.713Z"
   },
   {
    "duration": 5,
    "start_time": "2021-12-03T14:50:26.700Z"
   },
   {
    "duration": 1503,
    "start_time": "2021-12-03T14:51:44.994Z"
   },
   {
    "duration": 369,
    "start_time": "2021-12-03T14:51:46.501Z"
   },
   {
    "duration": 21,
    "start_time": "2021-12-03T14:51:46.873Z"
   },
   {
    "duration": 12,
    "start_time": "2021-12-03T14:51:46.898Z"
   },
   {
    "duration": 24,
    "start_time": "2021-12-03T14:51:46.912Z"
   },
   {
    "duration": 6,
    "start_time": "2021-12-03T14:51:46.939Z"
   },
   {
    "duration": 93,
    "start_time": "2021-12-03T14:51:46.948Z"
   },
   {
    "duration": 10,
    "start_time": "2021-12-03T14:51:47.044Z"
   },
   {
    "duration": 19,
    "start_time": "2021-12-03T14:51:47.057Z"
   },
   {
    "duration": 62,
    "start_time": "2021-12-03T14:51:47.079Z"
   },
   {
    "duration": 101,
    "start_time": "2021-12-03T14:51:47.145Z"
   },
   {
    "duration": 38,
    "start_time": "2021-12-03T14:51:47.249Z"
   },
   {
    "duration": 56,
    "start_time": "2021-12-03T14:51:47.290Z"
   },
   {
    "duration": 8,
    "start_time": "2021-12-03T14:51:47.349Z"
   },
   {
    "duration": 16,
    "start_time": "2021-12-03T14:51:47.360Z"
   },
   {
    "duration": 56,
    "start_time": "2021-12-03T14:51:47.379Z"
   },
   {
    "duration": 7,
    "start_time": "2021-12-03T14:51:47.438Z"
   },
   {
    "duration": 13,
    "start_time": "2021-12-03T14:51:47.449Z"
   },
   {
    "duration": 70,
    "start_time": "2021-12-03T14:51:47.465Z"
   },
   {
    "duration": 7,
    "start_time": "2021-12-03T14:51:47.538Z"
   },
   {
    "duration": 13,
    "start_time": "2021-12-03T14:51:47.547Z"
   },
   {
    "duration": 69,
    "start_time": "2021-12-03T14:51:47.562Z"
   },
   {
    "duration": 14,
    "start_time": "2021-12-03T14:51:47.640Z"
   },
   {
    "duration": 14,
    "start_time": "2021-12-03T14:51:47.660Z"
   },
   {
    "duration": 6,
    "start_time": "2021-12-03T14:51:47.676Z"
   },
   {
    "duration": 18,
    "start_time": "2021-12-03T14:51:47.730Z"
   },
   {
    "duration": 15,
    "start_time": "2021-12-03T14:51:47.751Z"
   },
   {
    "duration": 5,
    "start_time": "2021-12-03T14:51:47.769Z"
   },
   {
    "duration": 60,
    "start_time": "2021-12-03T14:51:47.776Z"
   },
   {
    "duration": 26,
    "start_time": "2021-12-03T14:51:47.839Z"
   },
   {
    "duration": 18,
    "start_time": "2021-12-03T14:51:47.868Z"
   },
   {
    "duration": 53,
    "start_time": "2021-12-03T14:51:47.889Z"
   },
   {
    "duration": 14,
    "start_time": "2021-12-03T14:51:47.945Z"
   },
   {
    "duration": 17,
    "start_time": "2021-12-03T14:51:47.961Z"
   },
   {
    "duration": 59,
    "start_time": "2021-12-03T14:51:47.982Z"
   },
   {
    "duration": 100,
    "start_time": "2021-12-03T14:51:48.044Z"
   },
   {
    "duration": 35,
    "start_time": "2021-12-03T14:51:48.147Z"
   },
   {
    "duration": 78,
    "start_time": "2021-12-03T14:51:48.185Z"
   },
   {
    "duration": 17,
    "start_time": "2021-12-03T14:51:48.266Z"
   },
   {
    "duration": 63,
    "start_time": "2021-12-03T14:51:48.286Z"
   },
   {
    "duration": 16,
    "start_time": "2021-12-03T14:51:48.352Z"
   },
   {
    "duration": 11,
    "start_time": "2021-12-03T14:51:48.371Z"
   },
   {
    "duration": 49,
    "start_time": "2021-12-03T14:51:48.385Z"
   },
   {
    "duration": 18,
    "start_time": "2021-12-03T14:51:48.437Z"
   },
   {
    "duration": 5,
    "start_time": "2021-12-03T14:51:48.458Z"
   },
   {
    "duration": 15,
    "start_time": "2021-12-03T14:51:48.466Z"
   },
   {
    "duration": 65,
    "start_time": "2021-12-03T14:51:48.484Z"
   },
   {
    "duration": 14,
    "start_time": "2021-12-03T14:51:48.552Z"
   },
   {
    "duration": 22,
    "start_time": "2021-12-03T14:51:48.569Z"
   },
   {
    "duration": 38,
    "start_time": "2021-12-03T14:51:48.594Z"
   },
   {
    "duration": 16,
    "start_time": "2021-12-03T14:51:48.635Z"
   },
   {
    "duration": 14,
    "start_time": "2021-12-03T14:51:48.654Z"
   },
   {
    "duration": 23,
    "start_time": "2021-12-03T14:51:48.671Z"
   },
   {
    "duration": 15,
    "start_time": "2021-12-03T14:51:48.731Z"
   },
   {
    "duration": 31,
    "start_time": "2021-12-03T14:51:48.749Z"
   },
   {
    "duration": 14,
    "start_time": "2021-12-03T14:51:48.783Z"
   },
   {
    "duration": 41,
    "start_time": "2021-12-03T14:51:48.800Z"
   },
   {
    "duration": 10,
    "start_time": "2021-12-03T14:51:48.843Z"
   },
   {
    "duration": 197,
    "start_time": "2021-12-03T14:51:48.856Z"
   },
   {
    "duration": 23,
    "start_time": "2021-12-03T14:51:49.055Z"
   },
   {
    "duration": 71,
    "start_time": "2021-12-03T14:51:49.081Z"
   },
   {
    "duration": 13,
    "start_time": "2021-12-03T14:51:49.155Z"
   },
   {
    "duration": 18,
    "start_time": "2021-12-03T14:51:49.171Z"
   },
   {
    "duration": 46,
    "start_time": "2021-12-03T14:51:49.192Z"
   },
   {
    "duration": 14,
    "start_time": "2021-12-03T14:51:49.241Z"
   },
   {
    "duration": 12,
    "start_time": "2021-12-03T14:51:49.258Z"
   },
   {
    "duration": 295,
    "start_time": "2021-12-03T14:51:49.272Z"
   },
   {
    "duration": 254,
    "start_time": "2021-12-03T14:51:49.575Z"
   },
   {
    "duration": 398,
    "start_time": "2021-12-03T14:51:49.831Z"
   },
   {
    "duration": 366,
    "start_time": "2021-12-03T14:51:50.231Z"
   },
   {
    "duration": 381,
    "start_time": "2021-12-03T14:51:50.600Z"
   },
   {
    "duration": 374,
    "start_time": "2021-12-03T14:51:50.984Z"
   },
   {
    "duration": 436,
    "start_time": "2021-12-03T14:51:51.361Z"
   },
   {
    "duration": 361,
    "start_time": "2021-12-03T14:51:51.800Z"
   },
   {
    "duration": 325,
    "start_time": "2021-12-03T14:51:52.164Z"
   },
   {
    "duration": 672,
    "start_time": "2021-12-03T14:51:52.491Z"
   },
   {
    "duration": 415,
    "start_time": "2021-12-03T14:51:53.166Z"
   },
   {
    "duration": 367,
    "start_time": "2021-12-03T14:51:53.584Z"
   },
   {
    "duration": 9,
    "start_time": "2021-12-03T14:51:53.953Z"
   },
   {
    "duration": 6,
    "start_time": "2021-12-03T14:51:53.965Z"
   },
   {
    "duration": 60,
    "start_time": "2021-12-03T14:51:53.973Z"
   },
   {
    "duration": 7,
    "start_time": "2021-12-03T14:51:54.036Z"
   },
   {
    "duration": 15,
    "start_time": "2021-12-03T14:51:54.046Z"
   },
   {
    "duration": 66,
    "start_time": "2021-12-03T14:51:54.065Z"
   },
   {
    "duration": 8,
    "start_time": "2021-12-03T14:51:54.134Z"
   },
   {
    "duration": 12,
    "start_time": "2021-12-03T14:51:54.145Z"
   },
   {
    "duration": 15,
    "start_time": "2021-12-03T14:51:54.160Z"
   },
   {
    "duration": 52,
    "start_time": "2021-12-03T14:51:54.178Z"
   },
   {
    "duration": 14,
    "start_time": "2021-12-03T17:21:59.014Z"
   },
   {
    "duration": 17,
    "start_time": "2021-12-03T17:22:39.138Z"
   },
   {
    "duration": 1355,
    "start_time": "2021-12-03T17:26:16.242Z"
   },
   {
    "duration": 365,
    "start_time": "2021-12-03T17:26:17.600Z"
   },
   {
    "duration": 20,
    "start_time": "2021-12-03T17:26:17.968Z"
   },
   {
    "duration": 7,
    "start_time": "2021-12-03T17:26:17.990Z"
   },
   {
    "duration": 31,
    "start_time": "2021-12-03T17:26:18.000Z"
   },
   {
    "duration": 7,
    "start_time": "2021-12-03T17:26:18.033Z"
   },
   {
    "duration": 40,
    "start_time": "2021-12-03T17:26:18.043Z"
   },
   {
    "duration": 50,
    "start_time": "2021-12-03T17:26:18.087Z"
   },
   {
    "duration": 14,
    "start_time": "2021-12-03T17:26:18.141Z"
   },
   {
    "duration": 22,
    "start_time": "2021-12-03T17:26:18.157Z"
   },
   {
    "duration": 102,
    "start_time": "2021-12-03T17:26:18.181Z"
   },
   {
    "duration": 56,
    "start_time": "2021-12-03T17:26:18.285Z"
   },
   {
    "duration": 27,
    "start_time": "2021-12-03T17:26:18.343Z"
   },
   {
    "duration": 7,
    "start_time": "2021-12-03T17:26:18.372Z"
   },
   {
    "duration": 50,
    "start_time": "2021-12-03T17:26:18.381Z"
   },
   {
    "duration": 20,
    "start_time": "2021-12-03T17:26:18.434Z"
   },
   {
    "duration": 8,
    "start_time": "2021-12-03T17:26:18.458Z"
   },
   {
    "duration": 62,
    "start_time": "2021-12-03T17:26:18.469Z"
   },
   {
    "duration": 22,
    "start_time": "2021-12-03T17:26:18.534Z"
   },
   {
    "duration": 5,
    "start_time": "2021-12-03T17:26:18.559Z"
   },
   {
    "duration": 65,
    "start_time": "2021-12-03T17:26:18.567Z"
   },
   {
    "duration": 28,
    "start_time": "2021-12-03T17:26:18.634Z"
   },
   {
    "duration": 16,
    "start_time": "2021-12-03T17:26:18.665Z"
   },
   {
    "duration": 52,
    "start_time": "2021-12-03T17:26:18.684Z"
   },
   {
    "duration": 6,
    "start_time": "2021-12-03T17:26:18.739Z"
   },
   {
    "duration": 12,
    "start_time": "2021-12-03T17:26:18.756Z"
   },
   {
    "duration": 63,
    "start_time": "2021-12-03T17:26:18.775Z"
   },
   {
    "duration": 6,
    "start_time": "2021-12-03T17:26:18.842Z"
   },
   {
    "duration": 16,
    "start_time": "2021-12-03T17:26:18.851Z"
   },
   {
    "duration": 81,
    "start_time": "2021-12-03T17:26:18.870Z"
   },
   {
    "duration": 14,
    "start_time": "2021-12-03T17:26:18.954Z"
   },
   {
    "duration": 60,
    "start_time": "2021-12-03T17:26:18.971Z"
   },
   {
    "duration": 15,
    "start_time": "2021-12-03T17:26:19.034Z"
   },
   {
    "duration": 14,
    "start_time": "2021-12-03T17:26:19.052Z"
   },
   {
    "duration": 62,
    "start_time": "2021-12-03T17:26:19.069Z"
   },
   {
    "duration": 63,
    "start_time": "2021-12-03T17:26:19.133Z"
   },
   {
    "duration": 52,
    "start_time": "2021-12-03T17:26:19.198Z"
   },
   {
    "duration": 51,
    "start_time": "2021-12-03T17:26:19.252Z"
   },
   {
    "duration": 13,
    "start_time": "2021-12-03T17:26:19.330Z"
   },
   {
    "duration": 40,
    "start_time": "2021-12-03T17:26:19.345Z"
   },
   {
    "duration": 12,
    "start_time": "2021-12-03T17:26:19.387Z"
   },
   {
    "duration": 32,
    "start_time": "2021-12-03T17:26:19.401Z"
   },
   {
    "duration": 15,
    "start_time": "2021-12-03T17:26:19.435Z"
   },
   {
    "duration": 18,
    "start_time": "2021-12-03T17:26:19.452Z"
   },
   {
    "duration": 5,
    "start_time": "2021-12-03T17:26:19.473Z"
   },
   {
    "duration": 57,
    "start_time": "2021-12-03T17:26:19.480Z"
   },
   {
    "duration": 20,
    "start_time": "2021-12-03T17:26:19.539Z"
   },
   {
    "duration": 11,
    "start_time": "2021-12-03T17:26:19.561Z"
   },
   {
    "duration": 13,
    "start_time": "2021-12-03T17:26:19.574Z"
   },
   {
    "duration": 49,
    "start_time": "2021-12-03T17:26:19.589Z"
   },
   {
    "duration": 15,
    "start_time": "2021-12-03T17:26:19.641Z"
   },
   {
    "duration": 14,
    "start_time": "2021-12-03T17:26:19.658Z"
   },
   {
    "duration": 54,
    "start_time": "2021-12-03T17:26:19.675Z"
   },
   {
    "duration": 16,
    "start_time": "2021-12-03T17:26:19.732Z"
   },
   {
    "duration": 12,
    "start_time": "2021-12-03T17:26:19.750Z"
   },
   {
    "duration": 12,
    "start_time": "2021-12-03T17:26:19.764Z"
   },
   {
    "duration": 58,
    "start_time": "2021-12-03T17:26:19.778Z"
   },
   {
    "duration": 9,
    "start_time": "2021-12-03T17:26:19.839Z"
   },
   {
    "duration": 172,
    "start_time": "2021-12-03T17:26:19.850Z"
   },
   {
    "duration": 22,
    "start_time": "2021-12-03T17:26:20.025Z"
   },
   {
    "duration": 36,
    "start_time": "2021-12-03T17:26:20.049Z"
   },
   {
    "duration": 11,
    "start_time": "2021-12-03T17:26:20.087Z"
   },
   {
    "duration": 10,
    "start_time": "2021-12-03T17:26:20.129Z"
   },
   {
    "duration": 10,
    "start_time": "2021-12-03T17:26:20.142Z"
   },
   {
    "duration": 13,
    "start_time": "2021-12-03T17:26:20.154Z"
   },
   {
    "duration": 60,
    "start_time": "2021-12-03T17:26:20.169Z"
   },
   {
    "duration": 257,
    "start_time": "2021-12-03T17:26:20.232Z"
   },
   {
    "duration": 262,
    "start_time": "2021-12-03T17:26:20.492Z"
   },
   {
    "duration": 351,
    "start_time": "2021-12-03T17:26:20.757Z"
   },
   {
    "duration": 338,
    "start_time": "2021-12-03T17:26:21.110Z"
   },
   {
    "duration": 362,
    "start_time": "2021-12-03T17:26:21.452Z"
   },
   {
    "duration": 339,
    "start_time": "2021-12-03T17:26:21.816Z"
   },
   {
    "duration": 340,
    "start_time": "2021-12-03T17:26:22.157Z"
   },
   {
    "duration": 344,
    "start_time": "2021-12-03T17:26:22.499Z"
   },
   {
    "duration": 387,
    "start_time": "2021-12-03T17:26:22.845Z"
   },
   {
    "duration": 359,
    "start_time": "2021-12-03T17:26:23.234Z"
   },
   {
    "duration": 326,
    "start_time": "2021-12-03T17:26:23.595Z"
   },
   {
    "duration": 318,
    "start_time": "2021-12-03T17:26:23.924Z"
   },
   {
    "duration": 9,
    "start_time": "2021-12-03T17:26:24.245Z"
   },
   {
    "duration": 6,
    "start_time": "2021-12-03T17:26:24.262Z"
   },
   {
    "duration": 14,
    "start_time": "2021-12-03T17:26:24.271Z"
   },
   {
    "duration": 45,
    "start_time": "2021-12-03T17:26:24.287Z"
   },
   {
    "duration": 11,
    "start_time": "2021-12-03T17:26:24.334Z"
   },
   {
    "duration": 24,
    "start_time": "2021-12-03T17:26:24.348Z"
   },
   {
    "duration": 8,
    "start_time": "2021-12-03T17:26:24.374Z"
   },
   {
    "duration": 47,
    "start_time": "2021-12-03T17:26:24.384Z"
   },
   {
    "duration": 10,
    "start_time": "2021-12-03T17:26:24.434Z"
   },
   {
    "duration": 7,
    "start_time": "2021-12-03T17:26:24.447Z"
   },
   {
    "duration": 11,
    "start_time": "2021-12-03T17:30:40.464Z"
   },
   {
    "duration": 1358,
    "start_time": "2021-12-03T17:36:57.673Z"
   },
   {
    "duration": 400,
    "start_time": "2021-12-03T17:36:59.035Z"
   },
   {
    "duration": 21,
    "start_time": "2021-12-03T17:36:59.439Z"
   },
   {
    "duration": 6,
    "start_time": "2021-12-03T17:36:59.463Z"
   },
   {
    "duration": 18,
    "start_time": "2021-12-03T17:36:59.472Z"
   },
   {
    "duration": 44,
    "start_time": "2021-12-03T17:36:59.492Z"
   },
   {
    "duration": 42,
    "start_time": "2021-12-03T17:36:59.539Z"
   },
   {
    "duration": 47,
    "start_time": "2021-12-03T17:36:59.585Z"
   },
   {
    "duration": 15,
    "start_time": "2021-12-03T17:36:59.637Z"
   },
   {
    "duration": 22,
    "start_time": "2021-12-03T17:36:59.655Z"
   },
   {
    "duration": 118,
    "start_time": "2021-12-03T17:36:59.679Z"
   },
   {
    "duration": 62,
    "start_time": "2021-12-03T17:36:59.799Z"
   },
   {
    "duration": 26,
    "start_time": "2021-12-03T17:36:59.864Z"
   },
   {
    "duration": 40,
    "start_time": "2021-12-03T17:36:59.894Z"
   },
   {
    "duration": 16,
    "start_time": "2021-12-03T17:36:59.938Z"
   },
   {
    "duration": 19,
    "start_time": "2021-12-03T17:36:59.957Z"
   },
   {
    "duration": 58,
    "start_time": "2021-12-03T17:36:59.978Z"
   },
   {
    "duration": 17,
    "start_time": "2021-12-03T17:37:00.041Z"
   },
   {
    "duration": 21,
    "start_time": "2021-12-03T17:37:00.061Z"
   },
   {
    "duration": 51,
    "start_time": "2021-12-03T17:37:00.085Z"
   },
   {
    "duration": 16,
    "start_time": "2021-12-03T17:37:00.139Z"
   },
   {
    "duration": 25,
    "start_time": "2021-12-03T17:37:00.158Z"
   },
   {
    "duration": 16,
    "start_time": "2021-12-03T17:37:00.237Z"
   },
   {
    "duration": 12,
    "start_time": "2021-12-03T17:37:00.257Z"
   },
   {
    "duration": 7,
    "start_time": "2021-12-03T17:37:00.271Z"
   },
   {
    "duration": 60,
    "start_time": "2021-12-03T17:37:00.281Z"
   },
   {
    "duration": 18,
    "start_time": "2021-12-03T17:37:00.344Z"
   },
   {
    "duration": 7,
    "start_time": "2021-12-03T17:37:00.364Z"
   },
   {
    "duration": 18,
    "start_time": "2021-12-03T17:37:00.373Z"
   },
   {
    "duration": 63,
    "start_time": "2021-12-03T17:37:00.394Z"
   },
   {
    "duration": 12,
    "start_time": "2021-12-03T17:37:00.460Z"
   },
   {
    "duration": 19,
    "start_time": "2021-12-03T17:37:00.474Z"
   },
   {
    "duration": 46,
    "start_time": "2021-12-03T17:37:00.495Z"
   },
   {
    "duration": 11,
    "start_time": "2021-12-03T17:37:00.544Z"
   },
   {
    "duration": 13,
    "start_time": "2021-12-03T17:37:00.557Z"
   },
   {
    "duration": 119,
    "start_time": "2021-12-03T17:37:00.572Z"
   },
   {
    "duration": 59,
    "start_time": "2021-12-03T17:37:00.693Z"
   },
   {
    "duration": 52,
    "start_time": "2021-12-03T17:37:00.754Z"
   },
   {
    "duration": 17,
    "start_time": "2021-12-03T17:37:00.833Z"
   },
   {
    "duration": 33,
    "start_time": "2021-12-03T17:37:00.852Z"
   },
   {
    "duration": 55,
    "start_time": "2021-12-03T17:37:00.887Z"
   },
   {
    "duration": 14,
    "start_time": "2021-12-03T17:37:00.945Z"
   },
   {
    "duration": 30,
    "start_time": "2021-12-03T17:37:00.961Z"
   },
   {
    "duration": 33,
    "start_time": "2021-12-03T17:37:00.993Z"
   },
   {
    "duration": 21,
    "start_time": "2021-12-03T17:37:01.028Z"
   },
   {
    "duration": 25,
    "start_time": "2021-12-03T17:37:01.051Z"
   },
   {
    "duration": 33,
    "start_time": "2021-12-03T17:37:01.079Z"
   },
   {
    "duration": 17,
    "start_time": "2021-12-03T17:37:01.114Z"
   },
   {
    "duration": 12,
    "start_time": "2021-12-03T17:37:01.134Z"
   },
   {
    "duration": 23,
    "start_time": "2021-12-03T17:37:01.149Z"
   },
   {
    "duration": 24,
    "start_time": "2021-12-03T17:37:01.174Z"
   },
   {
    "duration": 46,
    "start_time": "2021-12-03T17:37:01.201Z"
   },
   {
    "duration": 18,
    "start_time": "2021-12-03T17:37:01.250Z"
   },
   {
    "duration": 18,
    "start_time": "2021-12-03T17:37:01.271Z"
   },
   {
    "duration": 54,
    "start_time": "2021-12-03T17:37:01.291Z"
   },
   {
    "duration": 16,
    "start_time": "2021-12-03T17:37:01.348Z"
   },
   {
    "duration": 25,
    "start_time": "2021-12-03T17:37:01.366Z"
   },
   {
    "duration": 44,
    "start_time": "2021-12-03T17:37:01.393Z"
   },
   {
    "duration": 139,
    "start_time": "2021-12-03T17:37:01.440Z"
   },
   {
    "duration": 23,
    "start_time": "2021-12-03T17:37:01.581Z"
   },
   {
    "duration": 58,
    "start_time": "2021-12-03T17:37:01.606Z"
   },
   {
    "duration": 13,
    "start_time": "2021-12-03T17:37:01.668Z"
   },
   {
    "duration": 17,
    "start_time": "2021-12-03T17:37:01.683Z"
   },
   {
    "duration": 42,
    "start_time": "2021-12-03T17:37:01.703Z"
   },
   {
    "duration": 38,
    "start_time": "2021-12-03T17:37:01.748Z"
   },
   {
    "duration": 61,
    "start_time": "2021-12-03T17:37:01.788Z"
   },
   {
    "duration": 249,
    "start_time": "2021-12-03T17:37:01.851Z"
   },
   {
    "duration": 264,
    "start_time": "2021-12-03T17:37:02.108Z"
   },
   {
    "duration": 374,
    "start_time": "2021-12-03T17:37:02.375Z"
   },
   {
    "duration": 368,
    "start_time": "2021-12-03T17:37:02.752Z"
   },
   {
    "duration": 355,
    "start_time": "2021-12-03T17:37:03.123Z"
   },
   {
    "duration": 371,
    "start_time": "2021-12-03T17:37:03.480Z"
   },
   {
    "duration": 361,
    "start_time": "2021-12-03T17:37:03.853Z"
   },
   {
    "duration": 354,
    "start_time": "2021-12-03T17:37:04.216Z"
   },
   {
    "duration": 402,
    "start_time": "2021-12-03T17:37:04.573Z"
   },
   {
    "duration": 342,
    "start_time": "2021-12-03T17:37:04.978Z"
   },
   {
    "duration": 350,
    "start_time": "2021-12-03T17:37:05.322Z"
   },
   {
    "duration": 349,
    "start_time": "2021-12-03T17:37:05.675Z"
   },
   {
    "duration": 13,
    "start_time": "2021-12-03T17:37:06.027Z"
   },
   {
    "duration": 7,
    "start_time": "2021-12-03T17:37:06.043Z"
   },
   {
    "duration": 12,
    "start_time": "2021-12-03T17:37:06.053Z"
   },
   {
    "duration": 7,
    "start_time": "2021-12-03T17:37:06.067Z"
   },
   {
    "duration": 68,
    "start_time": "2021-12-03T17:37:06.076Z"
   },
   {
    "duration": 25,
    "start_time": "2021-12-03T17:37:06.146Z"
   },
   {
    "duration": 9,
    "start_time": "2021-12-03T17:37:06.174Z"
   },
   {
    "duration": 47,
    "start_time": "2021-12-03T17:37:06.185Z"
   },
   {
    "duration": 14,
    "start_time": "2021-12-03T17:37:06.236Z"
   },
   {
    "duration": 7,
    "start_time": "2021-12-03T17:37:06.252Z"
   },
   {
    "duration": 1048,
    "start_time": "2021-12-04T11:33:06.537Z"
   },
   {
    "duration": 1607,
    "start_time": "2021-12-04T11:33:07.587Z"
   },
   {
    "duration": 12,
    "start_time": "2021-12-04T11:33:09.196Z"
   },
   {
    "duration": 6,
    "start_time": "2021-12-04T11:33:09.210Z"
   },
   {
    "duration": 10,
    "start_time": "2021-12-04T11:33:09.218Z"
   },
   {
    "duration": 5,
    "start_time": "2021-12-04T11:33:09.230Z"
   },
   {
    "duration": 25,
    "start_time": "2021-12-04T11:33:09.236Z"
   },
   {
    "duration": 32,
    "start_time": "2021-12-04T11:33:09.263Z"
   },
   {
    "duration": 10,
    "start_time": "2021-12-04T11:33:09.297Z"
   },
   {
    "duration": 17,
    "start_time": "2021-12-04T11:33:09.308Z"
   },
   {
    "duration": 42,
    "start_time": "2021-12-04T11:33:09.326Z"
   },
   {
    "duration": 44,
    "start_time": "2021-12-04T11:33:09.370Z"
   },
   {
    "duration": 14,
    "start_time": "2021-12-04T11:33:09.416Z"
   },
   {
    "duration": 4,
    "start_time": "2021-12-04T11:33:09.431Z"
   },
   {
    "duration": 6,
    "start_time": "2021-12-04T11:33:09.437Z"
   },
   {
    "duration": 12,
    "start_time": "2021-12-04T11:33:09.444Z"
   },
   {
    "duration": 35,
    "start_time": "2021-12-04T11:33:09.457Z"
   },
   {
    "duration": 9,
    "start_time": "2021-12-04T11:33:09.494Z"
   },
   {
    "duration": 15,
    "start_time": "2021-12-04T11:33:09.505Z"
   },
   {
    "duration": 4,
    "start_time": "2021-12-04T11:33:09.521Z"
   },
   {
    "duration": 9,
    "start_time": "2021-12-04T11:33:09.527Z"
   },
   {
    "duration": 15,
    "start_time": "2021-12-04T11:33:09.537Z"
   },
   {
    "duration": 40,
    "start_time": "2021-12-04T11:33:09.556Z"
   },
   {
    "duration": 8,
    "start_time": "2021-12-04T11:33:09.598Z"
   },
   {
    "duration": 3,
    "start_time": "2021-12-04T11:33:09.608Z"
   },
   {
    "duration": 11,
    "start_time": "2021-12-04T11:33:09.613Z"
   },
   {
    "duration": 9,
    "start_time": "2021-12-04T11:33:09.625Z"
   },
   {
    "duration": 3,
    "start_time": "2021-12-04T11:33:09.636Z"
   },
   {
    "duration": 9,
    "start_time": "2021-12-04T11:33:09.640Z"
   },
   {
    "duration": 50,
    "start_time": "2021-12-04T11:33:09.650Z"
   },
   {
    "duration": 8,
    "start_time": "2021-12-04T11:33:09.702Z"
   },
   {
    "duration": 10,
    "start_time": "2021-12-04T11:33:09.711Z"
   },
   {
    "duration": 8,
    "start_time": "2021-12-04T11:33:09.723Z"
   },
   {
    "duration": 8,
    "start_time": "2021-12-04T11:33:09.733Z"
   },
   {
    "duration": 9,
    "start_time": "2021-12-04T11:33:09.742Z"
   },
   {
    "duration": 79,
    "start_time": "2021-12-04T11:33:09.753Z"
   },
   {
    "duration": 24,
    "start_time": "2021-12-04T11:33:09.833Z"
   },
   {
    "duration": 50,
    "start_time": "2021-12-04T11:33:09.859Z"
   },
   {
    "duration": 8,
    "start_time": "2021-12-04T11:33:09.910Z"
   },
   {
    "duration": 25,
    "start_time": "2021-12-04T11:33:09.920Z"
   },
   {
    "duration": 7,
    "start_time": "2021-12-04T11:33:09.947Z"
   },
   {
    "duration": 7,
    "start_time": "2021-12-04T11:33:09.956Z"
   },
   {
    "duration": 29,
    "start_time": "2021-12-04T11:33:09.965Z"
   },
   {
    "duration": 14,
    "start_time": "2021-12-04T11:33:09.996Z"
   },
   {
    "duration": 5,
    "start_time": "2021-12-04T11:33:10.012Z"
   },
   {
    "duration": 11,
    "start_time": "2021-12-04T11:33:10.018Z"
   },
   {
    "duration": 24,
    "start_time": "2021-12-04T11:33:10.031Z"
   },
   {
    "duration": 19,
    "start_time": "2021-12-04T11:33:10.057Z"
   },
   {
    "duration": 13,
    "start_time": "2021-12-04T11:33:10.078Z"
   },
   {
    "duration": 28,
    "start_time": "2021-12-04T11:33:10.093Z"
   },
   {
    "duration": 30,
    "start_time": "2021-12-04T11:33:10.123Z"
   },
   {
    "duration": 12,
    "start_time": "2021-12-04T11:33:10.155Z"
   },
   {
    "duration": 12,
    "start_time": "2021-12-04T11:33:10.169Z"
   },
   {
    "duration": 26,
    "start_time": "2021-12-04T11:33:10.183Z"
   },
   {
    "duration": 25,
    "start_time": "2021-12-04T11:33:10.211Z"
   },
   {
    "duration": 13,
    "start_time": "2021-12-04T11:33:10.238Z"
   },
   {
    "duration": 32,
    "start_time": "2021-12-04T11:33:10.252Z"
   },
   {
    "duration": 7,
    "start_time": "2021-12-04T11:33:10.286Z"
   },
   {
    "duration": 84,
    "start_time": "2021-12-04T11:33:10.295Z"
   },
   {
    "duration": 13,
    "start_time": "2021-12-04T11:33:10.381Z"
   },
   {
    "duration": 21,
    "start_time": "2021-12-04T11:33:10.396Z"
   },
   {
    "duration": 5,
    "start_time": "2021-12-04T11:33:10.419Z"
   },
   {
    "duration": 8,
    "start_time": "2021-12-04T11:33:10.426Z"
   },
   {
    "duration": 7,
    "start_time": "2021-12-04T11:33:10.435Z"
   },
   {
    "duration": 6,
    "start_time": "2021-12-04T11:33:10.443Z"
   },
   {
    "duration": 14,
    "start_time": "2021-12-04T11:33:10.451Z"
   },
   {
    "duration": 159,
    "start_time": "2021-12-04T11:33:10.466Z"
   },
   {
    "duration": 153,
    "start_time": "2021-12-04T11:33:10.629Z"
   },
   {
    "duration": 263,
    "start_time": "2021-12-04T11:33:10.784Z"
   },
   {
    "duration": 226,
    "start_time": "2021-12-04T11:33:11.048Z"
   },
   {
    "duration": 217,
    "start_time": "2021-12-04T11:33:11.276Z"
   },
   {
    "duration": 205,
    "start_time": "2021-12-04T11:33:11.495Z"
   },
   {
    "duration": 196,
    "start_time": "2021-12-04T11:33:11.702Z"
   },
   {
    "duration": 204,
    "start_time": "2021-12-04T11:33:11.899Z"
   },
   {
    "duration": 187,
    "start_time": "2021-12-04T11:33:12.105Z"
   },
   {
    "duration": 256,
    "start_time": "2021-12-04T11:33:12.293Z"
   },
   {
    "duration": 201,
    "start_time": "2021-12-04T11:33:12.550Z"
   },
   {
    "duration": 197,
    "start_time": "2021-12-04T11:33:12.752Z"
   },
   {
    "duration": 6,
    "start_time": "2021-12-04T11:33:12.950Z"
   },
   {
    "duration": 10,
    "start_time": "2021-12-04T11:33:12.957Z"
   },
   {
    "duration": 17,
    "start_time": "2021-12-04T11:33:12.968Z"
   },
   {
    "duration": 6,
    "start_time": "2021-12-04T11:33:12.987Z"
   },
   {
    "duration": 8,
    "start_time": "2021-12-04T11:33:12.994Z"
   },
   {
    "duration": 14,
    "start_time": "2021-12-04T11:33:13.003Z"
   },
   {
    "duration": 7,
    "start_time": "2021-12-04T11:33:13.019Z"
   },
   {
    "duration": 5,
    "start_time": "2021-12-04T11:33:13.027Z"
   },
   {
    "duration": 8,
    "start_time": "2021-12-04T11:33:13.034Z"
   },
   {
    "duration": 7,
    "start_time": "2021-12-04T11:33:13.043Z"
   },
   {
    "duration": 13,
    "start_time": "2021-12-04T11:44:53.341Z"
   },
   {
    "duration": 328,
    "start_time": "2021-12-04T12:23:42.278Z"
   },
   {
    "duration": 1428,
    "start_time": "2021-12-04T12:23:49.541Z"
   },
   {
    "duration": 521,
    "start_time": "2021-12-04T12:23:50.972Z"
   },
   {
    "duration": 20,
    "start_time": "2021-12-04T12:23:51.496Z"
   },
   {
    "duration": 15,
    "start_time": "2021-12-04T12:23:51.520Z"
   },
   {
    "duration": 19,
    "start_time": "2021-12-04T12:23:51.537Z"
   },
   {
    "duration": 13,
    "start_time": "2021-12-04T12:23:51.559Z"
   },
   {
    "duration": 43,
    "start_time": "2021-12-04T12:23:51.575Z"
   },
   {
    "duration": 12,
    "start_time": "2021-12-04T12:23:51.624Z"
   },
   {
    "duration": 18,
    "start_time": "2021-12-04T12:23:51.669Z"
   },
   {
    "duration": 25,
    "start_time": "2021-12-04T12:23:51.690Z"
   },
   {
    "duration": 106,
    "start_time": "2021-12-04T12:23:51.718Z"
   },
   {
    "duration": 60,
    "start_time": "2021-12-04T12:23:51.827Z"
   },
   {
    "duration": 26,
    "start_time": "2021-12-04T12:23:51.889Z"
   },
   {
    "duration": 6,
    "start_time": "2021-12-04T12:23:51.918Z"
   },
   {
    "duration": 43,
    "start_time": "2021-12-04T12:23:51.927Z"
   },
   {
    "duration": 24,
    "start_time": "2021-12-04T12:23:51.972Z"
   },
   {
    "duration": 6,
    "start_time": "2021-12-04T12:23:51.999Z"
   },
   {
    "duration": 12,
    "start_time": "2021-12-04T12:23:52.008Z"
   },
   {
    "duration": 63,
    "start_time": "2021-12-04T12:23:52.022Z"
   },
   {
    "duration": 6,
    "start_time": "2021-12-04T12:23:52.088Z"
   },
   {
    "duration": 13,
    "start_time": "2021-12-04T12:23:52.096Z"
   },
   {
    "duration": 58,
    "start_time": "2021-12-04T12:23:52.111Z"
   },
   {
    "duration": 16,
    "start_time": "2021-12-04T12:23:52.182Z"
   },
   {
    "duration": 12,
    "start_time": "2021-12-04T12:23:52.202Z"
   },
   {
    "duration": 13,
    "start_time": "2021-12-04T12:23:52.216Z"
   },
   {
    "duration": 48,
    "start_time": "2021-12-04T12:23:52.232Z"
   },
   {
    "duration": 25,
    "start_time": "2021-12-04T12:23:52.286Z"
   },
   {
    "duration": 6,
    "start_time": "2021-12-04T12:23:52.314Z"
   },
   {
    "duration": 18,
    "start_time": "2021-12-04T12:23:52.322Z"
   },
   {
    "duration": 59,
    "start_time": "2021-12-04T12:23:52.343Z"
   },
   {
    "duration": 15,
    "start_time": "2021-12-04T12:23:52.405Z"
   },
   {
    "duration": 17,
    "start_time": "2021-12-04T12:23:52.423Z"
   },
   {
    "duration": 41,
    "start_time": "2021-12-04T12:23:52.443Z"
   },
   {
    "duration": 13,
    "start_time": "2021-12-04T12:23:52.487Z"
   },
   {
    "duration": 14,
    "start_time": "2021-12-04T12:23:52.503Z"
   },
   {
    "duration": 112,
    "start_time": "2021-12-04T12:23:52.520Z"
   },
   {
    "duration": 50,
    "start_time": "2021-12-04T12:23:52.634Z"
   },
   {
    "duration": 53,
    "start_time": "2021-12-04T12:23:52.687Z"
   },
   {
    "duration": 400,
    "start_time": "2021-12-04T12:23:52.742Z"
   },
   {
    "duration": -1033,
    "start_time": "2021-12-04T12:23:54.178Z"
   },
   {
    "duration": -1040,
    "start_time": "2021-12-04T12:23:54.186Z"
   },
   {
    "duration": -1045,
    "start_time": "2021-12-04T12:23:54.193Z"
   },
   {
    "duration": -1050,
    "start_time": "2021-12-04T12:23:54.199Z"
   },
   {
    "duration": -1055,
    "start_time": "2021-12-04T12:23:54.205Z"
   },
   {
    "duration": -1060,
    "start_time": "2021-12-04T12:23:54.211Z"
   },
   {
    "duration": -1065,
    "start_time": "2021-12-04T12:23:54.217Z"
   },
   {
    "duration": -1069,
    "start_time": "2021-12-04T12:23:54.222Z"
   },
   {
    "duration": -1074,
    "start_time": "2021-12-04T12:23:54.228Z"
   },
   {
    "duration": -1079,
    "start_time": "2021-12-04T12:23:54.235Z"
   },
   {
    "duration": -1084,
    "start_time": "2021-12-04T12:23:54.241Z"
   },
   {
    "duration": -1088,
    "start_time": "2021-12-04T12:23:54.247Z"
   },
   {
    "duration": -1105,
    "start_time": "2021-12-04T12:23:54.265Z"
   },
   {
    "duration": -1127,
    "start_time": "2021-12-04T12:23:54.289Z"
   },
   {
    "duration": -1149,
    "start_time": "2021-12-04T12:23:54.312Z"
   },
   {
    "duration": -1157,
    "start_time": "2021-12-04T12:23:54.322Z"
   },
   {
    "duration": -1172,
    "start_time": "2021-12-04T12:23:54.345Z"
   },
   {
    "duration": -1181,
    "start_time": "2021-12-04T12:23:54.355Z"
   },
   {
    "duration": -1202,
    "start_time": "2021-12-04T12:23:54.377Z"
   },
   {
    "duration": -1206,
    "start_time": "2021-12-04T12:23:54.383Z"
   },
   {
    "duration": -1228,
    "start_time": "2021-12-04T12:23:54.406Z"
   },
   {
    "duration": -1258,
    "start_time": "2021-12-04T12:23:54.437Z"
   },
   {
    "duration": -1274,
    "start_time": "2021-12-04T12:23:54.454Z"
   },
   {
    "duration": -1288,
    "start_time": "2021-12-04T12:23:54.470Z"
   },
   {
    "duration": -1305,
    "start_time": "2021-12-04T12:23:54.488Z"
   },
   {
    "duration": -1309,
    "start_time": "2021-12-04T12:23:54.494Z"
   },
   {
    "duration": -1316,
    "start_time": "2021-12-04T12:23:54.503Z"
   },
   {
    "duration": -1319,
    "start_time": "2021-12-04T12:23:54.508Z"
   },
   {
    "duration": -1324,
    "start_time": "2021-12-04T12:23:54.514Z"
   },
   {
    "duration": -1328,
    "start_time": "2021-12-04T12:23:54.520Z"
   },
   {
    "duration": -1333,
    "start_time": "2021-12-04T12:23:54.526Z"
   },
   {
    "duration": -1337,
    "start_time": "2021-12-04T12:23:54.532Z"
   },
   {
    "duration": -1346,
    "start_time": "2021-12-04T12:23:54.542Z"
   },
   {
    "duration": -1351,
    "start_time": "2021-12-04T12:23:54.548Z"
   },
   {
    "duration": -1357,
    "start_time": "2021-12-04T12:23:54.555Z"
   },
   {
    "duration": -1363,
    "start_time": "2021-12-04T12:23:54.562Z"
   },
   {
    "duration": -1369,
    "start_time": "2021-12-04T12:23:54.569Z"
   },
   {
    "duration": -1374,
    "start_time": "2021-12-04T12:23:54.575Z"
   },
   {
    "duration": -1375,
    "start_time": "2021-12-04T12:23:54.581Z"
   },
   {
    "duration": -1390,
    "start_time": "2021-12-04T12:23:54.597Z"
   },
   {
    "duration": -1396,
    "start_time": "2021-12-04T12:23:54.605Z"
   },
   {
    "duration": -1400,
    "start_time": "2021-12-04T12:23:54.611Z"
   },
   {
    "duration": -1404,
    "start_time": "2021-12-04T12:23:54.617Z"
   },
   {
    "duration": -1410,
    "start_time": "2021-12-04T12:23:54.624Z"
   },
   {
    "duration": -1415,
    "start_time": "2021-12-04T12:23:54.630Z"
   },
   {
    "duration": -1369,
    "start_time": "2021-12-04T12:23:54.636Z"
   },
   {
    "duration": -1374,
    "start_time": "2021-12-04T12:23:54.643Z"
   },
   {
    "duration": -1379,
    "start_time": "2021-12-04T12:23:54.649Z"
   },
   {
    "duration": -1384,
    "start_time": "2021-12-04T12:23:54.655Z"
   },
   {
    "duration": -1393,
    "start_time": "2021-12-04T12:23:54.665Z"
   },
   {
    "duration": 278,
    "start_time": "2021-12-04T12:36:38.615Z"
   },
   {
    "duration": 1461,
    "start_time": "2021-12-04T12:36:48.125Z"
   },
   {
    "duration": 414,
    "start_time": "2021-12-04T12:36:49.589Z"
   },
   {
    "duration": 20,
    "start_time": "2021-12-04T12:36:50.007Z"
   },
   {
    "duration": 13,
    "start_time": "2021-12-04T12:36:50.030Z"
   },
   {
    "duration": 30,
    "start_time": "2021-12-04T12:36:50.046Z"
   },
   {
    "duration": 19,
    "start_time": "2021-12-04T12:36:50.079Z"
   },
   {
    "duration": 69,
    "start_time": "2021-12-04T12:36:50.101Z"
   },
   {
    "duration": 20,
    "start_time": "2021-12-04T12:36:50.175Z"
   },
   {
    "duration": 23,
    "start_time": "2021-12-04T12:36:50.199Z"
   },
   {
    "duration": 44,
    "start_time": "2021-12-04T12:36:50.224Z"
   },
   {
    "duration": 68,
    "start_time": "2021-12-04T12:36:50.271Z"
   },
   {
    "duration": 57,
    "start_time": "2021-12-04T12:36:50.342Z"
   },
   {
    "duration": 35,
    "start_time": "2021-12-04T12:36:50.401Z"
   },
   {
    "duration": 32,
    "start_time": "2021-12-04T12:36:50.439Z"
   },
   {
    "duration": 13,
    "start_time": "2021-12-04T12:36:50.477Z"
   },
   {
    "duration": 21,
    "start_time": "2021-12-04T12:36:50.492Z"
   },
   {
    "duration": 6,
    "start_time": "2021-12-04T12:36:50.516Z"
   },
   {
    "duration": 22,
    "start_time": "2021-12-04T12:36:50.524Z"
   },
   {
    "duration": 25,
    "start_time": "2021-12-04T12:36:50.572Z"
   },
   {
    "duration": 7,
    "start_time": "2021-12-04T12:36:50.599Z"
   },
   {
    "duration": 15,
    "start_time": "2021-12-04T12:36:50.608Z"
   },
   {
    "duration": 56,
    "start_time": "2021-12-04T12:36:50.625Z"
   },
   {
    "duration": 15,
    "start_time": "2021-12-04T12:36:50.689Z"
   },
   {
    "duration": 11,
    "start_time": "2021-12-04T12:36:50.709Z"
   },
   {
    "duration": 5,
    "start_time": "2021-12-04T12:36:50.722Z"
   },
   {
    "duration": 28,
    "start_time": "2021-12-04T12:36:50.768Z"
   },
   {
    "duration": 17,
    "start_time": "2021-12-04T12:36:50.798Z"
   },
   {
    "duration": 6,
    "start_time": "2021-12-04T12:36:50.817Z"
   },
   {
    "duration": 19,
    "start_time": "2021-12-04T12:36:50.826Z"
   },
   {
    "duration": 52,
    "start_time": "2021-12-04T12:36:50.847Z"
   },
   {
    "duration": 16,
    "start_time": "2021-12-04T12:36:50.902Z"
   },
   {
    "duration": 18,
    "start_time": "2021-12-04T12:36:50.921Z"
   },
   {
    "duration": 52,
    "start_time": "2021-12-04T12:36:50.941Z"
   },
   {
    "duration": 11,
    "start_time": "2021-12-04T12:36:50.996Z"
   },
   {
    "duration": 16,
    "start_time": "2021-12-04T12:36:51.009Z"
   },
   {
    "duration": 96,
    "start_time": "2021-12-04T12:36:51.028Z"
   },
   {
    "duration": 56,
    "start_time": "2021-12-04T12:36:51.127Z"
   },
   {
    "duration": 55,
    "start_time": "2021-12-04T12:36:51.186Z"
   },
   {
    "duration": 28,
    "start_time": "2021-12-04T12:36:51.243Z"
   },
   {
    "duration": 38,
    "start_time": "2021-12-04T12:36:51.273Z"
   },
   {
    "duration": 10,
    "start_time": "2021-12-04T12:36:51.314Z"
   },
   {
    "duration": 45,
    "start_time": "2021-12-04T12:36:51.327Z"
   },
   {
    "duration": 12,
    "start_time": "2021-12-04T12:36:51.375Z"
   },
   {
    "duration": 20,
    "start_time": "2021-12-04T12:36:51.390Z"
   },
   {
    "duration": 6,
    "start_time": "2021-12-04T12:36:51.412Z"
   },
   {
    "duration": 51,
    "start_time": "2021-12-04T12:36:51.420Z"
   },
   {
    "duration": 23,
    "start_time": "2021-12-04T12:36:51.476Z"
   },
   {
    "duration": 14,
    "start_time": "2021-12-04T12:36:51.501Z"
   },
   {
    "duration": 9,
    "start_time": "2021-12-04T12:36:51.518Z"
   },
   {
    "duration": 53,
    "start_time": "2021-12-04T12:36:51.529Z"
   },
   {
    "duration": 15,
    "start_time": "2021-12-04T12:36:51.585Z"
   },
   {
    "duration": 14,
    "start_time": "2021-12-04T12:36:51.603Z"
   },
   {
    "duration": 59,
    "start_time": "2021-12-04T12:36:51.619Z"
   },
   {
    "duration": 18,
    "start_time": "2021-12-04T12:36:51.680Z"
   },
   {
    "duration": 15,
    "start_time": "2021-12-04T12:36:51.701Z"
   },
   {
    "duration": 18,
    "start_time": "2021-12-04T12:36:51.718Z"
   },
   {
    "duration": 47,
    "start_time": "2021-12-04T12:36:51.739Z"
   },
   {
    "duration": 10,
    "start_time": "2021-12-04T12:36:51.788Z"
   },
   {
    "duration": 143,
    "start_time": "2021-12-04T12:36:51.802Z"
   },
   {
    "duration": 33,
    "start_time": "2021-12-04T12:36:51.948Z"
   },
   {
    "duration": 33,
    "start_time": "2021-12-04T12:36:51.984Z"
   },
   {
    "duration": 10,
    "start_time": "2021-12-04T12:36:52.019Z"
   },
   {
    "duration": 50,
    "start_time": "2021-12-04T12:36:52.032Z"
   },
   {
    "duration": 13,
    "start_time": "2021-12-04T12:36:52.085Z"
   },
   {
    "duration": 24,
    "start_time": "2021-12-04T12:36:52.100Z"
   },
   {
    "duration": 21,
    "start_time": "2021-12-04T12:36:52.127Z"
   },
   {
    "duration": 246,
    "start_time": "2021-12-04T12:36:52.174Z"
   },
   {
    "duration": 266,
    "start_time": "2021-12-04T12:36:52.428Z"
   },
   {
    "duration": 374,
    "start_time": "2021-12-04T12:36:52.698Z"
   },
   {
    "duration": 356,
    "start_time": "2021-12-04T12:36:53.075Z"
   },
   {
    "duration": 349,
    "start_time": "2021-12-04T12:36:53.434Z"
   },
   {
    "duration": 485,
    "start_time": "2021-12-04T12:36:53.786Z"
   },
   {
    "duration": 475,
    "start_time": "2021-12-04T12:36:54.274Z"
   },
   {
    "duration": 369,
    "start_time": "2021-12-04T12:36:54.752Z"
   },
   {
    "duration": 328,
    "start_time": "2021-12-04T12:36:55.124Z"
   },
   {
    "duration": 440,
    "start_time": "2021-12-04T12:36:55.455Z"
   },
   {
    "duration": 362,
    "start_time": "2021-12-04T12:36:55.898Z"
   },
   {
    "duration": 353,
    "start_time": "2021-12-04T12:36:56.263Z"
   },
   {
    "duration": 9,
    "start_time": "2021-12-04T12:36:56.619Z"
   },
   {
    "duration": 14,
    "start_time": "2021-12-04T12:36:56.631Z"
   },
   {
    "duration": 22,
    "start_time": "2021-12-04T12:36:56.673Z"
   },
   {
    "duration": 10,
    "start_time": "2021-12-04T12:36:56.699Z"
   },
   {
    "duration": 14,
    "start_time": "2021-12-04T12:36:56.711Z"
   },
   {
    "duration": 57,
    "start_time": "2021-12-04T12:36:56.729Z"
   },
   {
    "duration": 9,
    "start_time": "2021-12-04T12:36:56.789Z"
   },
   {
    "duration": 9,
    "start_time": "2021-12-04T12:36:56.800Z"
   },
   {
    "duration": 19,
    "start_time": "2021-12-04T12:36:56.811Z"
   },
   {
    "duration": 8,
    "start_time": "2021-12-04T12:36:56.833Z"
   },
   {
    "duration": 13,
    "start_time": "2021-12-04T12:37:59.598Z"
   },
   {
    "duration": 3,
    "start_time": "2021-12-04T12:46:14.421Z"
   },
   {
    "duration": 129,
    "start_time": "2021-12-04T12:46:26.165Z"
   },
   {
    "duration": 467,
    "start_time": "2021-12-04T12:47:06.655Z"
   },
   {
    "duration": 276,
    "start_time": "2021-12-04T12:47:11.416Z"
   },
   {
    "duration": 313,
    "start_time": "2021-12-04T12:49:01.826Z"
   },
   {
    "duration": 265,
    "start_time": "2021-12-04T12:49:11.776Z"
   },
   {
    "duration": 284,
    "start_time": "2021-12-04T12:49:16.984Z"
   },
   {
    "duration": 526,
    "start_time": "2021-12-04T12:49:21.907Z"
   },
   {
    "duration": 280,
    "start_time": "2021-12-04T12:51:02.352Z"
   },
   {
    "duration": 4,
    "start_time": "2021-12-04T12:51:30.156Z"
   },
   {
    "duration": 304,
    "start_time": "2021-12-04T12:51:30.648Z"
   },
   {
    "duration": 270,
    "start_time": "2021-12-04T12:51:40.930Z"
   },
   {
    "duration": 1515,
    "start_time": "2021-12-04T12:51:55.723Z"
   },
   {
    "duration": 399,
    "start_time": "2021-12-04T12:51:57.241Z"
   },
   {
    "duration": 21,
    "start_time": "2021-12-04T12:51:57.643Z"
   },
   {
    "duration": 12,
    "start_time": "2021-12-04T12:51:57.667Z"
   },
   {
    "duration": 16,
    "start_time": "2021-12-04T12:51:57.682Z"
   },
   {
    "duration": 10,
    "start_time": "2021-12-04T12:51:57.701Z"
   },
   {
    "duration": 72,
    "start_time": "2021-12-04T12:51:57.714Z"
   },
   {
    "duration": 10,
    "start_time": "2021-12-04T12:51:57.791Z"
   },
   {
    "duration": 19,
    "start_time": "2021-12-04T12:51:57.804Z"
   },
   {
    "duration": 48,
    "start_time": "2021-12-04T12:51:57.825Z"
   },
   {
    "duration": 67,
    "start_time": "2021-12-04T12:51:57.878Z"
   },
   {
    "duration": 63,
    "start_time": "2021-12-04T12:51:57.947Z"
   },
   {
    "duration": 27,
    "start_time": "2021-12-04T12:51:58.012Z"
   },
   {
    "duration": 29,
    "start_time": "2021-12-04T12:51:58.042Z"
   },
   {
    "duration": 12,
    "start_time": "2021-12-04T12:51:58.078Z"
   },
   {
    "duration": 20,
    "start_time": "2021-12-04T12:51:58.092Z"
   },
   {
    "duration": 7,
    "start_time": "2021-12-04T12:51:58.114Z"
   },
   {
    "duration": 52,
    "start_time": "2021-12-04T12:51:58.123Z"
   },
   {
    "duration": 24,
    "start_time": "2021-12-04T12:51:58.178Z"
   },
   {
    "duration": 6,
    "start_time": "2021-12-04T12:51:58.204Z"
   },
   {
    "duration": 14,
    "start_time": "2021-12-04T12:51:58.213Z"
   },
   {
    "duration": 54,
    "start_time": "2021-12-04T12:51:58.229Z"
   },
   {
    "duration": 12,
    "start_time": "2021-12-04T12:51:58.290Z"
   },
   {
    "duration": 12,
    "start_time": "2021-12-04T12:51:58.307Z"
   },
   {
    "duration": 5,
    "start_time": "2021-12-04T12:51:58.322Z"
   },
   {
    "duration": 50,
    "start_time": "2021-12-04T12:51:58.330Z"
   },
   {
    "duration": 19,
    "start_time": "2021-12-04T12:51:58.383Z"
   },
   {
    "duration": 6,
    "start_time": "2021-12-04T12:51:58.404Z"
   },
   {
    "duration": 19,
    "start_time": "2021-12-04T12:51:58.412Z"
   },
   {
    "duration": 61,
    "start_time": "2021-12-04T12:51:58.433Z"
   },
   {
    "duration": 12,
    "start_time": "2021-12-04T12:51:58.496Z"
   },
   {
    "duration": 20,
    "start_time": "2021-12-04T12:51:58.511Z"
   },
   {
    "duration": 11,
    "start_time": "2021-12-04T12:51:58.533Z"
   },
   {
    "duration": 15,
    "start_time": "2021-12-04T12:51:58.568Z"
   },
   {
    "duration": 17,
    "start_time": "2021-12-04T12:51:58.585Z"
   },
   {
    "duration": 102,
    "start_time": "2021-12-04T12:51:58.605Z"
   },
   {
    "duration": 37,
    "start_time": "2021-12-04T12:51:58.710Z"
   },
   {
    "duration": 66,
    "start_time": "2021-12-04T12:51:58.751Z"
   },
   {
    "duration": 13,
    "start_time": "2021-12-04T12:51:58.819Z"
   },
   {
    "duration": 65,
    "start_time": "2021-12-04T12:51:58.834Z"
   },
   {
    "duration": 10,
    "start_time": "2021-12-04T12:51:58.902Z"
   },
   {
    "duration": 13,
    "start_time": "2021-12-04T12:51:58.915Z"
   },
   {
    "duration": 15,
    "start_time": "2021-12-04T12:51:58.931Z"
   },
   {
    "duration": 18,
    "start_time": "2021-12-04T12:51:58.973Z"
   },
   {
    "duration": 6,
    "start_time": "2021-12-04T12:51:58.994Z"
   },
   {
    "duration": 21,
    "start_time": "2021-12-04T12:51:59.002Z"
   },
   {
    "duration": 22,
    "start_time": "2021-12-04T12:51:59.025Z"
   },
   {
    "duration": 14,
    "start_time": "2021-12-04T12:51:59.067Z"
   },
   {
    "duration": 7,
    "start_time": "2021-12-04T12:51:59.084Z"
   },
   {
    "duration": 16,
    "start_time": "2021-12-04T12:51:59.093Z"
   },
   {
    "duration": 16,
    "start_time": "2021-12-04T12:51:59.111Z"
   },
   {
    "duration": 53,
    "start_time": "2021-12-04T12:51:59.129Z"
   },
   {
    "duration": 13,
    "start_time": "2021-12-04T12:51:59.185Z"
   },
   {
    "duration": 15,
    "start_time": "2021-12-04T12:51:59.201Z"
   },
   {
    "duration": 15,
    "start_time": "2021-12-04T12:51:59.218Z"
   },
   {
    "duration": 17,
    "start_time": "2021-12-04T12:51:59.268Z"
   },
   {
    "duration": 18,
    "start_time": "2021-12-04T12:51:59.289Z"
   },
   {
    "duration": 11,
    "start_time": "2021-12-04T12:51:59.310Z"
   },
   {
    "duration": 164,
    "start_time": "2021-12-04T12:51:59.324Z"
   },
   {
    "duration": 23,
    "start_time": "2021-12-04T12:51:59.491Z"
   },
   {
    "duration": 58,
    "start_time": "2021-12-04T12:51:59.516Z"
   },
   {
    "duration": 12,
    "start_time": "2021-12-04T12:51:59.577Z"
   },
   {
    "duration": 13,
    "start_time": "2021-12-04T12:51:59.592Z"
   },
   {
    "duration": 12,
    "start_time": "2021-12-04T12:51:59.608Z"
   },
   {
    "duration": 52,
    "start_time": "2021-12-04T12:51:59.622Z"
   },
   {
    "duration": 12,
    "start_time": "2021-12-04T12:51:59.676Z"
   },
   {
    "duration": 250,
    "start_time": "2021-12-04T12:51:59.691Z"
   },
   {
    "duration": 257,
    "start_time": "2021-12-04T12:51:59.950Z"
   },
   {
    "duration": 361,
    "start_time": "2021-12-04T12:52:00.210Z"
   },
   {
    "duration": 356,
    "start_time": "2021-12-04T12:52:00.574Z"
   },
   {
    "duration": 135,
    "start_time": "2021-12-04T12:52:00.932Z"
   },
   {
    "duration": 413,
    "start_time": "2021-12-04T12:52:01.069Z"
   },
   {
    "duration": -541,
    "start_time": "2021-12-04T12:52:02.026Z"
   },
   {
    "duration": -545,
    "start_time": "2021-12-04T12:52:02.032Z"
   },
   {
    "duration": -550,
    "start_time": "2021-12-04T12:52:02.038Z"
   },
   {
    "duration": -555,
    "start_time": "2021-12-04T12:52:02.045Z"
   },
   {
    "duration": -560,
    "start_time": "2021-12-04T12:52:02.051Z"
   },
   {
    "duration": -585,
    "start_time": "2021-12-04T12:52:02.078Z"
   },
   {
    "duration": -592,
    "start_time": "2021-12-04T12:52:02.087Z"
   },
   {
    "duration": -599,
    "start_time": "2021-12-04T12:52:02.095Z"
   },
   {
    "duration": -603,
    "start_time": "2021-12-04T12:52:02.101Z"
   },
   {
    "duration": -609,
    "start_time": "2021-12-04T12:52:02.108Z"
   },
   {
    "duration": -613,
    "start_time": "2021-12-04T12:52:02.114Z"
   },
   {
    "duration": -619,
    "start_time": "2021-12-04T12:52:02.121Z"
   },
   {
    "duration": -623,
    "start_time": "2021-12-04T12:52:02.127Z"
   },
   {
    "duration": -628,
    "start_time": "2021-12-04T12:52:02.133Z"
   },
   {
    "duration": -632,
    "start_time": "2021-12-04T12:52:02.139Z"
   },
   {
    "duration": -639,
    "start_time": "2021-12-04T12:52:02.147Z"
   },
   {
    "duration": -643,
    "start_time": "2021-12-04T12:52:02.153Z"
   },
   {
    "duration": -648,
    "start_time": "2021-12-04T12:52:02.160Z"
   },
   {
    "duration": 253,
    "start_time": "2021-12-04T12:52:31.001Z"
   },
   {
    "duration": 4,
    "start_time": "2021-12-04T12:52:58.194Z"
   },
   {
    "duration": 1610,
    "start_time": "2021-12-04T12:53:06.841Z"
   },
   {
    "duration": 399,
    "start_time": "2021-12-04T12:53:08.454Z"
   },
   {
    "duration": 25,
    "start_time": "2021-12-04T12:53:08.856Z"
   },
   {
    "duration": 6,
    "start_time": "2021-12-04T12:53:08.884Z"
   },
   {
    "duration": 16,
    "start_time": "2021-12-04T12:53:08.892Z"
   },
   {
    "duration": 7,
    "start_time": "2021-12-04T12:53:08.910Z"
   },
   {
    "duration": 73,
    "start_time": "2021-12-04T12:53:08.920Z"
   },
   {
    "duration": 9,
    "start_time": "2021-12-04T12:53:08.996Z"
   },
   {
    "duration": 14,
    "start_time": "2021-12-04T12:53:09.008Z"
   },
   {
    "duration": 50,
    "start_time": "2021-12-04T12:53:09.024Z"
   },
   {
    "duration": 71,
    "start_time": "2021-12-04T12:53:09.077Z"
   },
   {
    "duration": 44,
    "start_time": "2021-12-04T12:53:09.167Z"
   },
   {
    "duration": 27,
    "start_time": "2021-12-04T12:53:09.213Z"
   },
   {
    "duration": 9,
    "start_time": "2021-12-04T12:53:09.267Z"
   },
   {
    "duration": 12,
    "start_time": "2021-12-04T12:53:09.280Z"
   },
   {
    "duration": 19,
    "start_time": "2021-12-04T12:53:09.295Z"
   },
   {
    "duration": 6,
    "start_time": "2021-12-04T12:53:09.317Z"
   },
   {
    "duration": 57,
    "start_time": "2021-12-04T12:53:09.325Z"
   },
   {
    "duration": 19,
    "start_time": "2021-12-04T12:53:09.384Z"
   },
   {
    "duration": 7,
    "start_time": "2021-12-04T12:53:09.406Z"
   },
   {
    "duration": 60,
    "start_time": "2021-12-04T12:53:09.416Z"
   },
   {
    "duration": 32,
    "start_time": "2021-12-04T12:53:09.479Z"
   },
   {
    "duration": 12,
    "start_time": "2021-12-04T12:53:09.518Z"
   },
   {
    "duration": 38,
    "start_time": "2021-12-04T12:53:09.534Z"
   },
   {
    "duration": 7,
    "start_time": "2021-12-04T12:53:09.575Z"
   },
   {
    "duration": 22,
    "start_time": "2021-12-04T12:53:09.585Z"
   },
   {
    "duration": 15,
    "start_time": "2021-12-04T12:53:09.609Z"
   },
   {
    "duration": 5,
    "start_time": "2021-12-04T12:53:09.627Z"
   },
   {
    "duration": 47,
    "start_time": "2021-12-04T12:53:09.635Z"
   },
   {
    "duration": 25,
    "start_time": "2021-12-04T12:53:09.685Z"
   },
   {
    "duration": 11,
    "start_time": "2021-12-04T12:53:09.713Z"
   },
   {
    "duration": 49,
    "start_time": "2021-12-04T12:53:09.726Z"
   },
   {
    "duration": 13,
    "start_time": "2021-12-04T12:53:09.777Z"
   },
   {
    "duration": 11,
    "start_time": "2021-12-04T12:53:09.792Z"
   },
   {
    "duration": 15,
    "start_time": "2021-12-04T12:53:09.805Z"
   },
   {
    "duration": 101,
    "start_time": "2021-12-04T12:53:09.822Z"
   },
   {
    "duration": 62,
    "start_time": "2021-12-04T12:53:09.926Z"
   },
   {
    "duration": 52,
    "start_time": "2021-12-04T12:53:09.992Z"
   },
   {
    "duration": 26,
    "start_time": "2021-12-04T12:53:10.046Z"
   },
   {
    "duration": 38,
    "start_time": "2021-12-04T12:53:10.075Z"
   },
   {
    "duration": 12,
    "start_time": "2021-12-04T12:53:10.115Z"
   },
   {
    "duration": 9,
    "start_time": "2021-12-04T12:53:10.129Z"
   },
   {
    "duration": 55,
    "start_time": "2021-12-04T12:53:10.140Z"
   },
   {
    "duration": 16,
    "start_time": "2021-12-04T12:53:10.199Z"
   },
   {
    "duration": 6,
    "start_time": "2021-12-04T12:53:10.217Z"
   },
   {
    "duration": 12,
    "start_time": "2021-12-04T12:53:10.225Z"
   },
   {
    "duration": 62,
    "start_time": "2021-12-04T12:53:10.240Z"
   },
   {
    "duration": 12,
    "start_time": "2021-12-04T12:53:10.304Z"
   },
   {
    "duration": 8,
    "start_time": "2021-12-04T12:53:10.319Z"
   },
   {
    "duration": 37,
    "start_time": "2021-12-04T12:53:10.329Z"
   },
   {
    "duration": 19,
    "start_time": "2021-12-04T12:53:10.370Z"
   },
   {
    "duration": 20,
    "start_time": "2021-12-04T12:53:10.393Z"
   },
   {
    "duration": 51,
    "start_time": "2021-12-04T12:53:10.416Z"
   },
   {
    "duration": 22,
    "start_time": "2021-12-04T12:53:10.474Z"
   },
   {
    "duration": 10,
    "start_time": "2021-12-04T12:53:10.499Z"
   },
   {
    "duration": 16,
    "start_time": "2021-12-04T12:53:10.512Z"
   },
   {
    "duration": 38,
    "start_time": "2021-12-04T12:53:10.531Z"
   },
   {
    "duration": 13,
    "start_time": "2021-12-04T12:53:10.572Z"
   },
   {
    "duration": 150,
    "start_time": "2021-12-04T12:53:10.588Z"
   },
   {
    "duration": 21,
    "start_time": "2021-12-04T12:53:10.741Z"
   },
   {
    "duration": 35,
    "start_time": "2021-12-04T12:53:10.773Z"
   },
   {
    "duration": 10,
    "start_time": "2021-12-04T12:53:10.811Z"
   },
   {
    "duration": 21,
    "start_time": "2021-12-04T12:53:10.823Z"
   },
   {
    "duration": 17,
    "start_time": "2021-12-04T12:53:10.867Z"
   },
   {
    "duration": 21,
    "start_time": "2021-12-04T12:53:10.887Z"
   },
   {
    "duration": 12,
    "start_time": "2021-12-04T12:53:10.911Z"
   },
   {
    "duration": 258,
    "start_time": "2021-12-04T12:53:10.925Z"
   },
   {
    "duration": 263,
    "start_time": "2021-12-04T12:53:11.191Z"
   },
   {
    "duration": 372,
    "start_time": "2021-12-04T12:53:11.457Z"
   },
   {
    "duration": 369,
    "start_time": "2021-12-04T12:53:11.832Z"
   },
   {
    "duration": 5,
    "start_time": "2021-12-04T12:53:12.204Z"
   },
   {
    "duration": 456,
    "start_time": "2021-12-04T12:53:12.212Z"
   },
   {
    "duration": -1856,
    "start_time": "2021-12-04T12:53:14.527Z"
   },
   {
    "duration": -1869,
    "start_time": "2021-12-04T12:53:14.543Z"
   },
   {
    "duration": -1878,
    "start_time": "2021-12-04T12:53:14.554Z"
   },
   {
    "duration": -1883,
    "start_time": "2021-12-04T12:53:14.561Z"
   },
   {
    "duration": -1887,
    "start_time": "2021-12-04T12:53:14.567Z"
   },
   {
    "duration": -1892,
    "start_time": "2021-12-04T12:53:14.574Z"
   },
   {
    "duration": -1910,
    "start_time": "2021-12-04T12:53:14.594Z"
   },
   {
    "duration": -1915,
    "start_time": "2021-12-04T12:53:14.601Z"
   },
   {
    "duration": -1920,
    "start_time": "2021-12-04T12:53:14.607Z"
   },
   {
    "duration": -1925,
    "start_time": "2021-12-04T12:53:14.614Z"
   },
   {
    "duration": -1930,
    "start_time": "2021-12-04T12:53:14.620Z"
   },
   {
    "duration": -1936,
    "start_time": "2021-12-04T12:53:14.627Z"
   },
   {
    "duration": -1940,
    "start_time": "2021-12-04T12:53:14.633Z"
   },
   {
    "duration": -1945,
    "start_time": "2021-12-04T12:53:14.640Z"
   },
   {
    "duration": -1951,
    "start_time": "2021-12-04T12:53:14.647Z"
   },
   {
    "duration": -1956,
    "start_time": "2021-12-04T12:53:14.654Z"
   },
   {
    "duration": -1968,
    "start_time": "2021-12-04T12:53:14.667Z"
   },
   {
    "duration": -1973,
    "start_time": "2021-12-04T12:53:14.674Z"
   },
   {
    "duration": 253,
    "start_time": "2021-12-04T12:55:45.827Z"
   },
   {
    "duration": 4564,
    "start_time": "2021-12-04T12:57:05.517Z"
   },
   {
    "duration": 1547,
    "start_time": "2021-12-04T12:57:17.964Z"
   },
   {
    "duration": 3567,
    "start_time": "2021-12-04T12:57:19.514Z"
   },
   {
    "duration": 389,
    "start_time": "2021-12-04T12:57:23.084Z"
   },
   {
    "duration": 24,
    "start_time": "2021-12-04T12:57:23.476Z"
   },
   {
    "duration": 7,
    "start_time": "2021-12-04T12:57:23.502Z"
   },
   {
    "duration": 21,
    "start_time": "2021-12-04T12:57:23.511Z"
   },
   {
    "duration": 10,
    "start_time": "2021-12-04T12:57:23.534Z"
   },
   {
    "duration": 43,
    "start_time": "2021-12-04T12:57:23.573Z"
   },
   {
    "duration": 9,
    "start_time": "2021-12-04T12:57:23.620Z"
   },
   {
    "duration": 45,
    "start_time": "2021-12-04T12:57:23.632Z"
   },
   {
    "duration": 23,
    "start_time": "2021-12-04T12:57:23.680Z"
   },
   {
    "duration": 90,
    "start_time": "2021-12-04T12:57:23.705Z"
   },
   {
    "duration": 36,
    "start_time": "2021-12-04T12:57:23.797Z"
   },
   {
    "duration": 48,
    "start_time": "2021-12-04T12:57:23.835Z"
   },
   {
    "duration": 8,
    "start_time": "2021-12-04T12:57:23.885Z"
   },
   {
    "duration": 11,
    "start_time": "2021-12-04T12:57:23.895Z"
   },
   {
    "duration": 18,
    "start_time": "2021-12-04T12:57:23.908Z"
   },
   {
    "duration": 45,
    "start_time": "2021-12-04T12:57:23.930Z"
   },
   {
    "duration": 16,
    "start_time": "2021-12-04T12:57:23.978Z"
   },
   {
    "duration": 23,
    "start_time": "2021-12-04T12:57:23.996Z"
   },
   {
    "duration": 6,
    "start_time": "2021-12-04T12:57:24.021Z"
   },
   {
    "duration": 53,
    "start_time": "2021-12-04T12:57:24.030Z"
   },
   {
    "duration": 21,
    "start_time": "2021-12-04T12:57:24.089Z"
   },
   {
    "duration": 12,
    "start_time": "2021-12-04T12:57:24.114Z"
   },
   {
    "duration": 50,
    "start_time": "2021-12-04T12:57:24.128Z"
   },
   {
    "duration": 5,
    "start_time": "2021-12-04T12:57:24.181Z"
   },
   {
    "duration": 19,
    "start_time": "2021-12-04T12:57:24.188Z"
   },
   {
    "duration": 15,
    "start_time": "2021-12-04T12:57:24.209Z"
   },
   {
    "duration": 5,
    "start_time": "2021-12-04T12:57:24.226Z"
   },
   {
    "duration": 39,
    "start_time": "2021-12-04T12:57:24.234Z"
   },
   {
    "duration": 36,
    "start_time": "2021-12-04T12:57:24.276Z"
   },
   {
    "duration": 13,
    "start_time": "2021-12-04T12:57:24.314Z"
   },
   {
    "duration": 44,
    "start_time": "2021-12-04T12:57:24.329Z"
   },
   {
    "duration": 12,
    "start_time": "2021-12-04T12:57:24.375Z"
   },
   {
    "duration": 14,
    "start_time": "2021-12-04T12:57:24.390Z"
   },
   {
    "duration": 14,
    "start_time": "2021-12-04T12:57:24.407Z"
   },
   {
    "duration": 76,
    "start_time": "2021-12-04T12:57:24.467Z"
   },
   {
    "duration": 52,
    "start_time": "2021-12-04T12:57:24.545Z"
   },
   {
    "duration": 67,
    "start_time": "2021-12-04T12:57:24.600Z"
   },
   {
    "duration": 15,
    "start_time": "2021-12-04T12:57:24.672Z"
   },
   {
    "duration": 35,
    "start_time": "2021-12-04T12:57:24.689Z"
   },
   {
    "duration": 12,
    "start_time": "2021-12-04T12:57:24.726Z"
   },
   {
    "duration": 6,
    "start_time": "2021-12-04T12:57:24.774Z"
   },
   {
    "duration": 32,
    "start_time": "2021-12-04T12:57:24.782Z"
   },
   {
    "duration": 25,
    "start_time": "2021-12-04T12:57:24.817Z"
   },
   {
    "duration": 5,
    "start_time": "2021-12-04T12:57:24.844Z"
   },
   {
    "duration": 20,
    "start_time": "2021-12-04T12:57:24.851Z"
   },
   {
    "duration": 27,
    "start_time": "2021-12-04T12:57:24.873Z"
   },
   {
    "duration": 10,
    "start_time": "2021-12-04T12:57:24.902Z"
   },
   {
    "duration": 24,
    "start_time": "2021-12-04T12:57:24.915Z"
   },
   {
    "duration": 19,
    "start_time": "2021-12-04T12:57:24.942Z"
   },
   {
    "duration": 21,
    "start_time": "2021-12-04T12:57:24.963Z"
   },
   {
    "duration": 13,
    "start_time": "2021-12-04T12:57:24.987Z"
   },
   {
    "duration": 17,
    "start_time": "2021-12-04T12:57:25.002Z"
   },
   {
    "duration": 14,
    "start_time": "2021-12-04T12:57:25.021Z"
   },
   {
    "duration": 36,
    "start_time": "2021-12-04T12:57:25.038Z"
   },
   {
    "duration": 12,
    "start_time": "2021-12-04T12:57:25.081Z"
   },
   {
    "duration": 19,
    "start_time": "2021-12-04T12:57:25.096Z"
   },
   {
    "duration": 10,
    "start_time": "2021-12-04T12:57:25.118Z"
   },
   {
    "duration": 179,
    "start_time": "2021-12-04T12:57:25.130Z"
   },
   {
    "duration": 23,
    "start_time": "2021-12-04T12:57:25.311Z"
   },
   {
    "duration": 54,
    "start_time": "2021-12-04T12:57:25.337Z"
   },
   {
    "duration": 10,
    "start_time": "2021-12-04T12:57:25.393Z"
   },
   {
    "duration": 14,
    "start_time": "2021-12-04T12:57:25.405Z"
   },
   {
    "duration": 10,
    "start_time": "2021-12-04T12:57:25.422Z"
   },
   {
    "duration": 46,
    "start_time": "2021-12-04T12:57:25.435Z"
   },
   {
    "duration": 12,
    "start_time": "2021-12-04T12:57:25.483Z"
   },
   {
    "duration": 268,
    "start_time": "2021-12-04T12:57:25.503Z"
   },
   {
    "duration": 251,
    "start_time": "2021-12-04T12:57:25.775Z"
   },
   {
    "duration": 351,
    "start_time": "2021-12-04T12:57:26.028Z"
   },
   {
    "duration": 361,
    "start_time": "2021-12-04T12:57:26.382Z"
   },
   {
    "duration": 718,
    "start_time": "2021-12-04T12:57:26.745Z"
   },
   {
    "duration": 347,
    "start_time": "2021-12-04T12:57:27.468Z"
   },
   {
    "duration": 437,
    "start_time": "2021-12-04T12:57:27.818Z"
   },
   {
    "duration": 348,
    "start_time": "2021-12-04T12:57:28.258Z"
   },
   {
    "duration": 358,
    "start_time": "2021-12-04T12:57:28.609Z"
   },
   {
    "duration": 329,
    "start_time": "2021-12-04T12:57:28.972Z"
   },
   {
    "duration": 343,
    "start_time": "2021-12-04T12:57:29.304Z"
   },
   {
    "duration": 349,
    "start_time": "2021-12-04T12:57:29.649Z"
   },
   {
    "duration": 367,
    "start_time": "2021-12-04T12:57:30.000Z"
   },
   {
    "duration": 14,
    "start_time": "2021-12-04T12:57:30.370Z"
   },
   {
    "duration": 11,
    "start_time": "2021-12-04T12:57:30.386Z"
   },
   {
    "duration": 37,
    "start_time": "2021-12-04T12:57:30.400Z"
   },
   {
    "duration": 14,
    "start_time": "2021-12-04T12:57:30.439Z"
   },
   {
    "duration": 32,
    "start_time": "2021-12-04T12:57:30.456Z"
   },
   {
    "duration": 51,
    "start_time": "2021-12-04T12:57:30.491Z"
   },
   {
    "duration": 45,
    "start_time": "2021-12-04T12:57:30.545Z"
   },
   {
    "duration": 39,
    "start_time": "2021-12-04T12:57:30.593Z"
   },
   {
    "duration": 32,
    "start_time": "2021-12-04T12:57:30.634Z"
   },
   {
    "duration": 41,
    "start_time": "2021-12-04T12:57:30.670Z"
   },
   {
    "duration": 990,
    "start_time": "2021-12-04T12:59:07.125Z"
   },
   {
    "duration": 623,
    "start_time": "2021-12-04T12:59:19.060Z"
   },
   {
    "duration": 775,
    "start_time": "2021-12-04T12:59:45.037Z"
   },
   {
    "duration": 642,
    "start_time": "2021-12-04T12:59:54.450Z"
   },
   {
    "duration": 637,
    "start_time": "2021-12-04T13:00:09.538Z"
   },
   {
    "duration": 654,
    "start_time": "2021-12-04T13:02:39.343Z"
   },
   {
    "duration": 1595,
    "start_time": "2021-12-04T13:02:51.616Z"
   },
   {
    "duration": 834,
    "start_time": "2021-12-04T13:03:01.661Z"
   },
   {
    "duration": 469,
    "start_time": "2021-12-04T13:03:25.573Z"
   },
   {
    "duration": 367,
    "start_time": "2021-12-04T13:05:04.666Z"
   },
   {
    "duration": 364,
    "start_time": "2021-12-04T13:05:44.755Z"
   },
   {
    "duration": 492,
    "start_time": "2021-12-04T13:06:12.282Z"
   },
   {
    "duration": 623,
    "start_time": "2021-12-04T13:06:35.175Z"
   },
   {
    "duration": 530,
    "start_time": "2021-12-04T13:06:52.914Z"
   },
   {
    "duration": 505,
    "start_time": "2021-12-04T13:07:14.430Z"
   },
   {
    "duration": 512,
    "start_time": "2021-12-04T13:07:49.091Z"
   },
   {
    "duration": 275,
    "start_time": "2021-12-04T13:08:31.223Z"
   },
   {
    "duration": 557,
    "start_time": "2021-12-04T13:08:56.792Z"
   },
   {
    "duration": 851,
    "start_time": "2021-12-04T13:09:15.455Z"
   },
   {
    "duration": 864,
    "start_time": "2021-12-04T13:09:29.749Z"
   },
   {
    "duration": 662,
    "start_time": "2021-12-04T13:09:34.599Z"
   },
   {
    "duration": 655,
    "start_time": "2021-12-04T13:09:39.521Z"
   },
   {
    "duration": 640,
    "start_time": "2021-12-04T13:09:53.713Z"
   },
   {
    "duration": 631,
    "start_time": "2021-12-04T13:10:01.585Z"
   },
   {
    "duration": 648,
    "start_time": "2021-12-04T13:10:21.563Z"
   },
   {
    "duration": 629,
    "start_time": "2021-12-04T13:13:48.482Z"
   },
   {
    "duration": 732,
    "start_time": "2021-12-04T13:14:17.028Z"
   },
   {
    "duration": 266,
    "start_time": "2021-12-04T13:16:05.538Z"
   },
   {
    "duration": 279,
    "start_time": "2021-12-04T13:16:22.143Z"
   },
   {
    "duration": 302,
    "start_time": "2021-12-04T13:16:38.683Z"
   },
   {
    "duration": 283,
    "start_time": "2021-12-04T13:17:03.941Z"
   },
   {
    "duration": 279,
    "start_time": "2021-12-04T13:17:24.594Z"
   },
   {
    "duration": 9,
    "start_time": "2021-12-04T13:17:47.749Z"
   },
   {
    "duration": 10,
    "start_time": "2021-12-04T13:17:59.997Z"
   },
   {
    "duration": 703,
    "start_time": "2021-12-04T13:20:12.959Z"
   },
   {
    "duration": 293,
    "start_time": "2021-12-04T13:20:49.960Z"
   },
   {
    "duration": 7,
    "start_time": "2021-12-04T13:21:00.961Z"
   },
   {
    "duration": 7,
    "start_time": "2021-12-04T13:21:07.656Z"
   },
   {
    "duration": 253,
    "start_time": "2021-12-04T13:23:19.046Z"
   },
   {
    "duration": 284,
    "start_time": "2021-12-04T13:25:18.429Z"
   },
   {
    "duration": 671,
    "start_time": "2021-12-04T13:26:13.283Z"
   },
   {
    "duration": 663,
    "start_time": "2021-12-04T13:28:02.186Z"
   },
   {
    "duration": 621,
    "start_time": "2021-12-04T13:30:44.650Z"
   },
   {
    "duration": 544,
    "start_time": "2021-12-04T13:31:12.171Z"
   },
   {
    "duration": 606,
    "start_time": "2021-12-04T13:31:31.143Z"
   },
   {
    "duration": 670,
    "start_time": "2021-12-04T13:31:45.829Z"
   },
   {
    "duration": 305,
    "start_time": "2021-12-04T13:39:01.792Z"
   },
   {
    "duration": 320,
    "start_time": "2021-12-04T13:39:26.091Z"
   },
   {
    "duration": 340,
    "start_time": "2021-12-04T13:39:39.247Z"
   },
   {
    "duration": 356,
    "start_time": "2021-12-04T13:40:45.025Z"
   },
   {
    "duration": 332,
    "start_time": "2021-12-04T13:42:41.745Z"
   },
   {
    "duration": 477,
    "start_time": "2021-12-04T13:43:08.624Z"
   },
   {
    "duration": 335,
    "start_time": "2021-12-04T13:45:49.335Z"
   },
   {
    "duration": 492,
    "start_time": "2021-12-04T13:45:59.551Z"
   },
   {
    "duration": 665,
    "start_time": "2021-12-04T13:46:51.795Z"
   },
   {
    "duration": 715,
    "start_time": "2021-12-04T13:47:34.972Z"
   },
   {
    "duration": 714,
    "start_time": "2021-12-04T13:48:23.026Z"
   },
   {
    "duration": 617,
    "start_time": "2021-12-04T13:48:29.811Z"
   },
   {
    "duration": 94,
    "start_time": "2021-12-04T13:57:35.464Z"
   },
   {
    "duration": 839,
    "start_time": "2021-12-04T13:57:41.128Z"
   },
   {
    "duration": 850,
    "start_time": "2021-12-04T13:58:33.982Z"
   },
   {
    "duration": 1636,
    "start_time": "2021-12-05T12:36:39.748Z"
   },
   {
    "duration": 4914,
    "start_time": "2021-12-05T12:36:41.387Z"
   },
   {
    "duration": 792,
    "start_time": "2021-12-05T12:36:46.305Z"
   },
   {
    "duration": 22,
    "start_time": "2021-12-05T12:36:47.100Z"
   },
   {
    "duration": 7,
    "start_time": "2021-12-05T12:36:47.124Z"
   },
   {
    "duration": 11,
    "start_time": "2021-12-05T12:36:47.133Z"
   },
   {
    "duration": 36,
    "start_time": "2021-12-05T12:36:47.146Z"
   },
   {
    "duration": 39,
    "start_time": "2021-12-05T12:36:47.185Z"
   },
   {
    "duration": 9,
    "start_time": "2021-12-05T12:36:47.227Z"
   },
   {
    "duration": 46,
    "start_time": "2021-12-05T12:36:47.238Z"
   },
   {
    "duration": 22,
    "start_time": "2021-12-05T12:36:47.286Z"
   },
   {
    "duration": 109,
    "start_time": "2021-12-05T12:36:47.311Z"
   },
   {
    "duration": 60,
    "start_time": "2021-12-05T12:36:47.423Z"
   },
   {
    "duration": 35,
    "start_time": "2021-12-05T12:36:47.485Z"
   },
   {
    "duration": 6,
    "start_time": "2021-12-05T12:36:47.523Z"
   },
   {
    "duration": 13,
    "start_time": "2021-12-05T12:36:47.537Z"
   },
   {
    "duration": 49,
    "start_time": "2021-12-05T12:36:47.553Z"
   },
   {
    "duration": 8,
    "start_time": "2021-12-05T12:36:47.605Z"
   },
   {
    "duration": 17,
    "start_time": "2021-12-05T12:36:47.616Z"
   },
   {
    "duration": 66,
    "start_time": "2021-12-05T12:36:47.636Z"
   },
   {
    "duration": 8,
    "start_time": "2021-12-05T12:36:47.705Z"
   },
   {
    "duration": 13,
    "start_time": "2021-12-05T12:36:47.715Z"
   },
   {
    "duration": 60,
    "start_time": "2021-12-05T12:36:47.736Z"
   },
   {
    "duration": 16,
    "start_time": "2021-12-05T12:36:47.802Z"
   },
   {
    "duration": 14,
    "start_time": "2021-12-05T12:36:47.821Z"
   },
   {
    "duration": 43,
    "start_time": "2021-12-05T12:36:47.839Z"
   },
   {
    "duration": 17,
    "start_time": "2021-12-05T12:36:47.885Z"
   },
   {
    "duration": 17,
    "start_time": "2021-12-05T12:36:47.905Z"
   },
   {
    "duration": 7,
    "start_time": "2021-12-05T12:36:47.926Z"
   },
   {
    "duration": 57,
    "start_time": "2021-12-05T12:36:47.935Z"
   },
   {
    "duration": 40,
    "start_time": "2021-12-05T12:36:47.995Z"
   },
   {
    "duration": 17,
    "start_time": "2021-12-05T12:36:48.038Z"
   },
   {
    "duration": 13,
    "start_time": "2021-12-05T12:36:48.083Z"
   },
   {
    "duration": 12,
    "start_time": "2021-12-05T12:36:48.099Z"
   },
   {
    "duration": 13,
    "start_time": "2021-12-05T12:36:48.114Z"
   },
   {
    "duration": 57,
    "start_time": "2021-12-05T12:36:48.130Z"
   },
   {
    "duration": 61,
    "start_time": "2021-12-05T12:36:48.189Z"
   },
   {
    "duration": 56,
    "start_time": "2021-12-05T12:36:48.253Z"
   },
   {
    "duration": 50,
    "start_time": "2021-12-05T12:36:48.311Z"
   },
   {
    "duration": 13,
    "start_time": "2021-12-05T12:36:48.382Z"
   },
   {
    "duration": 38,
    "start_time": "2021-12-05T12:36:48.397Z"
   },
   {
    "duration": 11,
    "start_time": "2021-12-05T12:36:48.437Z"
   },
   {
    "duration": 7,
    "start_time": "2021-12-05T12:36:48.482Z"
   },
   {
    "duration": 14,
    "start_time": "2021-12-05T12:36:48.491Z"
   },
   {
    "duration": 18,
    "start_time": "2021-12-05T12:36:48.507Z"
   },
   {
    "duration": 5,
    "start_time": "2021-12-05T12:36:48.527Z"
   },
   {
    "duration": 51,
    "start_time": "2021-12-05T12:36:48.535Z"
   },
   {
    "duration": 22,
    "start_time": "2021-12-05T12:36:48.590Z"
   },
   {
    "duration": 14,
    "start_time": "2021-12-05T12:36:48.615Z"
   },
   {
    "duration": 8,
    "start_time": "2021-12-05T12:36:48.632Z"
   },
   {
    "duration": 16,
    "start_time": "2021-12-05T12:36:48.682Z"
   },
   {
    "duration": 18,
    "start_time": "2021-12-05T12:36:48.700Z"
   },
   {
    "duration": 14,
    "start_time": "2021-12-05T12:36:48.721Z"
   },
   {
    "duration": 53,
    "start_time": "2021-12-05T12:36:48.737Z"
   },
   {
    "duration": 13,
    "start_time": "2021-12-05T12:36:48.792Z"
   },
   {
    "duration": 11,
    "start_time": "2021-12-05T12:36:48.807Z"
   },
   {
    "duration": 13,
    "start_time": "2021-12-05T12:36:48.821Z"
   },
   {
    "duration": 65,
    "start_time": "2021-12-05T12:36:48.837Z"
   },
   {
    "duration": 11,
    "start_time": "2021-12-05T12:36:48.905Z"
   },
   {
    "duration": 146,
    "start_time": "2021-12-05T12:36:48.919Z"
   },
   {
    "duration": 31,
    "start_time": "2021-12-05T12:36:49.067Z"
   },
   {
    "duration": 31,
    "start_time": "2021-12-05T12:36:49.100Z"
   },
   {
    "duration": 11,
    "start_time": "2021-12-05T12:36:49.133Z"
   },
   {
    "duration": 45,
    "start_time": "2021-12-05T12:36:49.146Z"
   },
   {
    "duration": 13,
    "start_time": "2021-12-05T12:36:49.194Z"
   },
   {
    "duration": 14,
    "start_time": "2021-12-05T12:36:49.210Z"
   },
   {
    "duration": 58,
    "start_time": "2021-12-05T12:36:49.226Z"
   },
   {
    "duration": 229,
    "start_time": "2021-12-05T12:36:49.294Z"
   },
   {
    "duration": 236,
    "start_time": "2021-12-05T12:36:49.528Z"
   },
   {
    "duration": 334,
    "start_time": "2021-12-05T12:36:49.767Z"
   },
   {
    "duration": 381,
    "start_time": "2021-12-05T12:36:50.104Z"
   },
   {
    "duration": 620,
    "start_time": "2021-12-05T12:36:50.489Z"
   },
   {
    "duration": 822,
    "start_time": "2021-12-05T12:36:51.111Z"
   },
   {
    "duration": -961,
    "start_time": "2021-12-05T12:36:52.897Z"
   },
   {
    "duration": -973,
    "start_time": "2021-12-05T12:36:52.910Z"
   },
   {
    "duration": -978,
    "start_time": "2021-12-05T12:36:52.917Z"
   },
   {
    "duration": -983,
    "start_time": "2021-12-05T12:36:52.924Z"
   },
   {
    "duration": -988,
    "start_time": "2021-12-05T12:36:52.931Z"
   },
   {
    "duration": -994,
    "start_time": "2021-12-05T12:36:52.938Z"
   },
   {
    "duration": -998,
    "start_time": "2021-12-05T12:36:52.945Z"
   },
   {
    "duration": -1004,
    "start_time": "2021-12-05T12:36:52.952Z"
   },
   {
    "duration": -1017,
    "start_time": "2021-12-05T12:36:52.967Z"
   },
   {
    "duration": -1025,
    "start_time": "2021-12-05T12:36:52.976Z"
   },
   {
    "duration": -1031,
    "start_time": "2021-12-05T12:36:52.984Z"
   },
   {
    "duration": -1038,
    "start_time": "2021-12-05T12:36:52.992Z"
   },
   {
    "duration": -1044,
    "start_time": "2021-12-05T12:36:53.000Z"
   },
   {
    "duration": -1052,
    "start_time": "2021-12-05T12:36:53.009Z"
   },
   {
    "duration": -1058,
    "start_time": "2021-12-05T12:36:53.017Z"
   },
   {
    "duration": -1066,
    "start_time": "2021-12-05T12:36:53.026Z"
   },
   {
    "duration": -1071,
    "start_time": "2021-12-05T12:36:53.033Z"
   },
   {
    "duration": -1078,
    "start_time": "2021-12-05T12:36:53.041Z"
   },
   {
    "duration": -1083,
    "start_time": "2021-12-05T12:36:53.048Z"
   },
   {
    "duration": -1090,
    "start_time": "2021-12-05T12:36:53.056Z"
   },
   {
    "duration": -1096,
    "start_time": "2021-12-05T12:36:53.063Z"
   },
   {
    "duration": -1112,
    "start_time": "2021-12-05T12:36:53.081Z"
   },
   {
    "duration": -1108,
    "start_time": "2021-12-05T12:36:53.089Z"
   },
   {
    "duration": -1115,
    "start_time": "2021-12-05T12:36:53.098Z"
   },
   {
    "duration": -1121,
    "start_time": "2021-12-05T12:36:53.105Z"
   },
   {
    "duration": 174,
    "start_time": "2021-12-05T12:37:54.621Z"
   },
   {
    "duration": 25,
    "start_time": "2021-12-05T12:40:53.199Z"
   },
   {
    "duration": 9,
    "start_time": "2021-12-05T12:40:53.862Z"
   },
   {
    "duration": 1616,
    "start_time": "2022-05-09T09:54:09.964Z"
   },
   {
    "duration": 4278,
    "start_time": "2022-05-09T09:54:11.583Z"
   },
   {
    "duration": 755,
    "start_time": "2022-05-09T09:54:15.863Z"
   },
   {
    "duration": 31,
    "start_time": "2022-05-09T09:54:16.622Z"
   },
   {
    "duration": 7,
    "start_time": "2022-05-09T09:54:16.656Z"
   },
   {
    "duration": 16,
    "start_time": "2022-05-09T09:54:16.666Z"
   },
   {
    "duration": 6,
    "start_time": "2022-05-09T09:54:16.684Z"
   },
   {
    "duration": 67,
    "start_time": "2022-05-09T09:54:16.693Z"
   },
   {
    "duration": 16,
    "start_time": "2022-05-09T09:54:16.763Z"
   },
   {
    "duration": 14,
    "start_time": "2022-05-09T09:54:16.783Z"
   },
   {
    "duration": 66,
    "start_time": "2022-05-09T09:54:16.800Z"
   },
   {
    "duration": 85,
    "start_time": "2022-05-09T09:54:16.868Z"
   },
   {
    "duration": 35,
    "start_time": "2022-05-09T09:54:16.956Z"
   },
   {
    "duration": 25,
    "start_time": "2022-05-09T09:54:16.993Z"
   },
   {
    "duration": 8,
    "start_time": "2022-05-09T09:54:17.052Z"
   },
   {
    "duration": 16,
    "start_time": "2022-05-09T09:54:17.063Z"
   },
   {
    "duration": 23,
    "start_time": "2022-05-09T09:54:17.081Z"
   },
   {
    "duration": 46,
    "start_time": "2022-05-09T09:54:17.106Z"
   },
   {
    "duration": 18,
    "start_time": "2022-05-09T09:54:17.155Z"
   },
   {
    "duration": 23,
    "start_time": "2022-05-09T09:54:17.176Z"
   },
   {
    "duration": 7,
    "start_time": "2022-05-09T09:54:17.203Z"
   },
   {
    "duration": 50,
    "start_time": "2022-05-09T09:54:17.213Z"
   },
   {
    "duration": 33,
    "start_time": "2022-05-09T09:54:17.265Z"
   },
   {
    "duration": 16,
    "start_time": "2022-05-09T09:54:17.301Z"
   },
   {
    "duration": 39,
    "start_time": "2022-05-09T09:54:17.320Z"
   },
   {
    "duration": 5,
    "start_time": "2022-05-09T09:54:17.363Z"
   },
   {
    "duration": 31,
    "start_time": "2022-05-09T09:54:17.372Z"
   },
   {
    "duration": 17,
    "start_time": "2022-05-09T09:54:17.410Z"
   },
   {
    "duration": 25,
    "start_time": "2022-05-09T09:54:17.430Z"
   },
   {
    "duration": 27,
    "start_time": "2022-05-09T09:54:17.458Z"
   },
   {
    "duration": 31,
    "start_time": "2022-05-09T09:54:17.488Z"
   },
   {
    "duration": 12,
    "start_time": "2022-05-09T09:54:17.522Z"
   },
   {
    "duration": 11,
    "start_time": "2022-05-09T09:54:17.552Z"
   },
   {
    "duration": 11,
    "start_time": "2022-05-09T09:54:17.565Z"
   },
   {
    "duration": 14,
    "start_time": "2022-05-09T09:54:17.579Z"
   },
   {
    "duration": 58,
    "start_time": "2022-05-09T09:54:17.595Z"
   },
   {
    "duration": 132,
    "start_time": "2022-05-09T09:54:17.656Z"
   },
   {
    "duration": 94,
    "start_time": "2022-05-09T09:54:17.792Z"
   },
   {
    "duration": 78,
    "start_time": "2022-05-09T09:54:17.889Z"
   },
   {
    "duration": 17,
    "start_time": "2022-05-09T09:54:17.970Z"
   },
   {
    "duration": 42,
    "start_time": "2022-05-09T09:54:17.990Z"
   },
   {
    "duration": 15,
    "start_time": "2022-05-09T09:54:18.051Z"
   },
   {
    "duration": 5,
    "start_time": "2022-05-09T09:54:18.069Z"
   },
   {
    "duration": 13,
    "start_time": "2022-05-09T09:54:18.076Z"
   },
   {
    "duration": 20,
    "start_time": "2022-05-09T09:54:18.091Z"
   },
   {
    "duration": 41,
    "start_time": "2022-05-09T09:54:18.113Z"
   },
   {
    "duration": 15,
    "start_time": "2022-05-09T09:54:18.157Z"
   },
   {
    "duration": 19,
    "start_time": "2022-05-09T09:54:18.175Z"
   },
   {
    "duration": 15,
    "start_time": "2022-05-09T09:54:18.197Z"
   },
   {
    "duration": 8,
    "start_time": "2022-05-09T09:54:18.253Z"
   },
   {
    "duration": 21,
    "start_time": "2022-05-09T09:54:18.264Z"
   },
   {
    "duration": 16,
    "start_time": "2022-05-09T09:54:18.288Z"
   },
   {
    "duration": 14,
    "start_time": "2022-05-09T09:54:18.307Z"
   },
   {
    "duration": 12,
    "start_time": "2022-05-09T09:54:18.352Z"
   },
   {
    "duration": 16,
    "start_time": "2022-05-09T09:54:18.366Z"
   },
   {
    "duration": 16,
    "start_time": "2022-05-09T09:54:18.385Z"
   },
   {
    "duration": 52,
    "start_time": "2022-05-09T09:54:18.403Z"
   },
   {
    "duration": 20,
    "start_time": "2022-05-09T09:54:18.457Z"
   },
   {
    "duration": 13,
    "start_time": "2022-05-09T09:54:18.480Z"
   },
   {
    "duration": 139,
    "start_time": "2022-05-09T09:54:18.496Z"
   },
   {
    "duration": 45,
    "start_time": "2022-05-09T09:54:18.637Z"
   },
   {
    "duration": 42,
    "start_time": "2022-05-09T09:54:18.685Z"
   },
   {
    "duration": 35,
    "start_time": "2022-05-09T09:54:18.730Z"
   },
   {
    "duration": 16,
    "start_time": "2022-05-09T09:54:18.768Z"
   },
   {
    "duration": 11,
    "start_time": "2022-05-09T09:54:18.786Z"
   },
   {
    "duration": 11,
    "start_time": "2022-05-09T09:54:18.799Z"
   },
   {
    "duration": 55,
    "start_time": "2022-05-09T09:54:18.812Z"
   },
   {
    "duration": 193,
    "start_time": "2022-05-09T09:54:18.870Z"
   },
   {
    "duration": 263,
    "start_time": "2022-05-09T09:54:19.065Z"
   },
   {
    "duration": 389,
    "start_time": "2022-05-09T09:54:19.331Z"
   },
   {
    "duration": 320,
    "start_time": "2022-05-09T09:54:19.723Z"
   },
   {
    "duration": 559,
    "start_time": "2022-05-09T09:54:20.053Z"
   },
   {
    "duration": 485,
    "start_time": "2022-05-09T09:54:20.614Z"
   },
   {
    "duration": 305,
    "start_time": "2022-05-09T09:54:21.102Z"
   },
   {
    "duration": 413,
    "start_time": "2022-05-09T09:54:21.410Z"
   },
   {
    "duration": 618,
    "start_time": "2022-05-09T09:54:21.826Z"
   },
   {
    "duration": 245,
    "start_time": "2022-05-09T09:54:22.451Z"
   },
   {
    "duration": 260,
    "start_time": "2022-05-09T09:54:22.699Z"
   },
   {
    "duration": 440,
    "start_time": "2022-05-09T09:54:22.962Z"
   },
   {
    "duration": 352,
    "start_time": "2022-05-09T09:54:23.405Z"
   },
   {
    "duration": 300,
    "start_time": "2022-05-09T09:54:23.760Z"
   },
   {
    "duration": 228,
    "start_time": "2022-05-09T09:54:24.076Z"
   },
   {
    "duration": 260,
    "start_time": "2022-05-09T09:54:24.308Z"
   },
   {
    "duration": 564,
    "start_time": "2022-05-09T09:54:24.572Z"
   },
   {
    "duration": 235,
    "start_time": "2022-05-09T09:54:25.138Z"
   },
   {
    "duration": 227,
    "start_time": "2022-05-09T09:54:25.375Z"
   },
   {
    "duration": 402,
    "start_time": "2022-05-09T09:54:25.604Z"
   },
   {
    "duration": 531,
    "start_time": "2022-05-09T09:54:26.009Z"
   },
   {
    "duration": 14,
    "start_time": "2022-05-09T09:54:26.543Z"
   },
   {
    "duration": 24,
    "start_time": "2022-05-09T09:54:26.560Z"
   },
   {
    "duration": 19,
    "start_time": "2022-05-09T09:54:26.586Z"
   },
   {
    "duration": 11,
    "start_time": "2022-05-09T09:54:26.607Z"
   },
   {
    "duration": 36,
    "start_time": "2022-05-09T09:54:26.621Z"
   },
   {
    "duration": 54,
    "start_time": "2022-05-09T09:54:26.660Z"
   },
   {
    "duration": 12,
    "start_time": "2022-05-09T09:54:26.717Z"
   },
   {
    "duration": 23,
    "start_time": "2022-05-09T09:54:26.732Z"
   },
   {
    "duration": 18,
    "start_time": "2022-05-09T09:54:26.758Z"
   },
   {
    "duration": 9,
    "start_time": "2022-05-09T09:54:26.779Z"
   }
  ],
  "kernelspec": {
   "display_name": "Python 3 (ipykernel)",
   "language": "python",
   "name": "python3"
  },
  "language_info": {
   "codemirror_mode": {
    "name": "ipython",
    "version": 3
   },
   "file_extension": ".py",
   "mimetype": "text/x-python",
   "name": "python",
   "nbconvert_exporter": "python",
   "pygments_lexer": "ipython3",
   "version": "3.9.12"
  },
  "toc": {
   "base_numbering": 1,
   "nav_menu": {},
   "number_sections": true,
   "sideBar": true,
   "skip_h1_title": true,
   "title_cell": "Table of Contents",
   "title_sidebar": "Contents",
   "toc_cell": false,
   "toc_position": {},
   "toc_section_display": true,
   "toc_window_display": false
  }
 },
 "nbformat": 4,
 "nbformat_minor": 2
}
